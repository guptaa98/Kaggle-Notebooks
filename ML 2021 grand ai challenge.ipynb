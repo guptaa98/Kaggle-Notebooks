{
 "cells": [
  {
   "cell_type": "code",
   "execution_count": 1,
   "metadata": {},
   "outputs": [],
   "source": [
    "%matplotlib inline\n",
    "#data manipulation\n",
    "import numpy as np\n",
    "import pandas as pd\n",
    "#python imports\n",
    "import math,time,random,datetime\n",
    "#data visualisation\n",
    "import matplotlib.pyplot as plt\n",
    "import missingno\n",
    "import seaborn as sns\n",
    "plt.style.use('seaborn-whitegrid')\n",
    "#preprocessing\n",
    "from sklearn.preprocessing import OneHotEncoder, LabelEncoder, label_binarize\n",
    "#machine learning\n",
    "from sklearn.model_selection import train_test_split\n",
    "from sklearn import model_selection,tree,preprocessing,metrics\n",
    "#from sklearn.ensemble import GradientBoostingClassifier\n",
    "import warnings\n",
    "warnings.filterwarnings(\"ignore\")"
   ]
  },
  {
   "cell_type": "code",
   "execution_count": 2,
   "metadata": {},
   "outputs": [],
   "source": [
    "train=pd.read_csv('new_train.csv')\n",
    "test=pd.read_csv('new_test.csv')\n",
    "sample_submission=pd.read_csv('new_sample_submission.csv')"
   ]
  },
  {
   "cell_type": "code",
   "execution_count": 3,
   "metadata": {},
   "outputs": [
    {
     "data": {
      "text/html": [
       "<div>\n",
       "<style scoped>\n",
       "    .dataframe tbody tr th:only-of-type {\n",
       "        vertical-align: middle;\n",
       "    }\n",
       "\n",
       "    .dataframe tbody tr th {\n",
       "        vertical-align: top;\n",
       "    }\n",
       "\n",
       "    .dataframe thead th {\n",
       "        text-align: right;\n",
       "    }\n",
       "</style>\n",
       "<table border=\"1\" class=\"dataframe\">\n",
       "  <thead>\n",
       "    <tr style=\"text-align: right;\">\n",
       "      <th></th>\n",
       "      <th>Date</th>\n",
       "      <th>Open-Stock-1</th>\n",
       "      <th>High-Stock-1</th>\n",
       "      <th>Low-Stock-1</th>\n",
       "      <th>Close-Stock-1</th>\n",
       "      <th>VWAP-Stock-1</th>\n",
       "      <th>Volume-Stock-1</th>\n",
       "      <th>Turnover-Stock-1</th>\n",
       "      <th>Open-Stock-2</th>\n",
       "      <th>High-Stock-2</th>\n",
       "      <th>...</th>\n",
       "      <th>VWAP-Stock-4</th>\n",
       "      <th>Volume-Stock-4</th>\n",
       "      <th>Turnover-Stock-4</th>\n",
       "      <th>Open-Stock-5</th>\n",
       "      <th>High-Stock-5</th>\n",
       "      <th>Low-Stock-5</th>\n",
       "      <th>Close-Stock-5</th>\n",
       "      <th>VWAP-Stock-5</th>\n",
       "      <th>Volume-Stock-5</th>\n",
       "      <th>Turnover-Stock-5</th>\n",
       "    </tr>\n",
       "  </thead>\n",
       "  <tbody>\n",
       "    <tr>\n",
       "      <th>0</th>\n",
       "      <td>2010-06-01</td>\n",
       "      <td>1889.7</td>\n",
       "      <td>1890.00</td>\n",
       "      <td>1838.00</td>\n",
       "      <td>1855.10</td>\n",
       "      <td>1855.75</td>\n",
       "      <td>568273</td>\n",
       "      <td>105457457545000</td>\n",
       "      <td>285.40</td>\n",
       "      <td>285.95</td>\n",
       "      <td>...</td>\n",
       "      <td>844.44</td>\n",
       "      <td>3878011</td>\n",
       "      <td>327474904340000</td>\n",
       "      <td>1235.0</td>\n",
       "      <td>1238.00</td>\n",
       "      <td>1177.0</td>\n",
       "      <td>1181.70</td>\n",
       "      <td>1197.29</td>\n",
       "      <td>1786082</td>\n",
       "      <td>213845404410000</td>\n",
       "    </tr>\n",
       "    <tr>\n",
       "      <th>1</th>\n",
       "      <td>2010-06-02</td>\n",
       "      <td>1848.0</td>\n",
       "      <td>1862.75</td>\n",
       "      <td>1828.00</td>\n",
       "      <td>1853.05</td>\n",
       "      <td>1842.82</td>\n",
       "      <td>945167</td>\n",
       "      <td>174177161135000</td>\n",
       "      <td>284.00</td>\n",
       "      <td>284.80</td>\n",
       "      <td>...</td>\n",
       "      <td>838.31</td>\n",
       "      <td>3320996</td>\n",
       "      <td>278403743240000</td>\n",
       "      <td>1195.0</td>\n",
       "      <td>1206.95</td>\n",
       "      <td>1168.5</td>\n",
       "      <td>1201.15</td>\n",
       "      <td>1189.87</td>\n",
       "      <td>1307410</td>\n",
       "      <td>155564994855000</td>\n",
       "    </tr>\n",
       "    <tr>\n",
       "      <th>2</th>\n",
       "      <td>2010-06-03</td>\n",
       "      <td>1864.1</td>\n",
       "      <td>1910.00</td>\n",
       "      <td>1864.10</td>\n",
       "      <td>1905.60</td>\n",
       "      <td>1893.91</td>\n",
       "      <td>679689</td>\n",
       "      <td>128727119355000</td>\n",
       "      <td>283.00</td>\n",
       "      <td>286.85</td>\n",
       "      <td>...</td>\n",
       "      <td>853.51</td>\n",
       "      <td>2494522</td>\n",
       "      <td>212910342645000</td>\n",
       "      <td>1211.0</td>\n",
       "      <td>1248.00</td>\n",
       "      <td>1211.0</td>\n",
       "      <td>1242.30</td>\n",
       "      <td>1231.63</td>\n",
       "      <td>1482919</td>\n",
       "      <td>182640434320000</td>\n",
       "    </tr>\n",
       "    <tr>\n",
       "      <th>3</th>\n",
       "      <td>2010-06-04</td>\n",
       "      <td>1906.0</td>\n",
       "      <td>1909.80</td>\n",
       "      <td>1880.10</td>\n",
       "      <td>1885.70</td>\n",
       "      <td>1889.21</td>\n",
       "      <td>509435</td>\n",
       "      <td>96242800140000</td>\n",
       "      <td>288.85</td>\n",
       "      <td>291.80</td>\n",
       "      <td>...</td>\n",
       "      <td>862.85</td>\n",
       "      <td>2963920</td>\n",
       "      <td>255740999120000</td>\n",
       "      <td>1240.0</td>\n",
       "      <td>1258.00</td>\n",
       "      <td>1240.0</td>\n",
       "      <td>1245.45</td>\n",
       "      <td>1249.72</td>\n",
       "      <td>1454459</td>\n",
       "      <td>181767075850000</td>\n",
       "    </tr>\n",
       "    <tr>\n",
       "      <th>4</th>\n",
       "      <td>2010-06-07</td>\n",
       "      <td>1867.0</td>\n",
       "      <td>1894.85</td>\n",
       "      <td>1808.35</td>\n",
       "      <td>1876.65</td>\n",
       "      <td>1873.32</td>\n",
       "      <td>961913</td>\n",
       "      <td>180196832650000</td>\n",
       "      <td>285.00</td>\n",
       "      <td>289.10</td>\n",
       "      <td>...</td>\n",
       "      <td>839.89</td>\n",
       "      <td>3471483</td>\n",
       "      <td>291567400640000</td>\n",
       "      <td>1218.6</td>\n",
       "      <td>1225.00</td>\n",
       "      <td>1196.0</td>\n",
       "      <td>1214.80</td>\n",
       "      <td>1209.27</td>\n",
       "      <td>1424594</td>\n",
       "      <td>172272511430000</td>\n",
       "    </tr>\n",
       "  </tbody>\n",
       "</table>\n",
       "<p>5 rows × 36 columns</p>\n",
       "</div>"
      ],
      "text/plain": [
       "         Date  Open-Stock-1  High-Stock-1  Low-Stock-1  Close-Stock-1  \\\n",
       "0  2010-06-01        1889.7       1890.00      1838.00        1855.10   \n",
       "1  2010-06-02        1848.0       1862.75      1828.00        1853.05   \n",
       "2  2010-06-03        1864.1       1910.00      1864.10        1905.60   \n",
       "3  2010-06-04        1906.0       1909.80      1880.10        1885.70   \n",
       "4  2010-06-07        1867.0       1894.85      1808.35        1876.65   \n",
       "\n",
       "   VWAP-Stock-1  Volume-Stock-1  Turnover-Stock-1  Open-Stock-2  High-Stock-2  \\\n",
       "0       1855.75          568273   105457457545000        285.40        285.95   \n",
       "1       1842.82          945167   174177161135000        284.00        284.80   \n",
       "2       1893.91          679689   128727119355000        283.00        286.85   \n",
       "3       1889.21          509435    96242800140000        288.85        291.80   \n",
       "4       1873.32          961913   180196832650000        285.00        289.10   \n",
       "\n",
       "   ...  VWAP-Stock-4  Volume-Stock-4  Turnover-Stock-4  Open-Stock-5  \\\n",
       "0  ...        844.44         3878011   327474904340000        1235.0   \n",
       "1  ...        838.31         3320996   278403743240000        1195.0   \n",
       "2  ...        853.51         2494522   212910342645000        1211.0   \n",
       "3  ...        862.85         2963920   255740999120000        1240.0   \n",
       "4  ...        839.89         3471483   291567400640000        1218.6   \n",
       "\n",
       "   High-Stock-5  Low-Stock-5  Close-Stock-5  VWAP-Stock-5  Volume-Stock-5  \\\n",
       "0       1238.00       1177.0        1181.70       1197.29         1786082   \n",
       "1       1206.95       1168.5        1201.15       1189.87         1307410   \n",
       "2       1248.00       1211.0        1242.30       1231.63         1482919   \n",
       "3       1258.00       1240.0        1245.45       1249.72         1454459   \n",
       "4       1225.00       1196.0        1214.80       1209.27         1424594   \n",
       "\n",
       "   Turnover-Stock-5  \n",
       "0   213845404410000  \n",
       "1   155564994855000  \n",
       "2   182640434320000  \n",
       "3   181767075850000  \n",
       "4   172272511430000  \n",
       "\n",
       "[5 rows x 36 columns]"
      ]
     },
     "execution_count": 3,
     "metadata": {},
     "output_type": "execute_result"
    }
   ],
   "source": [
    "train.head()"
   ]
  },
  {
   "cell_type": "code",
   "execution_count": 4,
   "metadata": {},
   "outputs": [
    {
     "data": {
      "text/html": [
       "<div>\n",
       "<style scoped>\n",
       "    .dataframe tbody tr th:only-of-type {\n",
       "        vertical-align: middle;\n",
       "    }\n",
       "\n",
       "    .dataframe tbody tr th {\n",
       "        vertical-align: top;\n",
       "    }\n",
       "\n",
       "    .dataframe thead th {\n",
       "        text-align: right;\n",
       "    }\n",
       "</style>\n",
       "<table border=\"1\" class=\"dataframe\">\n",
       "  <thead>\n",
       "    <tr style=\"text-align: right;\">\n",
       "      <th></th>\n",
       "      <th>Date</th>\n",
       "      <th>Open-Stock-1</th>\n",
       "      <th>High-Stock-1</th>\n",
       "      <th>Low-Stock-1</th>\n",
       "      <th>VWAP-Stock-1</th>\n",
       "      <th>Volume-Stock-1</th>\n",
       "      <th>Turnover-Stock-1</th>\n",
       "      <th>Open-Stock-2</th>\n",
       "      <th>High-Stock-2</th>\n",
       "      <th>Low-Stock-2</th>\n",
       "      <th>...</th>\n",
       "      <th>Low-Stock-4</th>\n",
       "      <th>VWAP-Stock-4</th>\n",
       "      <th>Volume-Stock-4</th>\n",
       "      <th>Turnover-Stock-4</th>\n",
       "      <th>Open-Stock-5</th>\n",
       "      <th>High-Stock-5</th>\n",
       "      <th>Low-Stock-5</th>\n",
       "      <th>VWAP-Stock-5</th>\n",
       "      <th>Volume-Stock-5</th>\n",
       "      <th>Turnover-Stock-5</th>\n",
       "    </tr>\n",
       "  </thead>\n",
       "  <tbody>\n",
       "    <tr>\n",
       "      <th>0</th>\n",
       "      <td>2011-08-04</td>\n",
       "      <td>484.1</td>\n",
       "      <td>488.90</td>\n",
       "      <td>475.00</td>\n",
       "      <td>481.00</td>\n",
       "      <td>1829606</td>\n",
       "      <td>88003633160000</td>\n",
       "      <td>204.90</td>\n",
       "      <td>206.75</td>\n",
       "      <td>199.20</td>\n",
       "      <td>...</td>\n",
       "      <td>990.00</td>\n",
       "      <td>1003.31</td>\n",
       "      <td>2716435</td>\n",
       "      <td>272542181190000</td>\n",
       "      <td>1303.6</td>\n",
       "      <td>1312.8</td>\n",
       "      <td>1281.00</td>\n",
       "      <td>1297.04</td>\n",
       "      <td>1569675</td>\n",
       "      <td>203593328285000</td>\n",
       "    </tr>\n",
       "    <tr>\n",
       "      <th>1</th>\n",
       "      <td>2011-08-05</td>\n",
       "      <td>465.0</td>\n",
       "      <td>475.80</td>\n",
       "      <td>457.10</td>\n",
       "      <td>469.56</td>\n",
       "      <td>3156094</td>\n",
       "      <td>148196817355000</td>\n",
       "      <td>195.00</td>\n",
       "      <td>198.00</td>\n",
       "      <td>190.50</td>\n",
       "      <td>...</td>\n",
       "      <td>950.00</td>\n",
       "      <td>961.50</td>\n",
       "      <td>4644498</td>\n",
       "      <td>446567961345000</td>\n",
       "      <td>1245.0</td>\n",
       "      <td>1252.5</td>\n",
       "      <td>1200.00</td>\n",
       "      <td>1229.09</td>\n",
       "      <td>3125692</td>\n",
       "      <td>384176649890000</td>\n",
       "    </tr>\n",
       "    <tr>\n",
       "      <th>2</th>\n",
       "      <td>2011-08-08</td>\n",
       "      <td>463.0</td>\n",
       "      <td>480.00</td>\n",
       "      <td>458.05</td>\n",
       "      <td>465.04</td>\n",
       "      <td>4308373</td>\n",
       "      <td>200357861965000</td>\n",
       "      <td>193.90</td>\n",
       "      <td>197.80</td>\n",
       "      <td>189.65</td>\n",
       "      <td>...</td>\n",
       "      <td>933.40</td>\n",
       "      <td>953.24</td>\n",
       "      <td>3450619</td>\n",
       "      <td>328925252905000</td>\n",
       "      <td>1205.2</td>\n",
       "      <td>1265.8</td>\n",
       "      <td>1200.55</td>\n",
       "      <td>1232.93</td>\n",
       "      <td>1660178</td>\n",
       "      <td>204687918340000</td>\n",
       "    </tr>\n",
       "    <tr>\n",
       "      <th>3</th>\n",
       "      <td>2011-08-09</td>\n",
       "      <td>450.0</td>\n",
       "      <td>473.55</td>\n",
       "      <td>449.85</td>\n",
       "      <td>460.88</td>\n",
       "      <td>4490924</td>\n",
       "      <td>206978212685000</td>\n",
       "      <td>190.25</td>\n",
       "      <td>202.10</td>\n",
       "      <td>190.10</td>\n",
       "      <td>...</td>\n",
       "      <td>910.45</td>\n",
       "      <td>938.80</td>\n",
       "      <td>5346085</td>\n",
       "      <td>501890604795000</td>\n",
       "      <td>1190.5</td>\n",
       "      <td>1238.3</td>\n",
       "      <td>1180.90</td>\n",
       "      <td>1206.06</td>\n",
       "      <td>3618186</td>\n",
       "      <td>436376441205000</td>\n",
       "    </tr>\n",
       "    <tr>\n",
       "      <th>4</th>\n",
       "      <td>2011-08-10</td>\n",
       "      <td>494.8</td>\n",
       "      <td>494.80</td>\n",
       "      <td>473.40</td>\n",
       "      <td>478.06</td>\n",
       "      <td>3267226</td>\n",
       "      <td>156192368225000</td>\n",
       "      <td>202.00</td>\n",
       "      <td>202.85</td>\n",
       "      <td>196.00</td>\n",
       "      <td>...</td>\n",
       "      <td>957.70</td>\n",
       "      <td>964.75</td>\n",
       "      <td>3379659</td>\n",
       "      <td>326053305165000</td>\n",
       "      <td>1242.0</td>\n",
       "      <td>1253.7</td>\n",
       "      <td>1225.30</td>\n",
       "      <td>1242.10</td>\n",
       "      <td>1903396</td>\n",
       "      <td>236421421150000</td>\n",
       "    </tr>\n",
       "  </tbody>\n",
       "</table>\n",
       "<p>5 rows × 31 columns</p>\n",
       "</div>"
      ],
      "text/plain": [
       "         Date  Open-Stock-1  High-Stock-1  Low-Stock-1  VWAP-Stock-1  \\\n",
       "0  2011-08-04         484.1        488.90       475.00        481.00   \n",
       "1  2011-08-05         465.0        475.80       457.10        469.56   \n",
       "2  2011-08-08         463.0        480.00       458.05        465.04   \n",
       "3  2011-08-09         450.0        473.55       449.85        460.88   \n",
       "4  2011-08-10         494.8        494.80       473.40        478.06   \n",
       "\n",
       "   Volume-Stock-1  Turnover-Stock-1  Open-Stock-2  High-Stock-2  Low-Stock-2  \\\n",
       "0         1829606    88003633160000        204.90        206.75       199.20   \n",
       "1         3156094   148196817355000        195.00        198.00       190.50   \n",
       "2         4308373   200357861965000        193.90        197.80       189.65   \n",
       "3         4490924   206978212685000        190.25        202.10       190.10   \n",
       "4         3267226   156192368225000        202.00        202.85       196.00   \n",
       "\n",
       "   ...  Low-Stock-4  VWAP-Stock-4  Volume-Stock-4  Turnover-Stock-4  \\\n",
       "0  ...       990.00       1003.31         2716435   272542181190000   \n",
       "1  ...       950.00        961.50         4644498   446567961345000   \n",
       "2  ...       933.40        953.24         3450619   328925252905000   \n",
       "3  ...       910.45        938.80         5346085   501890604795000   \n",
       "4  ...       957.70        964.75         3379659   326053305165000   \n",
       "\n",
       "   Open-Stock-5  High-Stock-5  Low-Stock-5  VWAP-Stock-5  Volume-Stock-5  \\\n",
       "0        1303.6        1312.8      1281.00       1297.04         1569675   \n",
       "1        1245.0        1252.5      1200.00       1229.09         3125692   \n",
       "2        1205.2        1265.8      1200.55       1232.93         1660178   \n",
       "3        1190.5        1238.3      1180.90       1206.06         3618186   \n",
       "4        1242.0        1253.7      1225.30       1242.10         1903396   \n",
       "\n",
       "   Turnover-Stock-5  \n",
       "0   203593328285000  \n",
       "1   384176649890000  \n",
       "2   204687918340000  \n",
       "3   436376441205000  \n",
       "4   236421421150000  \n",
       "\n",
       "[5 rows x 31 columns]"
      ]
     },
     "execution_count": 4,
     "metadata": {},
     "output_type": "execute_result"
    }
   ],
   "source": [
    "test.head()"
   ]
  },
  {
   "cell_type": "code",
   "execution_count": 5,
   "metadata": {},
   "outputs": [
    {
     "data": {
      "text/html": [
       "<div>\n",
       "<style scoped>\n",
       "    .dataframe tbody tr th:only-of-type {\n",
       "        vertical-align: middle;\n",
       "    }\n",
       "\n",
       "    .dataframe tbody tr th {\n",
       "        vertical-align: top;\n",
       "    }\n",
       "\n",
       "    .dataframe thead th {\n",
       "        text-align: right;\n",
       "    }\n",
       "</style>\n",
       "<table border=\"1\" class=\"dataframe\">\n",
       "  <thead>\n",
       "    <tr style=\"text-align: right;\">\n",
       "      <th></th>\n",
       "      <th>Date</th>\n",
       "      <th>Close-Stock-1</th>\n",
       "      <th>Close-Stock-2</th>\n",
       "      <th>Close-Stock-3</th>\n",
       "      <th>Close-Stock-4</th>\n",
       "      <th>Close-Stock-5</th>\n",
       "    </tr>\n",
       "  </thead>\n",
       "  <tbody>\n",
       "    <tr>\n",
       "      <th>0</th>\n",
       "      <td>2011-08-04</td>\n",
       "      <td>476.45</td>\n",
       "      <td>199.95</td>\n",
       "      <td>3091.65</td>\n",
       "      <td>993.15</td>\n",
       "      <td>1285.95</td>\n",
       "    </tr>\n",
       "    <tr>\n",
       "      <th>1</th>\n",
       "      <td>2011-08-05</td>\n",
       "      <td>473.05</td>\n",
       "      <td>196.40</td>\n",
       "      <td>3058.90</td>\n",
       "      <td>966.50</td>\n",
       "      <td>1242.05</td>\n",
       "    </tr>\n",
       "    <tr>\n",
       "      <th>2</th>\n",
       "      <td>2011-08-08</td>\n",
       "      <td>462.10</td>\n",
       "      <td>195.00</td>\n",
       "      <td>3080.70</td>\n",
       "      <td>950.90</td>\n",
       "      <td>1235.45</td>\n",
       "    </tr>\n",
       "    <tr>\n",
       "      <th>3</th>\n",
       "      <td>2011-08-09</td>\n",
       "      <td>464.45</td>\n",
       "      <td>199.75</td>\n",
       "      <td>3148.00</td>\n",
       "      <td>940.15</td>\n",
       "      <td>1205.20</td>\n",
       "    </tr>\n",
       "    <tr>\n",
       "      <th>4</th>\n",
       "      <td>2011-08-10</td>\n",
       "      <td>479.90</td>\n",
       "      <td>197.10</td>\n",
       "      <td>3154.85</td>\n",
       "      <td>963.70</td>\n",
       "      <td>1250.10</td>\n",
       "    </tr>\n",
       "  </tbody>\n",
       "</table>\n",
       "</div>"
      ],
      "text/plain": [
       "         Date  Close-Stock-1  Close-Stock-2  Close-Stock-3  Close-Stock-4  \\\n",
       "0  2011-08-04         476.45         199.95        3091.65         993.15   \n",
       "1  2011-08-05         473.05         196.40        3058.90         966.50   \n",
       "2  2011-08-08         462.10         195.00        3080.70         950.90   \n",
       "3  2011-08-09         464.45         199.75        3148.00         940.15   \n",
       "4  2011-08-10         479.90         197.10        3154.85         963.70   \n",
       "\n",
       "   Close-Stock-5  \n",
       "0        1285.95  \n",
       "1        1242.05  \n",
       "2        1235.45  \n",
       "3        1205.20  \n",
       "4        1250.10  "
      ]
     },
     "execution_count": 5,
     "metadata": {},
     "output_type": "execute_result"
    }
   ],
   "source": [
    "sample_submission.head()"
   ]
  },
  {
   "cell_type": "code",
   "execution_count": 6,
   "metadata": {},
   "outputs": [
    {
     "data": {
      "text/plain": [
       "Index(['Date', 'Open-Stock-1', 'High-Stock-1', 'Low-Stock-1', 'Close-Stock-1',\n",
       "       'VWAP-Stock-1', 'Volume-Stock-1', 'Turnover-Stock-1', 'Open-Stock-2',\n",
       "       'High-Stock-2', 'Low-Stock-2', 'Close-Stock-2', 'VWAP-Stock-2',\n",
       "       'Volume-Stock-2', 'Turnover-Stock-2', 'Open-Stock-3', 'High-Stock-3',\n",
       "       'Low-Stock-3', 'Close-Stock-3', 'VWAP-Stock-3', 'Volume-Stock-3',\n",
       "       'Turnover-Stock-3', 'Open-Stock-4', 'High-Stock-4', 'Low-Stock-4',\n",
       "       'Close-Stock-4', 'VWAP-Stock-4', 'Volume-Stock-4', 'Turnover-Stock-4',\n",
       "       'Open-Stock-5', 'High-Stock-5', 'Low-Stock-5', 'Close-Stock-5',\n",
       "       'VWAP-Stock-5', 'Volume-Stock-5', 'Turnover-Stock-5'],\n",
       "      dtype='object')"
      ]
     },
     "execution_count": 6,
     "metadata": {},
     "output_type": "execute_result"
    }
   ],
   "source": [
    "train.columns"
   ]
  },
  {
   "cell_type": "code",
   "execution_count": 7,
   "metadata": {
    "scrolled": true
   },
   "outputs": [
    {
     "data": {
      "text/html": [
       "<div>\n",
       "<style scoped>\n",
       "    .dataframe tbody tr th:only-of-type {\n",
       "        vertical-align: middle;\n",
       "    }\n",
       "\n",
       "    .dataframe tbody tr th {\n",
       "        vertical-align: top;\n",
       "    }\n",
       "\n",
       "    .dataframe thead th {\n",
       "        text-align: right;\n",
       "    }\n",
       "</style>\n",
       "<table border=\"1\" class=\"dataframe\">\n",
       "  <thead>\n",
       "    <tr style=\"text-align: right;\">\n",
       "      <th></th>\n",
       "      <th>Open-Stock-1</th>\n",
       "      <th>High-Stock-1</th>\n",
       "      <th>Low-Stock-1</th>\n",
       "      <th>Close-Stock-1</th>\n",
       "      <th>VWAP-Stock-1</th>\n",
       "      <th>Volume-Stock-1</th>\n",
       "      <th>Turnover-Stock-1</th>\n",
       "      <th>Open-Stock-2</th>\n",
       "      <th>High-Stock-2</th>\n",
       "      <th>Low-Stock-2</th>\n",
       "      <th>...</th>\n",
       "      <th>VWAP-Stock-4</th>\n",
       "      <th>Volume-Stock-4</th>\n",
       "      <th>Turnover-Stock-4</th>\n",
       "      <th>Open-Stock-5</th>\n",
       "      <th>High-Stock-5</th>\n",
       "      <th>Low-Stock-5</th>\n",
       "      <th>Close-Stock-5</th>\n",
       "      <th>VWAP-Stock-5</th>\n",
       "      <th>Volume-Stock-5</th>\n",
       "      <th>Turnover-Stock-5</th>\n",
       "    </tr>\n",
       "  </thead>\n",
       "  <tbody>\n",
       "    <tr>\n",
       "      <th>Open-Stock-1</th>\n",
       "      <td>1.000000</td>\n",
       "      <td>0.998657</td>\n",
       "      <td>0.998349</td>\n",
       "      <td>0.996680</td>\n",
       "      <td>0.998020</td>\n",
       "      <td>-0.653797</td>\n",
       "      <td>0.152487</td>\n",
       "      <td>-0.244537</td>\n",
       "      <td>-0.245701</td>\n",
       "      <td>-0.246131</td>\n",
       "      <td>...</td>\n",
       "      <td>0.318391</td>\n",
       "      <td>0.086718</td>\n",
       "      <td>0.143728</td>\n",
       "      <td>0.305526</td>\n",
       "      <td>0.303020</td>\n",
       "      <td>0.286532</td>\n",
       "      <td>0.285655</td>\n",
       "      <td>0.294863</td>\n",
       "      <td>-0.039923</td>\n",
       "      <td>0.002674</td>\n",
       "    </tr>\n",
       "    <tr>\n",
       "      <th>High-Stock-1</th>\n",
       "      <td>0.998657</td>\n",
       "      <td>1.000000</td>\n",
       "      <td>0.998509</td>\n",
       "      <td>0.998663</td>\n",
       "      <td>0.999327</td>\n",
       "      <td>-0.643696</td>\n",
       "      <td>0.172032</td>\n",
       "      <td>-0.249227</td>\n",
       "      <td>-0.249736</td>\n",
       "      <td>-0.250530</td>\n",
       "      <td>...</td>\n",
       "      <td>0.318633</td>\n",
       "      <td>0.093216</td>\n",
       "      <td>0.150420</td>\n",
       "      <td>0.301533</td>\n",
       "      <td>0.302707</td>\n",
       "      <td>0.285265</td>\n",
       "      <td>0.287079</td>\n",
       "      <td>0.294644</td>\n",
       "      <td>-0.039103</td>\n",
       "      <td>0.003380</td>\n",
       "    </tr>\n",
       "    <tr>\n",
       "      <th>Low-Stock-1</th>\n",
       "      <td>0.998349</td>\n",
       "      <td>0.998509</td>\n",
       "      <td>1.000000</td>\n",
       "      <td>0.998852</td>\n",
       "      <td>0.999505</td>\n",
       "      <td>-0.657428</td>\n",
       "      <td>0.148761</td>\n",
       "      <td>-0.237313</td>\n",
       "      <td>-0.238026</td>\n",
       "      <td>-0.238193</td>\n",
       "      <td>...</td>\n",
       "      <td>0.311778</td>\n",
       "      <td>0.073807</td>\n",
       "      <td>0.129791</td>\n",
       "      <td>0.300193</td>\n",
       "      <td>0.298667</td>\n",
       "      <td>0.285815</td>\n",
       "      <td>0.285789</td>\n",
       "      <td>0.292959</td>\n",
       "      <td>-0.058478</td>\n",
       "      <td>-0.016128</td>\n",
       "    </tr>\n",
       "    <tr>\n",
       "      <th>Close-Stock-1</th>\n",
       "      <td>0.996680</td>\n",
       "      <td>0.998663</td>\n",
       "      <td>0.998852</td>\n",
       "      <td>1.000000</td>\n",
       "      <td>0.999487</td>\n",
       "      <td>-0.649227</td>\n",
       "      <td>0.163370</td>\n",
       "      <td>-0.241049</td>\n",
       "      <td>-0.241354</td>\n",
       "      <td>-0.241781</td>\n",
       "      <td>...</td>\n",
       "      <td>0.313433</td>\n",
       "      <td>0.080460</td>\n",
       "      <td>0.136901</td>\n",
       "      <td>0.296611</td>\n",
       "      <td>0.298319</td>\n",
       "      <td>0.284017</td>\n",
       "      <td>0.287596</td>\n",
       "      <td>0.292414</td>\n",
       "      <td>-0.055928</td>\n",
       "      <td>-0.013638</td>\n",
       "    </tr>\n",
       "    <tr>\n",
       "      <th>VWAP-Stock-1</th>\n",
       "      <td>0.998020</td>\n",
       "      <td>0.999327</td>\n",
       "      <td>0.999505</td>\n",
       "      <td>0.999487</td>\n",
       "      <td>1.000000</td>\n",
       "      <td>-0.649718</td>\n",
       "      <td>0.162981</td>\n",
       "      <td>-0.242452</td>\n",
       "      <td>-0.242983</td>\n",
       "      <td>-0.243351</td>\n",
       "      <td>...</td>\n",
       "      <td>0.314008</td>\n",
       "      <td>0.082052</td>\n",
       "      <td>0.138474</td>\n",
       "      <td>0.298097</td>\n",
       "      <td>0.298292</td>\n",
       "      <td>0.283747</td>\n",
       "      <td>0.285191</td>\n",
       "      <td>0.291949</td>\n",
       "      <td>-0.053067</td>\n",
       "      <td>-0.010975</td>\n",
       "    </tr>\n",
       "    <tr>\n",
       "      <th>Volume-Stock-1</th>\n",
       "      <td>-0.653797</td>\n",
       "      <td>-0.643696</td>\n",
       "      <td>-0.657428</td>\n",
       "      <td>-0.649227</td>\n",
       "      <td>-0.649718</td>\n",
       "      <td>1.000000</td>\n",
       "      <td>0.553294</td>\n",
       "      <td>-0.037683</td>\n",
       "      <td>-0.032467</td>\n",
       "      <td>-0.037560</td>\n",
       "      <td>...</td>\n",
       "      <td>0.026280</td>\n",
       "      <td>0.210258</td>\n",
       "      <td>0.212101</td>\n",
       "      <td>-0.057807</td>\n",
       "      <td>-0.030709</td>\n",
       "      <td>-0.050116</td>\n",
       "      <td>-0.036138</td>\n",
       "      <td>-0.039077</td>\n",
       "      <td>0.279705</td>\n",
       "      <td>0.273135</td>\n",
       "    </tr>\n",
       "    <tr>\n",
       "      <th>Turnover-Stock-1</th>\n",
       "      <td>0.152487</td>\n",
       "      <td>0.172032</td>\n",
       "      <td>0.148761</td>\n",
       "      <td>0.163370</td>\n",
       "      <td>0.162981</td>\n",
       "      <td>0.553294</td>\n",
       "      <td>1.000000</td>\n",
       "      <td>-0.188654</td>\n",
       "      <td>-0.183684</td>\n",
       "      <td>-0.191774</td>\n",
       "      <td>...</td>\n",
       "      <td>0.154501</td>\n",
       "      <td>0.470383</td>\n",
       "      <td>0.493271</td>\n",
       "      <td>0.114990</td>\n",
       "      <td>0.154685</td>\n",
       "      <td>0.106732</td>\n",
       "      <td>0.127822</td>\n",
       "      <td>0.132783</td>\n",
       "      <td>0.357536</td>\n",
       "      <td>0.377340</td>\n",
       "    </tr>\n",
       "    <tr>\n",
       "      <th>Open-Stock-2</th>\n",
       "      <td>-0.244537</td>\n",
       "      <td>-0.249227</td>\n",
       "      <td>-0.237313</td>\n",
       "      <td>-0.241049</td>\n",
       "      <td>-0.242452</td>\n",
       "      <td>-0.037683</td>\n",
       "      <td>-0.188654</td>\n",
       "      <td>1.000000</td>\n",
       "      <td>0.998343</td>\n",
       "      <td>0.999048</td>\n",
       "      <td>...</td>\n",
       "      <td>-0.684741</td>\n",
       "      <td>-0.128279</td>\n",
       "      <td>-0.243560</td>\n",
       "      <td>-0.253517</td>\n",
       "      <td>-0.277356</td>\n",
       "      <td>-0.233098</td>\n",
       "      <td>-0.250707</td>\n",
       "      <td>-0.257153</td>\n",
       "      <td>-0.049415</td>\n",
       "      <td>-0.080222</td>\n",
       "    </tr>\n",
       "    <tr>\n",
       "      <th>High-Stock-2</th>\n",
       "      <td>-0.245701</td>\n",
       "      <td>-0.249736</td>\n",
       "      <td>-0.238026</td>\n",
       "      <td>-0.241354</td>\n",
       "      <td>-0.242983</td>\n",
       "      <td>-0.032467</td>\n",
       "      <td>-0.183684</td>\n",
       "      <td>0.998343</td>\n",
       "      <td>1.000000</td>\n",
       "      <td>0.998468</td>\n",
       "      <td>...</td>\n",
       "      <td>-0.687411</td>\n",
       "      <td>-0.122530</td>\n",
       "      <td>-0.238710</td>\n",
       "      <td>-0.257495</td>\n",
       "      <td>-0.278819</td>\n",
       "      <td>-0.235825</td>\n",
       "      <td>-0.251734</td>\n",
       "      <td>-0.258926</td>\n",
       "      <td>-0.046225</td>\n",
       "      <td>-0.077223</td>\n",
       "    </tr>\n",
       "    <tr>\n",
       "      <th>Low-Stock-2</th>\n",
       "      <td>-0.246131</td>\n",
       "      <td>-0.250530</td>\n",
       "      <td>-0.238193</td>\n",
       "      <td>-0.241781</td>\n",
       "      <td>-0.243351</td>\n",
       "      <td>-0.037560</td>\n",
       "      <td>-0.191774</td>\n",
       "      <td>0.999048</td>\n",
       "      <td>0.998468</td>\n",
       "      <td>1.000000</td>\n",
       "      <td>...</td>\n",
       "      <td>-0.684159</td>\n",
       "      <td>-0.133024</td>\n",
       "      <td>-0.248194</td>\n",
       "      <td>-0.256961</td>\n",
       "      <td>-0.279913</td>\n",
       "      <td>-0.234614</td>\n",
       "      <td>-0.251611</td>\n",
       "      <td>-0.258878</td>\n",
       "      <td>-0.053946</td>\n",
       "      <td>-0.084986</td>\n",
       "    </tr>\n",
       "    <tr>\n",
       "      <th>Close-Stock-2</th>\n",
       "      <td>-0.246551</td>\n",
       "      <td>-0.250338</td>\n",
       "      <td>-0.238396</td>\n",
       "      <td>-0.241356</td>\n",
       "      <td>-0.243348</td>\n",
       "      <td>-0.033981</td>\n",
       "      <td>-0.187924</td>\n",
       "      <td>0.997215</td>\n",
       "      <td>0.999354</td>\n",
       "      <td>0.998412</td>\n",
       "      <td>...</td>\n",
       "      <td>-0.685687</td>\n",
       "      <td>-0.125648</td>\n",
       "      <td>-0.241309</td>\n",
       "      <td>-0.257981</td>\n",
       "      <td>-0.278776</td>\n",
       "      <td>-0.234965</td>\n",
       "      <td>-0.249999</td>\n",
       "      <td>-0.258216</td>\n",
       "      <td>-0.050410</td>\n",
       "      <td>-0.081174</td>\n",
       "    </tr>\n",
       "    <tr>\n",
       "      <th>VWAP-Stock-2</th>\n",
       "      <td>-0.246653</td>\n",
       "      <td>-0.250700</td>\n",
       "      <td>-0.238687</td>\n",
       "      <td>-0.242063</td>\n",
       "      <td>-0.243717</td>\n",
       "      <td>-0.034049</td>\n",
       "      <td>-0.187573</td>\n",
       "      <td>0.998130</td>\n",
       "      <td>0.999716</td>\n",
       "      <td>0.998956</td>\n",
       "      <td>...</td>\n",
       "      <td>-0.686410</td>\n",
       "      <td>-0.127828</td>\n",
       "      <td>-0.243536</td>\n",
       "      <td>-0.258437</td>\n",
       "      <td>-0.279938</td>\n",
       "      <td>-0.235775</td>\n",
       "      <td>-0.251848</td>\n",
       "      <td>-0.259305</td>\n",
       "      <td>-0.050066</td>\n",
       "      <td>-0.081204</td>\n",
       "    </tr>\n",
       "    <tr>\n",
       "      <th>Volume-Stock-2</th>\n",
       "      <td>0.041490</td>\n",
       "      <td>0.051313</td>\n",
       "      <td>0.038385</td>\n",
       "      <td>0.044704</td>\n",
       "      <td>0.043996</td>\n",
       "      <td>0.332537</td>\n",
       "      <td>0.448719</td>\n",
       "      <td>-0.333020</td>\n",
       "      <td>-0.314278</td>\n",
       "      <td>-0.336433</td>\n",
       "      <td>...</td>\n",
       "      <td>0.263506</td>\n",
       "      <td>0.381826</td>\n",
       "      <td>0.421458</td>\n",
       "      <td>0.105140</td>\n",
       "      <td>0.141818</td>\n",
       "      <td>0.096479</td>\n",
       "      <td>0.121781</td>\n",
       "      <td>0.119209</td>\n",
       "      <td>0.190502</td>\n",
       "      <td>0.209567</td>\n",
       "    </tr>\n",
       "    <tr>\n",
       "      <th>Turnover-Stock-2</th>\n",
       "      <td>-0.038463</td>\n",
       "      <td>-0.030006</td>\n",
       "      <td>-0.039199</td>\n",
       "      <td>-0.033661</td>\n",
       "      <td>-0.035154</td>\n",
       "      <td>0.367081</td>\n",
       "      <td>0.415956</td>\n",
       "      <td>-0.097899</td>\n",
       "      <td>-0.075877</td>\n",
       "      <td>-0.100268</td>\n",
       "      <td>...</td>\n",
       "      <td>0.126932</td>\n",
       "      <td>0.355055</td>\n",
       "      <td>0.370486</td>\n",
       "      <td>0.048192</td>\n",
       "      <td>0.080855</td>\n",
       "      <td>0.048300</td>\n",
       "      <td>0.070685</td>\n",
       "      <td>0.064704</td>\n",
       "      <td>0.194178</td>\n",
       "      <td>0.206421</td>\n",
       "    </tr>\n",
       "    <tr>\n",
       "      <th>Open-Stock-3</th>\n",
       "      <td>-0.105806</td>\n",
       "      <td>-0.110699</td>\n",
       "      <td>-0.101680</td>\n",
       "      <td>-0.105792</td>\n",
       "      <td>-0.106597</td>\n",
       "      <td>0.236843</td>\n",
       "      <td>-0.024305</td>\n",
       "      <td>-0.382629</td>\n",
       "      <td>-0.382626</td>\n",
       "      <td>-0.377222</td>\n",
       "      <td>...</td>\n",
       "      <td>0.471646</td>\n",
       "      <td>-0.196059</td>\n",
       "      <td>-0.107863</td>\n",
       "      <td>0.050022</td>\n",
       "      <td>0.032323</td>\n",
       "      <td>0.054672</td>\n",
       "      <td>0.044633</td>\n",
       "      <td>0.043177</td>\n",
       "      <td>-0.073837</td>\n",
       "      <td>-0.068084</td>\n",
       "    </tr>\n",
       "    <tr>\n",
       "      <th>High-Stock-3</th>\n",
       "      <td>-0.096191</td>\n",
       "      <td>-0.099207</td>\n",
       "      <td>-0.091027</td>\n",
       "      <td>-0.093801</td>\n",
       "      <td>-0.095065</td>\n",
       "      <td>0.236568</td>\n",
       "      <td>-0.005055</td>\n",
       "      <td>-0.377972</td>\n",
       "      <td>-0.376798</td>\n",
       "      <td>-0.371936</td>\n",
       "      <td>...</td>\n",
       "      <td>0.465497</td>\n",
       "      <td>-0.178786</td>\n",
       "      <td>-0.092711</td>\n",
       "      <td>0.027650</td>\n",
       "      <td>0.014693</td>\n",
       "      <td>0.033449</td>\n",
       "      <td>0.028693</td>\n",
       "      <td>0.025377</td>\n",
       "      <td>-0.058315</td>\n",
       "      <td>-0.054563</td>\n",
       "    </tr>\n",
       "    <tr>\n",
       "      <th>Low-Stock-3</th>\n",
       "      <td>-0.116336</td>\n",
       "      <td>-0.120643</td>\n",
       "      <td>-0.111205</td>\n",
       "      <td>-0.115117</td>\n",
       "      <td>-0.116068</td>\n",
       "      <td>0.240579</td>\n",
       "      <td>-0.031946</td>\n",
       "      <td>-0.374796</td>\n",
       "      <td>-0.374071</td>\n",
       "      <td>-0.368053</td>\n",
       "      <td>...</td>\n",
       "      <td>0.459734</td>\n",
       "      <td>-0.203775</td>\n",
       "      <td>-0.117291</td>\n",
       "      <td>0.029023</td>\n",
       "      <td>0.013595</td>\n",
       "      <td>0.035330</td>\n",
       "      <td>0.027971</td>\n",
       "      <td>0.024896</td>\n",
       "      <td>-0.074220</td>\n",
       "      <td>-0.070554</td>\n",
       "    </tr>\n",
       "    <tr>\n",
       "      <th>Close-Stock-3</th>\n",
       "      <td>-0.114082</td>\n",
       "      <td>-0.116937</td>\n",
       "      <td>-0.108340</td>\n",
       "      <td>-0.110947</td>\n",
       "      <td>-0.112377</td>\n",
       "      <td>0.238964</td>\n",
       "      <td>-0.022242</td>\n",
       "      <td>-0.368768</td>\n",
       "      <td>-0.367418</td>\n",
       "      <td>-0.362372</td>\n",
       "      <td>...</td>\n",
       "      <td>0.456198</td>\n",
       "      <td>-0.184298</td>\n",
       "      <td>-0.098362</td>\n",
       "      <td>0.009082</td>\n",
       "      <td>-0.003208</td>\n",
       "      <td>0.014520</td>\n",
       "      <td>0.011714</td>\n",
       "      <td>0.006897</td>\n",
       "      <td>-0.059061</td>\n",
       "      <td>-0.057781</td>\n",
       "    </tr>\n",
       "    <tr>\n",
       "      <th>VWAP-Stock-3</th>\n",
       "      <td>-0.107782</td>\n",
       "      <td>-0.111216</td>\n",
       "      <td>-0.102343</td>\n",
       "      <td>-0.105600</td>\n",
       "      <td>-0.106658</td>\n",
       "      <td>0.236720</td>\n",
       "      <td>-0.021110</td>\n",
       "      <td>-0.373353</td>\n",
       "      <td>-0.372376</td>\n",
       "      <td>-0.366921</td>\n",
       "      <td>...</td>\n",
       "      <td>0.462158</td>\n",
       "      <td>-0.187432</td>\n",
       "      <td>-0.101027</td>\n",
       "      <td>0.021990</td>\n",
       "      <td>0.007982</td>\n",
       "      <td>0.027578</td>\n",
       "      <td>0.022256</td>\n",
       "      <td>0.018795</td>\n",
       "      <td>-0.066766</td>\n",
       "      <td>-0.063840</td>\n",
       "    </tr>\n",
       "    <tr>\n",
       "      <th>Volume-Stock-3</th>\n",
       "      <td>0.038736</td>\n",
       "      <td>0.047604</td>\n",
       "      <td>0.044598</td>\n",
       "      <td>0.051764</td>\n",
       "      <td>0.049036</td>\n",
       "      <td>0.081434</td>\n",
       "      <td>0.184262</td>\n",
       "      <td>-0.022717</td>\n",
       "      <td>-0.020076</td>\n",
       "      <td>-0.021199</td>\n",
       "      <td>...</td>\n",
       "      <td>-0.002408</td>\n",
       "      <td>-0.030634</td>\n",
       "      <td>-0.031318</td>\n",
       "      <td>-0.054943</td>\n",
       "      <td>-0.044661</td>\n",
       "      <td>-0.048667</td>\n",
       "      <td>-0.035728</td>\n",
       "      <td>-0.044170</td>\n",
       "      <td>0.041598</td>\n",
       "      <td>0.032897</td>\n",
       "    </tr>\n",
       "    <tr>\n",
       "      <th>Turnover-Stock-3</th>\n",
       "      <td>0.035319</td>\n",
       "      <td>0.043903</td>\n",
       "      <td>0.041450</td>\n",
       "      <td>0.048509</td>\n",
       "      <td>0.045599</td>\n",
       "      <td>0.090705</td>\n",
       "      <td>0.180734</td>\n",
       "      <td>-0.039803</td>\n",
       "      <td>-0.036780</td>\n",
       "      <td>-0.037737</td>\n",
       "      <td>...</td>\n",
       "      <td>0.023598</td>\n",
       "      <td>-0.043838</td>\n",
       "      <td>-0.039515</td>\n",
       "      <td>-0.057653</td>\n",
       "      <td>-0.047991</td>\n",
       "      <td>-0.049737</td>\n",
       "      <td>-0.037395</td>\n",
       "      <td>-0.046350</td>\n",
       "      <td>0.037175</td>\n",
       "      <td>0.028344</td>\n",
       "    </tr>\n",
       "    <tr>\n",
       "      <th>Open-Stock-4</th>\n",
       "      <td>0.318023</td>\n",
       "      <td>0.315427</td>\n",
       "      <td>0.308892</td>\n",
       "      <td>0.307616</td>\n",
       "      <td>0.309863</td>\n",
       "      <td>0.022594</td>\n",
       "      <td>0.149516</td>\n",
       "      <td>-0.676241</td>\n",
       "      <td>-0.679956</td>\n",
       "      <td>-0.677185</td>\n",
       "      <td>...</td>\n",
       "      <td>0.987850</td>\n",
       "      <td>0.023158</td>\n",
       "      <td>0.202860</td>\n",
       "      <td>0.632888</td>\n",
       "      <td>0.629340</td>\n",
       "      <td>0.601488</td>\n",
       "      <td>0.598354</td>\n",
       "      <td>0.611885</td>\n",
       "      <td>0.047022</td>\n",
       "      <td>0.126883</td>\n",
       "    </tr>\n",
       "    <tr>\n",
       "      <th>High-Stock-4</th>\n",
       "      <td>0.314807</td>\n",
       "      <td>0.315015</td>\n",
       "      <td>0.306597</td>\n",
       "      <td>0.308420</td>\n",
       "      <td>0.309331</td>\n",
       "      <td>0.038524</td>\n",
       "      <td>0.170787</td>\n",
       "      <td>-0.690258</td>\n",
       "      <td>-0.692891</td>\n",
       "      <td>-0.690401</td>\n",
       "      <td>...</td>\n",
       "      <td>0.997284</td>\n",
       "      <td>0.070501</td>\n",
       "      <td>0.251793</td>\n",
       "      <td>0.625175</td>\n",
       "      <td>0.631761</td>\n",
       "      <td>0.600222</td>\n",
       "      <td>0.606174</td>\n",
       "      <td>0.614823</td>\n",
       "      <td>0.060343</td>\n",
       "      <td>0.139325</td>\n",
       "    </tr>\n",
       "    <tr>\n",
       "      <th>Low-Stock-4</th>\n",
       "      <td>0.316865</td>\n",
       "      <td>0.316038</td>\n",
       "      <td>0.311199</td>\n",
       "      <td>0.311419</td>\n",
       "      <td>0.312094</td>\n",
       "      <td>0.014417</td>\n",
       "      <td>0.131607</td>\n",
       "      <td>-0.677945</td>\n",
       "      <td>-0.681067</td>\n",
       "      <td>-0.677313</td>\n",
       "      <td>...</td>\n",
       "      <td>0.994312</td>\n",
       "      <td>-0.019259</td>\n",
       "      <td>0.162717</td>\n",
       "      <td>0.634498</td>\n",
       "      <td>0.636565</td>\n",
       "      <td>0.616222</td>\n",
       "      <td>0.618055</td>\n",
       "      <td>0.625347</td>\n",
       "      <td>0.012767</td>\n",
       "      <td>0.093737</td>\n",
       "    </tr>\n",
       "    <tr>\n",
       "      <th>Close-Stock-4</th>\n",
       "      <td>0.317229</td>\n",
       "      <td>0.318720</td>\n",
       "      <td>0.311989</td>\n",
       "      <td>0.315595</td>\n",
       "      <td>0.314452</td>\n",
       "      <td>0.025950</td>\n",
       "      <td>0.154466</td>\n",
       "      <td>-0.678788</td>\n",
       "      <td>-0.680831</td>\n",
       "      <td>-0.677875</td>\n",
       "      <td>...</td>\n",
       "      <td>0.996441</td>\n",
       "      <td>0.035283</td>\n",
       "      <td>0.217089</td>\n",
       "      <td>0.627525</td>\n",
       "      <td>0.637605</td>\n",
       "      <td>0.612311</td>\n",
       "      <td>0.623659</td>\n",
       "      <td>0.625427</td>\n",
       "      <td>0.030302</td>\n",
       "      <td>0.111055</td>\n",
       "    </tr>\n",
       "    <tr>\n",
       "      <th>VWAP-Stock-4</th>\n",
       "      <td>0.318391</td>\n",
       "      <td>0.318633</td>\n",
       "      <td>0.311778</td>\n",
       "      <td>0.313433</td>\n",
       "      <td>0.314008</td>\n",
       "      <td>0.026280</td>\n",
       "      <td>0.154501</td>\n",
       "      <td>-0.684741</td>\n",
       "      <td>-0.687411</td>\n",
       "      <td>-0.684159</td>\n",
       "      <td>...</td>\n",
       "      <td>1.000000</td>\n",
       "      <td>0.031072</td>\n",
       "      <td>0.213318</td>\n",
       "      <td>0.630089</td>\n",
       "      <td>0.636143</td>\n",
       "      <td>0.610540</td>\n",
       "      <td>0.615878</td>\n",
       "      <td>0.623017</td>\n",
       "      <td>0.034602</td>\n",
       "      <td>0.114699</td>\n",
       "    </tr>\n",
       "    <tr>\n",
       "      <th>Volume-Stock-4</th>\n",
       "      <td>0.086718</td>\n",
       "      <td>0.093216</td>\n",
       "      <td>0.073807</td>\n",
       "      <td>0.080460</td>\n",
       "      <td>0.082052</td>\n",
       "      <td>0.210258</td>\n",
       "      <td>0.470383</td>\n",
       "      <td>-0.128279</td>\n",
       "      <td>-0.122530</td>\n",
       "      <td>-0.133024</td>\n",
       "      <td>...</td>\n",
       "      <td>0.031072</td>\n",
       "      <td>1.000000</td>\n",
       "      <td>0.979302</td>\n",
       "      <td>-0.004647</td>\n",
       "      <td>0.032860</td>\n",
       "      <td>-0.028537</td>\n",
       "      <td>-0.003163</td>\n",
       "      <td>0.003325</td>\n",
       "      <td>0.402127</td>\n",
       "      <td>0.399205</td>\n",
       "    </tr>\n",
       "    <tr>\n",
       "      <th>Turnover-Stock-4</th>\n",
       "      <td>0.143728</td>\n",
       "      <td>0.150420</td>\n",
       "      <td>0.129791</td>\n",
       "      <td>0.136901</td>\n",
       "      <td>0.138474</td>\n",
       "      <td>0.212101</td>\n",
       "      <td>0.493271</td>\n",
       "      <td>-0.243560</td>\n",
       "      <td>-0.238710</td>\n",
       "      <td>-0.248194</td>\n",
       "      <td>...</td>\n",
       "      <td>0.213318</td>\n",
       "      <td>0.979302</td>\n",
       "      <td>1.000000</td>\n",
       "      <td>0.113708</td>\n",
       "      <td>0.152378</td>\n",
       "      <td>0.086615</td>\n",
       "      <td>0.113375</td>\n",
       "      <td>0.120801</td>\n",
       "      <td>0.401895</td>\n",
       "      <td>0.415689</td>\n",
       "    </tr>\n",
       "    <tr>\n",
       "      <th>Open-Stock-5</th>\n",
       "      <td>0.305526</td>\n",
       "      <td>0.301533</td>\n",
       "      <td>0.300193</td>\n",
       "      <td>0.296611</td>\n",
       "      <td>0.298097</td>\n",
       "      <td>-0.057807</td>\n",
       "      <td>0.114990</td>\n",
       "      <td>-0.253517</td>\n",
       "      <td>-0.257495</td>\n",
       "      <td>-0.256961</td>\n",
       "      <td>...</td>\n",
       "      <td>0.630089</td>\n",
       "      <td>-0.004647</td>\n",
       "      <td>0.113708</td>\n",
       "      <td>1.000000</td>\n",
       "      <td>0.985555</td>\n",
       "      <td>0.982217</td>\n",
       "      <td>0.967303</td>\n",
       "      <td>0.981233</td>\n",
       "      <td>-0.076115</td>\n",
       "      <td>0.064297</td>\n",
       "    </tr>\n",
       "    <tr>\n",
       "      <th>High-Stock-5</th>\n",
       "      <td>0.303020</td>\n",
       "      <td>0.302707</td>\n",
       "      <td>0.298667</td>\n",
       "      <td>0.298319</td>\n",
       "      <td>0.298292</td>\n",
       "      <td>-0.030709</td>\n",
       "      <td>0.154685</td>\n",
       "      <td>-0.277356</td>\n",
       "      <td>-0.278819</td>\n",
       "      <td>-0.279913</td>\n",
       "      <td>...</td>\n",
       "      <td>0.636143</td>\n",
       "      <td>0.032860</td>\n",
       "      <td>0.152378</td>\n",
       "      <td>0.985555</td>\n",
       "      <td>1.000000</td>\n",
       "      <td>0.982307</td>\n",
       "      <td>0.987530</td>\n",
       "      <td>0.994589</td>\n",
       "      <td>-0.043074</td>\n",
       "      <td>0.099265</td>\n",
       "    </tr>\n",
       "    <tr>\n",
       "      <th>Low-Stock-5</th>\n",
       "      <td>0.286532</td>\n",
       "      <td>0.285265</td>\n",
       "      <td>0.285815</td>\n",
       "      <td>0.284017</td>\n",
       "      <td>0.283747</td>\n",
       "      <td>-0.050116</td>\n",
       "      <td>0.106732</td>\n",
       "      <td>-0.233098</td>\n",
       "      <td>-0.235825</td>\n",
       "      <td>-0.234614</td>\n",
       "      <td>...</td>\n",
       "      <td>0.610540</td>\n",
       "      <td>-0.028537</td>\n",
       "      <td>0.086615</td>\n",
       "      <td>0.982217</td>\n",
       "      <td>0.982307</td>\n",
       "      <td>1.000000</td>\n",
       "      <td>0.986107</td>\n",
       "      <td>0.991980</td>\n",
       "      <td>-0.138427</td>\n",
       "      <td>0.002665</td>\n",
       "    </tr>\n",
       "    <tr>\n",
       "      <th>Close-Stock-5</th>\n",
       "      <td>0.285655</td>\n",
       "      <td>0.287079</td>\n",
       "      <td>0.285789</td>\n",
       "      <td>0.287596</td>\n",
       "      <td>0.285191</td>\n",
       "      <td>-0.036138</td>\n",
       "      <td>0.127822</td>\n",
       "      <td>-0.250707</td>\n",
       "      <td>-0.251734</td>\n",
       "      <td>-0.251611</td>\n",
       "      <td>...</td>\n",
       "      <td>0.615878</td>\n",
       "      <td>-0.003163</td>\n",
       "      <td>0.113375</td>\n",
       "      <td>0.967303</td>\n",
       "      <td>0.987530</td>\n",
       "      <td>0.986107</td>\n",
       "      <td>1.000000</td>\n",
       "      <td>0.995285</td>\n",
       "      <td>-0.108735</td>\n",
       "      <td>0.033368</td>\n",
       "    </tr>\n",
       "    <tr>\n",
       "      <th>VWAP-Stock-5</th>\n",
       "      <td>0.294863</td>\n",
       "      <td>0.294644</td>\n",
       "      <td>0.292959</td>\n",
       "      <td>0.292414</td>\n",
       "      <td>0.291949</td>\n",
       "      <td>-0.039077</td>\n",
       "      <td>0.132783</td>\n",
       "      <td>-0.257153</td>\n",
       "      <td>-0.258926</td>\n",
       "      <td>-0.258878</td>\n",
       "      <td>...</td>\n",
       "      <td>0.623017</td>\n",
       "      <td>0.003325</td>\n",
       "      <td>0.120801</td>\n",
       "      <td>0.981233</td>\n",
       "      <td>0.994589</td>\n",
       "      <td>0.991980</td>\n",
       "      <td>0.995285</td>\n",
       "      <td>1.000000</td>\n",
       "      <td>-0.098370</td>\n",
       "      <td>0.044113</td>\n",
       "    </tr>\n",
       "    <tr>\n",
       "      <th>Volume-Stock-5</th>\n",
       "      <td>-0.039923</td>\n",
       "      <td>-0.039103</td>\n",
       "      <td>-0.058478</td>\n",
       "      <td>-0.055928</td>\n",
       "      <td>-0.053067</td>\n",
       "      <td>0.279705</td>\n",
       "      <td>0.357536</td>\n",
       "      <td>-0.049415</td>\n",
       "      <td>-0.046225</td>\n",
       "      <td>-0.053946</td>\n",
       "      <td>...</td>\n",
       "      <td>0.034602</td>\n",
       "      <td>0.402127</td>\n",
       "      <td>0.401895</td>\n",
       "      <td>-0.076115</td>\n",
       "      <td>-0.043074</td>\n",
       "      <td>-0.138427</td>\n",
       "      <td>-0.108735</td>\n",
       "      <td>-0.098370</td>\n",
       "      <td>1.000000</td>\n",
       "      <td>0.987706</td>\n",
       "    </tr>\n",
       "    <tr>\n",
       "      <th>Turnover-Stock-5</th>\n",
       "      <td>0.002674</td>\n",
       "      <td>0.003380</td>\n",
       "      <td>-0.016128</td>\n",
       "      <td>-0.013638</td>\n",
       "      <td>-0.010975</td>\n",
       "      <td>0.273135</td>\n",
       "      <td>0.377340</td>\n",
       "      <td>-0.080222</td>\n",
       "      <td>-0.077223</td>\n",
       "      <td>-0.084986</td>\n",
       "      <td>...</td>\n",
       "      <td>0.114699</td>\n",
       "      <td>0.399205</td>\n",
       "      <td>0.415689</td>\n",
       "      <td>0.064297</td>\n",
       "      <td>0.099265</td>\n",
       "      <td>0.002665</td>\n",
       "      <td>0.033368</td>\n",
       "      <td>0.044113</td>\n",
       "      <td>0.987706</td>\n",
       "      <td>1.000000</td>\n",
       "    </tr>\n",
       "  </tbody>\n",
       "</table>\n",
       "<p>35 rows × 35 columns</p>\n",
       "</div>"
      ],
      "text/plain": [
       "                  Open-Stock-1  High-Stock-1  Low-Stock-1  Close-Stock-1  \\\n",
       "Open-Stock-1          1.000000      0.998657     0.998349       0.996680   \n",
       "High-Stock-1          0.998657      1.000000     0.998509       0.998663   \n",
       "Low-Stock-1           0.998349      0.998509     1.000000       0.998852   \n",
       "Close-Stock-1         0.996680      0.998663     0.998852       1.000000   \n",
       "VWAP-Stock-1          0.998020      0.999327     0.999505       0.999487   \n",
       "Volume-Stock-1       -0.653797     -0.643696    -0.657428      -0.649227   \n",
       "Turnover-Stock-1      0.152487      0.172032     0.148761       0.163370   \n",
       "Open-Stock-2         -0.244537     -0.249227    -0.237313      -0.241049   \n",
       "High-Stock-2         -0.245701     -0.249736    -0.238026      -0.241354   \n",
       "Low-Stock-2          -0.246131     -0.250530    -0.238193      -0.241781   \n",
       "Close-Stock-2        -0.246551     -0.250338    -0.238396      -0.241356   \n",
       "VWAP-Stock-2         -0.246653     -0.250700    -0.238687      -0.242063   \n",
       "Volume-Stock-2        0.041490      0.051313     0.038385       0.044704   \n",
       "Turnover-Stock-2     -0.038463     -0.030006    -0.039199      -0.033661   \n",
       "Open-Stock-3         -0.105806     -0.110699    -0.101680      -0.105792   \n",
       "High-Stock-3         -0.096191     -0.099207    -0.091027      -0.093801   \n",
       "Low-Stock-3          -0.116336     -0.120643    -0.111205      -0.115117   \n",
       "Close-Stock-3        -0.114082     -0.116937    -0.108340      -0.110947   \n",
       "VWAP-Stock-3         -0.107782     -0.111216    -0.102343      -0.105600   \n",
       "Volume-Stock-3        0.038736      0.047604     0.044598       0.051764   \n",
       "Turnover-Stock-3      0.035319      0.043903     0.041450       0.048509   \n",
       "Open-Stock-4          0.318023      0.315427     0.308892       0.307616   \n",
       "High-Stock-4          0.314807      0.315015     0.306597       0.308420   \n",
       "Low-Stock-4           0.316865      0.316038     0.311199       0.311419   \n",
       "Close-Stock-4         0.317229      0.318720     0.311989       0.315595   \n",
       "VWAP-Stock-4          0.318391      0.318633     0.311778       0.313433   \n",
       "Volume-Stock-4        0.086718      0.093216     0.073807       0.080460   \n",
       "Turnover-Stock-4      0.143728      0.150420     0.129791       0.136901   \n",
       "Open-Stock-5          0.305526      0.301533     0.300193       0.296611   \n",
       "High-Stock-5          0.303020      0.302707     0.298667       0.298319   \n",
       "Low-Stock-5           0.286532      0.285265     0.285815       0.284017   \n",
       "Close-Stock-5         0.285655      0.287079     0.285789       0.287596   \n",
       "VWAP-Stock-5          0.294863      0.294644     0.292959       0.292414   \n",
       "Volume-Stock-5       -0.039923     -0.039103    -0.058478      -0.055928   \n",
       "Turnover-Stock-5      0.002674      0.003380    -0.016128      -0.013638   \n",
       "\n",
       "                  VWAP-Stock-1  Volume-Stock-1  Turnover-Stock-1  \\\n",
       "Open-Stock-1          0.998020       -0.653797          0.152487   \n",
       "High-Stock-1          0.999327       -0.643696          0.172032   \n",
       "Low-Stock-1           0.999505       -0.657428          0.148761   \n",
       "Close-Stock-1         0.999487       -0.649227          0.163370   \n",
       "VWAP-Stock-1          1.000000       -0.649718          0.162981   \n",
       "Volume-Stock-1       -0.649718        1.000000          0.553294   \n",
       "Turnover-Stock-1      0.162981        0.553294          1.000000   \n",
       "Open-Stock-2         -0.242452       -0.037683         -0.188654   \n",
       "High-Stock-2         -0.242983       -0.032467         -0.183684   \n",
       "Low-Stock-2          -0.243351       -0.037560         -0.191774   \n",
       "Close-Stock-2        -0.243348       -0.033981         -0.187924   \n",
       "VWAP-Stock-2         -0.243717       -0.034049         -0.187573   \n",
       "Volume-Stock-2        0.043996        0.332537          0.448719   \n",
       "Turnover-Stock-2     -0.035154        0.367081          0.415956   \n",
       "Open-Stock-3         -0.106597        0.236843         -0.024305   \n",
       "High-Stock-3         -0.095065        0.236568         -0.005055   \n",
       "Low-Stock-3          -0.116068        0.240579         -0.031946   \n",
       "Close-Stock-3        -0.112377        0.238964         -0.022242   \n",
       "VWAP-Stock-3         -0.106658        0.236720         -0.021110   \n",
       "Volume-Stock-3        0.049036        0.081434          0.184262   \n",
       "Turnover-Stock-3      0.045599        0.090705          0.180734   \n",
       "Open-Stock-4          0.309863        0.022594          0.149516   \n",
       "High-Stock-4          0.309331        0.038524          0.170787   \n",
       "Low-Stock-4           0.312094        0.014417          0.131607   \n",
       "Close-Stock-4         0.314452        0.025950          0.154466   \n",
       "VWAP-Stock-4          0.314008        0.026280          0.154501   \n",
       "Volume-Stock-4        0.082052        0.210258          0.470383   \n",
       "Turnover-Stock-4      0.138474        0.212101          0.493271   \n",
       "Open-Stock-5          0.298097       -0.057807          0.114990   \n",
       "High-Stock-5          0.298292       -0.030709          0.154685   \n",
       "Low-Stock-5           0.283747       -0.050116          0.106732   \n",
       "Close-Stock-5         0.285191       -0.036138          0.127822   \n",
       "VWAP-Stock-5          0.291949       -0.039077          0.132783   \n",
       "Volume-Stock-5       -0.053067        0.279705          0.357536   \n",
       "Turnover-Stock-5     -0.010975        0.273135          0.377340   \n",
       "\n",
       "                  Open-Stock-2  High-Stock-2  Low-Stock-2  ...  VWAP-Stock-4  \\\n",
       "Open-Stock-1         -0.244537     -0.245701    -0.246131  ...      0.318391   \n",
       "High-Stock-1         -0.249227     -0.249736    -0.250530  ...      0.318633   \n",
       "Low-Stock-1          -0.237313     -0.238026    -0.238193  ...      0.311778   \n",
       "Close-Stock-1        -0.241049     -0.241354    -0.241781  ...      0.313433   \n",
       "VWAP-Stock-1         -0.242452     -0.242983    -0.243351  ...      0.314008   \n",
       "Volume-Stock-1       -0.037683     -0.032467    -0.037560  ...      0.026280   \n",
       "Turnover-Stock-1     -0.188654     -0.183684    -0.191774  ...      0.154501   \n",
       "Open-Stock-2          1.000000      0.998343     0.999048  ...     -0.684741   \n",
       "High-Stock-2          0.998343      1.000000     0.998468  ...     -0.687411   \n",
       "Low-Stock-2           0.999048      0.998468     1.000000  ...     -0.684159   \n",
       "Close-Stock-2         0.997215      0.999354     0.998412  ...     -0.685687   \n",
       "VWAP-Stock-2          0.998130      0.999716     0.998956  ...     -0.686410   \n",
       "Volume-Stock-2       -0.333020     -0.314278    -0.336433  ...      0.263506   \n",
       "Turnover-Stock-2     -0.097899     -0.075877    -0.100268  ...      0.126932   \n",
       "Open-Stock-3         -0.382629     -0.382626    -0.377222  ...      0.471646   \n",
       "High-Stock-3         -0.377972     -0.376798    -0.371936  ...      0.465497   \n",
       "Low-Stock-3          -0.374796     -0.374071    -0.368053  ...      0.459734   \n",
       "Close-Stock-3        -0.368768     -0.367418    -0.362372  ...      0.456198   \n",
       "VWAP-Stock-3         -0.373353     -0.372376    -0.366921  ...      0.462158   \n",
       "Volume-Stock-3       -0.022717     -0.020076    -0.021199  ...     -0.002408   \n",
       "Turnover-Stock-3     -0.039803     -0.036780    -0.037737  ...      0.023598   \n",
       "Open-Stock-4         -0.676241     -0.679956    -0.677185  ...      0.987850   \n",
       "High-Stock-4         -0.690258     -0.692891    -0.690401  ...      0.997284   \n",
       "Low-Stock-4          -0.677945     -0.681067    -0.677313  ...      0.994312   \n",
       "Close-Stock-4        -0.678788     -0.680831    -0.677875  ...      0.996441   \n",
       "VWAP-Stock-4         -0.684741     -0.687411    -0.684159  ...      1.000000   \n",
       "Volume-Stock-4       -0.128279     -0.122530    -0.133024  ...      0.031072   \n",
       "Turnover-Stock-4     -0.243560     -0.238710    -0.248194  ...      0.213318   \n",
       "Open-Stock-5         -0.253517     -0.257495    -0.256961  ...      0.630089   \n",
       "High-Stock-5         -0.277356     -0.278819    -0.279913  ...      0.636143   \n",
       "Low-Stock-5          -0.233098     -0.235825    -0.234614  ...      0.610540   \n",
       "Close-Stock-5        -0.250707     -0.251734    -0.251611  ...      0.615878   \n",
       "VWAP-Stock-5         -0.257153     -0.258926    -0.258878  ...      0.623017   \n",
       "Volume-Stock-5       -0.049415     -0.046225    -0.053946  ...      0.034602   \n",
       "Turnover-Stock-5     -0.080222     -0.077223    -0.084986  ...      0.114699   \n",
       "\n",
       "                  Volume-Stock-4  Turnover-Stock-4  Open-Stock-5  \\\n",
       "Open-Stock-1            0.086718          0.143728      0.305526   \n",
       "High-Stock-1            0.093216          0.150420      0.301533   \n",
       "Low-Stock-1             0.073807          0.129791      0.300193   \n",
       "Close-Stock-1           0.080460          0.136901      0.296611   \n",
       "VWAP-Stock-1            0.082052          0.138474      0.298097   \n",
       "Volume-Stock-1          0.210258          0.212101     -0.057807   \n",
       "Turnover-Stock-1        0.470383          0.493271      0.114990   \n",
       "Open-Stock-2           -0.128279         -0.243560     -0.253517   \n",
       "High-Stock-2           -0.122530         -0.238710     -0.257495   \n",
       "Low-Stock-2            -0.133024         -0.248194     -0.256961   \n",
       "Close-Stock-2          -0.125648         -0.241309     -0.257981   \n",
       "VWAP-Stock-2           -0.127828         -0.243536     -0.258437   \n",
       "Volume-Stock-2          0.381826          0.421458      0.105140   \n",
       "Turnover-Stock-2        0.355055          0.370486      0.048192   \n",
       "Open-Stock-3           -0.196059         -0.107863      0.050022   \n",
       "High-Stock-3           -0.178786         -0.092711      0.027650   \n",
       "Low-Stock-3            -0.203775         -0.117291      0.029023   \n",
       "Close-Stock-3          -0.184298         -0.098362      0.009082   \n",
       "VWAP-Stock-3           -0.187432         -0.101027      0.021990   \n",
       "Volume-Stock-3         -0.030634         -0.031318     -0.054943   \n",
       "Turnover-Stock-3       -0.043838         -0.039515     -0.057653   \n",
       "Open-Stock-4            0.023158          0.202860      0.632888   \n",
       "High-Stock-4            0.070501          0.251793      0.625175   \n",
       "Low-Stock-4            -0.019259          0.162717      0.634498   \n",
       "Close-Stock-4           0.035283          0.217089      0.627525   \n",
       "VWAP-Stock-4            0.031072          0.213318      0.630089   \n",
       "Volume-Stock-4          1.000000          0.979302     -0.004647   \n",
       "Turnover-Stock-4        0.979302          1.000000      0.113708   \n",
       "Open-Stock-5           -0.004647          0.113708      1.000000   \n",
       "High-Stock-5            0.032860          0.152378      0.985555   \n",
       "Low-Stock-5            -0.028537          0.086615      0.982217   \n",
       "Close-Stock-5          -0.003163          0.113375      0.967303   \n",
       "VWAP-Stock-5            0.003325          0.120801      0.981233   \n",
       "Volume-Stock-5          0.402127          0.401895     -0.076115   \n",
       "Turnover-Stock-5        0.399205          0.415689      0.064297   \n",
       "\n",
       "                  High-Stock-5  Low-Stock-5  Close-Stock-5  VWAP-Stock-5  \\\n",
       "Open-Stock-1          0.303020     0.286532       0.285655      0.294863   \n",
       "High-Stock-1          0.302707     0.285265       0.287079      0.294644   \n",
       "Low-Stock-1           0.298667     0.285815       0.285789      0.292959   \n",
       "Close-Stock-1         0.298319     0.284017       0.287596      0.292414   \n",
       "VWAP-Stock-1          0.298292     0.283747       0.285191      0.291949   \n",
       "Volume-Stock-1       -0.030709    -0.050116      -0.036138     -0.039077   \n",
       "Turnover-Stock-1      0.154685     0.106732       0.127822      0.132783   \n",
       "Open-Stock-2         -0.277356    -0.233098      -0.250707     -0.257153   \n",
       "High-Stock-2         -0.278819    -0.235825      -0.251734     -0.258926   \n",
       "Low-Stock-2          -0.279913    -0.234614      -0.251611     -0.258878   \n",
       "Close-Stock-2        -0.278776    -0.234965      -0.249999     -0.258216   \n",
       "VWAP-Stock-2         -0.279938    -0.235775      -0.251848     -0.259305   \n",
       "Volume-Stock-2        0.141818     0.096479       0.121781      0.119209   \n",
       "Turnover-Stock-2      0.080855     0.048300       0.070685      0.064704   \n",
       "Open-Stock-3          0.032323     0.054672       0.044633      0.043177   \n",
       "High-Stock-3          0.014693     0.033449       0.028693      0.025377   \n",
       "Low-Stock-3           0.013595     0.035330       0.027971      0.024896   \n",
       "Close-Stock-3        -0.003208     0.014520       0.011714      0.006897   \n",
       "VWAP-Stock-3          0.007982     0.027578       0.022256      0.018795   \n",
       "Volume-Stock-3       -0.044661    -0.048667      -0.035728     -0.044170   \n",
       "Turnover-Stock-3     -0.047991    -0.049737      -0.037395     -0.046350   \n",
       "Open-Stock-4          0.629340     0.601488       0.598354      0.611885   \n",
       "High-Stock-4          0.631761     0.600222       0.606174      0.614823   \n",
       "Low-Stock-4           0.636565     0.616222       0.618055      0.625347   \n",
       "Close-Stock-4         0.637605     0.612311       0.623659      0.625427   \n",
       "VWAP-Stock-4          0.636143     0.610540       0.615878      0.623017   \n",
       "Volume-Stock-4        0.032860    -0.028537      -0.003163      0.003325   \n",
       "Turnover-Stock-4      0.152378     0.086615       0.113375      0.120801   \n",
       "Open-Stock-5          0.985555     0.982217       0.967303      0.981233   \n",
       "High-Stock-5          1.000000     0.982307       0.987530      0.994589   \n",
       "Low-Stock-5           0.982307     1.000000       0.986107      0.991980   \n",
       "Close-Stock-5         0.987530     0.986107       1.000000      0.995285   \n",
       "VWAP-Stock-5          0.994589     0.991980       0.995285      1.000000   \n",
       "Volume-Stock-5       -0.043074    -0.138427      -0.108735     -0.098370   \n",
       "Turnover-Stock-5      0.099265     0.002665       0.033368      0.044113   \n",
       "\n",
       "                  Volume-Stock-5  Turnover-Stock-5  \n",
       "Open-Stock-1           -0.039923          0.002674  \n",
       "High-Stock-1           -0.039103          0.003380  \n",
       "Low-Stock-1            -0.058478         -0.016128  \n",
       "Close-Stock-1          -0.055928         -0.013638  \n",
       "VWAP-Stock-1           -0.053067         -0.010975  \n",
       "Volume-Stock-1          0.279705          0.273135  \n",
       "Turnover-Stock-1        0.357536          0.377340  \n",
       "Open-Stock-2           -0.049415         -0.080222  \n",
       "High-Stock-2           -0.046225         -0.077223  \n",
       "Low-Stock-2            -0.053946         -0.084986  \n",
       "Close-Stock-2          -0.050410         -0.081174  \n",
       "VWAP-Stock-2           -0.050066         -0.081204  \n",
       "Volume-Stock-2          0.190502          0.209567  \n",
       "Turnover-Stock-2        0.194178          0.206421  \n",
       "Open-Stock-3           -0.073837         -0.068084  \n",
       "High-Stock-3           -0.058315         -0.054563  \n",
       "Low-Stock-3            -0.074220         -0.070554  \n",
       "Close-Stock-3          -0.059061         -0.057781  \n",
       "VWAP-Stock-3           -0.066766         -0.063840  \n",
       "Volume-Stock-3          0.041598          0.032897  \n",
       "Turnover-Stock-3        0.037175          0.028344  \n",
       "Open-Stock-4            0.047022          0.126883  \n",
       "High-Stock-4            0.060343          0.139325  \n",
       "Low-Stock-4             0.012767          0.093737  \n",
       "Close-Stock-4           0.030302          0.111055  \n",
       "VWAP-Stock-4            0.034602          0.114699  \n",
       "Volume-Stock-4          0.402127          0.399205  \n",
       "Turnover-Stock-4        0.401895          0.415689  \n",
       "Open-Stock-5           -0.076115          0.064297  \n",
       "High-Stock-5           -0.043074          0.099265  \n",
       "Low-Stock-5            -0.138427          0.002665  \n",
       "Close-Stock-5          -0.108735          0.033368  \n",
       "VWAP-Stock-5           -0.098370          0.044113  \n",
       "Volume-Stock-5          1.000000          0.987706  \n",
       "Turnover-Stock-5        0.987706          1.000000  \n",
       "\n",
       "[35 rows x 35 columns]"
      ]
     },
     "execution_count": 7,
     "metadata": {},
     "output_type": "execute_result"
    }
   ],
   "source": [
    "train.corr()"
   ]
  },
  {
   "cell_type": "code",
   "execution_count": 8,
   "metadata": {},
   "outputs": [],
   "source": [
    "train['Date'] = pd.to_datetime(train['Date'])"
   ]
  },
  {
   "cell_type": "code",
   "execution_count": 9,
   "metadata": {},
   "outputs": [
    {
     "data": {
      "text/html": [
       "<div>\n",
       "<style scoped>\n",
       "    .dataframe tbody tr th:only-of-type {\n",
       "        vertical-align: middle;\n",
       "    }\n",
       "\n",
       "    .dataframe tbody tr th {\n",
       "        vertical-align: top;\n",
       "    }\n",
       "\n",
       "    .dataframe thead th {\n",
       "        text-align: right;\n",
       "    }\n",
       "</style>\n",
       "<table border=\"1\" class=\"dataframe\">\n",
       "  <thead>\n",
       "    <tr style=\"text-align: right;\">\n",
       "      <th></th>\n",
       "      <th>Date</th>\n",
       "      <th>Open-Stock-1</th>\n",
       "      <th>High-Stock-1</th>\n",
       "      <th>Low-Stock-1</th>\n",
       "      <th>Close-Stock-1</th>\n",
       "      <th>VWAP-Stock-1</th>\n",
       "      <th>Volume-Stock-1</th>\n",
       "      <th>Turnover-Stock-1</th>\n",
       "      <th>Open-Stock-2</th>\n",
       "      <th>High-Stock-2</th>\n",
       "      <th>...</th>\n",
       "      <th>Open-Stock-5</th>\n",
       "      <th>High-Stock-5</th>\n",
       "      <th>Low-Stock-5</th>\n",
       "      <th>Close-Stock-5</th>\n",
       "      <th>VWAP-Stock-5</th>\n",
       "      <th>Volume-Stock-5</th>\n",
       "      <th>Turnover-Stock-5</th>\n",
       "      <th>month</th>\n",
       "      <th>year</th>\n",
       "      <th>day</th>\n",
       "    </tr>\n",
       "  </thead>\n",
       "  <tbody>\n",
       "    <tr>\n",
       "      <th>0</th>\n",
       "      <td>2010-06-01</td>\n",
       "      <td>1889.7</td>\n",
       "      <td>1890.00</td>\n",
       "      <td>1838.00</td>\n",
       "      <td>1855.10</td>\n",
       "      <td>1855.75</td>\n",
       "      <td>568273</td>\n",
       "      <td>105457457545000</td>\n",
       "      <td>285.40</td>\n",
       "      <td>285.95</td>\n",
       "      <td>...</td>\n",
       "      <td>1235.0</td>\n",
       "      <td>1238.00</td>\n",
       "      <td>1177.0</td>\n",
       "      <td>1181.70</td>\n",
       "      <td>1197.29</td>\n",
       "      <td>1786082</td>\n",
       "      <td>213845404410000</td>\n",
       "      <td>6</td>\n",
       "      <td>2010</td>\n",
       "      <td>1</td>\n",
       "    </tr>\n",
       "    <tr>\n",
       "      <th>1</th>\n",
       "      <td>2010-06-02</td>\n",
       "      <td>1848.0</td>\n",
       "      <td>1862.75</td>\n",
       "      <td>1828.00</td>\n",
       "      <td>1853.05</td>\n",
       "      <td>1842.82</td>\n",
       "      <td>945167</td>\n",
       "      <td>174177161135000</td>\n",
       "      <td>284.00</td>\n",
       "      <td>284.80</td>\n",
       "      <td>...</td>\n",
       "      <td>1195.0</td>\n",
       "      <td>1206.95</td>\n",
       "      <td>1168.5</td>\n",
       "      <td>1201.15</td>\n",
       "      <td>1189.87</td>\n",
       "      <td>1307410</td>\n",
       "      <td>155564994855000</td>\n",
       "      <td>6</td>\n",
       "      <td>2010</td>\n",
       "      <td>2</td>\n",
       "    </tr>\n",
       "    <tr>\n",
       "      <th>2</th>\n",
       "      <td>2010-06-03</td>\n",
       "      <td>1864.1</td>\n",
       "      <td>1910.00</td>\n",
       "      <td>1864.10</td>\n",
       "      <td>1905.60</td>\n",
       "      <td>1893.91</td>\n",
       "      <td>679689</td>\n",
       "      <td>128727119355000</td>\n",
       "      <td>283.00</td>\n",
       "      <td>286.85</td>\n",
       "      <td>...</td>\n",
       "      <td>1211.0</td>\n",
       "      <td>1248.00</td>\n",
       "      <td>1211.0</td>\n",
       "      <td>1242.30</td>\n",
       "      <td>1231.63</td>\n",
       "      <td>1482919</td>\n",
       "      <td>182640434320000</td>\n",
       "      <td>6</td>\n",
       "      <td>2010</td>\n",
       "      <td>3</td>\n",
       "    </tr>\n",
       "    <tr>\n",
       "      <th>3</th>\n",
       "      <td>2010-06-04</td>\n",
       "      <td>1906.0</td>\n",
       "      <td>1909.80</td>\n",
       "      <td>1880.10</td>\n",
       "      <td>1885.70</td>\n",
       "      <td>1889.21</td>\n",
       "      <td>509435</td>\n",
       "      <td>96242800140000</td>\n",
       "      <td>288.85</td>\n",
       "      <td>291.80</td>\n",
       "      <td>...</td>\n",
       "      <td>1240.0</td>\n",
       "      <td>1258.00</td>\n",
       "      <td>1240.0</td>\n",
       "      <td>1245.45</td>\n",
       "      <td>1249.72</td>\n",
       "      <td>1454459</td>\n",
       "      <td>181767075850000</td>\n",
       "      <td>6</td>\n",
       "      <td>2010</td>\n",
       "      <td>4</td>\n",
       "    </tr>\n",
       "    <tr>\n",
       "      <th>4</th>\n",
       "      <td>2010-06-07</td>\n",
       "      <td>1867.0</td>\n",
       "      <td>1894.85</td>\n",
       "      <td>1808.35</td>\n",
       "      <td>1876.65</td>\n",
       "      <td>1873.32</td>\n",
       "      <td>961913</td>\n",
       "      <td>180196832650000</td>\n",
       "      <td>285.00</td>\n",
       "      <td>289.10</td>\n",
       "      <td>...</td>\n",
       "      <td>1218.6</td>\n",
       "      <td>1225.00</td>\n",
       "      <td>1196.0</td>\n",
       "      <td>1214.80</td>\n",
       "      <td>1209.27</td>\n",
       "      <td>1424594</td>\n",
       "      <td>172272511430000</td>\n",
       "      <td>6</td>\n",
       "      <td>2010</td>\n",
       "      <td>7</td>\n",
       "    </tr>\n",
       "  </tbody>\n",
       "</table>\n",
       "<p>5 rows × 39 columns</p>\n",
       "</div>"
      ],
      "text/plain": [
       "        Date  Open-Stock-1  High-Stock-1  Low-Stock-1  Close-Stock-1  \\\n",
       "0 2010-06-01        1889.7       1890.00      1838.00        1855.10   \n",
       "1 2010-06-02        1848.0       1862.75      1828.00        1853.05   \n",
       "2 2010-06-03        1864.1       1910.00      1864.10        1905.60   \n",
       "3 2010-06-04        1906.0       1909.80      1880.10        1885.70   \n",
       "4 2010-06-07        1867.0       1894.85      1808.35        1876.65   \n",
       "\n",
       "   VWAP-Stock-1  Volume-Stock-1  Turnover-Stock-1  Open-Stock-2  High-Stock-2  \\\n",
       "0       1855.75          568273   105457457545000        285.40        285.95   \n",
       "1       1842.82          945167   174177161135000        284.00        284.80   \n",
       "2       1893.91          679689   128727119355000        283.00        286.85   \n",
       "3       1889.21          509435    96242800140000        288.85        291.80   \n",
       "4       1873.32          961913   180196832650000        285.00        289.10   \n",
       "\n",
       "   ...  Open-Stock-5  High-Stock-5  Low-Stock-5  Close-Stock-5  VWAP-Stock-5  \\\n",
       "0  ...        1235.0       1238.00       1177.0        1181.70       1197.29   \n",
       "1  ...        1195.0       1206.95       1168.5        1201.15       1189.87   \n",
       "2  ...        1211.0       1248.00       1211.0        1242.30       1231.63   \n",
       "3  ...        1240.0       1258.00       1240.0        1245.45       1249.72   \n",
       "4  ...        1218.6       1225.00       1196.0        1214.80       1209.27   \n",
       "\n",
       "   Volume-Stock-5  Turnover-Stock-5  month  year  day  \n",
       "0         1786082   213845404410000      6  2010    1  \n",
       "1         1307410   155564994855000      6  2010    2  \n",
       "2         1482919   182640434320000      6  2010    3  \n",
       "3         1454459   181767075850000      6  2010    4  \n",
       "4         1424594   172272511430000      6  2010    7  \n",
       "\n",
       "[5 rows x 39 columns]"
      ]
     },
     "execution_count": 9,
     "metadata": {},
     "output_type": "execute_result"
    }
   ],
   "source": [
    "train['month'] = train['Date'].dt.month\n",
    "train['year'] = train['Date'].dt.year\n",
    "train['day'] = train['Date'].dt.day\n",
    "train.head()"
   ]
  },
  {
   "cell_type": "code",
   "execution_count": 10,
   "metadata": {},
   "outputs": [
    {
     "data": {
      "text/html": [
       "<div>\n",
       "<style scoped>\n",
       "    .dataframe tbody tr th:only-of-type {\n",
       "        vertical-align: middle;\n",
       "    }\n",
       "\n",
       "    .dataframe tbody tr th {\n",
       "        vertical-align: top;\n",
       "    }\n",
       "\n",
       "    .dataframe thead th {\n",
       "        text-align: right;\n",
       "    }\n",
       "</style>\n",
       "<table border=\"1\" class=\"dataframe\">\n",
       "  <thead>\n",
       "    <tr style=\"text-align: right;\">\n",
       "      <th></th>\n",
       "      <th>Date</th>\n",
       "      <th>Open-Stock-1</th>\n",
       "      <th>High-Stock-1</th>\n",
       "      <th>Low-Stock-1</th>\n",
       "      <th>VWAP-Stock-1</th>\n",
       "      <th>Volume-Stock-1</th>\n",
       "      <th>Turnover-Stock-1</th>\n",
       "      <th>Open-Stock-2</th>\n",
       "      <th>High-Stock-2</th>\n",
       "      <th>Low-Stock-2</th>\n",
       "      <th>...</th>\n",
       "      <th>Turnover-Stock-4</th>\n",
       "      <th>Open-Stock-5</th>\n",
       "      <th>High-Stock-5</th>\n",
       "      <th>Low-Stock-5</th>\n",
       "      <th>VWAP-Stock-5</th>\n",
       "      <th>Volume-Stock-5</th>\n",
       "      <th>Turnover-Stock-5</th>\n",
       "      <th>month</th>\n",
       "      <th>year</th>\n",
       "      <th>day</th>\n",
       "    </tr>\n",
       "  </thead>\n",
       "  <tbody>\n",
       "    <tr>\n",
       "      <th>0</th>\n",
       "      <td>2011-08-04</td>\n",
       "      <td>484.1</td>\n",
       "      <td>488.90</td>\n",
       "      <td>475.00</td>\n",
       "      <td>481.00</td>\n",
       "      <td>1829606</td>\n",
       "      <td>88003633160000</td>\n",
       "      <td>204.90</td>\n",
       "      <td>206.75</td>\n",
       "      <td>199.20</td>\n",
       "      <td>...</td>\n",
       "      <td>272542181190000</td>\n",
       "      <td>1303.6</td>\n",
       "      <td>1312.8</td>\n",
       "      <td>1281.00</td>\n",
       "      <td>1297.04</td>\n",
       "      <td>1569675</td>\n",
       "      <td>203593328285000</td>\n",
       "      <td>8</td>\n",
       "      <td>2011</td>\n",
       "      <td>4</td>\n",
       "    </tr>\n",
       "    <tr>\n",
       "      <th>1</th>\n",
       "      <td>2011-08-05</td>\n",
       "      <td>465.0</td>\n",
       "      <td>475.80</td>\n",
       "      <td>457.10</td>\n",
       "      <td>469.56</td>\n",
       "      <td>3156094</td>\n",
       "      <td>148196817355000</td>\n",
       "      <td>195.00</td>\n",
       "      <td>198.00</td>\n",
       "      <td>190.50</td>\n",
       "      <td>...</td>\n",
       "      <td>446567961345000</td>\n",
       "      <td>1245.0</td>\n",
       "      <td>1252.5</td>\n",
       "      <td>1200.00</td>\n",
       "      <td>1229.09</td>\n",
       "      <td>3125692</td>\n",
       "      <td>384176649890000</td>\n",
       "      <td>8</td>\n",
       "      <td>2011</td>\n",
       "      <td>5</td>\n",
       "    </tr>\n",
       "    <tr>\n",
       "      <th>2</th>\n",
       "      <td>2011-08-08</td>\n",
       "      <td>463.0</td>\n",
       "      <td>480.00</td>\n",
       "      <td>458.05</td>\n",
       "      <td>465.04</td>\n",
       "      <td>4308373</td>\n",
       "      <td>200357861965000</td>\n",
       "      <td>193.90</td>\n",
       "      <td>197.80</td>\n",
       "      <td>189.65</td>\n",
       "      <td>...</td>\n",
       "      <td>328925252905000</td>\n",
       "      <td>1205.2</td>\n",
       "      <td>1265.8</td>\n",
       "      <td>1200.55</td>\n",
       "      <td>1232.93</td>\n",
       "      <td>1660178</td>\n",
       "      <td>204687918340000</td>\n",
       "      <td>8</td>\n",
       "      <td>2011</td>\n",
       "      <td>8</td>\n",
       "    </tr>\n",
       "    <tr>\n",
       "      <th>3</th>\n",
       "      <td>2011-08-09</td>\n",
       "      <td>450.0</td>\n",
       "      <td>473.55</td>\n",
       "      <td>449.85</td>\n",
       "      <td>460.88</td>\n",
       "      <td>4490924</td>\n",
       "      <td>206978212685000</td>\n",
       "      <td>190.25</td>\n",
       "      <td>202.10</td>\n",
       "      <td>190.10</td>\n",
       "      <td>...</td>\n",
       "      <td>501890604795000</td>\n",
       "      <td>1190.5</td>\n",
       "      <td>1238.3</td>\n",
       "      <td>1180.90</td>\n",
       "      <td>1206.06</td>\n",
       "      <td>3618186</td>\n",
       "      <td>436376441205000</td>\n",
       "      <td>8</td>\n",
       "      <td>2011</td>\n",
       "      <td>9</td>\n",
       "    </tr>\n",
       "    <tr>\n",
       "      <th>4</th>\n",
       "      <td>2011-08-10</td>\n",
       "      <td>494.8</td>\n",
       "      <td>494.80</td>\n",
       "      <td>473.40</td>\n",
       "      <td>478.06</td>\n",
       "      <td>3267226</td>\n",
       "      <td>156192368225000</td>\n",
       "      <td>202.00</td>\n",
       "      <td>202.85</td>\n",
       "      <td>196.00</td>\n",
       "      <td>...</td>\n",
       "      <td>326053305165000</td>\n",
       "      <td>1242.0</td>\n",
       "      <td>1253.7</td>\n",
       "      <td>1225.30</td>\n",
       "      <td>1242.10</td>\n",
       "      <td>1903396</td>\n",
       "      <td>236421421150000</td>\n",
       "      <td>8</td>\n",
       "      <td>2011</td>\n",
       "      <td>10</td>\n",
       "    </tr>\n",
       "  </tbody>\n",
       "</table>\n",
       "<p>5 rows × 34 columns</p>\n",
       "</div>"
      ],
      "text/plain": [
       "        Date  Open-Stock-1  High-Stock-1  Low-Stock-1  VWAP-Stock-1  \\\n",
       "0 2011-08-04         484.1        488.90       475.00        481.00   \n",
       "1 2011-08-05         465.0        475.80       457.10        469.56   \n",
       "2 2011-08-08         463.0        480.00       458.05        465.04   \n",
       "3 2011-08-09         450.0        473.55       449.85        460.88   \n",
       "4 2011-08-10         494.8        494.80       473.40        478.06   \n",
       "\n",
       "   Volume-Stock-1  Turnover-Stock-1  Open-Stock-2  High-Stock-2  Low-Stock-2  \\\n",
       "0         1829606    88003633160000        204.90        206.75       199.20   \n",
       "1         3156094   148196817355000        195.00        198.00       190.50   \n",
       "2         4308373   200357861965000        193.90        197.80       189.65   \n",
       "3         4490924   206978212685000        190.25        202.10       190.10   \n",
       "4         3267226   156192368225000        202.00        202.85       196.00   \n",
       "\n",
       "   ...  Turnover-Stock-4  Open-Stock-5  High-Stock-5  Low-Stock-5  \\\n",
       "0  ...   272542181190000        1303.6        1312.8      1281.00   \n",
       "1  ...   446567961345000        1245.0        1252.5      1200.00   \n",
       "2  ...   328925252905000        1205.2        1265.8      1200.55   \n",
       "3  ...   501890604795000        1190.5        1238.3      1180.90   \n",
       "4  ...   326053305165000        1242.0        1253.7      1225.30   \n",
       "\n",
       "   VWAP-Stock-5  Volume-Stock-5  Turnover-Stock-5  month  year  day  \n",
       "0       1297.04         1569675   203593328285000      8  2011    4  \n",
       "1       1229.09         3125692   384176649890000      8  2011    5  \n",
       "2       1232.93         1660178   204687918340000      8  2011    8  \n",
       "3       1206.06         3618186   436376441205000      8  2011    9  \n",
       "4       1242.10         1903396   236421421150000      8  2011   10  \n",
       "\n",
       "[5 rows x 34 columns]"
      ]
     },
     "execution_count": 10,
     "metadata": {},
     "output_type": "execute_result"
    }
   ],
   "source": [
    "test['Date'] = pd.to_datetime(test['Date'])\n",
    "test['month'] = test['Date'].dt.month\n",
    "test['year'] = test['Date'].dt.year\n",
    "test['day'] = test['Date'].dt.day\n",
    "test.head()"
   ]
  },
  {
   "cell_type": "code",
   "execution_count": null,
   "metadata": {},
   "outputs": [],
   "source": []
  },
  {
   "cell_type": "code",
   "execution_count": null,
   "metadata": {},
   "outputs": [],
   "source": []
  },
  {
   "cell_type": "code",
   "execution_count": null,
   "metadata": {},
   "outputs": [],
   "source": []
  },
  {
   "cell_type": "code",
   "execution_count": null,
   "metadata": {},
   "outputs": [],
   "source": []
  },
  {
   "cell_type": "code",
   "execution_count": 11,
   "metadata": {},
   "outputs": [],
   "source": [
    "df1=pd.DataFrame(train, \n",
    "                 columns = [\"Open-Stock-1\",\"High-Stock-1\",\"Low-Stock-1\",\"VWAP-Stock-1\",\"Volume-Stock-1\",\"Turnover-Stock-1\",\"year\",\"month\",\"day\"])\n",
    "df_t1=pd.DataFrame(test, \n",
    "                 columns = [\"Open-Stock-1\",\"High-Stock-1\",\"Low-Stock-1\",\"VWAP-Stock-1\",\"Volume-Stock-1\",\"Turnover-Stock-1\",\"year\",\"month\",\"day\"])\n",
    "\n",
    "df2=pd.DataFrame(train, \n",
    "                 columns = [\"Open-Stock-2\",\"High-Stock-2\",\"Low-Stock-2\",\"VWAP-Stock-2\",\"Volume-Stock-2\",\"Turnover-Stock-2\",\"year\",\"month\",\"day\"])\n",
    "df_t2=pd.DataFrame(test, \n",
    "                 columns = [\"Open-Stock-2\",\"High-Stock-2\",\"Low-Stock-2\",\"VWAP-Stock-2\",\"Volume-Stock-2\",\"Turnover-Stock-2\",\"year\",\"month\",\"day\"])\n",
    "\n",
    "df3=pd.DataFrame(train, \n",
    "                 columns = [\"Open-Stock-3\",\"High-Stock-3\",\"Low-Stock-3\",\"VWAP-Stock-3\",\"Volume-Stock-3\",\"Turnover-Stock-3\",\"year\",\"month\",\"day\"])\n",
    "df_t3=pd.DataFrame(test, \n",
    "                 columns = [\"Open-Stock-3\",\"High-Stock-3\",\"Low-Stock-3\",\"VWAP-Stock-3\",\"Volume-Stock-3\",\"Turnover-Stock-3\",\"year\",\"month\",\"day\"])\n",
    "\n",
    "df4=pd.DataFrame(train, \n",
    "                 columns = [\"Open-Stock-4\",\"High-Stock-4\",\"Low-Stock-4\",\"VWAP-Stock-4\",\"Volume-Stock-4\",\"Turnover-Stock-4\",\"year\",\"month\",\"day\"])\n",
    "df_t4=pd.DataFrame(test, \n",
    "                 columns = [\"Open-Stock-4\",\"High-Stock-4\",\"Low-Stock-4\",\"VWAP-Stock-4\",\"Volume-Stock-4\",\"Turnover-Stock-4\",\"year\",\"month\",\"day\"])\n",
    "\n",
    "df5=pd.DataFrame(train, \n",
    "                 columns = [\"Open-Stock-5\",\"High-Stock-5\",\"Low-Stock-5\",\"VWAP-Stock-5\",\"Volume-Stock-5\",\"Turnover-Stock-5\",\"year\",\"month\",\"day\"])\n",
    "df_t5=pd.DataFrame(test, \n",
    "                 columns = [\"Open-Stock-5\",\"High-Stock-5\",\"Low-Stock-5\",\"VWAP-Stock-5\",\"Volume-Stock-5\",\"Turnover-Stock-5\",\"year\",\"month\",\"day\"])\n"
   ]
  },
  {
   "cell_type": "code",
   "execution_count": 12,
   "metadata": {},
   "outputs": [],
   "source": [
    "target1=pd.DataFrame(train, columns = [\"Close-Stock-1\"])\n",
    "target2=pd.DataFrame(train, columns = [\"Close-Stock-2\"])\n",
    "target3=pd.DataFrame(train, columns = [\"Close-Stock-3\"])\n",
    "target4=pd.DataFrame(train, columns = [\"Close-Stock-4\"])\n",
    "target5=pd.DataFrame(train, columns = [\"Close-Stock-5\"])"
   ]
  },
  {
   "cell_type": "code",
   "execution_count": 13,
   "metadata": {},
   "outputs": [
    {
     "data": {
      "text/html": [
       "<div>\n",
       "<style scoped>\n",
       "    .dataframe tbody tr th:only-of-type {\n",
       "        vertical-align: middle;\n",
       "    }\n",
       "\n",
       "    .dataframe tbody tr th {\n",
       "        vertical-align: top;\n",
       "    }\n",
       "\n",
       "    .dataframe thead th {\n",
       "        text-align: right;\n",
       "    }\n",
       "</style>\n",
       "<table border=\"1\" class=\"dataframe\">\n",
       "  <thead>\n",
       "    <tr style=\"text-align: right;\">\n",
       "      <th></th>\n",
       "      <th>Open-Stock-1</th>\n",
       "      <th>High-Stock-1</th>\n",
       "      <th>Low-Stock-1</th>\n",
       "      <th>VWAP-Stock-1</th>\n",
       "      <th>Volume-Stock-1</th>\n",
       "      <th>Turnover-Stock-1</th>\n",
       "      <th>year</th>\n",
       "      <th>month</th>\n",
       "      <th>day</th>\n",
       "    </tr>\n",
       "  </thead>\n",
       "  <tbody>\n",
       "    <tr>\n",
       "      <th>0</th>\n",
       "      <td>1889.7</td>\n",
       "      <td>1890.00</td>\n",
       "      <td>1838.00</td>\n",
       "      <td>1855.75</td>\n",
       "      <td>568273</td>\n",
       "      <td>105457457545000</td>\n",
       "      <td>2010</td>\n",
       "      <td>6</td>\n",
       "      <td>1</td>\n",
       "    </tr>\n",
       "    <tr>\n",
       "      <th>1</th>\n",
       "      <td>1848.0</td>\n",
       "      <td>1862.75</td>\n",
       "      <td>1828.00</td>\n",
       "      <td>1842.82</td>\n",
       "      <td>945167</td>\n",
       "      <td>174177161135000</td>\n",
       "      <td>2010</td>\n",
       "      <td>6</td>\n",
       "      <td>2</td>\n",
       "    </tr>\n",
       "    <tr>\n",
       "      <th>2</th>\n",
       "      <td>1864.1</td>\n",
       "      <td>1910.00</td>\n",
       "      <td>1864.10</td>\n",
       "      <td>1893.91</td>\n",
       "      <td>679689</td>\n",
       "      <td>128727119355000</td>\n",
       "      <td>2010</td>\n",
       "      <td>6</td>\n",
       "      <td>3</td>\n",
       "    </tr>\n",
       "    <tr>\n",
       "      <th>3</th>\n",
       "      <td>1906.0</td>\n",
       "      <td>1909.80</td>\n",
       "      <td>1880.10</td>\n",
       "      <td>1889.21</td>\n",
       "      <td>509435</td>\n",
       "      <td>96242800140000</td>\n",
       "      <td>2010</td>\n",
       "      <td>6</td>\n",
       "      <td>4</td>\n",
       "    </tr>\n",
       "    <tr>\n",
       "      <th>4</th>\n",
       "      <td>1867.0</td>\n",
       "      <td>1894.85</td>\n",
       "      <td>1808.35</td>\n",
       "      <td>1873.32</td>\n",
       "      <td>961913</td>\n",
       "      <td>180196832650000</td>\n",
       "      <td>2010</td>\n",
       "      <td>6</td>\n",
       "      <td>7</td>\n",
       "    </tr>\n",
       "  </tbody>\n",
       "</table>\n",
       "</div>"
      ],
      "text/plain": [
       "   Open-Stock-1  High-Stock-1  Low-Stock-1  VWAP-Stock-1  Volume-Stock-1  \\\n",
       "0        1889.7       1890.00      1838.00       1855.75          568273   \n",
       "1        1848.0       1862.75      1828.00       1842.82          945167   \n",
       "2        1864.1       1910.00      1864.10       1893.91          679689   \n",
       "3        1906.0       1909.80      1880.10       1889.21          509435   \n",
       "4        1867.0       1894.85      1808.35       1873.32          961913   \n",
       "\n",
       "   Turnover-Stock-1  year  month  day  \n",
       "0   105457457545000  2010      6    1  \n",
       "1   174177161135000  2010      6    2  \n",
       "2   128727119355000  2010      6    3  \n",
       "3    96242800140000  2010      6    4  \n",
       "4   180196832650000  2010      6    7  "
      ]
     },
     "execution_count": 13,
     "metadata": {},
     "output_type": "execute_result"
    }
   ],
   "source": [
    "df1.head()"
   ]
  },
  {
   "cell_type": "code",
   "execution_count": 14,
   "metadata": {},
   "outputs": [
    {
     "data": {
      "text/html": [
       "<div>\n",
       "<style scoped>\n",
       "    .dataframe tbody tr th:only-of-type {\n",
       "        vertical-align: middle;\n",
       "    }\n",
       "\n",
       "    .dataframe tbody tr th {\n",
       "        vertical-align: top;\n",
       "    }\n",
       "\n",
       "    .dataframe thead th {\n",
       "        text-align: right;\n",
       "    }\n",
       "</style>\n",
       "<table border=\"1\" class=\"dataframe\">\n",
       "  <thead>\n",
       "    <tr style=\"text-align: right;\">\n",
       "      <th></th>\n",
       "      <th>Open-Stock-1</th>\n",
       "      <th>High-Stock-1</th>\n",
       "      <th>Low-Stock-1</th>\n",
       "      <th>VWAP-Stock-1</th>\n",
       "      <th>Volume-Stock-1</th>\n",
       "      <th>Turnover-Stock-1</th>\n",
       "      <th>year</th>\n",
       "      <th>month</th>\n",
       "      <th>day</th>\n",
       "    </tr>\n",
       "  </thead>\n",
       "  <tbody>\n",
       "    <tr>\n",
       "      <th>0</th>\n",
       "      <td>0.675993</td>\n",
       "      <td>0.669132</td>\n",
       "      <td>0.655533</td>\n",
       "      <td>0.657724</td>\n",
       "      <td>0.099529</td>\n",
       "      <td>0.204381</td>\n",
       "      <td>0.0</td>\n",
       "      <td>0.454545</td>\n",
       "      <td>0.000000</td>\n",
       "    </tr>\n",
       "    <tr>\n",
       "      <th>1</th>\n",
       "      <td>0.656015</td>\n",
       "      <td>0.656128</td>\n",
       "      <td>0.650720</td>\n",
       "      <td>0.651534</td>\n",
       "      <td>0.170437</td>\n",
       "      <td>0.350606</td>\n",
       "      <td>0.0</td>\n",
       "      <td>0.454545</td>\n",
       "      <td>0.033333</td>\n",
       "    </tr>\n",
       "    <tr>\n",
       "      <th>2</th>\n",
       "      <td>0.663728</td>\n",
       "      <td>0.678677</td>\n",
       "      <td>0.668095</td>\n",
       "      <td>0.675993</td>\n",
       "      <td>0.120490</td>\n",
       "      <td>0.253896</td>\n",
       "      <td>0.0</td>\n",
       "      <td>0.454545</td>\n",
       "      <td>0.066667</td>\n",
       "    </tr>\n",
       "    <tr>\n",
       "      <th>3</th>\n",
       "      <td>0.683802</td>\n",
       "      <td>0.678582</td>\n",
       "      <td>0.675795</td>\n",
       "      <td>0.673742</td>\n",
       "      <td>0.088459</td>\n",
       "      <td>0.184774</td>\n",
       "      <td>0.0</td>\n",
       "      <td>0.454545</td>\n",
       "      <td>0.100000</td>\n",
       "    </tr>\n",
       "    <tr>\n",
       "      <th>4</th>\n",
       "      <td>0.665118</td>\n",
       "      <td>0.671447</td>\n",
       "      <td>0.641262</td>\n",
       "      <td>0.666135</td>\n",
       "      <td>0.173588</td>\n",
       "      <td>0.363415</td>\n",
       "      <td>0.0</td>\n",
       "      <td>0.454545</td>\n",
       "      <td>0.200000</td>\n",
       "    </tr>\n",
       "  </tbody>\n",
       "</table>\n",
       "</div>"
      ],
      "text/plain": [
       "   Open-Stock-1  High-Stock-1  Low-Stock-1  VWAP-Stock-1  Volume-Stock-1  \\\n",
       "0      0.675993      0.669132     0.655533      0.657724        0.099529   \n",
       "1      0.656015      0.656128     0.650720      0.651534        0.170437   \n",
       "2      0.663728      0.678677     0.668095      0.675993        0.120490   \n",
       "3      0.683802      0.678582     0.675795      0.673742        0.088459   \n",
       "4      0.665118      0.671447     0.641262      0.666135        0.173588   \n",
       "\n",
       "   Turnover-Stock-1  year     month       day  \n",
       "0          0.204381   0.0  0.454545  0.000000  \n",
       "1          0.350606   0.0  0.454545  0.033333  \n",
       "2          0.253896   0.0  0.454545  0.066667  \n",
       "3          0.184774   0.0  0.454545  0.100000  \n",
       "4          0.363415   0.0  0.454545  0.200000  "
      ]
     },
     "execution_count": 14,
     "metadata": {},
     "output_type": "execute_result"
    }
   ],
   "source": [
    "from sklearn.preprocessing import MinMaxScaler\n",
    "scaler = MinMaxScaler() \n",
    "df1[[\"Open-Stock-1\",\"High-Stock-1\",\"Low-Stock-1\",\"VWAP-Stock-1\",\"Volume-Stock-1\",\"Turnover-Stock-1\",\"year\",\"month\",\"day\"]] = scaler.fit_transform(df1[[\"Open-Stock-1\",\"High-Stock-1\",\"Low-Stock-1\",\"VWAP-Stock-1\",\"Volume-Stock-1\",\"Turnover-Stock-1\",\"year\",\"month\",\"day\"]])\n",
    "df1.head()"
   ]
  },
  {
   "cell_type": "code",
   "execution_count": 20,
   "metadata": {},
   "outputs": [
    {
     "data": {
      "text/html": [
       "<div>\n",
       "<style scoped>\n",
       "    .dataframe tbody tr th:only-of-type {\n",
       "        vertical-align: middle;\n",
       "    }\n",
       "\n",
       "    .dataframe tbody tr th {\n",
       "        vertical-align: top;\n",
       "    }\n",
       "\n",
       "    .dataframe thead th {\n",
       "        text-align: right;\n",
       "    }\n",
       "</style>\n",
       "<table border=\"1\" class=\"dataframe\">\n",
       "  <thead>\n",
       "    <tr style=\"text-align: right;\">\n",
       "      <th></th>\n",
       "      <th>Open-Stock-2</th>\n",
       "      <th>High-Stock-2</th>\n",
       "      <th>Low-Stock-2</th>\n",
       "      <th>VWAP-Stock-2</th>\n",
       "      <th>Volume-Stock-2</th>\n",
       "      <th>Turnover-Stock-2</th>\n",
       "      <th>year</th>\n",
       "      <th>month</th>\n",
       "      <th>day</th>\n",
       "    </tr>\n",
       "  </thead>\n",
       "  <tbody>\n",
       "    <tr>\n",
       "      <th>0</th>\n",
       "      <td>0.845151</td>\n",
       "      <td>0.825508</td>\n",
       "      <td>0.828125</td>\n",
       "      <td>0.824170</td>\n",
       "      <td>0.070992</td>\n",
       "      <td>0.146915</td>\n",
       "      <td>0.0</td>\n",
       "      <td>0.454545</td>\n",
       "      <td>0.000000</td>\n",
       "    </tr>\n",
       "    <tr>\n",
       "      <th>1</th>\n",
       "      <td>0.836248</td>\n",
       "      <td>0.818211</td>\n",
       "      <td>0.814063</td>\n",
       "      <td>0.807469</td>\n",
       "      <td>0.054321</td>\n",
       "      <td>0.116709</td>\n",
       "      <td>0.0</td>\n",
       "      <td>0.454545</td>\n",
       "      <td>0.033333</td>\n",
       "    </tr>\n",
       "    <tr>\n",
       "      <th>2</th>\n",
       "      <td>0.829889</td>\n",
       "      <td>0.831218</td>\n",
       "      <td>0.834375</td>\n",
       "      <td>0.834303</td>\n",
       "      <td>0.046959</td>\n",
       "      <td>0.106377</td>\n",
       "      <td>0.0</td>\n",
       "      <td>0.454545</td>\n",
       "      <td>0.066667</td>\n",
       "    </tr>\n",
       "    <tr>\n",
       "      <th>3</th>\n",
       "      <td>0.867091</td>\n",
       "      <td>0.862627</td>\n",
       "      <td>0.800000</td>\n",
       "      <td>0.862263</td>\n",
       "      <td>0.070891</td>\n",
       "      <td>0.150773</td>\n",
       "      <td>0.0</td>\n",
       "      <td>0.454545</td>\n",
       "      <td>0.100000</td>\n",
       "    </tr>\n",
       "    <tr>\n",
       "      <th>4</th>\n",
       "      <td>0.842607</td>\n",
       "      <td>0.845495</td>\n",
       "      <td>0.850000</td>\n",
       "      <td>0.844749</td>\n",
       "      <td>0.036999</td>\n",
       "      <td>0.089895</td>\n",
       "      <td>0.0</td>\n",
       "      <td>0.454545</td>\n",
       "      <td>0.200000</td>\n",
       "    </tr>\n",
       "  </tbody>\n",
       "</table>\n",
       "</div>"
      ],
      "text/plain": [
       "   Open-Stock-2  High-Stock-2  Low-Stock-2  VWAP-Stock-2  Volume-Stock-2  \\\n",
       "0      0.845151      0.825508     0.828125      0.824170        0.070992   \n",
       "1      0.836248      0.818211     0.814063      0.807469        0.054321   \n",
       "2      0.829889      0.831218     0.834375      0.834303        0.046959   \n",
       "3      0.867091      0.862627     0.800000      0.862263        0.070891   \n",
       "4      0.842607      0.845495     0.850000      0.844749        0.036999   \n",
       "\n",
       "   Turnover-Stock-2  year     month       day  \n",
       "0          0.146915   0.0  0.454545  0.000000  \n",
       "1          0.116709   0.0  0.454545  0.033333  \n",
       "2          0.106377   0.0  0.454545  0.066667  \n",
       "3          0.150773   0.0  0.454545  0.100000  \n",
       "4          0.089895   0.0  0.454545  0.200000  "
      ]
     },
     "execution_count": 20,
     "metadata": {},
     "output_type": "execute_result"
    }
   ],
   "source": [
    "df2[[\"Open-Stock-2\",\"High-Stock-2\",\"Low-Stock-2\",\"VWAP-Stock-2\",\"Volume-Stock-2\",\"Turnover-Stock-2\",\"year\",\"month\",\"day\"]] = scaler.fit_transform(df2[[\"Open-Stock-2\",\"High-Stock-2\",\"Low-Stock-2\",\"VWAP-Stock-2\",\"Volume-Stock-2\",\"Turnover-Stock-2\",\"year\",\"month\",\"day\"]])\n",
    "df2.head()"
   ]
  },
  {
   "cell_type": "code",
   "execution_count": 21,
   "metadata": {},
   "outputs": [
    {
     "data": {
      "text/html": [
       "<div>\n",
       "<style scoped>\n",
       "    .dataframe tbody tr th:only-of-type {\n",
       "        vertical-align: middle;\n",
       "    }\n",
       "\n",
       "    .dataframe tbody tr th {\n",
       "        vertical-align: top;\n",
       "    }\n",
       "\n",
       "    .dataframe thead th {\n",
       "        text-align: right;\n",
       "    }\n",
       "</style>\n",
       "<table border=\"1\" class=\"dataframe\">\n",
       "  <thead>\n",
       "    <tr style=\"text-align: right;\">\n",
       "      <th></th>\n",
       "      <th>Open-Stock-3</th>\n",
       "      <th>High-Stock-3</th>\n",
       "      <th>Low-Stock-3</th>\n",
       "      <th>VWAP-Stock-3</th>\n",
       "      <th>Volume-Stock-3</th>\n",
       "      <th>Turnover-Stock-3</th>\n",
       "      <th>year</th>\n",
       "      <th>month</th>\n",
       "      <th>day</th>\n",
       "    </tr>\n",
       "  </thead>\n",
       "  <tbody>\n",
       "    <tr>\n",
       "      <th>0</th>\n",
       "      <td>0.026217</td>\n",
       "      <td>0.000000</td>\n",
       "      <td>0.017453</td>\n",
       "      <td>0.023272</td>\n",
       "      <td>0.033137</td>\n",
       "      <td>0.021156</td>\n",
       "      <td>0.0</td>\n",
       "      <td>0.454545</td>\n",
       "      <td>0.000000</td>\n",
       "    </tr>\n",
       "    <tr>\n",
       "      <th>1</th>\n",
       "      <td>0.000000</td>\n",
       "      <td>0.000155</td>\n",
       "      <td>0.000000</td>\n",
       "      <td>0.000000</td>\n",
       "      <td>0.025085</td>\n",
       "      <td>0.015530</td>\n",
       "      <td>0.0</td>\n",
       "      <td>0.454545</td>\n",
       "      <td>0.033333</td>\n",
       "    </tr>\n",
       "    <tr>\n",
       "      <th>2</th>\n",
       "      <td>0.054739</td>\n",
       "      <td>0.026140</td>\n",
       "      <td>0.053984</td>\n",
       "      <td>0.038209</td>\n",
       "      <td>0.024861</td>\n",
       "      <td>0.015838</td>\n",
       "      <td>0.0</td>\n",
       "      <td>0.454545</td>\n",
       "      <td>0.066667</td>\n",
       "    </tr>\n",
       "    <tr>\n",
       "      <th>3</th>\n",
       "      <td>0.041768</td>\n",
       "      <td>0.045144</td>\n",
       "      <td>0.057515</td>\n",
       "      <td>0.067878</td>\n",
       "      <td>0.010997</td>\n",
       "      <td>0.006736</td>\n",
       "      <td>0.0</td>\n",
       "      <td>0.454545</td>\n",
       "      <td>0.100000</td>\n",
       "    </tr>\n",
       "    <tr>\n",
       "      <th>4</th>\n",
       "      <td>0.055404</td>\n",
       "      <td>0.086255</td>\n",
       "      <td>0.070604</td>\n",
       "      <td>0.095681</td>\n",
       "      <td>0.037631</td>\n",
       "      <td>0.025374</td>\n",
       "      <td>0.0</td>\n",
       "      <td>0.454545</td>\n",
       "      <td>0.200000</td>\n",
       "    </tr>\n",
       "  </tbody>\n",
       "</table>\n",
       "</div>"
      ],
      "text/plain": [
       "   Open-Stock-3  High-Stock-3  Low-Stock-3  VWAP-Stock-3  Volume-Stock-3  \\\n",
       "0      0.026217      0.000000     0.017453      0.023272        0.033137   \n",
       "1      0.000000      0.000155     0.000000      0.000000        0.025085   \n",
       "2      0.054739      0.026140     0.053984      0.038209        0.024861   \n",
       "3      0.041768      0.045144     0.057515      0.067878        0.010997   \n",
       "4      0.055404      0.086255     0.070604      0.095681        0.037631   \n",
       "\n",
       "   Turnover-Stock-3  year     month       day  \n",
       "0          0.021156   0.0  0.454545  0.000000  \n",
       "1          0.015530   0.0  0.454545  0.033333  \n",
       "2          0.015838   0.0  0.454545  0.066667  \n",
       "3          0.006736   0.0  0.454545  0.100000  \n",
       "4          0.025374   0.0  0.454545  0.200000  "
      ]
     },
     "execution_count": 21,
     "metadata": {},
     "output_type": "execute_result"
    }
   ],
   "source": [
    "df3[[\"Open-Stock-3\",\"High-Stock-3\",\"Low-Stock-3\",\"VWAP-Stock-3\",\"Volume-Stock-3\",\"Turnover-Stock-3\",\"year\",\"month\",\"day\"]] = scaler.fit_transform(df3[[\"Open-Stock-3\",\"High-Stock-3\",\"Low-Stock-3\",\"VWAP-Stock-3\",\"Volume-Stock-3\",\"Turnover-Stock-3\",\"year\",\"month\",\"day\"]])\n",
    "df3.head()"
   ]
  },
  {
   "cell_type": "code",
   "execution_count": 22,
   "metadata": {},
   "outputs": [
    {
     "data": {
      "text/html": [
       "<div>\n",
       "<style scoped>\n",
       "    .dataframe tbody tr th:only-of-type {\n",
       "        vertical-align: middle;\n",
       "    }\n",
       "\n",
       "    .dataframe tbody tr th {\n",
       "        vertical-align: top;\n",
       "    }\n",
       "\n",
       "    .dataframe thead th {\n",
       "        text-align: right;\n",
       "    }\n",
       "</style>\n",
       "<table border=\"1\" class=\"dataframe\">\n",
       "  <thead>\n",
       "    <tr style=\"text-align: right;\">\n",
       "      <th></th>\n",
       "      <th>Open-Stock-4</th>\n",
       "      <th>High-Stock-4</th>\n",
       "      <th>Low-Stock-4</th>\n",
       "      <th>VWAP-Stock-4</th>\n",
       "      <th>Volume-Stock-4</th>\n",
       "      <th>Turnover-Stock-4</th>\n",
       "      <th>year</th>\n",
       "      <th>month</th>\n",
       "      <th>day</th>\n",
       "    </tr>\n",
       "  </thead>\n",
       "  <tbody>\n",
       "    <tr>\n",
       "      <th>0</th>\n",
       "      <td>0.248930</td>\n",
       "      <td>0.068795</td>\n",
       "      <td>0.217278</td>\n",
       "      <td>0.046576</td>\n",
       "      <td>0.307041</td>\n",
       "      <td>0.223397</td>\n",
       "      <td>0.0</td>\n",
       "      <td>0.454545</td>\n",
       "      <td>0.000000</td>\n",
       "    </tr>\n",
       "    <tr>\n",
       "      <th>1</th>\n",
       "      <td>0.236542</td>\n",
       "      <td>0.035297</td>\n",
       "      <td>0.199157</td>\n",
       "      <td>0.032954</td>\n",
       "      <td>0.257531</td>\n",
       "      <td>0.183320</td>\n",
       "      <td>0.0</td>\n",
       "      <td>0.454545</td>\n",
       "      <td>0.033333</td>\n",
       "    </tr>\n",
       "    <tr>\n",
       "      <th>2</th>\n",
       "      <td>0.248485</td>\n",
       "      <td>0.055868</td>\n",
       "      <td>0.244371</td>\n",
       "      <td>0.066730</td>\n",
       "      <td>0.184072</td>\n",
       "      <td>0.129831</td>\n",
       "      <td>0.0</td>\n",
       "      <td>0.454545</td>\n",
       "      <td>0.066667</td>\n",
       "    </tr>\n",
       "    <tr>\n",
       "      <th>3</th>\n",
       "      <td>0.253298</td>\n",
       "      <td>0.077338</td>\n",
       "      <td>0.254956</td>\n",
       "      <td>0.087485</td>\n",
       "      <td>0.225793</td>\n",
       "      <td>0.164811</td>\n",
       "      <td>0.0</td>\n",
       "      <td>0.454545</td>\n",
       "      <td>0.100000</td>\n",
       "    </tr>\n",
       "    <tr>\n",
       "      <th>4</th>\n",
       "      <td>0.000000</td>\n",
       "      <td>0.035522</td>\n",
       "      <td>0.000000</td>\n",
       "      <td>0.036465</td>\n",
       "      <td>0.270907</td>\n",
       "      <td>0.194071</td>\n",
       "      <td>0.0</td>\n",
       "      <td>0.454545</td>\n",
       "      <td>0.200000</td>\n",
       "    </tr>\n",
       "  </tbody>\n",
       "</table>\n",
       "</div>"
      ],
      "text/plain": [
       "   Open-Stock-4  High-Stock-4  Low-Stock-4  VWAP-Stock-4  Volume-Stock-4  \\\n",
       "0      0.248930      0.068795     0.217278      0.046576        0.307041   \n",
       "1      0.236542      0.035297     0.199157      0.032954        0.257531   \n",
       "2      0.248485      0.055868     0.244371      0.066730        0.184072   \n",
       "3      0.253298      0.077338     0.254956      0.087485        0.225793   \n",
       "4      0.000000      0.035522     0.000000      0.036465        0.270907   \n",
       "\n",
       "   Turnover-Stock-4  year     month       day  \n",
       "0          0.223397   0.0  0.454545  0.000000  \n",
       "1          0.183320   0.0  0.454545  0.033333  \n",
       "2          0.129831   0.0  0.454545  0.066667  \n",
       "3          0.164811   0.0  0.454545  0.100000  \n",
       "4          0.194071   0.0  0.454545  0.200000  "
      ]
     },
     "execution_count": 22,
     "metadata": {},
     "output_type": "execute_result"
    }
   ],
   "source": [
    "df4[[\"Open-Stock-4\",\"High-Stock-4\",\"Low-Stock-4\",\"VWAP-Stock-4\",\"Volume-Stock-4\",\"Turnover-Stock-4\",\"year\",\"month\",\"day\"]] = scaler.fit_transform(df4[[\"Open-Stock-4\",\"High-Stock-4\",\"Low-Stock-4\",\"VWAP-Stock-4\",\"Volume-Stock-4\",\"Turnover-Stock-4\",\"year\",\"month\",\"day\"]])\n",
    "df4.head()"
   ]
  },
  {
   "cell_type": "code",
   "execution_count": 23,
   "metadata": {},
   "outputs": [
    {
     "data": {
      "text/html": [
       "<div>\n",
       "<style scoped>\n",
       "    .dataframe tbody tr th:only-of-type {\n",
       "        vertical-align: middle;\n",
       "    }\n",
       "\n",
       "    .dataframe tbody tr th {\n",
       "        vertical-align: top;\n",
       "    }\n",
       "\n",
       "    .dataframe thead th {\n",
       "        text-align: right;\n",
       "    }\n",
       "</style>\n",
       "<table border=\"1\" class=\"dataframe\">\n",
       "  <thead>\n",
       "    <tr style=\"text-align: right;\">\n",
       "      <th></th>\n",
       "      <th>Open-Stock-5</th>\n",
       "      <th>High-Stock-5</th>\n",
       "      <th>Low-Stock-5</th>\n",
       "      <th>VWAP-Stock-5</th>\n",
       "      <th>Volume-Stock-5</th>\n",
       "      <th>Turnover-Stock-5</th>\n",
       "      <th>year</th>\n",
       "      <th>month</th>\n",
       "      <th>day</th>\n",
       "    </tr>\n",
       "  </thead>\n",
       "  <tbody>\n",
       "    <tr>\n",
       "      <th>0</th>\n",
       "      <td>0.179768</td>\n",
       "      <td>0.104423</td>\n",
       "      <td>0.064118</td>\n",
       "      <td>0.065582</td>\n",
       "      <td>0.340687</td>\n",
       "      <td>0.282565</td>\n",
       "      <td>0.0</td>\n",
       "      <td>0.454545</td>\n",
       "      <td>0.000000</td>\n",
       "    </tr>\n",
       "    <tr>\n",
       "      <th>1</th>\n",
       "      <td>0.088631</td>\n",
       "      <td>0.029369</td>\n",
       "      <td>0.043933</td>\n",
       "      <td>0.047810</td>\n",
       "      <td>0.245472</td>\n",
       "      <td>0.201227</td>\n",
       "      <td>0.0</td>\n",
       "      <td>0.454545</td>\n",
       "      <td>0.033333</td>\n",
       "    </tr>\n",
       "    <tr>\n",
       "      <th>2</th>\n",
       "      <td>0.125085</td>\n",
       "      <td>0.128596</td>\n",
       "      <td>0.144859</td>\n",
       "      <td>0.147836</td>\n",
       "      <td>0.280383</td>\n",
       "      <td>0.239014</td>\n",
       "      <td>0.0</td>\n",
       "      <td>0.454545</td>\n",
       "      <td>0.066667</td>\n",
       "    </tr>\n",
       "    <tr>\n",
       "      <th>3</th>\n",
       "      <td>0.191160</td>\n",
       "      <td>0.152768</td>\n",
       "      <td>0.213726</td>\n",
       "      <td>0.191166</td>\n",
       "      <td>0.274722</td>\n",
       "      <td>0.237795</td>\n",
       "      <td>0.0</td>\n",
       "      <td>0.454545</td>\n",
       "      <td>0.100000</td>\n",
       "    </tr>\n",
       "    <tr>\n",
       "      <th>4</th>\n",
       "      <td>0.142401</td>\n",
       "      <td>0.073000</td>\n",
       "      <td>0.109238</td>\n",
       "      <td>0.094278</td>\n",
       "      <td>0.268782</td>\n",
       "      <td>0.224544</td>\n",
       "      <td>0.0</td>\n",
       "      <td>0.454545</td>\n",
       "      <td>0.200000</td>\n",
       "    </tr>\n",
       "  </tbody>\n",
       "</table>\n",
       "</div>"
      ],
      "text/plain": [
       "   Open-Stock-5  High-Stock-5  Low-Stock-5  VWAP-Stock-5  Volume-Stock-5  \\\n",
       "0      0.179768      0.104423     0.064118      0.065582        0.340687   \n",
       "1      0.088631      0.029369     0.043933      0.047810        0.245472   \n",
       "2      0.125085      0.128596     0.144859      0.147836        0.280383   \n",
       "3      0.191160      0.152768     0.213726      0.191166        0.274722   \n",
       "4      0.142401      0.073000     0.109238      0.094278        0.268782   \n",
       "\n",
       "   Turnover-Stock-5  year     month       day  \n",
       "0          0.282565   0.0  0.454545  0.000000  \n",
       "1          0.201227   0.0  0.454545  0.033333  \n",
       "2          0.239014   0.0  0.454545  0.066667  \n",
       "3          0.237795   0.0  0.454545  0.100000  \n",
       "4          0.224544   0.0  0.454545  0.200000  "
      ]
     },
     "execution_count": 23,
     "metadata": {},
     "output_type": "execute_result"
    }
   ],
   "source": [
    "df5[[\"Open-Stock-5\",\"High-Stock-5\",\"Low-Stock-5\",\"VWAP-Stock-5\",\"Volume-Stock-5\",\"Turnover-Stock-5\",\"year\",\"month\",\"day\"]] = scaler.fit_transform(df5[[\"Open-Stock-5\",\"High-Stock-5\",\"Low-Stock-5\",\"VWAP-Stock-5\",\"Volume-Stock-5\",\"Turnover-Stock-5\",\"year\",\"month\",\"day\"]])\n",
    "df5.head()"
   ]
  },
  {
   "cell_type": "code",
   "execution_count": 24,
   "metadata": {
    "scrolled": true
   },
   "outputs": [
    {
     "data": {
      "text/plain": [
       "Open-Stock-1       -3.147039\n",
       "High-Stock-1       -3.176070\n",
       "Low-Stock-1        -3.156502\n",
       "VWAP-Stock-1       -3.176146\n",
       "Volume-Stock-1      3.182177\n",
       "Turnover-Stock-1    1.352826\n",
       "year                0.020169\n",
       "month              -0.028484\n",
       "day                 0.015460\n",
       "dtype: float64"
      ]
     },
     "execution_count": 24,
     "metadata": {},
     "output_type": "execute_result"
    }
   ],
   "source": [
    "df1.skew()"
   ]
  },
  {
   "cell_type": "code",
   "execution_count": 25,
   "metadata": {},
   "outputs": [],
   "source": [
    "def outlier_treatment(datacolumn):\n",
    " sorted(datacolumn)\n",
    " Q1,Q3 = np.percentile(datacolumn , [25,75])\n",
    " IQR = Q3 - Q1\n",
    " lower_range = Q1 - (1.5 * IQR)\n",
    " upper_range = Q3 + (1.5 * IQR)\n",
    " return (lower_range,upper_range)"
   ]
  },
  {
   "cell_type": "code",
   "execution_count": 26,
   "metadata": {},
   "outputs": [
    {
     "data": {
      "text/plain": [
       "<matplotlib.axes._subplots.AxesSubplot at 0x1fa9cd32580>"
      ]
     },
     "execution_count": 26,
     "metadata": {},
     "output_type": "execute_result"
    },
    {
     "data": {
      "image/png": "[encoded data removed]",
      "text/plain": [
       "<Figure size 432x288 with 1 Axes>"
      ]
     },
     "metadata": {},
     "output_type": "display_data"
    }
   ],
   "source": [
    "sns.boxplot(df1['Open-Stock-1'],palette = \"Set3\")"
   ]
  },
  {
   "cell_type": "code",
   "execution_count": 27,
   "metadata": {},
   "outputs": [
    {
     "data": {
      "text/plain": [
       "299"
      ]
     },
     "execution_count": 27,
     "metadata": {},
     "output_type": "execute_result"
    }
   ],
   "source": [
    "len(df1)"
   ]
  },
  {
   "cell_type": "code",
   "execution_count": 28,
   "metadata": {},
   "outputs": [
    {
     "data": {
      "text/html": [
       "<div>\n",
       "<style scoped>\n",
       "    .dataframe tbody tr th:only-of-type {\n",
       "        vertical-align: middle;\n",
       "    }\n",
       "\n",
       "    .dataframe tbody tr th {\n",
       "        vertical-align: top;\n",
       "    }\n",
       "\n",
       "    .dataframe thead th {\n",
       "        text-align: right;\n",
       "    }\n",
       "</style>\n",
       "<table border=\"1\" class=\"dataframe\">\n",
       "  <thead>\n",
       "    <tr style=\"text-align: right;\">\n",
       "      <th></th>\n",
       "      <th>Open-Stock-1</th>\n",
       "      <th>High-Stock-1</th>\n",
       "      <th>Low-Stock-1</th>\n",
       "      <th>VWAP-Stock-1</th>\n",
       "      <th>Volume-Stock-1</th>\n",
       "      <th>Turnover-Stock-1</th>\n",
       "      <th>year</th>\n",
       "      <th>month</th>\n",
       "      <th>day</th>\n",
       "    </tr>\n",
       "  </thead>\n",
       "  <tbody>\n",
       "    <tr>\n",
       "      <th>count</th>\n",
       "      <td>299.000000</td>\n",
       "      <td>299.000000</td>\n",
       "      <td>299.000000</td>\n",
       "      <td>299.000000</td>\n",
       "      <td>299.000000</td>\n",
       "      <td>299.000000</td>\n",
       "      <td>299.000000</td>\n",
       "      <td>299.000000</td>\n",
       "      <td>299.000000</td>\n",
       "    </tr>\n",
       "    <tr>\n",
       "      <th>mean</th>\n",
       "      <td>0.797711</td>\n",
       "      <td>0.802170</td>\n",
       "      <td>0.790284</td>\n",
       "      <td>0.795323</td>\n",
       "      <td>0.159827</td>\n",
       "      <td>0.351327</td>\n",
       "      <td>0.494983</td>\n",
       "      <td>0.507145</td>\n",
       "      <td>0.485396</td>\n",
       "    </tr>\n",
       "    <tr>\n",
       "      <th>std</th>\n",
       "      <td>0.196857</td>\n",
       "      <td>0.198153</td>\n",
       "      <td>0.195389</td>\n",
       "      <td>0.196418</td>\n",
       "      <td>0.113040</td>\n",
       "      <td>0.175047</td>\n",
       "      <td>0.500813</td>\n",
       "      <td>0.288294</td>\n",
       "      <td>0.297326</td>\n",
       "    </tr>\n",
       "    <tr>\n",
       "      <th>min</th>\n",
       "      <td>0.000000</td>\n",
       "      <td>0.000000</td>\n",
       "      <td>0.000000</td>\n",
       "      <td>0.000000</td>\n",
       "      <td>0.000000</td>\n",
       "      <td>0.000000</td>\n",
       "      <td>0.000000</td>\n",
       "      <td>0.000000</td>\n",
       "      <td>0.000000</td>\n",
       "    </tr>\n",
       "    <tr>\n",
       "      <th>25%</th>\n",
       "      <td>0.766780</td>\n",
       "      <td>0.774172</td>\n",
       "      <td>0.758904</td>\n",
       "      <td>0.766645</td>\n",
       "      <td>0.095822</td>\n",
       "      <td>0.222866</td>\n",
       "      <td>0.000000</td>\n",
       "      <td>0.272727</td>\n",
       "      <td>0.233333</td>\n",
       "    </tr>\n",
       "    <tr>\n",
       "      <th>50%</th>\n",
       "      <td>0.839026</td>\n",
       "      <td>0.848048</td>\n",
       "      <td>0.832266</td>\n",
       "      <td>0.835284</td>\n",
       "      <td>0.131223</td>\n",
       "      <td>0.317116</td>\n",
       "      <td>0.000000</td>\n",
       "      <td>0.545455</td>\n",
       "      <td>0.466667</td>\n",
       "    </tr>\n",
       "    <tr>\n",
       "      <th>75%</th>\n",
       "      <td>0.898865</td>\n",
       "      <td>0.902978</td>\n",
       "      <td>0.891972</td>\n",
       "      <td>0.896776</td>\n",
       "      <td>0.182994</td>\n",
       "      <td>0.425687</td>\n",
       "      <td>1.000000</td>\n",
       "      <td>0.727273</td>\n",
       "      <td>0.733333</td>\n",
       "    </tr>\n",
       "    <tr>\n",
       "      <th>max</th>\n",
       "      <td>1.000000</td>\n",
       "      <td>1.000000</td>\n",
       "      <td>1.000000</td>\n",
       "      <td>1.000000</td>\n",
       "      <td>1.000000</td>\n",
       "      <td>1.000000</td>\n",
       "      <td>1.000000</td>\n",
       "      <td>1.000000</td>\n",
       "      <td>1.000000</td>\n",
       "    </tr>\n",
       "  </tbody>\n",
       "</table>\n",
       "</div>"
      ],
      "text/plain": [
       "       Open-Stock-1  High-Stock-1  Low-Stock-1  VWAP-Stock-1  Volume-Stock-1  \\\n",
       "count    299.000000    299.000000   299.000000    299.000000      299.000000   \n",
       "mean       0.797711      0.802170     0.790284      0.795323        0.159827   \n",
       "std        0.196857      0.198153     0.195389      0.196418        0.113040   \n",
       "min        0.000000      0.000000     0.000000      0.000000        0.000000   \n",
       "25%        0.766780      0.774172     0.758904      0.766645        0.095822   \n",
       "50%        0.839026      0.848048     0.832266      0.835284        0.131223   \n",
       "75%        0.898865      0.902978     0.891972      0.896776        0.182994   \n",
       "max        1.000000      1.000000     1.000000      1.000000        1.000000   \n",
       "\n",
       "       Turnover-Stock-1        year       month         day  \n",
       "count        299.000000  299.000000  299.000000  299.000000  \n",
       "mean           0.351327    0.494983    0.507145    0.485396  \n",
       "std            0.175047    0.500813    0.288294    0.297326  \n",
       "min            0.000000    0.000000    0.000000    0.000000  \n",
       "25%            0.222866    0.000000    0.272727    0.233333  \n",
       "50%            0.317116    0.000000    0.545455    0.466667  \n",
       "75%            0.425687    1.000000    0.727273    0.733333  \n",
       "max            1.000000    1.000000    1.000000    1.000000  "
      ]
     },
     "execution_count": 28,
     "metadata": {},
     "output_type": "execute_result"
    }
   ],
   "source": [
    "df1.describe()"
   ]
  },
  {
   "cell_type": "code",
   "execution_count": 29,
   "metadata": {},
   "outputs": [
    {
     "data": {
      "text/plain": [
       "<matplotlib.axes._subplots.AxesSubplot at 0x1faa4ddd1f0>"
      ]
     },
     "execution_count": 29,
     "metadata": {},
     "output_type": "execute_result"
    },
    {
     "data": {
      "image/png": "[encoded data removed]",
      "text/plain": [
       "<Figure size 432x288 with 1 Axes>"
      ]
     },
     "metadata": {},
     "output_type": "display_data"
    }
   ],
   "source": [
    "lowerbound,upperbound = outlier_treatment(df1['Open-Stock-1'])\n",
    "median = df1['Open-Stock-1'].median()\n",
    "df1['Open-Stock-1'] = np.where(df1['Open-Stock-1'] > upperbound, median,df1['Open-Stock-1'])\n",
    "df1['Open-Stock-1'] = np.where(df1['Open-Stock-1'] < lowerbound, median,df1['Open-Stock-1'])\n",
    "sns.boxplot(df1['Open-Stock-1'],palette = \"Set3\")"
   ]
  },
  {
   "cell_type": "code",
   "execution_count": 30,
   "metadata": {},
   "outputs": [
    {
     "data": {
      "text/plain": [
       "<matplotlib.axes._subplots.AxesSubplot at 0x1faa4e6cee0>"
      ]
     },
     "execution_count": 30,
     "metadata": {},
     "output_type": "execute_result"
    },
    {
     "data": {
      "image/png": "[encoded data removed]",
      "text/plain": [
       "<Figure size 432x288 with 1 Axes>"
      ]
     },
     "metadata": {},
     "output_type": "display_data"
    }
   ],
   "source": [
    "sns.boxplot(df1['High-Stock-1'],palette = \"Set3\")"
   ]
  },
  {
   "cell_type": "code",
   "execution_count": 31,
   "metadata": {},
   "outputs": [
    {
     "data": {
      "text/plain": [
       "<matplotlib.axes._subplots.AxesSubplot at 0x1faa4eca160>"
      ]
     },
     "execution_count": 31,
     "metadata": {},
     "output_type": "execute_result"
    },
    {
     "data": {
      "image/png": "[encoded data removed]",
      "text/plain": [
       "<Figure size 432x288 with 1 Axes>"
      ]
     },
     "metadata": {},
     "output_type": "display_data"
    }
   ],
   "source": [
    "lowerbound,upperbound = outlier_treatment(df1['High-Stock-1'])\n",
    "median = df1['High-Stock-1'].median()\n",
    "df1['High-Stock-1'] = np.where(df1['High-Stock-1'] > upperbound, median,df1['High-Stock-1'])\n",
    "df1['High-Stock-1'] = np.where(df1['High-Stock-1'] < lowerbound, median,df1['High-Stock-1'])\n",
    "sns.boxplot(df1['High-Stock-1'],palette = \"Set3\")"
   ]
  },
  {
   "cell_type": "code",
   "execution_count": 32,
   "metadata": {},
   "outputs": [
    {
     "data": {
      "text/plain": [
       "<matplotlib.axes._subplots.AxesSubplot at 0x1faa4f20cd0>"
      ]
     },
     "execution_count": 32,
     "metadata": {},
     "output_type": "execute_result"
    },
    {
     "data": {
      "image/png": "[encoded data removed]",
      "text/plain": [
       "<Figure size 432x288 with 1 Axes>"
      ]
     },
     "metadata": {},
     "output_type": "display_data"
    }
   ],
   "source": [
    "sns.boxplot(df1['Low-Stock-1'],palette = \"Set3\")"
   ]
  },
  {
   "cell_type": "code",
   "execution_count": 33,
   "metadata": {},
   "outputs": [
    {
     "data": {
      "text/plain": [
       "<matplotlib.axes._subplots.AxesSubplot at 0x1faa4f83430>"
      ]
     },
     "execution_count": 33,
     "metadata": {},
     "output_type": "execute_result"
    },
    {
     "data": {
      "image/png": "[encoded data removed]",
      "text/plain": [
       "<Figure size 432x288 with 1 Axes>"
      ]
     },
     "metadata": {},
     "output_type": "display_data"
    }
   ],
   "source": [
    "lowerbound,upperbound = outlier_treatment(df1['Low-Stock-1'])\n",
    "median = df1['Low-Stock-1'].median()\n",
    "df1['Low-Stock-1'] = np.where(df1['Low-Stock-1'] > upperbound, median,df1['Low-Stock-1'])\n",
    "df1['Low-Stock-1'] = np.where(df1['Low-Stock-1'] < lowerbound, median,df1['Low-Stock-1'])\n",
    "sns.boxplot(df1['Low-Stock-1'],palette = \"Set3\")"
   ]
  },
  {
   "cell_type": "code",
   "execution_count": 34,
   "metadata": {},
   "outputs": [
    {
     "data": {
      "text/plain": [
       "<matplotlib.axes._subplots.AxesSubplot at 0x1faa4fd5a00>"
      ]
     },
     "execution_count": 34,
     "metadata": {},
     "output_type": "execute_result"
    },
    {
     "data": {
      "image/png": "[encoded data removed]",
      "text/plain": [
       "<Figure size 432x288 with 1 Axes>"
      ]
     },
     "metadata": {},
     "output_type": "display_data"
    }
   ],
   "source": [
    "sns.boxplot(df1['VWAP-Stock-1'],palette = \"Set3\")"
   ]
  },
  {
   "cell_type": "code",
   "execution_count": 35,
   "metadata": {},
   "outputs": [
    {
     "data": {
      "text/plain": [
       "<matplotlib.axes._subplots.AxesSubplot at 0x1faa5036460>"
      ]
     },
     "execution_count": 35,
     "metadata": {},
     "output_type": "execute_result"
    },
    {
     "data": {
      "image/png": "[encoded data removed]",
      "text/plain": [
       "<Figure size 432x288 with 1 Axes>"
      ]
     },
     "metadata": {},
     "output_type": "display_data"
    }
   ],
   "source": [
    "VWAPerbound,upperbound = outlier_treatment(df1['VWAP-Stock-1'])\n",
    "median = df1['VWAP-Stock-1'].median()\n",
    "df1['VWAP-Stock-1'] = np.where(df1['VWAP-Stock-1'] > upperbound, median,df1['VWAP-Stock-1'])\n",
    "df1['VWAP-Stock-1'] = np.where(df1['VWAP-Stock-1'] < VWAPerbound, median,df1['VWAP-Stock-1'])\n",
    "sns.boxplot(df1['VWAP-Stock-1'],palette = \"Set3\")"
   ]
  },
  {
   "cell_type": "code",
   "execution_count": 36,
   "metadata": {},
   "outputs": [
    {
     "data": {
      "text/plain": [
       "<matplotlib.axes._subplots.AxesSubplot at 0x1faa4f835e0>"
      ]
     },
     "execution_count": 36,
     "metadata": {},
     "output_type": "execute_result"
    },
    {
     "data": {
      "image/png": "[encoded data removed]",
      "text/plain": [
       "<Figure size 432x288 with 1 Axes>"
      ]
     },
     "metadata": {},
     "output_type": "display_data"
    }
   ],
   "source": [
    "lowerbound,upperbound = outlier_treatment(df1['Volume-Stock-1'])\n",
    "median = df1['Volume-Stock-1'].median()\n",
    "df1['Volume-Stock-1'] = np.where(df1['Volume-Stock-1'] > upperbound, median,df1['Volume-Stock-1'])\n",
    "df1['Volume-Stock-1'] = np.where(df1['Volume-Stock-1'] < lowerbound, median,df1['Volume-Stock-1'])\n",
    "sns.boxplot(df1['Volume-Stock-1'],palette = \"Set3\")"
   ]
  },
  {
   "cell_type": "code",
   "execution_count": 37,
   "metadata": {},
   "outputs": [
    {
     "data": {
      "text/plain": [
       "<matplotlib.axes._subplots.AxesSubplot at 0x1faa50d60a0>"
      ]
     },
     "execution_count": 37,
     "metadata": {},
     "output_type": "execute_result"
    },
    {
     "data": {
      "image/png": "[encoded data removed]",
      "text/plain": [
       "<Figure size 432x288 with 1 Axes>"
      ]
     },
     "metadata": {},
     "output_type": "display_data"
    }
   ],
   "source": [
    "lowerbound,upperbound = outlier_treatment(df1['Turnover-Stock-1'])\n",
    "median = df1['Turnover-Stock-1'].median()\n",
    "df1['Turnover-Stock-1'] = np.where(df1['Turnover-Stock-1'] > upperbound, median,df1['Turnover-Stock-1'])\n",
    "df1['Turnover-Stock-1'] = np.where(df1['Turnover-Stock-1'] < lowerbound, median,df1['Turnover-Stock-1'])\n",
    "sns.boxplot(df1['Turnover-Stock-1'],palette = \"Set3\")"
   ]
  },
  {
   "cell_type": "code",
   "execution_count": 38,
   "metadata": {},
   "outputs": [
    {
     "data": {
      "text/plain": [
       "Open-Stock-1       -0.270948\n",
       "High-Stock-1       -0.338203\n",
       "Low-Stock-1        -0.265131\n",
       "VWAP-Stock-1       -0.292210\n",
       "Volume-Stock-1      0.798953\n",
       "Turnover-Stock-1    0.584953\n",
       "year                0.020169\n",
       "month              -0.028484\n",
       "day                 0.015460\n",
       "dtype: float64"
      ]
     },
     "execution_count": 38,
     "metadata": {},
     "output_type": "execute_result"
    }
   ],
   "source": [
    "df1.skew()"
   ]
  },
  {
   "cell_type": "code",
   "execution_count": 39,
   "metadata": {},
   "outputs": [
    {
     "data": {
      "text/plain": [
       "299"
      ]
     },
     "execution_count": 39,
     "metadata": {},
     "output_type": "execute_result"
    }
   ],
   "source": [
    "len(df1)"
   ]
  },
  {
   "cell_type": "code",
   "execution_count": 40,
   "metadata": {},
   "outputs": [
    {
     "data": {
      "text/plain": [
       "RandomForestRegressor(max_depth=2, random_state=0)"
      ]
     },
     "execution_count": 40,
     "metadata": {},
     "output_type": "execute_result"
    }
   ],
   "source": [
    "from sklearn.model_selection import train_test_split\n",
    "x_train,x_test,y_train,y_test = train_test_split(df1,target1,test_size=0.2,random_state=42)\n",
    "from sklearn.metrics import mean_squared_error\n",
    "from math import sqrt\n",
    "\n",
    "from sklearn.ensemble import RandomForestRegressor\n",
    "regr = RandomForestRegressor(max_depth=2, random_state=0)\n",
    "regr.fit(x_train,y_train)"
   ]
  },
  {
   "cell_type": "code",
   "execution_count": 41,
   "metadata": {},
   "outputs": [
    {
     "name": "stdout",
     "output_type": "stream",
     "text": [
      "RMSE train: 93.17499207019655\n",
      "RMSE test: 106.62861280940439\n"
     ]
    }
   ],
   "source": [
    "pred = regr.predict(x_test)\n",
    "rmse_test = sqrt(mean_squared_error(y_test, pred))\n",
    "pred = regr.predict(x_train)\n",
    "rmse_train = sqrt(mean_squared_error(y_train, pred))\n",
    "\n",
    "print(\"RMSE train: %s\" % rmse_train) \n",
    "print(\"RMSE test: %s\" % rmse_test) "
   ]
  },
  {
   "cell_type": "code",
   "execution_count": 42,
   "metadata": {},
   "outputs": [
    {
     "name": "stdout",
     "output_type": "stream",
     "text": [
      "RMSE train: 443.373675703783\n",
      "RMSE test: 274.09007049426555\n"
     ]
    }
   ],
   "source": [
    "from sklearn import svm\n",
    "svm_reg = svm.SVR()\n",
    "svm_reg.fit(x_train, y_train)\n",
    "\n",
    "pred = svm_reg.predict(x_test)\n",
    "rmse_test = sqrt(mean_squared_error(y_test, pred))\n",
    "\n",
    "pred = svm_reg.predict(x_train)\n",
    "rmse_train = sqrt(mean_squared_error(y_train, pred))\n",
    "\n",
    "print(\"RMSE train: %s\" % rmse_train) \n",
    "print(\"RMSE test: %s\" % rmse_test) "
   ]
  },
  {
   "cell_type": "code",
   "execution_count": 43,
   "metadata": {},
   "outputs": [
    {
     "name": "stdout",
     "output_type": "stream",
     "text": [
      "RMSE train: 288.87827127097245\n",
      "RMSE test: 243.3185539887754\n"
     ]
    }
   ],
   "source": [
    "from sklearn.linear_model import LinearRegression\n",
    "reg = LinearRegression().fit(x_train, y_train)\n",
    "\n",
    "pred = reg.predict(x_test)\n",
    "rmse_test = sqrt(mean_squared_error(y_test, pred))\n",
    "\n",
    "pred = reg.predict(x_train)\n",
    "rmse_train = sqrt(mean_squared_error(y_train, pred))\n",
    "\n",
    "print(\"RMSE train: %s\" % rmse_train) \n",
    "print(\"RMSE test: %s\" % rmse_test) "
   ]
  },
  {
   "cell_type": "code",
   "execution_count": 44,
   "metadata": {},
   "outputs": [
    {
     "name": "stdout",
     "output_type": "stream",
     "text": [
      "RMSE train: 6.586485709467442\n",
      "RMSE test: 49.09580853548589\n"
     ]
    }
   ],
   "source": [
    "from sklearn.ensemble import GradientBoostingRegressor\n",
    "reg_grad = GradientBoostingRegressor(random_state = 0)\n",
    "reg_grad.fit(x_train,y_train)\n",
    "\n",
    "pred = reg_grad.predict(x_test)\n",
    "rmse_test = sqrt(mean_squared_error(y_test, pred))\n",
    "\n",
    "pred = reg_grad.predict(x_train)\n",
    "rmse_train = sqrt(mean_squared_error(y_train, pred))\n",
    "\n",
    "print(\"RMSE train: %s\" % rmse_train) \n",
    "print(\"RMSE test: %s\" % rmse_test) "
   ]
  },
  {
   "cell_type": "code",
   "execution_count": 45,
   "metadata": {},
   "outputs": [
    {
     "name": "stdout",
     "output_type": "stream",
     "text": [
      "RMSE train: 210.67562755964977\n",
      "RMSE test: 128.81785562662014\n"
     ]
    }
   ],
   "source": [
    "from sklearn.neighbors import KNeighborsRegressor\n",
    "regn = KNeighborsRegressor(n_neighbors=6)\n",
    "regn.fit(x_train,y_train)\n",
    "\n",
    "pred = regn.predict(x_test)\n",
    "rmse_test = sqrt(mean_squared_error(y_test, pred))\n",
    "\n",
    "pred = regn.predict(x_train)\n",
    "rmse_train = sqrt(mean_squared_error(y_train, pred))\n",
    "\n",
    "print(\"RMSE train: %s\" % rmse_train) \n",
    "print(\"RMSE test: %s\" % rmse_test) "
   ]
  },
  {
   "cell_type": "code",
   "execution_count": 46,
   "metadata": {},
   "outputs": [],
   "source": [
    "pr_1 = reg_grad.predict(df_t1) #1st target value"
   ]
  },
  {
   "cell_type": "code",
   "execution_count": 47,
   "metadata": {},
   "outputs": [
    {
     "data": {
      "text/plain": [
       "Open-Stock-2        1.670250\n",
       "High-Stock-2        1.664292\n",
       "Low-Stock-2         1.666840\n",
       "VWAP-Stock-2        1.664128\n",
       "Volume-Stock-2      2.375246\n",
       "Turnover-Stock-2    2.314755\n",
       "year                0.020169\n",
       "month              -0.028484\n",
       "day                 0.015460\n",
       "dtype: float64"
      ]
     },
     "execution_count": 47,
     "metadata": {},
     "output_type": "execute_result"
    }
   ],
   "source": [
    "df2.skew()"
   ]
  },
  {
   "cell_type": "code",
   "execution_count": 48,
   "metadata": {},
   "outputs": [
    {
     "data": {
      "text/plain": [
       "<matplotlib.axes._subplots.AxesSubplot at 0x1faa58b6af0>"
      ]
     },
     "execution_count": 48,
     "metadata": {},
     "output_type": "execute_result"
    },
    {
     "data": {
      "image/png": "[encoded data removed]",
      "text/plain": [
       "<Figure size 432x288 with 1 Axes>"
      ]
     },
     "metadata": {},
     "output_type": "display_data"
    }
   ],
   "source": [
    "lowerbound,upperbound = outlier_treatment(df2['Open-Stock-2'])\n",
    "median = df2['Open-Stock-2'].median()\n",
    "df2['Open-Stock-2'] = np.where(df2['Open-Stock-2'] > upperbound, median,df2['Open-Stock-2'])\n",
    "df2['Open-Stock-2'] = np.where(df2['Open-Stock-2'] < lowerbound, median,df2['Open-Stock-2'])\n",
    "sns.boxplot(df2['Open-Stock-2'],palette = \"Set3\")"
   ]
  },
  {
   "cell_type": "code",
   "execution_count": 49,
   "metadata": {},
   "outputs": [
    {
     "data": {
      "text/plain": [
       "<matplotlib.axes._subplots.AxesSubplot at 0x1faa5905310>"
      ]
     },
     "execution_count": 49,
     "metadata": {},
     "output_type": "execute_result"
    },
    {
     "data": {
      "image/png": "[encoded data removed]",
      "text/plain": [
       "<Figure size 432x288 with 1 Axes>"
      ]
     },
     "metadata": {},
     "output_type": "display_data"
    }
   ],
   "source": [
    "lowerbound,upperbound = outlier_treatment(df2['High-Stock-2'])\n",
    "median = df2['High-Stock-2'].median()\n",
    "df2['High-Stock-2'] = np.where(df2['High-Stock-2'] > upperbound, median,df2['High-Stock-2'])\n",
    "df2['High-Stock-2'] = np.where(df2['High-Stock-2'] < lowerbound, median,df2['High-Stock-2'])\n",
    "sns.boxplot(df2['High-Stock-2'],palette = \"Set3\")"
   ]
  },
  {
   "cell_type": "code",
   "execution_count": 50,
   "metadata": {},
   "outputs": [
    {
     "data": {
      "text/plain": [
       "<matplotlib.axes._subplots.AxesSubplot at 0x1faa5961910>"
      ]
     },
     "execution_count": 50,
     "metadata": {},
     "output_type": "execute_result"
    },
    {
     "data": {
      "image/png": "[encoded data removed]",
      "text/plain": [
       "<Figure size 432x288 with 1 Axes>"
      ]
     },
     "metadata": {},
     "output_type": "display_data"
    }
   ],
   "source": [
    "lowerbound,upperbound = outlier_treatment(df2['Low-Stock-2'])\n",
    "median = df2['Low-Stock-2'].median()\n",
    "df2['Low-Stock-2'] = np.where(df2['Low-Stock-2'] > upperbound, median,df2['Low-Stock-2'])\n",
    "df2['Low-Stock-2'] = np.where(df2['Low-Stock-2'] < lowerbound, median,df2['Low-Stock-2'])\n",
    "sns.boxplot(df2['Low-Stock-2'],palette = \"Set3\")"
   ]
  },
  {
   "cell_type": "code",
   "execution_count": 51,
   "metadata": {},
   "outputs": [
    {
     "data": {
      "text/plain": [
       "<matplotlib.axes._subplots.AxesSubplot at 0x1faa59bc3a0>"
      ]
     },
     "execution_count": 51,
     "metadata": {},
     "output_type": "execute_result"
    },
    {
     "data": {
      "image/png": "[encoded data removed]",
      "text/plain": [
       "<Figure size 432x288 with 1 Axes>"
      ]
     },
     "metadata": {},
     "output_type": "display_data"
    }
   ],
   "source": [
    "lowerbound,upperbound = outlier_treatment(df2['VWAP-Stock-2'])\n",
    "median = df2['VWAP-Stock-2'].median()\n",
    "df2['VWAP-Stock-2'] = np.where(df2['VWAP-Stock-2'] > upperbound, median,df2['VWAP-Stock-2'])\n",
    "df2['VWAP-Stock-2'] = np.where(df2['VWAP-Stock-2'] < lowerbound, median,df2['VWAP-Stock-2'])\n",
    "sns.boxplot(df2['VWAP-Stock-2'],palette = \"Set3\")"
   ]
  },
  {
   "cell_type": "code",
   "execution_count": 52,
   "metadata": {},
   "outputs": [
    {
     "data": {
      "text/plain": [
       "<matplotlib.axes._subplots.AxesSubplot at 0x1faa58bc7f0>"
      ]
     },
     "execution_count": 52,
     "metadata": {},
     "output_type": "execute_result"
    },
    {
     "data": {
      "image/png": "[encoded data removed]",
      "text/plain": [
       "<Figure size 432x288 with 1 Axes>"
      ]
     },
     "metadata": {},
     "output_type": "display_data"
    }
   ],
   "source": [
    "lowerbound,upperbound = outlier_treatment(df2['Turnover-Stock-2'])\n",
    "median = df2['Turnover-Stock-2'].median()\n",
    "df2['Turnover-Stock-2'] = np.where(df2['Turnover-Stock-2'] > upperbound, median,df2['Turnover-Stock-2'])\n",
    "df2['Turnover-Stock-2'] = np.where(df2['Turnover-Stock-2'] < lowerbound, median,df2['Turnover-Stock-2'])\n",
    "sns.boxplot(df2['Turnover-Stock-2'],palette = \"Set3\")"
   ]
  },
  {
   "cell_type": "code",
   "execution_count": 53,
   "metadata": {},
   "outputs": [
    {
     "data": {
      "text/plain": [
       "<matplotlib.axes._subplots.AxesSubplot at 0x1faa5a618b0>"
      ]
     },
     "execution_count": 53,
     "metadata": {},
     "output_type": "execute_result"
    },
    {
     "data": {
      "image/png": "[encoded data removed]",
      "text/plain": [
       "<Figure size 432x288 with 1 Axes>"
      ]
     },
     "metadata": {},
     "output_type": "display_data"
    }
   ],
   "source": [
    "lowerbound,upperbound = outlier_treatment(df2['Volume-Stock-2'])\n",
    "median = df2['Volume-Stock-2'].median()\n",
    "df2['Volume-Stock-2'] = np.where(df2['Volume-Stock-2'] > upperbound, median,df2['Volume-Stock-2'])\n",
    "df2['Volume-Stock-2'] = np.where(df2['Volume-Stock-2'] < lowerbound, median,df2['Volume-Stock-2'])\n",
    "sns.boxplot(df2['Volume-Stock-2'],palette = \"Set3\")"
   ]
  },
  {
   "cell_type": "code",
   "execution_count": 54,
   "metadata": {},
   "outputs": [
    {
     "name": "stdout",
     "output_type": "stream",
     "text": [
      "RMSE train: 4.496064353690402\n",
      "RMSE test: 11.117907414443112\n"
     ]
    }
   ],
   "source": [
    "x_train,x_test,y_train,y_test = train_test_split(df2,target2,test_size=0.2,random_state=42)\n",
    "\n",
    "from sklearn.ensemble import RandomForestRegressor\n",
    "regr = RandomForestRegressor(max_depth=5, random_state=0)\n",
    "regr.fit(x_train,y_train)\n",
    "\n",
    "pred = regr.predict(x_test)\n",
    "rmse_test = sqrt(mean_squared_error(y_test, pred))\n",
    "pred = regr.predict(x_train)\n",
    "rmse_train = sqrt(mean_squared_error(y_train, pred))\n",
    "\n",
    "print(\"RMSE train: %s\" % rmse_train) \n",
    "print(\"RMSE test: %s\" % rmse_test) "
   ]
  },
  {
   "cell_type": "code",
   "execution_count": 55,
   "metadata": {},
   "outputs": [
    {
     "name": "stdout",
     "output_type": "stream",
     "text": [
      "RMSE train: 45.94384274314585\n",
      "RMSE test: 42.8219943048246\n"
     ]
    }
   ],
   "source": [
    "from sklearn import svm\n",
    "svm_reg = svm.SVR()\n",
    "svm_reg.fit(x_train, y_train)\n",
    "\n",
    "pred = svm_reg.predict(x_test)\n",
    "rmse_test = sqrt(mean_squared_error(y_test, pred))\n",
    "\n",
    "pred = svm_reg.predict(x_train)\n",
    "rmse_train = sqrt(mean_squared_error(y_train, pred))\n",
    "\n",
    "print(\"RMSE train: %s\" % rmse_train) \n",
    "print(\"RMSE test: %s\" % rmse_test) "
   ]
  },
  {
   "cell_type": "code",
   "execution_count": 56,
   "metadata": {},
   "outputs": [
    {
     "name": "stdout",
     "output_type": "stream",
     "text": [
      "RMSE train: 20.01510365329423\n",
      "RMSE test: 19.479737843419404\n"
     ]
    }
   ],
   "source": [
    "from sklearn.linear_model import LinearRegression\n",
    "reg = LinearRegression().fit(x_train, y_train)\n",
    "\n",
    "pred = reg.predict(x_test)\n",
    "rmse_test = sqrt(mean_squared_error(y_test, pred))\n",
    "\n",
    "pred = reg.predict(x_train)\n",
    "rmse_train = sqrt(mean_squared_error(y_train, pred))\n",
    "\n",
    "print(\"RMSE train: %s\" % rmse_train) \n",
    "print(\"RMSE test: %s\" % rmse_test) "
   ]
  },
  {
   "cell_type": "code",
   "execution_count": 57,
   "metadata": {},
   "outputs": [
    {
     "name": "stdout",
     "output_type": "stream",
     "text": [
      "RMSE train: 0.9978105246069914\n",
      "RMSE test: 12.699573504111578\n"
     ]
    }
   ],
   "source": [
    "from sklearn.ensemble import GradientBoostingRegressor\n",
    "reg_grad = GradientBoostingRegressor(random_state = 0)\n",
    "reg_grad.fit(x_train,y_train)\n",
    "\n",
    "pred = reg_grad.predict(x_test)\n",
    "rmse_test = sqrt(mean_squared_error(y_test, pred))\n",
    "\n",
    "pred = reg_grad.predict(x_train)\n",
    "rmse_train = sqrt(mean_squared_error(y_train, pred))\n",
    "\n",
    "print(\"RMSE train: %s\" % rmse_train) \n",
    "print(\"RMSE test: %s\" % rmse_test) "
   ]
  },
  {
   "cell_type": "code",
   "execution_count": 58,
   "metadata": {},
   "outputs": [
    {
     "name": "stdout",
     "output_type": "stream",
     "text": [
      "RMSE train: 6.173193330811987\n",
      "RMSE test: 2.580148574533385\n"
     ]
    }
   ],
   "source": [
    "from sklearn.neighbors import KNeighborsRegressor\n",
    "regn = KNeighborsRegressor(n_neighbors=2)\n",
    "regn.fit(x_train,y_train)\n",
    "\n",
    "pred = regn.predict(x_test)\n",
    "rmse_test = sqrt(mean_squared_error(y_test, pred))\n",
    "\n",
    "pred = regn.predict(x_train)\n",
    "rmse_train = sqrt(mean_squared_error(y_train, pred))\n",
    "\n",
    "print(\"RMSE train: %s\" % rmse_train) \n",
    "print(\"RMSE test: %s\" % rmse_test) "
   ]
  },
  {
   "cell_type": "code",
   "execution_count": 59,
   "metadata": {},
   "outputs": [],
   "source": [
    "pr_2 = regn.predict(df_t2)  #target2"
   ]
  },
  {
   "cell_type": "code",
   "execution_count": 60,
   "metadata": {},
   "outputs": [
    {
     "data": {
      "text/plain": [
       "Open-Stock-3        0.293695\n",
       "High-Stock-3        0.324817\n",
       "Low-Stock-3         0.314537\n",
       "VWAP-Stock-3        0.330278\n",
       "Volume-Stock-3      8.520456\n",
       "Turnover-Stock-3    9.646605\n",
       "year                0.020169\n",
       "month              -0.028484\n",
       "day                 0.015460\n",
       "dtype: float64"
      ]
     },
     "execution_count": 60,
     "metadata": {},
     "output_type": "execute_result"
    }
   ],
   "source": [
    "df3.skew()"
   ]
  },
  {
   "cell_type": "code",
   "execution_count": 61,
   "metadata": {},
   "outputs": [
    {
     "data": {
      "text/plain": [
       "<matplotlib.axes._subplots.AxesSubplot at 0x1faa6ab3190>"
      ]
     },
     "execution_count": 61,
     "metadata": {},
     "output_type": "execute_result"
    },
    {
     "data": {
      "image/png": "[encoded data removed]",
      "text/plain": [
       "<Figure size 432x288 with 1 Axes>"
      ]
     },
     "metadata": {},
     "output_type": "display_data"
    }
   ],
   "source": [
    "sns.boxplot(df3['Volume-Stock-3'],palette = \"Set3\")"
   ]
  },
  {
   "cell_type": "code",
   "execution_count": 62,
   "metadata": {},
   "outputs": [
    {
     "data": {
      "text/plain": [
       "<matplotlib.axes._subplots.AxesSubplot at 0x1faa6ae35e0>"
      ]
     },
     "execution_count": 62,
     "metadata": {},
     "output_type": "execute_result"
    },
    {
     "data": {
      "image/png": "[encoded data removed]",
      "text/plain": [
       "<Figure size 432x288 with 1 Axes>"
      ]
     },
     "metadata": {},
     "output_type": "display_data"
    }
   ],
   "source": [
    "lowerbound,upperbound = outlier_treatment(df3['Volume-Stock-3'])\n",
    "median = df3['Volume-Stock-3'].median()\n",
    "df3['Volume-Stock-3'] = np.where(df3['Volume-Stock-3'] > upperbound, median,df3['Volume-Stock-3'])\n",
    "df3['Volume-Stock-3'] = np.where(df3['Volume-Stock-3'] < lowerbound, median,df3['Volume-Stock-3'])\n",
    "sns.boxplot(df3['Volume-Stock-3'],palette = \"Set3\")"
   ]
  },
  {
   "cell_type": "code",
   "execution_count": 63,
   "metadata": {},
   "outputs": [
    {
     "data": {
      "text/plain": [
       "<matplotlib.axes._subplots.AxesSubplot at 0x1faa6b50fd0>"
      ]
     },
     "execution_count": 63,
     "metadata": {},
     "output_type": "execute_result"
    },
    {
     "data": {
      "image/png": "[encoded data removed]",
      "text/plain": [
       "<Figure size 432x288 with 1 Axes>"
      ]
     },
     "metadata": {},
     "output_type": "display_data"
    }
   ],
   "source": [
    "sns.boxplot(df3['Turnover-Stock-3'],palette = \"Set3\")"
   ]
  },
  {
   "cell_type": "code",
   "execution_count": 64,
   "metadata": {},
   "outputs": [
    {
     "data": {
      "text/plain": [
       "<matplotlib.axes._subplots.AxesSubplot at 0x1faa6bb0850>"
      ]
     },
     "execution_count": 64,
     "metadata": {},
     "output_type": "execute_result"
    },
    {
     "data": {
      "image/png": "[encoded data removed]",
      "text/plain": [
       "<Figure size 432x288 with 1 Axes>"
      ]
     },
     "metadata": {},
     "output_type": "display_data"
    }
   ],
   "source": [
    "lowerbound,upperbound = outlier_treatment(df3['Turnover-Stock-3'])\n",
    "median = df3['Turnover-Stock-3'].median()\n",
    "df3['Turnover-Stock-3'] = np.where(df3['Turnover-Stock-3'] > upperbound, median,df3['Turnover-Stock-3'])\n",
    "df3['Turnover-Stock-3'] = np.where(df3['Turnover-Stock-3'] < lowerbound, median,df3['Turnover-Stock-3'])\n",
    "sns.boxplot(df3['Turnover-Stock-3'],palette = \"Set3\")"
   ]
  },
  {
   "cell_type": "code",
   "execution_count": 65,
   "metadata": {},
   "outputs": [
    {
     "data": {
      "text/plain": [
       "Open-Stock-3        0.293695\n",
       "High-Stock-3        0.324817\n",
       "Low-Stock-3         0.314537\n",
       "VWAP-Stock-3        0.330278\n",
       "Volume-Stock-3      1.089089\n",
       "Turnover-Stock-3    1.115532\n",
       "year                0.020169\n",
       "month              -0.028484\n",
       "day                 0.015460\n",
       "dtype: float64"
      ]
     },
     "execution_count": 65,
     "metadata": {},
     "output_type": "execute_result"
    }
   ],
   "source": [
    "df3.skew()"
   ]
  },
  {
   "cell_type": "code",
   "execution_count": 66,
   "metadata": {},
   "outputs": [
    {
     "name": "stdout",
     "output_type": "stream",
     "text": [
      "RMSE train: 27.908286077443858\n",
      "RMSE test: 35.97036546119344\n"
     ]
    }
   ],
   "source": [
    "x_train,x_test,y_train,y_test = train_test_split(df3,target3,test_size=0.2,random_state=42)\n",
    "\n",
    "from sklearn.ensemble import RandomForestRegressor\n",
    "regr = RandomForestRegressor(max_depth=3, random_state=0)\n",
    "regr.fit(x_train,y_train)\n",
    "\n",
    "pred = regr.predict(x_test)\n",
    "rmse_test = sqrt(mean_squared_error(y_test, pred))\n",
    "pred = regr.predict(x_train)\n",
    "rmse_train = sqrt(mean_squared_error(y_train, pred))\n",
    "\n",
    "print(\"RMSE train: %s\" % rmse_train) \n",
    "print(\"RMSE test: %s\" % rmse_test) "
   ]
  },
  {
   "cell_type": "code",
   "execution_count": 67,
   "metadata": {},
   "outputs": [
    {
     "name": "stdout",
     "output_type": "stream",
     "text": [
      "RMSE train: 226.76164648650587\n",
      "RMSE test: 223.60449359175655\n"
     ]
    }
   ],
   "source": [
    "from sklearn import svm\n",
    "svm_reg = svm.SVR()\n",
    "svm_reg.fit(x_train, y_train)\n",
    "\n",
    "pred = svm_reg.predict(x_test)\n",
    "rmse_test = sqrt(mean_squared_error(y_test, pred))\n",
    "\n",
    "pred = svm_reg.predict(x_train)\n",
    "rmse_train = sqrt(mean_squared_error(y_train, pred))\n",
    "\n",
    "print(\"RMSE train: %s\" % rmse_train) \n",
    "print(\"RMSE test: %s\" % rmse_test) "
   ]
  },
  {
   "cell_type": "code",
   "execution_count": 68,
   "metadata": {},
   "outputs": [
    {
     "name": "stdout",
     "output_type": "stream",
     "text": [
      "RMSE train: 14.879567126788835\n",
      "RMSE test: 17.66158826473145\n"
     ]
    }
   ],
   "source": [
    "from sklearn.linear_model import LinearRegression\n",
    "reg = LinearRegression().fit(x_train, y_train)\n",
    "\n",
    "pred = reg.predict(x_test)\n",
    "rmse_test = sqrt(mean_squared_error(y_test, pred))\n",
    "\n",
    "pred = reg.predict(x_train)\n",
    "rmse_train = sqrt(mean_squared_error(y_train, pred))\n",
    "\n",
    "print(\"RMSE train: %s\" % rmse_train) \n",
    "print(\"RMSE test: %s\" % rmse_test) "
   ]
  },
  {
   "cell_type": "code",
   "execution_count": 69,
   "metadata": {},
   "outputs": [
    {
     "name": "stdout",
     "output_type": "stream",
     "text": [
      "RMSE train: 6.181189462656108\n",
      "RMSE test: 19.74608877565979\n"
     ]
    }
   ],
   "source": [
    "from sklearn.ensemble import GradientBoostingRegressor\n",
    "reg_grad = GradientBoostingRegressor(random_state = 0)\n",
    "reg_grad.fit(x_train,y_train)\n",
    "\n",
    "pred = reg_grad.predict(x_test)\n",
    "rmse_test = sqrt(mean_squared_error(y_test, pred))\n",
    "\n",
    "pred = reg_grad.predict(x_train)\n",
    "rmse_train = sqrt(mean_squared_error(y_train, pred))\n",
    "\n",
    "print(\"RMSE train: %s\" % rmse_train) \n",
    "print(\"RMSE test: %s\" % rmse_test) "
   ]
  },
  {
   "cell_type": "code",
   "execution_count": 70,
   "metadata": {},
   "outputs": [
    {
     "name": "stdout",
     "output_type": "stream",
     "text": [
      "RMSE train: 30.420725169140272\n",
      "RMSE test: 36.38970808026174\n"
     ]
    }
   ],
   "source": [
    "from sklearn.neighbors import KNeighborsRegressor\n",
    "regn = KNeighborsRegressor(n_neighbors=6)\n",
    "regn.fit(x_train,y_train)\n",
    "\n",
    "pred = regn.predict(x_test)\n",
    "rmse_test = sqrt(mean_squared_error(y_test, pred))\n",
    "\n",
    "pred = regn.predict(x_train)\n",
    "rmse_train = sqrt(mean_squared_error(y_train, pred))\n",
    "\n",
    "print(\"RMSE train: %s\" % rmse_train) \n",
    "print(\"RMSE test: %s\" % rmse_test) "
   ]
  },
  {
   "cell_type": "code",
   "execution_count": 71,
   "metadata": {},
   "outputs": [],
   "source": [
    "pr_3 = reg_grad.predict(df_t3) #target 3"
   ]
  },
  {
   "cell_type": "code",
   "execution_count": 72,
   "metadata": {},
   "outputs": [
    {
     "data": {
      "text/plain": [
       "Open-Stock-4       -0.415685\n",
       "High-Stock-4       -0.380276\n",
       "Low-Stock-4        -0.411978\n",
       "VWAP-Stock-4       -0.369286\n",
       "Volume-Stock-4      1.528790\n",
       "Turnover-Stock-4    1.577583\n",
       "year                0.020169\n",
       "month              -0.028484\n",
       "day                 0.015460\n",
       "dtype: float64"
      ]
     },
     "execution_count": 72,
     "metadata": {},
     "output_type": "execute_result"
    }
   ],
   "source": [
    "df4.skew()"
   ]
  },
  {
   "cell_type": "code",
   "execution_count": 73,
   "metadata": {},
   "outputs": [
    {
     "data": {
      "text/plain": [
       "<matplotlib.axes._subplots.AxesSubplot at 0x1fa9cd2c5b0>"
      ]
     },
     "execution_count": 73,
     "metadata": {},
     "output_type": "execute_result"
    },
    {
     "data": {
      "image/png": "[encoded data removed]",
      "text/plain": [
       "<Figure size 432x288 with 1 Axes>"
      ]
     },
     "metadata": {},
     "output_type": "display_data"
    }
   ],
   "source": [
    "sns.boxplot(df4['Volume-Stock-4'],palette = \"Set3\")"
   ]
  },
  {
   "cell_type": "code",
   "execution_count": 74,
   "metadata": {},
   "outputs": [
    {
     "data": {
      "text/plain": [
       "<matplotlib.axes._subplots.AxesSubplot at 0x1faa6c55340>"
      ]
     },
     "execution_count": 74,
     "metadata": {},
     "output_type": "execute_result"
    },
    {
     "data": {
      "image/png": "[encoded data removed]",
      "text/plain": [
       "<Figure size 432x288 with 1 Axes>"
      ]
     },
     "metadata": {},
     "output_type": "display_data"
    }
   ],
   "source": [
    "lowerbound,upperbound = outlier_treatment(df4['Volume-Stock-4'])\n",
    "median = df4['Volume-Stock-4'].median()\n",
    "df4['Volume-Stock-4'] = np.where(df4['Volume-Stock-4'] > upperbound, median,df4['Volume-Stock-4'])\n",
    "df4['Volume-Stock-4'] = np.where(df4['Volume-Stock-4'] < lowerbound, median,df4['Volume-Stock-4'])\n",
    "sns.boxplot(df4['Volume-Stock-4'],palette = \"Set3\")"
   ]
  },
  {
   "cell_type": "code",
   "execution_count": 75,
   "metadata": {},
   "outputs": [
    {
     "data": {
      "text/plain": [
       "<matplotlib.axes._subplots.AxesSubplot at 0x1faa6a99bb0>"
      ]
     },
     "execution_count": 75,
     "metadata": {},
     "output_type": "execute_result"
    },
    {
     "data": {
      "image/png": "[encoded data removed]",
      "text/plain": [
       "<Figure size 432x288 with 1 Axes>"
      ]
     },
     "metadata": {},
     "output_type": "display_data"
    }
   ],
   "source": [
    "sns.boxplot(df4['Turnover-Stock-4'],palette = \"Set3\")"
   ]
  },
  {
   "cell_type": "code",
   "execution_count": 76,
   "metadata": {},
   "outputs": [
    {
     "data": {
      "text/plain": [
       "<matplotlib.axes._subplots.AxesSubplot at 0x1faa512e3d0>"
      ]
     },
     "execution_count": 76,
     "metadata": {},
     "output_type": "execute_result"
    },
    {
     "data": {
      "image/png": "[encoded data removed]",
      "text/plain": [
       "<Figure size 432x288 with 1 Axes>"
      ]
     },
     "metadata": {},
     "output_type": "display_data"
    }
   ],
   "source": [
    "lowerbound,upperbound = outlier_treatment(df4['Turnover-Stock-4'])\n",
    "median = df4['Turnover-Stock-4'].median()\n",
    "df4['Turnover-Stock-4'] = np.where(df4['Turnover-Stock-4'] > upperbound, median,df4['Turnover-Stock-4'])\n",
    "df4['Turnover-Stock-4'] = np.where(df4['Turnover-Stock-4'] < lowerbound, median,df4['Turnover-Stock-4'])\n",
    "sns.boxplot(df4['Turnover-Stock-4'],palette = \"Set3\")"
   ]
  },
  {
   "cell_type": "code",
   "execution_count": 77,
   "metadata": {},
   "outputs": [
    {
     "name": "stdout",
     "output_type": "stream",
     "text": [
      "RMSE train: 12.129369361377861\n",
      "RMSE test: 14.43645043328579\n"
     ]
    }
   ],
   "source": [
    "x_train,x_test,y_train,y_test = train_test_split(df4,target4,test_size=0.2,random_state=42)\n",
    "\n",
    "from sklearn.ensemble import RandomForestRegressor\n",
    "regr = RandomForestRegressor(max_depth=3, random_state=0)\n",
    "regr.fit(x_train,y_train)\n",
    "\n",
    "pred = regr.predict(x_test)\n",
    "rmse_test = sqrt(mean_squared_error(y_test, pred))\n",
    "pred = regr.predict(x_train)\n",
    "rmse_train = sqrt(mean_squared_error(y_train, pred))\n",
    "\n",
    "print(\"RMSE train: %s\" % rmse_train) \n",
    "print(\"RMSE test: %s\" % rmse_test) "
   ]
  },
  {
   "cell_type": "code",
   "execution_count": 78,
   "metadata": {},
   "outputs": [
    {
     "name": "stdout",
     "output_type": "stream",
     "text": [
      "RMSE train: 6.552589025060905\n",
      "RMSE test: 6.202291441996053\n"
     ]
    }
   ],
   "source": [
    "from sklearn.linear_model import LinearRegression\n",
    "reg = LinearRegression().fit(x_train, y_train)\n",
    "\n",
    "pred = reg.predict(x_test)\n",
    "rmse_test = sqrt(mean_squared_error(y_test, pred))\n",
    "\n",
    "pred = reg.predict(x_train)\n",
    "rmse_train = sqrt(mean_squared_error(y_train, pred))\n",
    "\n",
    "print(\"RMSE train: %s\" % rmse_train) \n",
    "print(\"RMSE test: %s\" % rmse_test) "
   ]
  },
  {
   "cell_type": "code",
   "execution_count": 79,
   "metadata": {},
   "outputs": [
    {
     "name": "stdout",
     "output_type": "stream",
     "text": [
      "RMSE train: 3.136129380752028\n",
      "RMSE test: 10.158419734777858\n"
     ]
    }
   ],
   "source": [
    "from sklearn.ensemble import GradientBoostingRegressor\n",
    "reg_grad = GradientBoostingRegressor(random_state = 0)\n",
    "reg_grad.fit(x_train,y_train)\n",
    "\n",
    "pred = reg_grad.predict(x_test)\n",
    "rmse_test = sqrt(mean_squared_error(y_test, pred))\n",
    "\n",
    "pred = reg_grad.predict(x_train)\n",
    "rmse_train = sqrt(mean_squared_error(y_train, pred))\n",
    "\n",
    "print(\"RMSE train: %s\" % rmse_train) \n",
    "print(\"RMSE test: %s\" % rmse_test) "
   ]
  },
  {
   "cell_type": "code",
   "execution_count": 80,
   "metadata": {},
   "outputs": [
    {
     "name": "stdout",
     "output_type": "stream",
     "text": [
      "RMSE train: 10.837462146372586\n",
      "RMSE test: 14.02296479588629\n"
     ]
    }
   ],
   "source": [
    "from sklearn.neighbors import KNeighborsRegressor\n",
    "regn = KNeighborsRegressor(n_neighbors=2)\n",
    "regn.fit(x_train,y_train)\n",
    "\n",
    "pred = regn.predict(x_test)\n",
    "rmse_test = sqrt(mean_squared_error(y_test, pred))\n",
    "\n",
    "pred = regn.predict(x_train)\n",
    "rmse_train = sqrt(mean_squared_error(y_train, pred))\n",
    "\n",
    "print(\"RMSE train: %s\" % rmse_train) \n",
    "print(\"RMSE test: %s\" % rmse_test) "
   ]
  },
  {
   "cell_type": "code",
   "execution_count": 81,
   "metadata": {},
   "outputs": [],
   "source": [
    "pr_4 = reg_grad.predict(df_t4) #target 4"
   ]
  },
  {
   "cell_type": "code",
   "execution_count": 82,
   "metadata": {},
   "outputs": [
    {
     "data": {
      "text/plain": [
       "Open-Stock-5        0.811638\n",
       "High-Stock-5        0.835026\n",
       "Low-Stock-5         0.826147\n",
       "VWAP-Stock-5        0.835811\n",
       "Volume-Stock-5      1.680499\n",
       "Turnover-Stock-5    1.746683\n",
       "year                0.020169\n",
       "month              -0.028484\n",
       "day                 0.015460\n",
       "dtype: float64"
      ]
     },
     "execution_count": 82,
     "metadata": {},
     "output_type": "execute_result"
    }
   ],
   "source": [
    "df5.skew()"
   ]
  },
  {
   "cell_type": "code",
   "execution_count": 83,
   "metadata": {},
   "outputs": [
    {
     "data": {
      "text/plain": [
       "<matplotlib.axes._subplots.AxesSubplot at 0x1faa6d373d0>"
      ]
     },
     "execution_count": 83,
     "metadata": {},
     "output_type": "execute_result"
    },
    {
     "data": {
      "image/png": "[encoded data removed]",
      "text/plain": [
       "<Figure size 432x288 with 1 Axes>"
      ]
     },
     "metadata": {},
     "output_type": "display_data"
    }
   ],
   "source": [
    "sns.boxplot(df5['Volume-Stock-5'],palette = \"Set3\")"
   ]
  },
  {
   "cell_type": "code",
   "execution_count": 84,
   "metadata": {},
   "outputs": [
    {
     "data": {
      "text/plain": [
       "<matplotlib.axes._subplots.AxesSubplot at 0x1faa6d7bc70>"
      ]
     },
     "execution_count": 84,
     "metadata": {},
     "output_type": "execute_result"
    },
    {
     "data": {
      "image/png": "[encoded data removed]",
      "text/plain": [
       "<Figure size 432x288 with 1 Axes>"
      ]
     },
     "metadata": {},
     "output_type": "display_data"
    }
   ],
   "source": [
    "lowerbound,upperbound = outlier_treatment(df5['Volume-Stock-5'])\n",
    "median = df5['Volume-Stock-5'].median()\n",
    "df5['Volume-Stock-5'] = np.where(df5['Volume-Stock-5'] > upperbound, median,df5['Volume-Stock-5'])\n",
    "df5['Volume-Stock-5'] = np.where(df5['Volume-Stock-5'] < lowerbound, median,df5['Volume-Stock-5'])\n",
    "sns.boxplot(df5['Volume-Stock-5'],palette = \"Set3\")"
   ]
  },
  {
   "cell_type": "code",
   "execution_count": 85,
   "metadata": {},
   "outputs": [
    {
     "data": {
      "text/plain": [
       "<matplotlib.axes._subplots.AxesSubplot at 0x1faa6ddd340>"
      ]
     },
     "execution_count": 85,
     "metadata": {},
     "output_type": "execute_result"
    },
    {
     "data": {
      "image/png": "[encoded data removed]",
      "text/plain": [
       "<Figure size 432x288 with 1 Axes>"
      ]
     },
     "metadata": {},
     "output_type": "display_data"
    }
   ],
   "source": [
    "sns.boxplot(df5['Turnover-Stock-5'],palette = \"Set3\")"
   ]
  },
  {
   "cell_type": "code",
   "execution_count": 86,
   "metadata": {},
   "outputs": [
    {
     "data": {
      "text/plain": [
       "<matplotlib.axes._subplots.AxesSubplot at 0x1faa6e3e430>"
      ]
     },
     "execution_count": 86,
     "metadata": {},
     "output_type": "execute_result"
    },
    {
     "data": {
      "image/png": "[encoded data removed]",
      "text/plain": [
       "<Figure size 432x288 with 1 Axes>"
      ]
     },
     "metadata": {},
     "output_type": "display_data"
    }
   ],
   "source": [
    "lowerbound,upperbound = outlier_treatment(df5['Turnover-Stock-5'])\n",
    "median = df5['Turnover-Stock-5'].median()\n",
    "df5['Turnover-Stock-5'] = np.where(df5['Turnover-Stock-5'] > upperbound, median,df5['Turnover-Stock-5'])\n",
    "df5['Turnover-Stock-5'] = np.where(df5['Turnover-Stock-5'] < lowerbound, median,df5['Turnover-Stock-5'])\n",
    "sns.boxplot(df5['Turnover-Stock-5'],palette = \"Set3\")"
   ]
  },
  {
   "cell_type": "code",
   "execution_count": 87,
   "metadata": {},
   "outputs": [
    {
     "name": "stdout",
     "output_type": "stream",
     "text": [
      "RMSE train: 11.545214255601183\n",
      "RMSE test: 15.717831735291\n"
     ]
    }
   ],
   "source": [
    "x_train,x_test,y_train,y_test = train_test_split(df5,target5,test_size=0.2,random_state=42)\n",
    "\n",
    "from sklearn.ensemble import RandomForestRegressor\n",
    "regr = RandomForestRegressor(max_depth=3, random_state=0)\n",
    "regr.fit(x_train,y_train)\n",
    "\n",
    "pred = regr.predict(x_test)\n",
    "rmse_test = sqrt(mean_squared_error(y_test, pred))\n",
    "pred = regr.predict(x_train)\n",
    "rmse_train = sqrt(mean_squared_error(y_train, pred))\n",
    "\n",
    "print(\"RMSE train: %s\" % rmse_train) \n",
    "print(\"RMSE test: %s\" % rmse_test) "
   ]
  },
  {
   "cell_type": "code",
   "execution_count": 88,
   "metadata": {},
   "outputs": [
    {
     "name": "stdout",
     "output_type": "stream",
     "text": [
      "RMSE train: 8.36026476373795\n",
      "RMSE test: 7.619311303653835\n"
     ]
    }
   ],
   "source": [
    "from sklearn.linear_model import LinearRegression\n",
    "reg = LinearRegression().fit(x_train, y_train)\n",
    "\n",
    "pred = reg.predict(x_test)\n",
    "rmse_test = sqrt(mean_squared_error(y_test, pred))\n",
    "\n",
    "pred = reg.predict(x_train)\n",
    "rmse_train = sqrt(mean_squared_error(y_train, pred))\n",
    "\n",
    "print(\"RMSE train: %s\" % rmse_train) \n",
    "print(\"RMSE test: %s\" % rmse_test) "
   ]
  },
  {
   "cell_type": "code",
   "execution_count": 89,
   "metadata": {},
   "outputs": [
    {
     "name": "stdout",
     "output_type": "stream",
     "text": [
      "RMSE train: 3.4360951511837152\n",
      "RMSE test: 10.86726322121784\n"
     ]
    }
   ],
   "source": [
    "from sklearn.ensemble import GradientBoostingRegressor\n",
    "reg_grad = GradientBoostingRegressor()\n",
    "reg_grad.fit(x_train,y_train)\n",
    "\n",
    "pred = reg_grad.predict(x_test)\n",
    "rmse_test = sqrt(mean_squared_error(y_test, pred))\n",
    "\n",
    "pred = reg_grad.predict(x_train)\n",
    "rmse_train = sqrt(mean_squared_error(y_train, pred))\n",
    "\n",
    "print(\"RMSE train: %s\" % rmse_train) \n",
    "print(\"RMSE test: %s\" % rmse_test) "
   ]
  },
  {
   "cell_type": "code",
   "execution_count": 90,
   "metadata": {},
   "outputs": [
    {
     "name": "stdout",
     "output_type": "stream",
     "text": [
      "RMSE train: 12.076150681072447\n",
      "RMSE test: 16.796012361569655\n"
     ]
    }
   ],
   "source": [
    "from sklearn.neighbors import KNeighborsRegressor\n",
    "regn = KNeighborsRegressor(n_neighbors=2)\n",
    "regn.fit(x_train,y_train)\n",
    "\n",
    "pred = regn.predict(x_test)\n",
    "rmse_test = sqrt(mean_squared_error(y_test, pred))\n",
    "\n",
    "pred = regn.predict(x_train)\n",
    "rmse_train = sqrt(mean_squared_error(y_train, pred))\n",
    "\n",
    "print(\"RMSE train: %s\" % rmse_train) \n",
    "print(\"RMSE test: %s\" % rmse_test)"
   ]
  },
  {
   "cell_type": "code",
   "execution_count": 91,
   "metadata": {},
   "outputs": [],
   "source": [
    "pr_5 = regn.predict(df_t5)"
   ]
  },
  {
   "cell_type": "code",
   "execution_count": 92,
   "metadata": {},
   "outputs": [
    {
     "data": {
      "text/html": [
       "<div>\n",
       "<style scoped>\n",
       "    .dataframe tbody tr th:only-of-type {\n",
       "        vertical-align: middle;\n",
       "    }\n",
       "\n",
       "    .dataframe tbody tr th {\n",
       "        vertical-align: top;\n",
       "    }\n",
       "\n",
       "    .dataframe thead th {\n",
       "        text-align: right;\n",
       "    }\n",
       "</style>\n",
       "<table border=\"1\" class=\"dataframe\">\n",
       "  <thead>\n",
       "    <tr style=\"text-align: right;\">\n",
       "      <th></th>\n",
       "      <th>Date</th>\n",
       "      <th>Close-Stock-1</th>\n",
       "      <th>Close-Stock-2</th>\n",
       "      <th>Close-Stock-3</th>\n",
       "      <th>Close-Stock-4</th>\n",
       "      <th>Close-Stock-5</th>\n",
       "    </tr>\n",
       "  </thead>\n",
       "  <tbody>\n",
       "    <tr>\n",
       "      <th>0</th>\n",
       "      <td>2011-08-04</td>\n",
       "      <td>476.45</td>\n",
       "      <td>199.95</td>\n",
       "      <td>3091.65</td>\n",
       "      <td>993.15</td>\n",
       "      <td>1285.95</td>\n",
       "    </tr>\n",
       "    <tr>\n",
       "      <th>1</th>\n",
       "      <td>2011-08-05</td>\n",
       "      <td>473.05</td>\n",
       "      <td>196.40</td>\n",
       "      <td>3058.90</td>\n",
       "      <td>966.50</td>\n",
       "      <td>1242.05</td>\n",
       "    </tr>\n",
       "    <tr>\n",
       "      <th>2</th>\n",
       "      <td>2011-08-08</td>\n",
       "      <td>462.10</td>\n",
       "      <td>195.00</td>\n",
       "      <td>3080.70</td>\n",
       "      <td>950.90</td>\n",
       "      <td>1235.45</td>\n",
       "    </tr>\n",
       "    <tr>\n",
       "      <th>3</th>\n",
       "      <td>2011-08-09</td>\n",
       "      <td>464.45</td>\n",
       "      <td>199.75</td>\n",
       "      <td>3148.00</td>\n",
       "      <td>940.15</td>\n",
       "      <td>1205.20</td>\n",
       "    </tr>\n",
       "    <tr>\n",
       "      <th>4</th>\n",
       "      <td>2011-08-10</td>\n",
       "      <td>479.90</td>\n",
       "      <td>197.10</td>\n",
       "      <td>3154.85</td>\n",
       "      <td>963.70</td>\n",
       "      <td>1250.10</td>\n",
       "    </tr>\n",
       "  </tbody>\n",
       "</table>\n",
       "</div>"
      ],
      "text/plain": [
       "         Date  Close-Stock-1  Close-Stock-2  Close-Stock-3  Close-Stock-4  \\\n",
       "0  2011-08-04         476.45         199.95        3091.65         993.15   \n",
       "1  2011-08-05         473.05         196.40        3058.90         966.50   \n",
       "2  2011-08-08         462.10         195.00        3080.70         950.90   \n",
       "3  2011-08-09         464.45         199.75        3148.00         940.15   \n",
       "4  2011-08-10         479.90         197.10        3154.85         963.70   \n",
       "\n",
       "   Close-Stock-5  \n",
       "0        1285.95  \n",
       "1        1242.05  \n",
       "2        1235.45  \n",
       "3        1205.20  \n",
       "4        1250.10  "
      ]
     },
     "execution_count": 92,
     "metadata": {},
     "output_type": "execute_result"
    }
   ],
   "source": [
    "sample_submission.head()"
   ]
  },
  {
   "cell_type": "code",
   "execution_count": 93,
   "metadata": {},
   "outputs": [],
   "source": [
    "submission = pd.DataFrame(test, columns=['Date'])"
   ]
  },
  {
   "cell_type": "code",
   "execution_count": 94,
   "metadata": {},
   "outputs": [],
   "source": [
    "submission['Close-Stock-1'] = pr_1\n",
    "submission['Close-Stock-2'] = pr_2\n",
    "submission['Close-Stock-3'] = pr_3\n",
    "submission['Close-Stock-4'] = pr_4\n",
    "submission['Close-Stock-5'] = pr_5"
   ]
  },
  {
   "cell_type": "code",
   "execution_count": 95,
   "metadata": {},
   "outputs": [
    {
     "data": {
      "text/html": [
       "<div>\n",
       "<style scoped>\n",
       "    .dataframe tbody tr th:only-of-type {\n",
       "        vertical-align: middle;\n",
       "    }\n",
       "\n",
       "    .dataframe tbody tr th {\n",
       "        vertical-align: top;\n",
       "    }\n",
       "\n",
       "    .dataframe thead th {\n",
       "        text-align: right;\n",
       "    }\n",
       "</style>\n",
       "<table border=\"1\" class=\"dataframe\">\n",
       "  <thead>\n",
       "    <tr style=\"text-align: right;\">\n",
       "      <th></th>\n",
       "      <th>Date</th>\n",
       "      <th>Close-Stock-1</th>\n",
       "      <th>Close-Stock-2</th>\n",
       "      <th>Close-Stock-3</th>\n",
       "      <th>Close-Stock-4</th>\n",
       "      <th>Close-Stock-5</th>\n",
       "    </tr>\n",
       "  </thead>\n",
       "  <tbody>\n",
       "    <tr>\n",
       "      <th>0</th>\n",
       "      <td>2011-08-04</td>\n",
       "      <td>2557.567071</td>\n",
       "      <td>174.275</td>\n",
       "      <td>3277.87083</td>\n",
       "      <td>1269.171758</td>\n",
       "      <td>1358.6</td>\n",
       "    </tr>\n",
       "    <tr>\n",
       "      <th>1</th>\n",
       "      <td>2011-08-05</td>\n",
       "      <td>2557.567071</td>\n",
       "      <td>174.275</td>\n",
       "      <td>3277.87083</td>\n",
       "      <td>1269.171758</td>\n",
       "      <td>1266.4</td>\n",
       "    </tr>\n",
       "    <tr>\n",
       "      <th>2</th>\n",
       "      <td>2011-08-08</td>\n",
       "      <td>2557.567071</td>\n",
       "      <td>174.275</td>\n",
       "      <td>3277.87083</td>\n",
       "      <td>1269.171758</td>\n",
       "      <td>1358.6</td>\n",
       "    </tr>\n",
       "    <tr>\n",
       "      <th>3</th>\n",
       "      <td>2011-08-09</td>\n",
       "      <td>2557.567071</td>\n",
       "      <td>174.275</td>\n",
       "      <td>3277.87083</td>\n",
       "      <td>1269.171758</td>\n",
       "      <td>1266.4</td>\n",
       "    </tr>\n",
       "    <tr>\n",
       "      <th>4</th>\n",
       "      <td>2011-08-10</td>\n",
       "      <td>2557.567071</td>\n",
       "      <td>174.275</td>\n",
       "      <td>3277.87083</td>\n",
       "      <td>1269.171758</td>\n",
       "      <td>1358.6</td>\n",
       "    </tr>\n",
       "    <tr>\n",
       "      <th>5</th>\n",
       "      <td>2011-08-11</td>\n",
       "      <td>2557.567071</td>\n",
       "      <td>189.800</td>\n",
       "      <td>3277.87083</td>\n",
       "      <td>1269.171758</td>\n",
       "      <td>1358.6</td>\n",
       "    </tr>\n",
       "    <tr>\n",
       "      <th>6</th>\n",
       "      <td>2011-08-12</td>\n",
       "      <td>2557.567071</td>\n",
       "      <td>174.275</td>\n",
       "      <td>3277.87083</td>\n",
       "      <td>1269.171758</td>\n",
       "      <td>1358.6</td>\n",
       "    </tr>\n",
       "    <tr>\n",
       "      <th>7</th>\n",
       "      <td>2011-08-16</td>\n",
       "      <td>2557.567071</td>\n",
       "      <td>189.800</td>\n",
       "      <td>3277.87083</td>\n",
       "      <td>1269.171758</td>\n",
       "      <td>1358.6</td>\n",
       "    </tr>\n",
       "    <tr>\n",
       "      <th>8</th>\n",
       "      <td>2011-08-17</td>\n",
       "      <td>2557.567071</td>\n",
       "      <td>174.275</td>\n",
       "      <td>3277.87083</td>\n",
       "      <td>1269.171758</td>\n",
       "      <td>1358.6</td>\n",
       "    </tr>\n",
       "    <tr>\n",
       "      <th>9</th>\n",
       "      <td>2011-08-18</td>\n",
       "      <td>2557.567071</td>\n",
       "      <td>174.275</td>\n",
       "      <td>3277.87083</td>\n",
       "      <td>1269.171758</td>\n",
       "      <td>1266.4</td>\n",
       "    </tr>\n",
       "  </tbody>\n",
       "</table>\n",
       "</div>"
      ],
      "text/plain": [
       "        Date  Close-Stock-1  Close-Stock-2  Close-Stock-3  Close-Stock-4  \\\n",
       "0 2011-08-04    2557.567071        174.275     3277.87083    1269.171758   \n",
       "1 2011-08-05    2557.567071        174.275     3277.87083    1269.171758   \n",
       "2 2011-08-08    2557.567071        174.275     3277.87083    1269.171758   \n",
       "3 2011-08-09    2557.567071        174.275     3277.87083    1269.171758   \n",
       "4 2011-08-10    2557.567071        174.275     3277.87083    1269.171758   \n",
       "5 2011-08-11    2557.567071        189.800     3277.87083    1269.171758   \n",
       "6 2011-08-12    2557.567071        174.275     3277.87083    1269.171758   \n",
       "7 2011-08-16    2557.567071        189.800     3277.87083    1269.171758   \n",
       "8 2011-08-17    2557.567071        174.275     3277.87083    1269.171758   \n",
       "9 2011-08-18    2557.567071        174.275     3277.87083    1269.171758   \n",
       "\n",
       "   Close-Stock-5  \n",
       "0         1358.6  \n",
       "1         1266.4  \n",
       "2         1358.6  \n",
       "3         1266.4  \n",
       "4         1358.6  \n",
       "5         1358.6  \n",
       "6         1358.6  \n",
       "7         1358.6  \n",
       "8         1358.6  \n",
       "9         1266.4  "
      ]
     },
     "execution_count": 95,
     "metadata": {},
     "output_type": "execute_result"
    }
   ],
   "source": [
    "submission.head(10)"
   ]
  },
  {
   "cell_type": "code",
   "execution_count": 96,
   "metadata": {},
   "outputs": [
    {
     "data": {
      "text/html": [
       "<div>\n",
       "<style scoped>\n",
       "    .dataframe tbody tr th:only-of-type {\n",
       "        vertical-align: middle;\n",
       "    }\n",
       "\n",
       "    .dataframe tbody tr th {\n",
       "        vertical-align: top;\n",
       "    }\n",
       "\n",
       "    .dataframe thead th {\n",
       "        text-align: right;\n",
       "    }\n",
       "</style>\n",
       "<table border=\"1\" class=\"dataframe\">\n",
       "  <thead>\n",
       "    <tr style=\"text-align: right;\">\n",
       "      <th></th>\n",
       "      <th>Close-Stock-1</th>\n",
       "      <th>Close-Stock-2</th>\n",
       "      <th>Close-Stock-3</th>\n",
       "      <th>Close-Stock-4</th>\n",
       "      <th>Close-Stock-5</th>\n",
       "    </tr>\n",
       "  </thead>\n",
       "  <tbody>\n",
       "    <tr>\n",
       "      <th>count</th>\n",
       "      <td>9.700000e+01</td>\n",
       "      <td>97.000000</td>\n",
       "      <td>9.700000e+01</td>\n",
       "      <td>9.700000e+01</td>\n",
       "      <td>97.000000</td>\n",
       "    </tr>\n",
       "    <tr>\n",
       "      <th>mean</th>\n",
       "      <td>2.557567e+03</td>\n",
       "      <td>182.917784</td>\n",
       "      <td>3.277871e+03</td>\n",
       "      <td>1.269172e+03</td>\n",
       "      <td>1334.444330</td>\n",
       "    </tr>\n",
       "    <tr>\n",
       "      <th>std</th>\n",
       "      <td>9.142194e-13</td>\n",
       "      <td>7.752490</td>\n",
       "      <td>7.313755e-12</td>\n",
       "      <td>9.142194e-13</td>\n",
       "      <td>40.477081</td>\n",
       "    </tr>\n",
       "    <tr>\n",
       "      <th>min</th>\n",
       "      <td>2.557567e+03</td>\n",
       "      <td>174.275000</td>\n",
       "      <td>3.277871e+03</td>\n",
       "      <td>1.269172e+03</td>\n",
       "      <td>1260.600000</td>\n",
       "    </tr>\n",
       "    <tr>\n",
       "      <th>25%</th>\n",
       "      <td>2.557567e+03</td>\n",
       "      <td>174.275000</td>\n",
       "      <td>3.277871e+03</td>\n",
       "      <td>1.269172e+03</td>\n",
       "      <td>1266.400000</td>\n",
       "    </tr>\n",
       "    <tr>\n",
       "      <th>50%</th>\n",
       "      <td>2.557567e+03</td>\n",
       "      <td>189.800000</td>\n",
       "      <td>3.277871e+03</td>\n",
       "      <td>1.269172e+03</td>\n",
       "      <td>1358.600000</td>\n",
       "    </tr>\n",
       "    <tr>\n",
       "      <th>75%</th>\n",
       "      <td>2.557567e+03</td>\n",
       "      <td>189.800000</td>\n",
       "      <td>3.277871e+03</td>\n",
       "      <td>1.269172e+03</td>\n",
       "      <td>1358.600000</td>\n",
       "    </tr>\n",
       "    <tr>\n",
       "      <th>max</th>\n",
       "      <td>2.557567e+03</td>\n",
       "      <td>189.800000</td>\n",
       "      <td>3.277871e+03</td>\n",
       "      <td>1.269172e+03</td>\n",
       "      <td>1358.600000</td>\n",
       "    </tr>\n",
       "  </tbody>\n",
       "</table>\n",
       "</div>"
      ],
      "text/plain": [
       "       Close-Stock-1  Close-Stock-2  Close-Stock-3  Close-Stock-4  \\\n",
       "count   9.700000e+01      97.000000   9.700000e+01   9.700000e+01   \n",
       "mean    2.557567e+03     182.917784   3.277871e+03   1.269172e+03   \n",
       "std     9.142194e-13       7.752490   7.313755e-12   9.142194e-13   \n",
       "min     2.557567e+03     174.275000   3.277871e+03   1.269172e+03   \n",
       "25%     2.557567e+03     174.275000   3.277871e+03   1.269172e+03   \n",
       "50%     2.557567e+03     189.800000   3.277871e+03   1.269172e+03   \n",
       "75%     2.557567e+03     189.800000   3.277871e+03   1.269172e+03   \n",
       "max     2.557567e+03     189.800000   3.277871e+03   1.269172e+03   \n",
       "\n",
       "       Close-Stock-5  \n",
       "count      97.000000  \n",
       "mean     1334.444330  \n",
       "std        40.477081  \n",
       "min      1260.600000  \n",
       "25%      1266.400000  \n",
       "50%      1358.600000  \n",
       "75%      1358.600000  \n",
       "max      1358.600000  "
      ]
     },
     "execution_count": 96,
     "metadata": {},
     "output_type": "execute_result"
    }
   ],
   "source": [
    "submission.describe()"
   ]
  },
  {
   "cell_type": "code",
   "execution_count": 97,
   "metadata": {},
   "outputs": [
    {
     "name": "stdout",
     "output_type": "stream",
     "text": [
      "submission is ready\n"
     ]
    }
   ],
   "source": [
    "submission.to_csv('C:/Users/Asus/OneDrive/Desktop/hiring challenge/submission_stock.csv',index = False)\n",
    "print(\"submission is ready\")"
   ]
  },
  {
   "cell_type": "code",
   "execution_count": 98,
   "metadata": {},
   "outputs": [],
   "source": [
    "submission_check=pd.read_csv('C:/Users/Asus/OneDrive/Desktop/hiring challenge/submission_stock.csv')"
   ]
  },
  {
   "cell_type": "code",
   "execution_count": 99,
   "metadata": {},
   "outputs": [
    {
     "data": {
      "text/plain": [
       "(97, 6)"
      ]
     },
     "execution_count": 99,
     "metadata": {},
     "output_type": "execute_result"
    }
   ],
   "source": [
    "submission_check.shape"
   ]
  },
  {
   "cell_type": "code",
   "execution_count": null,
   "metadata": {},
   "outputs": [],
   "source": []
  },
  {
   "cell_type": "code",
   "execution_count": null,
   "metadata": {},
   "outputs": [],
   "source": []
  }
 ],
 "metadata": {
  "kernelspec": {
   "display_name": "Python 3",
   "language": "python",
   "name": "python3"
  },
  "language_info": {
   "codemirror_mode": {
    "name": "ipython",
    "version": 3
   },
   "file_extension": ".py",
   "mimetype": "text/x-python",
   "name": "python",
   "nbconvert_exporter": "python",
   "pygments_lexer": "ipython3",
   "version": "3.8.3"
  }
 },
 "nbformat": 4,
 "nbformat_minor": 4
}
