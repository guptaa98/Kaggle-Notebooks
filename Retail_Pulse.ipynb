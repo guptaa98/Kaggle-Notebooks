{
  "nbformat": 4,
  "nbformat_minor": 0,
  "metadata": {
    "colab": {
      "name": "Retail_Pulse.ipynb",
      "provenance": [],
      "collapsed_sections": [],
      "authorship_tag": "ABX9TyOK70alvlbrKkb/LnTLJobS",
      "include_colab_link": true
    },
    "kernelspec": {
      "name": "python3",
      "display_name": "Python 3"
    },
    "language_info": {
      "name": "python"
    }
  },
  "cells": [
    {
      "cell_type": "markdown",
      "metadata": {
        "id": "view-in-github",
        "colab_type": "text"
      },
      "source": [
        "<a href=\"https://colab.research.google.com/github/guptaa98/Kaggle-Notebooks/blob/master/Retail_Pulse.ipynb\" target=\"_parent\"><img src=\"https://colab.research.google.com/assets/colab-badge.svg\" alt=\"Open In Colab\"/></a>"
      ]
    },
    {
      "cell_type": "code",
      "metadata": {
        "colab": {
          "base_uri": "https://localhost:8080/"
        },
        "id": "59DynLnOCO5n",
        "outputId": "0380bc8d-95a3-4d23-fedd-26b251d8f20c"
      },
      "source": [
        "from google.colab import drive, files\n",
        "drive.mount('/content/drive/')"
      ],
      "execution_count": 98,
      "outputs": [
        {
          "output_type": "stream",
          "name": "stdout",
          "text": [
            "Drive already mounted at /content/drive/; to attempt to forcibly remount, call drive.mount(\"/content/drive/\", force_remount=True).\n"
          ]
        }
      ]
    },
    {
      "cell_type": "code",
      "metadata": {
        "id": "Me7-R7dQCqQW"
      },
      "source": [
        "import pandas as pd\n",
        "import numpy as np\n",
        "import matplotlib.pyplot as plt\n",
        "import seaborn as sns\n",
        "import warnings\n",
        "warnings.filterwarnings(\"ignore\")"
      ],
      "execution_count": 99,
      "outputs": []
    },
    {
      "cell_type": "code",
      "metadata": {
        "id": "k84Cy1HEC1V9"
      },
      "source": [
        "df = pd.read_excel('/content/drive/MyDrive/RetailPulseAssignmentData.xlsx')"
      ],
      "execution_count": 101,
      "outputs": []
    },
    {
      "cell_type": "markdown",
      "metadata": {
        "id": "eAUWpnMlPwUO"
      },
      "source": [
        "# 1. Reading the data"
      ]
    },
    {
      "cell_type": "code",
      "metadata": {
        "colab": {
          "base_uri": "https://localhost:8080/",
          "height": 203
        },
        "id": "fugK3TubC2QB",
        "outputId": "47380f05-2652-48e1-a0cb-a002b7f2713e"
      },
      "source": [
        "df.head()"
      ],
      "execution_count": 102,
      "outputs": [
        {
          "output_type": "execute_result",
          "data": {
            "text/html": [
              "<div>\n",
              "<style scoped>\n",
              "    .dataframe tbody tr th:only-of-type {\n",
              "        vertical-align: middle;\n",
              "    }\n",
              "\n",
              "    .dataframe tbody tr th {\n",
              "        vertical-align: top;\n",
              "    }\n",
              "\n",
              "    .dataframe thead th {\n",
              "        text-align: right;\n",
              "    }\n",
              "</style>\n",
              "<table border=\"1\" class=\"dataframe\">\n",
              "  <thead>\n",
              "    <tr style=\"text-align: right;\">\n",
              "      <th></th>\n",
              "      <th>Invoice</th>\n",
              "      <th>StockCode</th>\n",
              "      <th>Description</th>\n",
              "      <th>Quantity</th>\n",
              "      <th>InvoiceDate</th>\n",
              "      <th>Price</th>\n",
              "      <th>Customer ID</th>\n",
              "      <th>Country</th>\n",
              "    </tr>\n",
              "  </thead>\n",
              "  <tbody>\n",
              "    <tr>\n",
              "      <th>0</th>\n",
              "      <td>489434</td>\n",
              "      <td>85048</td>\n",
              "      <td>15CM CHRISTMAS GLASS BALL 20 LIGHTS</td>\n",
              "      <td>12</td>\n",
              "      <td>2009-12-01 07:45:00</td>\n",
              "      <td>6.95</td>\n",
              "      <td>13085.0</td>\n",
              "      <td>United Kingdom</td>\n",
              "    </tr>\n",
              "    <tr>\n",
              "      <th>1</th>\n",
              "      <td>489434</td>\n",
              "      <td>79323P</td>\n",
              "      <td>PINK CHERRY LIGHTS</td>\n",
              "      <td>12</td>\n",
              "      <td>2009-12-01 07:45:00</td>\n",
              "      <td>6.75</td>\n",
              "      <td>13085.0</td>\n",
              "      <td>United Kingdom</td>\n",
              "    </tr>\n",
              "    <tr>\n",
              "      <th>2</th>\n",
              "      <td>489434</td>\n",
              "      <td>79323W</td>\n",
              "      <td>WHITE CHERRY LIGHTS</td>\n",
              "      <td>12</td>\n",
              "      <td>2009-12-01 07:45:00</td>\n",
              "      <td>6.75</td>\n",
              "      <td>13085.0</td>\n",
              "      <td>United Kingdom</td>\n",
              "    </tr>\n",
              "    <tr>\n",
              "      <th>3</th>\n",
              "      <td>489434</td>\n",
              "      <td>22041</td>\n",
              "      <td>RECORD FRAME 7\" SINGLE SIZE</td>\n",
              "      <td>48</td>\n",
              "      <td>2009-12-01 07:45:00</td>\n",
              "      <td>2.10</td>\n",
              "      <td>13085.0</td>\n",
              "      <td>United Kingdom</td>\n",
              "    </tr>\n",
              "    <tr>\n",
              "      <th>4</th>\n",
              "      <td>489434</td>\n",
              "      <td>21232</td>\n",
              "      <td>STRAWBERRY CERAMIC TRINKET BOX</td>\n",
              "      <td>24</td>\n",
              "      <td>2009-12-01 07:45:00</td>\n",
              "      <td>1.25</td>\n",
              "      <td>13085.0</td>\n",
              "      <td>United Kingdom</td>\n",
              "    </tr>\n",
              "  </tbody>\n",
              "</table>\n",
              "</div>"
            ],
            "text/plain": [
              "  Invoice StockCode  ... Customer ID         Country\n",
              "0  489434     85048  ...     13085.0  United Kingdom\n",
              "1  489434    79323P  ...     13085.0  United Kingdom\n",
              "2  489434    79323W  ...     13085.0  United Kingdom\n",
              "3  489434     22041  ...     13085.0  United Kingdom\n",
              "4  489434     21232  ...     13085.0  United Kingdom\n",
              "\n",
              "[5 rows x 8 columns]"
            ]
          },
          "metadata": {},
          "execution_count": 102
        }
      ]
    },
    {
      "cell_type": "markdown",
      "metadata": {
        "id": "VsAFIi_sPz3L"
      },
      "source": [
        "## 1.1 Reading basic stats of data"
      ]
    },
    {
      "cell_type": "code",
      "metadata": {
        "colab": {
          "base_uri": "https://localhost:8080/"
        },
        "id": "2KnyK_luC2XS",
        "outputId": "cb5fbf88-032f-437d-dbdb-0fb435c648e5"
      },
      "source": [
        "df.shape"
      ],
      "execution_count": 103,
      "outputs": [
        {
          "output_type": "execute_result",
          "data": {
            "text/plain": [
              "(525461, 8)"
            ]
          },
          "metadata": {},
          "execution_count": 103
        }
      ]
    },
    {
      "cell_type": "code",
      "metadata": {
        "colab": {
          "base_uri": "https://localhost:8080/"
        },
        "id": "uJG_ZeymC2hq",
        "outputId": "59d48439-3b46-43f6-c6e6-9825ff7b75fc"
      },
      "source": [
        "df.info()"
      ],
      "execution_count": 104,
      "outputs": [
        {
          "output_type": "stream",
          "name": "stdout",
          "text": [
            "<class 'pandas.core.frame.DataFrame'>\n",
            "RangeIndex: 525461 entries, 0 to 525460\n",
            "Data columns (total 8 columns):\n",
            " #   Column       Non-Null Count   Dtype         \n",
            "---  ------       --------------   -----         \n",
            " 0   Invoice      525461 non-null  object        \n",
            " 1   StockCode    525461 non-null  object        \n",
            " 2   Description  522533 non-null  object        \n",
            " 3   Quantity     525461 non-null  int64         \n",
            " 4   InvoiceDate  525461 non-null  datetime64[ns]\n",
            " 5   Price        525461 non-null  float64       \n",
            " 6   Customer ID  417534 non-null  float64       \n",
            " 7   Country      525461 non-null  object        \n",
            "dtypes: datetime64[ns](1), float64(2), int64(1), object(4)\n",
            "memory usage: 32.1+ MB\n"
          ]
        }
      ]
    },
    {
      "cell_type": "code",
      "metadata": {
        "colab": {
          "base_uri": "https://localhost:8080/"
        },
        "id": "YLL7If7FDmwM",
        "outputId": "45ae017d-02da-451f-bfab-ec2e805fd595"
      },
      "source": [
        "df.columns"
      ],
      "execution_count": 105,
      "outputs": [
        {
          "output_type": "execute_result",
          "data": {
            "text/plain": [
              "Index(['Invoice', 'StockCode', 'Description', 'Quantity', 'InvoiceDate',\n",
              "       'Price', 'Customer ID', 'Country'],\n",
              "      dtype='object')"
            ]
          },
          "metadata": {},
          "execution_count": 105
        }
      ]
    },
    {
      "cell_type": "code",
      "metadata": {
        "colab": {
          "base_uri": "https://localhost:8080/",
          "height": 295
        },
        "id": "jtHaZsoNRFDG",
        "outputId": "ce766c92-9bea-4bd5-b607-b230b9dc9ab1"
      },
      "source": [
        "df.describe()"
      ],
      "execution_count": 106,
      "outputs": [
        {
          "output_type": "execute_result",
          "data": {
            "text/html": [
              "<div>\n",
              "<style scoped>\n",
              "    .dataframe tbody tr th:only-of-type {\n",
              "        vertical-align: middle;\n",
              "    }\n",
              "\n",
              "    .dataframe tbody tr th {\n",
              "        vertical-align: top;\n",
              "    }\n",
              "\n",
              "    .dataframe thead th {\n",
              "        text-align: right;\n",
              "    }\n",
              "</style>\n",
              "<table border=\"1\" class=\"dataframe\">\n",
              "  <thead>\n",
              "    <tr style=\"text-align: right;\">\n",
              "      <th></th>\n",
              "      <th>Quantity</th>\n",
              "      <th>Price</th>\n",
              "      <th>Customer ID</th>\n",
              "    </tr>\n",
              "  </thead>\n",
              "  <tbody>\n",
              "    <tr>\n",
              "      <th>count</th>\n",
              "      <td>525461.000000</td>\n",
              "      <td>525461.000000</td>\n",
              "      <td>417534.000000</td>\n",
              "    </tr>\n",
              "    <tr>\n",
              "      <th>mean</th>\n",
              "      <td>10.337667</td>\n",
              "      <td>4.688834</td>\n",
              "      <td>15360.645478</td>\n",
              "    </tr>\n",
              "    <tr>\n",
              "      <th>std</th>\n",
              "      <td>107.424110</td>\n",
              "      <td>146.126914</td>\n",
              "      <td>1680.811316</td>\n",
              "    </tr>\n",
              "    <tr>\n",
              "      <th>min</th>\n",
              "      <td>-9600.000000</td>\n",
              "      <td>-53594.360000</td>\n",
              "      <td>12346.000000</td>\n",
              "    </tr>\n",
              "    <tr>\n",
              "      <th>25%</th>\n",
              "      <td>1.000000</td>\n",
              "      <td>1.250000</td>\n",
              "      <td>13983.000000</td>\n",
              "    </tr>\n",
              "    <tr>\n",
              "      <th>50%</th>\n",
              "      <td>3.000000</td>\n",
              "      <td>2.100000</td>\n",
              "      <td>15311.000000</td>\n",
              "    </tr>\n",
              "    <tr>\n",
              "      <th>75%</th>\n",
              "      <td>10.000000</td>\n",
              "      <td>4.210000</td>\n",
              "      <td>16799.000000</td>\n",
              "    </tr>\n",
              "    <tr>\n",
              "      <th>max</th>\n",
              "      <td>19152.000000</td>\n",
              "      <td>25111.090000</td>\n",
              "      <td>18287.000000</td>\n",
              "    </tr>\n",
              "  </tbody>\n",
              "</table>\n",
              "</div>"
            ],
            "text/plain": [
              "            Quantity          Price    Customer ID\n",
              "count  525461.000000  525461.000000  417534.000000\n",
              "mean       10.337667       4.688834   15360.645478\n",
              "std       107.424110     146.126914    1680.811316\n",
              "min     -9600.000000  -53594.360000   12346.000000\n",
              "25%         1.000000       1.250000   13983.000000\n",
              "50%         3.000000       2.100000   15311.000000\n",
              "75%        10.000000       4.210000   16799.000000\n",
              "max     19152.000000   25111.090000   18287.000000"
            ]
          },
          "metadata": {},
          "execution_count": 106
        }
      ]
    },
    {
      "cell_type": "markdown",
      "metadata": {
        "id": "I8UEyRURRNRS"
      },
      "source": [
        "* We can see that Quantity and Price have negative values which is not possible in real life. \n",
        "* There is a possibility that these two features contains outliers."
      ]
    },
    {
      "cell_type": "markdown",
      "metadata": {
        "id": "V0eE6ShrQ3Ou"
      },
      "source": [
        "## 1.3 Checking for missing values"
      ]
    },
    {
      "cell_type": "code",
      "metadata": {
        "colab": {
          "base_uri": "https://localhost:8080/",
          "height": 420
        },
        "id": "SFI6YrTWC2cq",
        "outputId": "2d4b1e1b-1895-4338-b123-05c3d942a4f5"
      },
      "source": [
        "import missingno\n",
        "missingno.matrix(df, figsize=(10,5))"
      ],
      "execution_count": 107,
      "outputs": [
        {
          "output_type": "execute_result",
          "data": {
            "text/plain": [
              "<matplotlib.axes._subplots.AxesSubplot at 0x7f7a5e7315d0>"
            ]
          },
          "metadata": {},
          "execution_count": 107
        },
        {
          "output_type": "display_data",
          "data": {
            "image/png": "[encoded data removed]",
            "text/plain": [
              "<Figure size 720x360 with 2 Axes>"
            ]
          },
          "metadata": {
            "needs_background": "light"
          }
        }
      ]
    },
    {
      "cell_type": "markdown",
      "metadata": {
        "id": "rP4u4ni5Q8wG"
      },
      "source": [
        "We can see that Customer Id feature contains a lot of missing values."
      ]
    },
    {
      "cell_type": "markdown",
      "metadata": {
        "id": "MTW4iGBeUXPX"
      },
      "source": [
        "## 1.4 Check for duplicate records in dataframe"
      ]
    },
    {
      "cell_type": "code",
      "metadata": {
        "colab": {
          "base_uri": "https://localhost:8080/"
        },
        "id": "0i567ezNVFJC",
        "outputId": "4afbdd81-a38e-4883-a286-6c14e85ad264"
      },
      "source": [
        "df.duplicated().sum()"
      ],
      "execution_count": 108,
      "outputs": [
        {
          "output_type": "execute_result",
          "data": {
            "text/plain": [
              "6865"
            ]
          },
          "metadata": {},
          "execution_count": 108
        }
      ]
    },
    {
      "cell_type": "markdown",
      "metadata": {
        "id": "QQ4NkeGIUcZu"
      },
      "source": [
        "* 6865 duplicate records \n",
        "* drop the duplicate records"
      ]
    },
    {
      "cell_type": "code",
      "metadata": {
        "colab": {
          "base_uri": "https://localhost:8080/"
        },
        "id": "Ew_Pd0RyUpml",
        "outputId": "24a55583-2439-4c26-eb85-e7bff1ffa320"
      },
      "source": [
        "print(df[df.duplicated()].head())"
      ],
      "execution_count": 109,
      "outputs": [
        {
          "output_type": "stream",
          "name": "stdout",
          "text": [
            "    Invoice StockCode  ... Customer ID         Country\n",
            "371  489517     21912  ...     16329.0  United Kingdom\n",
            "383  489517     22130  ...     16329.0  United Kingdom\n",
            "384  489517     22319  ...     16329.0  United Kingdom\n",
            "385  489517     21913  ...     16329.0  United Kingdom\n",
            "386  489517     21821  ...     16329.0  United Kingdom\n",
            "\n",
            "[5 rows x 8 columns]\n"
          ]
        }
      ]
    },
    {
      "cell_type": "code",
      "metadata": {
        "colab": {
          "base_uri": "https://localhost:8080/"
        },
        "id": "wSt1Oaov-diI",
        "outputId": "b29c131b-9cba-4942-837f-6d962e4e2162"
      },
      "source": [
        "df.shape"
      ],
      "execution_count": 111,
      "outputs": [
        {
          "output_type": "execute_result",
          "data": {
            "text/plain": [
              "(525461, 8)"
            ]
          },
          "metadata": {},
          "execution_count": 111
        }
      ]
    },
    {
      "cell_type": "code",
      "metadata": {
        "id": "-Yqv1E6fU6VQ"
      },
      "source": [
        "df.drop_duplicates(inplace = True)"
      ],
      "execution_count": 112,
      "outputs": []
    },
    {
      "cell_type": "code",
      "metadata": {
        "colab": {
          "base_uri": "https://localhost:8080/"
        },
        "id": "vp4K7Hv0-fIS",
        "outputId": "8c9e6387-41e4-479f-f31d-3aad401886ba"
      },
      "source": [
        "df.shape"
      ],
      "execution_count": 114,
      "outputs": [
        {
          "output_type": "execute_result",
          "data": {
            "text/plain": [
              "(518596, 8)"
            ]
          },
          "metadata": {},
          "execution_count": 114
        }
      ]
    },
    {
      "cell_type": "code",
      "metadata": {
        "colab": {
          "base_uri": "https://localhost:8080/"
        },
        "id": "BDUxGousVThO",
        "outputId": "4c8a62c4-199f-47e5-f326-44d53ec259bc"
      },
      "source": [
        "df.duplicated().sum()"
      ],
      "execution_count": 116,
      "outputs": [
        {
          "output_type": "execute_result",
          "data": {
            "text/plain": [
              "0"
            ]
          },
          "metadata": {},
          "execution_count": 116
        }
      ]
    },
    {
      "cell_type": "markdown",
      "metadata": {
        "id": "ywsjzN2DVV8S"
      },
      "source": [
        "# 2. Univariate Analysis of every feature"
      ]
    },
    {
      "cell_type": "markdown",
      "metadata": {
        "id": "YmklM7gRY18L"
      },
      "source": [
        "### 2.1 Invoice "
      ]
    },
    {
      "cell_type": "code",
      "metadata": {
        "colab": {
          "base_uri": "https://localhost:8080/"
        },
        "id": "L5qXv3hHDtqp",
        "outputId": "c178f6b4-d535-4fd8-dba6-64a3b4ec637d"
      },
      "source": [
        "df.Invoice.value_counts()"
      ],
      "execution_count": 117,
      "outputs": [
        {
          "output_type": "execute_result",
          "data": {
            "text/plain": [
              "537434     675\n",
              "538071     652\n",
              "537638     601\n",
              "537237     597\n",
              "536876     593\n",
              "          ... \n",
              "C494793      1\n",
              "498341       1\n",
              "C490931      1\n",
              "C516159      1\n",
              "C515991      1\n",
              "Name: Invoice, Length: 28816, dtype: int64"
            ]
          },
          "metadata": {},
          "execution_count": 117
        }
      ]
    },
    {
      "cell_type": "markdown",
      "metadata": {
        "id": "QV48orQk1mEN"
      },
      "source": [
        "* If Invoice Code starts from 'C' then it refers to cancellation of that order."
      ]
    },
    {
      "cell_type": "code",
      "metadata": {
        "id": "aiYrtGnr1lUh"
      },
      "source": [
        "noc = 0\n",
        "indices = []\n",
        "for index, row in df.iterrows():\n",
        "  invoice = row['Invoice']\n",
        "  invoice = str(invoice)\n",
        "  if (invoice[0] == 'C'):\n",
        "    noc += 1\n",
        "    indices.append(index)\n",
        "    #df.drop(index)\n",
        "\n",
        "#print(df.shape)"
      ],
      "execution_count": 119,
      "outputs": []
    },
    {
      "cell_type": "code",
      "metadata": {
        "colab": {
          "base_uri": "https://localhost:8080/"
        },
        "id": "qugTnRix-62-",
        "outputId": "c17fc15b-8de5-4914-80ca-0d8a95f2bedc"
      },
      "source": [
        "indices[0:10]"
      ],
      "execution_count": 121,
      "outputs": [
        {
          "output_type": "execute_result",
          "data": {
            "text/plain": [
              "[178, 179, 180, 181, 182, 183, 184, 185, 186, 196]"
            ]
          },
          "metadata": {},
          "execution_count": 121
        }
      ]
    },
    {
      "cell_type": "code",
      "metadata": {
        "colab": {
          "base_uri": "https://localhost:8080/"
        },
        "id": "TW3AKO9v-CBS",
        "outputId": "189c2ef5-dbcc-4e1c-d305-b81d65a9acb2"
      },
      "source": [
        "print(noc)"
      ],
      "execution_count": 122,
      "outputs": [
        {
          "output_type": "stream",
          "name": "stdout",
          "text": [
            "10182\n"
          ]
        }
      ]
    },
    {
      "cell_type": "markdown",
      "metadata": {
        "id": "GntwGWGw2iEk"
      },
      "source": [
        "* There are total 10182 orders cancelled. "
      ]
    },
    {
      "cell_type": "code",
      "metadata": {
        "id": "js71kAm7-DYx"
      },
      "source": [
        "df.drop(indices,inplace = True,axis = 0)"
      ],
      "execution_count": 123,
      "outputs": []
    },
    {
      "cell_type": "markdown",
      "metadata": {
        "id": "96GmAUH32imo"
      },
      "source": [
        "* We've removed such records."
      ]
    },
    {
      "cell_type": "code",
      "metadata": {
        "colab": {
          "base_uri": "https://localhost:8080/"
        },
        "id": "ZXxWzOhL2hM4",
        "outputId": "bfdd628f-bf9d-45c7-de3f-3e315d994ecc"
      },
      "source": [
        "df.shape"
      ],
      "execution_count": 125,
      "outputs": [
        {
          "output_type": "execute_result",
          "data": {
            "text/plain": [
              "(508414, 8)"
            ]
          },
          "metadata": {},
          "execution_count": 125
        }
      ]
    },
    {
      "cell_type": "markdown",
      "metadata": {
        "id": "wEA1dqnD8Thp"
      },
      "source": [
        "### 2.2 Quantity"
      ]
    },
    {
      "cell_type": "code",
      "metadata": {
        "colab": {
          "base_uri": "https://localhost:8080/"
        },
        "id": "LZpsBRTh8sWi",
        "outputId": "250c7bd6-154a-4585-dd69-1f24565b5d2e"
      },
      "source": [
        "df['Quantity'].describe()"
      ],
      "execution_count": 126,
      "outputs": [
        {
          "output_type": "execute_result",
          "data": {
            "text/plain": [
              "count    508414.000000\n",
              "mean         11.066713\n",
              "std         105.046657\n",
              "min       -9600.000000\n",
              "25%           1.000000\n",
              "50%           3.000000\n",
              "75%          12.000000\n",
              "max       19152.000000\n",
              "Name: Quantity, dtype: float64"
            ]
          },
          "metadata": {},
          "execution_count": 126
        }
      ]
    },
    {
      "cell_type": "code",
      "metadata": {
        "colab": {
          "base_uri": "https://localhost:8080/"
        },
        "id": "cRMQKEzm8saK",
        "outputId": "e936ac75-17c5-47d9-a0ec-33c37876d1ff"
      },
      "source": [
        "len(df[df['Quantity'] < 0 ])"
      ],
      "execution_count": 127,
      "outputs": [
        {
          "output_type": "execute_result",
          "data": {
            "text/plain": [
              "2121"
            ]
          },
          "metadata": {},
          "execution_count": 127
        }
      ]
    },
    {
      "cell_type": "markdown",
      "metadata": {
        "id": "QZZey-lu8-Jp"
      },
      "source": [
        "* We can see that there are total 2121 items whose quantities are negative, which means they were cancelled. \n",
        "* We'll Remove such records"
      ]
    },
    {
      "cell_type": "code",
      "metadata": {
        "id": "nOskRD1c89XL"
      },
      "source": [
        "indices = []\n",
        "for index, row in df.iterrows():\n",
        "  if (row['Quantity'] < 0):\n",
        "    indices.append(index)\n",
        "    #df.drop(index)\n",
        "#print(df.shape)"
      ],
      "execution_count": 130,
      "outputs": []
    },
    {
      "cell_type": "code",
      "metadata": {
        "colab": {
          "base_uri": "https://localhost:8080/"
        },
        "id": "yNf1Mg66_kil",
        "outputId": "9a8e17a1-cbdd-4639-8ac7-2dcbcbc7657c"
      },
      "source": [
        "indices[0:10]"
      ],
      "execution_count": 131,
      "outputs": [
        {
          "output_type": "execute_result",
          "data": {
            "text/plain": [
              "[263, 283, 284, 470, 3114, 3162, 3168, 4296, 4538, 4566]"
            ]
          },
          "metadata": {},
          "execution_count": 131
        }
      ]
    },
    {
      "cell_type": "code",
      "metadata": {
        "id": "r3UrO5VN8sjt"
      },
      "source": [
        "df.drop(indices,inplace = True,axis = 0)"
      ],
      "execution_count": 132,
      "outputs": []
    },
    {
      "cell_type": "code",
      "metadata": {
        "colab": {
          "base_uri": "https://localhost:8080/"
        },
        "id": "Qjgp7MH2_nj3",
        "outputId": "d83567e7-9818-4e96-9913-3c78e6a47df3"
      },
      "source": [
        "df.shape"
      ],
      "execution_count": 133,
      "outputs": [
        {
          "output_type": "execute_result",
          "data": {
            "text/plain": [
              "(506293, 8)"
            ]
          },
          "metadata": {},
          "execution_count": 133
        }
      ]
    },
    {
      "cell_type": "markdown",
      "metadata": {
        "id": "r1Ju5FT1baR9"
      },
      "source": [
        "### 2.3 StockCode"
      ]
    },
    {
      "cell_type": "code",
      "metadata": {
        "colab": {
          "base_uri": "https://localhost:8080/"
        },
        "id": "5T-l4o9PDwnB",
        "outputId": "ed1f9b19-c574-4244-bafd-35870c776b05"
      },
      "source": [
        "df.StockCode.value_counts()"
      ],
      "execution_count": 134,
      "outputs": [
        {
          "output_type": "execute_result",
          "data": {
            "text/plain": [
              "85123A    3376\n",
              "22423     2036\n",
              "85099B    2002\n",
              "21212     1887\n",
              "21232     1679\n",
              "          ... \n",
              "84630        1\n",
              "72759        1\n",
              "35837        1\n",
              "84648        1\n",
              "21029        1\n",
              "Name: StockCode, Length: 4317, dtype: int64"
            ]
          },
          "metadata": {},
          "execution_count": 134
        }
      ]
    },
    {
      "cell_type": "markdown",
      "metadata": {
        "id": "-fFseQRBy_ih"
      },
      "source": [
        "### 2.4 Price"
      ]
    },
    {
      "cell_type": "code",
      "metadata": {
        "colab": {
          "base_uri": "https://localhost:8080/"
        },
        "id": "FZMdengJ_8x-",
        "outputId": "ae2b6265-3f3a-4592-c0bc-779eda3e7c29"
      },
      "source": [
        "len(df[df['Price'] < 0 ])"
      ],
      "execution_count": 137,
      "outputs": [
        {
          "output_type": "execute_result",
          "data": {
            "text/plain": [
              "3"
            ]
          },
          "metadata": {},
          "execution_count": 137
        }
      ]
    },
    {
      "cell_type": "code",
      "metadata": {
        "id": "QDPj7TpiABiV"
      },
      "source": [
        "indices = []\n",
        "for index, row in df.iterrows():\n",
        "  if (row['Price'] < 0):\n",
        "    indices.append(index)"
      ],
      "execution_count": 138,
      "outputs": []
    },
    {
      "cell_type": "code",
      "metadata": {
        "id": "U32L_VUCAHVP"
      },
      "source": [
        "df.drop(indices,inplace = True,axis = 0)"
      ],
      "execution_count": 139,
      "outputs": []
    },
    {
      "cell_type": "code",
      "metadata": {
        "colab": {
          "base_uri": "https://localhost:8080/"
        },
        "id": "1Vr_1I8YAYsO",
        "outputId": "fd1579bc-03bb-48af-a70c-0e758bbe8c11"
      },
      "source": [
        "df.shape"
      ],
      "execution_count": 140,
      "outputs": [
        {
          "output_type": "execute_result",
          "data": {
            "text/plain": [
              "(506290, 8)"
            ]
          },
          "metadata": {},
          "execution_count": 140
        }
      ]
    },
    {
      "cell_type": "code",
      "metadata": {
        "colab": {
          "base_uri": "https://localhost:8080/"
        },
        "id": "M5u5mvqvzDOZ",
        "outputId": "89234cf8-d83c-445e-945b-34a745f3ded6"
      },
      "source": [
        "print(df['Price'].min())\n",
        "print(df['Price'].max())"
      ],
      "execution_count": 141,
      "outputs": [
        {
          "output_type": "stream",
          "name": "stdout",
          "text": [
            "0.0\n",
            "25111.09\n"
          ]
        }
      ]
    },
    {
      "cell_type": "code",
      "metadata": {
        "colab": {
          "base_uri": "https://localhost:8080/",
          "height": 279
        },
        "id": "OXaaPAmk_ttV",
        "outputId": "a9769c12-3788-4180-a5b4-7193a48e97bd"
      },
      "source": [
        "df.plot(kind='scatter', y='Price',x='InvoiceDate') ;\n",
        "plt.show()"
      ],
      "execution_count": 142,
      "outputs": [
        {
          "output_type": "display_data",
          "data": {
            "image/png": "[encoded data removed]",
            "text/plain": [
              "<Figure size 432x288 with 1 Axes>"
            ]
          },
          "metadata": {
            "needs_background": "light"
          }
        }
      ]
    },
    {
      "cell_type": "markdown",
      "metadata": {
        "id": "jnZj8jVQCyOs"
      },
      "source": [
        "* One of the conclusions that can be drawn is that we can see very high value of Prices during the year end. "
      ]
    },
    {
      "cell_type": "markdown",
      "metadata": {
        "id": "-0ikreuQbgr-"
      },
      "source": [
        "### 2.4 Country"
      ]
    },
    {
      "cell_type": "code",
      "metadata": {
        "colab": {
          "base_uri": "https://localhost:8080/"
        },
        "id": "pdIYZRRaEKLu",
        "outputId": "89788b36-df94-4311-9a84-4852242428c7"
      },
      "source": [
        "df.Country.value_counts()"
      ],
      "execution_count": 143,
      "outputs": [
        {
          "output_type": "execute_result",
          "data": {
            "text/plain": [
              "United Kingdom          468152\n",
              "EIRE                      9451\n",
              "Germany                   7652\n",
              "France                    5514\n",
              "Netherlands               2729\n",
              "Spain                     1228\n",
              "Switzerland               1170\n",
              "Portugal                  1058\n",
              "Belgium                   1037\n",
              "Sweden                     886\n",
              "Channel Islands            821\n",
              "Italy                      708\n",
              "Australia                  630\n",
              "Cyprus                     533\n",
              "Austria                    524\n",
              "Greece                     512\n",
              "Denmark                    418\n",
              "United Arab Emirates       399\n",
              "Norway                     365\n",
              "Finland                    347\n",
              "Unspecified                306\n",
              "USA                        230\n",
              "Poland                     182\n",
              "Malta                      170\n",
              "Japan                      164\n",
              "Lithuania                  154\n",
              "Singapore                  117\n",
              "RSA                        110\n",
              "Bahrain                    106\n",
              "Canada                      77\n",
              "Thailand                    76\n",
              "Israel                      74\n",
              "Hong Kong                   74\n",
              "Iceland                     71\n",
              "Brazil                      62\n",
              "West Indies                 54\n",
              "Korea                       53\n",
              "Bermuda                     34\n",
              "Nigeria                     30\n",
              "Lebanon                     12\n",
              "Name: Country, dtype: int64"
            ]
          },
          "metadata": {},
          "execution_count": 143
        }
      ]
    },
    {
      "cell_type": "code",
      "metadata": {
        "colab": {
          "base_uri": "https://localhost:8080/",
          "height": 606
        },
        "id": "FaEiLxX2cBzH",
        "outputId": "eea15e97-801c-4990-f01e-977585f69c81"
      },
      "source": [
        "fig = plt.figure(figsize=(20,10))\n",
        "sns.countplot(y='Country',data = df);\n"
      ],
      "execution_count": 144,
      "outputs": [
        {
          "output_type": "display_data",
          "data": {
            "image/png": "[encoded data removed]",
            "text/plain": [
              "<Figure size 1440x720 with 1 Axes>"
            ]
          },
          "metadata": {
            "needs_background": "light"
          }
        }
      ]
    },
    {
      "cell_type": "markdown",
      "metadata": {
        "id": "DUpsuJPOexrJ"
      },
      "source": [
        "### 2.5 Customer ID"
      ]
    },
    {
      "cell_type": "code",
      "metadata": {
        "colab": {
          "base_uri": "https://localhost:8080/"
        },
        "id": "YQ_iOtOd7xL7",
        "outputId": "e705f318-238e-438c-d9ab-e834c97bc28f"
      },
      "source": [
        "df['Customer ID'].isnull().sum()"
      ],
      "execution_count": 145,
      "outputs": [
        {
          "output_type": "execute_result",
          "data": {
            "text/plain": [
              "105343"
            ]
          },
          "metadata": {},
          "execution_count": 145
        }
      ]
    },
    {
      "cell_type": "markdown",
      "metadata": {
        "id": "aSOiENGO731S"
      },
      "source": [
        "* We'll remove the records which contain null value for Customer ID as it is unique and there's no way to replace them. "
      ]
    },
    {
      "cell_type": "code",
      "metadata": {
        "colab": {
          "base_uri": "https://localhost:8080/"
        },
        "id": "FE7TL1CBAxeD",
        "outputId": "4c9af0b1-8804-462f-af60-40f5406bd838"
      },
      "source": [
        "df.shape"
      ],
      "execution_count": 146,
      "outputs": [
        {
          "output_type": "execute_result",
          "data": {
            "text/plain": [
              "(506290, 8)"
            ]
          },
          "metadata": {},
          "execution_count": 146
        }
      ]
    },
    {
      "cell_type": "code",
      "metadata": {
        "id": "DdtdSMmd8CJm"
      },
      "source": [
        "df.dropna(inplace = True)"
      ],
      "execution_count": 147,
      "outputs": []
    },
    {
      "cell_type": "code",
      "metadata": {
        "colab": {
          "base_uri": "https://localhost:8080/"
        },
        "id": "GnuWuzSEBOUX",
        "outputId": "6677a176-9156-44c5-b974-d419b82545aa"
      },
      "source": [
        "df.shape"
      ],
      "execution_count": 148,
      "outputs": [
        {
          "output_type": "execute_result",
          "data": {
            "text/plain": [
              "(400947, 8)"
            ]
          },
          "metadata": {},
          "execution_count": 148
        }
      ]
    },
    {
      "cell_type": "code",
      "metadata": {
        "colab": {
          "base_uri": "https://localhost:8080/"
        },
        "id": "SRCVlXdvERyM",
        "outputId": "8f4a60fe-71a3-45f1-ce06-c88ed31a7c1a"
      },
      "source": [
        "df['Customer ID'].value_counts()"
      ],
      "execution_count": 149,
      "outputs": [
        {
          "output_type": "execute_result",
          "data": {
            "text/plain": [
              "14911.0    5568\n",
              "17841.0    4944\n",
              "14606.0    3802\n",
              "14156.0    2646\n",
              "12748.0    2532\n",
              "           ... \n",
              "14495.0       1\n",
              "16737.0       1\n",
              "16219.0       1\n",
              "14906.0       1\n",
              "13270.0       1\n",
              "Name: Customer ID, Length: 4314, dtype: int64"
            ]
          },
          "metadata": {},
          "execution_count": 149
        }
      ]
    },
    {
      "cell_type": "markdown",
      "metadata": {
        "id": "ZoOkJa7Tf_bZ"
      },
      "source": [
        "* Customer ID refers to the id of a single customer. \n",
        "* Customer with ID = 14911 occurs max number of time. \n",
        "* It can be inferred that this customer has done maximum purchasing in the store."
      ]
    },
    {
      "cell_type": "code",
      "metadata": {
        "colab": {
          "base_uri": "https://localhost:8080/"
        },
        "id": "dolYEO3qGAw3",
        "outputId": "815765ea-d143-4051-ae54-b8174cb65c8c"
      },
      "source": [
        "df[df['Customer ID'] == 14911].InvoiceDate.value_counts()"
      ],
      "execution_count": 150,
      "outputs": [
        {
          "output_type": "execute_result",
          "data": {
            "text/plain": [
              "2010-10-03 12:40:00    112\n",
              "2010-05-09 12:49:00    106\n",
              "2010-06-14 14:06:00    101\n",
              "2010-10-27 13:29:00     89\n",
              "2010-03-30 09:47:00     79\n",
              "                      ... \n",
              "2010-03-24 10:42:00      1\n",
              "2010-12-06 13:32:00      1\n",
              "2010-01-08 10:39:00      1\n",
              "2010-08-19 14:24:00      1\n",
              "2010-10-22 09:45:00      1\n",
              "Name: InvoiceDate, Length: 204, dtype: int64"
            ]
          },
          "metadata": {},
          "execution_count": 150
        }
      ]
    },
    {
      "cell_type": "markdown",
      "metadata": {
        "id": "8hyilL7zlaqT"
      },
      "source": [
        "* There are 204 different dates when the customer with id = 14911 has engaged with store.\n"
      ]
    },
    {
      "cell_type": "code",
      "metadata": {
        "colab": {
          "base_uri": "https://localhost:8080/",
          "height": 417
        },
        "id": "ZukDu5aLhJCj",
        "outputId": "2e3c7079-0201-4953-9eab-a924afbb7063"
      },
      "source": [
        "df[df['Customer ID'] == 14911]"
      ],
      "execution_count": 151,
      "outputs": [
        {
          "output_type": "execute_result",
          "data": {
            "text/html": [
              "<div>\n",
              "<style scoped>\n",
              "    .dataframe tbody tr th:only-of-type {\n",
              "        vertical-align: middle;\n",
              "    }\n",
              "\n",
              "    .dataframe tbody tr th {\n",
              "        vertical-align: top;\n",
              "    }\n",
              "\n",
              "    .dataframe thead th {\n",
              "        text-align: right;\n",
              "    }\n",
              "</style>\n",
              "<table border=\"1\" class=\"dataframe\">\n",
              "  <thead>\n",
              "    <tr style=\"text-align: right;\">\n",
              "      <th></th>\n",
              "      <th>Invoice</th>\n",
              "      <th>StockCode</th>\n",
              "      <th>Description</th>\n",
              "      <th>Quantity</th>\n",
              "      <th>InvoiceDate</th>\n",
              "      <th>Price</th>\n",
              "      <th>Customer ID</th>\n",
              "      <th>Country</th>\n",
              "    </tr>\n",
              "  </thead>\n",
              "  <tbody>\n",
              "    <tr>\n",
              "      <th>440</th>\n",
              "      <td>489520</td>\n",
              "      <td>35751C</td>\n",
              "      <td>PURPLE CURRENT CANDLE RING</td>\n",
              "      <td>12</td>\n",
              "      <td>2009-12-01 11:41:00</td>\n",
              "      <td>0.75</td>\n",
              "      <td>14911.0</td>\n",
              "      <td>EIRE</td>\n",
              "    </tr>\n",
              "    <tr>\n",
              "      <th>441</th>\n",
              "      <td>489520</td>\n",
              "      <td>72739B</td>\n",
              "      <td>WHITE CHOCOLATE SCENT CANDLE</td>\n",
              "      <td>12</td>\n",
              "      <td>2009-12-01 11:41:00</td>\n",
              "      <td>1.25</td>\n",
              "      <td>14911.0</td>\n",
              "      <td>EIRE</td>\n",
              "    </tr>\n",
              "    <tr>\n",
              "      <th>442</th>\n",
              "      <td>489520</td>\n",
              "      <td>22114</td>\n",
              "      <td>HOT WATER BOTTLE TEA AND SYMPATHY</td>\n",
              "      <td>8</td>\n",
              "      <td>2009-12-01 11:41:00</td>\n",
              "      <td>3.95</td>\n",
              "      <td>14911.0</td>\n",
              "      <td>EIRE</td>\n",
              "    </tr>\n",
              "    <tr>\n",
              "      <th>443</th>\n",
              "      <td>489520</td>\n",
              "      <td>22212</td>\n",
              "      <td>FOUR HOOK  WHITE LOVEBIRDS</td>\n",
              "      <td>6</td>\n",
              "      <td>2009-12-01 11:41:00</td>\n",
              "      <td>2.10</td>\n",
              "      <td>14911.0</td>\n",
              "      <td>EIRE</td>\n",
              "    </tr>\n",
              "    <tr>\n",
              "      <th>444</th>\n",
              "      <td>489520</td>\n",
              "      <td>21523</td>\n",
              "      <td>FANCY FONT HOME SWEET HOME DOORMAT</td>\n",
              "      <td>2</td>\n",
              "      <td>2009-12-01 11:41:00</td>\n",
              "      <td>6.75</td>\n",
              "      <td>14911.0</td>\n",
              "      <td>EIRE</td>\n",
              "    </tr>\n",
              "    <tr>\n",
              "      <th>...</th>\n",
              "      <td>...</td>\n",
              "      <td>...</td>\n",
              "      <td>...</td>\n",
              "      <td>...</td>\n",
              "      <td>...</td>\n",
              "      <td>...</td>\n",
              "      <td>...</td>\n",
              "      <td>...</td>\n",
              "    </tr>\n",
              "    <tr>\n",
              "      <th>523021</th>\n",
              "      <td>538009</td>\n",
              "      <td>21754</td>\n",
              "      <td>HOME BUILDING BLOCK WORD</td>\n",
              "      <td>3</td>\n",
              "      <td>2010-12-09 12:17:00</td>\n",
              "      <td>5.95</td>\n",
              "      <td>14911.0</td>\n",
              "      <td>EIRE</td>\n",
              "    </tr>\n",
              "    <tr>\n",
              "      <th>523022</th>\n",
              "      <td>538009</td>\n",
              "      <td>22840</td>\n",
              "      <td>ROUND CAKE TIN VINTAGE RED</td>\n",
              "      <td>2</td>\n",
              "      <td>2010-12-09 12:17:00</td>\n",
              "      <td>7.95</td>\n",
              "      <td>14911.0</td>\n",
              "      <td>EIRE</td>\n",
              "    </tr>\n",
              "    <tr>\n",
              "      <th>523023</th>\n",
              "      <td>538009</td>\n",
              "      <td>22842</td>\n",
              "      <td>BISCUIT TIN VINTAGE RED</td>\n",
              "      <td>2</td>\n",
              "      <td>2010-12-09 12:17:00</td>\n",
              "      <td>6.75</td>\n",
              "      <td>14911.0</td>\n",
              "      <td>EIRE</td>\n",
              "    </tr>\n",
              "    <tr>\n",
              "      <th>523024</th>\n",
              "      <td>538009</td>\n",
              "      <td>22197</td>\n",
              "      <td>SMALL POPCORN HOLDER</td>\n",
              "      <td>36</td>\n",
              "      <td>2010-12-09 12:17:00</td>\n",
              "      <td>0.85</td>\n",
              "      <td>14911.0</td>\n",
              "      <td>EIRE</td>\n",
              "    </tr>\n",
              "    <tr>\n",
              "      <th>523025</th>\n",
              "      <td>538009</td>\n",
              "      <td>22198</td>\n",
              "      <td>LARGE POPCORN HOLDER</td>\n",
              "      <td>12</td>\n",
              "      <td>2010-12-09 12:17:00</td>\n",
              "      <td>1.65</td>\n",
              "      <td>14911.0</td>\n",
              "      <td>EIRE</td>\n",
              "    </tr>\n",
              "  </tbody>\n",
              "</table>\n",
              "<p>5568 rows × 8 columns</p>\n",
              "</div>"
            ],
            "text/plain": [
              "       Invoice StockCode  ... Customer ID  Country\n",
              "440     489520    35751C  ...     14911.0     EIRE\n",
              "441     489520    72739B  ...     14911.0     EIRE\n",
              "442     489520     22114  ...     14911.0     EIRE\n",
              "443     489520     22212  ...     14911.0     EIRE\n",
              "444     489520     21523  ...     14911.0     EIRE\n",
              "...        ...       ...  ...         ...      ...\n",
              "523021  538009     21754  ...     14911.0     EIRE\n",
              "523022  538009     22840  ...     14911.0     EIRE\n",
              "523023  538009     22842  ...     14911.0     EIRE\n",
              "523024  538009     22197  ...     14911.0     EIRE\n",
              "523025  538009     22198  ...     14911.0     EIRE\n",
              "\n",
              "[5568 rows x 8 columns]"
            ]
          },
          "metadata": {},
          "execution_count": 151
        }
      ]
    },
    {
      "cell_type": "markdown",
      "metadata": {
        "id": "1eAccYRkhy5f"
      },
      "source": [
        "* From the above, it can be observed that customer with id = 14911 has done the transactions in both the years 2009 and 2010.\n",
        "* **Loyal Customer** - how willing a customer is to engage with and repeatedly purchase from you versus your competitors.\n",
        "* Customer with Customer ID = 14911 can be called most loyal customer as he/she engaged with the store for both the years given in data."
      ]
    },
    {
      "cell_type": "markdown",
      "metadata": {
        "id": "gUnw3RSokjhY"
      },
      "source": [
        "### 2.6 InvoiceDate"
      ]
    },
    {
      "cell_type": "code",
      "metadata": {
        "colab": {
          "base_uri": "https://localhost:8080/"
        },
        "id": "LV9fPTjWJWUj",
        "outputId": "164c3f7e-2a53-4133-f0f0-8f96a2f6d306"
      },
      "source": [
        "df.InvoiceDate.value_counts()"
      ],
      "execution_count": 152,
      "outputs": [
        {
          "output_type": "execute_result",
          "data": {
            "text/plain": [
              "2010-03-07 15:34:00    251\n",
              "2010-05-07 09:04:00    250\n",
              "2010-10-08 12:14:00    240\n",
              "2010-06-08 16:47:00    240\n",
              "2010-06-06 12:13:00    236\n",
              "                      ... \n",
              "2010-02-02 14:11:00      1\n",
              "2010-09-16 10:17:00      1\n",
              "2010-08-15 11:12:00      1\n",
              "2010-06-11 15:23:00      1\n",
              "2010-07-09 12:17:00      1\n",
              "Name: InvoiceDate, Length: 18010, dtype: int64"
            ]
          },
          "metadata": {},
          "execution_count": 152
        }
      ]
    },
    {
      "cell_type": "code",
      "metadata": {
        "id": "iI2tSz_xEw8a"
      },
      "source": [
        "date_dict = df.InvoiceDate.value_counts()"
      ],
      "execution_count": 153,
      "outputs": []
    },
    {
      "cell_type": "code",
      "metadata": {
        "colab": {
          "base_uri": "https://localhost:8080/"
        },
        "id": "BFpcDYndnJAI",
        "outputId": "a40a3d8f-1a8b-4d1b-a4b2-3f936a13e4b8"
      },
      "source": [
        "date_dict[0:20]"
      ],
      "execution_count": 154,
      "outputs": [
        {
          "output_type": "execute_result",
          "data": {
            "text/plain": [
              "2010-03-07 15:34:00    251\n",
              "2010-05-07 09:04:00    250\n",
              "2010-10-08 12:14:00    240\n",
              "2010-06-08 16:47:00    240\n",
              "2010-06-06 12:13:00    236\n",
              "2010-11-07 16:29:00    228\n",
              "2010-10-07 16:48:00    226\n",
              "2010-11-28 14:57:00    215\n",
              "2010-11-21 13:13:00    202\n",
              "2010-05-16 16:05:00    201\n",
              "2010-11-15 14:26:00    200\n",
              "2010-01-07 11:52:00    199\n",
              "2010-11-21 14:10:00    199\n",
              "2010-10-07 10:39:00    190\n",
              "2010-07-01 11:59:00    186\n",
              "2010-06-22 14:21:00    184\n",
              "2010-10-26 16:47:00    182\n",
              "2010-05-16 12:51:00    180\n",
              "2010-10-17 16:17:00    173\n",
              "2010-10-05 14:05:00    172\n",
              "Name: InvoiceDate, dtype: int64"
            ]
          },
          "metadata": {},
          "execution_count": 154
        }
      ]
    },
    {
      "cell_type": "markdown",
      "metadata": {
        "id": "90SKYsJHxGeP"
      },
      "source": [
        "From above we can say that the year end of 2009 and 2010 are the most popular time of the year based on this data."
      ]
    },
    {
      "cell_type": "code",
      "metadata": {
        "id": "T_5A7WOQIDl0"
      },
      "source": [
        "df['InvoiceDate'] = pd.to_datetime(df['InvoiceDate'])"
      ],
      "execution_count": 155,
      "outputs": []
    },
    {
      "cell_type": "code",
      "metadata": {
        "id": "AdZJJl7HIneO"
      },
      "source": [
        "#df['month'] = df['InvoiceDate'].dt.month\n",
        "#df['year'] = df['InvoiceDate'].dt.year\n",
        "#df['day'] = df['InvoiceDate'].dt.day\n",
        "#df.head()"
      ],
      "execution_count": 156,
      "outputs": []
    },
    {
      "cell_type": "code",
      "metadata": {
        "id": "QIXFwdmaIyR9"
      },
      "source": [
        "#df['hour'] = df['InvoiceDate'].dt.hour\n",
        "#df['minute'] = df['InvoiceDate'].dt.minute\n",
        "#df['second'] = df['InvoiceDate'].dt.second\n",
        "#df.head()"
      ],
      "execution_count": 157,
      "outputs": []
    },
    {
      "cell_type": "code",
      "metadata": {
        "id": "eDtJKribpmNI"
      },
      "source": [
        "#df['Dates'] = pd.to_datetime(df['InvoiceDate']).dt.date\n",
        "#df['Time'] = pd.to_datetime(df['InvoiceDate']).dt.time"
      ],
      "execution_count": 158,
      "outputs": []
    },
    {
      "cell_type": "code",
      "metadata": {
        "colab": {
          "base_uri": "https://localhost:8080/",
          "height": 203
        },
        "id": "QGypWuPoJLJg",
        "outputId": "9d0c3b06-df36-499f-9cd0-65b2a4bc5a9e"
      },
      "source": [
        "df.head()"
      ],
      "execution_count": 159,
      "outputs": [
        {
          "output_type": "execute_result",
          "data": {
            "text/html": [
              "<div>\n",
              "<style scoped>\n",
              "    .dataframe tbody tr th:only-of-type {\n",
              "        vertical-align: middle;\n",
              "    }\n",
              "\n",
              "    .dataframe tbody tr th {\n",
              "        vertical-align: top;\n",
              "    }\n",
              "\n",
              "    .dataframe thead th {\n",
              "        text-align: right;\n",
              "    }\n",
              "</style>\n",
              "<table border=\"1\" class=\"dataframe\">\n",
              "  <thead>\n",
              "    <tr style=\"text-align: right;\">\n",
              "      <th></th>\n",
              "      <th>Invoice</th>\n",
              "      <th>StockCode</th>\n",
              "      <th>Description</th>\n",
              "      <th>Quantity</th>\n",
              "      <th>InvoiceDate</th>\n",
              "      <th>Price</th>\n",
              "      <th>Customer ID</th>\n",
              "      <th>Country</th>\n",
              "    </tr>\n",
              "  </thead>\n",
              "  <tbody>\n",
              "    <tr>\n",
              "      <th>0</th>\n",
              "      <td>489434</td>\n",
              "      <td>85048</td>\n",
              "      <td>15CM CHRISTMAS GLASS BALL 20 LIGHTS</td>\n",
              "      <td>12</td>\n",
              "      <td>2009-12-01 07:45:00</td>\n",
              "      <td>6.95</td>\n",
              "      <td>13085.0</td>\n",
              "      <td>United Kingdom</td>\n",
              "    </tr>\n",
              "    <tr>\n",
              "      <th>1</th>\n",
              "      <td>489434</td>\n",
              "      <td>79323P</td>\n",
              "      <td>PINK CHERRY LIGHTS</td>\n",
              "      <td>12</td>\n",
              "      <td>2009-12-01 07:45:00</td>\n",
              "      <td>6.75</td>\n",
              "      <td>13085.0</td>\n",
              "      <td>United Kingdom</td>\n",
              "    </tr>\n",
              "    <tr>\n",
              "      <th>2</th>\n",
              "      <td>489434</td>\n",
              "      <td>79323W</td>\n",
              "      <td>WHITE CHERRY LIGHTS</td>\n",
              "      <td>12</td>\n",
              "      <td>2009-12-01 07:45:00</td>\n",
              "      <td>6.75</td>\n",
              "      <td>13085.0</td>\n",
              "      <td>United Kingdom</td>\n",
              "    </tr>\n",
              "    <tr>\n",
              "      <th>3</th>\n",
              "      <td>489434</td>\n",
              "      <td>22041</td>\n",
              "      <td>RECORD FRAME 7\" SINGLE SIZE</td>\n",
              "      <td>48</td>\n",
              "      <td>2009-12-01 07:45:00</td>\n",
              "      <td>2.10</td>\n",
              "      <td>13085.0</td>\n",
              "      <td>United Kingdom</td>\n",
              "    </tr>\n",
              "    <tr>\n",
              "      <th>4</th>\n",
              "      <td>489434</td>\n",
              "      <td>21232</td>\n",
              "      <td>STRAWBERRY CERAMIC TRINKET BOX</td>\n",
              "      <td>24</td>\n",
              "      <td>2009-12-01 07:45:00</td>\n",
              "      <td>1.25</td>\n",
              "      <td>13085.0</td>\n",
              "      <td>United Kingdom</td>\n",
              "    </tr>\n",
              "  </tbody>\n",
              "</table>\n",
              "</div>"
            ],
            "text/plain": [
              "  Invoice StockCode  ... Customer ID         Country\n",
              "0  489434     85048  ...     13085.0  United Kingdom\n",
              "1  489434    79323P  ...     13085.0  United Kingdom\n",
              "2  489434    79323W  ...     13085.0  United Kingdom\n",
              "3  489434     22041  ...     13085.0  United Kingdom\n",
              "4  489434     21232  ...     13085.0  United Kingdom\n",
              "\n",
              "[5 rows x 8 columns]"
            ]
          },
          "metadata": {},
          "execution_count": 159
        }
      ]
    },
    {
      "cell_type": "code",
      "metadata": {
        "colab": {
          "base_uri": "https://localhost:8080/",
          "height": 405
        },
        "id": "paFhGrk0JU26",
        "outputId": "2bb4081b-3579-48dd-8491-7095af7f795c"
      },
      "source": [
        "df.plot(y = 'InvoiceDate', x = 'Price', figsize = (12,6))"
      ],
      "execution_count": 160,
      "outputs": [
        {
          "output_type": "execute_result",
          "data": {
            "text/plain": [
              "<matplotlib.axes._subplots.AxesSubplot at 0x7f7a5e73f610>"
            ]
          },
          "metadata": {},
          "execution_count": 160
        },
        {
          "output_type": "display_data",
          "data": {
            "image/png": "[encoded data removed]",
            "text/plain": [
              "<Figure size 864x432 with 1 Axes>"
            ]
          },
          "metadata": {
            "needs_background": "light"
          }
        }
      ]
    },
    {
      "cell_type": "markdown",
      "metadata": {
        "id": "IFGWvAmamUZt"
      },
      "source": [
        "* Yes, according to the graph above, we can see seasonality in data based on Date"
      ]
    },
    {
      "cell_type": "markdown",
      "metadata": {
        "id": "6BcpN_qzInrY"
      },
      "source": [
        "Conclusion\n",
        "* Higher value of prices during the year end.\n",
        "* During the year end the two main events like Christmas and New Year are observed. \n"
      ]
    },
    {
      "cell_type": "markdown",
      "metadata": {
        "id": "l-SSfDPZKMWS"
      },
      "source": [
        "### 2.7 Description"
      ]
    },
    {
      "cell_type": "code",
      "metadata": {
        "id": "0ZEnxNPQNu5X"
      },
      "source": [
        "desc_dict = df.Description.value_counts()"
      ],
      "execution_count": 163,
      "outputs": []
    },
    {
      "cell_type": "code",
      "metadata": {
        "colab": {
          "base_uri": "https://localhost:8080/"
        },
        "id": "IPynMqsrOeO7",
        "outputId": "79573099-67ac-4969-f728-7d506e03031b"
      },
      "source": [
        "desc_dict[0:20]"
      ],
      "execution_count": 164,
      "outputs": [
        {
          "output_type": "execute_result",
          "data": {
            "text/plain": [
              "WHITE HANGING HEART T-LIGHT HOLDER    3107\n",
              "REGENCY CAKESTAND 3 TIER              1696\n",
              "STRAWBERRY CERAMIC TRINKET BOX        1372\n",
              "ASSORTED COLOUR BIRD ORNAMENT         1355\n",
              "HOME BUILDING BLOCK WORD              1192\n",
              "PACK OF 72 RETRO SPOT CAKE CASES      1183\n",
              "60 TEATIME FAIRY CAKE CASES           1169\n",
              "REX CASH+CARRY JUMBO SHOPPER          1099\n",
              "JUMBO BAG RED RETROSPOT               1075\n",
              "LUNCH BAG RED SPOTTY                  1069\n",
              "HEART OF WICKER LARGE                 1027\n",
              "WOODEN FRAME ANTIQUE WHITE            1021\n",
              "RED HANGING HEART T-LIGHT HOLDER      1013\n",
              "LUNCH BAG  BLACK SKULL.                996\n",
              "JUMBO STORAGE BAG SUKI                 974\n",
              "LUNCH BAG SUKI  DESIGN                 970\n",
              "LOVE BUILDING BLOCK WORD               965\n",
              "PACK OF 60 PINK PAISLEY CAKE CASES     946\n",
              "JUMBO SHOPPER VINTAGE RED PAISLEY      930\n",
              "LUNCH BAG SPACEBOY DESIGN              920\n",
              "Name: Description, dtype: int64"
            ]
          },
          "metadata": {},
          "execution_count": 164
        }
      ]
    },
    {
      "cell_type": "markdown",
      "metadata": {
        "id": "pes_MxKzoa_u"
      },
      "source": [
        "* top 20 items that were sold.\n"
      ]
    },
    {
      "cell_type": "code",
      "metadata": {
        "id": "VFw1jrvu8Y0E"
      },
      "source": [
        "    "
      ],
      "execution_count": 164,
      "outputs": []
    },
    {
      "cell_type": "markdown",
      "metadata": {
        "id": "-dLrNtuGo8Fd"
      },
      "source": [
        "## Segmenting the customers"
      ]
    },
    {
      "cell_type": "markdown",
      "metadata": {
        "id": "xilzcJHmqlbM"
      },
      "source": [
        "To segmenting customer, there are some metrics that we can use, known as RFM\n",
        "* Recency(R) -  when did the customer buy the product for last time\n",
        "* Frequency(F) - how frequent the customer buy the product\n",
        "* Monetary(M) - how much the customer pays for the product"
      ]
    },
    {
      "cell_type": "code",
      "metadata": {
        "id": "6QW9sexpo_D-"
      },
      "source": [
        "df_seg = pd.DataFrame()"
      ],
      "execution_count": 165,
      "outputs": []
    },
    {
      "cell_type": "code",
      "metadata": {
        "id": "ssfjxUbQrLFw"
      },
      "source": [
        "df_seg['InvoiceDate'] = df['InvoiceDate'].dt.date\n",
        "df_seg['TotalSum'] = df['Quantity'] * df['Price']"
      ],
      "execution_count": 166,
      "outputs": []
    },
    {
      "cell_type": "code",
      "metadata": {
        "id": "rUyVs_EoyG1H"
      },
      "source": [
        "df_seg['Customer ID'] = df['Customer ID']"
      ],
      "execution_count": 167,
      "outputs": []
    },
    {
      "cell_type": "code",
      "metadata": {
        "id": "068XbpiUywzU"
      },
      "source": [
        "df_seg['Invoice'] = df['Invoice']"
      ],
      "execution_count": 168,
      "outputs": []
    },
    {
      "cell_type": "code",
      "metadata": {
        "colab": {
          "base_uri": "https://localhost:8080/",
          "height": 203
        },
        "id": "KtF8nbRIrhYH",
        "outputId": "65b98201-575e-4a93-a83a-c40c22a294a5"
      },
      "source": [
        "df_seg.head()"
      ],
      "execution_count": 169,
      "outputs": [
        {
          "output_type": "execute_result",
          "data": {
            "text/html": [
              "<div>\n",
              "<style scoped>\n",
              "    .dataframe tbody tr th:only-of-type {\n",
              "        vertical-align: middle;\n",
              "    }\n",
              "\n",
              "    .dataframe tbody tr th {\n",
              "        vertical-align: top;\n",
              "    }\n",
              "\n",
              "    .dataframe thead th {\n",
              "        text-align: right;\n",
              "    }\n",
              "</style>\n",
              "<table border=\"1\" class=\"dataframe\">\n",
              "  <thead>\n",
              "    <tr style=\"text-align: right;\">\n",
              "      <th></th>\n",
              "      <th>InvoiceDate</th>\n",
              "      <th>TotalSum</th>\n",
              "      <th>Customer ID</th>\n",
              "      <th>Invoice</th>\n",
              "    </tr>\n",
              "  </thead>\n",
              "  <tbody>\n",
              "    <tr>\n",
              "      <th>0</th>\n",
              "      <td>2009-12-01</td>\n",
              "      <td>83.4</td>\n",
              "      <td>13085.0</td>\n",
              "      <td>489434</td>\n",
              "    </tr>\n",
              "    <tr>\n",
              "      <th>1</th>\n",
              "      <td>2009-12-01</td>\n",
              "      <td>81.0</td>\n",
              "      <td>13085.0</td>\n",
              "      <td>489434</td>\n",
              "    </tr>\n",
              "    <tr>\n",
              "      <th>2</th>\n",
              "      <td>2009-12-01</td>\n",
              "      <td>81.0</td>\n",
              "      <td>13085.0</td>\n",
              "      <td>489434</td>\n",
              "    </tr>\n",
              "    <tr>\n",
              "      <th>3</th>\n",
              "      <td>2009-12-01</td>\n",
              "      <td>100.8</td>\n",
              "      <td>13085.0</td>\n",
              "      <td>489434</td>\n",
              "    </tr>\n",
              "    <tr>\n",
              "      <th>4</th>\n",
              "      <td>2009-12-01</td>\n",
              "      <td>30.0</td>\n",
              "      <td>13085.0</td>\n",
              "      <td>489434</td>\n",
              "    </tr>\n",
              "  </tbody>\n",
              "</table>\n",
              "</div>"
            ],
            "text/plain": [
              "  InvoiceDate  TotalSum  Customer ID Invoice\n",
              "0  2009-12-01      83.4      13085.0  489434\n",
              "1  2009-12-01      81.0      13085.0  489434\n",
              "2  2009-12-01      81.0      13085.0  489434\n",
              "3  2009-12-01     100.8      13085.0  489434\n",
              "4  2009-12-01      30.0      13085.0  489434"
            ]
          },
          "metadata": {},
          "execution_count": 169
        }
      ]
    },
    {
      "cell_type": "code",
      "metadata": {
        "id": "FqKVLX3FrjCH"
      },
      "source": [
        "import datetime\n",
        "reference_date = max(df_seg.InvoiceDate) + datetime.timedelta(days=1)"
      ],
      "execution_count": 170,
      "outputs": []
    },
    {
      "cell_type": "code",
      "metadata": {
        "colab": {
          "base_uri": "https://localhost:8080/"
        },
        "id": "fHVnl941roYA",
        "outputId": "047708c9-3afd-4ebc-ddbb-fa9a6b4d163f"
      },
      "source": [
        "reference_date"
      ],
      "execution_count": 171,
      "outputs": [
        {
          "output_type": "execute_result",
          "data": {
            "text/plain": [
              "datetime.date(2010, 12, 10)"
            ]
          },
          "metadata": {},
          "execution_count": 171
        }
      ]
    },
    {
      "cell_type": "code",
      "metadata": {
        "colab": {
          "base_uri": "https://localhost:8080/"
        },
        "id": "j3PN2n1_rvDf",
        "outputId": "d1d372a8-cede-4fac-caee-81430ef8670f"
      },
      "source": [
        "max(df_seg.InvoiceDate)"
      ],
      "execution_count": 173,
      "outputs": [
        {
          "output_type": "execute_result",
          "data": {
            "text/plain": [
              "datetime.date(2010, 12, 9)"
            ]
          },
          "metadata": {},
          "execution_count": 173
        }
      ]
    },
    {
      "cell_type": "code",
      "metadata": {
        "id": "ej6leplB12jd"
      },
      "source": [
        "#df[df['Customer ID'] == 12346]['Quantity']"
      ],
      "execution_count": 174,
      "outputs": []
    },
    {
      "cell_type": "code",
      "metadata": {
        "id": "2UYE1TOwwlq6"
      },
      "source": [
        "customers = df_seg.groupby(['Customer ID']).agg({\n",
        "    'InvoiceDate': lambda x: (reference_date - x.max()).days,\n",
        "    'Invoice': 'count',\n",
        "    'TotalSum': 'sum'})"
      ],
      "execution_count": 175,
      "outputs": []
    },
    {
      "cell_type": "code",
      "metadata": {
        "colab": {
          "base_uri": "https://localhost:8080/",
          "height": 234
        },
        "id": "NTNlSr5wzJNK",
        "outputId": "664f2a34-0499-45f3-c094-e73e2aa0722b"
      },
      "source": [
        "customers.head()"
      ],
      "execution_count": 176,
      "outputs": [
        {
          "output_type": "execute_result",
          "data": {
            "text/html": [
              "<div>\n",
              "<style scoped>\n",
              "    .dataframe tbody tr th:only-of-type {\n",
              "        vertical-align: middle;\n",
              "    }\n",
              "\n",
              "    .dataframe tbody tr th {\n",
              "        vertical-align: top;\n",
              "    }\n",
              "\n",
              "    .dataframe thead th {\n",
              "        text-align: right;\n",
              "    }\n",
              "</style>\n",
              "<table border=\"1\" class=\"dataframe\">\n",
              "  <thead>\n",
              "    <tr style=\"text-align: right;\">\n",
              "      <th></th>\n",
              "      <th>InvoiceDate</th>\n",
              "      <th>Invoice</th>\n",
              "      <th>TotalSum</th>\n",
              "    </tr>\n",
              "    <tr>\n",
              "      <th>Customer ID</th>\n",
              "      <th></th>\n",
              "      <th></th>\n",
              "      <th></th>\n",
              "    </tr>\n",
              "  </thead>\n",
              "  <tbody>\n",
              "    <tr>\n",
              "      <th>12346.0</th>\n",
              "      <td>165</td>\n",
              "      <td>33</td>\n",
              "      <td>372.86</td>\n",
              "    </tr>\n",
              "    <tr>\n",
              "      <th>12347.0</th>\n",
              "      <td>3</td>\n",
              "      <td>71</td>\n",
              "      <td>1323.32</td>\n",
              "    </tr>\n",
              "    <tr>\n",
              "      <th>12348.0</th>\n",
              "      <td>74</td>\n",
              "      <td>20</td>\n",
              "      <td>222.16</td>\n",
              "    </tr>\n",
              "    <tr>\n",
              "      <th>12349.0</th>\n",
              "      <td>43</td>\n",
              "      <td>102</td>\n",
              "      <td>2671.14</td>\n",
              "    </tr>\n",
              "    <tr>\n",
              "      <th>12351.0</th>\n",
              "      <td>11</td>\n",
              "      <td>21</td>\n",
              "      <td>300.93</td>\n",
              "    </tr>\n",
              "  </tbody>\n",
              "</table>\n",
              "</div>"
            ],
            "text/plain": [
              "             InvoiceDate  Invoice  TotalSum\n",
              "Customer ID                                \n",
              "12346.0              165       33    372.86\n",
              "12347.0                3       71   1323.32\n",
              "12348.0               74       20    222.16\n",
              "12349.0               43      102   2671.14\n",
              "12351.0               11       21    300.93"
            ]
          },
          "metadata": {},
          "execution_count": 176
        }
      ]
    },
    {
      "cell_type": "code",
      "metadata": {
        "id": "_2DFRF3XzM0h"
      },
      "source": [
        "customers.rename(columns = {'InvoiceDate': 'Recency',\n",
        "                            'Invoice': 'Frequency',\n",
        "                            'TotalSum': 'MonetaryValue'}, inplace=True)"
      ],
      "execution_count": 181,
      "outputs": []
    },
    {
      "cell_type": "code",
      "metadata": {
        "colab": {
          "base_uri": "https://localhost:8080/",
          "height": 234
        },
        "id": "SSA6gp1OzUJs",
        "outputId": "62a8f372-acd7-4393-fa4b-f8fcedc61096"
      },
      "source": [
        "customers.head()"
      ],
      "execution_count": 182,
      "outputs": [
        {
          "output_type": "execute_result",
          "data": {
            "text/html": [
              "<div>\n",
              "<style scoped>\n",
              "    .dataframe tbody tr th:only-of-type {\n",
              "        vertical-align: middle;\n",
              "    }\n",
              "\n",
              "    .dataframe tbody tr th {\n",
              "        vertical-align: top;\n",
              "    }\n",
              "\n",
              "    .dataframe thead th {\n",
              "        text-align: right;\n",
              "    }\n",
              "</style>\n",
              "<table border=\"1\" class=\"dataframe\">\n",
              "  <thead>\n",
              "    <tr style=\"text-align: right;\">\n",
              "      <th></th>\n",
              "      <th>Recency</th>\n",
              "      <th>Frequency</th>\n",
              "      <th>MonetaryValue</th>\n",
              "    </tr>\n",
              "    <tr>\n",
              "      <th>Customer ID</th>\n",
              "      <th></th>\n",
              "      <th></th>\n",
              "      <th></th>\n",
              "    </tr>\n",
              "  </thead>\n",
              "  <tbody>\n",
              "    <tr>\n",
              "      <th>12346.0</th>\n",
              "      <td>165</td>\n",
              "      <td>33</td>\n",
              "      <td>372.86</td>\n",
              "    </tr>\n",
              "    <tr>\n",
              "      <th>12347.0</th>\n",
              "      <td>3</td>\n",
              "      <td>71</td>\n",
              "      <td>1323.32</td>\n",
              "    </tr>\n",
              "    <tr>\n",
              "      <th>12348.0</th>\n",
              "      <td>74</td>\n",
              "      <td>20</td>\n",
              "      <td>222.16</td>\n",
              "    </tr>\n",
              "    <tr>\n",
              "      <th>12349.0</th>\n",
              "      <td>43</td>\n",
              "      <td>102</td>\n",
              "      <td>2671.14</td>\n",
              "    </tr>\n",
              "    <tr>\n",
              "      <th>12351.0</th>\n",
              "      <td>11</td>\n",
              "      <td>21</td>\n",
              "      <td>300.93</td>\n",
              "    </tr>\n",
              "  </tbody>\n",
              "</table>\n",
              "</div>"
            ],
            "text/plain": [
              "             Recency  Frequency  MonetaryValue\n",
              "Customer ID                                   \n",
              "12346.0          165         33         372.86\n",
              "12347.0            3         71        1323.32\n",
              "12348.0           74         20         222.16\n",
              "12349.0           43        102        2671.14\n",
              "12351.0           11         21         300.93"
            ]
          },
          "metadata": {},
          "execution_count": 182
        }
      ]
    },
    {
      "cell_type": "code",
      "metadata": {
        "colab": {
          "base_uri": "https://localhost:8080/"
        },
        "id": "9M4N0D06zYAI",
        "outputId": "b9358cbf-eda1-4758-e287-63c9c7806aaa"
      },
      "source": [
        "customers.shape"
      ],
      "execution_count": 179,
      "outputs": [
        {
          "output_type": "execute_result",
          "data": {
            "text/plain": [
              "(4314, 3)"
            ]
          },
          "metadata": {},
          "execution_count": 179
        }
      ]
    },
    {
      "cell_type": "markdown",
      "metadata": {
        "id": "tASyJuszExXO"
      },
      "source": [
        "#### Recency vs Frequency "
      ]
    },
    {
      "cell_type": "code",
      "metadata": {
        "colab": {
          "base_uri": "https://localhost:8080/",
          "height": 279
        },
        "id": "xLvFD0CPB62s",
        "outputId": "ab6250f4-8b67-4a92-a4f6-3043934b2f75"
      },
      "source": [
        "customers.plot(kind='scatter', x='Recency', y='Frequency') \n",
        "plt.show()"
      ],
      "execution_count": 184,
      "outputs": [
        {
          "output_type": "display_data",
          "data": {
            "image/png": "[encoded data removed]",
            "text/plain": [
              "<Figure size 432x288 with 1 Axes>"
            ]
          },
          "metadata": {
            "needs_background": "light"
          }
        }
      ]
    },
    {
      "cell_type": "markdown",
      "metadata": {
        "id": "aEBItaadFPQk"
      },
      "source": [
        "* Customers purchase more when their recency is less."
      ]
    },
    {
      "cell_type": "markdown",
      "metadata": {
        "id": "XQJOn-UXFqYg"
      },
      "source": [
        "#### MonetaryValue vs Frequency"
      ]
    },
    {
      "cell_type": "code",
      "metadata": {
        "colab": {
          "base_uri": "https://localhost:8080/",
          "height": 279
        },
        "id": "oGKkvtawB65E",
        "outputId": "db378c30-059a-4bb2-c6c7-0dc3d2533eb2"
      },
      "source": [
        "customers.plot(kind='scatter', x='MonetaryValue', y='Frequency') \n",
        "plt.show()"
      ],
      "execution_count": 185,
      "outputs": [
        {
          "output_type": "display_data",
          "data": {
            "image/png": "[encoded data removed]",
            "text/plain": [
              "<Figure size 432x288 with 1 Axes>"
            ]
          },
          "metadata": {
            "needs_background": "light"
          }
        }
      ]
    },
    {
      "cell_type": "markdown",
      "metadata": {
        "id": "v_6nObtpFiUZ"
      },
      "source": [
        "* Customers who buy frequently spend less amount of money. "
      ]
    },
    {
      "cell_type": "markdown",
      "metadata": {
        "id": "YqLKb7IvFuRY"
      },
      "source": [
        "**How will we segment customers?**\n"
      ]
    },
    {
      "cell_type": "markdown",
      "metadata": {
        "id": "kL-_yK8AG4KY"
      },
      "source": [
        "* We can bucket the customers based on the above 3 Factors(RFM).\n",
        "For example, put all the customers whose Recency is less than 60 days in 1 bucket. Similarly, customers whose Recency is greater than 60 days and less than 120 days in another bucket. We will apply the same concept for Frequency and Monetary also.\n",
        "\n",
        "* The ideal customers for e-commerce companies are generally the most recent ones compared to the date of study(our reference date) who are very frequent and who spend enough.\n",
        "\n",
        "* Based on the RFM Values, a score is assigned to each customer between 1 and 3.\n",
        "* 3 is the best score and 1 is the worst score."
      ]
    },
    {
      "cell_type": "code",
      "metadata": {
        "colab": {
          "base_uri": "https://localhost:8080/",
          "height": 295
        },
        "id": "eGjjUuYfB68c",
        "outputId": "591ba7c5-f1ba-4776-a136-21ad77c0e28e"
      },
      "source": [
        "customers.describe()"
      ],
      "execution_count": 187,
      "outputs": [
        {
          "output_type": "execute_result",
          "data": {
            "text/html": [
              "<div>\n",
              "<style scoped>\n",
              "    .dataframe tbody tr th:only-of-type {\n",
              "        vertical-align: middle;\n",
              "    }\n",
              "\n",
              "    .dataframe tbody tr th {\n",
              "        vertical-align: top;\n",
              "    }\n",
              "\n",
              "    .dataframe thead th {\n",
              "        text-align: right;\n",
              "    }\n",
              "</style>\n",
              "<table border=\"1\" class=\"dataframe\">\n",
              "  <thead>\n",
              "    <tr style=\"text-align: right;\">\n",
              "      <th></th>\n",
              "      <th>Recency</th>\n",
              "      <th>Frequency</th>\n",
              "      <th>MonetaryValue</th>\n",
              "    </tr>\n",
              "  </thead>\n",
              "  <tbody>\n",
              "    <tr>\n",
              "      <th>count</th>\n",
              "      <td>4314.000000</td>\n",
              "      <td>4314.000000</td>\n",
              "      <td>4314.000000</td>\n",
              "    </tr>\n",
              "    <tr>\n",
              "      <th>mean</th>\n",
              "      <td>91.269819</td>\n",
              "      <td>92.940890</td>\n",
              "      <td>2039.460766</td>\n",
              "    </tr>\n",
              "    <tr>\n",
              "      <th>std</th>\n",
              "      <td>96.944304</td>\n",
              "      <td>198.883579</td>\n",
              "      <td>8909.797773</td>\n",
              "    </tr>\n",
              "    <tr>\n",
              "      <th>min</th>\n",
              "      <td>1.000000</td>\n",
              "      <td>1.000000</td>\n",
              "      <td>0.000000</td>\n",
              "    </tr>\n",
              "    <tr>\n",
              "      <th>25%</th>\n",
              "      <td>18.000000</td>\n",
              "      <td>18.000000</td>\n",
              "      <td>307.105000</td>\n",
              "    </tr>\n",
              "    <tr>\n",
              "      <th>50%</th>\n",
              "      <td>53.000000</td>\n",
              "      <td>43.000000</td>\n",
              "      <td>700.405000</td>\n",
              "    </tr>\n",
              "    <tr>\n",
              "      <th>75%</th>\n",
              "      <td>136.000000</td>\n",
              "      <td>100.000000</td>\n",
              "      <td>1713.297500</td>\n",
              "    </tr>\n",
              "    <tr>\n",
              "      <th>max</th>\n",
              "      <td>374.000000</td>\n",
              "      <td>5568.000000</td>\n",
              "      <td>349164.350000</td>\n",
              "    </tr>\n",
              "  </tbody>\n",
              "</table>\n",
              "</div>"
            ],
            "text/plain": [
              "           Recency    Frequency  MonetaryValue\n",
              "count  4314.000000  4314.000000    4314.000000\n",
              "mean     91.269819    92.940890    2039.460766\n",
              "std      96.944304   198.883579    8909.797773\n",
              "min       1.000000     1.000000       0.000000\n",
              "25%      18.000000    18.000000     307.105000\n",
              "50%      53.000000    43.000000     700.405000\n",
              "75%     136.000000   100.000000    1713.297500\n",
              "max     374.000000  5568.000000  349164.350000"
            ]
          },
          "metadata": {},
          "execution_count": 187
        }
      ]
    },
    {
      "cell_type": "code",
      "metadata": {
        "colab": {
          "base_uri": "https://localhost:8080/"
        },
        "id": "5sMFPyqiHemT",
        "outputId": "de4c4430-3895-4981-d3a0-85040a4200cd"
      },
      "source": [
        "print(374/3)\n",
        "print(5568/3)\n",
        "print(349164/3)"
      ],
      "execution_count": 188,
      "outputs": [
        {
          "output_type": "stream",
          "name": "stdout",
          "text": [
            "124.66666666666667\n",
            "1856.0\n",
            "116388.0\n"
          ]
        }
      ]
    },
    {
      "cell_type": "code",
      "metadata": {
        "id": "d6h6dV9FHvOQ"
      },
      "source": [
        "def R_Score(x):\n",
        "  if (x['Recency'] < 60):\n",
        "    recency = 1\n",
        "  elif (x['Recency'] >= 60 and x['Recency'] <=120):\n",
        "    recency = 2\n",
        "  else:\n",
        "    recency = 1\n",
        "  return recency\n",
        "\n",
        "customers['R'] = customers.apply(R_Score,axis=1)"
      ],
      "execution_count": 189,
      "outputs": []
    },
    {
      "cell_type": "code",
      "metadata": {
        "id": "_Apntk93IXmN"
      },
      "source": [
        "def F_Score(x):\n",
        "  if (x['Frequency'] <= 1856):\n",
        "    frequency = 3\n",
        "  elif (x['Frequency'] > 1856 and x['Frequency'] <= 3712):\n",
        "    frequency = 2\n",
        "  else:\n",
        "    frequency = 1\n",
        "  return frequency\n",
        "\n",
        "customers['F'] = customers.apply(F_Score,axis=1)"
      ],
      "execution_count": 192,
      "outputs": []
    },
    {
      "cell_type": "code",
      "metadata": {
        "id": "K6ZJGdm4IZVH"
      },
      "source": [
        "def M_Score(x):\n",
        "  if (x['MonetaryValue'] <= 116388):\n",
        "    mv = 1\n",
        "  elif (x['MonetaryValue'] > 116388 and x['MonetaryValue'] <= 232776):\n",
        "    mv = 2\n",
        "  else:\n",
        "    mv = 3\n",
        "  return mv\n",
        "\n",
        "customers['M'] = customers.apply(M_Score,axis=1)"
      ],
      "execution_count": 194,
      "outputs": []
    },
    {
      "cell_type": "code",
      "metadata": {
        "colab": {
          "base_uri": "https://localhost:8080/",
          "height": 234
        },
        "id": "uUOWvnMyJPMu",
        "outputId": "d5167bdb-f380-431b-8fc2-ed0d29d28839"
      },
      "source": [
        "customers.head()"
      ],
      "execution_count": 195,
      "outputs": [
        {
          "output_type": "execute_result",
          "data": {
            "text/html": [
              "<div>\n",
              "<style scoped>\n",
              "    .dataframe tbody tr th:only-of-type {\n",
              "        vertical-align: middle;\n",
              "    }\n",
              "\n",
              "    .dataframe tbody tr th {\n",
              "        vertical-align: top;\n",
              "    }\n",
              "\n",
              "    .dataframe thead th {\n",
              "        text-align: right;\n",
              "    }\n",
              "</style>\n",
              "<table border=\"1\" class=\"dataframe\">\n",
              "  <thead>\n",
              "    <tr style=\"text-align: right;\">\n",
              "      <th></th>\n",
              "      <th>Recency</th>\n",
              "      <th>Frequency</th>\n",
              "      <th>MonetaryValue</th>\n",
              "      <th>R</th>\n",
              "      <th>F</th>\n",
              "      <th>M</th>\n",
              "    </tr>\n",
              "    <tr>\n",
              "      <th>Customer ID</th>\n",
              "      <th></th>\n",
              "      <th></th>\n",
              "      <th></th>\n",
              "      <th></th>\n",
              "      <th></th>\n",
              "      <th></th>\n",
              "    </tr>\n",
              "  </thead>\n",
              "  <tbody>\n",
              "    <tr>\n",
              "      <th>12346.0</th>\n",
              "      <td>165</td>\n",
              "      <td>33</td>\n",
              "      <td>372.86</td>\n",
              "      <td>1</td>\n",
              "      <td>3</td>\n",
              "      <td>1</td>\n",
              "    </tr>\n",
              "    <tr>\n",
              "      <th>12347.0</th>\n",
              "      <td>3</td>\n",
              "      <td>71</td>\n",
              "      <td>1323.32</td>\n",
              "      <td>1</td>\n",
              "      <td>3</td>\n",
              "      <td>1</td>\n",
              "    </tr>\n",
              "    <tr>\n",
              "      <th>12348.0</th>\n",
              "      <td>74</td>\n",
              "      <td>20</td>\n",
              "      <td>222.16</td>\n",
              "      <td>2</td>\n",
              "      <td>3</td>\n",
              "      <td>1</td>\n",
              "    </tr>\n",
              "    <tr>\n",
              "      <th>12349.0</th>\n",
              "      <td>43</td>\n",
              "      <td>102</td>\n",
              "      <td>2671.14</td>\n",
              "      <td>1</td>\n",
              "      <td>3</td>\n",
              "      <td>1</td>\n",
              "    </tr>\n",
              "    <tr>\n",
              "      <th>12351.0</th>\n",
              "      <td>11</td>\n",
              "      <td>21</td>\n",
              "      <td>300.93</td>\n",
              "      <td>1</td>\n",
              "      <td>3</td>\n",
              "      <td>1</td>\n",
              "    </tr>\n",
              "  </tbody>\n",
              "</table>\n",
              "</div>"
            ],
            "text/plain": [
              "             Recency  Frequency  MonetaryValue  R  F  M\n",
              "Customer ID                                            \n",
              "12346.0          165         33         372.86  1  3  1\n",
              "12347.0            3         71        1323.32  1  3  1\n",
              "12348.0           74         20         222.16  2  3  1\n",
              "12349.0           43        102        2671.14  1  3  1\n",
              "12351.0           11         21         300.93  1  3  1"
            ]
          },
          "metadata": {},
          "execution_count": 195
        }
      ]
    },
    {
      "cell_type": "code",
      "metadata": {
        "id": "19_1GmSAJ3Cx"
      },
      "source": [
        "def RFM_Score(x):\n",
        "  return (str(x['R']) + str(x['F']) + str(x['M']))\n",
        "customers['RFM_Score'] = customers.apply(RFM_Score,axis=1)"
      ],
      "execution_count": 198,
      "outputs": []
    },
    {
      "cell_type": "code",
      "metadata": {
        "colab": {
          "base_uri": "https://localhost:8080/",
          "height": 234
        },
        "id": "Xy-p3V_CKCZz",
        "outputId": "2e1c6bcb-2b67-4bf9-854d-45946f70316e"
      },
      "source": [
        "customers.head()"
      ],
      "execution_count": 199,
      "outputs": [
        {
          "output_type": "execute_result",
          "data": {
            "text/html": [
              "<div>\n",
              "<style scoped>\n",
              "    .dataframe tbody tr th:only-of-type {\n",
              "        vertical-align: middle;\n",
              "    }\n",
              "\n",
              "    .dataframe tbody tr th {\n",
              "        vertical-align: top;\n",
              "    }\n",
              "\n",
              "    .dataframe thead th {\n",
              "        text-align: right;\n",
              "    }\n",
              "</style>\n",
              "<table border=\"1\" class=\"dataframe\">\n",
              "  <thead>\n",
              "    <tr style=\"text-align: right;\">\n",
              "      <th></th>\n",
              "      <th>Recency</th>\n",
              "      <th>Frequency</th>\n",
              "      <th>MonetaryValue</th>\n",
              "      <th>R</th>\n",
              "      <th>F</th>\n",
              "      <th>M</th>\n",
              "      <th>RFM_Score</th>\n",
              "    </tr>\n",
              "    <tr>\n",
              "      <th>Customer ID</th>\n",
              "      <th></th>\n",
              "      <th></th>\n",
              "      <th></th>\n",
              "      <th></th>\n",
              "      <th></th>\n",
              "      <th></th>\n",
              "      <th></th>\n",
              "    </tr>\n",
              "  </thead>\n",
              "  <tbody>\n",
              "    <tr>\n",
              "      <th>12346.0</th>\n",
              "      <td>165</td>\n",
              "      <td>33</td>\n",
              "      <td>372.86</td>\n",
              "      <td>1</td>\n",
              "      <td>3</td>\n",
              "      <td>1</td>\n",
              "      <td>131</td>\n",
              "    </tr>\n",
              "    <tr>\n",
              "      <th>12347.0</th>\n",
              "      <td>3</td>\n",
              "      <td>71</td>\n",
              "      <td>1323.32</td>\n",
              "      <td>1</td>\n",
              "      <td>3</td>\n",
              "      <td>1</td>\n",
              "      <td>131</td>\n",
              "    </tr>\n",
              "    <tr>\n",
              "      <th>12348.0</th>\n",
              "      <td>74</td>\n",
              "      <td>20</td>\n",
              "      <td>222.16</td>\n",
              "      <td>2</td>\n",
              "      <td>3</td>\n",
              "      <td>1</td>\n",
              "      <td>231</td>\n",
              "    </tr>\n",
              "    <tr>\n",
              "      <th>12349.0</th>\n",
              "      <td>43</td>\n",
              "      <td>102</td>\n",
              "      <td>2671.14</td>\n",
              "      <td>1</td>\n",
              "      <td>3</td>\n",
              "      <td>1</td>\n",
              "      <td>131</td>\n",
              "    </tr>\n",
              "    <tr>\n",
              "      <th>12351.0</th>\n",
              "      <td>11</td>\n",
              "      <td>21</td>\n",
              "      <td>300.93</td>\n",
              "      <td>1</td>\n",
              "      <td>3</td>\n",
              "      <td>1</td>\n",
              "      <td>131</td>\n",
              "    </tr>\n",
              "  </tbody>\n",
              "</table>\n",
              "</div>"
            ],
            "text/plain": [
              "             Recency  Frequency  MonetaryValue  R  F  M RFM_Score\n",
              "Customer ID                                                      \n",
              "12346.0          165         33         372.86  1  3  1       131\n",
              "12347.0            3         71        1323.32  1  3  1       131\n",
              "12348.0           74         20         222.16  2  3  1       231\n",
              "12349.0           43        102        2671.14  1  3  1       131\n",
              "12351.0           11         21         300.93  1  3  1       131"
            ]
          },
          "metadata": {},
          "execution_count": 199
        }
      ]
    },
    {
      "cell_type": "code",
      "metadata": {
        "id": "rF9sbqvALneA"
      },
      "source": [
        "customers.reset_index(inplace = True)"
      ],
      "execution_count": 204,
      "outputs": []
    },
    {
      "cell_type": "code",
      "metadata": {
        "colab": {
          "base_uri": "https://localhost:8080/",
          "height": 203
        },
        "id": "Z0PAQRcbLrlt",
        "outputId": "16526608-67c2-4530-b1d3-3dda12af3f8e"
      },
      "source": [
        "customers.head()"
      ],
      "execution_count": 205,
      "outputs": [
        {
          "output_type": "execute_result",
          "data": {
            "text/html": [
              "<div>\n",
              "<style scoped>\n",
              "    .dataframe tbody tr th:only-of-type {\n",
              "        vertical-align: middle;\n",
              "    }\n",
              "\n",
              "    .dataframe tbody tr th {\n",
              "        vertical-align: top;\n",
              "    }\n",
              "\n",
              "    .dataframe thead th {\n",
              "        text-align: right;\n",
              "    }\n",
              "</style>\n",
              "<table border=\"1\" class=\"dataframe\">\n",
              "  <thead>\n",
              "    <tr style=\"text-align: right;\">\n",
              "      <th></th>\n",
              "      <th>Customer ID</th>\n",
              "      <th>Recency</th>\n",
              "      <th>Frequency</th>\n",
              "      <th>MonetaryValue</th>\n",
              "      <th>R</th>\n",
              "      <th>F</th>\n",
              "      <th>M</th>\n",
              "      <th>RFM_Score</th>\n",
              "    </tr>\n",
              "  </thead>\n",
              "  <tbody>\n",
              "    <tr>\n",
              "      <th>0</th>\n",
              "      <td>12346.0</td>\n",
              "      <td>165</td>\n",
              "      <td>33</td>\n",
              "      <td>372.86</td>\n",
              "      <td>1</td>\n",
              "      <td>3</td>\n",
              "      <td>1</td>\n",
              "      <td>131</td>\n",
              "    </tr>\n",
              "    <tr>\n",
              "      <th>1</th>\n",
              "      <td>12347.0</td>\n",
              "      <td>3</td>\n",
              "      <td>71</td>\n",
              "      <td>1323.32</td>\n",
              "      <td>1</td>\n",
              "      <td>3</td>\n",
              "      <td>1</td>\n",
              "      <td>131</td>\n",
              "    </tr>\n",
              "    <tr>\n",
              "      <th>2</th>\n",
              "      <td>12348.0</td>\n",
              "      <td>74</td>\n",
              "      <td>20</td>\n",
              "      <td>222.16</td>\n",
              "      <td>2</td>\n",
              "      <td>3</td>\n",
              "      <td>1</td>\n",
              "      <td>231</td>\n",
              "    </tr>\n",
              "    <tr>\n",
              "      <th>3</th>\n",
              "      <td>12349.0</td>\n",
              "      <td>43</td>\n",
              "      <td>102</td>\n",
              "      <td>2671.14</td>\n",
              "      <td>1</td>\n",
              "      <td>3</td>\n",
              "      <td>1</td>\n",
              "      <td>131</td>\n",
              "    </tr>\n",
              "    <tr>\n",
              "      <th>4</th>\n",
              "      <td>12351.0</td>\n",
              "      <td>11</td>\n",
              "      <td>21</td>\n",
              "      <td>300.93</td>\n",
              "      <td>1</td>\n",
              "      <td>3</td>\n",
              "      <td>1</td>\n",
              "      <td>131</td>\n",
              "    </tr>\n",
              "  </tbody>\n",
              "</table>\n",
              "</div>"
            ],
            "text/plain": [
              "   Customer ID  Recency  Frequency  MonetaryValue  R  F  M RFM_Score\n",
              "0      12346.0      165         33         372.86  1  3  1       131\n",
              "1      12347.0        3         71        1323.32  1  3  1       131\n",
              "2      12348.0       74         20         222.16  2  3  1       231\n",
              "3      12349.0       43        102        2671.14  1  3  1       131\n",
              "4      12351.0       11         21         300.93  1  3  1       131"
            ]
          },
          "metadata": {},
          "execution_count": 205
        }
      ]
    },
    {
      "cell_type": "markdown",
      "metadata": {
        "id": "im-qNP2MKOHb"
      },
      "source": [
        ""
      ]
    },
    {
      "cell_type": "code",
      "metadata": {
        "id": "2g0B0qBCKELM"
      },
      "source": [
        "segment = [0] * len(customers)\n",
        "\n",
        "for i in range(0,len(customers)):\n",
        "  if customers['RFM_Score'][i]=='111':\n",
        "    segment[i]='Lost Cheap Customers'\n",
        "  elif customers['RFM_Score'][i]=='133':\n",
        "    segment[i]='Lost Customers'\n",
        "  elif customers['RFM_Score'][i]=='233':\n",
        "    segment[i]='Almost Lost Customers'\n",
        "  elif customers['RFM_Score'][i]=='333':\n",
        "    segment[i]='Best Customers'\n",
        "  elif(customers['RFM_Score'][i] == '121' or customers['RFM_Score'][i] == '131'):\n",
        "    segment[i] = 'Loyal Customers'\n",
        "  elif(customers['RFM_Score'][i] == '123'  or customers['RFM_Score'][i] == '223' or customers['RFM_Score'][i] == '323' or customers['RFM_Score'][i] == '113' or customers['RFM_Score'][i] == '213' or customers['RFM_Score'][i] == '313'):\n",
        "    segment[i] = 'Big Spenders'  \n",
        "  else:\n",
        "    segment[i] = 'Others'\n"
      ],
      "execution_count": 225,
      "outputs": []
    },
    {
      "cell_type": "code",
      "metadata": {
        "colab": {
          "base_uri": "https://localhost:8080/",
          "height": 203
        },
        "id": "jRWU8dTSLbvZ",
        "outputId": "2fd67a4b-9a69-4b7f-effe-15efb5bc4dd0"
      },
      "source": [
        "customers['Segment'] = segment\n",
        "customers.head()"
      ],
      "execution_count": 227,
      "outputs": [
        {
          "output_type": "execute_result",
          "data": {
            "text/html": [
              "<div>\n",
              "<style scoped>\n",
              "    .dataframe tbody tr th:only-of-type {\n",
              "        vertical-align: middle;\n",
              "    }\n",
              "\n",
              "    .dataframe tbody tr th {\n",
              "        vertical-align: top;\n",
              "    }\n",
              "\n",
              "    .dataframe thead th {\n",
              "        text-align: right;\n",
              "    }\n",
              "</style>\n",
              "<table border=\"1\" class=\"dataframe\">\n",
              "  <thead>\n",
              "    <tr style=\"text-align: right;\">\n",
              "      <th></th>\n",
              "      <th>Customer ID</th>\n",
              "      <th>Recency</th>\n",
              "      <th>Frequency</th>\n",
              "      <th>MonetaryValue</th>\n",
              "      <th>R</th>\n",
              "      <th>F</th>\n",
              "      <th>M</th>\n",
              "      <th>RFM_Score</th>\n",
              "      <th>Segment</th>\n",
              "    </tr>\n",
              "  </thead>\n",
              "  <tbody>\n",
              "    <tr>\n",
              "      <th>0</th>\n",
              "      <td>12346.0</td>\n",
              "      <td>165</td>\n",
              "      <td>33</td>\n",
              "      <td>372.86</td>\n",
              "      <td>1</td>\n",
              "      <td>3</td>\n",
              "      <td>1</td>\n",
              "      <td>131</td>\n",
              "      <td>Loyal Customers</td>\n",
              "    </tr>\n",
              "    <tr>\n",
              "      <th>1</th>\n",
              "      <td>12347.0</td>\n",
              "      <td>3</td>\n",
              "      <td>71</td>\n",
              "      <td>1323.32</td>\n",
              "      <td>1</td>\n",
              "      <td>3</td>\n",
              "      <td>1</td>\n",
              "      <td>131</td>\n",
              "      <td>Loyal Customers</td>\n",
              "    </tr>\n",
              "    <tr>\n",
              "      <th>2</th>\n",
              "      <td>12348.0</td>\n",
              "      <td>74</td>\n",
              "      <td>20</td>\n",
              "      <td>222.16</td>\n",
              "      <td>2</td>\n",
              "      <td>3</td>\n",
              "      <td>1</td>\n",
              "      <td>231</td>\n",
              "      <td>Others</td>\n",
              "    </tr>\n",
              "    <tr>\n",
              "      <th>3</th>\n",
              "      <td>12349.0</td>\n",
              "      <td>43</td>\n",
              "      <td>102</td>\n",
              "      <td>2671.14</td>\n",
              "      <td>1</td>\n",
              "      <td>3</td>\n",
              "      <td>1</td>\n",
              "      <td>131</td>\n",
              "      <td>Loyal Customers</td>\n",
              "    </tr>\n",
              "    <tr>\n",
              "      <th>4</th>\n",
              "      <td>12351.0</td>\n",
              "      <td>11</td>\n",
              "      <td>21</td>\n",
              "      <td>300.93</td>\n",
              "      <td>1</td>\n",
              "      <td>3</td>\n",
              "      <td>1</td>\n",
              "      <td>131</td>\n",
              "      <td>Loyal Customers</td>\n",
              "    </tr>\n",
              "  </tbody>\n",
              "</table>\n",
              "</div>"
            ],
            "text/plain": [
              "   Customer ID  Recency  Frequency  ...  M  RFM_Score          Segment\n",
              "0      12346.0      165         33  ...  1        131  Loyal Customers\n",
              "1      12347.0        3         71  ...  1        131  Loyal Customers\n",
              "2      12348.0       74         20  ...  1        231           Others\n",
              "3      12349.0       43        102  ...  1        131  Loyal Customers\n",
              "4      12351.0       11         21  ...  1        131  Loyal Customers\n",
              "\n",
              "[5 rows x 9 columns]"
            ]
          },
          "metadata": {},
          "execution_count": 227
        }
      ]
    },
    {
      "cell_type": "code",
      "metadata": {
        "id": "FIayzc89L7yQ"
      },
      "source": [
        ""
      ],
      "execution_count": 214,
      "outputs": []
    },
    {
      "cell_type": "code",
      "metadata": {
        "id": "yU2FRAMZL-j-"
      },
      "source": [
        ""
      ],
      "execution_count": null,
      "outputs": []
    }
  ]
}