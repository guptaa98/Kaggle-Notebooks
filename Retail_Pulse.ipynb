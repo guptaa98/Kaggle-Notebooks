{
  "nbformat": 4,
  "nbformat_minor": 0,
  "metadata": {
    "colab": {
      "name": "Retail_Pulse.ipynb",
      "provenance": [],
      "collapsed_sections": [],
      "authorship_tag": "ABX9TyNL6ZCXU8K9kcf3rsMiqX1H",
      "include_colab_link": true
    },
    "kernelspec": {
      "name": "python3",
      "display_name": "Python 3"
    },
    "language_info": {
      "name": "python"
    }
  },
  "cells": [
    {
      "cell_type": "markdown",
      "metadata": {
        "id": "view-in-github",
        "colab_type": "text"
      },
      "source": [
        "<a href=\"https://colab.research.google.com/github/guptaa98/Kaggle-Notebooks/blob/master/Retail_Pulse.ipynb\" target=\"_parent\"><img src=\"https://colab.research.google.com/assets/colab-badge.svg\" alt=\"Open In Colab\"/></a>"
      ]
    },
    {
      "cell_type": "code",
      "metadata": {
        "colab": {
          "base_uri": "https://localhost:8080/"
        },
        "id": "59DynLnOCO5n",
        "outputId": "20c30a14-2757-4dc8-ae74-99ddc2e1c405"
      },
      "source": [
        "from google.colab import drive, files\n",
        "drive.mount('/content/drive/')"
      ],
      "execution_count": 1,
      "outputs": [
        {
          "output_type": "stream",
          "name": "stdout",
          "text": [
            "Drive already mounted at /content/drive/; to attempt to forcibly remount, call drive.mount(\"/content/drive/\", force_remount=True).\n"
          ]
        }
      ]
    },
    {
      "cell_type": "code",
      "metadata": {
        "id": "Me7-R7dQCqQW"
      },
      "source": [
        "import pandas as pd\n",
        "import numpy as np\n",
        "import matplotlib.pyplot as plt\n",
        "import seaborn as sns\n",
        "import warnings\n",
        "warnings.filterwarnings(\"ignore\")"
      ],
      "execution_count": 2,
      "outputs": []
    },
    {
      "cell_type": "code",
      "metadata": {
        "id": "k84Cy1HEC1V9"
      },
      "source": [
        "df = pd.read_excel('/content/drive/MyDrive/RetailPulseAssignmentData.xlsx')"
      ],
      "execution_count": 13,
      "outputs": []
    },
    {
      "cell_type": "markdown",
      "metadata": {
        "id": "eAUWpnMlPwUO"
      },
      "source": [
        "# 1. Reading the data"
      ]
    },
    {
      "cell_type": "code",
      "metadata": {
        "colab": {
          "base_uri": "https://localhost:8080/",
          "height": 203
        },
        "id": "fugK3TubC2QB",
        "outputId": "cde2f641-91dc-4d98-b6f1-54b5a51006c4"
      },
      "source": [
        "df.head()"
      ],
      "execution_count": 14,
      "outputs": [
        {
          "output_type": "execute_result",
          "data": {
            "text/html": [
              "<div>\n",
              "<style scoped>\n",
              "    .dataframe tbody tr th:only-of-type {\n",
              "        vertical-align: middle;\n",
              "    }\n",
              "\n",
              "    .dataframe tbody tr th {\n",
              "        vertical-align: top;\n",
              "    }\n",
              "\n",
              "    .dataframe thead th {\n",
              "        text-align: right;\n",
              "    }\n",
              "</style>\n",
              "<table border=\"1\" class=\"dataframe\">\n",
              "  <thead>\n",
              "    <tr style=\"text-align: right;\">\n",
              "      <th></th>\n",
              "      <th>Invoice</th>\n",
              "      <th>StockCode</th>\n",
              "      <th>Description</th>\n",
              "      <th>Quantity</th>\n",
              "      <th>InvoiceDate</th>\n",
              "      <th>Price</th>\n",
              "      <th>Customer ID</th>\n",
              "      <th>Country</th>\n",
              "    </tr>\n",
              "  </thead>\n",
              "  <tbody>\n",
              "    <tr>\n",
              "      <th>0</th>\n",
              "      <td>489434</td>\n",
              "      <td>85048</td>\n",
              "      <td>15CM CHRISTMAS GLASS BALL 20 LIGHTS</td>\n",
              "      <td>12</td>\n",
              "      <td>2009-12-01 07:45:00</td>\n",
              "      <td>6.95</td>\n",
              "      <td>13085.0</td>\n",
              "      <td>United Kingdom</td>\n",
              "    </tr>\n",
              "    <tr>\n",
              "      <th>1</th>\n",
              "      <td>489434</td>\n",
              "      <td>79323P</td>\n",
              "      <td>PINK CHERRY LIGHTS</td>\n",
              "      <td>12</td>\n",
              "      <td>2009-12-01 07:45:00</td>\n",
              "      <td>6.75</td>\n",
              "      <td>13085.0</td>\n",
              "      <td>United Kingdom</td>\n",
              "    </tr>\n",
              "    <tr>\n",
              "      <th>2</th>\n",
              "      <td>489434</td>\n",
              "      <td>79323W</td>\n",
              "      <td>WHITE CHERRY LIGHTS</td>\n",
              "      <td>12</td>\n",
              "      <td>2009-12-01 07:45:00</td>\n",
              "      <td>6.75</td>\n",
              "      <td>13085.0</td>\n",
              "      <td>United Kingdom</td>\n",
              "    </tr>\n",
              "    <tr>\n",
              "      <th>3</th>\n",
              "      <td>489434</td>\n",
              "      <td>22041</td>\n",
              "      <td>RECORD FRAME 7\" SINGLE SIZE</td>\n",
              "      <td>48</td>\n",
              "      <td>2009-12-01 07:45:00</td>\n",
              "      <td>2.10</td>\n",
              "      <td>13085.0</td>\n",
              "      <td>United Kingdom</td>\n",
              "    </tr>\n",
              "    <tr>\n",
              "      <th>4</th>\n",
              "      <td>489434</td>\n",
              "      <td>21232</td>\n",
              "      <td>STRAWBERRY CERAMIC TRINKET BOX</td>\n",
              "      <td>24</td>\n",
              "      <td>2009-12-01 07:45:00</td>\n",
              "      <td>1.25</td>\n",
              "      <td>13085.0</td>\n",
              "      <td>United Kingdom</td>\n",
              "    </tr>\n",
              "  </tbody>\n",
              "</table>\n",
              "</div>"
            ],
            "text/plain": [
              "  Invoice StockCode  ... Customer ID         Country\n",
              "0  489434     85048  ...     13085.0  United Kingdom\n",
              "1  489434    79323P  ...     13085.0  United Kingdom\n",
              "2  489434    79323W  ...     13085.0  United Kingdom\n",
              "3  489434     22041  ...     13085.0  United Kingdom\n",
              "4  489434     21232  ...     13085.0  United Kingdom\n",
              "\n",
              "[5 rows x 8 columns]"
            ]
          },
          "metadata": {},
          "execution_count": 14
        }
      ]
    },
    {
      "cell_type": "markdown",
      "metadata": {
        "id": "VsAFIi_sPz3L"
      },
      "source": [
        "## 1.1 Reading basic stats of data"
      ]
    },
    {
      "cell_type": "code",
      "metadata": {
        "colab": {
          "base_uri": "https://localhost:8080/"
        },
        "id": "2KnyK_luC2XS",
        "outputId": "102b1c70-11bc-475c-a378-0a6994b48ffb"
      },
      "source": [
        "df.shape"
      ],
      "execution_count": 15,
      "outputs": [
        {
          "output_type": "execute_result",
          "data": {
            "text/plain": [
              "(525461, 8)"
            ]
          },
          "metadata": {},
          "execution_count": 15
        }
      ]
    },
    {
      "cell_type": "code",
      "metadata": {
        "colab": {
          "base_uri": "https://localhost:8080/"
        },
        "id": "uJG_ZeymC2hq",
        "outputId": "b65cd28a-f581-4875-a8df-173d1278070e"
      },
      "source": [
        "df.info()"
      ],
      "execution_count": 16,
      "outputs": [
        {
          "output_type": "stream",
          "name": "stdout",
          "text": [
            "<class 'pandas.core.frame.DataFrame'>\n",
            "RangeIndex: 525461 entries, 0 to 525460\n",
            "Data columns (total 8 columns):\n",
            " #   Column       Non-Null Count   Dtype         \n",
            "---  ------       --------------   -----         \n",
            " 0   Invoice      525461 non-null  object        \n",
            " 1   StockCode    525461 non-null  object        \n",
            " 2   Description  522533 non-null  object        \n",
            " 3   Quantity     525461 non-null  int64         \n",
            " 4   InvoiceDate  525461 non-null  datetime64[ns]\n",
            " 5   Price        525461 non-null  float64       \n",
            " 6   Customer ID  417534 non-null  float64       \n",
            " 7   Country      525461 non-null  object        \n",
            "dtypes: datetime64[ns](1), float64(2), int64(1), object(4)\n",
            "memory usage: 32.1+ MB\n"
          ]
        }
      ]
    },
    {
      "cell_type": "code",
      "metadata": {
        "colab": {
          "base_uri": "https://localhost:8080/"
        },
        "id": "YLL7If7FDmwM",
        "outputId": "bf3bcd79-e0d3-4938-b999-b2aec4e821f7"
      },
      "source": [
        "df.columns"
      ],
      "execution_count": 17,
      "outputs": [
        {
          "output_type": "execute_result",
          "data": {
            "text/plain": [
              "Index(['Invoice', 'StockCode', 'Description', 'Quantity', 'InvoiceDate',\n",
              "       'Price', 'Customer ID', 'Country'],\n",
              "      dtype='object')"
            ]
          },
          "metadata": {},
          "execution_count": 17
        }
      ]
    },
    {
      "cell_type": "code",
      "metadata": {
        "colab": {
          "base_uri": "https://localhost:8080/",
          "height": 295
        },
        "id": "jtHaZsoNRFDG",
        "outputId": "aea224ab-da6b-4249-ae44-bcf09ccff7c6"
      },
      "source": [
        "df.describe()"
      ],
      "execution_count": 18,
      "outputs": [
        {
          "output_type": "execute_result",
          "data": {
            "text/html": [
              "<div>\n",
              "<style scoped>\n",
              "    .dataframe tbody tr th:only-of-type {\n",
              "        vertical-align: middle;\n",
              "    }\n",
              "\n",
              "    .dataframe tbody tr th {\n",
              "        vertical-align: top;\n",
              "    }\n",
              "\n",
              "    .dataframe thead th {\n",
              "        text-align: right;\n",
              "    }\n",
              "</style>\n",
              "<table border=\"1\" class=\"dataframe\">\n",
              "  <thead>\n",
              "    <tr style=\"text-align: right;\">\n",
              "      <th></th>\n",
              "      <th>Quantity</th>\n",
              "      <th>Price</th>\n",
              "      <th>Customer ID</th>\n",
              "    </tr>\n",
              "  </thead>\n",
              "  <tbody>\n",
              "    <tr>\n",
              "      <th>count</th>\n",
              "      <td>525461.000000</td>\n",
              "      <td>525461.000000</td>\n",
              "      <td>417534.000000</td>\n",
              "    </tr>\n",
              "    <tr>\n",
              "      <th>mean</th>\n",
              "      <td>10.337667</td>\n",
              "      <td>4.688834</td>\n",
              "      <td>15360.645478</td>\n",
              "    </tr>\n",
              "    <tr>\n",
              "      <th>std</th>\n",
              "      <td>107.424110</td>\n",
              "      <td>146.126914</td>\n",
              "      <td>1680.811316</td>\n",
              "    </tr>\n",
              "    <tr>\n",
              "      <th>min</th>\n",
              "      <td>-9600.000000</td>\n",
              "      <td>-53594.360000</td>\n",
              "      <td>12346.000000</td>\n",
              "    </tr>\n",
              "    <tr>\n",
              "      <th>25%</th>\n",
              "      <td>1.000000</td>\n",
              "      <td>1.250000</td>\n",
              "      <td>13983.000000</td>\n",
              "    </tr>\n",
              "    <tr>\n",
              "      <th>50%</th>\n",
              "      <td>3.000000</td>\n",
              "      <td>2.100000</td>\n",
              "      <td>15311.000000</td>\n",
              "    </tr>\n",
              "    <tr>\n",
              "      <th>75%</th>\n",
              "      <td>10.000000</td>\n",
              "      <td>4.210000</td>\n",
              "      <td>16799.000000</td>\n",
              "    </tr>\n",
              "    <tr>\n",
              "      <th>max</th>\n",
              "      <td>19152.000000</td>\n",
              "      <td>25111.090000</td>\n",
              "      <td>18287.000000</td>\n",
              "    </tr>\n",
              "  </tbody>\n",
              "</table>\n",
              "</div>"
            ],
            "text/plain": [
              "            Quantity          Price    Customer ID\n",
              "count  525461.000000  525461.000000  417534.000000\n",
              "mean       10.337667       4.688834   15360.645478\n",
              "std       107.424110     146.126914    1680.811316\n",
              "min     -9600.000000  -53594.360000   12346.000000\n",
              "25%         1.000000       1.250000   13983.000000\n",
              "50%         3.000000       2.100000   15311.000000\n",
              "75%        10.000000       4.210000   16799.000000\n",
              "max     19152.000000   25111.090000   18287.000000"
            ]
          },
          "metadata": {},
          "execution_count": 18
        }
      ]
    },
    {
      "cell_type": "markdown",
      "metadata": {
        "id": "I8UEyRURRNRS"
      },
      "source": [
        "* We can see that Quantity and Price have negative values which is not possible in real life. \n",
        "* There is a possibility that these two features contains outliers."
      ]
    },
    {
      "cell_type": "markdown",
      "metadata": {
        "id": "V0eE6ShrQ3Ou"
      },
      "source": [
        "## 1.3 Checking for missing values"
      ]
    },
    {
      "cell_type": "code",
      "metadata": {
        "colab": {
          "base_uri": "https://localhost:8080/",
          "height": 420
        },
        "id": "SFI6YrTWC2cq",
        "outputId": "2b45da95-7890-4ecf-9008-069a02486461"
      },
      "source": [
        "import missingno\n",
        "missingno.matrix(df, figsize=(10,5))"
      ],
      "execution_count": 9,
      "outputs": [
        {
          "output_type": "execute_result",
          "data": {
            "text/plain": [
              "<matplotlib.axes._subplots.AxesSubplot at 0x7ff07b116650>"
            ]
          },
          "metadata": {},
          "execution_count": 9
        },
        {
          "output_type": "display_data",
          "data": {
            "image/png": "[encoded data removed]",
            "text/plain": [
              "<Figure size 720x360 with 2 Axes>"
            ]
          },
          "metadata": {
            "needs_background": "light"
          }
        }
      ]
    },
    {
      "cell_type": "markdown",
      "metadata": {
        "id": "rP4u4ni5Q8wG"
      },
      "source": [
        "* We can see that Customer Id feature contains a lot of missing values.\n",
        "* We'll remove those records as there is no way we could replace them because they are unique to every customer."
      ]
    },
    {
      "cell_type": "code",
      "metadata": {
        "colab": {
          "base_uri": "https://localhost:8080/"
        },
        "id": "YQ_iOtOd7xL7",
        "outputId": "dd0c182d-6b1e-4ec4-8b3f-12a0b9e17314"
      },
      "source": [
        "df['Customer ID'].isnull().sum()"
      ],
      "execution_count": 19,
      "outputs": [
        {
          "output_type": "execute_result",
          "data": {
            "text/plain": [
              "107927"
            ]
          },
          "metadata": {},
          "execution_count": 19
        }
      ]
    },
    {
      "cell_type": "code",
      "metadata": {
        "id": "hmlH6_6LHl7e"
      },
      "source": [
        "df.dropna(inplace = True)"
      ],
      "execution_count": 20,
      "outputs": []
    },
    {
      "cell_type": "code",
      "metadata": {
        "colab": {
          "base_uri": "https://localhost:8080/"
        },
        "id": "aNwwEL2HHqxV",
        "outputId": "0b0e2440-95fc-4f81-86fe-157caaef2002"
      },
      "source": [
        "df.shape"
      ],
      "execution_count": 21,
      "outputs": [
        {
          "output_type": "execute_result",
          "data": {
            "text/plain": [
              "(417534, 8)"
            ]
          },
          "metadata": {},
          "execution_count": 21
        }
      ]
    },
    {
      "cell_type": "markdown",
      "metadata": {
        "id": "MTW4iGBeUXPX"
      },
      "source": [
        "## 1.4 Check for duplicate records in dataframe"
      ]
    },
    {
      "cell_type": "code",
      "metadata": {
        "colab": {
          "base_uri": "https://localhost:8080/"
        },
        "id": "0i567ezNVFJC",
        "outputId": "e03efefc-b161-42ca-e9fb-be2a4eac329d"
      },
      "source": [
        "df.duplicated().sum()"
      ],
      "execution_count": 22,
      "outputs": [
        {
          "output_type": "execute_result",
          "data": {
            "text/plain": [
              "6771"
            ]
          },
          "metadata": {},
          "execution_count": 22
        }
      ]
    },
    {
      "cell_type": "markdown",
      "metadata": {
        "id": "QQ4NkeGIUcZu"
      },
      "source": [
        "* 6771 duplicate records \n",
        "* drop the duplicate records"
      ]
    },
    {
      "cell_type": "code",
      "metadata": {
        "colab": {
          "base_uri": "https://localhost:8080/"
        },
        "id": "Ew_Pd0RyUpml",
        "outputId": "91f57fb5-06e3-42fa-80fe-e393ad3a591d"
      },
      "source": [
        "print(df[df.duplicated()].head())"
      ],
      "execution_count": 23,
      "outputs": [
        {
          "output_type": "stream",
          "name": "stdout",
          "text": [
            "    Invoice StockCode  ... Customer ID         Country\n",
            "371  489517     21912  ...     16329.0  United Kingdom\n",
            "383  489517     22130  ...     16329.0  United Kingdom\n",
            "384  489517     22319  ...     16329.0  United Kingdom\n",
            "385  489517     21913  ...     16329.0  United Kingdom\n",
            "386  489517     21821  ...     16329.0  United Kingdom\n",
            "\n",
            "[5 rows x 8 columns]\n"
          ]
        }
      ]
    },
    {
      "cell_type": "code",
      "metadata": {
        "colab": {
          "base_uri": "https://localhost:8080/"
        },
        "id": "wSt1Oaov-diI",
        "outputId": "e8fe1e4c-3484-4ee0-9286-5c6f1c0bc820"
      },
      "source": [
        "df.shape"
      ],
      "execution_count": 24,
      "outputs": [
        {
          "output_type": "execute_result",
          "data": {
            "text/plain": [
              "(417534, 8)"
            ]
          },
          "metadata": {},
          "execution_count": 24
        }
      ]
    },
    {
      "cell_type": "code",
      "metadata": {
        "id": "-Yqv1E6fU6VQ"
      },
      "source": [
        "df.drop_duplicates(inplace = True)"
      ],
      "execution_count": 25,
      "outputs": []
    },
    {
      "cell_type": "code",
      "metadata": {
        "colab": {
          "base_uri": "https://localhost:8080/"
        },
        "id": "vp4K7Hv0-fIS",
        "outputId": "286b53b8-93f7-4436-ab34-d5d1de504601"
      },
      "source": [
        "df.shape"
      ],
      "execution_count": 26,
      "outputs": [
        {
          "output_type": "execute_result",
          "data": {
            "text/plain": [
              "(410763, 8)"
            ]
          },
          "metadata": {},
          "execution_count": 26
        }
      ]
    },
    {
      "cell_type": "code",
      "metadata": {
        "colab": {
          "base_uri": "https://localhost:8080/"
        },
        "id": "BDUxGousVThO",
        "outputId": "9a532e15-3a2a-4f20-8b92-9b962e436b69"
      },
      "source": [
        "df.duplicated().sum()"
      ],
      "execution_count": 27,
      "outputs": [
        {
          "output_type": "execute_result",
          "data": {
            "text/plain": [
              "0"
            ]
          },
          "metadata": {},
          "execution_count": 27
        }
      ]
    },
    {
      "cell_type": "markdown",
      "metadata": {
        "id": "ywsjzN2DVV8S"
      },
      "source": [
        "# 2. Univariate Analysis of every feature"
      ]
    },
    {
      "cell_type": "markdown",
      "metadata": {
        "id": "YmklM7gRY18L"
      },
      "source": [
        "### 2.1 Invoice "
      ]
    },
    {
      "cell_type": "code",
      "metadata": {
        "colab": {
          "base_uri": "https://localhost:8080/"
        },
        "id": "L5qXv3hHDtqp",
        "outputId": "5a4d1128-9ca7-4e9b-8037-e5c7a13b22c6"
      },
      "source": [
        "df.Invoice.value_counts()"
      ],
      "execution_count": 28,
      "outputs": [
        {
          "output_type": "execute_result",
          "data": {
            "text/plain": [
              "500356     251\n",
              "507235     250\n",
              "511522     240\n",
              "526089     240\n",
              "511051     236\n",
              "          ... \n",
              "494888       1\n",
              "C515778      1\n",
              "494809       1\n",
              "494805       1\n",
              "C498598      1\n",
              "Name: Invoice, Length: 23587, dtype: int64"
            ]
          },
          "metadata": {},
          "execution_count": 28
        }
      ]
    },
    {
      "cell_type": "markdown",
      "metadata": {
        "id": "QV48orQk1mEN"
      },
      "source": [
        "* If Invoice Code starts from 'C' then it refers to cancellation of that order.\n",
        "* We'll count such orders and store their index in indices."
      ]
    },
    {
      "cell_type": "code",
      "metadata": {
        "id": "aiYrtGnr1lUh"
      },
      "source": [
        "noc = 0\n",
        "indices = []\n",
        "for index, row in df.iterrows():\n",
        "  invoice = row['Invoice']\n",
        "  invoice = str(invoice)\n",
        "  if (invoice[0] == 'C'):\n",
        "    noc += 1\n",
        "    indices.append(index)\n"
      ],
      "execution_count": 29,
      "outputs": []
    },
    {
      "cell_type": "code",
      "metadata": {
        "colab": {
          "base_uri": "https://localhost:8080/"
        },
        "id": "qugTnRix-62-",
        "outputId": "f4f6e503-8017-4f9a-e797-8bd852126267"
      },
      "source": [
        "indices[0:10]"
      ],
      "execution_count": 30,
      "outputs": [
        {
          "output_type": "execute_result",
          "data": {
            "text/plain": [
              "[178, 179, 180, 181, 182, 183, 184, 185, 186, 196]"
            ]
          },
          "metadata": {},
          "execution_count": 30
        }
      ]
    },
    {
      "cell_type": "code",
      "metadata": {
        "colab": {
          "base_uri": "https://localhost:8080/"
        },
        "id": "TW3AKO9v-CBS",
        "outputId": "99468dc8-6a71-4723-99e8-6327634d7020"
      },
      "source": [
        "print(noc)"
      ],
      "execution_count": 31,
      "outputs": [
        {
          "output_type": "stream",
          "name": "stdout",
          "text": [
            "9816\n"
          ]
        }
      ]
    },
    {
      "cell_type": "markdown",
      "metadata": {
        "id": "GntwGWGw2iEk"
      },
      "source": [
        "* There are total 9816 orders cancelled. "
      ]
    },
    {
      "cell_type": "code",
      "metadata": {
        "id": "js71kAm7-DYx"
      },
      "source": [
        "df.drop(indices,inplace = True,axis = 0)"
      ],
      "execution_count": 32,
      "outputs": []
    },
    {
      "cell_type": "markdown",
      "metadata": {
        "id": "96GmAUH32imo"
      },
      "source": [
        "* We've removed such records."
      ]
    },
    {
      "cell_type": "code",
      "metadata": {
        "colab": {
          "base_uri": "https://localhost:8080/"
        },
        "id": "ZXxWzOhL2hM4",
        "outputId": "ad360109-feb2-467d-d47f-025db9ad5354"
      },
      "source": [
        "df.shape"
      ],
      "execution_count": 33,
      "outputs": [
        {
          "output_type": "execute_result",
          "data": {
            "text/plain": [
              "(400947, 8)"
            ]
          },
          "metadata": {},
          "execution_count": 33
        }
      ]
    },
    {
      "cell_type": "markdown",
      "metadata": {
        "id": "wEA1dqnD8Thp"
      },
      "source": [
        "### 2.2 Quantity"
      ]
    },
    {
      "cell_type": "markdown",
      "metadata": {
        "id": "9dVmPsB4I1W9"
      },
      "source": [
        "* We'll cross check if there is any quantity which has a negative value and then we'll remove them as well."
      ]
    },
    {
      "cell_type": "code",
      "metadata": {
        "colab": {
          "base_uri": "https://localhost:8080/"
        },
        "id": "LZpsBRTh8sWi",
        "outputId": "ef74f1af-1756-4510-cbb5-989c81af8bf0"
      },
      "source": [
        "df['Quantity'].describe()"
      ],
      "execution_count": 35,
      "outputs": [
        {
          "output_type": "execute_result",
          "data": {
            "text/plain": [
              "count    400947.000000\n",
              "mean         13.768523\n",
              "std          97.639816\n",
              "min           1.000000\n",
              "25%           2.000000\n",
              "50%           5.000000\n",
              "75%          12.000000\n",
              "max       19152.000000\n",
              "Name: Quantity, dtype: float64"
            ]
          },
          "metadata": {},
          "execution_count": 35
        }
      ]
    },
    {
      "cell_type": "code",
      "metadata": {
        "colab": {
          "base_uri": "https://localhost:8080/"
        },
        "id": "cRMQKEzm8saK",
        "outputId": "34252b3c-743e-4619-b4f5-fc1274f3f298"
      },
      "source": [
        "len(df[df['Quantity'] < 0 ])"
      ],
      "execution_count": 36,
      "outputs": [
        {
          "output_type": "execute_result",
          "data": {
            "text/plain": [
              "0"
            ]
          },
          "metadata": {},
          "execution_count": 36
        }
      ]
    },
    {
      "cell_type": "markdown",
      "metadata": {
        "id": "QZZey-lu8-Jp"
      },
      "source": [
        "* We can see that there are no items whose quantities are negative.\n",
        "* Hence all our cancellations have been removed. "
      ]
    },
    {
      "cell_type": "markdown",
      "metadata": {
        "id": "r1Ju5FT1baR9"
      },
      "source": [
        "### 2.3 StockCode"
      ]
    },
    {
      "cell_type": "code",
      "metadata": {
        "colab": {
          "base_uri": "https://localhost:8080/"
        },
        "id": "5T-l4o9PDwnB",
        "outputId": "b4a00bce-3beb-44c8-fbc5-168e2f781048"
      },
      "source": [
        "df.StockCode.value_counts()"
      ],
      "execution_count": 37,
      "outputs": [
        {
          "output_type": "execute_result",
          "data": {
            "text/plain": [
              "85123A    3107\n",
              "85099B    1730\n",
              "22423     1696\n",
              "21212     1553\n",
              "21232     1372\n",
              "          ... \n",
              "46138D       1\n",
              "35950        1\n",
              "35945        1\n",
              "35930        1\n",
              "35974        1\n",
              "Name: StockCode, Length: 4017, dtype: int64"
            ]
          },
          "metadata": {},
          "execution_count": 37
        }
      ]
    },
    {
      "cell_type": "markdown",
      "metadata": {
        "id": "-fFseQRBy_ih"
      },
      "source": [
        "### 2.4 Price"
      ]
    },
    {
      "cell_type": "code",
      "metadata": {
        "colab": {
          "base_uri": "https://localhost:8080/"
        },
        "id": "FZMdengJ_8x-",
        "outputId": "17db0c19-6176-4346-fa17-b985b5673678"
      },
      "source": [
        "len(df[df['Price'] < 0 ])"
      ],
      "execution_count": 38,
      "outputs": [
        {
          "output_type": "execute_result",
          "data": {
            "text/plain": [
              "0"
            ]
          },
          "metadata": {},
          "execution_count": 38
        }
      ]
    },
    {
      "cell_type": "markdown",
      "metadata": {
        "id": "prVgtNQMJXwM"
      },
      "source": [
        "No value of Price for the item is negative."
      ]
    },
    {
      "cell_type": "markdown",
      "metadata": {
        "id": "Hwc_bGlkWa27"
      },
      "source": [
        "* Check for the minimum and maximum value for price of item"
      ]
    },
    {
      "cell_type": "code",
      "metadata": {
        "colab": {
          "base_uri": "https://localhost:8080/"
        },
        "id": "M5u5mvqvzDOZ",
        "outputId": "dd31b07c-a749-4714-b353-e1065faf32a1"
      },
      "source": [
        "print(df['Price'].min())\n",
        "print(df['Price'].max())"
      ],
      "execution_count": 40,
      "outputs": [
        {
          "output_type": "stream",
          "name": "stdout",
          "text": [
            "0.0\n",
            "10953.5\n"
          ]
        }
      ]
    },
    {
      "cell_type": "markdown",
      "metadata": {
        "id": "-0ikreuQbgr-"
      },
      "source": [
        "### 2.4 Country"
      ]
    },
    {
      "cell_type": "code",
      "metadata": {
        "colab": {
          "base_uri": "https://localhost:8080/"
        },
        "id": "pdIYZRRaEKLu",
        "outputId": "0383484f-6945-41ce-f060-327ee008a392"
      },
      "source": [
        "df.Country.value_counts()"
      ],
      "execution_count": 42,
      "outputs": [
        {
          "output_type": "execute_result",
          "data": {
            "text/plain": [
              "United Kingdom          364255\n",
              "EIRE                      8503\n",
              "Germany                   7652\n",
              "France                    5452\n",
              "Netherlands               2729\n",
              "Spain                     1228\n",
              "Switzerland               1170\n",
              "Belgium                   1037\n",
              "Portugal                   983\n",
              "Sweden                     867\n",
              "Channel Islands            821\n",
              "Italy                      708\n",
              "Australia                  630\n",
              "Cyprus                     533\n",
              "Austria                    524\n",
              "Greece                     512\n",
              "Denmark                    418\n",
              "Norway                     365\n",
              "Finland                    347\n",
              "United Arab Emirates       315\n",
              "Unspecified                277\n",
              "USA                        230\n",
              "Poland                     182\n",
              "Malta                      170\n",
              "Japan                      164\n",
              "Lithuania                  154\n",
              "Singapore                  117\n",
              "Canada                      77\n",
              "Thailand                    76\n",
              "Israel                      74\n",
              "Iceland                     71\n",
              "RSA                         65\n",
              "Brazil                      62\n",
              "West Indies                 54\n",
              "Korea                       53\n",
              "Bahrain                     42\n",
              "Nigeria                     30\n",
              "Name: Country, dtype: int64"
            ]
          },
          "metadata": {},
          "execution_count": 42
        }
      ]
    },
    {
      "cell_type": "code",
      "metadata": {
        "colab": {
          "base_uri": "https://localhost:8080/",
          "height": 606
        },
        "id": "FaEiLxX2cBzH",
        "outputId": "06cb4aa9-8906-4937-b74a-6723366618d0"
      },
      "source": [
        "fig = plt.figure(figsize=(20,10))\n",
        "sns.countplot(y='Country',data = df);\n"
      ],
      "execution_count": 43,
      "outputs": [
        {
          "output_type": "display_data",
          "data": {
            "image/png": "[encoded data removed]",
            "text/plain": [
              "<Figure size 1440x720 with 1 Axes>"
            ]
          },
          "metadata": {
            "needs_background": "light"
          }
        }
      ]
    },
    {
      "cell_type": "markdown",
      "metadata": {
        "id": "DPtAzyqzJuu0"
      },
      "source": [
        "* Most of the transactions we've are from UK."
      ]
    },
    {
      "cell_type": "markdown",
      "metadata": {
        "id": "DUpsuJPOexrJ"
      },
      "source": [
        "### 2.5 Customer ID"
      ]
    },
    {
      "cell_type": "code",
      "metadata": {
        "colab": {
          "base_uri": "https://localhost:8080/"
        },
        "id": "SRCVlXdvERyM",
        "outputId": "9a58015b-ec19-45b9-9a78-482b5fb45fda"
      },
      "source": [
        "df['Customer ID'].value_counts()"
      ],
      "execution_count": 44,
      "outputs": [
        {
          "output_type": "execute_result",
          "data": {
            "text/plain": [
              "14911.0    5568\n",
              "17841.0    4944\n",
              "14606.0    3802\n",
              "14156.0    2646\n",
              "12748.0    2532\n",
              "           ... \n",
              "14495.0       1\n",
              "16737.0       1\n",
              "16219.0       1\n",
              "14906.0       1\n",
              "13270.0       1\n",
              "Name: Customer ID, Length: 4314, dtype: int64"
            ]
          },
          "metadata": {},
          "execution_count": 44
        }
      ]
    },
    {
      "cell_type": "markdown",
      "metadata": {
        "id": "MIb9_p_sJ2lm"
      },
      "source": [
        "* We've records of 4314 customers."
      ]
    },
    {
      "cell_type": "markdown",
      "metadata": {
        "id": "ZoOkJa7Tf_bZ"
      },
      "source": [
        "* Customer ID refers to the id of a single customer. \n",
        "* Customer with ID = 14911 occurs max number of time. \n",
        "* It can be concluded that this customer has done maximum purchasing in the store."
      ]
    },
    {
      "cell_type": "code",
      "metadata": {
        "colab": {
          "base_uri": "https://localhost:8080/"
        },
        "id": "dolYEO3qGAw3",
        "outputId": "8e5b10b2-2987-4a09-8596-a673d41063cd"
      },
      "source": [
        "df[df['Customer ID'] == 14911].InvoiceDate.value_counts()"
      ],
      "execution_count": 45,
      "outputs": [
        {
          "output_type": "execute_result",
          "data": {
            "text/plain": [
              "2010-10-03 12:40:00    112\n",
              "2010-05-09 12:49:00    106\n",
              "2010-06-14 14:06:00    101\n",
              "2010-10-27 13:29:00     89\n",
              "2010-03-30 09:47:00     79\n",
              "                      ... \n",
              "2010-03-24 10:42:00      1\n",
              "2010-12-06 13:32:00      1\n",
              "2010-01-08 10:39:00      1\n",
              "2010-08-19 14:24:00      1\n",
              "2010-10-22 09:45:00      1\n",
              "Name: InvoiceDate, Length: 204, dtype: int64"
            ]
          },
          "metadata": {},
          "execution_count": 45
        }
      ]
    },
    {
      "cell_type": "markdown",
      "metadata": {
        "id": "8hyilL7zlaqT"
      },
      "source": [
        "* There are 204 different dates when the customer with id = 14911 has engaged with store.\n"
      ]
    },
    {
      "cell_type": "code",
      "metadata": {
        "colab": {
          "base_uri": "https://localhost:8080/",
          "height": 417
        },
        "id": "ZukDu5aLhJCj",
        "outputId": "43db904d-2bbf-46aa-833f-c9ccd1aeb592"
      },
      "source": [
        "df[df['Customer ID'] == 14911]"
      ],
      "execution_count": 46,
      "outputs": [
        {
          "output_type": "execute_result",
          "data": {
            "text/html": [
              "<div>\n",
              "<style scoped>\n",
              "    .dataframe tbody tr th:only-of-type {\n",
              "        vertical-align: middle;\n",
              "    }\n",
              "\n",
              "    .dataframe tbody tr th {\n",
              "        vertical-align: top;\n",
              "    }\n",
              "\n",
              "    .dataframe thead th {\n",
              "        text-align: right;\n",
              "    }\n",
              "</style>\n",
              "<table border=\"1\" class=\"dataframe\">\n",
              "  <thead>\n",
              "    <tr style=\"text-align: right;\">\n",
              "      <th></th>\n",
              "      <th>Invoice</th>\n",
              "      <th>StockCode</th>\n",
              "      <th>Description</th>\n",
              "      <th>Quantity</th>\n",
              "      <th>InvoiceDate</th>\n",
              "      <th>Price</th>\n",
              "      <th>Customer ID</th>\n",
              "      <th>Country</th>\n",
              "    </tr>\n",
              "  </thead>\n",
              "  <tbody>\n",
              "    <tr>\n",
              "      <th>440</th>\n",
              "      <td>489520</td>\n",
              "      <td>35751C</td>\n",
              "      <td>PURPLE CURRENT CANDLE RING</td>\n",
              "      <td>12</td>\n",
              "      <td>2009-12-01 11:41:00</td>\n",
              "      <td>0.75</td>\n",
              "      <td>14911.0</td>\n",
              "      <td>EIRE</td>\n",
              "    </tr>\n",
              "    <tr>\n",
              "      <th>441</th>\n",
              "      <td>489520</td>\n",
              "      <td>72739B</td>\n",
              "      <td>WHITE CHOCOLATE SCENT CANDLE</td>\n",
              "      <td>12</td>\n",
              "      <td>2009-12-01 11:41:00</td>\n",
              "      <td>1.25</td>\n",
              "      <td>14911.0</td>\n",
              "      <td>EIRE</td>\n",
              "    </tr>\n",
              "    <tr>\n",
              "      <th>442</th>\n",
              "      <td>489520</td>\n",
              "      <td>22114</td>\n",
              "      <td>HOT WATER BOTTLE TEA AND SYMPATHY</td>\n",
              "      <td>8</td>\n",
              "      <td>2009-12-01 11:41:00</td>\n",
              "      <td>3.95</td>\n",
              "      <td>14911.0</td>\n",
              "      <td>EIRE</td>\n",
              "    </tr>\n",
              "    <tr>\n",
              "      <th>443</th>\n",
              "      <td>489520</td>\n",
              "      <td>22212</td>\n",
              "      <td>FOUR HOOK  WHITE LOVEBIRDS</td>\n",
              "      <td>6</td>\n",
              "      <td>2009-12-01 11:41:00</td>\n",
              "      <td>2.10</td>\n",
              "      <td>14911.0</td>\n",
              "      <td>EIRE</td>\n",
              "    </tr>\n",
              "    <tr>\n",
              "      <th>444</th>\n",
              "      <td>489520</td>\n",
              "      <td>21523</td>\n",
              "      <td>FANCY FONT HOME SWEET HOME DOORMAT</td>\n",
              "      <td>2</td>\n",
              "      <td>2009-12-01 11:41:00</td>\n",
              "      <td>6.75</td>\n",
              "      <td>14911.0</td>\n",
              "      <td>EIRE</td>\n",
              "    </tr>\n",
              "    <tr>\n",
              "      <th>...</th>\n",
              "      <td>...</td>\n",
              "      <td>...</td>\n",
              "      <td>...</td>\n",
              "      <td>...</td>\n",
              "      <td>...</td>\n",
              "      <td>...</td>\n",
              "      <td>...</td>\n",
              "      <td>...</td>\n",
              "    </tr>\n",
              "    <tr>\n",
              "      <th>523021</th>\n",
              "      <td>538009</td>\n",
              "      <td>21754</td>\n",
              "      <td>HOME BUILDING BLOCK WORD</td>\n",
              "      <td>3</td>\n",
              "      <td>2010-12-09 12:17:00</td>\n",
              "      <td>5.95</td>\n",
              "      <td>14911.0</td>\n",
              "      <td>EIRE</td>\n",
              "    </tr>\n",
              "    <tr>\n",
              "      <th>523022</th>\n",
              "      <td>538009</td>\n",
              "      <td>22840</td>\n",
              "      <td>ROUND CAKE TIN VINTAGE RED</td>\n",
              "      <td>2</td>\n",
              "      <td>2010-12-09 12:17:00</td>\n",
              "      <td>7.95</td>\n",
              "      <td>14911.0</td>\n",
              "      <td>EIRE</td>\n",
              "    </tr>\n",
              "    <tr>\n",
              "      <th>523023</th>\n",
              "      <td>538009</td>\n",
              "      <td>22842</td>\n",
              "      <td>BISCUIT TIN VINTAGE RED</td>\n",
              "      <td>2</td>\n",
              "      <td>2010-12-09 12:17:00</td>\n",
              "      <td>6.75</td>\n",
              "      <td>14911.0</td>\n",
              "      <td>EIRE</td>\n",
              "    </tr>\n",
              "    <tr>\n",
              "      <th>523024</th>\n",
              "      <td>538009</td>\n",
              "      <td>22197</td>\n",
              "      <td>SMALL POPCORN HOLDER</td>\n",
              "      <td>36</td>\n",
              "      <td>2010-12-09 12:17:00</td>\n",
              "      <td>0.85</td>\n",
              "      <td>14911.0</td>\n",
              "      <td>EIRE</td>\n",
              "    </tr>\n",
              "    <tr>\n",
              "      <th>523025</th>\n",
              "      <td>538009</td>\n",
              "      <td>22198</td>\n",
              "      <td>LARGE POPCORN HOLDER</td>\n",
              "      <td>12</td>\n",
              "      <td>2010-12-09 12:17:00</td>\n",
              "      <td>1.65</td>\n",
              "      <td>14911.0</td>\n",
              "      <td>EIRE</td>\n",
              "    </tr>\n",
              "  </tbody>\n",
              "</table>\n",
              "<p>5568 rows × 8 columns</p>\n",
              "</div>"
            ],
            "text/plain": [
              "       Invoice StockCode  ... Customer ID  Country\n",
              "440     489520    35751C  ...     14911.0     EIRE\n",
              "441     489520    72739B  ...     14911.0     EIRE\n",
              "442     489520     22114  ...     14911.0     EIRE\n",
              "443     489520     22212  ...     14911.0     EIRE\n",
              "444     489520     21523  ...     14911.0     EIRE\n",
              "...        ...       ...  ...         ...      ...\n",
              "523021  538009     21754  ...     14911.0     EIRE\n",
              "523022  538009     22840  ...     14911.0     EIRE\n",
              "523023  538009     22842  ...     14911.0     EIRE\n",
              "523024  538009     22197  ...     14911.0     EIRE\n",
              "523025  538009     22198  ...     14911.0     EIRE\n",
              "\n",
              "[5568 rows x 8 columns]"
            ]
          },
          "metadata": {},
          "execution_count": 46
        }
      ]
    },
    {
      "cell_type": "markdown",
      "metadata": {
        "id": "1eAccYRkhy5f"
      },
      "source": [
        "* From the above, it can be observed that customer with id = 14911 has done the transactions in both the years 2009 and 2010.\n",
        "* **Loyal Customer** - how willing a customer is to engage with and repeatedly purchase from you versus your competitors.\n",
        "* Customer with Customer ID = 14911 can be also be called most loyal customer as he/she engaged with the store for both the years given in data."
      ]
    },
    {
      "cell_type": "markdown",
      "metadata": {
        "id": "gUnw3RSokjhY"
      },
      "source": [
        "### 2.6 InvoiceDate"
      ]
    },
    {
      "cell_type": "code",
      "metadata": {
        "colab": {
          "base_uri": "https://localhost:8080/"
        },
        "id": "LV9fPTjWJWUj",
        "outputId": "fd2ead2c-d214-443e-be0b-1374e1540cb7"
      },
      "source": [
        "df.InvoiceDate.value_counts()"
      ],
      "execution_count": 47,
      "outputs": [
        {
          "output_type": "execute_result",
          "data": {
            "text/plain": [
              "2010-03-07 15:34:00    251\n",
              "2010-05-07 09:04:00    250\n",
              "2010-10-08 12:14:00    240\n",
              "2010-06-08 16:47:00    240\n",
              "2010-06-06 12:13:00    236\n",
              "                      ... \n",
              "2010-02-02 14:11:00      1\n",
              "2010-09-16 10:17:00      1\n",
              "2010-08-15 11:12:00      1\n",
              "2010-06-11 15:23:00      1\n",
              "2010-07-09 12:17:00      1\n",
              "Name: InvoiceDate, Length: 18010, dtype: int64"
            ]
          },
          "metadata": {},
          "execution_count": 47
        }
      ]
    },
    {
      "cell_type": "code",
      "metadata": {
        "id": "iI2tSz_xEw8a"
      },
      "source": [
        "date_dict = df.InvoiceDate.value_counts()"
      ],
      "execution_count": 48,
      "outputs": []
    },
    {
      "cell_type": "code",
      "metadata": {
        "colab": {
          "base_uri": "https://localhost:8080/"
        },
        "id": "BFpcDYndnJAI",
        "outputId": "2e47d5f3-bfd3-4b3f-dbb9-45e9e69eda1c"
      },
      "source": [
        "date_dict[0:30]"
      ],
      "execution_count": 50,
      "outputs": [
        {
          "output_type": "execute_result",
          "data": {
            "text/plain": [
              "2010-03-07 15:34:00    251\n",
              "2010-05-07 09:04:00    250\n",
              "2010-10-08 12:14:00    240\n",
              "2010-06-08 16:47:00    240\n",
              "2010-06-06 12:13:00    236\n",
              "2010-11-07 16:29:00    228\n",
              "2010-10-07 16:48:00    226\n",
              "2010-11-28 14:57:00    215\n",
              "2010-11-21 13:13:00    202\n",
              "2010-05-16 16:05:00    201\n",
              "2010-11-15 14:26:00    200\n",
              "2010-01-07 11:52:00    199\n",
              "2010-11-21 14:10:00    199\n",
              "2010-10-07 10:39:00    190\n",
              "2010-07-01 11:59:00    186\n",
              "2010-06-22 14:21:00    184\n",
              "2010-10-26 16:47:00    182\n",
              "2010-05-16 12:51:00    180\n",
              "2010-10-17 16:17:00    173\n",
              "2010-10-05 14:05:00    172\n",
              "2010-05-25 13:21:00    171\n",
              "2010-11-23 13:36:00    171\n",
              "2010-11-16 10:05:00    166\n",
              "2010-03-22 14:30:00    165\n",
              "2010-08-05 14:57:00    164\n",
              "2010-07-25 15:40:00    163\n",
              "2010-06-14 14:27:00    161\n",
              "2009-12-08 15:12:00    159\n",
              "2010-10-19 15:33:00    158\n",
              "2010-11-11 13:50:00    155\n",
              "Name: InvoiceDate, dtype: int64"
            ]
          },
          "metadata": {},
          "execution_count": 50
        }
      ]
    },
    {
      "cell_type": "markdown",
      "metadata": {
        "id": "90SKYsJHxGeP"
      },
      "source": [
        "From above we can say that the year end of 2009 and 2010 are the most popular time of the year based on this data."
      ]
    },
    {
      "cell_type": "code",
      "metadata": {
        "id": "T_5A7WOQIDl0"
      },
      "source": [
        "df['InvoiceDate'] = pd.to_datetime(df['InvoiceDate'])"
      ],
      "execution_count": 51,
      "outputs": []
    },
    {
      "cell_type": "code",
      "metadata": {
        "colab": {
          "base_uri": "https://localhost:8080/",
          "height": 203
        },
        "id": "QGypWuPoJLJg",
        "outputId": "06a2274e-c182-4a7b-d4e1-de780f651a5d"
      },
      "source": [
        "df.head()"
      ],
      "execution_count": 52,
      "outputs": [
        {
          "output_type": "execute_result",
          "data": {
            "text/html": [
              "<div>\n",
              "<style scoped>\n",
              "    .dataframe tbody tr th:only-of-type {\n",
              "        vertical-align: middle;\n",
              "    }\n",
              "\n",
              "    .dataframe tbody tr th {\n",
              "        vertical-align: top;\n",
              "    }\n",
              "\n",
              "    .dataframe thead th {\n",
              "        text-align: right;\n",
              "    }\n",
              "</style>\n",
              "<table border=\"1\" class=\"dataframe\">\n",
              "  <thead>\n",
              "    <tr style=\"text-align: right;\">\n",
              "      <th></th>\n",
              "      <th>Invoice</th>\n",
              "      <th>StockCode</th>\n",
              "      <th>Description</th>\n",
              "      <th>Quantity</th>\n",
              "      <th>InvoiceDate</th>\n",
              "      <th>Price</th>\n",
              "      <th>Customer ID</th>\n",
              "      <th>Country</th>\n",
              "    </tr>\n",
              "  </thead>\n",
              "  <tbody>\n",
              "    <tr>\n",
              "      <th>0</th>\n",
              "      <td>489434</td>\n",
              "      <td>85048</td>\n",
              "      <td>15CM CHRISTMAS GLASS BALL 20 LIGHTS</td>\n",
              "      <td>12</td>\n",
              "      <td>2009-12-01 07:45:00</td>\n",
              "      <td>6.95</td>\n",
              "      <td>13085.0</td>\n",
              "      <td>United Kingdom</td>\n",
              "    </tr>\n",
              "    <tr>\n",
              "      <th>1</th>\n",
              "      <td>489434</td>\n",
              "      <td>79323P</td>\n",
              "      <td>PINK CHERRY LIGHTS</td>\n",
              "      <td>12</td>\n",
              "      <td>2009-12-01 07:45:00</td>\n",
              "      <td>6.75</td>\n",
              "      <td>13085.0</td>\n",
              "      <td>United Kingdom</td>\n",
              "    </tr>\n",
              "    <tr>\n",
              "      <th>2</th>\n",
              "      <td>489434</td>\n",
              "      <td>79323W</td>\n",
              "      <td>WHITE CHERRY LIGHTS</td>\n",
              "      <td>12</td>\n",
              "      <td>2009-12-01 07:45:00</td>\n",
              "      <td>6.75</td>\n",
              "      <td>13085.0</td>\n",
              "      <td>United Kingdom</td>\n",
              "    </tr>\n",
              "    <tr>\n",
              "      <th>3</th>\n",
              "      <td>489434</td>\n",
              "      <td>22041</td>\n",
              "      <td>RECORD FRAME 7\" SINGLE SIZE</td>\n",
              "      <td>48</td>\n",
              "      <td>2009-12-01 07:45:00</td>\n",
              "      <td>2.10</td>\n",
              "      <td>13085.0</td>\n",
              "      <td>United Kingdom</td>\n",
              "    </tr>\n",
              "    <tr>\n",
              "      <th>4</th>\n",
              "      <td>489434</td>\n",
              "      <td>21232</td>\n",
              "      <td>STRAWBERRY CERAMIC TRINKET BOX</td>\n",
              "      <td>24</td>\n",
              "      <td>2009-12-01 07:45:00</td>\n",
              "      <td>1.25</td>\n",
              "      <td>13085.0</td>\n",
              "      <td>United Kingdom</td>\n",
              "    </tr>\n",
              "  </tbody>\n",
              "</table>\n",
              "</div>"
            ],
            "text/plain": [
              "  Invoice StockCode  ... Customer ID         Country\n",
              "0  489434     85048  ...     13085.0  United Kingdom\n",
              "1  489434    79323P  ...     13085.0  United Kingdom\n",
              "2  489434    79323W  ...     13085.0  United Kingdom\n",
              "3  489434     22041  ...     13085.0  United Kingdom\n",
              "4  489434     21232  ...     13085.0  United Kingdom\n",
              "\n",
              "[5 rows x 8 columns]"
            ]
          },
          "metadata": {},
          "execution_count": 52
        }
      ]
    },
    {
      "cell_type": "markdown",
      "metadata": {
        "id": "raVZhZdHKrET"
      },
      "source": [
        "* Let's add a new feature TotalPrice which is equal to Price*Quantity."
      ]
    },
    {
      "cell_type": "code",
      "metadata": {
        "colab": {
          "base_uri": "https://localhost:8080/",
          "height": 203
        },
        "id": "pHCWxcQcKik0",
        "outputId": "3faa4985-4418-4f8a-814c-25eaffa11644"
      },
      "source": [
        "df['TotalPrice'] = df['Quantity'] * df['Price']\n",
        "df.head()"
      ],
      "execution_count": 53,
      "outputs": [
        {
          "output_type": "execute_result",
          "data": {
            "text/html": [
              "<div>\n",
              "<style scoped>\n",
              "    .dataframe tbody tr th:only-of-type {\n",
              "        vertical-align: middle;\n",
              "    }\n",
              "\n",
              "    .dataframe tbody tr th {\n",
              "        vertical-align: top;\n",
              "    }\n",
              "\n",
              "    .dataframe thead th {\n",
              "        text-align: right;\n",
              "    }\n",
              "</style>\n",
              "<table border=\"1\" class=\"dataframe\">\n",
              "  <thead>\n",
              "    <tr style=\"text-align: right;\">\n",
              "      <th></th>\n",
              "      <th>Invoice</th>\n",
              "      <th>StockCode</th>\n",
              "      <th>Description</th>\n",
              "      <th>Quantity</th>\n",
              "      <th>InvoiceDate</th>\n",
              "      <th>Price</th>\n",
              "      <th>Customer ID</th>\n",
              "      <th>Country</th>\n",
              "      <th>TotalPrice</th>\n",
              "    </tr>\n",
              "  </thead>\n",
              "  <tbody>\n",
              "    <tr>\n",
              "      <th>0</th>\n",
              "      <td>489434</td>\n",
              "      <td>85048</td>\n",
              "      <td>15CM CHRISTMAS GLASS BALL 20 LIGHTS</td>\n",
              "      <td>12</td>\n",
              "      <td>2009-12-01 07:45:00</td>\n",
              "      <td>6.95</td>\n",
              "      <td>13085.0</td>\n",
              "      <td>United Kingdom</td>\n",
              "      <td>83.4</td>\n",
              "    </tr>\n",
              "    <tr>\n",
              "      <th>1</th>\n",
              "      <td>489434</td>\n",
              "      <td>79323P</td>\n",
              "      <td>PINK CHERRY LIGHTS</td>\n",
              "      <td>12</td>\n",
              "      <td>2009-12-01 07:45:00</td>\n",
              "      <td>6.75</td>\n",
              "      <td>13085.0</td>\n",
              "      <td>United Kingdom</td>\n",
              "      <td>81.0</td>\n",
              "    </tr>\n",
              "    <tr>\n",
              "      <th>2</th>\n",
              "      <td>489434</td>\n",
              "      <td>79323W</td>\n",
              "      <td>WHITE CHERRY LIGHTS</td>\n",
              "      <td>12</td>\n",
              "      <td>2009-12-01 07:45:00</td>\n",
              "      <td>6.75</td>\n",
              "      <td>13085.0</td>\n",
              "      <td>United Kingdom</td>\n",
              "      <td>81.0</td>\n",
              "    </tr>\n",
              "    <tr>\n",
              "      <th>3</th>\n",
              "      <td>489434</td>\n",
              "      <td>22041</td>\n",
              "      <td>RECORD FRAME 7\" SINGLE SIZE</td>\n",
              "      <td>48</td>\n",
              "      <td>2009-12-01 07:45:00</td>\n",
              "      <td>2.10</td>\n",
              "      <td>13085.0</td>\n",
              "      <td>United Kingdom</td>\n",
              "      <td>100.8</td>\n",
              "    </tr>\n",
              "    <tr>\n",
              "      <th>4</th>\n",
              "      <td>489434</td>\n",
              "      <td>21232</td>\n",
              "      <td>STRAWBERRY CERAMIC TRINKET BOX</td>\n",
              "      <td>24</td>\n",
              "      <td>2009-12-01 07:45:00</td>\n",
              "      <td>1.25</td>\n",
              "      <td>13085.0</td>\n",
              "      <td>United Kingdom</td>\n",
              "      <td>30.0</td>\n",
              "    </tr>\n",
              "  </tbody>\n",
              "</table>\n",
              "</div>"
            ],
            "text/plain": [
              "  Invoice StockCode  ...         Country  TotalPrice\n",
              "0  489434     85048  ...  United Kingdom        83.4\n",
              "1  489434    79323P  ...  United Kingdom        81.0\n",
              "2  489434    79323W  ...  United Kingdom        81.0\n",
              "3  489434     22041  ...  United Kingdom       100.8\n",
              "4  489434     21232  ...  United Kingdom        30.0\n",
              "\n",
              "[5 rows x 9 columns]"
            ]
          },
          "metadata": {},
          "execution_count": 53
        }
      ]
    },
    {
      "cell_type": "markdown",
      "metadata": {
        "id": "pUGDYbygZEu4"
      },
      "source": [
        "* Add three other features which are day, month and year."
      ]
    },
    {
      "cell_type": "code",
      "metadata": {
        "id": "H-qMqL15YxHr"
      },
      "source": [
        "df['InvoiceDate Day'] = df['InvoiceDate'].dt.day\n",
        "df['InvoiceDate Month'] = df['InvoiceDate'].dt.month\n",
        "df['InvoiceDate year'] = df['InvoiceDate'].dt.year"
      ],
      "execution_count": 118,
      "outputs": []
    },
    {
      "cell_type": "code",
      "metadata": {
        "colab": {
          "base_uri": "https://localhost:8080/",
          "height": 304
        },
        "id": "V1YWupKEZJc6",
        "outputId": "8d998d0d-6cde-4d17-8b5c-edf914488138"
      },
      "source": [
        "df.head()"
      ],
      "execution_count": 119,
      "outputs": [
        {
          "output_type": "execute_result",
          "data": {
            "text/html": [
              "<div>\n",
              "<style scoped>\n",
              "    .dataframe tbody tr th:only-of-type {\n",
              "        vertical-align: middle;\n",
              "    }\n",
              "\n",
              "    .dataframe tbody tr th {\n",
              "        vertical-align: top;\n",
              "    }\n",
              "\n",
              "    .dataframe thead th {\n",
              "        text-align: right;\n",
              "    }\n",
              "</style>\n",
              "<table border=\"1\" class=\"dataframe\">\n",
              "  <thead>\n",
              "    <tr style=\"text-align: right;\">\n",
              "      <th></th>\n",
              "      <th>Invoice</th>\n",
              "      <th>StockCode</th>\n",
              "      <th>Description</th>\n",
              "      <th>Quantity</th>\n",
              "      <th>InvoiceDate</th>\n",
              "      <th>Price</th>\n",
              "      <th>Customer ID</th>\n",
              "      <th>Country</th>\n",
              "      <th>TotalPrice</th>\n",
              "      <th>InvoiceDate Day</th>\n",
              "      <th>InvoiceDate Month</th>\n",
              "      <th>InvoiceDate year</th>\n",
              "    </tr>\n",
              "  </thead>\n",
              "  <tbody>\n",
              "    <tr>\n",
              "      <th>0</th>\n",
              "      <td>489434</td>\n",
              "      <td>85048</td>\n",
              "      <td>15CM CHRISTMAS GLASS BALL 20 LIGHTS</td>\n",
              "      <td>12</td>\n",
              "      <td>2009-12-01 07:45:00</td>\n",
              "      <td>6.95</td>\n",
              "      <td>13085.0</td>\n",
              "      <td>United Kingdom</td>\n",
              "      <td>83.4</td>\n",
              "      <td>1</td>\n",
              "      <td>12</td>\n",
              "      <td>2009</td>\n",
              "    </tr>\n",
              "    <tr>\n",
              "      <th>1</th>\n",
              "      <td>489434</td>\n",
              "      <td>79323P</td>\n",
              "      <td>PINK CHERRY LIGHTS</td>\n",
              "      <td>12</td>\n",
              "      <td>2009-12-01 07:45:00</td>\n",
              "      <td>6.75</td>\n",
              "      <td>13085.0</td>\n",
              "      <td>United Kingdom</td>\n",
              "      <td>81.0</td>\n",
              "      <td>1</td>\n",
              "      <td>12</td>\n",
              "      <td>2009</td>\n",
              "    </tr>\n",
              "    <tr>\n",
              "      <th>2</th>\n",
              "      <td>489434</td>\n",
              "      <td>79323W</td>\n",
              "      <td>WHITE CHERRY LIGHTS</td>\n",
              "      <td>12</td>\n",
              "      <td>2009-12-01 07:45:00</td>\n",
              "      <td>6.75</td>\n",
              "      <td>13085.0</td>\n",
              "      <td>United Kingdom</td>\n",
              "      <td>81.0</td>\n",
              "      <td>1</td>\n",
              "      <td>12</td>\n",
              "      <td>2009</td>\n",
              "    </tr>\n",
              "    <tr>\n",
              "      <th>3</th>\n",
              "      <td>489434</td>\n",
              "      <td>22041</td>\n",
              "      <td>RECORD FRAME 7\" SINGLE SIZE</td>\n",
              "      <td>48</td>\n",
              "      <td>2009-12-01 07:45:00</td>\n",
              "      <td>2.10</td>\n",
              "      <td>13085.0</td>\n",
              "      <td>United Kingdom</td>\n",
              "      <td>100.8</td>\n",
              "      <td>1</td>\n",
              "      <td>12</td>\n",
              "      <td>2009</td>\n",
              "    </tr>\n",
              "    <tr>\n",
              "      <th>4</th>\n",
              "      <td>489434</td>\n",
              "      <td>21232</td>\n",
              "      <td>STRAWBERRY CERAMIC TRINKET BOX</td>\n",
              "      <td>24</td>\n",
              "      <td>2009-12-01 07:45:00</td>\n",
              "      <td>1.25</td>\n",
              "      <td>13085.0</td>\n",
              "      <td>United Kingdom</td>\n",
              "      <td>30.0</td>\n",
              "      <td>1</td>\n",
              "      <td>12</td>\n",
              "      <td>2009</td>\n",
              "    </tr>\n",
              "  </tbody>\n",
              "</table>\n",
              "</div>"
            ],
            "text/plain": [
              "  Invoice StockCode  ... InvoiceDate Month  InvoiceDate year\n",
              "0  489434     85048  ...                12              2009\n",
              "1  489434    79323P  ...                12              2009\n",
              "2  489434    79323W  ...                12              2009\n",
              "3  489434     22041  ...                12              2009\n",
              "4  489434     21232  ...                12              2009\n",
              "\n",
              "[5 rows x 12 columns]"
            ]
          },
          "metadata": {},
          "execution_count": 119
        }
      ]
    },
    {
      "cell_type": "markdown",
      "metadata": {
        "id": "1NOVyuGUQ-iR"
      },
      "source": [
        "#### 2.6.1 Plot the dataset df with x = TotalPrice and y = InvoiceDate to check if there's any seasonality present."
      ]
    },
    {
      "cell_type": "code",
      "metadata": {
        "colab": {
          "base_uri": "https://localhost:8080/",
          "height": 405
        },
        "id": "paFhGrk0JU26",
        "outputId": "c7834452-77d1-4b5d-f892-811a35af02a7"
      },
      "source": [
        "df.plot(y = 'InvoiceDate', x = 'TotalPrice', figsize = (12,6))"
      ],
      "execution_count": 54,
      "outputs": [
        {
          "output_type": "execute_result",
          "data": {
            "text/plain": [
              "<matplotlib.axes._subplots.AxesSubplot at 0x7ff080a00050>"
            ]
          },
          "metadata": {},
          "execution_count": 54
        },
        {
          "output_type": "display_data",
          "data": {
            "image/png": "[encoded data removed]",
            "text/plain": [
              "<Figure size 864x432 with 1 Axes>"
            ]
          },
          "metadata": {
            "needs_background": "light"
          }
        }
      ]
    },
    {
      "cell_type": "markdown",
      "metadata": {
        "id": "IFGWvAmamUZt"
      },
      "source": [
        "* Yes, according to the graphs above, we can see seasonality in data based on Date"
      ]
    },
    {
      "cell_type": "markdown",
      "metadata": {
        "id": "6BcpN_qzInrY"
      },
      "source": [
        "Conclusion\n",
        "* Higher value of prices during the year end.\n",
        "* During the year end the two main events like Christmas and New Year are observed which can be the reason for more amount of expenditure. \n"
      ]
    },
    {
      "cell_type": "markdown",
      "metadata": {
        "id": "l-SSfDPZKMWS"
      },
      "source": [
        "### 2.7 Description"
      ]
    },
    {
      "cell_type": "code",
      "metadata": {
        "id": "0ZEnxNPQNu5X"
      },
      "source": [
        "desc_dict = df.Description.value_counts()"
      ],
      "execution_count": 55,
      "outputs": []
    },
    {
      "cell_type": "code",
      "metadata": {
        "colab": {
          "base_uri": "https://localhost:8080/"
        },
        "id": "qh3bVS2mWSVg",
        "outputId": "8b41e13b-616a-401a-8e8f-17edb62a0ecb"
      },
      "source": [
        "desc_dict.shape"
      ],
      "execution_count": 115,
      "outputs": [
        {
          "output_type": "execute_result",
          "data": {
            "text/plain": [
              "(4444,)"
            ]
          },
          "metadata": {},
          "execution_count": 115
        }
      ]
    },
    {
      "cell_type": "markdown",
      "metadata": {
        "id": "wcOsVLY5bosn"
      },
      "source": [
        "* 4444 unique items are being sold."
      ]
    },
    {
      "cell_type": "code",
      "metadata": {
        "colab": {
          "base_uri": "https://localhost:8080/"
        },
        "id": "IPynMqsrOeO7",
        "outputId": "086f7c90-0e41-45b8-8e02-f840383f214a"
      },
      "source": [
        "desc_dict[0:20]"
      ],
      "execution_count": 56,
      "outputs": [
        {
          "output_type": "execute_result",
          "data": {
            "text/plain": [
              "WHITE HANGING HEART T-LIGHT HOLDER    3107\n",
              "REGENCY CAKESTAND 3 TIER              1696\n",
              "STRAWBERRY CERAMIC TRINKET BOX        1372\n",
              "ASSORTED COLOUR BIRD ORNAMENT         1355\n",
              "HOME BUILDING BLOCK WORD              1192\n",
              "PACK OF 72 RETRO SPOT CAKE CASES      1183\n",
              "60 TEATIME FAIRY CAKE CASES           1169\n",
              "REX CASH+CARRY JUMBO SHOPPER          1099\n",
              "JUMBO BAG RED RETROSPOT               1075\n",
              "LUNCH BAG RED SPOTTY                  1069\n",
              "HEART OF WICKER LARGE                 1027\n",
              "WOODEN FRAME ANTIQUE WHITE            1021\n",
              "RED HANGING HEART T-LIGHT HOLDER      1013\n",
              "LUNCH BAG  BLACK SKULL.                996\n",
              "JUMBO STORAGE BAG SUKI                 974\n",
              "LUNCH BAG SUKI  DESIGN                 970\n",
              "LOVE BUILDING BLOCK WORD               965\n",
              "PACK OF 60 PINK PAISLEY CAKE CASES     946\n",
              "JUMBO SHOPPER VINTAGE RED PAISLEY      930\n",
              "LUNCH BAG SPACEBOY DESIGN              920\n",
              "Name: Description, dtype: int64"
            ]
          },
          "metadata": {},
          "execution_count": 56
        }
      ]
    },
    {
      "cell_type": "markdown",
      "metadata": {
        "id": "pes_MxKzoa_u"
      },
      "source": [
        "* top 20 items that were sold are printed.\n"
      ]
    },
    {
      "cell_type": "markdown",
      "metadata": {
        "id": "g1Ikqda3VDwG"
      },
      "source": [
        "### 2.8 TotalPrice"
      ]
    },
    {
      "cell_type": "markdown",
      "metadata": {
        "id": "LOLB3q2QVyCJ"
      },
      "source": [
        "#### Which country will be the most profitable for the company?"
      ]
    },
    {
      "cell_type": "code",
      "metadata": {
        "colab": {
          "base_uri": "https://localhost:8080/",
          "height": 317
        },
        "id": "y-8S5fGTVCnp",
        "outputId": "90679c70-6639-4614-8d3b-eff99dfde353"
      },
      "source": [
        "plt.figure(figsize=(40,7))\n",
        "sns.barplot(df['Country'],df['TotalPrice'],palette='Set1')\n",
        "plt.xlabel('Country name',fontsize='12')\n",
        "plt.xticks(fontsize='10')\n",
        "plt.ylabel('TotalPrice',fontsize='12')\n",
        "plt.yticks(fontsize='10')"
      ],
      "execution_count": 114,
      "outputs": [
        {
          "output_type": "execute_result",
          "data": {
            "text/plain": [
              "(array([  0.,  20.,  40.,  60.,  80., 100., 120., 140., 160., 180.]),\n",
              " <a list of 10 Text major ticklabel objects>)"
            ]
          },
          "metadata": {},
          "execution_count": 114
        },
        {
          "output_type": "display_data",
          "data": {
            "image/png": "[encoded data removed]",
            "text/plain": [
              "<Figure size 2880x504 with 1 Axes>"
            ]
          },
          "metadata": {
            "needs_background": "light"
          }
        }
      ]
    },
    {
      "cell_type": "markdown",
      "metadata": {
        "id": "7U4zt8DBV3n6"
      },
      "source": [
        "* From the above graph, it can be concluded that **Denmark** is most profitable for the company. "
      ]
    },
    {
      "cell_type": "markdown",
      "metadata": {
        "id": "Iy7dFUcqZvx2"
      },
      "source": [
        "###2.9 InvoiceDate Month"
      ]
    },
    {
      "cell_type": "markdown",
      "metadata": {
        "id": "bkeZfj0mZi_X"
      },
      "source": [
        "### Which month has the highest number of sales?"
      ]
    },
    {
      "cell_type": "code",
      "metadata": {
        "colab": {
          "base_uri": "https://localhost:8080/",
          "height": 421
        },
        "id": "mTzoRScJZmxz",
        "outputId": "ae26c375-d142-47f7-d6b7-dd6ff9cf31e6"
      },
      "source": [
        "plt.figure(figsize=(8, 6))\n",
        "plt.title('Daily Sales by Day of the Week')\n",
        "sns.countplot(df['InvoiceDate Month'])"
      ],
      "execution_count": 120,
      "outputs": [
        {
          "output_type": "execute_result",
          "data": {
            "text/plain": [
              "<matplotlib.axes._subplots.AxesSubplot at 0x7ff097c4b950>"
            ]
          },
          "metadata": {},
          "execution_count": 120
        },
        {
          "output_type": "display_data",
          "data": {
            "image/png": "[encoded data removed]",
            "text/plain": [
              "<Figure size 576x432 with 1 Axes>"
            ]
          },
          "metadata": {
            "needs_background": "light"
          }
        }
      ]
    },
    {
      "cell_type": "markdown",
      "metadata": {
        "id": "LruUoFhLZ4Xr"
      },
      "source": [
        "* November has the most amount of sales followed by October and December.\n",
        "* These are also the festival months which explains the reason for high sales."
      ]
    },
    {
      "cell_type": "markdown",
      "metadata": {
        "id": "g3fAG5y7bF4a"
      },
      "source": [
        "### 2.10 InvoiceDate Hour"
      ]
    },
    {
      "cell_type": "markdown",
      "metadata": {
        "id": "rhJVRhuOaLH1"
      },
      "source": [
        "### Which hour of the day is the busiest? "
      ]
    },
    {
      "cell_type": "code",
      "metadata": {
        "colab": {
          "base_uri": "https://localhost:8080/",
          "height": 312
        },
        "id": "7k-m25VaaPDB",
        "outputId": "27a27f38-a99f-41ba-ed74-038287d5f94a"
      },
      "source": [
        "df['InvoiceDate Hour'] = (df['InvoiceDate']).dt.hour\n",
        "\n",
        "sns.lineplot(x=\"InvoiceDate Hour\",  y = 'Quantity',data =df).set_title(\"Product Sales per Hour\")"
      ],
      "execution_count": 122,
      "outputs": [
        {
          "output_type": "execute_result",
          "data": {
            "text/plain": [
              "Text(0.5, 1.0, 'Product Sales per Hour')"
            ]
          },
          "metadata": {},
          "execution_count": 122
        },
        {
          "output_type": "display_data",
          "data": {
            "image/png": "[encoded data removed]",
            "text/plain": [
              "<Figure size 432x288 with 1 Axes>"
            ]
          },
          "metadata": {
            "needs_background": "light"
          }
        }
      ]
    },
    {
      "cell_type": "markdown",
      "metadata": {
        "id": "CcksEI95apD0"
      },
      "source": [
        "* Early morning hours are the busiest."
      ]
    },
    {
      "cell_type": "markdown",
      "metadata": {
        "id": "-dLrNtuGo8Fd"
      },
      "source": [
        "##3. Segmenting the customers"
      ]
    },
    {
      "cell_type": "markdown",
      "metadata": {
        "id": "xilzcJHmqlbM"
      },
      "source": [
        "For segmenting customer, there are some metrics that we can use, known as RFM\n",
        "* Recency(R) -  when did the customer bought the product for last time\n",
        "* Frequency(F) - how frequent the customer buy the products.\n",
        "* Monetary(M) - how much the customer pays for the product."
      ]
    },
    {
      "cell_type": "markdown",
      "metadata": {
        "id": "LFj1qM6u-mU3"
      },
      "source": [
        "* For simplicity, we'll create a new dataframe and add columns relevant to calculation of RFM scores"
      ]
    },
    {
      "cell_type": "code",
      "metadata": {
        "id": "6QW9sexpo_D-"
      },
      "source": [
        "df_seg = pd.DataFrame()"
      ],
      "execution_count": 58,
      "outputs": []
    },
    {
      "cell_type": "code",
      "metadata": {
        "id": "ssfjxUbQrLFw"
      },
      "source": [
        "df_seg['InvoiceDate'] = df['InvoiceDate'].dt.date\n",
        "df_seg['TotalSum'] = df['TotalPrice']\n",
        "df_seg['Customer ID'] = df['Customer ID']\n",
        "df_seg['Invoice'] = df['Invoice']"
      ],
      "execution_count": 59,
      "outputs": []
    },
    {
      "cell_type": "code",
      "metadata": {
        "colab": {
          "base_uri": "https://localhost:8080/",
          "height": 203
        },
        "id": "KtF8nbRIrhYH",
        "outputId": "4ee46abc-5932-4780-b2a6-292127b53399"
      },
      "source": [
        "df_seg.head()"
      ],
      "execution_count": 60,
      "outputs": [
        {
          "output_type": "execute_result",
          "data": {
            "text/html": [
              "<div>\n",
              "<style scoped>\n",
              "    .dataframe tbody tr th:only-of-type {\n",
              "        vertical-align: middle;\n",
              "    }\n",
              "\n",
              "    .dataframe tbody tr th {\n",
              "        vertical-align: top;\n",
              "    }\n",
              "\n",
              "    .dataframe thead th {\n",
              "        text-align: right;\n",
              "    }\n",
              "</style>\n",
              "<table border=\"1\" class=\"dataframe\">\n",
              "  <thead>\n",
              "    <tr style=\"text-align: right;\">\n",
              "      <th></th>\n",
              "      <th>InvoiceDate</th>\n",
              "      <th>TotalSum</th>\n",
              "      <th>Customer ID</th>\n",
              "      <th>Invoice</th>\n",
              "    </tr>\n",
              "  </thead>\n",
              "  <tbody>\n",
              "    <tr>\n",
              "      <th>0</th>\n",
              "      <td>2009-12-01</td>\n",
              "      <td>83.4</td>\n",
              "      <td>13085.0</td>\n",
              "      <td>489434</td>\n",
              "    </tr>\n",
              "    <tr>\n",
              "      <th>1</th>\n",
              "      <td>2009-12-01</td>\n",
              "      <td>81.0</td>\n",
              "      <td>13085.0</td>\n",
              "      <td>489434</td>\n",
              "    </tr>\n",
              "    <tr>\n",
              "      <th>2</th>\n",
              "      <td>2009-12-01</td>\n",
              "      <td>81.0</td>\n",
              "      <td>13085.0</td>\n",
              "      <td>489434</td>\n",
              "    </tr>\n",
              "    <tr>\n",
              "      <th>3</th>\n",
              "      <td>2009-12-01</td>\n",
              "      <td>100.8</td>\n",
              "      <td>13085.0</td>\n",
              "      <td>489434</td>\n",
              "    </tr>\n",
              "    <tr>\n",
              "      <th>4</th>\n",
              "      <td>2009-12-01</td>\n",
              "      <td>30.0</td>\n",
              "      <td>13085.0</td>\n",
              "      <td>489434</td>\n",
              "    </tr>\n",
              "  </tbody>\n",
              "</table>\n",
              "</div>"
            ],
            "text/plain": [
              "  InvoiceDate  TotalSum  Customer ID Invoice\n",
              "0  2009-12-01      83.4      13085.0  489434\n",
              "1  2009-12-01      81.0      13085.0  489434\n",
              "2  2009-12-01      81.0      13085.0  489434\n",
              "3  2009-12-01     100.8      13085.0  489434\n",
              "4  2009-12-01      30.0      13085.0  489434"
            ]
          },
          "metadata": {},
          "execution_count": 60
        }
      ]
    },
    {
      "cell_type": "markdown",
      "metadata": {
        "id": "zx181Zww-3Tw"
      },
      "source": [
        "* Calculate the reference_date, here we'll take the next date after the most recent purchase date."
      ]
    },
    {
      "cell_type": "code",
      "metadata": {
        "id": "FqKVLX3FrjCH"
      },
      "source": [
        "import datetime\n",
        "reference_date = max(df_seg.InvoiceDate) + datetime.timedelta(days=1)"
      ],
      "execution_count": 61,
      "outputs": []
    },
    {
      "cell_type": "code",
      "metadata": {
        "colab": {
          "base_uri": "https://localhost:8080/"
        },
        "id": "fHVnl941roYA",
        "outputId": "587eafa6-738f-48d1-cd84-9110a3a22264"
      },
      "source": [
        "reference_date"
      ],
      "execution_count": 62,
      "outputs": [
        {
          "output_type": "execute_result",
          "data": {
            "text/plain": [
              "datetime.date(2010, 12, 10)"
            ]
          },
          "metadata": {},
          "execution_count": 62
        }
      ]
    },
    {
      "cell_type": "markdown",
      "metadata": {
        "id": "7Tx53dSv_EA5"
      },
      "source": [
        "* Group the customers on the basis of their Customer Id.\n",
        "* Count the total number of invoice generated for that customer.\n",
        "* Calculate the recency value which will be difference of days between the reference date and the date when last transaction for that customer occurred."
      ]
    },
    {
      "cell_type": "code",
      "metadata": {
        "id": "2UYE1TOwwlq6"
      },
      "source": [
        "customers = df_seg.groupby(['Customer ID']).agg({\n",
        "    'InvoiceDate': lambda x: (reference_date - x.max()).days,\n",
        "    'Invoice': 'count',\n",
        "    'TotalSum': 'sum'})"
      ],
      "execution_count": 63,
      "outputs": []
    },
    {
      "cell_type": "markdown",
      "metadata": {
        "id": "MmM8JlRz_c9q"
      },
      "source": [
        "* A new dataframe **customers** has been created."
      ]
    },
    {
      "cell_type": "code",
      "metadata": {
        "colab": {
          "base_uri": "https://localhost:8080/",
          "height": 234
        },
        "id": "NTNlSr5wzJNK",
        "outputId": "120aaada-0e0c-43eb-faaa-5bd78efb4be6"
      },
      "source": [
        "customers.head()"
      ],
      "execution_count": 64,
      "outputs": [
        {
          "output_type": "execute_result",
          "data": {
            "text/html": [
              "<div>\n",
              "<style scoped>\n",
              "    .dataframe tbody tr th:only-of-type {\n",
              "        vertical-align: middle;\n",
              "    }\n",
              "\n",
              "    .dataframe tbody tr th {\n",
              "        vertical-align: top;\n",
              "    }\n",
              "\n",
              "    .dataframe thead th {\n",
              "        text-align: right;\n",
              "    }\n",
              "</style>\n",
              "<table border=\"1\" class=\"dataframe\">\n",
              "  <thead>\n",
              "    <tr style=\"text-align: right;\">\n",
              "      <th></th>\n",
              "      <th>InvoiceDate</th>\n",
              "      <th>Invoice</th>\n",
              "      <th>TotalSum</th>\n",
              "    </tr>\n",
              "    <tr>\n",
              "      <th>Customer ID</th>\n",
              "      <th></th>\n",
              "      <th></th>\n",
              "      <th></th>\n",
              "    </tr>\n",
              "  </thead>\n",
              "  <tbody>\n",
              "    <tr>\n",
              "      <th>12346.0</th>\n",
              "      <td>165</td>\n",
              "      <td>33</td>\n",
              "      <td>372.86</td>\n",
              "    </tr>\n",
              "    <tr>\n",
              "      <th>12347.0</th>\n",
              "      <td>3</td>\n",
              "      <td>71</td>\n",
              "      <td>1323.32</td>\n",
              "    </tr>\n",
              "    <tr>\n",
              "      <th>12348.0</th>\n",
              "      <td>74</td>\n",
              "      <td>20</td>\n",
              "      <td>222.16</td>\n",
              "    </tr>\n",
              "    <tr>\n",
              "      <th>12349.0</th>\n",
              "      <td>43</td>\n",
              "      <td>102</td>\n",
              "      <td>2671.14</td>\n",
              "    </tr>\n",
              "    <tr>\n",
              "      <th>12351.0</th>\n",
              "      <td>11</td>\n",
              "      <td>21</td>\n",
              "      <td>300.93</td>\n",
              "    </tr>\n",
              "  </tbody>\n",
              "</table>\n",
              "</div>"
            ],
            "text/plain": [
              "             InvoiceDate  Invoice  TotalSum\n",
              "Customer ID                                \n",
              "12346.0              165       33    372.86\n",
              "12347.0                3       71   1323.32\n",
              "12348.0               74       20    222.16\n",
              "12349.0               43      102   2671.14\n",
              "12351.0               11       21    300.93"
            ]
          },
          "metadata": {},
          "execution_count": 64
        }
      ]
    },
    {
      "cell_type": "markdown",
      "metadata": {
        "id": "UJAzT2lg_lod"
      },
      "source": [
        "* Rename the columnns."
      ]
    },
    {
      "cell_type": "code",
      "metadata": {
        "id": "_2DFRF3XzM0h"
      },
      "source": [
        "customers.rename(columns = {'InvoiceDate': 'Recency',\n",
        "                            'Invoice': 'Frequency',\n",
        "                            'TotalSum': 'MonetaryValue'}, inplace=True)"
      ],
      "execution_count": 65,
      "outputs": []
    },
    {
      "cell_type": "code",
      "metadata": {
        "colab": {
          "base_uri": "https://localhost:8080/",
          "height": 234
        },
        "id": "SSA6gp1OzUJs",
        "outputId": "85be2052-f0f1-467c-913a-4794477c0d1c"
      },
      "source": [
        "customers.head()"
      ],
      "execution_count": 66,
      "outputs": [
        {
          "output_type": "execute_result",
          "data": {
            "text/html": [
              "<div>\n",
              "<style scoped>\n",
              "    .dataframe tbody tr th:only-of-type {\n",
              "        vertical-align: middle;\n",
              "    }\n",
              "\n",
              "    .dataframe tbody tr th {\n",
              "        vertical-align: top;\n",
              "    }\n",
              "\n",
              "    .dataframe thead th {\n",
              "        text-align: right;\n",
              "    }\n",
              "</style>\n",
              "<table border=\"1\" class=\"dataframe\">\n",
              "  <thead>\n",
              "    <tr style=\"text-align: right;\">\n",
              "      <th></th>\n",
              "      <th>Recency</th>\n",
              "      <th>Frequency</th>\n",
              "      <th>MonetaryValue</th>\n",
              "    </tr>\n",
              "    <tr>\n",
              "      <th>Customer ID</th>\n",
              "      <th></th>\n",
              "      <th></th>\n",
              "      <th></th>\n",
              "    </tr>\n",
              "  </thead>\n",
              "  <tbody>\n",
              "    <tr>\n",
              "      <th>12346.0</th>\n",
              "      <td>165</td>\n",
              "      <td>33</td>\n",
              "      <td>372.86</td>\n",
              "    </tr>\n",
              "    <tr>\n",
              "      <th>12347.0</th>\n",
              "      <td>3</td>\n",
              "      <td>71</td>\n",
              "      <td>1323.32</td>\n",
              "    </tr>\n",
              "    <tr>\n",
              "      <th>12348.0</th>\n",
              "      <td>74</td>\n",
              "      <td>20</td>\n",
              "      <td>222.16</td>\n",
              "    </tr>\n",
              "    <tr>\n",
              "      <th>12349.0</th>\n",
              "      <td>43</td>\n",
              "      <td>102</td>\n",
              "      <td>2671.14</td>\n",
              "    </tr>\n",
              "    <tr>\n",
              "      <th>12351.0</th>\n",
              "      <td>11</td>\n",
              "      <td>21</td>\n",
              "      <td>300.93</td>\n",
              "    </tr>\n",
              "  </tbody>\n",
              "</table>\n",
              "</div>"
            ],
            "text/plain": [
              "             Recency  Frequency  MonetaryValue\n",
              "Customer ID                                   \n",
              "12346.0          165         33         372.86\n",
              "12347.0            3         71        1323.32\n",
              "12348.0           74         20         222.16\n",
              "12349.0           43        102        2671.14\n",
              "12351.0           11         21         300.93"
            ]
          },
          "metadata": {},
          "execution_count": 66
        }
      ]
    },
    {
      "cell_type": "code",
      "metadata": {
        "colab": {
          "base_uri": "https://localhost:8080/"
        },
        "id": "9M4N0D06zYAI",
        "outputId": "efe4b339-6802-48cc-f4bb-9c250d24006f"
      },
      "source": [
        "customers.shape"
      ],
      "execution_count": 67,
      "outputs": [
        {
          "output_type": "execute_result",
          "data": {
            "text/plain": [
              "(4314, 3)"
            ]
          },
          "metadata": {},
          "execution_count": 67
        }
      ]
    },
    {
      "cell_type": "markdown",
      "metadata": {
        "id": "liMWF7H6_qhf"
      },
      "source": [
        "Plot the following plots to observe the relation."
      ]
    },
    {
      "cell_type": "markdown",
      "metadata": {
        "id": "tASyJuszExXO"
      },
      "source": [
        "### 3.1 Recency vs Frequency "
      ]
    },
    {
      "cell_type": "code",
      "metadata": {
        "colab": {
          "base_uri": "https://localhost:8080/",
          "height": 279
        },
        "id": "xLvFD0CPB62s",
        "outputId": "14f15c62-740e-4a51-869b-bd0af3d3567d"
      },
      "source": [
        "customers.plot(kind='scatter', x='Recency', y='Frequency') \n",
        "plt.show()"
      ],
      "execution_count": 68,
      "outputs": [
        {
          "output_type": "display_data",
          "data": {
            "image/png": "[encoded data removed]",
            "text/plain": [
              "<Figure size 432x288 with 1 Axes>"
            ]
          },
          "metadata": {
            "needs_background": "light"
          }
        }
      ]
    },
    {
      "cell_type": "markdown",
      "metadata": {
        "id": "aEBItaadFPQk"
      },
      "source": [
        "* Most recent customers tend to do the purchasing more often."
      ]
    },
    {
      "cell_type": "markdown",
      "metadata": {
        "id": "XQJOn-UXFqYg"
      },
      "source": [
        "### 3.2 MonetaryValue vs Frequency\n",
        "\n"
      ]
    },
    {
      "cell_type": "code",
      "metadata": {
        "colab": {
          "base_uri": "https://localhost:8080/",
          "height": 279
        },
        "id": "oGKkvtawB65E",
        "outputId": "fc4cce68-7a4f-45d8-c900-fc5e116a7c22"
      },
      "source": [
        "customers.plot(kind='scatter', x='MonetaryValue', y='Frequency') \n",
        "plt.show()"
      ],
      "execution_count": 69,
      "outputs": [
        {
          "output_type": "display_data",
          "data": {
            "image/png": "[encoded data removed]",
            "text/plain": [
              "<Figure size 432x288 with 1 Axes>"
            ]
          },
          "metadata": {
            "needs_background": "light"
          }
        }
      ]
    },
    {
      "cell_type": "markdown",
      "metadata": {
        "id": "v_6nObtpFiUZ"
      },
      "source": [
        "* Customers who purchase frequently spend less amount of money. "
      ]
    },
    {
      "cell_type": "markdown",
      "metadata": {
        "id": "vA-GrycsADc4"
      },
      "source": [
        "### 3.3  Recency vs MonetaryValue"
      ]
    },
    {
      "cell_type": "code",
      "metadata": {
        "colab": {
          "base_uri": "https://localhost:8080/",
          "height": 279
        },
        "id": "xgFB9kS5AAKu",
        "outputId": "27f7c022-c4fc-49f3-97bd-4606821c2e7c"
      },
      "source": [
        "customers.plot(kind='scatter', y='MonetaryValue', x='Recency') \n",
        "plt.show()"
      ],
      "execution_count": 70,
      "outputs": [
        {
          "output_type": "display_data",
          "data": {
            "image/png": "[encoded data removed]",
            "text/plain": [
              "<Figure size 432x288 with 1 Axes>"
            ]
          },
          "metadata": {
            "needs_background": "light"
          }
        }
      ]
    },
    {
      "cell_type": "markdown",
      "metadata": {
        "id": "9HWrX-pyAQV1"
      },
      "source": [
        "* Most recent customers tend to spend more amount of money."
      ]
    },
    {
      "cell_type": "markdown",
      "metadata": {
        "id": "YqLKb7IvFuRY"
      },
      "source": [
        "### 3.4 How will we segment customers?\n"
      ]
    },
    {
      "cell_type": "markdown",
      "metadata": {
        "id": "kL-_yK8AG4KY"
      },
      "source": [
        "* We can bucket the customers based on the above 3 Factors(RFM).\n",
        "For example, put all the customers whose Recency is less than 60 days in 1 bucket. Similarly, customers whose Recency is greater than 60 days and less than 120 days in another bucket. We will apply the same concept for Frequency and Monetary also.\n",
        "\n",
        "* The ideal customers for e-commerce companies are generally the most recent ones compared to the date of study(our reference date) who are very frequent and who spend enough.\n",
        "\n",
        "* Based on the RFM Values, a score is assigned to each customer between 1 and 3.\n",
        "* 3 is the best score and 1 is the worst score."
      ]
    },
    {
      "cell_type": "markdown",
      "metadata": {
        "id": "E9yEp8eouuPU"
      },
      "source": [
        "Print the statistic measures of RFM values"
      ]
    },
    {
      "cell_type": "code",
      "metadata": {
        "colab": {
          "base_uri": "https://localhost:8080/",
          "height": 295
        },
        "id": "eGjjUuYfB68c",
        "outputId": "6361c446-1328-4b8a-978d-1512f5dc516a"
      },
      "source": [
        "customers.describe()"
      ],
      "execution_count": 71,
      "outputs": [
        {
          "output_type": "execute_result",
          "data": {
            "text/html": [
              "<div>\n",
              "<style scoped>\n",
              "    .dataframe tbody tr th:only-of-type {\n",
              "        vertical-align: middle;\n",
              "    }\n",
              "\n",
              "    .dataframe tbody tr th {\n",
              "        vertical-align: top;\n",
              "    }\n",
              "\n",
              "    .dataframe thead th {\n",
              "        text-align: right;\n",
              "    }\n",
              "</style>\n",
              "<table border=\"1\" class=\"dataframe\">\n",
              "  <thead>\n",
              "    <tr style=\"text-align: right;\">\n",
              "      <th></th>\n",
              "      <th>Recency</th>\n",
              "      <th>Frequency</th>\n",
              "      <th>MonetaryValue</th>\n",
              "    </tr>\n",
              "  </thead>\n",
              "  <tbody>\n",
              "    <tr>\n",
              "      <th>count</th>\n",
              "      <td>4314.000000</td>\n",
              "      <td>4314.000000</td>\n",
              "      <td>4314.000000</td>\n",
              "    </tr>\n",
              "    <tr>\n",
              "      <th>mean</th>\n",
              "      <td>91.269819</td>\n",
              "      <td>92.940890</td>\n",
              "      <td>2039.460766</td>\n",
              "    </tr>\n",
              "    <tr>\n",
              "      <th>std</th>\n",
              "      <td>96.944304</td>\n",
              "      <td>198.883579</td>\n",
              "      <td>8909.797773</td>\n",
              "    </tr>\n",
              "    <tr>\n",
              "      <th>min</th>\n",
              "      <td>1.000000</td>\n",
              "      <td>1.000000</td>\n",
              "      <td>0.000000</td>\n",
              "    </tr>\n",
              "    <tr>\n",
              "      <th>25%</th>\n",
              "      <td>18.000000</td>\n",
              "      <td>18.000000</td>\n",
              "      <td>307.105000</td>\n",
              "    </tr>\n",
              "    <tr>\n",
              "      <th>50%</th>\n",
              "      <td>53.000000</td>\n",
              "      <td>43.000000</td>\n",
              "      <td>700.405000</td>\n",
              "    </tr>\n",
              "    <tr>\n",
              "      <th>75%</th>\n",
              "      <td>136.000000</td>\n",
              "      <td>100.000000</td>\n",
              "      <td>1713.297500</td>\n",
              "    </tr>\n",
              "    <tr>\n",
              "      <th>max</th>\n",
              "      <td>374.000000</td>\n",
              "      <td>5568.000000</td>\n",
              "      <td>349164.350000</td>\n",
              "    </tr>\n",
              "  </tbody>\n",
              "</table>\n",
              "</div>"
            ],
            "text/plain": [
              "           Recency    Frequency  MonetaryValue\n",
              "count  4314.000000  4314.000000    4314.000000\n",
              "mean     91.269819    92.940890    2039.460766\n",
              "std      96.944304   198.883579    8909.797773\n",
              "min       1.000000     1.000000       0.000000\n",
              "25%      18.000000    18.000000     307.105000\n",
              "50%      53.000000    43.000000     700.405000\n",
              "75%     136.000000   100.000000    1713.297500\n",
              "max     374.000000  5568.000000  349164.350000"
            ]
          },
          "metadata": {},
          "execution_count": 71
        }
      ]
    },
    {
      "cell_type": "markdown",
      "metadata": {
        "id": "QP3sv4B7uz5S"
      },
      "source": [
        "* To calculate R score, we divide customers into 3 segments.\n",
        "  1. If recency <= 60, that means the customer is a recent one. \n",
        "     So, R = 3.\n",
        "  2. If recency > 60 and recency <= 120 then R = 2.\n",
        "  3. Otherwise R = 1\n",
        "\n"
      ]
    },
    {
      "cell_type": "code",
      "metadata": {
        "id": "d6h6dV9FHvOQ"
      },
      "source": [
        "def R_Score(x):\n",
        "  if (x['Recency'] <= 60):\n",
        "    recency = 3\n",
        "  elif (x['Recency'] > 60 and x['Recency'] <=120):\n",
        "    recency = 2\n",
        "  else:\n",
        "    recency = 1\n",
        "  return recency\n",
        "\n",
        "customers['R'] = customers.apply(R_Score, axis=1)"
      ],
      "execution_count": 72,
      "outputs": []
    },
    {
      "cell_type": "markdown",
      "metadata": {
        "id": "d3QmfQDKw3bu"
      },
      "source": [
        "* To calculate F score, we divide customers into 3 segments.\n",
        "  1. If Frequency <= 1856, that means the customer purchases less frequently. \n",
        "     So, F = 1.\n",
        "  2. If frequency lies between 1856-3712 then F = 2.\n",
        "  3. Otherwise F = 3, i.e. customers purchases very frequently."
      ]
    },
    {
      "cell_type": "code",
      "metadata": {
        "id": "_Apntk93IXmN"
      },
      "source": [
        "def F_Score(x):\n",
        "  if (x['Frequency'] <= 1856):\n",
        "    frequency = 1\n",
        "  elif (x['Frequency'] > 1856 and x['Frequency'] <= 3712):\n",
        "    frequency = 2\n",
        "  else:\n",
        "    frequency = 3\n",
        "  return frequency\n",
        "\n",
        "customers['F'] = customers.apply(F_Score,axis=1)"
      ],
      "execution_count": 73,
      "outputs": []
    },
    {
      "cell_type": "markdown",
      "metadata": {
        "id": "rl3phuBiyITO"
      },
      "source": [
        "* To calculate M score, we divide customers into 3 segments.\n",
        "  1. If MonetaryValue <= 50000, that means the customer does not spend much.\n",
        "     So, M = 1.\n",
        "  2. If MonetaryValue lies between 50000 - 100000 then M = 2.\n",
        "  3. Otherwise M = 3, i.e. customers spends a lot."
      ]
    },
    {
      "cell_type": "code",
      "metadata": {
        "id": "K6ZJGdm4IZVH"
      },
      "source": [
        "def M_Score(x):\n",
        "  if (x['MonetaryValue'] <= 50000):\n",
        "    mv = 1\n",
        "  elif (x['MonetaryValue'] > 50000 and x['MonetaryValue'] <= 100000):\n",
        "    mv = 2\n",
        "  else:\n",
        "    mv = 3\n",
        "  return mv\n",
        "\n",
        "customers['M'] = customers.apply(M_Score,axis=1)"
      ],
      "execution_count": 74,
      "outputs": []
    },
    {
      "cell_type": "code",
      "metadata": {
        "colab": {
          "base_uri": "https://localhost:8080/",
          "height": 234
        },
        "id": "uUOWvnMyJPMu",
        "outputId": "16800383-f303-4716-8fb6-b4911072eccd"
      },
      "source": [
        "customers.head()"
      ],
      "execution_count": 75,
      "outputs": [
        {
          "output_type": "execute_result",
          "data": {
            "text/html": [
              "<div>\n",
              "<style scoped>\n",
              "    .dataframe tbody tr th:only-of-type {\n",
              "        vertical-align: middle;\n",
              "    }\n",
              "\n",
              "    .dataframe tbody tr th {\n",
              "        vertical-align: top;\n",
              "    }\n",
              "\n",
              "    .dataframe thead th {\n",
              "        text-align: right;\n",
              "    }\n",
              "</style>\n",
              "<table border=\"1\" class=\"dataframe\">\n",
              "  <thead>\n",
              "    <tr style=\"text-align: right;\">\n",
              "      <th></th>\n",
              "      <th>Recency</th>\n",
              "      <th>Frequency</th>\n",
              "      <th>MonetaryValue</th>\n",
              "      <th>R</th>\n",
              "      <th>F</th>\n",
              "      <th>M</th>\n",
              "    </tr>\n",
              "    <tr>\n",
              "      <th>Customer ID</th>\n",
              "      <th></th>\n",
              "      <th></th>\n",
              "      <th></th>\n",
              "      <th></th>\n",
              "      <th></th>\n",
              "      <th></th>\n",
              "    </tr>\n",
              "  </thead>\n",
              "  <tbody>\n",
              "    <tr>\n",
              "      <th>12346.0</th>\n",
              "      <td>165</td>\n",
              "      <td>33</td>\n",
              "      <td>372.86</td>\n",
              "      <td>1</td>\n",
              "      <td>1</td>\n",
              "      <td>1</td>\n",
              "    </tr>\n",
              "    <tr>\n",
              "      <th>12347.0</th>\n",
              "      <td>3</td>\n",
              "      <td>71</td>\n",
              "      <td>1323.32</td>\n",
              "      <td>3</td>\n",
              "      <td>1</td>\n",
              "      <td>1</td>\n",
              "    </tr>\n",
              "    <tr>\n",
              "      <th>12348.0</th>\n",
              "      <td>74</td>\n",
              "      <td>20</td>\n",
              "      <td>222.16</td>\n",
              "      <td>2</td>\n",
              "      <td>1</td>\n",
              "      <td>1</td>\n",
              "    </tr>\n",
              "    <tr>\n",
              "      <th>12349.0</th>\n",
              "      <td>43</td>\n",
              "      <td>102</td>\n",
              "      <td>2671.14</td>\n",
              "      <td>3</td>\n",
              "      <td>1</td>\n",
              "      <td>1</td>\n",
              "    </tr>\n",
              "    <tr>\n",
              "      <th>12351.0</th>\n",
              "      <td>11</td>\n",
              "      <td>21</td>\n",
              "      <td>300.93</td>\n",
              "      <td>3</td>\n",
              "      <td>1</td>\n",
              "      <td>1</td>\n",
              "    </tr>\n",
              "  </tbody>\n",
              "</table>\n",
              "</div>"
            ],
            "text/plain": [
              "             Recency  Frequency  MonetaryValue  R  F  M\n",
              "Customer ID                                            \n",
              "12346.0          165         33         372.86  1  1  1\n",
              "12347.0            3         71        1323.32  3  1  1\n",
              "12348.0           74         20         222.16  2  1  1\n",
              "12349.0           43        102        2671.14  3  1  1\n",
              "12351.0           11         21         300.93  3  1  1"
            ]
          },
          "metadata": {},
          "execution_count": 75
        }
      ]
    },
    {
      "cell_type": "markdown",
      "metadata": {
        "id": "7wxdzL9lNqLc"
      },
      "source": [
        "* Calculate the RFM score by combining all three values of R, F and M."
      ]
    },
    {
      "cell_type": "code",
      "metadata": {
        "id": "19_1GmSAJ3Cx"
      },
      "source": [
        "def RFM_Score(x):\n",
        "  return (str(x['R']) + str(x['F']) + str(x['M']))\n",
        "customers['RFM_Score'] = customers.apply(RFM_Score,axis=1)"
      ],
      "execution_count": 77,
      "outputs": []
    },
    {
      "cell_type": "code",
      "metadata": {
        "colab": {
          "base_uri": "https://localhost:8080/",
          "height": 234
        },
        "id": "Xy-p3V_CKCZz",
        "outputId": "60a92230-5f3e-4b11-c7c7-516b06010b52"
      },
      "source": [
        "customers.head()"
      ],
      "execution_count": 78,
      "outputs": [
        {
          "output_type": "execute_result",
          "data": {
            "text/html": [
              "<div>\n",
              "<style scoped>\n",
              "    .dataframe tbody tr th:only-of-type {\n",
              "        vertical-align: middle;\n",
              "    }\n",
              "\n",
              "    .dataframe tbody tr th {\n",
              "        vertical-align: top;\n",
              "    }\n",
              "\n",
              "    .dataframe thead th {\n",
              "        text-align: right;\n",
              "    }\n",
              "</style>\n",
              "<table border=\"1\" class=\"dataframe\">\n",
              "  <thead>\n",
              "    <tr style=\"text-align: right;\">\n",
              "      <th></th>\n",
              "      <th>Recency</th>\n",
              "      <th>Frequency</th>\n",
              "      <th>MonetaryValue</th>\n",
              "      <th>R</th>\n",
              "      <th>F</th>\n",
              "      <th>M</th>\n",
              "      <th>RFM_Score</th>\n",
              "    </tr>\n",
              "    <tr>\n",
              "      <th>Customer ID</th>\n",
              "      <th></th>\n",
              "      <th></th>\n",
              "      <th></th>\n",
              "      <th></th>\n",
              "      <th></th>\n",
              "      <th></th>\n",
              "      <th></th>\n",
              "    </tr>\n",
              "  </thead>\n",
              "  <tbody>\n",
              "    <tr>\n",
              "      <th>12346.0</th>\n",
              "      <td>165</td>\n",
              "      <td>33</td>\n",
              "      <td>372.86</td>\n",
              "      <td>1</td>\n",
              "      <td>1</td>\n",
              "      <td>1</td>\n",
              "      <td>111</td>\n",
              "    </tr>\n",
              "    <tr>\n",
              "      <th>12347.0</th>\n",
              "      <td>3</td>\n",
              "      <td>71</td>\n",
              "      <td>1323.32</td>\n",
              "      <td>3</td>\n",
              "      <td>1</td>\n",
              "      <td>1</td>\n",
              "      <td>311</td>\n",
              "    </tr>\n",
              "    <tr>\n",
              "      <th>12348.0</th>\n",
              "      <td>74</td>\n",
              "      <td>20</td>\n",
              "      <td>222.16</td>\n",
              "      <td>2</td>\n",
              "      <td>1</td>\n",
              "      <td>1</td>\n",
              "      <td>211</td>\n",
              "    </tr>\n",
              "    <tr>\n",
              "      <th>12349.0</th>\n",
              "      <td>43</td>\n",
              "      <td>102</td>\n",
              "      <td>2671.14</td>\n",
              "      <td>3</td>\n",
              "      <td>1</td>\n",
              "      <td>1</td>\n",
              "      <td>311</td>\n",
              "    </tr>\n",
              "    <tr>\n",
              "      <th>12351.0</th>\n",
              "      <td>11</td>\n",
              "      <td>21</td>\n",
              "      <td>300.93</td>\n",
              "      <td>3</td>\n",
              "      <td>1</td>\n",
              "      <td>1</td>\n",
              "      <td>311</td>\n",
              "    </tr>\n",
              "  </tbody>\n",
              "</table>\n",
              "</div>"
            ],
            "text/plain": [
              "             Recency  Frequency  MonetaryValue  R  F  M RFM_Score\n",
              "Customer ID                                                      \n",
              "12346.0          165         33         372.86  1  1  1       111\n",
              "12347.0            3         71        1323.32  3  1  1       311\n",
              "12348.0           74         20         222.16  2  1  1       211\n",
              "12349.0           43        102        2671.14  3  1  1       311\n",
              "12351.0           11         21         300.93  3  1  1       311"
            ]
          },
          "metadata": {},
          "execution_count": 78
        }
      ]
    },
    {
      "cell_type": "markdown",
      "metadata": {
        "id": "PToEJ7Z-NxaV"
      },
      "source": [
        "* Reset index of customers dataframe."
      ]
    },
    {
      "cell_type": "code",
      "metadata": {
        "id": "rF9sbqvALneA"
      },
      "source": [
        "customers.reset_index(inplace = True)"
      ],
      "execution_count": 79,
      "outputs": []
    },
    {
      "cell_type": "code",
      "metadata": {
        "colab": {
          "base_uri": "https://localhost:8080/",
          "height": 203
        },
        "id": "Z0PAQRcbLrlt",
        "outputId": "e473e5c2-5b44-434b-9c16-0a3971fd1cad"
      },
      "source": [
        "customers.head()"
      ],
      "execution_count": 80,
      "outputs": [
        {
          "output_type": "execute_result",
          "data": {
            "text/html": [
              "<div>\n",
              "<style scoped>\n",
              "    .dataframe tbody tr th:only-of-type {\n",
              "        vertical-align: middle;\n",
              "    }\n",
              "\n",
              "    .dataframe tbody tr th {\n",
              "        vertical-align: top;\n",
              "    }\n",
              "\n",
              "    .dataframe thead th {\n",
              "        text-align: right;\n",
              "    }\n",
              "</style>\n",
              "<table border=\"1\" class=\"dataframe\">\n",
              "  <thead>\n",
              "    <tr style=\"text-align: right;\">\n",
              "      <th></th>\n",
              "      <th>Customer ID</th>\n",
              "      <th>Recency</th>\n",
              "      <th>Frequency</th>\n",
              "      <th>MonetaryValue</th>\n",
              "      <th>R</th>\n",
              "      <th>F</th>\n",
              "      <th>M</th>\n",
              "      <th>RFM_Score</th>\n",
              "    </tr>\n",
              "  </thead>\n",
              "  <tbody>\n",
              "    <tr>\n",
              "      <th>0</th>\n",
              "      <td>12346.0</td>\n",
              "      <td>165</td>\n",
              "      <td>33</td>\n",
              "      <td>372.86</td>\n",
              "      <td>1</td>\n",
              "      <td>1</td>\n",
              "      <td>1</td>\n",
              "      <td>111</td>\n",
              "    </tr>\n",
              "    <tr>\n",
              "      <th>1</th>\n",
              "      <td>12347.0</td>\n",
              "      <td>3</td>\n",
              "      <td>71</td>\n",
              "      <td>1323.32</td>\n",
              "      <td>3</td>\n",
              "      <td>1</td>\n",
              "      <td>1</td>\n",
              "      <td>311</td>\n",
              "    </tr>\n",
              "    <tr>\n",
              "      <th>2</th>\n",
              "      <td>12348.0</td>\n",
              "      <td>74</td>\n",
              "      <td>20</td>\n",
              "      <td>222.16</td>\n",
              "      <td>2</td>\n",
              "      <td>1</td>\n",
              "      <td>1</td>\n",
              "      <td>211</td>\n",
              "    </tr>\n",
              "    <tr>\n",
              "      <th>3</th>\n",
              "      <td>12349.0</td>\n",
              "      <td>43</td>\n",
              "      <td>102</td>\n",
              "      <td>2671.14</td>\n",
              "      <td>3</td>\n",
              "      <td>1</td>\n",
              "      <td>1</td>\n",
              "      <td>311</td>\n",
              "    </tr>\n",
              "    <tr>\n",
              "      <th>4</th>\n",
              "      <td>12351.0</td>\n",
              "      <td>11</td>\n",
              "      <td>21</td>\n",
              "      <td>300.93</td>\n",
              "      <td>3</td>\n",
              "      <td>1</td>\n",
              "      <td>1</td>\n",
              "      <td>311</td>\n",
              "    </tr>\n",
              "  </tbody>\n",
              "</table>\n",
              "</div>"
            ],
            "text/plain": [
              "   Customer ID  Recency  Frequency  MonetaryValue  R  F  M RFM_Score\n",
              "0      12346.0      165         33         372.86  1  1  1       111\n",
              "1      12347.0        3         71        1323.32  3  1  1       311\n",
              "2      12348.0       74         20         222.16  2  1  1       211\n",
              "3      12349.0       43        102        2671.14  3  1  1       311\n",
              "4      12351.0       11         21         300.93  3  1  1       311"
            ]
          },
          "metadata": {},
          "execution_count": 80
        }
      ]
    },
    {
      "cell_type": "markdown",
      "metadata": {
        "id": "im-qNP2MKOHb"
      },
      "source": [
        "#### Segmentation Categories\n",
        "  1. **Lost Cheap Customers**- Haven't purchased from a long time, doesn't purchase frequently and spend less.\n",
        "  2. **Lost Big Customers** - Haven't purchased from a long time, but purchased frequently and spent good in past.\n",
        "  3. **Almost Lost Big Customers** - Haven't purchased from some time, purchased frequently and spent huge in the past.\n",
        "  4. **Best Customers** - Purchased most recently, most often and spend most.\n",
        "  5. **Loyal Customers** - Purchase more frequently.\n",
        "  6. **Big Spenders** - Customers who spend the most. \n",
        "  7. **Others**\n",
        "\n",
        "#### Value of R,F,M and its interpretation\n",
        "* R = 3,2,1 (Most recent, recent, purchased long time back)\n",
        "* F = 3,2,1 (Most frequent, frequent, very low frequency)\n",
        "* M = 3,2,1 (Most spend, Good Spend, Low Spend/cheap)"
      ]
    },
    {
      "cell_type": "code",
      "metadata": {
        "id": "pKimMp7tkKhY"
      },
      "source": [
        "segment = [0] * len(customers)\n",
        "\n",
        "for i in range(0,len(customers)):\n",
        "  if customers['RFM_Score'][i]=='111':\n",
        "    segment[i]='Lost Cheap Customers'\n",
        "  elif (customers['RFM_Score'][i]=='133'  or customers['RFM_Score'][i] == '122' or customers['RFM_Score'][i] == '132' or customers['RFM_Score'][i] == '123'):\n",
        "    segment[i]='Lost Big Customers'\n",
        "  elif (customers['RFM_Score'][i]=='233' or customers['RFM_Score'][i]=='223'):\n",
        "    segment[i]='Almost Lost Big Customers'\n",
        "  elif (customers['RFM_Score'][i]=='333' or customers['RFM_Score'][i] == '323') :\n",
        "    segment[i]='Best Customers'\n",
        "  elif(customers['R'][i] == 1 and customers['M'][i] == 1 and customers['F'][i] == 2 or customers['F'][i] == 3):\n",
        "    segment[i] = 'Loyal Customers'\n",
        "  elif((customers['R'][i] == 1 or customers['R'][i] == 2) and (customers['F'][i] == 1 or customers['F'][i] == 2) and customers['M'][i] == 3): \n",
        "    segment[i] = 'Big Spenders'  \n",
        "  else:\n",
        "    segment[i] = 'Others'"
      ],
      "execution_count": 89,
      "outputs": []
    },
    {
      "cell_type": "code",
      "metadata": {
        "id": "jRWU8dTSLbvZ"
      },
      "source": [
        "customers['Segment'] = segment"
      ],
      "execution_count": 91,
      "outputs": []
    },
    {
      "cell_type": "code",
      "metadata": {
        "colab": {
          "base_uri": "https://localhost:8080/",
          "height": 203
        },
        "id": "nCHs3nBpj0mJ",
        "outputId": "90e94e00-593f-4c8b-d619-7743f7c40baf"
      },
      "source": [
        "customers.head()"
      ],
      "execution_count": 92,
      "outputs": [
        {
          "output_type": "execute_result",
          "data": {
            "text/html": [
              "<div>\n",
              "<style scoped>\n",
              "    .dataframe tbody tr th:only-of-type {\n",
              "        vertical-align: middle;\n",
              "    }\n",
              "\n",
              "    .dataframe tbody tr th {\n",
              "        vertical-align: top;\n",
              "    }\n",
              "\n",
              "    .dataframe thead th {\n",
              "        text-align: right;\n",
              "    }\n",
              "</style>\n",
              "<table border=\"1\" class=\"dataframe\">\n",
              "  <thead>\n",
              "    <tr style=\"text-align: right;\">\n",
              "      <th></th>\n",
              "      <th>Customer ID</th>\n",
              "      <th>Recency</th>\n",
              "      <th>Frequency</th>\n",
              "      <th>MonetaryValue</th>\n",
              "      <th>R</th>\n",
              "      <th>F</th>\n",
              "      <th>M</th>\n",
              "      <th>RFM_Score</th>\n",
              "      <th>Segment</th>\n",
              "    </tr>\n",
              "  </thead>\n",
              "  <tbody>\n",
              "    <tr>\n",
              "      <th>0</th>\n",
              "      <td>12346.0</td>\n",
              "      <td>165</td>\n",
              "      <td>33</td>\n",
              "      <td>372.86</td>\n",
              "      <td>1</td>\n",
              "      <td>1</td>\n",
              "      <td>1</td>\n",
              "      <td>111</td>\n",
              "      <td>Lost Cheap Customers</td>\n",
              "    </tr>\n",
              "    <tr>\n",
              "      <th>1</th>\n",
              "      <td>12347.0</td>\n",
              "      <td>3</td>\n",
              "      <td>71</td>\n",
              "      <td>1323.32</td>\n",
              "      <td>3</td>\n",
              "      <td>1</td>\n",
              "      <td>1</td>\n",
              "      <td>311</td>\n",
              "      <td>Others</td>\n",
              "    </tr>\n",
              "    <tr>\n",
              "      <th>2</th>\n",
              "      <td>12348.0</td>\n",
              "      <td>74</td>\n",
              "      <td>20</td>\n",
              "      <td>222.16</td>\n",
              "      <td>2</td>\n",
              "      <td>1</td>\n",
              "      <td>1</td>\n",
              "      <td>211</td>\n",
              "      <td>Others</td>\n",
              "    </tr>\n",
              "    <tr>\n",
              "      <th>3</th>\n",
              "      <td>12349.0</td>\n",
              "      <td>43</td>\n",
              "      <td>102</td>\n",
              "      <td>2671.14</td>\n",
              "      <td>3</td>\n",
              "      <td>1</td>\n",
              "      <td>1</td>\n",
              "      <td>311</td>\n",
              "      <td>Others</td>\n",
              "    </tr>\n",
              "    <tr>\n",
              "      <th>4</th>\n",
              "      <td>12351.0</td>\n",
              "      <td>11</td>\n",
              "      <td>21</td>\n",
              "      <td>300.93</td>\n",
              "      <td>3</td>\n",
              "      <td>1</td>\n",
              "      <td>1</td>\n",
              "      <td>311</td>\n",
              "      <td>Others</td>\n",
              "    </tr>\n",
              "  </tbody>\n",
              "</table>\n",
              "</div>"
            ],
            "text/plain": [
              "   Customer ID  Recency  Frequency  ...  M  RFM_Score               Segment\n",
              "0      12346.0      165         33  ...  1        111  Lost Cheap Customers\n",
              "1      12347.0        3         71  ...  1        311                Others\n",
              "2      12348.0       74         20  ...  1        211                Others\n",
              "3      12349.0       43        102  ...  1        311                Others\n",
              "4      12351.0       11         21  ...  1        311                Others\n",
              "\n",
              "[5 rows x 9 columns]"
            ]
          },
          "metadata": {},
          "execution_count": 92
        }
      ]
    },
    {
      "cell_type": "code",
      "metadata": {
        "colab": {
          "base_uri": "https://localhost:8080/"
        },
        "id": "FIayzc89L7yQ",
        "outputId": "3d77f8d9-d012-4d7e-ebb9-36783752b4ea"
      },
      "source": [
        "customers.Segment.value_counts()"
      ],
      "execution_count": 93,
      "outputs": [
        {
          "output_type": "execute_result",
          "data": {
            "text/plain": [
              "Others                  3134\n",
              "Lost Cheap Customers    1176\n",
              "Loyal Customers            2\n",
              "Best Customers             2\n",
              "Name: Segment, dtype: int64"
            ]
          },
          "metadata": {},
          "execution_count": 93
        }
      ]
    },
    {
      "cell_type": "markdown",
      "metadata": {
        "id": "JdAsqWI--ctN"
      },
      "source": [
        "We got the above segments present in our dataset."
      ]
    },
    {
      "cell_type": "code",
      "metadata": {
        "id": "yU2FRAMZL-j-"
      },
      "source": [
        ""
      ],
      "execution_count": null,
      "outputs": []
    }
  ]
}