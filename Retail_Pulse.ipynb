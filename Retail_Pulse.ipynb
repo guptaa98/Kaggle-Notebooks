{
  "nbformat": 4,
  "nbformat_minor": 0,
  "metadata": {
    "colab": {
      "name": "Retail_Pulse.ipynb",
      "provenance": [],
      "collapsed_sections": [],
      "authorship_tag": "ABX9TyOat1JKTLCwF34hD5RjKIf2",
      "include_colab_link": true
    },
    "kernelspec": {
      "name": "python3",
      "display_name": "Python 3"
    },
    "language_info": {
      "name": "python"
    }
  },
  "cells": [
    {
      "cell_type": "markdown",
      "metadata": {
        "id": "view-in-github",
        "colab_type": "text"
      },
      "source": [
        "<a href=\"https://colab.research.google.com/github/guptaa98/Kaggle-Notebooks/blob/master/Retail_Pulse.ipynb\" target=\"_parent\"><img src=\"https://colab.research.google.com/assets/colab-badge.svg\" alt=\"Open In Colab\"/></a>"
      ]
    },
    {
      "cell_type": "code",
      "metadata": {
        "colab": {
          "base_uri": "https://localhost:8080/"
        },
        "id": "59DynLnOCO5n",
        "outputId": "7239b75c-7f0c-46ae-dd97-9eaa6d045872"
      },
      "source": [
        "from google.colab import drive, files\n",
        "drive.mount('/content/drive/')"
      ],
      "execution_count": null,
      "outputs": [
        {
          "output_type": "stream",
          "name": "stdout",
          "text": [
            "Drive already mounted at /content/drive/; to attempt to forcibly remount, call drive.mount(\"/content/drive/\", force_remount=True).\n"
          ]
        }
      ]
    },
    {
      "cell_type": "code",
      "metadata": {
        "id": "Me7-R7dQCqQW"
      },
      "source": [
        "import pandas as pd\n",
        "import numpy as np\n",
        "import matplotlib.pyplot as plt\n",
        "import seaborn as sns\n",
        "import warnings\n",
        "warnings.filterwarnings(\"ignore\")"
      ],
      "execution_count": null,
      "outputs": []
    },
    {
      "cell_type": "code",
      "metadata": {
        "id": "k84Cy1HEC1V9"
      },
      "source": [
        "df = pd.read_excel('/content/drive/MyDrive/RetailPulseAssignmentData.xlsx', \n",
        "                 parse_dates=True)"
      ],
      "execution_count": null,
      "outputs": []
    },
    {
      "cell_type": "markdown",
      "metadata": {
        "id": "eAUWpnMlPwUO"
      },
      "source": [
        "# 1. Reading the data"
      ]
    },
    {
      "cell_type": "code",
      "metadata": {
        "colab": {
          "base_uri": "https://localhost:8080/",
          "height": 203
        },
        "id": "fugK3TubC2QB",
        "outputId": "439d19b3-9805-4457-b63f-943bdf46f185"
      },
      "source": [
        "df.head()"
      ],
      "execution_count": null,
      "outputs": [
        {
          "output_type": "execute_result",
          "data": {
            "text/html": [
              "<div>\n",
              "<style scoped>\n",
              "    .dataframe tbody tr th:only-of-type {\n",
              "        vertical-align: middle;\n",
              "    }\n",
              "\n",
              "    .dataframe tbody tr th {\n",
              "        vertical-align: top;\n",
              "    }\n",
              "\n",
              "    .dataframe thead th {\n",
              "        text-align: right;\n",
              "    }\n",
              "</style>\n",
              "<table border=\"1\" class=\"dataframe\">\n",
              "  <thead>\n",
              "    <tr style=\"text-align: right;\">\n",
              "      <th></th>\n",
              "      <th>Invoice</th>\n",
              "      <th>StockCode</th>\n",
              "      <th>Description</th>\n",
              "      <th>Quantity</th>\n",
              "      <th>InvoiceDate</th>\n",
              "      <th>Price</th>\n",
              "      <th>Customer ID</th>\n",
              "      <th>Country</th>\n",
              "    </tr>\n",
              "  </thead>\n",
              "  <tbody>\n",
              "    <tr>\n",
              "      <th>0</th>\n",
              "      <td>489434</td>\n",
              "      <td>85048</td>\n",
              "      <td>15CM CHRISTMAS GLASS BALL 20 LIGHTS</td>\n",
              "      <td>12</td>\n",
              "      <td>2009-12-01 07:45:00</td>\n",
              "      <td>6.95</td>\n",
              "      <td>13085.0</td>\n",
              "      <td>United Kingdom</td>\n",
              "    </tr>\n",
              "    <tr>\n",
              "      <th>1</th>\n",
              "      <td>489434</td>\n",
              "      <td>79323P</td>\n",
              "      <td>PINK CHERRY LIGHTS</td>\n",
              "      <td>12</td>\n",
              "      <td>2009-12-01 07:45:00</td>\n",
              "      <td>6.75</td>\n",
              "      <td>13085.0</td>\n",
              "      <td>United Kingdom</td>\n",
              "    </tr>\n",
              "    <tr>\n",
              "      <th>2</th>\n",
              "      <td>489434</td>\n",
              "      <td>79323W</td>\n",
              "      <td>WHITE CHERRY LIGHTS</td>\n",
              "      <td>12</td>\n",
              "      <td>2009-12-01 07:45:00</td>\n",
              "      <td>6.75</td>\n",
              "      <td>13085.0</td>\n",
              "      <td>United Kingdom</td>\n",
              "    </tr>\n",
              "    <tr>\n",
              "      <th>3</th>\n",
              "      <td>489434</td>\n",
              "      <td>22041</td>\n",
              "      <td>RECORD FRAME 7\" SINGLE SIZE</td>\n",
              "      <td>48</td>\n",
              "      <td>2009-12-01 07:45:00</td>\n",
              "      <td>2.10</td>\n",
              "      <td>13085.0</td>\n",
              "      <td>United Kingdom</td>\n",
              "    </tr>\n",
              "    <tr>\n",
              "      <th>4</th>\n",
              "      <td>489434</td>\n",
              "      <td>21232</td>\n",
              "      <td>STRAWBERRY CERAMIC TRINKET BOX</td>\n",
              "      <td>24</td>\n",
              "      <td>2009-12-01 07:45:00</td>\n",
              "      <td>1.25</td>\n",
              "      <td>13085.0</td>\n",
              "      <td>United Kingdom</td>\n",
              "    </tr>\n",
              "  </tbody>\n",
              "</table>\n",
              "</div>"
            ],
            "text/plain": [
              "  Invoice StockCode  ... Customer ID         Country\n",
              "0  489434     85048  ...     13085.0  United Kingdom\n",
              "1  489434    79323P  ...     13085.0  United Kingdom\n",
              "2  489434    79323W  ...     13085.0  United Kingdom\n",
              "3  489434     22041  ...     13085.0  United Kingdom\n",
              "4  489434     21232  ...     13085.0  United Kingdom\n",
              "\n",
              "[5 rows x 8 columns]"
            ]
          },
          "metadata": {},
          "execution_count": 318
        }
      ]
    },
    {
      "cell_type": "markdown",
      "metadata": {
        "id": "VsAFIi_sPz3L"
      },
      "source": [
        "## 1.1 Reading basic stats of data"
      ]
    },
    {
      "cell_type": "code",
      "metadata": {
        "colab": {
          "base_uri": "https://localhost:8080/"
        },
        "id": "2KnyK_luC2XS",
        "outputId": "f110b4ee-4c08-4dcb-c088-025a7a9875e6"
      },
      "source": [
        "df.shape"
      ],
      "execution_count": null,
      "outputs": [
        {
          "output_type": "execute_result",
          "data": {
            "text/plain": [
              "(525461, 8)"
            ]
          },
          "metadata": {},
          "execution_count": 319
        }
      ]
    },
    {
      "cell_type": "code",
      "metadata": {
        "colab": {
          "base_uri": "https://localhost:8080/"
        },
        "id": "uJG_ZeymC2hq",
        "outputId": "654e76fe-05be-47cb-ffc3-3a02a98f784f"
      },
      "source": [
        "df.info()"
      ],
      "execution_count": null,
      "outputs": [
        {
          "output_type": "stream",
          "name": "stdout",
          "text": [
            "<class 'pandas.core.frame.DataFrame'>\n",
            "RangeIndex: 525461 entries, 0 to 525460\n",
            "Data columns (total 8 columns):\n",
            " #   Column       Non-Null Count   Dtype         \n",
            "---  ------       --------------   -----         \n",
            " 0   Invoice      525461 non-null  object        \n",
            " 1   StockCode    525461 non-null  object        \n",
            " 2   Description  522533 non-null  object        \n",
            " 3   Quantity     525461 non-null  int64         \n",
            " 4   InvoiceDate  525461 non-null  datetime64[ns]\n",
            " 5   Price        525461 non-null  float64       \n",
            " 6   Customer ID  417534 non-null  float64       \n",
            " 7   Country      525461 non-null  object        \n",
            "dtypes: datetime64[ns](1), float64(2), int64(1), object(4)\n",
            "memory usage: 32.1+ MB\n"
          ]
        }
      ]
    },
    {
      "cell_type": "code",
      "metadata": {
        "colab": {
          "base_uri": "https://localhost:8080/"
        },
        "id": "YLL7If7FDmwM",
        "outputId": "3330604d-60cd-4748-f97e-65004ff6d83f"
      },
      "source": [
        "df.columns"
      ],
      "execution_count": null,
      "outputs": [
        {
          "output_type": "execute_result",
          "data": {
            "text/plain": [
              "Index(['Invoice', 'StockCode', 'Description', 'Quantity', 'InvoiceDate',\n",
              "       'Price', 'Customer ID', 'Country'],\n",
              "      dtype='object')"
            ]
          },
          "metadata": {},
          "execution_count": 321
        }
      ]
    },
    {
      "cell_type": "code",
      "metadata": {
        "colab": {
          "base_uri": "https://localhost:8080/",
          "height": 295
        },
        "id": "jtHaZsoNRFDG",
        "outputId": "5fd967bb-9133-4692-ec6a-9c8af54b673c"
      },
      "source": [
        "df.describe()"
      ],
      "execution_count": null,
      "outputs": [
        {
          "output_type": "execute_result",
          "data": {
            "text/html": [
              "<div>\n",
              "<style scoped>\n",
              "    .dataframe tbody tr th:only-of-type {\n",
              "        vertical-align: middle;\n",
              "    }\n",
              "\n",
              "    .dataframe tbody tr th {\n",
              "        vertical-align: top;\n",
              "    }\n",
              "\n",
              "    .dataframe thead th {\n",
              "        text-align: right;\n",
              "    }\n",
              "</style>\n",
              "<table border=\"1\" class=\"dataframe\">\n",
              "  <thead>\n",
              "    <tr style=\"text-align: right;\">\n",
              "      <th></th>\n",
              "      <th>Quantity</th>\n",
              "      <th>Price</th>\n",
              "      <th>Customer ID</th>\n",
              "    </tr>\n",
              "  </thead>\n",
              "  <tbody>\n",
              "    <tr>\n",
              "      <th>count</th>\n",
              "      <td>525461.000000</td>\n",
              "      <td>525461.000000</td>\n",
              "      <td>417534.000000</td>\n",
              "    </tr>\n",
              "    <tr>\n",
              "      <th>mean</th>\n",
              "      <td>10.337667</td>\n",
              "      <td>4.688834</td>\n",
              "      <td>15360.645478</td>\n",
              "    </tr>\n",
              "    <tr>\n",
              "      <th>std</th>\n",
              "      <td>107.424110</td>\n",
              "      <td>146.126914</td>\n",
              "      <td>1680.811316</td>\n",
              "    </tr>\n",
              "    <tr>\n",
              "      <th>min</th>\n",
              "      <td>-9600.000000</td>\n",
              "      <td>-53594.360000</td>\n",
              "      <td>12346.000000</td>\n",
              "    </tr>\n",
              "    <tr>\n",
              "      <th>25%</th>\n",
              "      <td>1.000000</td>\n",
              "      <td>1.250000</td>\n",
              "      <td>13983.000000</td>\n",
              "    </tr>\n",
              "    <tr>\n",
              "      <th>50%</th>\n",
              "      <td>3.000000</td>\n",
              "      <td>2.100000</td>\n",
              "      <td>15311.000000</td>\n",
              "    </tr>\n",
              "    <tr>\n",
              "      <th>75%</th>\n",
              "      <td>10.000000</td>\n",
              "      <td>4.210000</td>\n",
              "      <td>16799.000000</td>\n",
              "    </tr>\n",
              "    <tr>\n",
              "      <th>max</th>\n",
              "      <td>19152.000000</td>\n",
              "      <td>25111.090000</td>\n",
              "      <td>18287.000000</td>\n",
              "    </tr>\n",
              "  </tbody>\n",
              "</table>\n",
              "</div>"
            ],
            "text/plain": [
              "            Quantity          Price    Customer ID\n",
              "count  525461.000000  525461.000000  417534.000000\n",
              "mean       10.337667       4.688834   15360.645478\n",
              "std       107.424110     146.126914    1680.811316\n",
              "min     -9600.000000  -53594.360000   12346.000000\n",
              "25%         1.000000       1.250000   13983.000000\n",
              "50%         3.000000       2.100000   15311.000000\n",
              "75%        10.000000       4.210000   16799.000000\n",
              "max     19152.000000   25111.090000   18287.000000"
            ]
          },
          "metadata": {},
          "execution_count": 322
        }
      ]
    },
    {
      "cell_type": "markdown",
      "metadata": {
        "id": "I8UEyRURRNRS"
      },
      "source": [
        "* We can see that Quantity and Price have negative values which is not possible in real life. \n",
        "* There is a possibility that these two features contains outliers."
      ]
    },
    {
      "cell_type": "markdown",
      "metadata": {
        "id": "V0eE6ShrQ3Ou"
      },
      "source": [
        "## 1.3 Checking for missing values"
      ]
    },
    {
      "cell_type": "code",
      "metadata": {
        "colab": {
          "base_uri": "https://localhost:8080/",
          "height": 420
        },
        "id": "SFI6YrTWC2cq",
        "outputId": "1c7369f8-49dd-4d30-d868-6012ae41b688"
      },
      "source": [
        "import missingno\n",
        "missingno.matrix(df, figsize=(10,5))"
      ],
      "execution_count": null,
      "outputs": [
        {
          "output_type": "execute_result",
          "data": {
            "text/plain": [
              "<matplotlib.axes._subplots.AxesSubplot at 0x7f67197f9050>"
            ]
          },
          "metadata": {},
          "execution_count": 323
        },
        {
          "output_type": "display_data",
          "data": {
            "image/png": "[encoded data removed]",
            "text/plain": [
              "<Figure size 720x360 with 2 Axes>"
            ]
          },
          "metadata": {
            "needs_background": "light"
          }
        }
      ]
    },
    {
      "cell_type": "markdown",
      "metadata": {
        "id": "rP4u4ni5Q8wG"
      },
      "source": [
        "We can see that Customer Id feature contains a lot of missing values."
      ]
    },
    {
      "cell_type": "markdown",
      "metadata": {
        "id": "MTW4iGBeUXPX"
      },
      "source": [
        "## 1.4 Check for duplicate records in dataframe"
      ]
    },
    {
      "cell_type": "code",
      "metadata": {
        "colab": {
          "base_uri": "https://localhost:8080/"
        },
        "id": "0i567ezNVFJC",
        "outputId": "4a8be3c1-86fb-4deb-f3b6-39119b07399b"
      },
      "source": [
        "df.duplicated().sum()"
      ],
      "execution_count": null,
      "outputs": [
        {
          "output_type": "execute_result",
          "data": {
            "text/plain": [
              "6865"
            ]
          },
          "metadata": {},
          "execution_count": 324
        }
      ]
    },
    {
      "cell_type": "markdown",
      "metadata": {
        "id": "QQ4NkeGIUcZu"
      },
      "source": [
        "* 6865 duplicate records \n",
        "* drop the duplicate records"
      ]
    },
    {
      "cell_type": "code",
      "metadata": {
        "colab": {
          "base_uri": "https://localhost:8080/"
        },
        "id": "Ew_Pd0RyUpml",
        "outputId": "5c4eb1ed-bb7f-4dce-b964-0e26731297df"
      },
      "source": [
        "print(df[df.duplicated()].head())"
      ],
      "execution_count": null,
      "outputs": [
        {
          "output_type": "stream",
          "name": "stdout",
          "text": [
            "    Invoice StockCode  ... Customer ID         Country\n",
            "371  489517     21912  ...     16329.0  United Kingdom\n",
            "383  489517     22130  ...     16329.0  United Kingdom\n",
            "384  489517     22319  ...     16329.0  United Kingdom\n",
            "385  489517     21913  ...     16329.0  United Kingdom\n",
            "386  489517     21821  ...     16329.0  United Kingdom\n",
            "\n",
            "[5 rows x 8 columns]\n"
          ]
        }
      ]
    },
    {
      "cell_type": "code",
      "metadata": {
        "id": "-Yqv1E6fU6VQ"
      },
      "source": [
        "df.drop_duplicates(inplace = True)"
      ],
      "execution_count": null,
      "outputs": []
    },
    {
      "cell_type": "code",
      "metadata": {
        "colab": {
          "base_uri": "https://localhost:8080/"
        },
        "id": "BDUxGousVThO",
        "outputId": "8d167bd8-7caf-4aad-a24d-e82c07266ea3"
      },
      "source": [
        "df.duplicated().sum()"
      ],
      "execution_count": null,
      "outputs": [
        {
          "output_type": "execute_result",
          "data": {
            "text/plain": [
              "0"
            ]
          },
          "metadata": {},
          "execution_count": 327
        }
      ]
    },
    {
      "cell_type": "markdown",
      "metadata": {
        "id": "ywsjzN2DVV8S"
      },
      "source": [
        "# 2. Univariate Analysis of every feature"
      ]
    },
    {
      "cell_type": "markdown",
      "metadata": {
        "id": "YmklM7gRY18L"
      },
      "source": [
        "### 2.1 Invoice "
      ]
    },
    {
      "cell_type": "code",
      "metadata": {
        "colab": {
          "base_uri": "https://localhost:8080/"
        },
        "id": "L5qXv3hHDtqp",
        "outputId": "1d754161-6f20-4197-9f70-e27817471852"
      },
      "source": [
        "df.Invoice.value_counts()"
      ],
      "execution_count": null,
      "outputs": [
        {
          "output_type": "execute_result",
          "data": {
            "text/plain": [
              "537434     675\n",
              "538071     652\n",
              "537638     601\n",
              "537237     597\n",
              "536876     593\n",
              "          ... \n",
              "505758       1\n",
              "505754       1\n",
              "C532359      1\n",
              "505753       1\n",
              "C500152      1\n",
              "Name: Invoice, Length: 28816, dtype: int64"
            ]
          },
          "metadata": {},
          "execution_count": 328
        }
      ]
    },
    {
      "cell_type": "markdown",
      "metadata": {
        "id": "QV48orQk1mEN"
      },
      "source": [
        "* If Invoice Code starts from 'C' then it refers to cancellation of that order."
      ]
    },
    {
      "cell_type": "code",
      "metadata": {
        "colab": {
          "base_uri": "https://localhost:8080/"
        },
        "id": "aiYrtGnr1lUh",
        "outputId": "e53dbd55-bb68-4409-f778-b102a126eeb2"
      },
      "source": [
        "noc = 0\n",
        "#indices = []\n",
        "for index, row in df.iterrows():\n",
        "  invoice = row['Invoice']\n",
        "  invoice = str(invoice)\n",
        "  if (invoice[0] == 'C'):\n",
        "    noc += 1\n",
        "    df.drop(index)\n",
        "print(noc)"
      ],
      "execution_count": null,
      "outputs": [
        {
          "output_type": "stream",
          "name": "stdout",
          "text": [
            "10182\n"
          ]
        }
      ]
    },
    {
      "cell_type": "markdown",
      "metadata": {
        "id": "GntwGWGw2iEk"
      },
      "source": [
        "* There are total 10182 orders cancelled. "
      ]
    },
    {
      "cell_type": "markdown",
      "metadata": {
        "id": "96GmAUH32imo"
      },
      "source": [
        "* We've removed such records."
      ]
    },
    {
      "cell_type": "code",
      "metadata": {
        "colab": {
          "base_uri": "https://localhost:8080/"
        },
        "id": "ZXxWzOhL2hM4",
        "outputId": "bbf3344b-5e4c-43cb-9b8e-f6b0d27b2eff"
      },
      "source": [
        "df.shape"
      ],
      "execution_count": null,
      "outputs": [
        {
          "output_type": "execute_result",
          "data": {
            "text/plain": [
              "(518596, 8)"
            ]
          },
          "metadata": {},
          "execution_count": 364
        }
      ]
    },
    {
      "cell_type": "markdown",
      "metadata": {
        "id": "wEA1dqnD8Thp"
      },
      "source": [
        "### 2.2 Quantity"
      ]
    },
    {
      "cell_type": "code",
      "metadata": {
        "colab": {
          "base_uri": "https://localhost:8080/"
        },
        "id": "LZpsBRTh8sWi",
        "outputId": "00d580b6-c9f6-4ea1-a372-25283ff6d608"
      },
      "source": [
        "df['Quantity'].describe()"
      ],
      "execution_count": null,
      "outputs": [
        {
          "output_type": "execute_result",
          "data": {
            "text/plain": [
              "count    410763.000000\n",
              "mean         12.923735\n",
              "std         102.039550\n",
              "min       -9360.000000\n",
              "25%           2.000000\n",
              "50%           5.000000\n",
              "75%          12.000000\n",
              "max       19152.000000\n",
              "Name: Quantity, dtype: float64"
            ]
          },
          "metadata": {},
          "execution_count": 374
        }
      ]
    },
    {
      "cell_type": "code",
      "metadata": {
        "colab": {
          "base_uri": "https://localhost:8080/"
        },
        "id": "cRMQKEzm8saK",
        "outputId": "d0f2a57b-6db3-4e66-8c84-f521a053afa8"
      },
      "source": [
        "len(df[df['Quantity'] < 0 ])"
      ],
      "execution_count": null,
      "outputs": [
        {
          "output_type": "execute_result",
          "data": {
            "text/plain": [
              "9816"
            ]
          },
          "metadata": {},
          "execution_count": 376
        }
      ]
    },
    {
      "cell_type": "markdown",
      "metadata": {
        "id": "QZZey-lu8-Jp"
      },
      "source": [
        "* We can see that there are total 9816 items whose quantities are negative, which means they were cancelled. \n",
        "* We'll Remove such records"
      ]
    },
    {
      "cell_type": "code",
      "metadata": {
        "colab": {
          "base_uri": "https://localhost:8080/"
        },
        "id": "nOskRD1c89XL",
        "outputId": "39ad1005-9e69-4f84-c2f1-f0ff4c99b17b"
      },
      "source": [
        "for index, row in df.iterrows():\n",
        "  if (row['Quantity'] < 0):\n",
        "    df.drop(index)\n",
        "print(df.shape)"
      ],
      "execution_count": null,
      "outputs": [
        {
          "output_type": "stream",
          "name": "stdout",
          "text": [
            "(410763, 8)\n"
          ]
        }
      ]
    },
    {
      "cell_type": "code",
      "metadata": {
        "id": "r3UrO5VN8sjt"
      },
      "source": [
        ""
      ],
      "execution_count": null,
      "outputs": []
    },
    {
      "cell_type": "markdown",
      "metadata": {
        "id": "r1Ju5FT1baR9"
      },
      "source": [
        "### 2.3 StockCode"
      ]
    },
    {
      "cell_type": "code",
      "metadata": {
        "colab": {
          "base_uri": "https://localhost:8080/"
        },
        "id": "5T-l4o9PDwnB",
        "outputId": "bb580e8d-51a5-4b58-85e9-2fdd6ee23ad5"
      },
      "source": [
        "df.StockCode.value_counts()"
      ],
      "execution_count": null,
      "outputs": [
        {
          "output_type": "execute_result",
          "data": {
            "text/plain": [
              "85123A    3199\n",
              "22423     1862\n",
              "85099B    1772\n",
              "21212     1566\n",
              "21232     1500\n",
              "          ... \n",
              "90064A       1\n",
              "84205C       1\n",
              "79303A       1\n",
              "78026        1\n",
              "90163B       1\n",
              "Name: StockCode, Length: 4031, dtype: int64"
            ]
          },
          "metadata": {},
          "execution_count": 378
        }
      ]
    },
    {
      "cell_type": "markdown",
      "metadata": {
        "id": "-fFseQRBy_ih"
      },
      "source": [
        "### 2.4 Price"
      ]
    },
    {
      "cell_type": "code",
      "metadata": {
        "colab": {
          "base_uri": "https://localhost:8080/"
        },
        "id": "M5u5mvqvzDOZ",
        "outputId": "934c81f3-ca66-46e0-b8c5-f8365a40280b"
      },
      "source": [
        "print(df['Price'].min())\n",
        "print(df['Price'].max())"
      ],
      "execution_count": null,
      "outputs": [
        {
          "output_type": "stream",
          "name": "stdout",
          "text": [
            "0.001\n",
            "25111.09\n"
          ]
        }
      ]
    },
    {
      "cell_type": "code",
      "metadata": {
        "colab": {
          "base_uri": "https://localhost:8080/",
          "height": 279
        },
        "id": "OXaaPAmk_ttV",
        "outputId": "696a2743-6c9b-40d8-fe09-02b6517df99f"
      },
      "source": [
        "df.plot(kind='scatter', y='Price',x='InvoiceDate') ;\n",
        "plt.show()"
      ],
      "execution_count": null,
      "outputs": [
        {
          "output_type": "display_data",
          "data": {
            "image/png": "[encoded data removed]",
            "text/plain": [
              "<Figure size 432x288 with 1 Axes>"
            ]
          },
          "metadata": {
            "needs_background": "light"
          }
        }
      ]
    },
    {
      "cell_type": "markdown",
      "metadata": {
        "id": "jnZj8jVQCyOs"
      },
      "source": [
        "* One of the conclusions that can be drawn is that we can see very high value of Prices during the year end. "
      ]
    },
    {
      "cell_type": "markdown",
      "metadata": {
        "id": "-0ikreuQbgr-"
      },
      "source": [
        "### 2.4 Country"
      ]
    },
    {
      "cell_type": "code",
      "metadata": {
        "colab": {
          "base_uri": "https://localhost:8080/"
        },
        "id": "pdIYZRRaEKLu",
        "outputId": "5baf5f96-d98f-474d-925a-4c24c8542242"
      },
      "source": [
        "df.Country.value_counts()"
      ],
      "execution_count": null,
      "outputs": [
        {
          "output_type": "execute_result",
          "data": {
            "text/plain": [
              "United Kingdom          372705\n",
              "EIRE                      8705\n",
              "Germany                   8120\n",
              "France                    5692\n",
              "Netherlands               2768\n",
              "Spain                     1271\n",
              "Switzerland               1187\n",
              "Belgium                   1053\n",
              "Portugal                  1023\n",
              "Channel Islands            906\n",
              "Sweden                     882\n",
              "Italy                      729\n",
              "Australia                  654\n",
              "Cyprus                     546\n",
              "Austria                    537\n",
              "Greece                     517\n",
              "Denmark                    428\n",
              "Norway                     369\n",
              "Finland                    354\n",
              "United Arab Emirates       318\n",
              "Unspecified                280\n",
              "USA                        244\n",
              "Japan                      224\n",
              "Poland                     194\n",
              "Malta                      172\n",
              "Lithuania                  154\n",
              "Singapore                  117\n",
              "Canada                      77\n",
              "Thailand                    76\n",
              "Israel                      74\n",
              "Iceland                     71\n",
              "RSA                         65\n",
              "Korea                       63\n",
              "Brazil                      62\n",
              "West Indies                 54\n",
              "Bahrain                     42\n",
              "Nigeria                     30\n",
              "Name: Country, dtype: int64"
            ]
          },
          "metadata": {},
          "execution_count": 381
        }
      ]
    },
    {
      "cell_type": "code",
      "metadata": {
        "colab": {
          "base_uri": "https://localhost:8080/",
          "height": 606
        },
        "id": "FaEiLxX2cBzH",
        "outputId": "d8c99e50-cc87-471e-fc8d-7cbae63cf66d"
      },
      "source": [
        "fig = plt.figure(figsize=(20,10))\n",
        "sns.countplot(y='Country',data = df);\n"
      ],
      "execution_count": null,
      "outputs": [
        {
          "output_type": "display_data",
          "data": {
            "image/png": "[encoded data removed]",
            "text/plain": [
              "<Figure size 1440x720 with 1 Axes>"
            ]
          },
          "metadata": {
            "needs_background": "light"
          }
        }
      ]
    },
    {
      "cell_type": "markdown",
      "metadata": {
        "id": "DUpsuJPOexrJ"
      },
      "source": [
        "### 2.5 Customer ID"
      ]
    },
    {
      "cell_type": "code",
      "metadata": {
        "colab": {
          "base_uri": "https://localhost:8080/"
        },
        "id": "YQ_iOtOd7xL7",
        "outputId": "d306629d-93fa-4cbc-9ce4-055d8164b939"
      },
      "source": [
        "df['Customer ID'].isnull().sum()"
      ],
      "execution_count": null,
      "outputs": [
        {
          "output_type": "execute_result",
          "data": {
            "text/plain": [
              "107833"
            ]
          },
          "metadata": {},
          "execution_count": 369
        }
      ]
    },
    {
      "cell_type": "markdown",
      "metadata": {
        "id": "aSOiENGO731S"
      },
      "source": [
        "* We'll remove the records which contain null value for Customer ID as it is unique and there's no way to replace them. "
      ]
    },
    {
      "cell_type": "code",
      "metadata": {
        "id": "DdtdSMmd8CJm"
      },
      "source": [
        "df.dropna(inplace = True)"
      ],
      "execution_count": null,
      "outputs": []
    },
    {
      "cell_type": "code",
      "metadata": {
        "colab": {
          "base_uri": "https://localhost:8080/"
        },
        "id": "SRCVlXdvERyM",
        "outputId": "65beb8da-0f7c-4f50-e2d5-9ad5fe5d5b77"
      },
      "source": [
        "df['Customer ID'].value_counts()"
      ],
      "execution_count": null,
      "outputs": [
        {
          "output_type": "execute_result",
          "data": {
            "text/plain": [
              "14911.0    5707\n",
              "17841.0    5015\n",
              "14606.0    3863\n",
              "14156.0    2708\n",
              "12748.0    2562\n",
              "           ... \n",
              "13452.0       1\n",
              "13096.0       1\n",
              "16669.0       1\n",
              "14120.0       1\n",
              "17641.0       1\n",
              "Name: Customer ID, Length: 4383, dtype: int64"
            ]
          },
          "metadata": {},
          "execution_count": 371
        }
      ]
    },
    {
      "cell_type": "markdown",
      "metadata": {
        "id": "ZoOkJa7Tf_bZ"
      },
      "source": [
        "* Customer ID refers to the id of a single customer. \n",
        "* Customer with ID = 14911 occurs max number of time. \n",
        "* It can be inferred that this customer has done maximum purchasing in the store."
      ]
    },
    {
      "cell_type": "code",
      "metadata": {
        "colab": {
          "base_uri": "https://localhost:8080/"
        },
        "id": "dolYEO3qGAw3",
        "outputId": "f407bc53-c784-4131-e52f-a08f6dc7ba89"
      },
      "source": [
        "df[df['Customer ID'] == 14911].InvoiceDate.value_counts()"
      ],
      "execution_count": null,
      "outputs": [
        {
          "output_type": "execute_result",
          "data": {
            "text/plain": [
              "2010-10-03 12:40:00    112\n",
              "2010-05-09 12:49:00    106\n",
              "2010-06-14 14:06:00    101\n",
              "2010-10-27 13:29:00     89\n",
              "2010-03-30 09:47:00     79\n",
              "                      ... \n",
              "2010-11-15 09:56:00      1\n",
              "2010-10-21 18:47:00      1\n",
              "2010-08-11 13:24:00      1\n",
              "2010-10-04 12:15:00      1\n",
              "2010-05-25 10:03:00      1\n",
              "Name: InvoiceDate, Length: 267, dtype: int64"
            ]
          },
          "metadata": {},
          "execution_count": 343
        }
      ]
    },
    {
      "cell_type": "markdown",
      "metadata": {
        "id": "8hyilL7zlaqT"
      },
      "source": [
        "* There are 267 different dates when the customer with id = 14911 has engaged with store.\n"
      ]
    },
    {
      "cell_type": "code",
      "metadata": {
        "colab": {
          "base_uri": "https://localhost:8080/",
          "height": 417
        },
        "id": "ZukDu5aLhJCj",
        "outputId": "3a5b7861-0bc1-4787-88c2-54660f9c5707"
      },
      "source": [
        "df[df['Customer ID'] == 14911]"
      ],
      "execution_count": null,
      "outputs": [
        {
          "output_type": "execute_result",
          "data": {
            "text/html": [
              "<div>\n",
              "<style scoped>\n",
              "    .dataframe tbody tr th:only-of-type {\n",
              "        vertical-align: middle;\n",
              "    }\n",
              "\n",
              "    .dataframe tbody tr th {\n",
              "        vertical-align: top;\n",
              "    }\n",
              "\n",
              "    .dataframe thead th {\n",
              "        text-align: right;\n",
              "    }\n",
              "</style>\n",
              "<table border=\"1\" class=\"dataframe\">\n",
              "  <thead>\n",
              "    <tr style=\"text-align: right;\">\n",
              "      <th></th>\n",
              "      <th>Invoice</th>\n",
              "      <th>StockCode</th>\n",
              "      <th>Description</th>\n",
              "      <th>Quantity</th>\n",
              "      <th>InvoiceDate</th>\n",
              "      <th>Price</th>\n",
              "      <th>Customer ID</th>\n",
              "      <th>Country</th>\n",
              "    </tr>\n",
              "  </thead>\n",
              "  <tbody>\n",
              "    <tr>\n",
              "      <th>440</th>\n",
              "      <td>489520</td>\n",
              "      <td>35751C</td>\n",
              "      <td>PURPLE CURRENT CANDLE RING</td>\n",
              "      <td>12</td>\n",
              "      <td>2009-12-01 11:41:00</td>\n",
              "      <td>0.75</td>\n",
              "      <td>14911.0</td>\n",
              "      <td>EIRE</td>\n",
              "    </tr>\n",
              "    <tr>\n",
              "      <th>441</th>\n",
              "      <td>489520</td>\n",
              "      <td>72739B</td>\n",
              "      <td>WHITE CHOCOLATE SCENT CANDLE</td>\n",
              "      <td>12</td>\n",
              "      <td>2009-12-01 11:41:00</td>\n",
              "      <td>1.25</td>\n",
              "      <td>14911.0</td>\n",
              "      <td>EIRE</td>\n",
              "    </tr>\n",
              "    <tr>\n",
              "      <th>442</th>\n",
              "      <td>489520</td>\n",
              "      <td>22114</td>\n",
              "      <td>HOT WATER BOTTLE TEA AND SYMPATHY</td>\n",
              "      <td>8</td>\n",
              "      <td>2009-12-01 11:41:00</td>\n",
              "      <td>3.95</td>\n",
              "      <td>14911.0</td>\n",
              "      <td>EIRE</td>\n",
              "    </tr>\n",
              "    <tr>\n",
              "      <th>443</th>\n",
              "      <td>489520</td>\n",
              "      <td>22212</td>\n",
              "      <td>FOUR HOOK  WHITE LOVEBIRDS</td>\n",
              "      <td>6</td>\n",
              "      <td>2009-12-01 11:41:00</td>\n",
              "      <td>2.10</td>\n",
              "      <td>14911.0</td>\n",
              "      <td>EIRE</td>\n",
              "    </tr>\n",
              "    <tr>\n",
              "      <th>444</th>\n",
              "      <td>489520</td>\n",
              "      <td>21523</td>\n",
              "      <td>FANCY FONT HOME SWEET HOME DOORMAT</td>\n",
              "      <td>2</td>\n",
              "      <td>2009-12-01 11:41:00</td>\n",
              "      <td>6.75</td>\n",
              "      <td>14911.0</td>\n",
              "      <td>EIRE</td>\n",
              "    </tr>\n",
              "    <tr>\n",
              "      <th>...</th>\n",
              "      <td>...</td>\n",
              "      <td>...</td>\n",
              "      <td>...</td>\n",
              "      <td>...</td>\n",
              "      <td>...</td>\n",
              "      <td>...</td>\n",
              "      <td>...</td>\n",
              "      <td>...</td>\n",
              "    </tr>\n",
              "    <tr>\n",
              "      <th>523021</th>\n",
              "      <td>538009</td>\n",
              "      <td>21754</td>\n",
              "      <td>HOME BUILDING BLOCK WORD</td>\n",
              "      <td>3</td>\n",
              "      <td>2010-12-09 12:17:00</td>\n",
              "      <td>5.95</td>\n",
              "      <td>14911.0</td>\n",
              "      <td>EIRE</td>\n",
              "    </tr>\n",
              "    <tr>\n",
              "      <th>523022</th>\n",
              "      <td>538009</td>\n",
              "      <td>22840</td>\n",
              "      <td>ROUND CAKE TIN VINTAGE RED</td>\n",
              "      <td>2</td>\n",
              "      <td>2010-12-09 12:17:00</td>\n",
              "      <td>7.95</td>\n",
              "      <td>14911.0</td>\n",
              "      <td>EIRE</td>\n",
              "    </tr>\n",
              "    <tr>\n",
              "      <th>523023</th>\n",
              "      <td>538009</td>\n",
              "      <td>22842</td>\n",
              "      <td>BISCUIT TIN VINTAGE RED</td>\n",
              "      <td>2</td>\n",
              "      <td>2010-12-09 12:17:00</td>\n",
              "      <td>6.75</td>\n",
              "      <td>14911.0</td>\n",
              "      <td>EIRE</td>\n",
              "    </tr>\n",
              "    <tr>\n",
              "      <th>523024</th>\n",
              "      <td>538009</td>\n",
              "      <td>22197</td>\n",
              "      <td>SMALL POPCORN HOLDER</td>\n",
              "      <td>36</td>\n",
              "      <td>2010-12-09 12:17:00</td>\n",
              "      <td>0.85</td>\n",
              "      <td>14911.0</td>\n",
              "      <td>EIRE</td>\n",
              "    </tr>\n",
              "    <tr>\n",
              "      <th>523025</th>\n",
              "      <td>538009</td>\n",
              "      <td>22198</td>\n",
              "      <td>LARGE POPCORN HOLDER</td>\n",
              "      <td>12</td>\n",
              "      <td>2010-12-09 12:17:00</td>\n",
              "      <td>1.65</td>\n",
              "      <td>14911.0</td>\n",
              "      <td>EIRE</td>\n",
              "    </tr>\n",
              "  </tbody>\n",
              "</table>\n",
              "<p>5707 rows × 8 columns</p>\n",
              "</div>"
            ],
            "text/plain": [
              "       Invoice StockCode  ... Customer ID  Country\n",
              "440     489520    35751C  ...     14911.0     EIRE\n",
              "441     489520    72739B  ...     14911.0     EIRE\n",
              "442     489520     22114  ...     14911.0     EIRE\n",
              "443     489520     22212  ...     14911.0     EIRE\n",
              "444     489520     21523  ...     14911.0     EIRE\n",
              "...        ...       ...  ...         ...      ...\n",
              "523021  538009     21754  ...     14911.0     EIRE\n",
              "523022  538009     22840  ...     14911.0     EIRE\n",
              "523023  538009     22842  ...     14911.0     EIRE\n",
              "523024  538009     22197  ...     14911.0     EIRE\n",
              "523025  538009     22198  ...     14911.0     EIRE\n",
              "\n",
              "[5707 rows x 8 columns]"
            ]
          },
          "metadata": {},
          "execution_count": 344
        }
      ]
    },
    {
      "cell_type": "markdown",
      "metadata": {
        "id": "1eAccYRkhy5f"
      },
      "source": [
        "* From the above, it can be observed that customer with id = 14911 has done the transactions in both the years 2009 and 2010.\n",
        "* **Loyal Customer** - how willing a customer is to engage with and repeatedly purchase from you versus your competitors.\n",
        "* Customer with Customer ID = 14911 can be called most loyal customer as he/she engaged with the store for both the years given in data."
      ]
    },
    {
      "cell_type": "markdown",
      "metadata": {
        "id": "gUnw3RSokjhY"
      },
      "source": [
        "### 2.6 InvoiceDate"
      ]
    },
    {
      "cell_type": "code",
      "metadata": {
        "colab": {
          "base_uri": "https://localhost:8080/"
        },
        "id": "LV9fPTjWJWUj",
        "outputId": "88ae14c0-4bc6-4b39-a310-0bba8f725dca"
      },
      "source": [
        "df.InvoiceDate.value_counts()"
      ],
      "execution_count": null,
      "outputs": [
        {
          "output_type": "execute_result",
          "data": {
            "text/plain": [
              "2010-12-06 16:57:00    675\n",
              "2010-12-09 14:09:00    652\n",
              "2010-12-07 15:28:00    601\n",
              "2010-12-06 09:58:00    597\n",
              "2010-12-03 11:36:00    593\n",
              "                      ... \n",
              "2010-11-02 17:45:00      1\n",
              "2010-05-14 13:39:00      1\n",
              "2010-09-28 16:57:00      1\n",
              "2010-06-30 09:41:00      1\n",
              "2010-04-12 16:36:00      1\n",
              "Name: InvoiceDate, Length: 25296, dtype: int64"
            ]
          },
          "metadata": {},
          "execution_count": 345
        }
      ]
    },
    {
      "cell_type": "code",
      "metadata": {
        "id": "iI2tSz_xEw8a"
      },
      "source": [
        "date_dict = df.InvoiceDate.value_counts()"
      ],
      "execution_count": null,
      "outputs": []
    },
    {
      "cell_type": "code",
      "metadata": {
        "colab": {
          "base_uri": "https://localhost:8080/"
        },
        "id": "BFpcDYndnJAI",
        "outputId": "c1944de2-5cda-42eb-8998-91067b203acc"
      },
      "source": [
        "date_dict[0:20]"
      ],
      "execution_count": null,
      "outputs": [
        {
          "output_type": "execute_result",
          "data": {
            "text/plain": [
              "2010-12-06 16:57:00    675\n",
              "2010-12-09 14:09:00    652\n",
              "2010-12-07 15:28:00    601\n",
              "2010-12-06 09:58:00    597\n",
              "2010-12-03 11:36:00    593\n",
              "2010-12-01 17:06:00    592\n",
              "2010-12-08 14:25:00    591\n",
              "2010-11-29 16:45:00    582\n",
              "2009-12-03 14:39:00    580\n",
              "2009-12-14 17:16:00    579\n",
              "2010-12-06 10:08:00    568\n",
              "2009-12-04 09:43:00    559\n",
              "2009-12-14 17:57:00    548\n",
              "2009-12-07 17:56:00    546\n",
              "2010-12-07 18:36:00    536\n",
              "2010-12-01 14:32:00    528\n",
              "2009-12-02 14:43:00    518\n",
              "2010-06-25 15:13:00    515\n",
              "2009-12-07 18:02:00    507\n",
              "2009-12-01 14:28:00    502\n",
              "Name: InvoiceDate, dtype: int64"
            ]
          },
          "metadata": {},
          "execution_count": 347
        }
      ]
    },
    {
      "cell_type": "markdown",
      "metadata": {
        "id": "90SKYsJHxGeP"
      },
      "source": [
        "From above we can say that the year end of 2009 and 2010 are the most popular time of the year based on this data."
      ]
    },
    {
      "cell_type": "code",
      "metadata": {
        "id": "T_5A7WOQIDl0"
      },
      "source": [
        "df['InvoiceDate'] = pd.to_datetime(df['InvoiceDate'])"
      ],
      "execution_count": null,
      "outputs": []
    },
    {
      "cell_type": "code",
      "metadata": {
        "id": "AdZJJl7HIneO"
      },
      "source": [
        "#df['month'] = df['InvoiceDate'].dt.month\n",
        "#df['year'] = df['InvoiceDate'].dt.year\n",
        "#df['day'] = df['InvoiceDate'].dt.day\n",
        "#df.head()"
      ],
      "execution_count": null,
      "outputs": []
    },
    {
      "cell_type": "code",
      "metadata": {
        "id": "QIXFwdmaIyR9"
      },
      "source": [
        "#df['hour'] = df['InvoiceDate'].dt.hour\n",
        "#df['minute'] = df['InvoiceDate'].dt.minute\n",
        "#df['second'] = df['InvoiceDate'].dt.second\n",
        "#df.head()"
      ],
      "execution_count": null,
      "outputs": []
    },
    {
      "cell_type": "code",
      "metadata": {
        "id": "eDtJKribpmNI"
      },
      "source": [
        "#df['Dates'] = pd.to_datetime(df['InvoiceDate']).dt.date\n",
        "#df['Time'] = pd.to_datetime(df['InvoiceDate']).dt.time"
      ],
      "execution_count": null,
      "outputs": []
    },
    {
      "cell_type": "code",
      "metadata": {
        "colab": {
          "base_uri": "https://localhost:8080/",
          "height": 203
        },
        "id": "QGypWuPoJLJg",
        "outputId": "6b1acb04-0127-49c8-da53-fda35acd6d8f"
      },
      "source": [
        "df.head()"
      ],
      "execution_count": null,
      "outputs": [
        {
          "output_type": "execute_result",
          "data": {
            "text/html": [
              "<div>\n",
              "<style scoped>\n",
              "    .dataframe tbody tr th:only-of-type {\n",
              "        vertical-align: middle;\n",
              "    }\n",
              "\n",
              "    .dataframe tbody tr th {\n",
              "        vertical-align: top;\n",
              "    }\n",
              "\n",
              "    .dataframe thead th {\n",
              "        text-align: right;\n",
              "    }\n",
              "</style>\n",
              "<table border=\"1\" class=\"dataframe\">\n",
              "  <thead>\n",
              "    <tr style=\"text-align: right;\">\n",
              "      <th></th>\n",
              "      <th>Invoice</th>\n",
              "      <th>StockCode</th>\n",
              "      <th>Description</th>\n",
              "      <th>Quantity</th>\n",
              "      <th>InvoiceDate</th>\n",
              "      <th>Price</th>\n",
              "      <th>Customer ID</th>\n",
              "      <th>Country</th>\n",
              "    </tr>\n",
              "  </thead>\n",
              "  <tbody>\n",
              "    <tr>\n",
              "      <th>0</th>\n",
              "      <td>489434</td>\n",
              "      <td>85048</td>\n",
              "      <td>15CM CHRISTMAS GLASS BALL 20 LIGHTS</td>\n",
              "      <td>12</td>\n",
              "      <td>2009-12-01 07:45:00</td>\n",
              "      <td>6.95</td>\n",
              "      <td>13085.0</td>\n",
              "      <td>United Kingdom</td>\n",
              "    </tr>\n",
              "    <tr>\n",
              "      <th>1</th>\n",
              "      <td>489434</td>\n",
              "      <td>79323P</td>\n",
              "      <td>PINK CHERRY LIGHTS</td>\n",
              "      <td>12</td>\n",
              "      <td>2009-12-01 07:45:00</td>\n",
              "      <td>6.75</td>\n",
              "      <td>13085.0</td>\n",
              "      <td>United Kingdom</td>\n",
              "    </tr>\n",
              "    <tr>\n",
              "      <th>2</th>\n",
              "      <td>489434</td>\n",
              "      <td>79323W</td>\n",
              "      <td>WHITE CHERRY LIGHTS</td>\n",
              "      <td>12</td>\n",
              "      <td>2009-12-01 07:45:00</td>\n",
              "      <td>6.75</td>\n",
              "      <td>13085.0</td>\n",
              "      <td>United Kingdom</td>\n",
              "    </tr>\n",
              "    <tr>\n",
              "      <th>3</th>\n",
              "      <td>489434</td>\n",
              "      <td>22041</td>\n",
              "      <td>RECORD FRAME 7\" SINGLE SIZE</td>\n",
              "      <td>48</td>\n",
              "      <td>2009-12-01 07:45:00</td>\n",
              "      <td>2.10</td>\n",
              "      <td>13085.0</td>\n",
              "      <td>United Kingdom</td>\n",
              "    </tr>\n",
              "    <tr>\n",
              "      <th>4</th>\n",
              "      <td>489434</td>\n",
              "      <td>21232</td>\n",
              "      <td>STRAWBERRY CERAMIC TRINKET BOX</td>\n",
              "      <td>24</td>\n",
              "      <td>2009-12-01 07:45:00</td>\n",
              "      <td>1.25</td>\n",
              "      <td>13085.0</td>\n",
              "      <td>United Kingdom</td>\n",
              "    </tr>\n",
              "  </tbody>\n",
              "</table>\n",
              "</div>"
            ],
            "text/plain": [
              "  Invoice StockCode  ... Customer ID         Country\n",
              "0  489434     85048  ...     13085.0  United Kingdom\n",
              "1  489434    79323P  ...     13085.0  United Kingdom\n",
              "2  489434    79323W  ...     13085.0  United Kingdom\n",
              "3  489434     22041  ...     13085.0  United Kingdom\n",
              "4  489434     21232  ...     13085.0  United Kingdom\n",
              "\n",
              "[5 rows x 8 columns]"
            ]
          },
          "metadata": {},
          "execution_count": 352
        }
      ]
    },
    {
      "cell_type": "code",
      "metadata": {
        "colab": {
          "base_uri": "https://localhost:8080/",
          "height": 405
        },
        "id": "paFhGrk0JU26",
        "outputId": "a4a5ce6f-df52-4654-bc50-e68eea1bb223"
      },
      "source": [
        "df.plot(y = 'InvoiceDate', x = 'Price', figsize = (12,6))"
      ],
      "execution_count": null,
      "outputs": [
        {
          "output_type": "execute_result",
          "data": {
            "text/plain": [
              "<matplotlib.axes._subplots.AxesSubplot at 0x7f66d88a6050>"
            ]
          },
          "metadata": {},
          "execution_count": 353
        },
        {
          "output_type": "display_data",
          "data": {
            "image/png": "[encoded data removed]",
            "text/plain": [
              "<Figure size 864x432 with 1 Axes>"
            ]
          },
          "metadata": {
            "needs_background": "light"
          }
        }
      ]
    },
    {
      "cell_type": "markdown",
      "metadata": {
        "id": "IFGWvAmamUZt"
      },
      "source": [
        "* Yes, according to the graph above, we can see seasonality in data based on Date"
      ]
    },
    {
      "cell_type": "code",
      "metadata": {
        "id": "C2sEwcRlL7kk"
      },
      "source": [
        "#df_prev = df[df['year'] == 2009]\n",
        "#df_prev.plot(y = 'InvoiceDate', x = 'Price', figsize = (12,6))"
      ],
      "execution_count": null,
      "outputs": []
    },
    {
      "cell_type": "code",
      "metadata": {
        "id": "tb07Z8tALgZz"
      },
      "source": [
        "#df.plot(x = 'month', y = 'Price', figsize = (12,6))"
      ],
      "execution_count": null,
      "outputs": []
    },
    {
      "cell_type": "markdown",
      "metadata": {
        "id": "6BcpN_qzInrY"
      },
      "source": [
        "Conclusion\n",
        "* Higher value of prices during the year end.\n",
        "* During the year end the two main events like Christmas and New Year are observed. \n"
      ]
    },
    {
      "cell_type": "markdown",
      "metadata": {
        "id": "l-SSfDPZKMWS"
      },
      "source": [
        "### 2.7 Description"
      ]
    },
    {
      "cell_type": "code",
      "metadata": {
        "id": "0ZEnxNPQNu5X"
      },
      "source": [
        "desc_dict = df.Description.value_counts()"
      ],
      "execution_count": null,
      "outputs": []
    },
    {
      "cell_type": "code",
      "metadata": {
        "colab": {
          "base_uri": "https://localhost:8080/"
        },
        "id": "IPynMqsrOeO7",
        "outputId": "37809119-8e9c-4777-9786-252ee3a528c3"
      },
      "source": [
        "desc_dict[0:20]"
      ],
      "execution_count": null,
      "outputs": [
        {
          "output_type": "execute_result",
          "data": {
            "text/plain": [
              "WHITE HANGING HEART T-LIGHT HOLDER    3503\n",
              "REGENCY CAKESTAND 3 TIER              2202\n",
              "STRAWBERRY CERAMIC TRINKET BOX        1807\n",
              "PACK OF 72 RETRO SPOT CAKE CASES      1445\n",
              "ASSORTED COLOUR BIRD ORNAMENT         1443\n",
              "60 TEATIME FAIRY CAKE CASES           1378\n",
              "HOME BUILDING BLOCK WORD              1359\n",
              "JUMBO BAG RED RETROSPOT               1301\n",
              "LUNCH BAG RED SPOTTY                  1259\n",
              "JUMBO STORAGE BAG SUKI                1211\n",
              "WOODEN FRAME ANTIQUE WHITE            1182\n",
              "PACK OF 60 PINK PAISLEY CAKE CASES    1181\n",
              "BAKING SET 9 PIECE RETROSPOT          1172\n",
              "LUNCH BAG  BLACK SKULL.               1162\n",
              "LUNCH BAG SUKI  DESIGN                1142\n",
              "REX CASH+CARRY JUMBO SHOPPER          1140\n",
              "HEART OF WICKER LARGE                 1133\n",
              "LOVE BUILDING BLOCK WORD              1120\n",
              "RED HANGING HEART T-LIGHT HOLDER      1109\n",
              "JUMBO BAG STRAWBERRY                  1086\n",
              "Name: Description, dtype: int64"
            ]
          },
          "metadata": {},
          "execution_count": 358
        }
      ]
    },
    {
      "cell_type": "code",
      "metadata": {
        "id": "VFw1jrvu8Y0E"
      },
      "source": [
        "    "
      ],
      "execution_count": null,
      "outputs": []
    }
  ]
}