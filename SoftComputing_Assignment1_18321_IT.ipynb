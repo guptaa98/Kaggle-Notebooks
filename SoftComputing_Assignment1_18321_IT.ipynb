{
  "nbformat": 4,
  "nbformat_minor": 0,
  "metadata": {
    "colab": {
      "name": "SoftComputing Assignment1-18321-IT.ipynb",
      "provenance": [],
      "collapsed_sections": [],
      "authorship_tag": "ABX9TyPrMIRjKvZmUAfDYr9xSWuG",
      "include_colab_link": true
    },
    "kernelspec": {
      "name": "python3",
      "display_name": "Python 3"
    },
    "language_info": {
      "name": "python"
    }
  },
  "cells": [
    {
      "cell_type": "markdown",
      "metadata": {
        "id": "view-in-github",
        "colab_type": "text"
      },
      "source": [
        "<a href=\"https://colab.research.google.com/github/guptaa98/Kaggle-Notebooks/blob/master/SoftComputing_Assignment1_18321_IT.ipynb\" target=\"_parent\"><img src=\"https://colab.research.google.com/assets/colab-badge.svg\" alt=\"Open In Colab\"/></a>"
      ]
    },
    {
      "cell_type": "code",
      "execution_count": 2,
      "metadata": {
        "id": "EkoeM7VAcpsY"
      },
      "outputs": [],
      "source": [
        "import numpy as np"
      ]
    },
    {
      "cell_type": "markdown",
      "source": [
        "Let us estimate the optimal values of a and b using GA which satisfy below expression.\n",
        "\n",
        "            2a^2 + b^2 = 12\n",
        "\n",
        "Any optimization problem starts with an objective function. Above equation can be written as:\n",
        "\n",
        "            f(a,b) = 2a^2+b^2-12"
      ],
      "metadata": {
        "id": "oqiKnHr6e009"
      }
    },
    {
      "cell_type": "markdown",
      "source": [
        "### Step 1 - Initialization of population \n",
        "The set of values which we'll generate in this step will be known as Chromosomes. The population here refers to set of values depicting [a,b]."
      ],
      "metadata": {
        "id": "_ndDJ-mvgB2d"
      }
    },
    {
      "cell_type": "code",
      "source": [
        "cr1 = np.random.uniform(1, 11, 2)\n",
        "cr2 = np.random.uniform(1, 11, 2)\n",
        "cr3 = np.random.uniform(1, 11, 2)\n",
        "cr4 = np.random.uniform(1, 11, 2)\n",
        "cr5 = np.random.uniform(1, 11, 2)\n",
        "print(\"Chromosome 1: \",cr1)\n",
        "print(\"Chromosome 2: \",cr2)\n",
        "print(\"Chromosome 3: \",cr3)\n",
        "print(\"Chromosome 4: \",cr4)\n",
        "print(\"Chromosome 5: \",cr5)"
      ],
      "metadata": {
        "colab": {
          "base_uri": "https://localhost:8080/"
        },
        "id": "wuXzxCkJcziG",
        "outputId": "6b6a0506-e074-4fdc-b285-8856203ac75e"
      },
      "execution_count": 3,
      "outputs": [
        {
          "output_type": "stream",
          "name": "stdout",
          "text": [
            "Chromosome 1:  [9.93402395 9.87175015]\n",
            "Chromosome 2:  [7.4788643  2.20704128]\n",
            "Chromosome 3:  [3.92932132 7.48247184]\n",
            "Chromosome 4:  [8.76585198 6.4413632 ]\n",
            "Chromosome 5:  [9.3145367 7.6896806]\n"
          ]
        }
      ]
    },
    {
      "cell_type": "markdown",
      "source": [
        "### Step 2 - Selection \n",
        "Here we'll select the two fittest parents on the basis of their fitness value. \n",
        "Since our objective function has a value equal to 0, so the parents whose fitness value will be close to 0, will be considered to be most fit. \n",
        "\n",
        "Fitness function => f(a,b) = 2a^2+b^2-12 "
      ],
      "metadata": {
        "id": "zvy0AI1Sl5oi"
      }
    },
    {
      "cell_type": "code",
      "source": [
        "def fitness(chromosome):\n",
        "  a = chromosome[0]\n",
        "  b = chromosome[1]\n",
        "  fit = ((2*(a*a)) + (b*b)) - 12\n",
        "  return fit "
      ],
      "metadata": {
        "id": "vo6ASCrGczex"
      },
      "execution_count": 25,
      "outputs": []
    },
    {
      "cell_type": "code",
      "source": [
        "ch = [cr1, cr2, cr3, cr4, cr5]\n",
        "i = 1\n",
        "for cr in ch:\n",
        "  print(\"Fitness value of Chromosome\", i, \"is\", fitness(cr))\n",
        "  i = i+1"
      ],
      "metadata": {
        "id": "S3c8Va6Hczcb",
        "colab": {
          "base_uri": "https://localhost:8080/"
        },
        "outputId": "26eeee17-e4fb-4a24-9f0c-db1cd8b86a6b"
      },
      "execution_count": 26,
      "outputs": [
        {
          "output_type": "stream",
          "name": "stdout",
          "text": [
            "Fitness value of Chromosome 1 is 282.8211147828032\n",
            "Fitness value of Chromosome 2 is 104.73785351657058\n",
            "Fitness value of Chromosome 3 is 74.8665169550295\n",
            "Fitness value of Chromosome 4 is 183.17148180876796\n",
            "Fitness value of Chromosome 5 is 220.65237553620463\n"
          ]
        }
      ]
    },
    {
      "cell_type": "markdown",
      "source": [
        "Since we had to minimise our fitness function value to 0, so from the above we can see that Chromosome 2 and Chromosome 3 are giving the value close to 0.\n",
        "\n",
        "So the fittest parents would be Chromosome 2 and Chromosome 3."
      ],
      "metadata": {
        "id": "qaUCjRIK2hqr"
      }
    },
    {
      "cell_type": "markdown",
      "source": [
        "### Step 3 - Crossover"
      ],
      "metadata": {
        "id": "AsLShZWP3xw3"
      }
    },
    {
      "cell_type": "code",
      "source": [
        "print(cr2)"
      ],
      "metadata": {
        "id": "nijdUzwLczXs",
        "colab": {
          "base_uri": "https://localhost:8080/"
        },
        "outputId": "ab0ca97c-d752-4936-b7ec-0ab389795497"
      },
      "execution_count": 27,
      "outputs": [
        {
          "output_type": "stream",
          "name": "stdout",
          "text": [
            "[7.4788643  2.20704128]\n"
          ]
        }
      ]
    },
    {
      "cell_type": "code",
      "source": [
        "print(cr3)"
      ],
      "metadata": {
        "id": "P9RBGCMlczUS",
        "colab": {
          "base_uri": "https://localhost:8080/"
        },
        "outputId": "1ef08c89-02a7-4aa1-df06-a8bff77de068"
      },
      "execution_count": 28,
      "outputs": [
        {
          "output_type": "stream",
          "name": "stdout",
          "text": [
            "[3.92932132 7.48247184]\n"
          ]
        }
      ]
    },
    {
      "cell_type": "markdown",
      "source": [
        "For crossover, in this example let's swap values of a in both parents and calculate fitness value. "
      ],
      "metadata": {
        "id": "itEzErS34JjM"
      }
    },
    {
      "cell_type": "code",
      "source": [
        "cr2_crossover = [cr3[0], cr2[1]]\n",
        "cr3_crossover = [cr2[0], cr3[1]]"
      ],
      "metadata": {
        "id": "u0Uir-GhczRd"
      },
      "execution_count": 29,
      "outputs": []
    },
    {
      "cell_type": "code",
      "source": [
        "print(cr2_crossover)\n",
        "print(cr3_crossover)"
      ],
      "metadata": {
        "id": "ni8qkwFTczOy",
        "colab": {
          "base_uri": "https://localhost:8080/"
        },
        "outputId": "478e45c7-3bc1-4303-82f6-c49a10732efe"
      },
      "execution_count": 30,
      "outputs": [
        {
          "output_type": "stream",
          "name": "stdout",
          "text": [
            "[3.9293213242252736, 2.2070412760994156]\n",
            "[7.4788642962071465, 7.482471838704545]\n"
          ]
        }
      ]
    },
    {
      "cell_type": "markdown",
      "source": [
        "Calculating fitness values "
      ],
      "metadata": {
        "id": "yUXXVrKB46HA"
      }
    },
    {
      "cell_type": "code",
      "source": [
        "print(\"Fitness value of Chromosome 2 is\", fitness(cr2_crossover))\n",
        "print(\"Fitness value of Chromosome 3 is\", fitness(cr3_crossover))"
      ],
      "metadata": {
        "colab": {
          "base_uri": "https://localhost:8080/"
        },
        "id": "Uz9eOFfM45qb",
        "outputId": "db139e90-f8cb-4521-c91e-db5afcb827f1"
      },
      "execution_count": 34,
      "outputs": [
        {
          "output_type": "stream",
          "name": "stdout",
          "text": [
            "Fitness value of Chromosome 2 is 23.75016333242945\n",
            "Fitness value of Chromosome 3 is 155.85420713917063\n"
          ]
        }
      ]
    },
    {
      "cell_type": "markdown",
      "source": [
        "We can see that on crossover, the fitness value of chromosome 2 improved, i.e. its more close to 0."
      ],
      "metadata": {
        "id": "AMUJRtxh5wGg"
      }
    },
    {
      "cell_type": "markdown",
      "source": [
        "### Step 4 - Mutation\n"
      ],
      "metadata": {
        "id": "cJ_rXxQ-_yBm"
      }
    },
    {
      "cell_type": "markdown",
      "source": [
        "Let's tweak one value of chromosome 2 and 3 after crossover and calculate it's fitness value"
      ],
      "metadata": {
        "id": "YZ4Gu16aALSG"
      }
    },
    {
      "cell_type": "code",
      "source": [
        "cr2_crossover_mutation = [3.9293213242252736, 1.2070412760994156]\n",
        "cr3_crossover_mutation = [7.4788642962071465, 3.482471838704545]\n",
        "\n",
        "#fitness value after mutation\n",
        "print(\"Fitness value of Chromosome 2 is\", fitness(cr2_crossover_mutation))\n",
        "print(\"Fitness value of Chromosome 3 is\", fitness(cr3_crossover_mutation))"
      ],
      "metadata": {
        "colab": {
          "base_uri": "https://localhost:8080/"
        },
        "id": "JYf2XYMd45m3",
        "outputId": "0c547d09-43c8-4409-ab77-636055f5b5c7"
      },
      "execution_count": 36,
      "outputs": [
        {
          "output_type": "stream",
          "name": "stdout",
          "text": [
            "Fitness value of Chromosome 2 is 20.336080780230617\n",
            "Fitness value of Chromosome 3 is 111.99443242953426\n"
          ]
        }
      ]
    },
    {
      "cell_type": "markdown",
      "source": [
        "Here in this example we can see that the fitness value of both the chromosomes has improved."
      ],
      "metadata": {
        "id": "XUtbpFfTCBgE"
      }
    }
  ]
}