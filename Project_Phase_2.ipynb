{
  "nbformat": 4,
  "nbformat_minor": 0,
  "metadata": {
    "colab": {
      "name": "Project Phase 2.ipynb",
      "provenance": [],
      "collapsed_sections": [],
      "authorship_tag": "ABX9TyM18MJQS+Ndcq9hrisIYX1j",
      "include_colab_link": true
    },
    "kernelspec": {
      "name": "python3",
      "display_name": "Python 3"
    },
    "language_info": {
      "name": "python"
    }
  },
  "cells": [
    {
      "cell_type": "markdown",
      "metadata": {
        "id": "view-in-github",
        "colab_type": "text"
      },
      "source": [
        "<a href=\"https://colab.research.google.com/github/guptaa98/Kaggle-Notebooks/blob/master/Project_Phase_2.ipynb\" target=\"_parent\"><img src=\"https://colab.research.google.com/assets/colab-badge.svg\" alt=\"Open In Colab\"/></a>"
      ]
    },
    {
      "cell_type": "code",
      "metadata": {
        "colab": {
          "base_uri": "https://localhost:8080/"
        },
        "id": "R9BMWtVPTnSg",
        "outputId": "16aae7b9-f203-4e90-f774-bc6afc2d07d0"
      },
      "source": [
        "from google.colab import drive, files\n",
        "drive.mount('/content/drive/')"
      ],
      "execution_count": 1,
      "outputs": [
        {
          "output_type": "stream",
          "name": "stdout",
          "text": [
            "Mounted at /content/drive/\n"
          ]
        }
      ]
    },
    {
      "cell_type": "markdown",
      "metadata": {
        "id": "NviPGgYLV-BI"
      },
      "source": [
        "# Explore all the necessary libraries"
      ]
    },
    {
      "cell_type": "code",
      "metadata": {
        "id": "Kh1n0hSSTyR1"
      },
      "source": [
        "%matplotlib inline\n",
        "import numpy as np\n",
        "import pandas as pd\n",
        "import matplotlib.pyplot as plt\n",
        "import seaborn as sns\n",
        "plt.style.use('seaborn-whitegrid')\n",
        "import warnings\n",
        "warnings.filterwarnings(\"ignore\")\n",
        "from numpy import sqrt \n",
        "from sklearn.metrics import r2_score"
      ],
      "execution_count": 2,
      "outputs": []
    },
    {
      "cell_type": "code",
      "metadata": {
        "id": "SZSa-4HZU6to"
      },
      "source": [
        "df = pd.read_csv('/content/drive/MyDrive/Project phase/Sales_project_phaseII.csv')"
      ],
      "execution_count": 3,
      "outputs": []
    },
    {
      "cell_type": "code",
      "metadata": {
        "colab": {
          "base_uri": "https://localhost:8080/",
          "height": 223
        },
        "id": "tcVGH8R1VCi_",
        "outputId": "40ab122a-5f78-4587-8e2a-22149f840f53"
      },
      "source": [
        "df.head()"
      ],
      "execution_count": 4,
      "outputs": [
        {
          "output_type": "execute_result",
          "data": {
            "text/html": [
              "<div>\n",
              "<style scoped>\n",
              "    .dataframe tbody tr th:only-of-type {\n",
              "        vertical-align: middle;\n",
              "    }\n",
              "\n",
              "    .dataframe tbody tr th {\n",
              "        vertical-align: top;\n",
              "    }\n",
              "\n",
              "    .dataframe thead th {\n",
              "        text-align: right;\n",
              "    }\n",
              "</style>\n",
              "<table border=\"1\" class=\"dataframe\">\n",
              "  <thead>\n",
              "    <tr style=\"text-align: right;\">\n",
              "      <th></th>\n",
              "      <th>Unnamed: 0</th>\n",
              "      <th>Region</th>\n",
              "      <th>Country</th>\n",
              "      <th>Item Type</th>\n",
              "      <th>Sales Channel</th>\n",
              "      <th>Order Priority</th>\n",
              "      <th>Units Sold</th>\n",
              "      <th>Unit Price</th>\n",
              "      <th>Unit Cost</th>\n",
              "      <th>Total Revenue</th>\n",
              "      <th>Total Cost</th>\n",
              "      <th>Total Profit</th>\n",
              "      <th>Order Date_year</th>\n",
              "      <th>Order Date_month</th>\n",
              "      <th>Order Date_day</th>\n",
              "      <th>Ship Date_year</th>\n",
              "      <th>Ship Date_month</th>\n",
              "      <th>Ship Date_day</th>\n",
              "    </tr>\n",
              "  </thead>\n",
              "  <tbody>\n",
              "    <tr>\n",
              "      <th>0</th>\n",
              "      <td>0</td>\n",
              "      <td>0</td>\n",
              "      <td>Namibia</td>\n",
              "      <td>0</td>\n",
              "      <td>0</td>\n",
              "      <td>2</td>\n",
              "      <td>3604</td>\n",
              "      <td>668.27</td>\n",
              "      <td>502.54</td>\n",
              "      <td>2408445.08</td>\n",
              "      <td>1811154.16</td>\n",
              "      <td>597290.92</td>\n",
              "      <td>2015</td>\n",
              "      <td>8</td>\n",
              "      <td>31</td>\n",
              "      <td>2015</td>\n",
              "      <td>10</td>\n",
              "      <td>12</td>\n",
              "    </tr>\n",
              "    <tr>\n",
              "      <th>1</th>\n",
              "      <td>1</td>\n",
              "      <td>1</td>\n",
              "      <td>Iceland</td>\n",
              "      <td>11</td>\n",
              "      <td>1</td>\n",
              "      <td>3</td>\n",
              "      <td>8435</td>\n",
              "      <td>255.28</td>\n",
              "      <td>159.42</td>\n",
              "      <td>2153286.80</td>\n",
              "      <td>1344707.70</td>\n",
              "      <td>808579.10</td>\n",
              "      <td>2010</td>\n",
              "      <td>11</td>\n",
              "      <td>20</td>\n",
              "      <td>2011</td>\n",
              "      <td>1</td>\n",
              "      <td>9</td>\n",
              "    </tr>\n",
              "    <tr>\n",
              "      <th>2</th>\n",
              "      <td>2</td>\n",
              "      <td>1</td>\n",
              "      <td>Russia</td>\n",
              "      <td>1</td>\n",
              "      <td>1</td>\n",
              "      <td>1</td>\n",
              "      <td>4848</td>\n",
              "      <td>421.89</td>\n",
              "      <td>364.69</td>\n",
              "      <td>2045322.72</td>\n",
              "      <td>1768017.12</td>\n",
              "      <td>277305.60</td>\n",
              "      <td>2017</td>\n",
              "      <td>6</td>\n",
              "      <td>22</td>\n",
              "      <td>2017</td>\n",
              "      <td>6</td>\n",
              "      <td>25</td>\n",
              "    </tr>\n",
              "    <tr>\n",
              "      <th>3</th>\n",
              "      <td>3</td>\n",
              "      <td>1</td>\n",
              "      <td>Moldova</td>\n",
              "      <td>1</td>\n",
              "      <td>1</td>\n",
              "      <td>1</td>\n",
              "      <td>7225</td>\n",
              "      <td>421.89</td>\n",
              "      <td>364.69</td>\n",
              "      <td>3048155.25</td>\n",
              "      <td>2634885.25</td>\n",
              "      <td>413270.00</td>\n",
              "      <td>2012</td>\n",
              "      <td>2</td>\n",
              "      <td>28</td>\n",
              "      <td>2012</td>\n",
              "      <td>3</td>\n",
              "      <td>20</td>\n",
              "    </tr>\n",
              "    <tr>\n",
              "      <th>4</th>\n",
              "      <td>4</td>\n",
              "      <td>1</td>\n",
              "      <td>Malta</td>\n",
              "      <td>9</td>\n",
              "      <td>1</td>\n",
              "      <td>2</td>\n",
              "      <td>1975</td>\n",
              "      <td>205.70</td>\n",
              "      <td>117.11</td>\n",
              "      <td>406257.50</td>\n",
              "      <td>231292.25</td>\n",
              "      <td>174965.25</td>\n",
              "      <td>2010</td>\n",
              "      <td>8</td>\n",
              "      <td>12</td>\n",
              "      <td>2010</td>\n",
              "      <td>9</td>\n",
              "      <td>13</td>\n",
              "    </tr>\n",
              "  </tbody>\n",
              "</table>\n",
              "</div>"
            ],
            "text/plain": [
              "   Unnamed: 0  Region   Country  ...  Ship Date_year  Ship Date_month  Ship Date_day\n",
              "0           0       0   Namibia  ...            2015               10             12\n",
              "1           1       1   Iceland  ...            2011                1              9\n",
              "2           2       1    Russia  ...            2017                6             25\n",
              "3           3       1  Moldova   ...            2012                3             20\n",
              "4           4       1     Malta  ...            2010                9             13\n",
              "\n",
              "[5 rows x 18 columns]"
            ]
          },
          "metadata": {},
          "execution_count": 4
        }
      ]
    },
    {
      "cell_type": "code",
      "metadata": {
        "id": "Pw2WQKX_VG_9"
      },
      "source": [
        "df.drop('Unnamed: 0',axis = 1,inplace = True)"
      ],
      "execution_count": 5,
      "outputs": []
    },
    {
      "cell_type": "code",
      "metadata": {
        "colab": {
          "base_uri": "https://localhost:8080/",
          "height": 223
        },
        "id": "sJs0J5bbVNTU",
        "outputId": "d65977c5-b451-4025-f7b2-53e43292a1f0"
      },
      "source": [
        "df.head()"
      ],
      "execution_count": 6,
      "outputs": [
        {
          "output_type": "execute_result",
          "data": {
            "text/html": [
              "<div>\n",
              "<style scoped>\n",
              "    .dataframe tbody tr th:only-of-type {\n",
              "        vertical-align: middle;\n",
              "    }\n",
              "\n",
              "    .dataframe tbody tr th {\n",
              "        vertical-align: top;\n",
              "    }\n",
              "\n",
              "    .dataframe thead th {\n",
              "        text-align: right;\n",
              "    }\n",
              "</style>\n",
              "<table border=\"1\" class=\"dataframe\">\n",
              "  <thead>\n",
              "    <tr style=\"text-align: right;\">\n",
              "      <th></th>\n",
              "      <th>Region</th>\n",
              "      <th>Country</th>\n",
              "      <th>Item Type</th>\n",
              "      <th>Sales Channel</th>\n",
              "      <th>Order Priority</th>\n",
              "      <th>Units Sold</th>\n",
              "      <th>Unit Price</th>\n",
              "      <th>Unit Cost</th>\n",
              "      <th>Total Revenue</th>\n",
              "      <th>Total Cost</th>\n",
              "      <th>Total Profit</th>\n",
              "      <th>Order Date_year</th>\n",
              "      <th>Order Date_month</th>\n",
              "      <th>Order Date_day</th>\n",
              "      <th>Ship Date_year</th>\n",
              "      <th>Ship Date_month</th>\n",
              "      <th>Ship Date_day</th>\n",
              "    </tr>\n",
              "  </thead>\n",
              "  <tbody>\n",
              "    <tr>\n",
              "      <th>0</th>\n",
              "      <td>0</td>\n",
              "      <td>Namibia</td>\n",
              "      <td>0</td>\n",
              "      <td>0</td>\n",
              "      <td>2</td>\n",
              "      <td>3604</td>\n",
              "      <td>668.27</td>\n",
              "      <td>502.54</td>\n",
              "      <td>2408445.08</td>\n",
              "      <td>1811154.16</td>\n",
              "      <td>597290.92</td>\n",
              "      <td>2015</td>\n",
              "      <td>8</td>\n",
              "      <td>31</td>\n",
              "      <td>2015</td>\n",
              "      <td>10</td>\n",
              "      <td>12</td>\n",
              "    </tr>\n",
              "    <tr>\n",
              "      <th>1</th>\n",
              "      <td>1</td>\n",
              "      <td>Iceland</td>\n",
              "      <td>11</td>\n",
              "      <td>1</td>\n",
              "      <td>3</td>\n",
              "      <td>8435</td>\n",
              "      <td>255.28</td>\n",
              "      <td>159.42</td>\n",
              "      <td>2153286.80</td>\n",
              "      <td>1344707.70</td>\n",
              "      <td>808579.10</td>\n",
              "      <td>2010</td>\n",
              "      <td>11</td>\n",
              "      <td>20</td>\n",
              "      <td>2011</td>\n",
              "      <td>1</td>\n",
              "      <td>9</td>\n",
              "    </tr>\n",
              "    <tr>\n",
              "      <th>2</th>\n",
              "      <td>1</td>\n",
              "      <td>Russia</td>\n",
              "      <td>1</td>\n",
              "      <td>1</td>\n",
              "      <td>1</td>\n",
              "      <td>4848</td>\n",
              "      <td>421.89</td>\n",
              "      <td>364.69</td>\n",
              "      <td>2045322.72</td>\n",
              "      <td>1768017.12</td>\n",
              "      <td>277305.60</td>\n",
              "      <td>2017</td>\n",
              "      <td>6</td>\n",
              "      <td>22</td>\n",
              "      <td>2017</td>\n",
              "      <td>6</td>\n",
              "      <td>25</td>\n",
              "    </tr>\n",
              "    <tr>\n",
              "      <th>3</th>\n",
              "      <td>1</td>\n",
              "      <td>Moldova</td>\n",
              "      <td>1</td>\n",
              "      <td>1</td>\n",
              "      <td>1</td>\n",
              "      <td>7225</td>\n",
              "      <td>421.89</td>\n",
              "      <td>364.69</td>\n",
              "      <td>3048155.25</td>\n",
              "      <td>2634885.25</td>\n",
              "      <td>413270.00</td>\n",
              "      <td>2012</td>\n",
              "      <td>2</td>\n",
              "      <td>28</td>\n",
              "      <td>2012</td>\n",
              "      <td>3</td>\n",
              "      <td>20</td>\n",
              "    </tr>\n",
              "    <tr>\n",
              "      <th>4</th>\n",
              "      <td>1</td>\n",
              "      <td>Malta</td>\n",
              "      <td>9</td>\n",
              "      <td>1</td>\n",
              "      <td>2</td>\n",
              "      <td>1975</td>\n",
              "      <td>205.70</td>\n",
              "      <td>117.11</td>\n",
              "      <td>406257.50</td>\n",
              "      <td>231292.25</td>\n",
              "      <td>174965.25</td>\n",
              "      <td>2010</td>\n",
              "      <td>8</td>\n",
              "      <td>12</td>\n",
              "      <td>2010</td>\n",
              "      <td>9</td>\n",
              "      <td>13</td>\n",
              "    </tr>\n",
              "  </tbody>\n",
              "</table>\n",
              "</div>"
            ],
            "text/plain": [
              "   Region   Country  Item Type  ...  Ship Date_year  Ship Date_month  Ship Date_day\n",
              "0       0   Namibia          0  ...            2015               10             12\n",
              "1       1   Iceland         11  ...            2011                1              9\n",
              "2       1    Russia          1  ...            2017                6             25\n",
              "3       1  Moldova           1  ...            2012                3             20\n",
              "4       1     Malta          9  ...            2010                9             13\n",
              "\n",
              "[5 rows x 17 columns]"
            ]
          },
          "metadata": {},
          "execution_count": 6
        }
      ]
    },
    {
      "cell_type": "code",
      "metadata": {
        "colab": {
          "base_uri": "https://localhost:8080/"
        },
        "id": "5hDLJu-f9evr",
        "outputId": "e6b61529-2d05-4da5-cc11-f7eb545e3bd7"
      },
      "source": [
        "df.shape"
      ],
      "execution_count": 7,
      "outputs": [
        {
          "output_type": "execute_result",
          "data": {
            "text/plain": [
              "(43426, 17)"
            ]
          },
          "metadata": {},
          "execution_count": 7
        }
      ]
    },
    {
      "cell_type": "code",
      "metadata": {
        "colab": {
          "base_uri": "https://localhost:8080/",
          "height": 954
        },
        "id": "1NqXZqwYWBC1",
        "outputId": "8fc2b9bb-bb6d-4212-b288-a3807c091ae7"
      },
      "source": [
        "plt.subplots(figsize=(15,15))\n",
        "sns.heatmap(df.corr(), cmap = 'Blues_r',annot = True)"
      ],
      "execution_count": 8,
      "outputs": [
        {
          "output_type": "execute_result",
          "data": {
            "text/plain": [
              "<matplotlib.axes._subplots.AxesSubplot at 0x7f5f8bd31790>"
            ]
          },
          "metadata": {},
          "execution_count": 8
        },
        {
          "output_type": "display_data",
          "data": {
            "image/png": "[encoded data removed]",
            "text/plain": [
              "<Figure size 1080x1080 with 2 Axes>"
            ]
          },
          "metadata": {}
        }
      ]
    },
    {
      "cell_type": "markdown",
      "metadata": {
        "id": "LXOMmAWaVkFq"
      },
      "source": [
        "# Splitting the dataset"
      ]
    },
    {
      "cell_type": "markdown",
      "metadata": {
        "id": "_qCYBcnkWaSJ"
      },
      "source": [
        "After peforming the **Data Analysis**, **Data Cleaning**, **Data Preprocessing** on our dataset, it's time to finally split the dataset into train and test dataset.\n",
        "We'll use sklearn train_test_split and split our dataset into 70:30 ratio for train and test respectively."
      ]
    },
    {
      "cell_type": "code",
      "metadata": {
        "id": "u0xGcXkOXiZp"
      },
      "source": [
        "x = df.drop('Total Profit',axis = 1)\n",
        "y = pd.DataFrame()\n",
        "y = df['Total Profit']"
      ],
      "execution_count": 9,
      "outputs": []
    },
    {
      "cell_type": "code",
      "metadata": {
        "colab": {
          "base_uri": "https://localhost:8080/",
          "height": 223
        },
        "id": "LJwhhQQUXqup",
        "outputId": "165816e1-3878-4412-bcf6-af84ece23e6c"
      },
      "source": [
        "x.head()"
      ],
      "execution_count": 10,
      "outputs": [
        {
          "output_type": "execute_result",
          "data": {
            "text/html": [
              "<div>\n",
              "<style scoped>\n",
              "    .dataframe tbody tr th:only-of-type {\n",
              "        vertical-align: middle;\n",
              "    }\n",
              "\n",
              "    .dataframe tbody tr th {\n",
              "        vertical-align: top;\n",
              "    }\n",
              "\n",
              "    .dataframe thead th {\n",
              "        text-align: right;\n",
              "    }\n",
              "</style>\n",
              "<table border=\"1\" class=\"dataframe\">\n",
              "  <thead>\n",
              "    <tr style=\"text-align: right;\">\n",
              "      <th></th>\n",
              "      <th>Region</th>\n",
              "      <th>Country</th>\n",
              "      <th>Item Type</th>\n",
              "      <th>Sales Channel</th>\n",
              "      <th>Order Priority</th>\n",
              "      <th>Units Sold</th>\n",
              "      <th>Unit Price</th>\n",
              "      <th>Unit Cost</th>\n",
              "      <th>Total Revenue</th>\n",
              "      <th>Total Cost</th>\n",
              "      <th>Order Date_year</th>\n",
              "      <th>Order Date_month</th>\n",
              "      <th>Order Date_day</th>\n",
              "      <th>Ship Date_year</th>\n",
              "      <th>Ship Date_month</th>\n",
              "      <th>Ship Date_day</th>\n",
              "    </tr>\n",
              "  </thead>\n",
              "  <tbody>\n",
              "    <tr>\n",
              "      <th>0</th>\n",
              "      <td>0</td>\n",
              "      <td>Namibia</td>\n",
              "      <td>0</td>\n",
              "      <td>0</td>\n",
              "      <td>2</td>\n",
              "      <td>3604</td>\n",
              "      <td>668.27</td>\n",
              "      <td>502.54</td>\n",
              "      <td>2408445.08</td>\n",
              "      <td>1811154.16</td>\n",
              "      <td>2015</td>\n",
              "      <td>8</td>\n",
              "      <td>31</td>\n",
              "      <td>2015</td>\n",
              "      <td>10</td>\n",
              "      <td>12</td>\n",
              "    </tr>\n",
              "    <tr>\n",
              "      <th>1</th>\n",
              "      <td>1</td>\n",
              "      <td>Iceland</td>\n",
              "      <td>11</td>\n",
              "      <td>1</td>\n",
              "      <td>3</td>\n",
              "      <td>8435</td>\n",
              "      <td>255.28</td>\n",
              "      <td>159.42</td>\n",
              "      <td>2153286.80</td>\n",
              "      <td>1344707.70</td>\n",
              "      <td>2010</td>\n",
              "      <td>11</td>\n",
              "      <td>20</td>\n",
              "      <td>2011</td>\n",
              "      <td>1</td>\n",
              "      <td>9</td>\n",
              "    </tr>\n",
              "    <tr>\n",
              "      <th>2</th>\n",
              "      <td>1</td>\n",
              "      <td>Russia</td>\n",
              "      <td>1</td>\n",
              "      <td>1</td>\n",
              "      <td>1</td>\n",
              "      <td>4848</td>\n",
              "      <td>421.89</td>\n",
              "      <td>364.69</td>\n",
              "      <td>2045322.72</td>\n",
              "      <td>1768017.12</td>\n",
              "      <td>2017</td>\n",
              "      <td>6</td>\n",
              "      <td>22</td>\n",
              "      <td>2017</td>\n",
              "      <td>6</td>\n",
              "      <td>25</td>\n",
              "    </tr>\n",
              "    <tr>\n",
              "      <th>3</th>\n",
              "      <td>1</td>\n",
              "      <td>Moldova</td>\n",
              "      <td>1</td>\n",
              "      <td>1</td>\n",
              "      <td>1</td>\n",
              "      <td>7225</td>\n",
              "      <td>421.89</td>\n",
              "      <td>364.69</td>\n",
              "      <td>3048155.25</td>\n",
              "      <td>2634885.25</td>\n",
              "      <td>2012</td>\n",
              "      <td>2</td>\n",
              "      <td>28</td>\n",
              "      <td>2012</td>\n",
              "      <td>3</td>\n",
              "      <td>20</td>\n",
              "    </tr>\n",
              "    <tr>\n",
              "      <th>4</th>\n",
              "      <td>1</td>\n",
              "      <td>Malta</td>\n",
              "      <td>9</td>\n",
              "      <td>1</td>\n",
              "      <td>2</td>\n",
              "      <td>1975</td>\n",
              "      <td>205.70</td>\n",
              "      <td>117.11</td>\n",
              "      <td>406257.50</td>\n",
              "      <td>231292.25</td>\n",
              "      <td>2010</td>\n",
              "      <td>8</td>\n",
              "      <td>12</td>\n",
              "      <td>2010</td>\n",
              "      <td>9</td>\n",
              "      <td>13</td>\n",
              "    </tr>\n",
              "  </tbody>\n",
              "</table>\n",
              "</div>"
            ],
            "text/plain": [
              "   Region   Country  Item Type  ...  Ship Date_year  Ship Date_month  Ship Date_day\n",
              "0       0   Namibia          0  ...            2015               10             12\n",
              "1       1   Iceland         11  ...            2011                1              9\n",
              "2       1    Russia          1  ...            2017                6             25\n",
              "3       1  Moldova           1  ...            2012                3             20\n",
              "4       1     Malta          9  ...            2010                9             13\n",
              "\n",
              "[5 rows x 16 columns]"
            ]
          },
          "metadata": {},
          "execution_count": 10
        }
      ]
    },
    {
      "cell_type": "code",
      "metadata": {
        "id": "qSwAnEv-eWwF"
      },
      "source": [
        "from sklearn.model_selection import train_test_split\n",
        "x_train, x_test, y_train, y_test = train_test_split(x, y, test_size=0.30, random_state=42)"
      ],
      "execution_count": 11,
      "outputs": []
    },
    {
      "cell_type": "code",
      "metadata": {
        "colab": {
          "base_uri": "https://localhost:8080/",
          "height": 241
        },
        "id": "ZRurXZXTeW6H",
        "outputId": "167132e3-55e3-4617-8ff8-11b5df826bf1"
      },
      "source": [
        "x_train.head()"
      ],
      "execution_count": 12,
      "outputs": [
        {
          "output_type": "execute_result",
          "data": {
            "text/html": [
              "<div>\n",
              "<style scoped>\n",
              "    .dataframe tbody tr th:only-of-type {\n",
              "        vertical-align: middle;\n",
              "    }\n",
              "\n",
              "    .dataframe tbody tr th {\n",
              "        vertical-align: top;\n",
              "    }\n",
              "\n",
              "    .dataframe thead th {\n",
              "        text-align: right;\n",
              "    }\n",
              "</style>\n",
              "<table border=\"1\" class=\"dataframe\">\n",
              "  <thead>\n",
              "    <tr style=\"text-align: right;\">\n",
              "      <th></th>\n",
              "      <th>Region</th>\n",
              "      <th>Country</th>\n",
              "      <th>Item Type</th>\n",
              "      <th>Sales Channel</th>\n",
              "      <th>Order Priority</th>\n",
              "      <th>Units Sold</th>\n",
              "      <th>Unit Price</th>\n",
              "      <th>Unit Cost</th>\n",
              "      <th>Total Revenue</th>\n",
              "      <th>Total Cost</th>\n",
              "      <th>Order Date_year</th>\n",
              "      <th>Order Date_month</th>\n",
              "      <th>Order Date_day</th>\n",
              "      <th>Ship Date_year</th>\n",
              "      <th>Ship Date_month</th>\n",
              "      <th>Ship Date_day</th>\n",
              "    </tr>\n",
              "  </thead>\n",
              "  <tbody>\n",
              "    <tr>\n",
              "      <th>37319</th>\n",
              "      <td>5</td>\n",
              "      <td>Papua New Guinea</td>\n",
              "      <td>11</td>\n",
              "      <td>1</td>\n",
              "      <td>4</td>\n",
              "      <td>626</td>\n",
              "      <td>255.28</td>\n",
              "      <td>159.42</td>\n",
              "      <td>159805.28</td>\n",
              "      <td>99796.92</td>\n",
              "      <td>2015</td>\n",
              "      <td>7</td>\n",
              "      <td>13</td>\n",
              "      <td>2015</td>\n",
              "      <td>8</td>\n",
              "      <td>30</td>\n",
              "    </tr>\n",
              "    <tr>\n",
              "      <th>40787</th>\n",
              "      <td>0</td>\n",
              "      <td>Tanzania</td>\n",
              "      <td>2</td>\n",
              "      <td>0</td>\n",
              "      <td>4</td>\n",
              "      <td>6139</td>\n",
              "      <td>9.33</td>\n",
              "      <td>6.92</td>\n",
              "      <td>57276.87</td>\n",
              "      <td>42481.88</td>\n",
              "      <td>2015</td>\n",
              "      <td>1</td>\n",
              "      <td>29</td>\n",
              "      <td>2015</td>\n",
              "      <td>3</td>\n",
              "      <td>14</td>\n",
              "    </tr>\n",
              "    <tr>\n",
              "      <th>24534</th>\n",
              "      <td>1</td>\n",
              "      <td>Liechtenstein</td>\n",
              "      <td>4</td>\n",
              "      <td>1</td>\n",
              "      <td>1</td>\n",
              "      <td>5946</td>\n",
              "      <td>154.06</td>\n",
              "      <td>90.93</td>\n",
              "      <td>916040.76</td>\n",
              "      <td>540669.78</td>\n",
              "      <td>2013</td>\n",
              "      <td>3</td>\n",
              "      <td>11</td>\n",
              "      <td>2013</td>\n",
              "      <td>4</td>\n",
              "      <td>3</td>\n",
              "    </tr>\n",
              "    <tr>\n",
              "      <th>1944</th>\n",
              "      <td>1</td>\n",
              "      <td>Vatican City</td>\n",
              "      <td>0</td>\n",
              "      <td>1</td>\n",
              "      <td>2</td>\n",
              "      <td>3637</td>\n",
              "      <td>668.27</td>\n",
              "      <td>502.54</td>\n",
              "      <td>2430497.99</td>\n",
              "      <td>1827737.98</td>\n",
              "      <td>2017</td>\n",
              "      <td>4</td>\n",
              "      <td>4</td>\n",
              "      <td>2017</td>\n",
              "      <td>5</td>\n",
              "      <td>20</td>\n",
              "    </tr>\n",
              "    <tr>\n",
              "      <th>17244</th>\n",
              "      <td>2</td>\n",
              "      <td>Malaysia</td>\n",
              "      <td>5</td>\n",
              "      <td>1</td>\n",
              "      <td>4</td>\n",
              "      <td>5410</td>\n",
              "      <td>81.73</td>\n",
              "      <td>56.67</td>\n",
              "      <td>442159.30</td>\n",
              "      <td>306584.70</td>\n",
              "      <td>2015</td>\n",
              "      <td>8</td>\n",
              "      <td>16</td>\n",
              "      <td>2015</td>\n",
              "      <td>9</td>\n",
              "      <td>27</td>\n",
              "    </tr>\n",
              "  </tbody>\n",
              "</table>\n",
              "</div>"
            ],
            "text/plain": [
              "       Region           Country  ...  Ship Date_month  Ship Date_day\n",
              "37319       5  Papua New Guinea  ...                8             30\n",
              "40787       0          Tanzania  ...                3             14\n",
              "24534       1     Liechtenstein  ...                4              3\n",
              "1944        1      Vatican City  ...                5             20\n",
              "17244       2          Malaysia  ...                9             27\n",
              "\n",
              "[5 rows x 16 columns]"
            ]
          },
          "metadata": {},
          "execution_count": 12
        }
      ]
    },
    {
      "cell_type": "code",
      "metadata": {
        "colab": {
          "base_uri": "https://localhost:8080/",
          "height": 275
        },
        "id": "d3tpL1QgeW8k",
        "outputId": "c9226324-d160-4c04-ad57-73559213161d"
      },
      "source": [
        "x_test.head()"
      ],
      "execution_count": 13,
      "outputs": [
        {
          "output_type": "execute_result",
          "data": {
            "text/html": [
              "<div>\n",
              "<style scoped>\n",
              "    .dataframe tbody tr th:only-of-type {\n",
              "        vertical-align: middle;\n",
              "    }\n",
              "\n",
              "    .dataframe tbody tr th {\n",
              "        vertical-align: top;\n",
              "    }\n",
              "\n",
              "    .dataframe thead th {\n",
              "        text-align: right;\n",
              "    }\n",
              "</style>\n",
              "<table border=\"1\" class=\"dataframe\">\n",
              "  <thead>\n",
              "    <tr style=\"text-align: right;\">\n",
              "      <th></th>\n",
              "      <th>Region</th>\n",
              "      <th>Country</th>\n",
              "      <th>Item Type</th>\n",
              "      <th>Sales Channel</th>\n",
              "      <th>Order Priority</th>\n",
              "      <th>Units Sold</th>\n",
              "      <th>Unit Price</th>\n",
              "      <th>Unit Cost</th>\n",
              "      <th>Total Revenue</th>\n",
              "      <th>Total Cost</th>\n",
              "      <th>Order Date_year</th>\n",
              "      <th>Order Date_month</th>\n",
              "      <th>Order Date_day</th>\n",
              "      <th>Ship Date_year</th>\n",
              "      <th>Ship Date_month</th>\n",
              "      <th>Ship Date_day</th>\n",
              "    </tr>\n",
              "  </thead>\n",
              "  <tbody>\n",
              "    <tr>\n",
              "      <th>16413</th>\n",
              "      <td>0</td>\n",
              "      <td>Benin</td>\n",
              "      <td>11</td>\n",
              "      <td>1</td>\n",
              "      <td>1</td>\n",
              "      <td>1361</td>\n",
              "      <td>255.28</td>\n",
              "      <td>159.42</td>\n",
              "      <td>347436.08</td>\n",
              "      <td>216970.62</td>\n",
              "      <td>2014</td>\n",
              "      <td>10</td>\n",
              "      <td>17</td>\n",
              "      <td>2014</td>\n",
              "      <td>11</td>\n",
              "      <td>27</td>\n",
              "    </tr>\n",
              "    <tr>\n",
              "      <th>21366</th>\n",
              "      <td>4</td>\n",
              "      <td>Honduras</td>\n",
              "      <td>2</td>\n",
              "      <td>0</td>\n",
              "      <td>3</td>\n",
              "      <td>219</td>\n",
              "      <td>9.33</td>\n",
              "      <td>6.92</td>\n",
              "      <td>2043.27</td>\n",
              "      <td>1515.48</td>\n",
              "      <td>2012</td>\n",
              "      <td>4</td>\n",
              "      <td>28</td>\n",
              "      <td>2012</td>\n",
              "      <td>5</td>\n",
              "      <td>5</td>\n",
              "    </tr>\n",
              "    <tr>\n",
              "      <th>30446</th>\n",
              "      <td>0</td>\n",
              "      <td>Central African Republic</td>\n",
              "      <td>3</td>\n",
              "      <td>0</td>\n",
              "      <td>2</td>\n",
              "      <td>3739</td>\n",
              "      <td>437.20</td>\n",
              "      <td>263.33</td>\n",
              "      <td>1634690.80</td>\n",
              "      <td>984590.87</td>\n",
              "      <td>2013</td>\n",
              "      <td>11</td>\n",
              "      <td>3</td>\n",
              "      <td>2013</td>\n",
              "      <td>11</td>\n",
              "      <td>25</td>\n",
              "    </tr>\n",
              "    <tr>\n",
              "      <th>32051</th>\n",
              "      <td>1</td>\n",
              "      <td>Czech Republic</td>\n",
              "      <td>3</td>\n",
              "      <td>0</td>\n",
              "      <td>1</td>\n",
              "      <td>3928</td>\n",
              "      <td>437.20</td>\n",
              "      <td>263.33</td>\n",
              "      <td>1717321.60</td>\n",
              "      <td>1034360.24</td>\n",
              "      <td>2017</td>\n",
              "      <td>5</td>\n",
              "      <td>27</td>\n",
              "      <td>2017</td>\n",
              "      <td>6</td>\n",
              "      <td>27</td>\n",
              "    </tr>\n",
              "    <tr>\n",
              "      <th>4277</th>\n",
              "      <td>2</td>\n",
              "      <td>Bhutan</td>\n",
              "      <td>7</td>\n",
              "      <td>0</td>\n",
              "      <td>1</td>\n",
              "      <td>544</td>\n",
              "      <td>152.58</td>\n",
              "      <td>97.44</td>\n",
              "      <td>83003.52</td>\n",
              "      <td>53007.36</td>\n",
              "      <td>2010</td>\n",
              "      <td>12</td>\n",
              "      <td>12</td>\n",
              "      <td>2010</td>\n",
              "      <td>12</td>\n",
              "      <td>30</td>\n",
              "    </tr>\n",
              "  </tbody>\n",
              "</table>\n",
              "</div>"
            ],
            "text/plain": [
              "       Region                   Country  ...  Ship Date_month  Ship Date_day\n",
              "16413       0                     Benin  ...               11             27\n",
              "21366       4                  Honduras  ...                5              5\n",
              "30446       0  Central African Republic  ...               11             25\n",
              "32051       1            Czech Republic  ...                6             27\n",
              "4277        2                    Bhutan  ...               12             30\n",
              "\n",
              "[5 rows x 16 columns]"
            ]
          },
          "metadata": {},
          "execution_count": 13
        }
      ]
    },
    {
      "cell_type": "code",
      "metadata": {
        "id": "WqWE5yzqeW_P"
      },
      "source": [
        "# Import label encoder \n",
        "from sklearn import preprocessing   \n",
        "# label_encoder object knows how to understand word labels. \n",
        "label_encoder = preprocessing.LabelEncoder()   \n",
        "# Encode labels in column 'Country'. \n",
        "x_train['Country']= label_encoder.fit_transform(x_train['Country'])\n",
        "x_test['Country']= label_encoder.transform(x_test['Country'])"
      ],
      "execution_count": 14,
      "outputs": []
    },
    {
      "cell_type": "code",
      "metadata": {
        "id": "REgHIdiMeXBp"
      },
      "source": [
        "from sklearn.preprocessing import MinMaxScaler\n",
        "scaler = MinMaxScaler() \n",
        "x_train[['Region','Country','Item Type','Sales Channel','Order Priority','Total Revenue','Total Cost']] = scaler.fit_transform(x_train[['Region','Country','Item Type','Sales Channel','Order Priority','Total Revenue','Total Cost']])\n",
        "x_test[['Region','Country','Item Type','Sales Channel','Order Priority','Total Revenue','Total Cost']] = scaler.transform(x_test[['Region','Country','Item Type','Sales Channel','Order Priority','Total Revenue','Total Cost']])\n"
      ],
      "execution_count": 15,
      "outputs": []
    },
    {
      "cell_type": "code",
      "metadata": {
        "id": "JE8DbFTleXED"
      },
      "source": [
        "x_train[['Units Sold','Unit Price','Unit Cost']] = scaler.fit_transform(x_train[['Units Sold','Unit Price','Unit Cost']])\n",
        "x_test[['Units Sold','Unit Price','Unit Cost']] = scaler.transform(x_test[['Units Sold','Unit Price','Unit Cost']])"
      ],
      "execution_count": 16,
      "outputs": []
    },
    {
      "cell_type": "code",
      "metadata": {
        "id": "n9eC087NeXHb"
      },
      "source": [
        "x_train[['Order Date_year','Order Date_month','Order Date_day','Ship Date_year','Ship Date_month','Ship Date_day']] = scaler.fit_transform(x_train[['Order Date_year','Order Date_month','Order Date_day','Ship Date_year','Ship Date_month','Ship Date_day']])\n",
        "x_test[['Order Date_year','Order Date_month','Order Date_day','Ship Date_year','Ship Date_month','Ship Date_day']] = scaler.transform(x_test[['Order Date_year','Order Date_month','Order Date_day','Ship Date_year','Ship Date_month','Ship Date_day']])"
      ],
      "execution_count": 17,
      "outputs": []
    },
    {
      "cell_type": "code",
      "metadata": {
        "id": "qxf0lLT3VhkN",
        "colab": {
          "base_uri": "https://localhost:8080/",
          "height": 223
        },
        "outputId": "b206779f-5d16-460e-cb21-536597100c10"
      },
      "source": [
        "x_train.head()"
      ],
      "execution_count": 18,
      "outputs": [
        {
          "output_type": "execute_result",
          "data": {
            "text/html": [
              "<div>\n",
              "<style scoped>\n",
              "    .dataframe tbody tr th:only-of-type {\n",
              "        vertical-align: middle;\n",
              "    }\n",
              "\n",
              "    .dataframe tbody tr th {\n",
              "        vertical-align: top;\n",
              "    }\n",
              "\n",
              "    .dataframe thead th {\n",
              "        text-align: right;\n",
              "    }\n",
              "</style>\n",
              "<table border=\"1\" class=\"dataframe\">\n",
              "  <thead>\n",
              "    <tr style=\"text-align: right;\">\n",
              "      <th></th>\n",
              "      <th>Region</th>\n",
              "      <th>Country</th>\n",
              "      <th>Item Type</th>\n",
              "      <th>Sales Channel</th>\n",
              "      <th>Order Priority</th>\n",
              "      <th>Units Sold</th>\n",
              "      <th>Unit Price</th>\n",
              "      <th>Unit Cost</th>\n",
              "      <th>Total Revenue</th>\n",
              "      <th>Total Cost</th>\n",
              "      <th>Order Date_year</th>\n",
              "      <th>Order Date_month</th>\n",
              "      <th>Order Date_day</th>\n",
              "      <th>Ship Date_year</th>\n",
              "      <th>Ship Date_month</th>\n",
              "      <th>Ship Date_day</th>\n",
              "    </tr>\n",
              "  </thead>\n",
              "  <tbody>\n",
              "    <tr>\n",
              "      <th>37319</th>\n",
              "      <td>0.833333</td>\n",
              "      <td>0.679348</td>\n",
              "      <td>1.000000</td>\n",
              "      <td>1.0</td>\n",
              "      <td>1.000000</td>\n",
              "      <td>0.062506</td>\n",
              "      <td>0.373251</td>\n",
              "      <td>0.294379</td>\n",
              "      <td>0.051061</td>\n",
              "      <td>0.036887</td>\n",
              "      <td>0.714286</td>\n",
              "      <td>0.545455</td>\n",
              "      <td>0.400000</td>\n",
              "      <td>0.714286</td>\n",
              "      <td>0.636364</td>\n",
              "      <td>0.966667</td>\n",
              "    </tr>\n",
              "    <tr>\n",
              "      <th>40787</th>\n",
              "      <td>0.000000</td>\n",
              "      <td>0.880435</td>\n",
              "      <td>0.181818</td>\n",
              "      <td>0.0</td>\n",
              "      <td>1.000000</td>\n",
              "      <td>0.613861</td>\n",
              "      <td>0.000000</td>\n",
              "      <td>0.000000</td>\n",
              "      <td>0.018295</td>\n",
              "      <td>0.015698</td>\n",
              "      <td>0.714286</td>\n",
              "      <td>0.000000</td>\n",
              "      <td>0.933333</td>\n",
              "      <td>0.714286</td>\n",
              "      <td>0.181818</td>\n",
              "      <td>0.433333</td>\n",
              "    </tr>\n",
              "    <tr>\n",
              "      <th>24534</th>\n",
              "      <td>0.166667</td>\n",
              "      <td>0.489130</td>\n",
              "      <td>0.363636</td>\n",
              "      <td>1.0</td>\n",
              "      <td>0.000000</td>\n",
              "      <td>0.594559</td>\n",
              "      <td>0.219641</td>\n",
              "      <td>0.162169</td>\n",
              "      <td>0.292737</td>\n",
              "      <td>0.199879</td>\n",
              "      <td>0.428571</td>\n",
              "      <td>0.181818</td>\n",
              "      <td>0.333333</td>\n",
              "      <td>0.428571</td>\n",
              "      <td>0.272727</td>\n",
              "      <td>0.066667</td>\n",
              "    </tr>\n",
              "    <tr>\n",
              "      <th>1944</th>\n",
              "      <td>0.166667</td>\n",
              "      <td>0.978261</td>\n",
              "      <td>0.000000</td>\n",
              "      <td>1.0</td>\n",
              "      <td>0.333333</td>\n",
              "      <td>0.363636</td>\n",
              "      <td>1.000000</td>\n",
              "      <td>0.956721</td>\n",
              "      <td>0.776724</td>\n",
              "      <td>0.675710</td>\n",
              "      <td>1.000000</td>\n",
              "      <td>0.272727</td>\n",
              "      <td>0.100000</td>\n",
              "      <td>1.000000</td>\n",
              "      <td>0.363636</td>\n",
              "      <td>0.633333</td>\n",
              "    </tr>\n",
              "    <tr>\n",
              "      <th>17244</th>\n",
              "      <td>0.333333</td>\n",
              "      <td>0.521739</td>\n",
              "      <td>0.454545</td>\n",
              "      <td>1.0</td>\n",
              "      <td>1.000000</td>\n",
              "      <td>0.540954</td>\n",
              "      <td>0.109873</td>\n",
              "      <td>0.096035</td>\n",
              "      <td>0.141295</td>\n",
              "      <td>0.113337</td>\n",
              "      <td>0.714286</td>\n",
              "      <td>0.636364</td>\n",
              "      <td>0.500000</td>\n",
              "      <td>0.714286</td>\n",
              "      <td>0.727273</td>\n",
              "      <td>0.866667</td>\n",
              "    </tr>\n",
              "  </tbody>\n",
              "</table>\n",
              "</div>"
            ],
            "text/plain": [
              "         Region   Country  ...  Ship Date_month  Ship Date_day\n",
              "37319  0.833333  0.679348  ...         0.636364       0.966667\n",
              "40787  0.000000  0.880435  ...         0.181818       0.433333\n",
              "24534  0.166667  0.489130  ...         0.272727       0.066667\n",
              "1944   0.166667  0.978261  ...         0.363636       0.633333\n",
              "17244  0.333333  0.521739  ...         0.727273       0.866667\n",
              "\n",
              "[5 rows x 16 columns]"
            ]
          },
          "metadata": {},
          "execution_count": 18
        }
      ]
    },
    {
      "cell_type": "code",
      "metadata": {
        "colab": {
          "base_uri": "https://localhost:8080/",
          "height": 223
        },
        "id": "wmb880QmfLHr",
        "outputId": "96eef8b7-305d-4230-e860-e827a07a588f"
      },
      "source": [
        "x_test.head()"
      ],
      "execution_count": 19,
      "outputs": [
        {
          "output_type": "execute_result",
          "data": {
            "text/html": [
              "<div>\n",
              "<style scoped>\n",
              "    .dataframe tbody tr th:only-of-type {\n",
              "        vertical-align: middle;\n",
              "    }\n",
              "\n",
              "    .dataframe tbody tr th {\n",
              "        vertical-align: top;\n",
              "    }\n",
              "\n",
              "    .dataframe thead th {\n",
              "        text-align: right;\n",
              "    }\n",
              "</style>\n",
              "<table border=\"1\" class=\"dataframe\">\n",
              "  <thead>\n",
              "    <tr style=\"text-align: right;\">\n",
              "      <th></th>\n",
              "      <th>Region</th>\n",
              "      <th>Country</th>\n",
              "      <th>Item Type</th>\n",
              "      <th>Sales Channel</th>\n",
              "      <th>Order Priority</th>\n",
              "      <th>Units Sold</th>\n",
              "      <th>Unit Price</th>\n",
              "      <th>Unit Cost</th>\n",
              "      <th>Total Revenue</th>\n",
              "      <th>Total Cost</th>\n",
              "      <th>Order Date_year</th>\n",
              "      <th>Order Date_month</th>\n",
              "      <th>Order Date_day</th>\n",
              "      <th>Ship Date_year</th>\n",
              "      <th>Ship Date_month</th>\n",
              "      <th>Ship Date_day</th>\n",
              "    </tr>\n",
              "  </thead>\n",
              "  <tbody>\n",
              "    <tr>\n",
              "      <th>16413</th>\n",
              "      <td>0.000000</td>\n",
              "      <td>0.086957</td>\n",
              "      <td>1.000000</td>\n",
              "      <td>1.0</td>\n",
              "      <td>0.000000</td>\n",
              "      <td>0.136014</td>\n",
              "      <td>0.373251</td>\n",
              "      <td>0.294379</td>\n",
              "      <td>0.111024</td>\n",
              "      <td>0.080207</td>\n",
              "      <td>0.571429</td>\n",
              "      <td>0.818182</td>\n",
              "      <td>0.533333</td>\n",
              "      <td>0.571429</td>\n",
              "      <td>0.909091</td>\n",
              "      <td>0.866667</td>\n",
              "    </tr>\n",
              "    <tr>\n",
              "      <th>21366</th>\n",
              "      <td>0.666667</td>\n",
              "      <td>0.353261</td>\n",
              "      <td>0.181818</td>\n",
              "      <td>0.0</td>\n",
              "      <td>0.666667</td>\n",
              "      <td>0.021802</td>\n",
              "      <td>0.000000</td>\n",
              "      <td>0.000000</td>\n",
              "      <td>0.000644</td>\n",
              "      <td>0.000553</td>\n",
              "      <td>0.285714</td>\n",
              "      <td>0.272727</td>\n",
              "      <td>0.900000</td>\n",
              "      <td>0.285714</td>\n",
              "      <td>0.363636</td>\n",
              "      <td>0.133333</td>\n",
              "    </tr>\n",
              "    <tr>\n",
              "      <th>30446</th>\n",
              "      <td>0.000000</td>\n",
              "      <td>0.152174</td>\n",
              "      <td>0.272727</td>\n",
              "      <td>0.0</td>\n",
              "      <td>0.333333</td>\n",
              "      <td>0.373837</td>\n",
              "      <td>0.649331</td>\n",
              "      <td>0.494962</td>\n",
              "      <td>0.522402</td>\n",
              "      <td>0.363997</td>\n",
              "      <td>0.428571</td>\n",
              "      <td>0.909091</td>\n",
              "      <td>0.066667</td>\n",
              "      <td>0.428571</td>\n",
              "      <td>0.909091</td>\n",
              "      <td>0.800000</td>\n",
              "    </tr>\n",
              "    <tr>\n",
              "      <th>32051</th>\n",
              "      <td>0.166667</td>\n",
              "      <td>0.201087</td>\n",
              "      <td>0.272727</td>\n",
              "      <td>0.0</td>\n",
              "      <td>0.000000</td>\n",
              "      <td>0.392739</td>\n",
              "      <td>0.649331</td>\n",
              "      <td>0.494962</td>\n",
              "      <td>0.548809</td>\n",
              "      <td>0.382397</td>\n",
              "      <td>1.000000</td>\n",
              "      <td>0.363636</td>\n",
              "      <td>0.866667</td>\n",
              "      <td>1.000000</td>\n",
              "      <td>0.454545</td>\n",
              "      <td>0.866667</td>\n",
              "    </tr>\n",
              "    <tr>\n",
              "      <th>4277</th>\n",
              "      <td>0.333333</td>\n",
              "      <td>0.092391</td>\n",
              "      <td>0.636364</td>\n",
              "      <td>0.0</td>\n",
              "      <td>0.000000</td>\n",
              "      <td>0.054305</td>\n",
              "      <td>0.217395</td>\n",
              "      <td>0.174736</td>\n",
              "      <td>0.026517</td>\n",
              "      <td>0.019589</td>\n",
              "      <td>0.000000</td>\n",
              "      <td>1.000000</td>\n",
              "      <td>0.366667</td>\n",
              "      <td>0.000000</td>\n",
              "      <td>1.000000</td>\n",
              "      <td>0.966667</td>\n",
              "    </tr>\n",
              "  </tbody>\n",
              "</table>\n",
              "</div>"
            ],
            "text/plain": [
              "         Region   Country  ...  Ship Date_month  Ship Date_day\n",
              "16413  0.000000  0.086957  ...         0.909091       0.866667\n",
              "21366  0.666667  0.353261  ...         0.363636       0.133333\n",
              "30446  0.000000  0.152174  ...         0.909091       0.800000\n",
              "32051  0.166667  0.201087  ...         0.454545       0.866667\n",
              "4277   0.333333  0.092391  ...         1.000000       0.966667\n",
              "\n",
              "[5 rows x 16 columns]"
            ]
          },
          "metadata": {},
          "execution_count": 19
        }
      ]
    },
    {
      "cell_type": "markdown",
      "metadata": {
        "id": "rqUYIWvlYlad"
      },
      "source": [
        "# Machine Learning Models"
      ]
    },
    {
      "cell_type": "markdown",
      "metadata": {
        "id": "mZqxzk3jYqst"
      },
      "source": [
        "## 1. Support Vector Regressors\n",
        "The first model which we're going to appply is SVR. \n",
        "SVR are really powerful algorithms. The speciality of SVR is its **Kernel Trick**\n",
        "The two most common typ of kernels are \n",
        "* Polynomial Kernels\n",
        "Polynomial kernel is a kernel function that represents the similarity of vectors (training samples) in a different feature space over polynomials of the original variables, allowing learning of non-linear models.\n",
        "\n",
        "* RBF Kernels\n",
        "RBF kernels are the most generalized form of kernelization and is one of the most widely used kernels due to its similarity to the Gaussian distribution. The RBF kernel function for two points X1 and X2 computes the similarity or how close they are to each other. \n",
        "Mathematically,\n",
        " **K(X1,X2) = exp(-||X1-X2||^2 / 2σ^2 )** \n"
      ]
    },
    {
      "cell_type": "markdown",
      "metadata": {
        "id": "UmP0S7IafkI7"
      },
      "source": [
        "##Hyperparameter Tuning \n",
        "**Hyperparameter**- Model configuration argument specified by the developer to guide the learning process for a specific dataset\n",
        "\n",
        "The process where we objectively search different values for model hyperparameters and choose a subset that results in a model that achieves the best performance on a given dataset is called hyperparameter optimization or hyperparameter tuning and is available in the scikit-learn Python machine learning library. \n",
        "\n",
        "The result of a hyperparameter optimization is a single set of well-performing hyperparameters that you can use to configure your model."
      ]
    },
    {
      "cell_type": "markdown",
      "metadata": {
        "id": "Tf6pExY0jDAT"
      },
      "source": [
        "### Random Search Hyperparameter tuning technique\n",
        "It checks a randomly selected fixed number of combinations specified in **n_iter** of the **RandomizedSearchCV** function. \n",
        "\n",
        "Random search has a very high probability of finding the optimal hyperparameter combination within the randomly selected combinations. \n",
        "\n",
        "This method is very useful to find the optimal hyperparameter combination quickly and efficiently when the search space is higher dimensional and contains many combinations of values.\n"
      ]
    },
    {
      "cell_type": "markdown",
      "metadata": {
        "id": "RPNTHUUIz3Sj"
      },
      "source": [
        "### 1.1 RandomSearchCV on SVR\n",
        "The hyperparameters in SVR that need to be tuned are\n",
        "* kernel - This specifies the type of kernel we should use with our problem. Here, we'll use three kernels \n",
        "     1. Linear\n",
        "     2. Polynomial\n",
        "     3. RBF\n",
        "* degree - This parameter is used only if we're using polynomial kernel. This refers to what degree of polynomial we should use.\n",
        "* epsilon - This refers to the amount of error we can tolerate while getting the optimal hyperplane.\n",
        "* C - This is our regularization parameter. We use regularization parameter to make our model fit the data better and make less mistakes.\n"
      ]
    },
    {
      "cell_type": "code",
      "metadata": {
        "id": "vtHRG_3Gf2Mw"
      },
      "source": [
        "#which kernel to choose\n",
        "kernel = ['linear', 'poly', 'rbf']\n",
        "\n",
        "#degree if kernel is polynomial\n",
        "degree = [3,4,2,5,6]\n",
        "\n",
        "#epsilon - how much error can be tolerated\n",
        "epsilon = [float(x) for x in np.linspace(0, 1, 5)]\n",
        "\n",
        "# C - Regularization parameter\n",
        "C = [float(x) for x in np.linspace(1.0, 3.0, 5)]\n",
        "\n",
        "# Create the grid\n",
        "dt_grid = {'kernel': kernel,\n",
        "           'degree': degree,\n",
        "           'epsilon': epsilon,\n",
        "           'C' : C}"
      ],
      "execution_count": null,
      "outputs": []
    },
    {
      "cell_type": "code",
      "metadata": {
        "colab": {
          "base_uri": "https://localhost:8080/"
        },
        "id": "Wsn3cXb0jtU2",
        "outputId": "7bee2724-e6bd-4f1a-c254-bbed2de4fba5"
      },
      "source": [
        "dt_grid"
      ],
      "execution_count": null,
      "outputs": [
        {
          "output_type": "execute_result",
          "data": {
            "text/plain": [
              "{'C': [1.0, 1.5, 2.0, 2.5, 3.0],\n",
              " 'degree': [3, 4, 2, 5, 6],\n",
              " 'epsilon': [0.0, 0.25, 0.5, 0.75, 1.0],\n",
              " 'kernel': ['linear', 'poly', 'rbf']}"
            ]
          },
          "metadata": {},
          "execution_count": 248
        }
      ]
    },
    {
      "cell_type": "code",
      "metadata": {
        "colab": {
          "base_uri": "https://localhost:8080/"
        },
        "id": "yOWpMqpOjx7E",
        "outputId": "6488a44e-6dae-4ba6-f7d1-1f7513e52480"
      },
      "source": [
        "from sklearn.model_selection import RandomizedSearchCV\n",
        "from sklearn import svm\n",
        "\n",
        "# Create the model to be tuned\n",
        "dt_base = svm.SVR()\n",
        "\n",
        "# Create the random search SVR\n",
        "dt_random = RandomizedSearchCV(estimator = dt_base, param_distributions = dt_grid, \n",
        "                               n_iter = 5, cv = 5)\n",
        "\n",
        "# Fit the random search model\n",
        "dt_random.fit(x_train, y_train)\n",
        "\n",
        "# View the best parameters from the random search\n",
        "dt_random.best_params_"
      ],
      "execution_count": null,
      "outputs": [
        {
          "output_type": "execute_result",
          "data": {
            "text/plain": [
              "{'C': 3.0, 'degree': 6, 'epsilon': 0.5, 'kernel': 'poly'}"
            ]
          },
          "metadata": {},
          "execution_count": 249
        }
      ]
    },
    {
      "cell_type": "markdown",
      "metadata": {
        "id": "_A6eW3BG1DDj"
      },
      "source": [
        "The output of above code gives the best hyperparameter values that should be used if one wants high accuracy."
      ]
    },
    {
      "cell_type": "code",
      "metadata": {
        "colab": {
          "base_uri": "https://localhost:8080/"
        },
        "id": "ZAsIYf-lLoJi",
        "outputId": "8d4752e5-f2d7-4b3f-a9d3-55e8c5b5b2f7"
      },
      "source": [
        "svr = svm.SVR(C =  3.0, degree = 6, epsilon = 0.5, kernel = 'poly')\n",
        "svr.fit(x_train,y_train)\n",
        "print('r2_score on train data :',svr.score(x_train,y_train))"
      ],
      "execution_count": null,
      "outputs": [
        {
          "output_type": "stream",
          "name": "stdout",
          "text": [
            "r2_score on train data : 0.6094627932644908\n"
          ]
        }
      ]
    },
    {
      "cell_type": "code",
      "metadata": {
        "colab": {
          "base_uri": "https://localhost:8080/"
        },
        "id": "0ymuIeHNKJy0",
        "outputId": "4f707b1d-2d78-484e-8736-6842090432c9"
      },
      "source": [
        "pred_svm = svr.predict(x_test)\n",
        "r2_score(y_test, pred_svm)"
      ],
      "execution_count": null,
      "outputs": [
        {
          "output_type": "execute_result",
          "data": {
            "text/plain": [
              "0.599483727305758"
            ]
          },
          "metadata": {},
          "execution_count": 251
        }
      ]
    },
    {
      "cell_type": "markdown",
      "metadata": {
        "id": "HIpO9mSz1Up-"
      },
      "source": [
        "SVR have an r2_score of 0.61 on train data and 0.599 score on test data."
      ]
    },
    {
      "cell_type": "code",
      "metadata": {
        "colab": {
          "base_uri": "https://localhost:8080/",
          "height": 345
        },
        "id": "lTOHtCGzKKFM",
        "outputId": "3ae057df-4587-498c-f013-5f33c9cd79c3"
      },
      "source": [
        "plt.figure(figsize=(15, 5))\n",
        "plt.scatter(pred_svm,y_test, c =\"red\" , s = 3) \n",
        "plt.xlabel(\"prediction\") \n",
        "plt.ylabel(\"true value\") \n",
        "\n",
        "plt.title('True value vs Predicted value plot')\n",
        "ax = plt.axes()\n",
        "ax.set_facecolor(\"black\")\n",
        "\n",
        "plt.show()"
      ],
      "execution_count": null,
      "outputs": [
        {
          "output_type": "display_data",
          "data": {
            "image/png": "[encoded data removed]",
            "text/plain": [
              "<Figure size 1080x360 with 1 Axes>"
            ]
          },
          "metadata": {}
        }
      ]
    },
    {
      "cell_type": "markdown",
      "metadata": {
        "id": "CwZcREy-16Yk"
      },
      "source": [
        "The above **scatter plot** of *predicted* vs *true* value is not straight line as we can see."
      ]
    },
    {
      "cell_type": "markdown",
      "metadata": {
        "id": "WcFBg4L4okm7"
      },
      "source": [
        "## 2. K Nearest Neighbours Regressor"
      ]
    },
    {
      "cell_type": "markdown",
      "metadata": {
        "id": "r9mBKUjgowDD"
      },
      "source": [
        "### 2.1 Hyperparameter Tuning using Random Search For KNN"
      ]
    },
    {
      "cell_type": "markdown",
      "metadata": {
        "id": "w8ogsgrb2Ijf"
      },
      "source": [
        "The hyperparameters for KNN to be tuned are\n",
        "* weights - This refers to how should the neighbours of a particular data point be treated. The possible values are\n",
        "        1. 'uniform' : uniform weights. All points in each neighborhood are weighted equally.\n",
        "\n",
        "        2. 'distance' : weight points by the inverse of their distance. in this case, closer neighbors of a query point will have a greater influence than neighbors which are further away.\n",
        "* algorithm - Algorithm used to compute the nearest neighbors\n",
        "        1. auto - will use most appropriate algorithm based on values passed to *fit* method.\n",
        "        2. kd_tree - kd_tree will be used.\n",
        "* n_neighbors - Number of neighbours to consider.\n",
        "* p - Power parameter for the Minkowski metric.\n",
        "        1. p = 1 - **Manhattan_distance (l1)** \n",
        "        2. p = 2 - **Euclidean_distance (l2)** \n",
        "* leaf_size - Leaf size for KDTree. Can affect the speed of the construction and query, as well as the memory required to store the tree. "
      ]
    },
    {
      "cell_type": "code",
      "metadata": {
        "id": "AU8gD0ljfHZ7"
      },
      "source": [
        "#which weight metric to choose\n",
        "weights = ['uniform', 'distance']\n",
        "\n",
        "#degree if kernel is polynomial\n",
        "algorithm = ['auto', 'kd_tree']\n",
        "\n",
        "\n",
        "n_neighbors = [3,5,7,1]\n",
        "\n",
        "#p value\n",
        "p = [1,2]\n",
        "\n",
        "# leaf size \n",
        "leaf_size = [30,40,20,45]\n",
        "\n",
        "# Create the grid\n",
        "dt_grid = {'weights': weights,\n",
        "           'algorithm': algorithm,\n",
        "           'n_neighbors': n_neighbors,\n",
        "           'p' : p,\n",
        "           'leaf_size' : leaf_size}"
      ],
      "execution_count": null,
      "outputs": []
    },
    {
      "cell_type": "code",
      "metadata": {
        "colab": {
          "base_uri": "https://localhost:8080/"
        },
        "id": "II-wdIP9t7s6",
        "outputId": "065333a1-f571-4854-87f6-36dadcbf1dd3"
      },
      "source": [
        "dt_grid"
      ],
      "execution_count": null,
      "outputs": [
        {
          "output_type": "execute_result",
          "data": {
            "text/plain": [
              "{'algorithm': ['auto', 'kd_tree'],\n",
              " 'leaf_size': [30, 40, 20, 45],\n",
              " 'n_neighbors': [3, 5, 7, 1],\n",
              " 'p': [1, 2],\n",
              " 'weights': ['uniform', 'distance']}"
            ]
          },
          "metadata": {},
          "execution_count": 254
        }
      ]
    },
    {
      "cell_type": "code",
      "metadata": {
        "colab": {
          "base_uri": "https://localhost:8080/"
        },
        "id": "Hv_WJHqZp9En",
        "outputId": "d50da281-7edb-4681-e6da-757cc5289845"
      },
      "source": [
        "from sklearn.model_selection import RandomizedSearchCV\n",
        "from sklearn.neighbors import KNeighborsRegressor\n",
        "\n",
        "# Create the model to be tuned\n",
        "dt_base = KNeighborsRegressor()\n",
        "\n",
        "# Create the random search SVR\n",
        "dt_random = RandomizedSearchCV(estimator = dt_base, param_distributions = dt_grid, \n",
        "                               n_iter = 10, cv = 5)\n",
        "\n",
        "# Fit the random search model\n",
        "dt_random.fit(x_train, y_train)\n",
        "\n",
        "# View the best parameters from the random search\n",
        "dt_random.best_params_"
      ],
      "execution_count": null,
      "outputs": [
        {
          "output_type": "execute_result",
          "data": {
            "text/plain": [
              "{'algorithm': 'auto',\n",
              " 'leaf_size': 40,\n",
              " 'n_neighbors': 7,\n",
              " 'p': 1,\n",
              " 'weights': 'distance'}"
            ]
          },
          "metadata": {},
          "execution_count": 255
        }
      ]
    },
    {
      "cell_type": "markdown",
      "metadata": {
        "id": "XdWxBfqTBdpM"
      },
      "source": [
        "The output of above code gives the best hyperparameter values that should be used if one wants high accuracy."
      ]
    },
    {
      "cell_type": "code",
      "metadata": {
        "colab": {
          "base_uri": "https://localhost:8080/"
        },
        "id": "-ViD61lWTjvn",
        "outputId": "f426bbc7-864f-4400-902c-a645fdd2e5df"
      },
      "source": [
        "knr = KNeighborsRegressor(algorithm = 'auto', leaf_size = 40,n_neighbors = 7, p = 1,weights = 'distance')\n",
        "knr.fit(x_train,y_train)"
      ],
      "execution_count": null,
      "outputs": [
        {
          "output_type": "execute_result",
          "data": {
            "text/plain": [
              "KNeighborsRegressor(algorithm='auto', leaf_size=40, metric='minkowski',\n",
              "                    metric_params=None, n_jobs=None, n_neighbors=7, p=1,\n",
              "                    weights='distance')"
            ]
          },
          "metadata": {},
          "execution_count": 257
        }
      ]
    },
    {
      "cell_type": "code",
      "metadata": {
        "colab": {
          "base_uri": "https://localhost:8080/"
        },
        "id": "xROjLJcMUdgF",
        "outputId": "346075be-0e4c-4d9f-bd31-7b3e40d425f9"
      },
      "source": [
        "print('r2 score on test data', knr.score(x_train,y_train))"
      ],
      "execution_count": null,
      "outputs": [
        {
          "output_type": "stream",
          "name": "stdout",
          "text": [
            "r2 score on test data 1.0\n"
          ]
        }
      ]
    },
    {
      "cell_type": "code",
      "metadata": {
        "id": "kKZLQQzcrJRu",
        "colab": {
          "base_uri": "https://localhost:8080/"
        },
        "outputId": "a26dc893-4613-42c6-d57f-7477d89f5fb5"
      },
      "source": [
        "pred_knn = dt_random.predict(x_test)\n",
        "print('r2 score on test data',r2_score(y_test, pred_knn))"
      ],
      "execution_count": null,
      "outputs": [
        {
          "output_type": "stream",
          "name": "stdout",
          "text": [
            "r2 score on test data 0.9537866464125913\n"
          ]
        }
      ]
    },
    {
      "cell_type": "markdown",
      "metadata": {
        "id": "M_tGL9tLCBKV"
      },
      "source": [
        "The above r2 score of **1** shows us that KNN regressors are able to fit the train data perfectly well but high difference between score of train and test shows that they're not able to generalize well on unseen data.\n",
        "\n",
        "**Conclusion** - Model overfits and we need to find a better model.\n",
        "\n"
      ]
    },
    {
      "cell_type": "code",
      "metadata": {
        "colab": {
          "base_uri": "https://localhost:8080/",
          "height": 345
        },
        "id": "CrzBoXmLIyVW",
        "outputId": "4b244bf6-e938-4243-a3e7-ab3d892f05c7"
      },
      "source": [
        "plt.figure(figsize=(15, 5))\n",
        "plt.scatter(pred_knn,y_test, c =\"red\" , s = 3) \n",
        "plt.xlabel(\"prediction\") \n",
        "plt.ylabel(\"true value\") \n",
        "\n",
        "plt.title('True value vs Predicted value plot')\n",
        "ax = plt.axes()\n",
        "ax.set_facecolor(\"black\")\n",
        "\n",
        "plt.show()"
      ],
      "execution_count": null,
      "outputs": [
        {
          "output_type": "display_data",
          "data": {
            "image/png": "[encoded data removed]",
            "text/plain": [
              "<Figure size 1080x360 with 1 Axes>"
            ]
          },
          "metadata": {}
        }
      ]
    },
    {
      "cell_type": "markdown",
      "metadata": {
        "id": "540-QHjhCXKn"
      },
      "source": [
        "The above **scatter plot** of *predicted* vs *true* value is almost a straight line but needs to be improved."
      ]
    },
    {
      "cell_type": "markdown",
      "metadata": {
        "id": "u6TH6-wkvqSc"
      },
      "source": [
        "## 3. Random Forest Regressor"
      ]
    },
    {
      "cell_type": "markdown",
      "metadata": {
        "id": "38k7d7FuAdAc"
      },
      "source": [
        "### 3.1 Hyperparameter Tuning"
      ]
    },
    {
      "cell_type": "code",
      "metadata": {
        "id": "F-c694iOwUVM"
      },
      "source": [
        "#which weight metric to choose\n",
        "max_depth = [5,10,4,3]\n",
        "\n",
        "#degree if kernel is polynomial\n",
        "criterion = ['mae']\n",
        "\n",
        "\n",
        "n_estimators = [100, 90, 150, 200]\n",
        "\n",
        "max_features = ['sqrt', 'log2']\n",
        "\n",
        "# Create the grid\n",
        "dt_grid = {'max_depth': max_depth,\n",
        "           'max_features' : max_features,\n",
        "           'n_estimators': n_estimators}"
      ],
      "execution_count": null,
      "outputs": []
    },
    {
      "cell_type": "code",
      "metadata": {
        "colab": {
          "base_uri": "https://localhost:8080/"
        },
        "id": "4dmlN04DwUX-",
        "outputId": "68b98c40-4704-4687-b811-ca2660b9d3a5"
      },
      "source": [
        "dt_grid"
      ],
      "execution_count": null,
      "outputs": [
        {
          "output_type": "execute_result",
          "data": {
            "text/plain": [
              "{'max_depth': [5, 10, 4, 3],\n",
              " 'max_features': ['sqrt', 'log2'],\n",
              " 'n_estimators': [100, 90, 150, 200]}"
            ]
          },
          "metadata": {},
          "execution_count": 206
        }
      ]
    },
    {
      "cell_type": "code",
      "metadata": {
        "colab": {
          "base_uri": "https://localhost:8080/"
        },
        "id": "r15HXz03wUa6",
        "outputId": "3cb88e12-9674-44ea-82fa-5e1a2adf3e92"
      },
      "source": [
        "from sklearn.model_selection import RandomizedSearchCV\n",
        "from sklearn.ensemble import RandomForestRegressor\n",
        "\n",
        "# Create the model to be tuned\n",
        "dt_base = RandomForestRegressor(verbose=1,n_jobs=-1)\n",
        "\n",
        "# Create the random search SVR\n",
        "dt_random = RandomizedSearchCV(estimator = dt_base, param_distributions = dt_grid, \n",
        "                               n_iter = 5, cv = 10)\n",
        "\n",
        "# Fit the random search model\n",
        "dt_random.fit(x_train, y_train)\n",
        "\n",
        "# View the best parameters from the random search\n",
        "dt_random.best_params_"
      ],
      "execution_count": null,
      "outputs": [
        {
          "output_type": "stream",
          "name": "stderr",
          "text": [
            "[Parallel(n_jobs=-1)]: Using backend LokyBackend with 2 concurrent workers.\n",
            "[Parallel(n_jobs=-1)]: Done 100 out of 100 | elapsed:    2.5s finished\n",
            "[Parallel(n_jobs=2)]: Using backend ThreadingBackend with 2 concurrent workers.\n",
            "[Parallel(n_jobs=2)]: Done  46 tasks      | elapsed:    0.0s\n",
            "[Parallel(n_jobs=2)]: Done 100 out of 100 | elapsed:    0.0s finished\n",
            "[Parallel(n_jobs=-1)]: Using backend LokyBackend with 2 concurrent workers.\n",
            "[Parallel(n_jobs=-1)]: Done 100 out of 100 | elapsed:    1.6s finished\n",
            "[Parallel(n_jobs=2)]: Using backend ThreadingBackend with 2 concurrent workers.\n",
            "[Parallel(n_jobs=2)]: Done  46 tasks      | elapsed:    0.0s\n",
            "[Parallel(n_jobs=2)]: Done 100 out of 100 | elapsed:    0.0s finished\n",
            "[Parallel(n_jobs=-1)]: Using backend LokyBackend with 2 concurrent workers.\n",
            "[Parallel(n_jobs=-1)]: Done 100 out of 100 | elapsed:    1.6s finished\n",
            "[Parallel(n_jobs=2)]: Using backend ThreadingBackend with 2 concurrent workers.\n",
            "[Parallel(n_jobs=2)]: Done  46 tasks      | elapsed:    0.0s\n",
            "[Parallel(n_jobs=2)]: Done 100 out of 100 | elapsed:    0.0s finished\n",
            "[Parallel(n_jobs=-1)]: Using backend LokyBackend with 2 concurrent workers.\n",
            "[Parallel(n_jobs=-1)]: Done 100 out of 100 | elapsed:    1.6s finished\n",
            "[Parallel(n_jobs=2)]: Using backend ThreadingBackend with 2 concurrent workers.\n",
            "[Parallel(n_jobs=2)]: Done  46 tasks      | elapsed:    0.0s\n",
            "[Parallel(n_jobs=2)]: Done 100 out of 100 | elapsed:    0.0s finished\n",
            "[Parallel(n_jobs=-1)]: Using backend LokyBackend with 2 concurrent workers.\n",
            "[Parallel(n_jobs=-1)]: Done 100 out of 100 | elapsed:    1.6s finished\n",
            "[Parallel(n_jobs=2)]: Using backend ThreadingBackend with 2 concurrent workers.\n",
            "[Parallel(n_jobs=2)]: Done  46 tasks      | elapsed:    0.0s\n",
            "[Parallel(n_jobs=2)]: Done 100 out of 100 | elapsed:    0.0s finished\n",
            "[Parallel(n_jobs=-1)]: Using backend LokyBackend with 2 concurrent workers.\n",
            "[Parallel(n_jobs=-1)]: Done 100 out of 100 | elapsed:    1.5s finished\n",
            "[Parallel(n_jobs=2)]: Using backend ThreadingBackend with 2 concurrent workers.\n",
            "[Parallel(n_jobs=2)]: Done  46 tasks      | elapsed:    0.0s\n",
            "[Parallel(n_jobs=2)]: Done 100 out of 100 | elapsed:    0.0s finished\n",
            "[Parallel(n_jobs=-1)]: Using backend LokyBackend with 2 concurrent workers.\n",
            "[Parallel(n_jobs=-1)]: Done 100 out of 100 | elapsed:    1.6s finished\n",
            "[Parallel(n_jobs=2)]: Using backend ThreadingBackend with 2 concurrent workers.\n",
            "[Parallel(n_jobs=2)]: Done  46 tasks      | elapsed:    0.0s\n",
            "[Parallel(n_jobs=2)]: Done 100 out of 100 | elapsed:    0.0s finished\n",
            "[Parallel(n_jobs=-1)]: Using backend LokyBackend with 2 concurrent workers.\n",
            "[Parallel(n_jobs=-1)]: Done 100 out of 100 | elapsed:    1.7s finished\n",
            "[Parallel(n_jobs=2)]: Using backend ThreadingBackend with 2 concurrent workers.\n",
            "[Parallel(n_jobs=2)]: Done  46 tasks      | elapsed:    0.0s\n",
            "[Parallel(n_jobs=2)]: Done 100 out of 100 | elapsed:    0.0s finished\n",
            "[Parallel(n_jobs=-1)]: Using backend LokyBackend with 2 concurrent workers.\n",
            "[Parallel(n_jobs=-1)]: Done 100 out of 100 | elapsed:    1.6s finished\n",
            "[Parallel(n_jobs=2)]: Using backend ThreadingBackend with 2 concurrent workers.\n",
            "[Parallel(n_jobs=2)]: Done  46 tasks      | elapsed:    0.0s\n",
            "[Parallel(n_jobs=2)]: Done 100 out of 100 | elapsed:    0.0s finished\n",
            "[Parallel(n_jobs=-1)]: Using backend LokyBackend with 2 concurrent workers.\n",
            "[Parallel(n_jobs=-1)]: Done 100 out of 100 | elapsed:    1.6s finished\n",
            "[Parallel(n_jobs=2)]: Using backend ThreadingBackend with 2 concurrent workers.\n",
            "[Parallel(n_jobs=2)]: Done  46 tasks      | elapsed:    0.0s\n",
            "[Parallel(n_jobs=2)]: Done 100 out of 100 | elapsed:    0.0s finished\n",
            "[Parallel(n_jobs=-1)]: Using backend LokyBackend with 2 concurrent workers.\n",
            "[Parallel(n_jobs=-1)]: Done 150 out of 150 | elapsed:    2.8s finished\n",
            "[Parallel(n_jobs=2)]: Using backend ThreadingBackend with 2 concurrent workers.\n",
            "[Parallel(n_jobs=2)]: Done  46 tasks      | elapsed:    0.0s\n",
            "[Parallel(n_jobs=2)]: Done 150 out of 150 | elapsed:    0.0s finished\n",
            "[Parallel(n_jobs=-1)]: Using backend LokyBackend with 2 concurrent workers.\n",
            "[Parallel(n_jobs=-1)]: Done 150 out of 150 | elapsed:    2.9s finished\n",
            "[Parallel(n_jobs=2)]: Using backend ThreadingBackend with 2 concurrent workers.\n",
            "[Parallel(n_jobs=2)]: Done  46 tasks      | elapsed:    0.0s\n",
            "[Parallel(n_jobs=2)]: Done 150 out of 150 | elapsed:    0.0s finished\n",
            "[Parallel(n_jobs=-1)]: Using backend LokyBackend with 2 concurrent workers.\n",
            "[Parallel(n_jobs=-1)]: Done 150 out of 150 | elapsed:    2.9s finished\n",
            "[Parallel(n_jobs=2)]: Using backend ThreadingBackend with 2 concurrent workers.\n",
            "[Parallel(n_jobs=2)]: Done  46 tasks      | elapsed:    0.0s\n",
            "[Parallel(n_jobs=2)]: Done 150 out of 150 | elapsed:    0.0s finished\n",
            "[Parallel(n_jobs=-1)]: Using backend LokyBackend with 2 concurrent workers.\n",
            "[Parallel(n_jobs=-1)]: Done 150 out of 150 | elapsed:    2.8s finished\n",
            "[Parallel(n_jobs=2)]: Using backend ThreadingBackend with 2 concurrent workers.\n",
            "[Parallel(n_jobs=2)]: Done  46 tasks      | elapsed:    0.0s\n",
            "[Parallel(n_jobs=2)]: Done 150 out of 150 | elapsed:    0.0s finished\n",
            "[Parallel(n_jobs=-1)]: Using backend LokyBackend with 2 concurrent workers.\n",
            "[Parallel(n_jobs=-1)]: Done 150 out of 150 | elapsed:    2.9s finished\n",
            "[Parallel(n_jobs=2)]: Using backend ThreadingBackend with 2 concurrent workers.\n",
            "[Parallel(n_jobs=2)]: Done  46 tasks      | elapsed:    0.0s\n",
            "[Parallel(n_jobs=2)]: Done 150 out of 150 | elapsed:    0.0s finished\n",
            "[Parallel(n_jobs=-1)]: Using backend LokyBackend with 2 concurrent workers.\n",
            "[Parallel(n_jobs=-1)]: Done 150 out of 150 | elapsed:    2.8s finished\n",
            "[Parallel(n_jobs=2)]: Using backend ThreadingBackend with 2 concurrent workers.\n",
            "[Parallel(n_jobs=2)]: Done  46 tasks      | elapsed:    0.0s\n",
            "[Parallel(n_jobs=2)]: Done 150 out of 150 | elapsed:    0.0s finished\n",
            "[Parallel(n_jobs=-1)]: Using backend LokyBackend with 2 concurrent workers.\n",
            "[Parallel(n_jobs=-1)]: Done 150 out of 150 | elapsed:    2.8s finished\n",
            "[Parallel(n_jobs=2)]: Using backend ThreadingBackend with 2 concurrent workers.\n",
            "[Parallel(n_jobs=2)]: Done  46 tasks      | elapsed:    0.0s\n",
            "[Parallel(n_jobs=2)]: Done 150 out of 150 | elapsed:    0.1s finished\n",
            "[Parallel(n_jobs=-1)]: Using backend LokyBackend with 2 concurrent workers.\n",
            "[Parallel(n_jobs=-1)]: Done 150 out of 150 | elapsed:    2.8s finished\n",
            "[Parallel(n_jobs=2)]: Using backend ThreadingBackend with 2 concurrent workers.\n",
            "[Parallel(n_jobs=2)]: Done  46 tasks      | elapsed:    0.0s\n",
            "[Parallel(n_jobs=2)]: Done 150 out of 150 | elapsed:    0.1s finished\n",
            "[Parallel(n_jobs=-1)]: Using backend LokyBackend with 2 concurrent workers.\n",
            "[Parallel(n_jobs=-1)]: Done 150 out of 150 | elapsed:    2.8s finished\n",
            "[Parallel(n_jobs=2)]: Using backend ThreadingBackend with 2 concurrent workers.\n",
            "[Parallel(n_jobs=2)]: Done  46 tasks      | elapsed:    0.0s\n",
            "[Parallel(n_jobs=2)]: Done 150 out of 150 | elapsed:    0.0s finished\n",
            "[Parallel(n_jobs=-1)]: Using backend LokyBackend with 2 concurrent workers.\n",
            "[Parallel(n_jobs=-1)]: Done 150 out of 150 | elapsed:    2.8s finished\n",
            "[Parallel(n_jobs=2)]: Using backend ThreadingBackend with 2 concurrent workers.\n",
            "[Parallel(n_jobs=2)]: Done  46 tasks      | elapsed:    0.0s\n",
            "[Parallel(n_jobs=2)]: Done 150 out of 150 | elapsed:    0.0s finished\n",
            "[Parallel(n_jobs=-1)]: Using backend LokyBackend with 2 concurrent workers.\n",
            "[Parallel(n_jobs=-1)]: Done 150 out of 150 | elapsed:    2.4s finished\n",
            "[Parallel(n_jobs=2)]: Using backend ThreadingBackend with 2 concurrent workers.\n",
            "[Parallel(n_jobs=2)]: Done  46 tasks      | elapsed:    0.0s\n",
            "[Parallel(n_jobs=2)]: Done 150 out of 150 | elapsed:    0.0s finished\n",
            "[Parallel(n_jobs=-1)]: Using backend LokyBackend with 2 concurrent workers.\n",
            "[Parallel(n_jobs=-1)]: Done 150 out of 150 | elapsed:    2.3s finished\n",
            "[Parallel(n_jobs=2)]: Using backend ThreadingBackend with 2 concurrent workers.\n",
            "[Parallel(n_jobs=2)]: Done  46 tasks      | elapsed:    0.0s\n",
            "[Parallel(n_jobs=2)]: Done 150 out of 150 | elapsed:    0.0s finished\n",
            "[Parallel(n_jobs=-1)]: Using backend LokyBackend with 2 concurrent workers.\n",
            "[Parallel(n_jobs=-1)]: Done 150 out of 150 | elapsed:    2.3s finished\n",
            "[Parallel(n_jobs=2)]: Using backend ThreadingBackend with 2 concurrent workers.\n",
            "[Parallel(n_jobs=2)]: Done  46 tasks      | elapsed:    0.0s\n",
            "[Parallel(n_jobs=2)]: Done 150 out of 150 | elapsed:    0.0s finished\n",
            "[Parallel(n_jobs=-1)]: Using backend LokyBackend with 2 concurrent workers.\n",
            "[Parallel(n_jobs=-1)]: Done 150 out of 150 | elapsed:    2.4s finished\n",
            "[Parallel(n_jobs=2)]: Using backend ThreadingBackend with 2 concurrent workers.\n",
            "[Parallel(n_jobs=2)]: Done  46 tasks      | elapsed:    0.0s\n",
            "[Parallel(n_jobs=2)]: Done 150 out of 150 | elapsed:    0.0s finished\n",
            "[Parallel(n_jobs=-1)]: Using backend LokyBackend with 2 concurrent workers.\n",
            "[Parallel(n_jobs=-1)]: Done 150 out of 150 | elapsed:    2.4s finished\n",
            "[Parallel(n_jobs=2)]: Using backend ThreadingBackend with 2 concurrent workers.\n",
            "[Parallel(n_jobs=2)]: Done  46 tasks      | elapsed:    0.0s\n",
            "[Parallel(n_jobs=2)]: Done 150 out of 150 | elapsed:    0.0s finished\n",
            "[Parallel(n_jobs=-1)]: Using backend LokyBackend with 2 concurrent workers.\n",
            "[Parallel(n_jobs=-1)]: Done 150 out of 150 | elapsed:    2.3s finished\n",
            "[Parallel(n_jobs=2)]: Using backend ThreadingBackend with 2 concurrent workers.\n",
            "[Parallel(n_jobs=2)]: Done  46 tasks      | elapsed:    0.0s\n",
            "[Parallel(n_jobs=2)]: Done 150 out of 150 | elapsed:    0.0s finished\n",
            "[Parallel(n_jobs=-1)]: Using backend LokyBackend with 2 concurrent workers.\n",
            "[Parallel(n_jobs=-1)]: Done 150 out of 150 | elapsed:    2.3s finished\n",
            "[Parallel(n_jobs=2)]: Using backend ThreadingBackend with 2 concurrent workers.\n",
            "[Parallel(n_jobs=2)]: Done  46 tasks      | elapsed:    0.0s\n",
            "[Parallel(n_jobs=2)]: Done 150 out of 150 | elapsed:    0.0s finished\n",
            "[Parallel(n_jobs=-1)]: Using backend LokyBackend with 2 concurrent workers.\n",
            "[Parallel(n_jobs=-1)]: Done 150 out of 150 | elapsed:    2.3s finished\n",
            "[Parallel(n_jobs=2)]: Using backend ThreadingBackend with 2 concurrent workers.\n",
            "[Parallel(n_jobs=2)]: Done  46 tasks      | elapsed:    0.0s\n",
            "[Parallel(n_jobs=2)]: Done 150 out of 150 | elapsed:    0.0s finished\n",
            "[Parallel(n_jobs=-1)]: Using backend LokyBackend with 2 concurrent workers.\n",
            "[Parallel(n_jobs=-1)]: Done 150 out of 150 | elapsed:    2.3s finished\n",
            "[Parallel(n_jobs=2)]: Using backend ThreadingBackend with 2 concurrent workers.\n",
            "[Parallel(n_jobs=2)]: Done  46 tasks      | elapsed:    0.0s\n",
            "[Parallel(n_jobs=2)]: Done 150 out of 150 | elapsed:    0.0s finished\n",
            "[Parallel(n_jobs=-1)]: Using backend LokyBackend with 2 concurrent workers.\n",
            "[Parallel(n_jobs=-1)]: Done 150 out of 150 | elapsed:    2.3s finished\n",
            "[Parallel(n_jobs=2)]: Using backend ThreadingBackend with 2 concurrent workers.\n",
            "[Parallel(n_jobs=2)]: Done  46 tasks      | elapsed:    0.0s\n",
            "[Parallel(n_jobs=2)]: Done 150 out of 150 | elapsed:    0.0s finished\n",
            "[Parallel(n_jobs=-1)]: Using backend LokyBackend with 2 concurrent workers.\n",
            "[Parallel(n_jobs=-1)]: Done  90 out of  90 | elapsed:    1.2s finished\n",
            "[Parallel(n_jobs=2)]: Using backend ThreadingBackend with 2 concurrent workers.\n",
            "[Parallel(n_jobs=2)]: Done  46 tasks      | elapsed:    0.0s\n",
            "[Parallel(n_jobs=2)]: Done  90 out of  90 | elapsed:    0.0s finished\n",
            "[Parallel(n_jobs=-1)]: Using backend LokyBackend with 2 concurrent workers.\n",
            "[Parallel(n_jobs=-1)]: Done  90 out of  90 | elapsed:    1.1s finished\n",
            "[Parallel(n_jobs=2)]: Using backend ThreadingBackend with 2 concurrent workers.\n",
            "[Parallel(n_jobs=2)]: Done  46 tasks      | elapsed:    0.0s\n",
            "[Parallel(n_jobs=2)]: Done  90 out of  90 | elapsed:    0.0s finished\n",
            "[Parallel(n_jobs=-1)]: Using backend LokyBackend with 2 concurrent workers.\n",
            "[Parallel(n_jobs=-1)]: Done  90 out of  90 | elapsed:    1.1s finished\n",
            "[Parallel(n_jobs=2)]: Using backend ThreadingBackend with 2 concurrent workers.\n",
            "[Parallel(n_jobs=2)]: Done  46 tasks      | elapsed:    0.0s\n",
            "[Parallel(n_jobs=2)]: Done  90 out of  90 | elapsed:    0.0s finished\n",
            "[Parallel(n_jobs=-1)]: Using backend LokyBackend with 2 concurrent workers.\n",
            "[Parallel(n_jobs=-1)]: Done  90 out of  90 | elapsed:    1.2s finished\n",
            "[Parallel(n_jobs=2)]: Using backend ThreadingBackend with 2 concurrent workers.\n",
            "[Parallel(n_jobs=2)]: Done  46 tasks      | elapsed:    0.0s\n",
            "[Parallel(n_jobs=2)]: Done  90 out of  90 | elapsed:    0.0s finished\n",
            "[Parallel(n_jobs=-1)]: Using backend LokyBackend with 2 concurrent workers.\n",
            "[Parallel(n_jobs=-1)]: Done  90 out of  90 | elapsed:    1.2s finished\n",
            "[Parallel(n_jobs=2)]: Using backend ThreadingBackend with 2 concurrent workers.\n",
            "[Parallel(n_jobs=2)]: Done  46 tasks      | elapsed:    0.0s\n",
            "[Parallel(n_jobs=2)]: Done  90 out of  90 | elapsed:    0.0s finished\n",
            "[Parallel(n_jobs=-1)]: Using backend LokyBackend with 2 concurrent workers.\n",
            "[Parallel(n_jobs=-1)]: Done  90 out of  90 | elapsed:    1.2s finished\n",
            "[Parallel(n_jobs=2)]: Using backend ThreadingBackend with 2 concurrent workers.\n",
            "[Parallel(n_jobs=2)]: Done  46 tasks      | elapsed:    0.0s\n",
            "[Parallel(n_jobs=2)]: Done  90 out of  90 | elapsed:    0.0s finished\n",
            "[Parallel(n_jobs=-1)]: Using backend LokyBackend with 2 concurrent workers.\n",
            "[Parallel(n_jobs=-1)]: Done  90 out of  90 | elapsed:    1.1s finished\n",
            "[Parallel(n_jobs=2)]: Using backend ThreadingBackend with 2 concurrent workers.\n",
            "[Parallel(n_jobs=2)]: Done  46 tasks      | elapsed:    0.0s\n",
            "[Parallel(n_jobs=2)]: Done  90 out of  90 | elapsed:    0.0s finished\n",
            "[Parallel(n_jobs=-1)]: Using backend LokyBackend with 2 concurrent workers.\n",
            "[Parallel(n_jobs=-1)]: Done  90 out of  90 | elapsed:    1.1s finished\n",
            "[Parallel(n_jobs=2)]: Using backend ThreadingBackend with 2 concurrent workers.\n",
            "[Parallel(n_jobs=2)]: Done  46 tasks      | elapsed:    0.0s\n",
            "[Parallel(n_jobs=2)]: Done  90 out of  90 | elapsed:    0.0s finished\n",
            "[Parallel(n_jobs=-1)]: Using backend LokyBackend with 2 concurrent workers.\n",
            "[Parallel(n_jobs=-1)]: Done  90 out of  90 | elapsed:    1.1s finished\n",
            "[Parallel(n_jobs=2)]: Using backend ThreadingBackend with 2 concurrent workers.\n",
            "[Parallel(n_jobs=2)]: Done  46 tasks      | elapsed:    0.0s\n",
            "[Parallel(n_jobs=2)]: Done  90 out of  90 | elapsed:    0.0s finished\n",
            "[Parallel(n_jobs=-1)]: Using backend LokyBackend with 2 concurrent workers.\n",
            "[Parallel(n_jobs=-1)]: Done  90 out of  90 | elapsed:    1.1s finished\n",
            "[Parallel(n_jobs=2)]: Using backend ThreadingBackend with 2 concurrent workers.\n",
            "[Parallel(n_jobs=2)]: Done  46 tasks      | elapsed:    0.0s\n",
            "[Parallel(n_jobs=2)]: Done  90 out of  90 | elapsed:    0.0s finished\n",
            "[Parallel(n_jobs=-1)]: Using backend LokyBackend with 2 concurrent workers.\n",
            "[Parallel(n_jobs=-1)]: Done 100 out of 100 | elapsed:    1.9s finished\n",
            "[Parallel(n_jobs=2)]: Using backend ThreadingBackend with 2 concurrent workers.\n",
            "[Parallel(n_jobs=2)]: Done  46 tasks      | elapsed:    0.0s\n",
            "[Parallel(n_jobs=2)]: Done 100 out of 100 | elapsed:    0.0s finished\n",
            "[Parallel(n_jobs=-1)]: Using backend LokyBackend with 2 concurrent workers.\n",
            "[Parallel(n_jobs=-1)]: Done 100 out of 100 | elapsed:    1.9s finished\n",
            "[Parallel(n_jobs=2)]: Using backend ThreadingBackend with 2 concurrent workers.\n",
            "[Parallel(n_jobs=2)]: Done  46 tasks      | elapsed:    0.0s\n",
            "[Parallel(n_jobs=2)]: Done 100 out of 100 | elapsed:    0.0s finished\n",
            "[Parallel(n_jobs=-1)]: Using backend LokyBackend with 2 concurrent workers.\n",
            "[Parallel(n_jobs=-1)]: Done 100 out of 100 | elapsed:    1.9s finished\n",
            "[Parallel(n_jobs=2)]: Using backend ThreadingBackend with 2 concurrent workers.\n",
            "[Parallel(n_jobs=2)]: Done  46 tasks      | elapsed:    0.0s\n",
            "[Parallel(n_jobs=2)]: Done 100 out of 100 | elapsed:    0.0s finished\n",
            "[Parallel(n_jobs=-1)]: Using backend LokyBackend with 2 concurrent workers.\n",
            "[Parallel(n_jobs=-1)]: Done 100 out of 100 | elapsed:    1.9s finished\n",
            "[Parallel(n_jobs=2)]: Using backend ThreadingBackend with 2 concurrent workers.\n",
            "[Parallel(n_jobs=2)]: Done  46 tasks      | elapsed:    0.0s\n",
            "[Parallel(n_jobs=2)]: Done 100 out of 100 | elapsed:    0.0s finished\n",
            "[Parallel(n_jobs=-1)]: Using backend LokyBackend with 2 concurrent workers.\n",
            "[Parallel(n_jobs=-1)]: Done 100 out of 100 | elapsed:    1.8s finished\n",
            "[Parallel(n_jobs=2)]: Using backend ThreadingBackend with 2 concurrent workers.\n",
            "[Parallel(n_jobs=2)]: Done  46 tasks      | elapsed:    0.0s\n",
            "[Parallel(n_jobs=2)]: Done 100 out of 100 | elapsed:    0.0s finished\n",
            "[Parallel(n_jobs=-1)]: Using backend LokyBackend with 2 concurrent workers.\n",
            "[Parallel(n_jobs=-1)]: Done 100 out of 100 | elapsed:    1.9s finished\n",
            "[Parallel(n_jobs=2)]: Using backend ThreadingBackend with 2 concurrent workers.\n",
            "[Parallel(n_jobs=2)]: Done  46 tasks      | elapsed:    0.0s\n",
            "[Parallel(n_jobs=2)]: Done 100 out of 100 | elapsed:    0.0s finished\n",
            "[Parallel(n_jobs=-1)]: Using backend LokyBackend with 2 concurrent workers.\n",
            "[Parallel(n_jobs=-1)]: Done 100 out of 100 | elapsed:    1.8s finished\n",
            "[Parallel(n_jobs=2)]: Using backend ThreadingBackend with 2 concurrent workers.\n",
            "[Parallel(n_jobs=2)]: Done  46 tasks      | elapsed:    0.0s\n",
            "[Parallel(n_jobs=2)]: Done 100 out of 100 | elapsed:    0.0s finished\n",
            "[Parallel(n_jobs=-1)]: Using backend LokyBackend with 2 concurrent workers.\n",
            "[Parallel(n_jobs=-1)]: Done 100 out of 100 | elapsed:    1.9s finished\n",
            "[Parallel(n_jobs=2)]: Using backend ThreadingBackend with 2 concurrent workers.\n",
            "[Parallel(n_jobs=2)]: Done  46 tasks      | elapsed:    0.0s\n",
            "[Parallel(n_jobs=2)]: Done 100 out of 100 | elapsed:    0.0s finished\n",
            "[Parallel(n_jobs=-1)]: Using backend LokyBackend with 2 concurrent workers.\n",
            "[Parallel(n_jobs=-1)]: Done 100 out of 100 | elapsed:    1.9s finished\n",
            "[Parallel(n_jobs=2)]: Using backend ThreadingBackend with 2 concurrent workers.\n",
            "[Parallel(n_jobs=2)]: Done  46 tasks      | elapsed:    0.0s\n",
            "[Parallel(n_jobs=2)]: Done 100 out of 100 | elapsed:    0.0s finished\n",
            "[Parallel(n_jobs=-1)]: Using backend LokyBackend with 2 concurrent workers.\n",
            "[Parallel(n_jobs=-1)]: Done 100 out of 100 | elapsed:    1.9s finished\n",
            "[Parallel(n_jobs=2)]: Using backend ThreadingBackend with 2 concurrent workers.\n",
            "[Parallel(n_jobs=2)]: Done  46 tasks      | elapsed:    0.0s\n",
            "[Parallel(n_jobs=2)]: Done 100 out of 100 | elapsed:    0.0s finished\n",
            "[Parallel(n_jobs=-1)]: Using backend ThreadingBackend with 2 concurrent workers.\n",
            "[Parallel(n_jobs=-1)]: Done  46 tasks      | elapsed:    0.9s\n",
            "[Parallel(n_jobs=-1)]: Done 150 out of 150 | elapsed:    3.0s finished\n"
          ]
        },
        {
          "output_type": "execute_result",
          "data": {
            "text/plain": [
              "{'max_depth': 5, 'max_features': 'log2', 'n_estimators': 150}"
            ]
          },
          "metadata": {},
          "execution_count": 207
        }
      ]
    },
    {
      "cell_type": "code",
      "metadata": {
        "colab": {
          "base_uri": "https://localhost:8080/"
        },
        "id": "khxLP8-pwUjc",
        "outputId": "c32adf56-959b-46de-d7cb-6ee2bea48d04"
      },
      "source": [
        "print(dt_random.best_params_)"
      ],
      "execution_count": null,
      "outputs": [
        {
          "output_type": "stream",
          "name": "stdout",
          "text": [
            "{'n_estimators': 150, 'max_features': 'log2', 'max_depth': 5}\n"
          ]
        }
      ]
    },
    {
      "cell_type": "code",
      "metadata": {
        "colab": {
          "base_uri": "https://localhost:8080/"
        },
        "id": "0w2N9wxawUlT",
        "outputId": "37a1e647-3ef7-4709-a6df-5ba2d732ced5"
      },
      "source": [
        "print(dt_random.best_score_)"
      ],
      "execution_count": null,
      "outputs": [
        {
          "output_type": "stream",
          "name": "stdout",
          "text": [
            "0.967731577597258\n"
          ]
        }
      ]
    },
    {
      "cell_type": "code",
      "metadata": {
        "colab": {
          "base_uri": "https://localhost:8080/"
        },
        "id": "jQofSPqIetnX",
        "outputId": "27693749-1370-41cb-8519-00f60b8669b5"
      },
      "source": [
        "clf = RandomForestRegressor(n_estimators = 100, max_features =  'log2', max_depth =  10)\n",
        "clf.fit(x_train,y_train)"
      ],
      "execution_count": null,
      "outputs": [
        {
          "output_type": "execute_result",
          "data": {
            "text/plain": [
              "RandomForestRegressor(bootstrap=True, ccp_alpha=0.0, criterion='mse',\n",
              "                      max_depth=10, max_features='log2', max_leaf_nodes=None,\n",
              "                      max_samples=None, min_impurity_decrease=0.0,\n",
              "                      min_impurity_split=None, min_samples_leaf=1,\n",
              "                      min_samples_split=2, min_weight_fraction_leaf=0.0,\n",
              "                      n_estimators=100, n_jobs=None, oob_score=False,\n",
              "                      random_state=None, verbose=0, warm_start=False)"
            ]
          },
          "metadata": {},
          "execution_count": 210
        }
      ]
    },
    {
      "cell_type": "code",
      "metadata": {
        "colab": {
          "base_uri": "https://localhost:8080/"
        },
        "id": "K1cZWDX1wUnv",
        "outputId": "8e7ec490-2f47-47ed-f9fe-d59b38dd402d"
      },
      "source": [
        "acc = clf.score(x_train,y_train)\n",
        "\n",
        "print(\"Train R2score\" ,acc)"
      ],
      "execution_count": null,
      "outputs": [
        {
          "output_type": "stream",
          "name": "stdout",
          "text": [
            "Train R2score 0.999654345661346\n"
          ]
        }
      ]
    },
    {
      "cell_type": "code",
      "metadata": {
        "colab": {
          "base_uri": "https://localhost:8080/"
        },
        "id": "U0Jr1HdFmL1C",
        "outputId": "2edee526-1f25-4822-d063-9690f6f97eb9"
      },
      "source": [
        "pred_rf = clf.predict(x_test)\n",
        "print(\"Test r2score: \" , r2_score(y_test, pred_rf))"
      ],
      "execution_count": null,
      "outputs": [
        {
          "output_type": "stream",
          "name": "stdout",
          "text": [
            "Test r2score:  0.9995874734350616\n"
          ]
        }
      ]
    },
    {
      "cell_type": "code",
      "metadata": {
        "colab": {
          "base_uri": "https://localhost:8080/",
          "height": 345
        },
        "id": "Rm0SsbnKmL4a",
        "outputId": "aab691da-66e4-4426-c129-be3e96d2d93f"
      },
      "source": [
        "plt.figure(figsize=(15, 5))\n",
        "plt.scatter(pred_rf,y_test, c =\"red\" , s = 3) \n",
        "plt.xlabel(\"prediction\") \n",
        "plt.ylabel(\"true value\") \n",
        "\n",
        "plt.title('True value vs Predicted value plot')\n",
        "ax = plt.axes()\n",
        "ax.set_facecolor(\"black\")\n",
        "\n",
        "plt.show()"
      ],
      "execution_count": null,
      "outputs": [
        {
          "output_type": "display_data",
          "data": {
            "image/png": "[encoded data removed]",
            "text/plain": [
              "<Figure size 1080x360 with 1 Axes>"
            ]
          },
          "metadata": {}
        }
      ]
    },
    {
      "cell_type": "markdown",
      "metadata": {
        "id": "wDLsy7CfAjxu"
      },
      "source": [
        "### 3.2 Feature Interpretation"
      ]
    },
    {
      "cell_type": "code",
      "metadata": {
        "colab": {
          "base_uri": "https://localhost:8080/"
        },
        "id": "FusCDHJDcaL_",
        "outputId": "bb3e3756-f49d-4acf-a029-fefae3a139af"
      },
      "source": [
        "rf_imp = clf.feature_importances_\n",
        "print(rf_imp)"
      ],
      "execution_count": null,
      "outputs": [
        {
          "output_type": "stream",
          "name": "stdout",
          "text": [
            "[1.21857255e-04 3.84318857e-04 6.02413071e-02 3.66125900e-05\n",
            " 9.48202959e-05 1.65299559e-01 1.53506001e-01 9.67781158e-02\n",
            " 3.04639263e-01 2.17812475e-01 1.39627204e-04 1.36078535e-04\n",
            " 2.53310018e-04 1.13533946e-04 1.75534229e-04 2.67585580e-04]\n"
          ]
        }
      ]
    },
    {
      "cell_type": "code",
      "metadata": {
        "id": "kFmt6V1fhVRk"
      },
      "source": [
        "col = x_train.columns"
      ],
      "execution_count": null,
      "outputs": []
    },
    {
      "cell_type": "code",
      "metadata": {
        "colab": {
          "base_uri": "https://localhost:8080/"
        },
        "id": "EWYNNpHMiJ57",
        "outputId": "c92bb8b2-3ef3-4916-edbf-55955e7a5136"
      },
      "source": [
        "i = list(range(0,16))\n",
        "i"
      ],
      "execution_count": null,
      "outputs": [
        {
          "output_type": "execute_result",
          "data": {
            "text/plain": [
              "[0, 1, 2, 3, 4, 5, 6, 7, 8, 9, 10, 11, 12, 13, 14, 15]"
            ]
          },
          "metadata": {},
          "execution_count": 224
        }
      ]
    },
    {
      "cell_type": "code",
      "metadata": {
        "colab": {
          "base_uri": "https://localhost:8080/",
          "height": 345
        },
        "id": "fwna8tmwclOr",
        "outputId": "e16ce5ce-d57c-4c84-9f01-4d0ab1700389"
      },
      "source": [
        "plt.figure(figsize=(23, 5))\n",
        "plt.plot(rf_imp, 'r-o')\n",
        "\n",
        "default_x_ticks = range(len(rf_imp))\n",
        "plt.xticks(default_x_ticks,col)\n",
        "plt.title('Feature importance by Random Forest')\n",
        "plt.xlabel(\"Features\")\n",
        "plt.ylabel(\"Importance Score\")\n",
        "\n",
        "ax = plt.axes()\n",
        "ax.set_facecolor(\"black\")\n",
        "ax.grid(False)\n",
        "plt.show()"
      ],
      "execution_count": null,
      "outputs": [
        {
          "output_type": "display_data",
          "data": {
            "image/png": "[encoded data removed]",
            "text/plain": [
              "<Figure size 1656x360 with 1 Axes>"
            ]
          },
          "metadata": {}
        }
      ]
    },
    {
      "cell_type": "markdown",
      "metadata": {
        "id": "m7M0IhzyuS_n"
      },
      "source": [
        "##4. Gradient Boosting Regression"
      ]
    },
    {
      "cell_type": "markdown",
      "metadata": {
        "id": "VqeWFU0XApvo"
      },
      "source": [
        "### 4.1 Hyperparameter Tuning"
      ]
    },
    {
      "cell_type": "code",
      "metadata": {
        "id": "aw2Py4UomL7n"
      },
      "source": [
        "#what value of learning rate we choose\n",
        "learning_rate = [float(x) for x in np.linspace(0.1, 1, 5)]\n",
        "\n",
        "#no of estimators that are needed\n",
        "n_estimators = [100, 90, 150, 200]\n",
        "\n",
        "#how man features should be used in total\n",
        "max_features = ['sqrt', 'log2']\n",
        "\n",
        "# Create the grid\n",
        "dt_grid = {\n",
        "           'learning_rate' : learning_rate,\n",
        "           'max_features' : max_features,\n",
        "           'n_estimators': n_estimators}"
      ],
      "execution_count": null,
      "outputs": []
    },
    {
      "cell_type": "code",
      "metadata": {
        "colab": {
          "base_uri": "https://localhost:8080/"
        },
        "id": "Eryr-gx0mL-l",
        "outputId": "f2fd3161-a6f9-4928-9729-02d753b81ff9"
      },
      "source": [
        "dt_grid"
      ],
      "execution_count": null,
      "outputs": [
        {
          "output_type": "execute_result",
          "data": {
            "text/plain": [
              "{'learning_rate': [0.1, 0.325, 0.55, 0.775, 1.0],\n",
              " 'max_features': ['sqrt', 'log2'],\n",
              " 'n_estimators': [100, 90, 150, 200]}"
            ]
          },
          "metadata": {},
          "execution_count": 226
        }
      ]
    },
    {
      "cell_type": "code",
      "metadata": {
        "colab": {
          "base_uri": "https://localhost:8080/"
        },
        "id": "x_yVrI8YmMCb",
        "outputId": "441f444e-f243-4e93-ee23-958d20c739b7"
      },
      "source": [
        "from sklearn.model_selection import RandomizedSearchCV\n",
        "from sklearn.ensemble import GradientBoostingRegressor\n",
        "\n",
        "# Create the model to be tuned\n",
        "dt_base = GradientBoostingRegressor(verbose=1)\n",
        "\n",
        "# Create the random search SVR\n",
        "dt_random = RandomizedSearchCV(estimator = dt_base, param_distributions = dt_grid, \n",
        "                               n_iter = 5, cv = 10,n_jobs = -1)\n",
        "\n",
        "\n",
        "# Fit the random search model\n",
        "dt_random.fit(x_train, y_train)\n",
        "\n",
        "# View the best parameters from the random search\n",
        "dt_random.best_params_"
      ],
      "execution_count": null,
      "outputs": [
        {
          "output_type": "stream",
          "name": "stdout",
          "text": [
            "      Iter       Train Loss   Remaining Time \n",
            "         1 122786512678.3833            5.24s\n",
            "         2 107698780596.1821            4.87s\n",
            "         3 95119877566.6615            4.91s\n",
            "         4 80822223460.8148            4.65s\n",
            "         5 68932821580.6850            4.67s\n",
            "         6 59962507993.6055            4.90s\n",
            "         7 54578049466.5997            4.76s\n",
            "         8 47593014190.1194            4.65s\n",
            "         9 41670765620.8901            4.86s\n",
            "        10 37052137690.0489            4.77s\n",
            "        20 12028302807.1554            4.84s\n",
            "        30  5190803700.6289            4.35s\n",
            "        40  2566241663.3009            4.13s\n",
            "        50  1530851623.5468            3.91s\n",
            "        60  1106426943.8538            3.70s\n",
            "        70   763144488.4937            3.40s\n",
            "        80   606375161.3072            3.11s\n",
            "        90   535526906.8096            2.83s\n",
            "       100   475053113.9356            2.56s\n",
            "       200   192884288.4372            0.00s\n"
          ]
        },
        {
          "output_type": "execute_result",
          "data": {
            "text/plain": [
              "{'learning_rate': 0.1, 'max_features': 'log2', 'n_estimators': 200}"
            ]
          },
          "metadata": {},
          "execution_count": 227
        }
      ]
    },
    {
      "cell_type": "code",
      "metadata": {
        "colab": {
          "base_uri": "https://localhost:8080/"
        },
        "id": "2uD9QvSotG-Y",
        "outputId": "8fc3ec85-d06e-40ab-d113-766969a550c1"
      },
      "source": [
        "print(dt_random.best_score_)"
      ],
      "execution_count": null,
      "outputs": [
        {
          "output_type": "stream",
          "name": "stdout",
          "text": [
            "0.9983810765312434\n"
          ]
        }
      ]
    },
    {
      "cell_type": "code",
      "metadata": {
        "colab": {
          "base_uri": "https://localhost:8080/"
        },
        "id": "5VwMUuU6tM_K",
        "outputId": "ba35af7f-7c25-4233-c600-b165e1a05d8c"
      },
      "source": [
        "clf = GradientBoostingRegressor(verbose=1,learning_rate = 0.325, max_features = 'log2', n_estimators = 200)\n",
        "clf.fit(x_train,y_train)"
      ],
      "execution_count": null,
      "outputs": [
        {
          "output_type": "stream",
          "name": "stdout",
          "text": [
            "      Iter       Train Loss   Remaining Time \n",
            "         1 81505477283.4861            6.57s\n",
            "         2 53397737345.0573            6.20s\n",
            "         3 35704353518.4920            6.40s\n",
            "         4 23990248052.6375            6.46s\n",
            "         5 18001902673.6183            6.33s\n",
            "         6 14484449102.9480            6.10s\n",
            "         7 13143032822.2923            5.78s\n",
            "         8 11942204658.6391            5.66s\n",
            "         9 10000717399.5005            5.60s\n",
            "        10  8263552293.3526            5.53s\n",
            "        20  1676002752.4527            4.95s\n",
            "        30  1086417854.1626            4.58s\n",
            "        40   749359424.3712            4.30s\n",
            "        50   624724777.9462            3.98s\n",
            "        60   536783448.7205            3.64s\n",
            "        70   435806626.9520            3.40s\n",
            "        80   394796603.4803            3.07s\n",
            "        90   367062505.5168            2.78s\n",
            "       100   330019318.4212            2.50s\n",
            "       200   140258257.6791            0.00s\n"
          ]
        },
        {
          "output_type": "execute_result",
          "data": {
            "text/plain": [
              "GradientBoostingRegressor(alpha=0.9, ccp_alpha=0.0, criterion='friedman_mse',\n",
              "                          init=None, learning_rate=0.325, loss='ls',\n",
              "                          max_depth=3, max_features='log2', max_leaf_nodes=None,\n",
              "                          min_impurity_decrease=0.0, min_impurity_split=None,\n",
              "                          min_samples_leaf=1, min_samples_split=2,\n",
              "                          min_weight_fraction_leaf=0.0, n_estimators=200,\n",
              "                          n_iter_no_change=None, presort='deprecated',\n",
              "                          random_state=None, subsample=1.0, tol=0.0001,\n",
              "                          validation_fraction=0.1, verbose=1, warm_start=False)"
            ]
          },
          "metadata": {},
          "execution_count": 229
        }
      ]
    },
    {
      "cell_type": "code",
      "metadata": {
        "colab": {
          "base_uri": "https://localhost:8080/"
        },
        "id": "XLW2aCxVukwC",
        "outputId": "3d0350d6-1393-4775-9d8e-f1c6c298e5cb"
      },
      "source": [
        "acc = clf.score(x_train,y_train)\n",
        "\n",
        "print(\"r2 score on train data\", acc)"
      ],
      "execution_count": null,
      "outputs": [
        {
          "output_type": "stream",
          "name": "stdout",
          "text": [
            "r2 score on train data 0.9990183468252108\n"
          ]
        }
      ]
    },
    {
      "cell_type": "code",
      "metadata": {
        "colab": {
          "base_uri": "https://localhost:8080/"
        },
        "id": "IDvC25isukzb",
        "outputId": "31b92751-87bb-4637-fb8c-71a79a3795f0"
      },
      "source": [
        "pred_gb = clf.predict(x_test)\n",
        "r2_score(y_test, pred_gb)"
      ],
      "execution_count": null,
      "outputs": [
        {
          "output_type": "execute_result",
          "data": {
            "text/plain": [
              "0.998942935541743"
            ]
          },
          "metadata": {},
          "execution_count": 232
        }
      ]
    },
    {
      "cell_type": "code",
      "metadata": {
        "colab": {
          "base_uri": "https://localhost:8080/",
          "height": 345
        },
        "id": "H2Q23vhcuk2k",
        "outputId": "7f8c9155-8d84-404c-b644-9cd7be489e0f"
      },
      "source": [
        "plt.figure(figsize=(15, 5))\n",
        "plt.scatter(pred_gb,y_test, c =\"red\" , s = 1) \n",
        "plt.xlabel(\"prediction\") \n",
        "plt.ylabel(\"true value\") \n",
        "\n",
        "plt.title('True value vs Predicted value plot')\n",
        "ax = plt.axes()\n",
        "ax.set_facecolor(\"black\")\n",
        "\n",
        "plt.show()"
      ],
      "execution_count": null,
      "outputs": [
        {
          "output_type": "display_data",
          "data": {
            "image/png": "[encoded data removed]",
            "text/plain": [
              "<Figure size 1080x360 with 1 Axes>"
            ]
          },
          "metadata": {}
        }
      ]
    },
    {
      "cell_type": "markdown",
      "metadata": {
        "id": "e4xC27FkAyDE"
      },
      "source": [
        "### 4.2 Feature Importance"
      ]
    },
    {
      "cell_type": "code",
      "metadata": {
        "id": "bDrQMKexuk5e",
        "colab": {
          "base_uri": "https://localhost:8080/"
        },
        "outputId": "c8c04e09-cdb8-481e-804e-632eb17bd257"
      },
      "source": [
        "gb_imp = clf.feature_importances_\n",
        "print(gb_imp)"
      ],
      "execution_count": null,
      "outputs": [
        {
          "output_type": "stream",
          "name": "stdout",
          "text": [
            "[1.97670089e-05 1.00123126e-05 5.52535822e-02 0.00000000e+00\n",
            " 2.67565363e-06 9.63454293e-02 9.73456485e-02 2.18901230e-02\n",
            " 4.06039925e-01 3.22834434e-01 4.17447906e-06 2.46752568e-06\n",
            " 2.92352438e-05 5.38109015e-06 5.60643068e-06 2.11537889e-04]\n"
          ]
        }
      ]
    },
    {
      "cell_type": "code",
      "metadata": {
        "id": "OJWrZ-Nfuk8h",
        "colab": {
          "base_uri": "https://localhost:8080/",
          "height": 345
        },
        "outputId": "abcc1b8b-1b0a-4edd-e9e5-349b490b6f88"
      },
      "source": [
        "plt.figure(figsize=(23, 5))\n",
        "plt.plot(gb_imp, 'r-o')\n",
        "\n",
        "default_x_ticks = range(len(gb_imp))\n",
        "plt.xticks(default_x_ticks,col)\n",
        "plt.title('Feature importance by Gradient Boosting')\n",
        "plt.xlabel(\"Features\")\n",
        "plt.ylabel(\"Importance Score\")\n",
        "\n",
        "ax = plt.axes()\n",
        "ax.set_facecolor(\"black\")\n",
        "ax.grid(False)\n",
        "plt.show()"
      ],
      "execution_count": null,
      "outputs": [
        {
          "output_type": "display_data",
          "data": {
            "image/png": "[encoded data removed]",
            "text/plain": [
              "<Figure size 1656x360 with 1 Axes>"
            ]
          },
          "metadata": {}
        }
      ]
    },
    {
      "cell_type": "code",
      "metadata": {
        "id": "XjFJ0YnGulE6"
      },
      "source": [
        ""
      ],
      "execution_count": null,
      "outputs": []
    },
    {
      "cell_type": "markdown",
      "metadata": {
        "id": "lMB3mE_B1V-Q"
      },
      "source": [
        "##5. Ridge Regression\n"
      ]
    },
    {
      "cell_type": "markdown",
      "metadata": {
        "id": "0fj-YjgiA7AJ"
      },
      "source": [
        "### 5.1 Hyperparameter Tuning "
      ]
    },
    {
      "cell_type": "code",
      "metadata": {
        "id": "4ePjSR8b1Yp-",
        "colab": {
          "base_uri": "https://localhost:8080/"
        },
        "outputId": "cceb1067-3a2b-4d08-c76e-5fc81f8f254c"
      },
      "source": [
        "from sklearn.linear_model import Ridge\n",
        "alpha = [float(x) for x in np.linspace(1.5, 2, 5)] \n",
        "\n",
        "r2_score_array=[]\n",
        "for i in alpha:\n",
        "    clf = Ridge(alpha=i)\n",
        "    clf.fit(x_train, y_train)\n",
        "    r2_score_array.append(clf.score(x_train,y_train))\n",
        "    predict_y = clf.predict(x_test)\n",
        "    print('For values of alpha = ', i, \"The r2score on test data is:\",r2_score(y_test, predict_y))"
      ],
      "execution_count": null,
      "outputs": [
        {
          "output_type": "stream",
          "name": "stdout",
          "text": [
            "For values of alpha =  1.5 The r2score on test data is: 0.9964564539172455\n",
            "For values of alpha =  1.625 The r2score on test data is: 0.9960335310934045\n",
            "For values of alpha =  1.75 The r2score on test data is: 0.9956073258860658\n",
            "For values of alpha =  1.875 The r2score on test data is: 0.995179399214416\n",
            "For values of alpha =  2.0 The r2score on test data is: 0.9947510493488755\n"
          ]
        }
      ]
    },
    {
      "cell_type": "code",
      "metadata": {
        "colab": {
          "base_uri": "https://localhost:8080/"
        },
        "id": "wegHhuNq4Rlo",
        "outputId": "357ed449-a7c0-4f90-f1ec-7e39ce09c806"
      },
      "source": [
        "best_alpha = np.argmax(r2_score_array)\n",
        "print(alpha[best_alpha])"
      ],
      "execution_count": null,
      "outputs": [
        {
          "output_type": "stream",
          "name": "stdout",
          "text": [
            "1.5\n"
          ]
        }
      ]
    },
    {
      "cell_type": "code",
      "metadata": {
        "id": "icH0jyfQJMHD",
        "colab": {
          "base_uri": "https://localhost:8080/"
        },
        "outputId": "99b53322-905d-4ba7-a9b5-f8ee04192ee2"
      },
      "source": [
        "clf = Ridge(alpha = 0.5)\n",
        "reg = clf.fit(x_train, y_train)\n",
        "pred = reg.predict(x_test)\n",
        "acc = reg.score(x_train,y_train)\n",
        "print(\"r2_score on train data\",acc)"
      ],
      "execution_count": null,
      "outputs": [
        {
          "output_type": "stream",
          "name": "stdout",
          "text": [
            "r2_score on train data 0.9993856237359803\n"
          ]
        }
      ]
    },
    {
      "cell_type": "code",
      "metadata": {
        "id": "1zOMDuEwr4j4",
        "colab": {
          "base_uri": "https://localhost:8080/"
        },
        "outputId": "b230382c-73a6-42f5-95d1-5d7c518f5580"
      },
      "source": [
        "print(\"r2_score on test data\", r2_score(y_test, pred))"
      ],
      "execution_count": null,
      "outputs": [
        {
          "output_type": "stream",
          "name": "stdout",
          "text": [
            "r2_score on test data 0.9993951139336821\n"
          ]
        }
      ]
    },
    {
      "cell_type": "code",
      "metadata": {
        "id": "bHpWGtk8rRec",
        "colab": {
          "base_uri": "https://localhost:8080/",
          "height": 345
        },
        "outputId": "cfd85c89-6e0b-4db8-d6df-a03aed568c27"
      },
      "source": [
        "plt.figure(figsize=(15, 5))\n",
        "plt.scatter(pred,y_test, c =\"red\" , s = 1) \n",
        "plt.xlabel(\"prediction\") \n",
        "plt.ylabel(\"true value\") \n",
        "\n",
        "plt.title('True value vs Predicted value plot')\n",
        "ax = plt.axes()\n",
        "ax.set_facecolor(\"black\")\n",
        "\n",
        "plt.show()"
      ],
      "execution_count": null,
      "outputs": [
        {
          "output_type": "display_data",
          "data": {
            "image/png": "[encoded data removed]",
            "text/plain": [
              "<Figure size 1080x360 with 1 Axes>"
            ]
          },
          "metadata": {}
        }
      ]
    },
    {
      "cell_type": "markdown",
      "metadata": {
        "id": "GrLuGoKkA_sN"
      },
      "source": [
        "### 5.2 Feature Importance"
      ]
    },
    {
      "cell_type": "code",
      "metadata": {
        "id": "OEIgBhZ3o8VS"
      },
      "source": [
        "importance = reg.coef_"
      ],
      "execution_count": null,
      "outputs": []
    },
    {
      "cell_type": "code",
      "metadata": {
        "colab": {
          "base_uri": "https://localhost:8080/",
          "height": 345
        },
        "id": "93DLEXhbGNBv",
        "outputId": "79879491-8702-4287-edbe-b02c7f3013ea"
      },
      "source": [
        "plt.figure(figsize=(23, 5))\n",
        "plt.plot(importance, 'r-o')\n",
        "\n",
        "default_x_ticks = range(len(importance))\n",
        "plt.xticks(default_x_ticks,col)\n",
        "plt.title('Feature importance by Ridge Regression')\n",
        "plt.xlabel(\"Features\")\n",
        "plt.ylabel(\"Importance Score\")\n",
        "\n",
        "ax = plt.axes()\n",
        "ax.set_facecolor(\"black\")\n",
        "ax.grid(False)\n",
        "plt.show()"
      ],
      "execution_count": null,
      "outputs": [
        {
          "output_type": "display_data",
          "data": {
            "image/png": "[encoded data removed]",
            "text/plain": [
              "<Figure size 1656x360 with 1 Axes>"
            ]
          },
          "metadata": {}
        }
      ]
    },
    {
      "cell_type": "markdown",
      "metadata": {
        "id": "KO5J0or84pvu"
      },
      "source": [
        "## 6. Decision Trees"
      ]
    },
    {
      "cell_type": "markdown",
      "metadata": {
        "id": "KfaH25owBGdB"
      },
      "source": [
        "### 6.1 Hyperparameter Tuning "
      ]
    },
    {
      "cell_type": "code",
      "metadata": {
        "id": "wHGbp5_PGNEl"
      },
      "source": [
        "#depth of treeS\n",
        "max_depth = [int(x) for x in np.linspace(5,55,11)]\n",
        "max_depth.append(None)\n",
        "\n",
        "#maximum features to consider at every split\n",
        "max_features = ['auto', 'sqrt', 'log2', None]\n",
        "                 \n",
        "\n",
        "# Minimum number of samples required to split a node\n",
        "min_samples_split = [int(x) for x in np.linspace(50, 100, 10)]\n",
        "\n",
        "# Minimum decrease in impurity required for split to happen\n",
        "min_impurity_decrease = [0.0, 0.05, 0.1]\n",
        "\n",
        "\n",
        "# Create the grid\n",
        "dt_grid = {'max_depth': max_depth,\n",
        "           'max_features': max_features,\n",
        "           'min_samples_split': min_samples_split,\n",
        "           'min_impurity_decrease': min_impurity_decrease,\n",
        "          }"
      ],
      "execution_count": 20,
      "outputs": []
    },
    {
      "cell_type": "code",
      "metadata": {
        "colab": {
          "base_uri": "https://localhost:8080/"
        },
        "id": "9wxg1MbzGNIA",
        "outputId": "05fd5b83-2f03-4a12-9256-12c1e034a278"
      },
      "source": [
        "dt_grid"
      ],
      "execution_count": 21,
      "outputs": [
        {
          "output_type": "execute_result",
          "data": {
            "text/plain": [
              "{'max_depth': [5, 10, 15, 20, 25, 30, 35, 40, 45, 50, 55, None],\n",
              " 'max_features': ['auto', 'sqrt', 'log2', None],\n",
              " 'min_impurity_decrease': [0.0, 0.05, 0.1],\n",
              " 'min_samples_split': [50, 55, 61, 66, 72, 77, 83, 88, 94, 100]}"
            ]
          },
          "metadata": {},
          "execution_count": 21
        }
      ]
    },
    {
      "cell_type": "code",
      "metadata": {
        "colab": {
          "base_uri": "https://localhost:8080/"
        },
        "id": "OJdYCg1p5PLd",
        "outputId": "38fa4344-c692-4d91-919f-cc63dc54f6f6"
      },
      "source": [
        "from sklearn.tree import DecisionTreeRegressor\n",
        "from sklearn.model_selection import RandomizedSearchCV\n",
        "\n",
        "# Create the model to be tuned\n",
        "dt_base = DecisionTreeRegressor()\n",
        "\n",
        "# Create the random search Random Forest\n",
        "dt_random = RandomizedSearchCV(estimator = dt_base, param_distributions = dt_grid, \n",
        "                               n_iter = 200, cv = 3, verbose = 2, random_state = 42, \n",
        "                               n_jobs = -1)\n",
        "\n",
        "# Fit the random search model\n",
        "dt_random.fit(x_train, y_train)\n",
        "\n",
        "# View the best parameters from the random search\n",
        "dt_random.best_params_"
      ],
      "execution_count": 23,
      "outputs": [
        {
          "output_type": "stream",
          "name": "stdout",
          "text": [
            "Fitting 3 folds for each of 200 candidates, totalling 600 fits\n"
          ]
        },
        {
          "output_type": "execute_result",
          "data": {
            "text/plain": [
              "{'max_depth': 15,\n",
              " 'max_features': 'auto',\n",
              " 'min_impurity_decrease': 0.0,\n",
              " 'min_samples_split': 50}"
            ]
          },
          "metadata": {},
          "execution_count": 23
        }
      ]
    },
    {
      "cell_type": "code",
      "metadata": {
        "colab": {
          "base_uri": "https://localhost:8080/"
        },
        "id": "9_QQsOXX5PTJ",
        "outputId": "169cf62a-1a08-4785-feec-921e0488ef2a"
      },
      "source": [
        "dt = DecisionTreeRegressor(max_depth =  30,max_features = 'auto', min_impurity_decrease = 0.1, min_samples_split = 50)\n",
        "dt.fit(x_train,y_train)"
      ],
      "execution_count": 24,
      "outputs": [
        {
          "output_type": "execute_result",
          "data": {
            "text/plain": [
              "DecisionTreeRegressor(max_depth=30, max_features='auto',\n",
              "                      min_impurity_decrease=0.1, min_samples_split=50)"
            ]
          },
          "metadata": {},
          "execution_count": 24
        }
      ]
    },
    {
      "cell_type": "code",
      "metadata": {
        "colab": {
          "base_uri": "https://localhost:8080/"
        },
        "id": "7Tzohm6M5Pf4",
        "outputId": "50091a8a-a48c-4307-9f02-0b5720872c7e"
      },
      "source": [
        "print('r2 score on train data', dt.score(x_train,y_train))"
      ],
      "execution_count": 25,
      "outputs": [
        {
          "output_type": "stream",
          "name": "stdout",
          "text": [
            "r2 score on train data 0.9998877639866757\n"
          ]
        }
      ]
    },
    {
      "cell_type": "code",
      "metadata": {
        "colab": {
          "base_uri": "https://localhost:8080/"
        },
        "id": "UVsXeOj75Pp4",
        "outputId": "9607f24b-f47b-48f2-854b-c689955d3f7f"
      },
      "source": [
        "pred_dt = dt.predict(x_test)\n",
        "print('r2 score on test data', r2_score(pred_dt,y_test))"
      ],
      "execution_count": 26,
      "outputs": [
        {
          "output_type": "stream",
          "name": "stdout",
          "text": [
            "r2 score on test data 0.9998733113192135\n"
          ]
        }
      ]
    },
    {
      "cell_type": "code",
      "metadata": {
        "colab": {
          "base_uri": "https://localhost:8080/",
          "height": 345
        },
        "id": "Qb_GT8P47orb",
        "outputId": "86e4cdf7-e181-4e82-fabc-8243af14613f"
      },
      "source": [
        "plt.figure(figsize=(15, 5))\n",
        "plt.scatter(pred_dt,y_test, c =\"red\" , s = 1) \n",
        "plt.xlabel(\"prediction\") \n",
        "plt.ylabel(\"true value\") \n",
        "\n",
        "plt.title('True value vs Predicted value plot')\n",
        "ax = plt.axes()\n",
        "ax.set_facecolor(\"black\")\n",
        "\n",
        "plt.show()"
      ],
      "execution_count": 27,
      "outputs": [
        {
          "output_type": "display_data",
          "data": {
            "image/png": "[encoded data removed]",
            "text/plain": [
              "<Figure size 1080x360 with 1 Axes>"
            ]
          },
          "metadata": {}
        }
      ]
    },
    {
      "cell_type": "markdown",
      "metadata": {
        "id": "dy-x5K0zBNyV"
      },
      "source": [
        "### 6.2 Feature Importance"
      ]
    },
    {
      "cell_type": "code",
      "metadata": {
        "colab": {
          "base_uri": "https://localhost:8080/"
        },
        "id": "kPpHA_O576wL",
        "outputId": "300e11f7-ccaf-4fa3-ead1-5ed400e43508"
      },
      "source": [
        "dt_imp = dt.feature_importances_\n",
        "print(dt_imp)"
      ],
      "execution_count": 28,
      "outputs": [
        {
          "output_type": "stream",
          "name": "stdout",
          "text": [
            "[0.         0.         0.01326103 0.         0.         0.01904996\n",
            " 0.01507055 0.07504041 0.85866309 0.01891496 0.         0.\n",
            " 0.         0.         0.         0.        ]\n"
          ]
        }
      ]
    },
    {
      "cell_type": "code",
      "metadata": {
        "id": "-aBxEKHwMh-T"
      },
      "source": [
        "col = x_train.columns"
      ],
      "execution_count": 30,
      "outputs": []
    },
    {
      "cell_type": "code",
      "metadata": {
        "colab": {
          "base_uri": "https://localhost:8080/",
          "height": 345
        },
        "id": "Aphp4bWz7u7w",
        "outputId": "ca0edd89-cff6-4b8c-b253-1b99f47556d8"
      },
      "source": [
        "plt.figure(figsize=(23, 5))\n",
        "plt.plot(dt_imp, 'r-o')\n",
        "\n",
        "default_x_ticks = range(len(dt_imp))\n",
        "plt.xticks(default_x_ticks,col)\n",
        "plt.title('Feature importance by Decision Trees')\n",
        "plt.xlabel(\"Features\")\n",
        "plt.ylabel(\"Importance Score\")\n",
        "\n",
        "ax = plt.axes()\n",
        "ax.set_facecolor(\"black\")\n",
        "ax.grid(False)\n",
        "plt.show()"
      ],
      "execution_count": 31,
      "outputs": [
        {
          "output_type": "display_data",
          "data": {
            "image/png": "[encoded data removed]",
            "text/plain": [
              "<Figure size 1656x360 with 1 Axes>"
            ]
          },
          "metadata": {}
        }
      ]
    },
    {
      "cell_type": "markdown",
      "metadata": {
        "id": "4Kf1Fi73_cxi"
      },
      "source": [
        "## Stacking Regression Models"
      ]
    },
    {
      "cell_type": "code",
      "metadata": {
        "id": "HxYJXY5l_fTh"
      },
      "source": [
        "from sklearn.ensemble import StackingRegressor\n",
        "estimators = [('svr',svr),('knr', knr),('dt',dt)]\n",
        "\n",
        "stack = StackingRegressor(estimators = estimators, final_estimator = clf)"
      ],
      "execution_count": null,
      "outputs": []
    },
    {
      "cell_type": "code",
      "metadata": {
        "colab": {
          "base_uri": "https://localhost:8080/"
        },
        "id": "i0XKNK56_f3v",
        "outputId": "620eaf5f-1ccf-4295-d70d-8e602b4263d4"
      },
      "source": [
        "stack.fit(x_train,y_train)"
      ],
      "execution_count": null,
      "outputs": [
        {
          "output_type": "execute_result",
          "data": {
            "text/plain": [
              "StackingRegressor(cv=None,\n",
              "                  estimators=[('svr',\n",
              "                               SVR(C=3.0, cache_size=200, coef0=0.0, degree=6,\n",
              "                                   epsilon=0.5, gamma='scale', kernel='poly',\n",
              "                                   max_iter=-1, shrinking=True, tol=0.001,\n",
              "                                   verbose=False)),\n",
              "                              ('knr',\n",
              "                               KNeighborsRegressor(algorithm='auto',\n",
              "                                                   leaf_size=40,\n",
              "                                                   metric='minkowski',\n",
              "                                                   metric_params=None,\n",
              "                                                   n_jobs=None, n_neighbors=7,\n",
              "                                                   p=1, weights='distance')),\n",
              "                              ('dt',\n",
              "                               DecisionTreeRegr...\n",
              "                                                     min_impurity_decrease=0.1,\n",
              "                                                     min_impurity_split=None,\n",
              "                                                     min_samples_leaf=1,\n",
              "                                                     min_samples_split=50,\n",
              "                                                     min_weight_fraction_leaf=0.0,\n",
              "                                                     presort='deprecated',\n",
              "                                                     random_state=None,\n",
              "                                                     splitter='best'))],\n",
              "                  final_estimator=Ridge(alpha=0.5, copy_X=True,\n",
              "                                        fit_intercept=True, max_iter=None,\n",
              "                                        normalize=False, random_state=None,\n",
              "                                        solver='auto', tol=0.001),\n",
              "                  n_jobs=None, passthrough=False, verbose=0)"
            ]
          },
          "metadata": {},
          "execution_count": 325
        }
      ]
    },
    {
      "cell_type": "code",
      "metadata": {
        "colab": {
          "base_uri": "https://localhost:8080/"
        },
        "id": "C038ZcMJbGh3",
        "outputId": "0dad4e26-0eca-4774-ddc1-92271410b817"
      },
      "source": [
        "pred_stack = stack.predict(x_test)\n",
        "r2_score(pred_stack,y_test)"
      ],
      "execution_count": null,
      "outputs": [
        {
          "output_type": "execute_result",
          "data": {
            "text/plain": [
              "0.9999197924643661"
            ]
          },
          "metadata": {},
          "execution_count": 326
        }
      ]
    },
    {
      "cell_type": "code",
      "metadata": {
        "colab": {
          "base_uri": "https://localhost:8080/"
        },
        "id": "gfYRaoxidxpr",
        "outputId": "7b4d2625-44f0-4237-9bc6-2380751b2818"
      },
      "source": [
        "stack.score(x_train,y_train)"
      ],
      "execution_count": null,
      "outputs": [
        {
          "output_type": "execute_result",
          "data": {
            "text/plain": [
              "0.9999322445821132"
            ]
          },
          "metadata": {},
          "execution_count": 327
        }
      ]
    },
    {
      "cell_type": "code",
      "metadata": {
        "colab": {
          "base_uri": "https://localhost:8080/",
          "height": 345
        },
        "id": "SkKnsRjseDhX",
        "outputId": "27241435-fb1d-4799-d367-3442710f6c7d"
      },
      "source": [
        "plt.figure(figsize=(15, 5))\n",
        "plt.scatter(pred_stack,y_test, c =\"red\" , s = 1) \n",
        "plt.xlabel(\"prediction\") \n",
        "plt.ylabel(\"true value\") \n",
        "\n",
        "plt.title('True value vs Predicted value plot')\n",
        "ax = plt.axes()\n",
        "ax.set_facecolor(\"black\")\n",
        "\n",
        "plt.show()"
      ],
      "execution_count": null,
      "outputs": [
        {
          "output_type": "display_data",
          "data": {
            "image/png": "[encoded data removed]",
            "text/plain": [
              "<Figure size 1080x360 with 1 Axes>"
            ]
          },
          "metadata": {}
        }
      ]
    },
    {
      "cell_type": "markdown",
      "metadata": {
        "id": "shRBI6VDwiEE"
      },
      "source": [
        "## Voting Ensemble"
      ]
    },
    {
      "cell_type": "code",
      "metadata": {
        "id": "Mcf3SuXVeiMF"
      },
      "source": [
        "from sklearn.ensemble import VotingRegressor\n",
        "VR = VotingRegressor([('lr', clf), ('svr', svr),('knn',knr),('dt',dt)], n_jobs = -1)"
      ],
      "execution_count": null,
      "outputs": []
    },
    {
      "cell_type": "code",
      "metadata": {
        "colab": {
          "base_uri": "https://localhost:8080/"
        },
        "id": "fQ6yAhhTzBEk",
        "outputId": "ee0c4419-f0c1-42b1-88fe-c1680de03a97"
      },
      "source": [
        "VR.fit(x_train,y_train)\n",
        "VR.score(x_train,y_train)"
      ],
      "execution_count": null,
      "outputs": [
        {
          "output_type": "execute_result",
          "data": {
            "text/plain": [
              "0.9748310580660152"
            ]
          },
          "metadata": {},
          "execution_count": 330
        }
      ]
    },
    {
      "cell_type": "code",
      "metadata": {
        "colab": {
          "base_uri": "https://localhost:8080/"
        },
        "id": "mhMC_vhSzH4N",
        "outputId": "0fc6a1c6-eae1-459c-bfbc-8c2a89ac871d"
      },
      "source": [
        "pred_vr = VR.predict(x_test)\n",
        "r2_score(pred_vr,y_test)"
      ],
      "execution_count": null,
      "outputs": [
        {
          "output_type": "execute_result",
          "data": {
            "text/plain": [
              "0.9515735073186661"
            ]
          },
          "metadata": {},
          "execution_count": 331
        }
      ]
    },
    {
      "cell_type": "code",
      "metadata": {
        "colab": {
          "base_uri": "https://localhost:8080/",
          "height": 345
        },
        "id": "0w-Un_uaz23g",
        "outputId": "7d4bf92a-0a9b-4046-b923-2b6521b51043"
      },
      "source": [
        "plt.figure(figsize=(15, 5))\n",
        "plt.scatter(pred_vr,y_test, c =\"red\" , s = 1) \n",
        "plt.xlabel(\"prediction\") \n",
        "plt.ylabel(\"true value\") \n",
        "\n",
        "plt.title('True value vs Predicted value plot')\n",
        "ax = plt.axes()\n",
        "ax.set_facecolor(\"black\")\n",
        "\n",
        "plt.show()"
      ],
      "execution_count": null,
      "outputs": [
        {
          "output_type": "display_data",
          "data": {
            "image/png": "[encoded data removed]",
            "text/plain": [
              "<Figure size 1080x360 with 1 Axes>"
            ]
          },
          "metadata": {}
        }
      ]
    },
    {
      "cell_type": "code",
      "metadata": {
        "id": "j52_gcHJ0wBo"
      },
      "source": [
        ""
      ],
      "execution_count": null,
      "outputs": []
    },
    {
      "cell_type": "markdown",
      "metadata": {
        "id": "U5LY1XkvNbBm"
      },
      "source": [
        "### Save the best model for Deployment"
      ]
    },
    {
      "cell_type": "code",
      "metadata": {
        "id": "KMEqqjK0ODBE"
      },
      "source": [
        "import pickle"
      ],
      "execution_count": 34,
      "outputs": []
    },
    {
      "cell_type": "code",
      "metadata": {
        "id": "ipbedlxPOEkg"
      },
      "source": [
        "pickle.dump(dt,open('/content/drive/MyDrive/salesprofit_predictionmodel.pkl' , 'wb'))"
      ],
      "execution_count": 36,
      "outputs": []
    },
    {
      "cell_type": "code",
      "metadata": {
        "colab": {
          "base_uri": "https://localhost:8080/",
          "height": 130
        },
        "id": "3vV5WSFZO2by",
        "outputId": "07e551a4-81a2-4130-bd06-98e8c81a32fc"
      },
      "source": [
        "df.head(2)"
      ],
      "execution_count": 38,
      "outputs": [
        {
          "output_type": "execute_result",
          "data": {
            "text/html": [
              "<div>\n",
              "<style scoped>\n",
              "    .dataframe tbody tr th:only-of-type {\n",
              "        vertical-align: middle;\n",
              "    }\n",
              "\n",
              "    .dataframe tbody tr th {\n",
              "        vertical-align: top;\n",
              "    }\n",
              "\n",
              "    .dataframe thead th {\n",
              "        text-align: right;\n",
              "    }\n",
              "</style>\n",
              "<table border=\"1\" class=\"dataframe\">\n",
              "  <thead>\n",
              "    <tr style=\"text-align: right;\">\n",
              "      <th></th>\n",
              "      <th>Region</th>\n",
              "      <th>Country</th>\n",
              "      <th>Item Type</th>\n",
              "      <th>Sales Channel</th>\n",
              "      <th>Order Priority</th>\n",
              "      <th>Units Sold</th>\n",
              "      <th>Unit Price</th>\n",
              "      <th>Unit Cost</th>\n",
              "      <th>Total Revenue</th>\n",
              "      <th>Total Cost</th>\n",
              "      <th>Total Profit</th>\n",
              "      <th>Order Date_year</th>\n",
              "      <th>Order Date_month</th>\n",
              "      <th>Order Date_day</th>\n",
              "      <th>Ship Date_year</th>\n",
              "      <th>Ship Date_month</th>\n",
              "      <th>Ship Date_day</th>\n",
              "    </tr>\n",
              "  </thead>\n",
              "  <tbody>\n",
              "    <tr>\n",
              "      <th>0</th>\n",
              "      <td>0</td>\n",
              "      <td>Namibia</td>\n",
              "      <td>0</td>\n",
              "      <td>0</td>\n",
              "      <td>2</td>\n",
              "      <td>3604</td>\n",
              "      <td>668.27</td>\n",
              "      <td>502.54</td>\n",
              "      <td>2408445.08</td>\n",
              "      <td>1811154.16</td>\n",
              "      <td>597290.92</td>\n",
              "      <td>2015</td>\n",
              "      <td>8</td>\n",
              "      <td>31</td>\n",
              "      <td>2015</td>\n",
              "      <td>10</td>\n",
              "      <td>12</td>\n",
              "    </tr>\n",
              "    <tr>\n",
              "      <th>1</th>\n",
              "      <td>1</td>\n",
              "      <td>Iceland</td>\n",
              "      <td>11</td>\n",
              "      <td>1</td>\n",
              "      <td>3</td>\n",
              "      <td>8435</td>\n",
              "      <td>255.28</td>\n",
              "      <td>159.42</td>\n",
              "      <td>2153286.80</td>\n",
              "      <td>1344707.70</td>\n",
              "      <td>808579.10</td>\n",
              "      <td>2010</td>\n",
              "      <td>11</td>\n",
              "      <td>20</td>\n",
              "      <td>2011</td>\n",
              "      <td>1</td>\n",
              "      <td>9</td>\n",
              "    </tr>\n",
              "  </tbody>\n",
              "</table>\n",
              "</div>"
            ],
            "text/plain": [
              "   Region  Country  Item Type  ...  Ship Date_year  Ship Date_month  Ship Date_day\n",
              "0       0  Namibia          0  ...            2015               10             12\n",
              "1       1  Iceland         11  ...            2011                1              9\n",
              "\n",
              "[2 rows x 17 columns]"
            ]
          },
          "metadata": {},
          "execution_count": 38
        }
      ]
    },
    {
      "cell_type": "code",
      "metadata": {
        "colab": {
          "base_uri": "https://localhost:8080/"
        },
        "id": "KXm-_iO7MP8r",
        "outputId": "b001ee63-6d95-464c-e37d-52d838248fbb"
      },
      "source": [
        "model = pickle.load(open('/content/drive/MyDrive/salesprofit_predictionmodel.pkl','rb'))\n",
        "print(model.predict([[1,0,0,0,2,3604,668,500,2408666,1811139,2015,7,30,2015,19,12]]))"
      ],
      "execution_count": 43,
      "outputs": [
        {
          "output_type": "stream",
          "name": "stdout",
          "text": [
            "[599980.4]\n"
          ]
        }
      ]
    },
    {
      "cell_type": "code",
      "metadata": {
        "id": "DXVCf3EAPY9h"
      },
      "source": [
        ""
      ],
      "execution_count": null,
      "outputs": []
    }
  ]
}