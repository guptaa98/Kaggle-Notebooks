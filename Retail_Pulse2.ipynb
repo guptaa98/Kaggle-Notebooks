{
  "nbformat": 4,
  "nbformat_minor": 0,
  "metadata": {
    "colab": {
      "name": "Retail Pulse2.ipynb",
      "provenance": [],
      "collapsed_sections": [],
      "authorship_tag": "ABX9TyMPin1mU4IN5fn9xaimJa0r",
      "include_colab_link": true
    },
    "kernelspec": {
      "name": "python3",
      "display_name": "Python 3"
    },
    "language_info": {
      "name": "python"
    }
  },
  "cells": [
    {
      "cell_type": "markdown",
      "metadata": {
        "id": "view-in-github",
        "colab_type": "text"
      },
      "source": [
        "<a href=\"https://colab.research.google.com/github/guptaa98/Kaggle-Notebooks/blob/master/Retail_Pulse2.ipynb\" target=\"_parent\"><img src=\"https://colab.research.google.com/assets/colab-badge.svg\" alt=\"Open In Colab\"/></a>"
      ]
    },
    {
      "cell_type": "code",
      "metadata": {
        "colab": {
          "base_uri": "https://localhost:8080/"
        },
        "id": "BlnRhTvBKVMb",
        "outputId": "06afc2e8-ff13-4de2-ca6c-d3be8829d35b"
      },
      "source": [
        "dict_val = {'two' : 2, 'three' : 3, 'four' : 4, 'five' : 5, 'six' : 6, 'seven' : 7, 'eight' : 8, 'nine' : 9, 'ten' : 10, 'jack' : 10, 'queen' : 10, 'king' : 10} \n",
        "\n",
        "#n = int(input(\"Enter the number of elements\"))\n",
        "arr = input()   # takes the whole line of n numbers\n",
        "l = list(map(str,arr.split(' '))) # split those numbers with space( becomes ['2','3','6','6','5']) and then map every element into int (becomes [2,3,6,6,5])\n",
        "\n",
        "def get_key(val):\n",
        "    for key, value in dict_val.items():\n",
        "         if val == value:\n",
        "             return key\n",
        "\n",
        "#jack, queen, king { here the order of importance is taken to be in descending order i.e. jack most important}\n",
        "score1 = 0\n",
        "\n",
        "high_card = 'one'\n",
        "high_card_val = 1\n",
        "for card in l:\n",
        "  if(card != 'ace'):\n",
        "    score1 += dict_val[card]\n",
        "    #score2 += dict_val[card]\n",
        "    if(card in face_card):\n",
        "      if(card == 'jack'):\n",
        "        high_card = 'jack'\n",
        "      elif(card == 'queen' and high_card != 'jack'):\n",
        "        high_card = 'queen'\n",
        "      else:\n",
        "        if(high_card != 'queen' and high_card != 'jack' and card == 'king'):\n",
        "          high_card = 'king' \n",
        "    else:\n",
        "      high_card_val = max(high_card_val, dict_val[card])\n",
        "      high_card = get_key(high_card_val) \n",
        "\n",
        "\n",
        "for card in l:\n",
        "  if(card == 'ace'):\n",
        "    if(score1 + 11 > 21):\n",
        "      score1 += 1\n",
        "    elif(score1 + 11 < 21):\n",
        "      score1 += 11\n",
        "      high_card = 'ace'\n",
        "    else:\n",
        "      high_card = 'ace'\n",
        "      score1 = 21\n",
        "\n",
        "if(score1 == 21):\n",
        "  print('blackjack')\n",
        "elif(score1 < 21):\n",
        "  print('below')\n",
        "else:\n",
        "  print('above')\n",
        "print(high_card)"
      ],
      "execution_count": null,
      "outputs": [
        {
          "output_type": "stream",
          "name": "stdout",
          "text": [
            "ace queen\n",
            "blackjack\n",
            "ace\n"
          ]
        }
      ]
    },
    {
      "cell_type": "code",
      "metadata": {
        "id": "82LFybUVO3_S"
      },
      "source": [
        ""
      ],
      "execution_count": null,
      "outputs": []
    }
  ]
}