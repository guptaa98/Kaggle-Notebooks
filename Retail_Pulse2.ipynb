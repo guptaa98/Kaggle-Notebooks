{
  "nbformat": 4,
  "nbformat_minor": 0,
  "metadata": {
    "colab": {
      "name": "Retail Pulse2.ipynb",
      "provenance": [],
      "collapsed_sections": [],
      "authorship_tag": "ABX9TyMhaXK+LwmKIwYTS1UdTfbb",
      "include_colab_link": true
    },
    "kernelspec": {
      "name": "python3",
      "display_name": "Python 3"
    },
    "language_info": {
      "name": "python"
    }
  },
  "cells": [
    {
      "cell_type": "markdown",
      "metadata": {
        "id": "view-in-github",
        "colab_type": "text"
      },
      "source": [
        "<a href=\"https://colab.research.google.com/github/guptaa98/Kaggle-Notebooks/blob/master/Retail_Pulse2.ipynb\" target=\"_parent\"><img src=\"https://colab.research.google.com/assets/colab-badge.svg\" alt=\"Open In Colab\"/></a>"
      ]
    },
    {
      "cell_type": "markdown",
      "metadata": {
        "id": "Zc20r4Zni5-2"
      },
      "source": [
        "Create three lists to store the input array and their respective outputs"
      ]
    },
    {
      "cell_type": "code",
      "metadata": {
        "id": "flvTxoUXiFOW"
      },
      "source": [
        "input_arr = []       # store the input array\n",
        "output1 = []         # used to store above or below\n",
        "output2 = []         # used to store highest card"
      ],
      "execution_count": 11,
      "outputs": []
    },
    {
      "cell_type": "markdown",
      "metadata": {
        "id": "Yq-YnAlWkswq"
      },
      "source": [
        "* Create a dict_val which would store the value for each card except ace.\n",
        "* Create a face_card list which would store the face cards. \n",
        "* Take the input array in arr variable.\n",
        "* Store it in the list l.\n",
        "* Function get_key() is created which would return the key for value.\n",
        "* Iterate over list l.\n",
        "* If card is not ace then add its value from dict_val. \n",
        "* Calculate and store the highest card in list.\n",
        "\n",
        "* After for loop, check if there was any card named as ace. \n",
        "* Use Ace = 11 if score1 < 21 else use 1\n",
        "\n",
        "* Print the highest card and required value.\n",
        "* Store the outputs in output1 and output2.\n"
      ]
    },
    {
      "cell_type": "code",
      "metadata": {
        "id": "82LFybUVO3_S",
        "colab": {
          "base_uri": "https://localhost:8080/"
        },
        "outputId": "8e95152c-4a27-425c-fec7-e979273a6194"
      },
      "source": [
        "dict_val = {'two' : 2, 'three' : 3, 'four' : 4, 'five' : 5, 'six' : 6, 'seven' : 7, 'eight' : 8, 'nine' : 9, 'ten' : 10, 'jack' : 10, 'queen' : 10, 'king' : 10} \n",
        "\n",
        "face_card = ['jack','queen','king']\n",
        "arr = input()   \n",
        "l = list(map(str,arr.split(' '))) \n",
        "def get_key(val):\n",
        "    for key, value in dict_val.items():\n",
        "         if val == value:\n",
        "             return key\n",
        "\n",
        "#jack, queen, king { here the order of importance is taken to be in descending order i.e. jack most important}\n",
        "score1 = 0\n",
        "high_card = 'one'\n",
        "high_card_val = 1\n",
        "for card in l:\n",
        "  if(card != 'ace'):\n",
        "    score1 += dict_val[card]\n",
        "    if(card in face_card):\n",
        "      if(card == 'jack'):\n",
        "        high_card = 'jack'\n",
        "      elif(card == 'queen' and high_card != 'jack'):\n",
        "        high_card = 'queen'\n",
        "      else:\n",
        "        if(high_card != 'queen' and high_card != 'jack' and card == 'king'):\n",
        "          high_card = 'king' \n",
        "    else:\n",
        "      high_card_val = max(high_card_val, dict_val[card])\n",
        "      high_card = get_key(high_card_val) \n",
        "\n",
        "\n",
        "for card in l:\n",
        "  if(card == 'ace'):\n",
        "    if(score1 + 11 > 21):\n",
        "      score1 += 1\n",
        "    elif(score1 + 11 < 21):\n",
        "      score1 += 11\n",
        "      high_card = 'ace'\n",
        "    else:\n",
        "      high_card = 'ace'\n",
        "      score1 = 21\n",
        "\n",
        "if(score1 == 21):\n",
        "  print('blackjack')\n",
        "  output1.append('blackjack')\n",
        "elif(score1 < 21):\n",
        "  print('below')\n",
        "  output1.append('below')\n",
        "else:\n",
        "  print('above')\n",
        "  output1.append('above')\n",
        "\n",
        "print(high_card)\n",
        "output2.append(high_card)\n",
        "input_arr.append(l)"
      ],
      "execution_count": 12,
      "outputs": [
        {
          "output_type": "stream",
          "name": "stdout",
          "text": [
            "ace queen\n",
            "blackjack\n",
            "ace\n"
          ]
        }
      ]
    },
    {
      "cell_type": "code",
      "metadata": {
        "colab": {
          "base_uri": "https://localhost:8080/"
        },
        "id": "BiEkmE1-hPIm",
        "outputId": "cfd74504-2200-41ad-c14e-f9aa0035f398"
      },
      "source": [
        "print(input_arr)\n",
        "print(output1)\n",
        "print(output2)"
      ],
      "execution_count": 10,
      "outputs": [
        {
          "output_type": "stream",
          "name": "stdout",
          "text": [
            "[['two', 'three', 'ace', 'king'], ['four', 'ten', 'king'], ['four', 'ace', 'ten'], ['ace', 'queen']]\n",
            "['below', 'above', 'below', 'blackjack']\n",
            "['king', 'king', 'ten', 'ace']\n"
          ]
        }
      ]
    },
    {
      "cell_type": "code",
      "metadata": {
        "id": "bv3byLbBi2T5"
      },
      "source": [
        ""
      ],
      "execution_count": null,
      "outputs": []
    }
  ]
}