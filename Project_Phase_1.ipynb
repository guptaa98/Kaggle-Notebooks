{
  "nbformat": 4,
  "nbformat_minor": 0,
  "metadata": {
    "colab": {
      "name": "Project Phase 1.ipynb",
      "provenance": [],
      "collapsed_sections": [],
      "authorship_tag": "ABX9TyPgTro3LQKNcz3NVxts/PxK",
      "include_colab_link": true
    },
    "kernelspec": {
      "name": "python3",
      "display_name": "Python 3"
    },
    "language_info": {
      "name": "python"
    },
    "accelerator": "GPU"
  },
  "cells": [
    {
      "cell_type": "markdown",
      "metadata": {
        "id": "view-in-github",
        "colab_type": "text"
      },
      "source": [
        "<a href=\"https://colab.research.google.com/github/guptaa98/Kaggle-Notebooks/blob/master/Project_Phase_1.ipynb\" target=\"_parent\"><img src=\"https://colab.research.google.com/assets/colab-badge.svg\" alt=\"Open In Colab\"/></a>"
      ]
    },
    {
      "cell_type": "code",
      "metadata": {
        "colab": {
          "base_uri": "https://localhost:8080/"
        },
        "id": "uQ_gT56y-NQ5",
        "outputId": "281fed95-03e7-444e-a547-873e94212c78"
      },
      "source": [
        "from google.colab import drive, files\n",
        "drive.mount('/content/drive/')"
      ],
      "execution_count": null,
      "outputs": [
        {
          "output_type": "stream",
          "name": "stdout",
          "text": [
            "Drive already mounted at /content/drive/; to attempt to forcibly remount, call drive.mount(\"/content/drive/\", force_remount=True).\n"
          ]
        }
      ]
    },
    {
      "cell_type": "code",
      "metadata": {
        "id": "M7DCSBb-_08R"
      },
      "source": [
        "%matplotlib inline\n",
        "#data manipulation\n",
        "import numpy as np\n",
        "import pandas as pd\n",
        "#python imports\n",
        "import math,time,random,datetime\n",
        "#data visualisation\n",
        "import matplotlib.pyplot as plt\n",
        "import missingno\n",
        "import seaborn as sns\n",
        "plt.style.use('seaborn-whitegrid')\n",
        "#preprocessing\n",
        "from sklearn.preprocessing import Normalizer\n",
        "from sklearn.preprocessing import OneHotEncoder, LabelEncoder, label_binarize\n",
        "import warnings\n",
        "warnings.filterwarnings(\"ignore\")"
      ],
      "execution_count": null,
      "outputs": []
    },
    {
      "cell_type": "code",
      "metadata": {
        "id": "uekukxhqBN5R"
      },
      "source": [
        "df = pd.read_csv('/content/drive/MyDrive/Project phase/50000 Sales Records.csv')"
      ],
      "execution_count": null,
      "outputs": []
    },
    {
      "cell_type": "code",
      "metadata": {
        "colab": {
          "base_uri": "https://localhost:8080/",
          "height": 203
        },
        "id": "GbCoGxG8BmO-",
        "outputId": "7b9fd6d3-197a-4e2d-b2fd-fb990eec604f"
      },
      "source": [
        "df.head()"
      ],
      "execution_count": null,
      "outputs": [
        {
          "output_type": "execute_result",
          "data": {
            "text/html": [
              "<div>\n",
              "<style scoped>\n",
              "    .dataframe tbody tr th:only-of-type {\n",
              "        vertical-align: middle;\n",
              "    }\n",
              "\n",
              "    .dataframe tbody tr th {\n",
              "        vertical-align: top;\n",
              "    }\n",
              "\n",
              "    .dataframe thead th {\n",
              "        text-align: right;\n",
              "    }\n",
              "</style>\n",
              "<table border=\"1\" class=\"dataframe\">\n",
              "  <thead>\n",
              "    <tr style=\"text-align: right;\">\n",
              "      <th></th>\n",
              "      <th>Region</th>\n",
              "      <th>Country</th>\n",
              "      <th>Item Type</th>\n",
              "      <th>Sales Channel</th>\n",
              "      <th>Order Priority</th>\n",
              "      <th>Order Date</th>\n",
              "      <th>Order ID</th>\n",
              "      <th>Ship Date</th>\n",
              "      <th>Units Sold</th>\n",
              "      <th>Unit Price</th>\n",
              "      <th>Unit Cost</th>\n",
              "      <th>Total Revenue</th>\n",
              "      <th>Total Cost</th>\n",
              "      <th>Total Profit</th>\n",
              "    </tr>\n",
              "  </thead>\n",
              "  <tbody>\n",
              "    <tr>\n",
              "      <th>0</th>\n",
              "      <td>Sub-Saharan Africa</td>\n",
              "      <td>Namibia</td>\n",
              "      <td>Household</td>\n",
              "      <td>Offline</td>\n",
              "      <td>M</td>\n",
              "      <td>8/31/2015</td>\n",
              "      <td>897751939</td>\n",
              "      <td>10/12/2015</td>\n",
              "      <td>3604</td>\n",
              "      <td>668.27</td>\n",
              "      <td>502.54</td>\n",
              "      <td>2408445.08</td>\n",
              "      <td>1811154.16</td>\n",
              "      <td>597290.92</td>\n",
              "    </tr>\n",
              "    <tr>\n",
              "      <th>1</th>\n",
              "      <td>Europe</td>\n",
              "      <td>Iceland</td>\n",
              "      <td>Baby Food</td>\n",
              "      <td>Online</td>\n",
              "      <td>H</td>\n",
              "      <td>11/20/2010</td>\n",
              "      <td>599480426</td>\n",
              "      <td>1/9/2011</td>\n",
              "      <td>8435</td>\n",
              "      <td>255.28</td>\n",
              "      <td>159.42</td>\n",
              "      <td>2153286.80</td>\n",
              "      <td>1344707.70</td>\n",
              "      <td>808579.10</td>\n",
              "    </tr>\n",
              "    <tr>\n",
              "      <th>2</th>\n",
              "      <td>Europe</td>\n",
              "      <td>Russia</td>\n",
              "      <td>Meat</td>\n",
              "      <td>Online</td>\n",
              "      <td>L</td>\n",
              "      <td>6/22/2017</td>\n",
              "      <td>538911855</td>\n",
              "      <td>6/25/2017</td>\n",
              "      <td>4848</td>\n",
              "      <td>421.89</td>\n",
              "      <td>364.69</td>\n",
              "      <td>2045322.72</td>\n",
              "      <td>1768017.12</td>\n",
              "      <td>277305.60</td>\n",
              "    </tr>\n",
              "    <tr>\n",
              "      <th>3</th>\n",
              "      <td>Europe</td>\n",
              "      <td>Moldova</td>\n",
              "      <td>Meat</td>\n",
              "      <td>Online</td>\n",
              "      <td>L</td>\n",
              "      <td>2/28/2012</td>\n",
              "      <td>459845054</td>\n",
              "      <td>3/20/2012</td>\n",
              "      <td>7225</td>\n",
              "      <td>421.89</td>\n",
              "      <td>364.69</td>\n",
              "      <td>3048155.25</td>\n",
              "      <td>2634885.25</td>\n",
              "      <td>413270.00</td>\n",
              "    </tr>\n",
              "    <tr>\n",
              "      <th>4</th>\n",
              "      <td>Europe</td>\n",
              "      <td>Malta</td>\n",
              "      <td>Cereal</td>\n",
              "      <td>Online</td>\n",
              "      <td>M</td>\n",
              "      <td>8/12/2010</td>\n",
              "      <td>626391351</td>\n",
              "      <td>9/13/2010</td>\n",
              "      <td>1975</td>\n",
              "      <td>205.70</td>\n",
              "      <td>117.11</td>\n",
              "      <td>406257.50</td>\n",
              "      <td>231292.25</td>\n",
              "      <td>174965.25</td>\n",
              "    </tr>\n",
              "  </tbody>\n",
              "</table>\n",
              "</div>"
            ],
            "text/plain": [
              "               Region   Country  ...  Total Cost Total Profit\n",
              "0  Sub-Saharan Africa   Namibia  ...  1811154.16    597290.92\n",
              "1              Europe   Iceland  ...  1344707.70    808579.10\n",
              "2              Europe    Russia  ...  1768017.12    277305.60\n",
              "3              Europe  Moldova   ...  2634885.25    413270.00\n",
              "4              Europe     Malta  ...   231292.25    174965.25\n",
              "\n",
              "[5 rows x 14 columns]"
            ]
          },
          "metadata": {},
          "execution_count": 145
        }
      ]
    },
    {
      "cell_type": "code",
      "metadata": {
        "colab": {
          "base_uri": "https://localhost:8080/"
        },
        "id": "Ap-5Wh5HB1l8",
        "outputId": "cce4f578-1c4a-4b71-fa5a-e2076d165601"
      },
      "source": [
        "len(df)"
      ],
      "execution_count": null,
      "outputs": [
        {
          "output_type": "execute_result",
          "data": {
            "text/plain": [
              "50000"
            ]
          },
          "metadata": {},
          "execution_count": 146
        }
      ]
    },
    {
      "cell_type": "code",
      "metadata": {
        "colab": {
          "base_uri": "https://localhost:8080/",
          "height": 295
        },
        "id": "QN1jAcP6B2kK",
        "outputId": "7eeb6ba5-95c5-4732-faf2-9ca354533afc"
      },
      "source": [
        "df.describe()"
      ],
      "execution_count": null,
      "outputs": [
        {
          "output_type": "execute_result",
          "data": {
            "text/html": [
              "<div>\n",
              "<style scoped>\n",
              "    .dataframe tbody tr th:only-of-type {\n",
              "        vertical-align: middle;\n",
              "    }\n",
              "\n",
              "    .dataframe tbody tr th {\n",
              "        vertical-align: top;\n",
              "    }\n",
              "\n",
              "    .dataframe thead th {\n",
              "        text-align: right;\n",
              "    }\n",
              "</style>\n",
              "<table border=\"1\" class=\"dataframe\">\n",
              "  <thead>\n",
              "    <tr style=\"text-align: right;\">\n",
              "      <th></th>\n",
              "      <th>Order ID</th>\n",
              "      <th>Units Sold</th>\n",
              "      <th>Unit Price</th>\n",
              "      <th>Unit Cost</th>\n",
              "      <th>Total Revenue</th>\n",
              "      <th>Total Cost</th>\n",
              "      <th>Total Profit</th>\n",
              "    </tr>\n",
              "  </thead>\n",
              "  <tbody>\n",
              "    <tr>\n",
              "      <th>count</th>\n",
              "      <td>5.000000e+04</td>\n",
              "      <td>50000.00000</td>\n",
              "      <td>50000.000000</td>\n",
              "      <td>50000.000000</td>\n",
              "      <td>5.000000e+04</td>\n",
              "      <td>5.000000e+04</td>\n",
              "      <td>5.000000e+04</td>\n",
              "    </tr>\n",
              "    <tr>\n",
              "      <th>mean</th>\n",
              "      <td>5.497330e+08</td>\n",
              "      <td>4999.61898</td>\n",
              "      <td>265.651350</td>\n",
              "      <td>187.322482</td>\n",
              "      <td>1.323716e+06</td>\n",
              "      <td>9.331574e+05</td>\n",
              "      <td>3.905587e+05</td>\n",
              "    </tr>\n",
              "    <tr>\n",
              "      <th>std</th>\n",
              "      <td>2.609179e+08</td>\n",
              "      <td>2884.33508</td>\n",
              "      <td>216.916752</td>\n",
              "      <td>175.580570</td>\n",
              "      <td>1.463891e+06</td>\n",
              "      <td>1.145548e+06</td>\n",
              "      <td>3.777588e+05</td>\n",
              "    </tr>\n",
              "    <tr>\n",
              "      <th>min</th>\n",
              "      <td>1.000132e+08</td>\n",
              "      <td>1.00000</td>\n",
              "      <td>9.330000</td>\n",
              "      <td>6.920000</td>\n",
              "      <td>2.799000e+01</td>\n",
              "      <td>2.076000e+01</td>\n",
              "      <td>7.230000e+00</td>\n",
              "    </tr>\n",
              "    <tr>\n",
              "      <th>25%</th>\n",
              "      <td>3.240070e+08</td>\n",
              "      <td>2498.00000</td>\n",
              "      <td>81.730000</td>\n",
              "      <td>35.840000</td>\n",
              "      <td>2.764871e+05</td>\n",
              "      <td>1.606370e+05</td>\n",
              "      <td>9.415092e+04</td>\n",
              "    </tr>\n",
              "    <tr>\n",
              "      <th>50%</th>\n",
              "      <td>5.504224e+08</td>\n",
              "      <td>5017.50000</td>\n",
              "      <td>154.060000</td>\n",
              "      <td>97.440000</td>\n",
              "      <td>7.813247e+05</td>\n",
              "      <td>4.671040e+05</td>\n",
              "      <td>2.795364e+05</td>\n",
              "    </tr>\n",
              "    <tr>\n",
              "      <th>75%</th>\n",
              "      <td>7.767824e+08</td>\n",
              "      <td>7493.25000</td>\n",
              "      <td>421.890000</td>\n",
              "      <td>263.330000</td>\n",
              "      <td>1.808642e+06</td>\n",
              "      <td>1.190390e+06</td>\n",
              "      <td>5.642867e+05</td>\n",
              "    </tr>\n",
              "    <tr>\n",
              "      <th>max</th>\n",
              "      <td>9.999995e+08</td>\n",
              "      <td>10000.00000</td>\n",
              "      <td>668.270000</td>\n",
              "      <td>524.960000</td>\n",
              "      <td>6.682032e+06</td>\n",
              "      <td>5.249075e+06</td>\n",
              "      <td>1.738178e+06</td>\n",
              "    </tr>\n",
              "  </tbody>\n",
              "</table>\n",
              "</div>"
            ],
            "text/plain": [
              "           Order ID   Units Sold  ...    Total Cost  Total Profit\n",
              "count  5.000000e+04  50000.00000  ...  5.000000e+04  5.000000e+04\n",
              "mean   5.497330e+08   4999.61898  ...  9.331574e+05  3.905587e+05\n",
              "std    2.609179e+08   2884.33508  ...  1.145548e+06  3.777588e+05\n",
              "min    1.000132e+08      1.00000  ...  2.076000e+01  7.230000e+00\n",
              "25%    3.240070e+08   2498.00000  ...  1.606370e+05  9.415092e+04\n",
              "50%    5.504224e+08   5017.50000  ...  4.671040e+05  2.795364e+05\n",
              "75%    7.767824e+08   7493.25000  ...  1.190390e+06  5.642867e+05\n",
              "max    9.999995e+08  10000.00000  ...  5.249075e+06  1.738178e+06\n",
              "\n",
              "[8 rows x 7 columns]"
            ]
          },
          "metadata": {},
          "execution_count": 147
        }
      ]
    },
    {
      "cell_type": "code",
      "metadata": {
        "colab": {
          "base_uri": "https://localhost:8080/",
          "height": 561
        },
        "id": "Zk3LtMe7B4iq",
        "outputId": "bc7dcec1-3608-4e82-f1da-d1c81afd64a3"
      },
      "source": [
        "missingno.matrix(df, figsize=(30,10))"
      ],
      "execution_count": null,
      "outputs": [
        {
          "output_type": "execute_result",
          "data": {
            "text/plain": [
              "<matplotlib.axes._subplots.AxesSubplot at 0x7f464355d090>"
            ]
          },
          "metadata": {},
          "execution_count": 148
        },
        {
          "output_type": "display_data",
          "data": {
            "image/png": "[encoded data removed]",
            "text/plain": [
              "<Figure size 2160x720 with 2 Axes>"
            ]
          },
          "metadata": {}
        }
      ]
    },
    {
      "cell_type": "code",
      "metadata": {
        "colab": {
          "base_uri": "https://localhost:8080/"
        },
        "id": "Cfq3fur5B6-f",
        "outputId": "9066e865-4128-4e07-9b71-3d4d3e322f5e"
      },
      "source": [
        "duplicate = df.duplicated()\n",
        "print(duplicate.sum())"
      ],
      "execution_count": null,
      "outputs": [
        {
          "output_type": "stream",
          "name": "stdout",
          "text": [
            "0\n"
          ]
        }
      ]
    },
    {
      "cell_type": "code",
      "metadata": {
        "colab": {
          "base_uri": "https://localhost:8080/"
        },
        "id": "qpgATfBqB-5h",
        "outputId": "d63a7726-8a73-4e5d-d6a1-aacc68a8bfc7"
      },
      "source": [
        "df.columns"
      ],
      "execution_count": null,
      "outputs": [
        {
          "output_type": "execute_result",
          "data": {
            "text/plain": [
              "Index(['Region', 'Country', 'Item Type', 'Sales Channel', 'Order Priority',\n",
              "       'Order Date', 'Order ID', 'Ship Date', 'Units Sold', 'Unit Price',\n",
              "       'Unit Cost', 'Total Revenue', 'Total Cost', 'Total Profit'],\n",
              "      dtype='object')"
            ]
          },
          "metadata": {},
          "execution_count": 150
        }
      ]
    },
    {
      "cell_type": "code",
      "metadata": {
        "colab": {
          "base_uri": "https://localhost:8080/"
        },
        "id": "-MJCBr99CATQ",
        "outputId": "a26baea4-6c16-431a-97ea-409dd8057149"
      },
      "source": [
        "df.info()"
      ],
      "execution_count": null,
      "outputs": [
        {
          "output_type": "stream",
          "name": "stdout",
          "text": [
            "<class 'pandas.core.frame.DataFrame'>\n",
            "RangeIndex: 50000 entries, 0 to 49999\n",
            "Data columns (total 14 columns):\n",
            " #   Column          Non-Null Count  Dtype  \n",
            "---  ------          --------------  -----  \n",
            " 0   Region          50000 non-null  object \n",
            " 1   Country         50000 non-null  object \n",
            " 2   Item Type       50000 non-null  object \n",
            " 3   Sales Channel   50000 non-null  object \n",
            " 4   Order Priority  50000 non-null  object \n",
            " 5   Order Date      50000 non-null  object \n",
            " 6   Order ID        50000 non-null  int64  \n",
            " 7   Ship Date       50000 non-null  object \n",
            " 8   Units Sold      50000 non-null  int64  \n",
            " 9   Unit Price      50000 non-null  float64\n",
            " 10  Unit Cost       50000 non-null  float64\n",
            " 11  Total Revenue   50000 non-null  float64\n",
            " 12  Total Cost      50000 non-null  float64\n",
            " 13  Total Profit    50000 non-null  float64\n",
            "dtypes: float64(5), int64(2), object(7)\n",
            "memory usage: 5.3+ MB\n"
          ]
        }
      ]
    },
    {
      "cell_type": "code",
      "metadata": {
        "colab": {
          "base_uri": "https://localhost:8080/"
        },
        "id": "0MOqcpv_CC4o",
        "outputId": "78fef94b-e50e-4bd4-8618-b96d5419d77c"
      },
      "source": [
        "df.shape"
      ],
      "execution_count": null,
      "outputs": [
        {
          "output_type": "execute_result",
          "data": {
            "text/plain": [
              "(50000, 14)"
            ]
          },
          "metadata": {},
          "execution_count": 152
        }
      ]
    },
    {
      "cell_type": "code",
      "metadata": {
        "colab": {
          "base_uri": "https://localhost:8080/",
          "height": 488
        },
        "id": "H-BzKGHnCEoW",
        "outputId": "ff47c420-4edc-4738-fdc2-6333ffd61dd3"
      },
      "source": [
        "print(df.corr()) \n",
        "dataplot = sns.heatmap(df.corr(), cmap=\"YlGnBu\", annot=True)   \n",
        "# displaying heatmap \n",
        "plt.show()"
      ],
      "execution_count": null,
      "outputs": [
        {
          "output_type": "stream",
          "name": "stdout",
          "text": [
            "               Order ID  Units Sold  ...  Total Cost  Total Profit\n",
            "Order ID       1.000000   -0.000234  ...    0.001665      0.001623\n",
            "Units Sold    -0.000234    1.000000  ...    0.468651      0.593283\n",
            "Unit Price    -0.000397   -0.007096  ...    0.750962      0.575675\n",
            "Unit Cost     -0.000663   -0.006681  ...    0.761566      0.502958\n",
            "Total Revenue  0.001722    0.519834  ...    0.987668      0.880111\n",
            "Total Cost     0.001665    0.468651  ...    1.000000      0.794928\n",
            "Total Profit   0.001623    0.593283  ...    0.794928      1.000000\n",
            "\n",
            "[7 rows x 7 columns]\n"
          ]
        },
        {
          "output_type": "display_data",
          "data": {
            "image/png": "[encoded data removed]",
            "text/plain": [
              "<Figure size 432x288 with 2 Axes>"
            ]
          },
          "metadata": {}
        }
      ]
    },
    {
      "cell_type": "code",
      "metadata": {
        "id": "B6s7UcnYCGxz"
      },
      "source": [
        "x = pd.DataFrame()\n",
        "x = df"
      ],
      "execution_count": null,
      "outputs": []
    },
    {
      "cell_type": "code",
      "metadata": {
        "colab": {
          "base_uri": "https://localhost:8080/",
          "height": 265
        },
        "id": "ItgX3St4CjQw",
        "outputId": "d9ea95eb-650a-4b51-9336-ffedc50fcd8f"
      },
      "source": [
        "x.corr()"
      ],
      "execution_count": null,
      "outputs": [
        {
          "output_type": "execute_result",
          "data": {
            "text/html": [
              "<div>\n",
              "<style scoped>\n",
              "    .dataframe tbody tr th:only-of-type {\n",
              "        vertical-align: middle;\n",
              "    }\n",
              "\n",
              "    .dataframe tbody tr th {\n",
              "        vertical-align: top;\n",
              "    }\n",
              "\n",
              "    .dataframe thead th {\n",
              "        text-align: right;\n",
              "    }\n",
              "</style>\n",
              "<table border=\"1\" class=\"dataframe\">\n",
              "  <thead>\n",
              "    <tr style=\"text-align: right;\">\n",
              "      <th></th>\n",
              "      <th>Order ID</th>\n",
              "      <th>Units Sold</th>\n",
              "      <th>Unit Price</th>\n",
              "      <th>Unit Cost</th>\n",
              "      <th>Total Revenue</th>\n",
              "      <th>Total Cost</th>\n",
              "      <th>Total Profit</th>\n",
              "    </tr>\n",
              "  </thead>\n",
              "  <tbody>\n",
              "    <tr>\n",
              "      <th>Order ID</th>\n",
              "      <td>1.000000</td>\n",
              "      <td>-0.000234</td>\n",
              "      <td>-0.000397</td>\n",
              "      <td>-0.000663</td>\n",
              "      <td>0.001722</td>\n",
              "      <td>0.001665</td>\n",
              "      <td>0.001623</td>\n",
              "    </tr>\n",
              "    <tr>\n",
              "      <th>Units Sold</th>\n",
              "      <td>-0.000234</td>\n",
              "      <td>1.000000</td>\n",
              "      <td>-0.007096</td>\n",
              "      <td>-0.006681</td>\n",
              "      <td>0.519834</td>\n",
              "      <td>0.468651</td>\n",
              "      <td>0.593283</td>\n",
              "    </tr>\n",
              "    <tr>\n",
              "      <th>Unit Price</th>\n",
              "      <td>-0.000397</td>\n",
              "      <td>-0.007096</td>\n",
              "      <td>1.000000</td>\n",
              "      <td>0.985969</td>\n",
              "      <td>0.736209</td>\n",
              "      <td>0.750962</td>\n",
              "      <td>0.575675</td>\n",
              "    </tr>\n",
              "    <tr>\n",
              "      <th>Unit Cost</th>\n",
              "      <td>-0.000663</td>\n",
              "      <td>-0.006681</td>\n",
              "      <td>0.985969</td>\n",
              "      <td>1.000000</td>\n",
              "      <td>0.725742</td>\n",
              "      <td>0.761566</td>\n",
              "      <td>0.502958</td>\n",
              "    </tr>\n",
              "    <tr>\n",
              "      <th>Total Revenue</th>\n",
              "      <td>0.001722</td>\n",
              "      <td>0.519834</td>\n",
              "      <td>0.736209</td>\n",
              "      <td>0.725742</td>\n",
              "      <td>1.000000</td>\n",
              "      <td>0.987668</td>\n",
              "      <td>0.880111</td>\n",
              "    </tr>\n",
              "    <tr>\n",
              "      <th>Total Cost</th>\n",
              "      <td>0.001665</td>\n",
              "      <td>0.468651</td>\n",
              "      <td>0.750962</td>\n",
              "      <td>0.761566</td>\n",
              "      <td>0.987668</td>\n",
              "      <td>1.000000</td>\n",
              "      <td>0.794928</td>\n",
              "    </tr>\n",
              "    <tr>\n",
              "      <th>Total Profit</th>\n",
              "      <td>0.001623</td>\n",
              "      <td>0.593283</td>\n",
              "      <td>0.575675</td>\n",
              "      <td>0.502958</td>\n",
              "      <td>0.880111</td>\n",
              "      <td>0.794928</td>\n",
              "      <td>1.000000</td>\n",
              "    </tr>\n",
              "  </tbody>\n",
              "</table>\n",
              "</div>"
            ],
            "text/plain": [
              "               Order ID  Units Sold  ...  Total Cost  Total Profit\n",
              "Order ID       1.000000   -0.000234  ...    0.001665      0.001623\n",
              "Units Sold    -0.000234    1.000000  ...    0.468651      0.593283\n",
              "Unit Price    -0.000397   -0.007096  ...    0.750962      0.575675\n",
              "Unit Cost     -0.000663   -0.006681  ...    0.761566      0.502958\n",
              "Total Revenue  0.001722    0.519834  ...    0.987668      0.880111\n",
              "Total Cost     0.001665    0.468651  ...    1.000000      0.794928\n",
              "Total Profit   0.001623    0.593283  ...    0.794928      1.000000\n",
              "\n",
              "[7 rows x 7 columns]"
            ]
          },
          "metadata": {},
          "execution_count": 155
        }
      ]
    },
    {
      "cell_type": "code",
      "metadata": {
        "colab": {
          "base_uri": "https://localhost:8080/"
        },
        "id": "dkd3XgLTCkhj",
        "outputId": "b50462d4-19ef-4b17-83c0-d4484b57ac81"
      },
      "source": [
        "x.Region.value_counts()"
      ],
      "execution_count": null,
      "outputs": [
        {
          "output_type": "execute_result",
          "data": {
            "text/plain": [
              "Sub-Saharan Africa                   13116\n",
              "Europe                               12841\n",
              "Asia                                  7348\n",
              "Middle East and North Africa          6128\n",
              "Central America and the Caribbean     5451\n",
              "Australia and Oceania                 4017\n",
              "North America                         1099\n",
              "Name: Region, dtype: int64"
            ]
          },
          "metadata": {},
          "execution_count": 156
        }
      ]
    },
    {
      "cell_type": "code",
      "metadata": {
        "colab": {
          "base_uri": "https://localhost:8080/",
          "height": 465
        },
        "id": "ey5fTNhdCnmq",
        "outputId": "482bac4d-b8e3-48bf-c85b-89b4fe00319d"
      },
      "source": [
        "fig=plt.figure(figsize=(20,5))\n",
        "sns.countplot(y='Region',data=x);\n",
        "print(x.Region.value_counts())"
      ],
      "execution_count": null,
      "outputs": [
        {
          "output_type": "stream",
          "name": "stdout",
          "text": [
            "Sub-Saharan Africa                   13116\n",
            "Europe                               12841\n",
            "Asia                                  7348\n",
            "Middle East and North Africa          6128\n",
            "Central America and the Caribbean     5451\n",
            "Australia and Oceania                 4017\n",
            "North America                         1099\n",
            "Name: Region, dtype: int64\n"
          ]
        },
        {
          "output_type": "display_data",
          "data": {
            "image/png": "[encoded data removed]",
            "text/plain": [
              "<Figure size 1440x360 with 1 Axes>"
            ]
          },
          "metadata": {}
        }
      ]
    },
    {
      "cell_type": "code",
      "metadata": {
        "colab": {
          "base_uri": "https://localhost:8080/"
        },
        "id": "-LbzcLBzCpfp",
        "outputId": "1003cc61-dee0-4ea6-8ce3-4cfcddae4ec7"
      },
      "source": [
        "x.Country.value_counts()"
      ],
      "execution_count": null,
      "outputs": [
        {
          "output_type": "execute_result",
          "data": {
            "text/plain": [
              "Trinidad and Tobago    321\n",
              "Guinea                 318\n",
              "Cape Verde             315\n",
              "Maldives               311\n",
              "Finland                310\n",
              "                      ... \n",
              "Yemen                  238\n",
              "Iran                   238\n",
              "Armenia                237\n",
              "Monaco                 236\n",
              "Malawi                 233\n",
              "Name: Country, Length: 185, dtype: int64"
            ]
          },
          "metadata": {},
          "execution_count": 158
        }
      ]
    },
    {
      "cell_type": "code",
      "metadata": {
        "colab": {
          "base_uri": "https://localhost:8080/"
        },
        "id": "3NPBrMBlCrzt",
        "outputId": "e6186ba9-a4ee-4ddd-a54d-2b49069c3c72"
      },
      "source": [
        "c = x['Country']\n",
        "v = set(c)\n",
        "v"
      ],
      "execution_count": null,
      "outputs": [
        {
          "output_type": "execute_result",
          "data": {
            "text/plain": [
              "{'Afghanistan',\n",
              " 'Albania',\n",
              " 'Algeria',\n",
              " 'Andorra',\n",
              " 'Angola',\n",
              " 'Antigua and Barbuda ',\n",
              " 'Armenia',\n",
              " 'Australia',\n",
              " 'Austria',\n",
              " 'Azerbaijan',\n",
              " 'Bahrain',\n",
              " 'Bangladesh',\n",
              " 'Barbados',\n",
              " 'Belarus',\n",
              " 'Belgium',\n",
              " 'Belize',\n",
              " 'Benin',\n",
              " 'Bhutan',\n",
              " 'Bosnia and Herzegovina',\n",
              " 'Botswana',\n",
              " 'Brunei',\n",
              " 'Bulgaria',\n",
              " 'Burkina Faso',\n",
              " 'Burundi',\n",
              " 'Cambodia',\n",
              " 'Cameroon',\n",
              " 'Canada',\n",
              " 'Cape Verde',\n",
              " 'Central African Republic',\n",
              " 'Chad',\n",
              " 'China',\n",
              " 'Comoros',\n",
              " 'Costa Rica',\n",
              " \"Cote d'Ivoire\",\n",
              " 'Croatia',\n",
              " 'Cuba',\n",
              " 'Cyprus',\n",
              " 'Czech Republic',\n",
              " 'Democratic Republic of the Congo',\n",
              " 'Denmark',\n",
              " 'Djibouti',\n",
              " 'Dominica',\n",
              " 'Dominican Republic',\n",
              " 'East Timor',\n",
              " 'Egypt',\n",
              " 'El Salvador',\n",
              " 'Equatorial Guinea',\n",
              " 'Eritrea',\n",
              " 'Estonia',\n",
              " 'Ethiopia',\n",
              " 'Federated States of Micronesia',\n",
              " 'Fiji',\n",
              " 'Finland',\n",
              " 'France',\n",
              " 'Gabon',\n",
              " 'Georgia',\n",
              " 'Germany',\n",
              " 'Ghana',\n",
              " 'Greece',\n",
              " 'Greenland',\n",
              " 'Grenada',\n",
              " 'Guatemala',\n",
              " 'Guinea',\n",
              " 'Guinea-Bissau',\n",
              " 'Haiti',\n",
              " 'Honduras',\n",
              " 'Hungary',\n",
              " 'Iceland',\n",
              " 'India',\n",
              " 'Indonesia',\n",
              " 'Iran',\n",
              " 'Iraq',\n",
              " 'Ireland',\n",
              " 'Israel',\n",
              " 'Italy',\n",
              " 'Jamaica',\n",
              " 'Japan',\n",
              " 'Jordan',\n",
              " 'Kazakhstan',\n",
              " 'Kenya',\n",
              " 'Kiribati',\n",
              " 'Kosovo',\n",
              " 'Kuwait',\n",
              " 'Kyrgyzstan',\n",
              " 'Laos',\n",
              " 'Latvia',\n",
              " 'Lebanon',\n",
              " 'Lesotho',\n",
              " 'Liberia',\n",
              " 'Libya',\n",
              " 'Liechtenstein',\n",
              " 'Lithuania',\n",
              " 'Luxembourg',\n",
              " 'Macedonia',\n",
              " 'Madagascar',\n",
              " 'Malawi',\n",
              " 'Malaysia',\n",
              " 'Maldives',\n",
              " 'Mali',\n",
              " 'Malta',\n",
              " 'Marshall Islands',\n",
              " 'Mauritania',\n",
              " 'Mauritius ',\n",
              " 'Mexico',\n",
              " 'Moldova ',\n",
              " 'Monaco',\n",
              " 'Mongolia',\n",
              " 'Montenegro',\n",
              " 'Morocco',\n",
              " 'Mozambique',\n",
              " 'Myanmar',\n",
              " 'Namibia',\n",
              " 'Nauru',\n",
              " 'Nepal',\n",
              " 'Netherlands',\n",
              " 'New Zealand',\n",
              " 'Nicaragua',\n",
              " 'Niger',\n",
              " 'Nigeria',\n",
              " 'North Korea',\n",
              " 'Norway',\n",
              " 'Oman',\n",
              " 'Pakistan',\n",
              " 'Palau',\n",
              " 'Panama',\n",
              " 'Papua New Guinea',\n",
              " 'Philippines',\n",
              " 'Poland',\n",
              " 'Portugal',\n",
              " 'Qatar',\n",
              " 'Republic of the Congo',\n",
              " 'Romania',\n",
              " 'Russia',\n",
              " 'Rwanda',\n",
              " 'Saint Kitts and Nevis ',\n",
              " 'Saint Lucia',\n",
              " 'Saint Vincent and the Grenadines',\n",
              " 'Samoa ',\n",
              " 'San Marino',\n",
              " 'Sao Tome and Principe',\n",
              " 'Saudi Arabia',\n",
              " 'Senegal',\n",
              " 'Serbia',\n",
              " 'Seychelles ',\n",
              " 'Sierra Leone',\n",
              " 'Singapore',\n",
              " 'Slovakia',\n",
              " 'Slovenia',\n",
              " 'Solomon Islands',\n",
              " 'Somalia',\n",
              " 'South Africa',\n",
              " 'South Korea',\n",
              " 'South Sudan',\n",
              " 'Spain',\n",
              " 'Sri Lanka',\n",
              " 'Sudan',\n",
              " 'Swaziland',\n",
              " 'Sweden',\n",
              " 'Switzerland',\n",
              " 'Syria',\n",
              " 'Taiwan',\n",
              " 'Tajikistan',\n",
              " 'Tanzania',\n",
              " 'Thailand',\n",
              " 'The Bahamas',\n",
              " 'The Gambia',\n",
              " 'Togo',\n",
              " 'Tonga',\n",
              " 'Trinidad and Tobago',\n",
              " 'Tunisia ',\n",
              " 'Turkey',\n",
              " 'Turkmenistan',\n",
              " 'Tuvalu',\n",
              " 'Uganda',\n",
              " 'Ukraine',\n",
              " 'United Arab Emirates',\n",
              " 'United Kingdom',\n",
              " 'United States of America',\n",
              " 'Uzbekistan',\n",
              " 'Vanuatu',\n",
              " 'Vatican City',\n",
              " 'Vietnam',\n",
              " 'Yemen',\n",
              " 'Zambia',\n",
              " 'Zimbabwe'}"
            ]
          },
          "metadata": {},
          "execution_count": 159
        }
      ]
    },
    {
      "cell_type": "code",
      "metadata": {
        "colab": {
          "base_uri": "https://localhost:8080/",
          "height": 293
        },
        "id": "Mft21eC3CzvR",
        "outputId": "b045e6b7-949c-4161-96f8-a1897378433b"
      },
      "source": [
        "k = x.Country.value_counts()\n",
        "c = x['Country']\n",
        "v = set(c)\n",
        "country = []\n",
        "country = list(v)\n",
        "plt.scatter(country,k,c='red',s=5)\n",
        "plt.xlabel('country')\n",
        "plt.ylabel('count')\n",
        "plt.figure(figsize=(10,20))\n",
        "plt.show()"
      ],
      "execution_count": null,
      "outputs": [
        {
          "output_type": "display_data",
          "data": {
            "image/png": "[encoded data removed]",
            "text/plain": [
              "<Figure size 432x288 with 1 Axes>"
            ]
          },
          "metadata": {}
        },
        {
          "output_type": "display_data",
          "data": {
            "text/plain": [
              "<Figure size 720x1440 with 0 Axes>"
            ]
          },
          "metadata": {}
        }
      ]
    },
    {
      "cell_type": "code",
      "metadata": {
        "colab": {
          "base_uri": "https://localhost:8080/",
          "height": 860
        },
        "id": "oI7OZqL1C3qe",
        "outputId": "8b581ad1-85c8-445a-df2c-c3e06f4cff26"
      },
      "source": [
        "plt.figure(figsize=(10,15))\n",
        "plt.barh(country,k)\n",
        "plt.show()"
      ],
      "execution_count": null,
      "outputs": [
        {
          "output_type": "display_data",
          "data": {
            "image/png": "[encoded data removed]",
            "text/plain": [
              "<Figure size 720x1080 with 1 Axes>"
            ]
          },
          "metadata": {}
        }
      ]
    },
    {
      "cell_type": "code",
      "metadata": {
        "colab": {
          "base_uri": "https://localhost:8080/",
          "height": 806
        },
        "id": "7yJ6Mp4dC59c",
        "outputId": "6931f1be-007e-46c4-8c16-f2577681cbac"
      },
      "source": [
        "fig=plt.figure(figsize=(20,10))\n",
        "sns.countplot(y='Country',data=x);\n",
        "print(x.Country.value_counts())"
      ],
      "execution_count": null,
      "outputs": [
        {
          "output_type": "stream",
          "name": "stdout",
          "text": [
            "Trinidad and Tobago    321\n",
            "Guinea                 318\n",
            "Cape Verde             315\n",
            "Maldives               311\n",
            "Finland                310\n",
            "                      ... \n",
            "Yemen                  238\n",
            "Iran                   238\n",
            "Armenia                237\n",
            "Monaco                 236\n",
            "Malawi                 233\n",
            "Name: Country, Length: 185, dtype: int64\n"
          ]
        },
        {
          "output_type": "display_data",
          "data": {
            "image/png": "[encoded data removed]",
            "text/plain": [
              "<Figure size 1440x720 with 1 Axes>"
            ]
          },
          "metadata": {}
        }
      ]
    },
    {
      "cell_type": "code",
      "metadata": {
        "colab": {
          "base_uri": "https://localhost:8080/"
        },
        "id": "gWc3rp4aC8Xw",
        "outputId": "e1fd32ee-04b6-4e96-d1d7-d0dc6912c5ec"
      },
      "source": [
        "x['Sales Channel'].value_counts()"
      ],
      "execution_count": null,
      "outputs": [
        {
          "output_type": "execute_result",
          "data": {
            "text/plain": [
              "Online     25034\n",
              "Offline    24966\n",
              "Name: Sales Channel, dtype: int64"
            ]
          },
          "metadata": {},
          "execution_count": 163
        }
      ]
    },
    {
      "cell_type": "code",
      "metadata": {
        "colab": {
          "base_uri": "https://localhost:8080/",
          "height": 218
        },
        "id": "436TCXTBC-NS",
        "outputId": "9529a8e4-8c3d-4ef9-801f-20c7d168c92e"
      },
      "source": [
        "fig=plt.figure(figsize=(20,2))\n",
        "sns.countplot(y='Sales Channel',data=x);\n",
        "print(x['Sales Channel'].value_counts())"
      ],
      "execution_count": null,
      "outputs": [
        {
          "output_type": "stream",
          "name": "stdout",
          "text": [
            "Online     25034\n",
            "Offline    24966\n",
            "Name: Sales Channel, dtype: int64\n"
          ]
        },
        {
          "output_type": "display_data",
          "data": {
            "image/png": "[encoded data removed]",
            "text/plain": [
              "<Figure size 1440x144 with 1 Axes>"
            ]
          },
          "metadata": {}
        }
      ]
    },
    {
      "cell_type": "code",
      "metadata": {
        "colab": {
          "base_uri": "https://localhost:8080/"
        },
        "id": "BlIvDQFmDA44",
        "outputId": "eecc070c-6769-4d57-c9ad-9a4279ede0d4"
      },
      "source": [
        "x['Order Priority'].value_counts()         # l-Low, M-Medium, H-High, C-Critical"
      ],
      "execution_count": null,
      "outputs": [
        {
          "output_type": "execute_result",
          "data": {
            "text/plain": [
              "L    12588\n",
              "M    12495\n",
              "H    12471\n",
              "C    12446\n",
              "Name: Order Priority, dtype: int64"
            ]
          },
          "metadata": {},
          "execution_count": 165
        }
      ]
    },
    {
      "cell_type": "code",
      "metadata": {
        "colab": {
          "base_uri": "https://localhost:8080/",
          "height": 251
        },
        "id": "COTLVSdUDEzB",
        "outputId": "0ba5957d-6b30-4749-c24d-cfc080bdcc47"
      },
      "source": [
        "fig=plt.figure(figsize=(20,2))\n",
        "sns.countplot(y='Order Priority',data=x);\n",
        "print(x['Order Priority'].value_counts())"
      ],
      "execution_count": null,
      "outputs": [
        {
          "output_type": "stream",
          "name": "stdout",
          "text": [
            "L    12588\n",
            "M    12495\n",
            "H    12471\n",
            "C    12446\n",
            "Name: Order Priority, dtype: int64\n"
          ]
        },
        {
          "output_type": "display_data",
          "data": {
            "image/png": "[encoded data removed]",
            "text/plain": [
              "<Figure size 1440x144 with 1 Axes>"
            ]
          },
          "metadata": {}
        }
      ]
    },
    {
      "cell_type": "code",
      "metadata": {
        "colab": {
          "base_uri": "https://localhost:8080/"
        },
        "id": "keKlMceEDGyD",
        "outputId": "c3f00268-8935-4896-bb04-abb6daf0fd52"
      },
      "source": [
        "x['Item Type'].value_counts()"
      ],
      "execution_count": null,
      "outputs": [
        {
          "output_type": "execute_result",
          "data": {
            "text/plain": [
              "Fruits             4221\n",
              "Meat               4221\n",
              "Cosmetics          4193\n",
              "Vegetables         4191\n",
              "Personal Care      4186\n",
              "Beverages          4173\n",
              "Snacks             4163\n",
              "Clothes            4155\n",
              "Cereal             4141\n",
              "Household          4139\n",
              "Office Supplies    4139\n",
              "Baby Food          4078\n",
              "Name: Item Type, dtype: int64"
            ]
          },
          "metadata": {},
          "execution_count": 167
        }
      ]
    },
    {
      "cell_type": "code",
      "metadata": {
        "colab": {
          "base_uri": "https://localhost:8080/",
          "height": 549
        },
        "id": "aHB4MLxtDJDC",
        "outputId": "e2450afb-e664-4058-c4df-5e3b3130e407"
      },
      "source": [
        "fig=plt.figure(figsize=(20,5))\n",
        "sns.countplot(y='Item Type',data=x);\n",
        "print(x['Item Type'].value_counts())"
      ],
      "execution_count": null,
      "outputs": [
        {
          "output_type": "stream",
          "name": "stdout",
          "text": [
            "Fruits             4221\n",
            "Meat               4221\n",
            "Cosmetics          4193\n",
            "Vegetables         4191\n",
            "Personal Care      4186\n",
            "Beverages          4173\n",
            "Snacks             4163\n",
            "Clothes            4155\n",
            "Cereal             4141\n",
            "Household          4139\n",
            "Office Supplies    4139\n",
            "Baby Food          4078\n",
            "Name: Item Type, dtype: int64\n"
          ]
        },
        {
          "output_type": "display_data",
          "data": {
            "image/png": "[encoded data removed]",
            "text/plain": [
              "<Figure size 1440x360 with 1 Axes>"
            ]
          },
          "metadata": {}
        }
      ]
    },
    {
      "cell_type": "code",
      "metadata": {
        "colab": {
          "base_uri": "https://localhost:8080/"
        },
        "id": "AJb5LuK2DNl6",
        "outputId": "f3d67aa2-723b-4a95-d681-8a31ca02fa20"
      },
      "source": [
        "x['Order ID'].value_counts()"
      ],
      "execution_count": null,
      "outputs": [
        {
          "output_type": "execute_result",
          "data": {
            "text/plain": [
              "784031856    1\n",
              "115453279    1\n",
              "745377147    1\n",
              "854558074    1\n",
              "518488442    1\n",
              "            ..\n",
              "770372331    1\n",
              "341703402    1\n",
              "941263806    1\n",
              "296584784    1\n",
              "934545409    1\n",
              "Name: Order ID, Length: 50000, dtype: int64"
            ]
          },
          "metadata": {},
          "execution_count": 169
        }
      ]
    },
    {
      "cell_type": "code",
      "metadata": {
        "colab": {
          "base_uri": "https://localhost:8080/",
          "height": 279
        },
        "id": "E5MBjl4WDPwA",
        "outputId": "0df81a47-466e-4d33-8319-69e47e1c57a3"
      },
      "source": [
        "plt.figure()\n",
        "x['Units Sold'].diff().hist(color='b', alpha=0.5, bins=30)"
      ],
      "execution_count": null,
      "outputs": [
        {
          "output_type": "execute_result",
          "data": {
            "text/plain": [
              "<matplotlib.axes._subplots.AxesSubplot at 0x7f4643793d90>"
            ]
          },
          "metadata": {},
          "execution_count": 170
        },
        {
          "output_type": "display_data",
          "data": {
            "image/png": "[encoded data removed]",
            "text/plain": [
              "<Figure size 432x288 with 1 Axes>"
            ]
          },
          "metadata": {}
        }
      ]
    },
    {
      "cell_type": "code",
      "metadata": {
        "colab": {
          "base_uri": "https://localhost:8080/"
        },
        "id": "8r9JMBfCDR_n",
        "outputId": "9a7187fa-7eb3-4787-c43b-b9872706f9cd"
      },
      "source": [
        "x['Units Sold'].skew()"
      ],
      "execution_count": null,
      "outputs": [
        {
          "output_type": "execute_result",
          "data": {
            "text/plain": [
              "-0.012963991339447662"
            ]
          },
          "metadata": {},
          "execution_count": 171
        }
      ]
    },
    {
      "cell_type": "code",
      "metadata": {
        "colab": {
          "base_uri": "https://localhost:8080/",
          "height": 279
        },
        "id": "SgneOYSXDUF1",
        "outputId": "11bbda0a-132c-427f-da56-d342f261b9bc"
      },
      "source": [
        "plt.figure()\n",
        "x['Unit Price'].diff().hist(color='b', alpha=0.5, bins=30)"
      ],
      "execution_count": null,
      "outputs": [
        {
          "output_type": "execute_result",
          "data": {
            "text/plain": [
              "<matplotlib.axes._subplots.AxesSubplot at 0x7f4643df5dd0>"
            ]
          },
          "metadata": {},
          "execution_count": 172
        },
        {
          "output_type": "display_data",
          "data": {
            "image/png": "[encoded data removed]",
            "text/plain": [
              "<Figure size 432x288 with 1 Axes>"
            ]
          },
          "metadata": {}
        }
      ]
    },
    {
      "cell_type": "code",
      "metadata": {
        "colab": {
          "base_uri": "https://localhost:8080/",
          "height": 279
        },
        "id": "8eOq_C57D0Hw",
        "outputId": "b101c6f9-ad55-4c94-f1f4-c508c69c2e48"
      },
      "source": [
        "plt.figure()\n",
        "x['Unit Cost'].diff().hist(color='b', alpha=0.5, bins=30)"
      ],
      "execution_count": null,
      "outputs": [
        {
          "output_type": "execute_result",
          "data": {
            "text/plain": [
              "<matplotlib.axes._subplots.AxesSubplot at 0x7f464c27ead0>"
            ]
          },
          "metadata": {},
          "execution_count": 173
        },
        {
          "output_type": "display_data",
          "data": {
            "image/png": "[encoded data removed]",
            "text/plain": [
              "<Figure size 432x288 with 1 Axes>"
            ]
          },
          "metadata": {}
        }
      ]
    },
    {
      "cell_type": "code",
      "metadata": {
        "colab": {
          "base_uri": "https://localhost:8080/",
          "height": 292
        },
        "id": "r53EK-XaD24e",
        "outputId": "a296999e-575c-4d6c-8256-83069c38a67a"
      },
      "source": [
        "plt.figure()\n",
        "x['Total Revenue'].diff().hist(color='b', alpha=0.5, bins=30)"
      ],
      "execution_count": null,
      "outputs": [
        {
          "output_type": "execute_result",
          "data": {
            "text/plain": [
              "<matplotlib.axes._subplots.AxesSubplot at 0x7f4643890d50>"
            ]
          },
          "metadata": {},
          "execution_count": 174
        },
        {
          "output_type": "display_data",
          "data": {
            "image/png": "[encoded data removed]",
            "text/plain": [
              "<Figure size 432x288 with 1 Axes>"
            ]
          },
          "metadata": {}
        }
      ]
    },
    {
      "cell_type": "code",
      "metadata": {
        "colab": {
          "base_uri": "https://localhost:8080/",
          "height": 292
        },
        "id": "1saihHppD5F_",
        "outputId": "63fa9ad3-b2a4-4349-8a8b-5b6ef056278f"
      },
      "source": [
        "plt.figure()\n",
        "x['Total Cost'].diff().hist(color='b', alpha=0.5, bins=30)"
      ],
      "execution_count": null,
      "outputs": [
        {
          "output_type": "execute_result",
          "data": {
            "text/plain": [
              "<matplotlib.axes._subplots.AxesSubplot at 0x7f46436f6690>"
            ]
          },
          "metadata": {},
          "execution_count": 175
        },
        {
          "output_type": "display_data",
          "data": {
            "image/png": "[encoded data removed]",
            "text/plain": [
              "<Figure size 432x288 with 1 Axes>"
            ]
          },
          "metadata": {}
        }
      ]
    },
    {
      "cell_type": "code",
      "metadata": {
        "colab": {
          "base_uri": "https://localhost:8080/"
        },
        "id": "btlD2JuqD7K4",
        "outputId": "0b62623c-d9e6-468e-c6e7-ac0cc34aeddc"
      },
      "source": [
        "x['Order ID'].value_counts()"
      ],
      "execution_count": null,
      "outputs": [
        {
          "output_type": "execute_result",
          "data": {
            "text/plain": [
              "784031856    1\n",
              "115453279    1\n",
              "745377147    1\n",
              "854558074    1\n",
              "518488442    1\n",
              "            ..\n",
              "770372331    1\n",
              "341703402    1\n",
              "941263806    1\n",
              "296584784    1\n",
              "934545409    1\n",
              "Name: Order ID, Length: 50000, dtype: int64"
            ]
          },
          "metadata": {},
          "execution_count": 176
        }
      ]
    },
    {
      "cell_type": "code",
      "metadata": {
        "colab": {
          "base_uri": "https://localhost:8080/",
          "height": 292
        },
        "id": "Rsv-HlPOD9KX",
        "outputId": "899b0926-bd4d-4e66-9336-ec6e3dd153c4"
      },
      "source": [
        "plt.figure()\n",
        "x['Order ID'].diff().hist(color='b', alpha=0.5, bins=30)"
      ],
      "execution_count": null,
      "outputs": [
        {
          "output_type": "execute_result",
          "data": {
            "text/plain": [
              "<matplotlib.axes._subplots.AxesSubplot at 0x7f464370ecd0>"
            ]
          },
          "metadata": {},
          "execution_count": 177
        },
        {
          "output_type": "display_data",
          "data": {
            "image/png": "[encoded data removed]",
            "text/plain": [
              "<Figure size 432x288 with 1 Axes>"
            ]
          },
          "metadata": {}
        }
      ]
    },
    {
      "cell_type": "code",
      "metadata": {
        "colab": {
          "base_uri": "https://localhost:8080/",
          "height": 203
        },
        "id": "sDTsLdVKEQWd",
        "outputId": "29e62270-997f-48a9-8171-829b1e313193"
      },
      "source": [
        "x.drop('Order ID',axis=1,inplace=True)\n",
        "x.head()"
      ],
      "execution_count": null,
      "outputs": [
        {
          "output_type": "execute_result",
          "data": {
            "text/html": [
              "<div>\n",
              "<style scoped>\n",
              "    .dataframe tbody tr th:only-of-type {\n",
              "        vertical-align: middle;\n",
              "    }\n",
              "\n",
              "    .dataframe tbody tr th {\n",
              "        vertical-align: top;\n",
              "    }\n",
              "\n",
              "    .dataframe thead th {\n",
              "        text-align: right;\n",
              "    }\n",
              "</style>\n",
              "<table border=\"1\" class=\"dataframe\">\n",
              "  <thead>\n",
              "    <tr style=\"text-align: right;\">\n",
              "      <th></th>\n",
              "      <th>Region</th>\n",
              "      <th>Country</th>\n",
              "      <th>Item Type</th>\n",
              "      <th>Sales Channel</th>\n",
              "      <th>Order Priority</th>\n",
              "      <th>Order Date</th>\n",
              "      <th>Ship Date</th>\n",
              "      <th>Units Sold</th>\n",
              "      <th>Unit Price</th>\n",
              "      <th>Unit Cost</th>\n",
              "      <th>Total Revenue</th>\n",
              "      <th>Total Cost</th>\n",
              "      <th>Total Profit</th>\n",
              "    </tr>\n",
              "  </thead>\n",
              "  <tbody>\n",
              "    <tr>\n",
              "      <th>0</th>\n",
              "      <td>Sub-Saharan Africa</td>\n",
              "      <td>Namibia</td>\n",
              "      <td>Household</td>\n",
              "      <td>Offline</td>\n",
              "      <td>M</td>\n",
              "      <td>8/31/2015</td>\n",
              "      <td>10/12/2015</td>\n",
              "      <td>3604</td>\n",
              "      <td>668.27</td>\n",
              "      <td>502.54</td>\n",
              "      <td>2408445.08</td>\n",
              "      <td>1811154.16</td>\n",
              "      <td>597290.92</td>\n",
              "    </tr>\n",
              "    <tr>\n",
              "      <th>1</th>\n",
              "      <td>Europe</td>\n",
              "      <td>Iceland</td>\n",
              "      <td>Baby Food</td>\n",
              "      <td>Online</td>\n",
              "      <td>H</td>\n",
              "      <td>11/20/2010</td>\n",
              "      <td>1/9/2011</td>\n",
              "      <td>8435</td>\n",
              "      <td>255.28</td>\n",
              "      <td>159.42</td>\n",
              "      <td>2153286.80</td>\n",
              "      <td>1344707.70</td>\n",
              "      <td>808579.10</td>\n",
              "    </tr>\n",
              "    <tr>\n",
              "      <th>2</th>\n",
              "      <td>Europe</td>\n",
              "      <td>Russia</td>\n",
              "      <td>Meat</td>\n",
              "      <td>Online</td>\n",
              "      <td>L</td>\n",
              "      <td>6/22/2017</td>\n",
              "      <td>6/25/2017</td>\n",
              "      <td>4848</td>\n",
              "      <td>421.89</td>\n",
              "      <td>364.69</td>\n",
              "      <td>2045322.72</td>\n",
              "      <td>1768017.12</td>\n",
              "      <td>277305.60</td>\n",
              "    </tr>\n",
              "    <tr>\n",
              "      <th>3</th>\n",
              "      <td>Europe</td>\n",
              "      <td>Moldova</td>\n",
              "      <td>Meat</td>\n",
              "      <td>Online</td>\n",
              "      <td>L</td>\n",
              "      <td>2/28/2012</td>\n",
              "      <td>3/20/2012</td>\n",
              "      <td>7225</td>\n",
              "      <td>421.89</td>\n",
              "      <td>364.69</td>\n",
              "      <td>3048155.25</td>\n",
              "      <td>2634885.25</td>\n",
              "      <td>413270.00</td>\n",
              "    </tr>\n",
              "    <tr>\n",
              "      <th>4</th>\n",
              "      <td>Europe</td>\n",
              "      <td>Malta</td>\n",
              "      <td>Cereal</td>\n",
              "      <td>Online</td>\n",
              "      <td>M</td>\n",
              "      <td>8/12/2010</td>\n",
              "      <td>9/13/2010</td>\n",
              "      <td>1975</td>\n",
              "      <td>205.70</td>\n",
              "      <td>117.11</td>\n",
              "      <td>406257.50</td>\n",
              "      <td>231292.25</td>\n",
              "      <td>174965.25</td>\n",
              "    </tr>\n",
              "  </tbody>\n",
              "</table>\n",
              "</div>"
            ],
            "text/plain": [
              "               Region   Country  ...  Total Cost Total Profit\n",
              "0  Sub-Saharan Africa   Namibia  ...  1811154.16    597290.92\n",
              "1              Europe   Iceland  ...  1344707.70    808579.10\n",
              "2              Europe    Russia  ...  1768017.12    277305.60\n",
              "3              Europe  Moldova   ...  2634885.25    413270.00\n",
              "4              Europe     Malta  ...   231292.25    174965.25\n",
              "\n",
              "[5 rows x 13 columns]"
            ]
          },
          "metadata": {},
          "execution_count": 178
        }
      ]
    },
    {
      "cell_type": "code",
      "metadata": {
        "colab": {
          "base_uri": "https://localhost:8080/",
          "height": 203
        },
        "id": "721GQIteESrY",
        "outputId": "205e6358-e4c8-4ea9-9302-b68fb2abd6cb"
      },
      "source": [
        "x['Order Date'] = pd.to_datetime(x['Order Date'])\n",
        "x.head()"
      ],
      "execution_count": null,
      "outputs": [
        {
          "output_type": "execute_result",
          "data": {
            "text/html": [
              "<div>\n",
              "<style scoped>\n",
              "    .dataframe tbody tr th:only-of-type {\n",
              "        vertical-align: middle;\n",
              "    }\n",
              "\n",
              "    .dataframe tbody tr th {\n",
              "        vertical-align: top;\n",
              "    }\n",
              "\n",
              "    .dataframe thead th {\n",
              "        text-align: right;\n",
              "    }\n",
              "</style>\n",
              "<table border=\"1\" class=\"dataframe\">\n",
              "  <thead>\n",
              "    <tr style=\"text-align: right;\">\n",
              "      <th></th>\n",
              "      <th>Region</th>\n",
              "      <th>Country</th>\n",
              "      <th>Item Type</th>\n",
              "      <th>Sales Channel</th>\n",
              "      <th>Order Priority</th>\n",
              "      <th>Order Date</th>\n",
              "      <th>Ship Date</th>\n",
              "      <th>Units Sold</th>\n",
              "      <th>Unit Price</th>\n",
              "      <th>Unit Cost</th>\n",
              "      <th>Total Revenue</th>\n",
              "      <th>Total Cost</th>\n",
              "      <th>Total Profit</th>\n",
              "    </tr>\n",
              "  </thead>\n",
              "  <tbody>\n",
              "    <tr>\n",
              "      <th>0</th>\n",
              "      <td>Sub-Saharan Africa</td>\n",
              "      <td>Namibia</td>\n",
              "      <td>Household</td>\n",
              "      <td>Offline</td>\n",
              "      <td>M</td>\n",
              "      <td>2015-08-31</td>\n",
              "      <td>10/12/2015</td>\n",
              "      <td>3604</td>\n",
              "      <td>668.27</td>\n",
              "      <td>502.54</td>\n",
              "      <td>2408445.08</td>\n",
              "      <td>1811154.16</td>\n",
              "      <td>597290.92</td>\n",
              "    </tr>\n",
              "    <tr>\n",
              "      <th>1</th>\n",
              "      <td>Europe</td>\n",
              "      <td>Iceland</td>\n",
              "      <td>Baby Food</td>\n",
              "      <td>Online</td>\n",
              "      <td>H</td>\n",
              "      <td>2010-11-20</td>\n",
              "      <td>1/9/2011</td>\n",
              "      <td>8435</td>\n",
              "      <td>255.28</td>\n",
              "      <td>159.42</td>\n",
              "      <td>2153286.80</td>\n",
              "      <td>1344707.70</td>\n",
              "      <td>808579.10</td>\n",
              "    </tr>\n",
              "    <tr>\n",
              "      <th>2</th>\n",
              "      <td>Europe</td>\n",
              "      <td>Russia</td>\n",
              "      <td>Meat</td>\n",
              "      <td>Online</td>\n",
              "      <td>L</td>\n",
              "      <td>2017-06-22</td>\n",
              "      <td>6/25/2017</td>\n",
              "      <td>4848</td>\n",
              "      <td>421.89</td>\n",
              "      <td>364.69</td>\n",
              "      <td>2045322.72</td>\n",
              "      <td>1768017.12</td>\n",
              "      <td>277305.60</td>\n",
              "    </tr>\n",
              "    <tr>\n",
              "      <th>3</th>\n",
              "      <td>Europe</td>\n",
              "      <td>Moldova</td>\n",
              "      <td>Meat</td>\n",
              "      <td>Online</td>\n",
              "      <td>L</td>\n",
              "      <td>2012-02-28</td>\n",
              "      <td>3/20/2012</td>\n",
              "      <td>7225</td>\n",
              "      <td>421.89</td>\n",
              "      <td>364.69</td>\n",
              "      <td>3048155.25</td>\n",
              "      <td>2634885.25</td>\n",
              "      <td>413270.00</td>\n",
              "    </tr>\n",
              "    <tr>\n",
              "      <th>4</th>\n",
              "      <td>Europe</td>\n",
              "      <td>Malta</td>\n",
              "      <td>Cereal</td>\n",
              "      <td>Online</td>\n",
              "      <td>M</td>\n",
              "      <td>2010-08-12</td>\n",
              "      <td>9/13/2010</td>\n",
              "      <td>1975</td>\n",
              "      <td>205.70</td>\n",
              "      <td>117.11</td>\n",
              "      <td>406257.50</td>\n",
              "      <td>231292.25</td>\n",
              "      <td>174965.25</td>\n",
              "    </tr>\n",
              "  </tbody>\n",
              "</table>\n",
              "</div>"
            ],
            "text/plain": [
              "               Region   Country  ...  Total Cost Total Profit\n",
              "0  Sub-Saharan Africa   Namibia  ...  1811154.16    597290.92\n",
              "1              Europe   Iceland  ...  1344707.70    808579.10\n",
              "2              Europe    Russia  ...  1768017.12    277305.60\n",
              "3              Europe  Moldova   ...  2634885.25    413270.00\n",
              "4              Europe     Malta  ...   231292.25    174965.25\n",
              "\n",
              "[5 rows x 13 columns]"
            ]
          },
          "metadata": {},
          "execution_count": 179
        }
      ]
    },
    {
      "cell_type": "code",
      "metadata": {
        "colab": {
          "base_uri": "https://localhost:8080/",
          "height": 203
        },
        "id": "6ITroZ66EUUr",
        "outputId": "87b65ea5-afbe-4875-90ca-46231300273c"
      },
      "source": [
        "x['Ship Date'] = pd.to_datetime(x['Ship Date'])\n",
        "x.head()"
      ],
      "execution_count": null,
      "outputs": [
        {
          "output_type": "execute_result",
          "data": {
            "text/html": [
              "<div>\n",
              "<style scoped>\n",
              "    .dataframe tbody tr th:only-of-type {\n",
              "        vertical-align: middle;\n",
              "    }\n",
              "\n",
              "    .dataframe tbody tr th {\n",
              "        vertical-align: top;\n",
              "    }\n",
              "\n",
              "    .dataframe thead th {\n",
              "        text-align: right;\n",
              "    }\n",
              "</style>\n",
              "<table border=\"1\" class=\"dataframe\">\n",
              "  <thead>\n",
              "    <tr style=\"text-align: right;\">\n",
              "      <th></th>\n",
              "      <th>Region</th>\n",
              "      <th>Country</th>\n",
              "      <th>Item Type</th>\n",
              "      <th>Sales Channel</th>\n",
              "      <th>Order Priority</th>\n",
              "      <th>Order Date</th>\n",
              "      <th>Ship Date</th>\n",
              "      <th>Units Sold</th>\n",
              "      <th>Unit Price</th>\n",
              "      <th>Unit Cost</th>\n",
              "      <th>Total Revenue</th>\n",
              "      <th>Total Cost</th>\n",
              "      <th>Total Profit</th>\n",
              "    </tr>\n",
              "  </thead>\n",
              "  <tbody>\n",
              "    <tr>\n",
              "      <th>0</th>\n",
              "      <td>Sub-Saharan Africa</td>\n",
              "      <td>Namibia</td>\n",
              "      <td>Household</td>\n",
              "      <td>Offline</td>\n",
              "      <td>M</td>\n",
              "      <td>2015-08-31</td>\n",
              "      <td>2015-10-12</td>\n",
              "      <td>3604</td>\n",
              "      <td>668.27</td>\n",
              "      <td>502.54</td>\n",
              "      <td>2408445.08</td>\n",
              "      <td>1811154.16</td>\n",
              "      <td>597290.92</td>\n",
              "    </tr>\n",
              "    <tr>\n",
              "      <th>1</th>\n",
              "      <td>Europe</td>\n",
              "      <td>Iceland</td>\n",
              "      <td>Baby Food</td>\n",
              "      <td>Online</td>\n",
              "      <td>H</td>\n",
              "      <td>2010-11-20</td>\n",
              "      <td>2011-01-09</td>\n",
              "      <td>8435</td>\n",
              "      <td>255.28</td>\n",
              "      <td>159.42</td>\n",
              "      <td>2153286.80</td>\n",
              "      <td>1344707.70</td>\n",
              "      <td>808579.10</td>\n",
              "    </tr>\n",
              "    <tr>\n",
              "      <th>2</th>\n",
              "      <td>Europe</td>\n",
              "      <td>Russia</td>\n",
              "      <td>Meat</td>\n",
              "      <td>Online</td>\n",
              "      <td>L</td>\n",
              "      <td>2017-06-22</td>\n",
              "      <td>2017-06-25</td>\n",
              "      <td>4848</td>\n",
              "      <td>421.89</td>\n",
              "      <td>364.69</td>\n",
              "      <td>2045322.72</td>\n",
              "      <td>1768017.12</td>\n",
              "      <td>277305.60</td>\n",
              "    </tr>\n",
              "    <tr>\n",
              "      <th>3</th>\n",
              "      <td>Europe</td>\n",
              "      <td>Moldova</td>\n",
              "      <td>Meat</td>\n",
              "      <td>Online</td>\n",
              "      <td>L</td>\n",
              "      <td>2012-02-28</td>\n",
              "      <td>2012-03-20</td>\n",
              "      <td>7225</td>\n",
              "      <td>421.89</td>\n",
              "      <td>364.69</td>\n",
              "      <td>3048155.25</td>\n",
              "      <td>2634885.25</td>\n",
              "      <td>413270.00</td>\n",
              "    </tr>\n",
              "    <tr>\n",
              "      <th>4</th>\n",
              "      <td>Europe</td>\n",
              "      <td>Malta</td>\n",
              "      <td>Cereal</td>\n",
              "      <td>Online</td>\n",
              "      <td>M</td>\n",
              "      <td>2010-08-12</td>\n",
              "      <td>2010-09-13</td>\n",
              "      <td>1975</td>\n",
              "      <td>205.70</td>\n",
              "      <td>117.11</td>\n",
              "      <td>406257.50</td>\n",
              "      <td>231292.25</td>\n",
              "      <td>174965.25</td>\n",
              "    </tr>\n",
              "  </tbody>\n",
              "</table>\n",
              "</div>"
            ],
            "text/plain": [
              "               Region   Country  ...  Total Cost Total Profit\n",
              "0  Sub-Saharan Africa   Namibia  ...  1811154.16    597290.92\n",
              "1              Europe   Iceland  ...  1344707.70    808579.10\n",
              "2              Europe    Russia  ...  1768017.12    277305.60\n",
              "3              Europe  Moldova   ...  2634885.25    413270.00\n",
              "4              Europe     Malta  ...   231292.25    174965.25\n",
              "\n",
              "[5 rows x 13 columns]"
            ]
          },
          "metadata": {},
          "execution_count": 180
        }
      ]
    },
    {
      "cell_type": "code",
      "metadata": {
        "colab": {
          "base_uri": "https://localhost:8080/"
        },
        "id": "7lDHLky2E9tp",
        "outputId": "18d5c1cb-dcf8-4736-9d18-54394f24ffed"
      },
      "source": [
        "x.dtypes"
      ],
      "execution_count": null,
      "outputs": [
        {
          "output_type": "execute_result",
          "data": {
            "text/plain": [
              "Region                    object\n",
              "Country                   object\n",
              "Item Type                 object\n",
              "Sales Channel             object\n",
              "Order Priority            object\n",
              "Order Date        datetime64[ns]\n",
              "Ship Date         datetime64[ns]\n",
              "Units Sold                 int64\n",
              "Unit Price               float64\n",
              "Unit Cost                float64\n",
              "Total Revenue            float64\n",
              "Total Cost               float64\n",
              "Total Profit             float64\n",
              "dtype: object"
            ]
          },
          "metadata": {},
          "execution_count": 181
        }
      ]
    },
    {
      "cell_type": "code",
      "metadata": {
        "colab": {
          "base_uri": "https://localhost:8080/",
          "height": 321
        },
        "id": "3dRxUp2oFDAc",
        "outputId": "751f1acd-10e4-444e-c15b-9b95e5b857ed"
      },
      "source": [
        "x['Order Date_year'] = x['Order Date'].dt.year\n",
        "x['Order Date_month'] = x['Order Date'].dt.month\n",
        "x['Order Date_day'] = x['Order Date'].dt.day\n",
        "x['Ship Date_year'] = x['Ship Date'].dt.year\n",
        "x['Ship Date_month'] = x['Ship Date'].dt.month\n",
        "x['Ship Date_day'] = x['Ship Date'].dt.day\n",
        "x.head()"
      ],
      "execution_count": null,
      "outputs": [
        {
          "output_type": "execute_result",
          "data": {
            "text/html": [
              "<div>\n",
              "<style scoped>\n",
              "    .dataframe tbody tr th:only-of-type {\n",
              "        vertical-align: middle;\n",
              "    }\n",
              "\n",
              "    .dataframe tbody tr th {\n",
              "        vertical-align: top;\n",
              "    }\n",
              "\n",
              "    .dataframe thead th {\n",
              "        text-align: right;\n",
              "    }\n",
              "</style>\n",
              "<table border=\"1\" class=\"dataframe\">\n",
              "  <thead>\n",
              "    <tr style=\"text-align: right;\">\n",
              "      <th></th>\n",
              "      <th>Region</th>\n",
              "      <th>Country</th>\n",
              "      <th>Item Type</th>\n",
              "      <th>Sales Channel</th>\n",
              "      <th>Order Priority</th>\n",
              "      <th>Order Date</th>\n",
              "      <th>Ship Date</th>\n",
              "      <th>Units Sold</th>\n",
              "      <th>Unit Price</th>\n",
              "      <th>Unit Cost</th>\n",
              "      <th>Total Revenue</th>\n",
              "      <th>Total Cost</th>\n",
              "      <th>Total Profit</th>\n",
              "      <th>Order Date_year</th>\n",
              "      <th>Order Date_month</th>\n",
              "      <th>Order Date_day</th>\n",
              "      <th>Ship Date_year</th>\n",
              "      <th>Ship Date_month</th>\n",
              "      <th>Ship Date_day</th>\n",
              "    </tr>\n",
              "  </thead>\n",
              "  <tbody>\n",
              "    <tr>\n",
              "      <th>0</th>\n",
              "      <td>Sub-Saharan Africa</td>\n",
              "      <td>Namibia</td>\n",
              "      <td>Household</td>\n",
              "      <td>Offline</td>\n",
              "      <td>M</td>\n",
              "      <td>2015-08-31</td>\n",
              "      <td>2015-10-12</td>\n",
              "      <td>3604</td>\n",
              "      <td>668.27</td>\n",
              "      <td>502.54</td>\n",
              "      <td>2408445.08</td>\n",
              "      <td>1811154.16</td>\n",
              "      <td>597290.92</td>\n",
              "      <td>2015</td>\n",
              "      <td>8</td>\n",
              "      <td>31</td>\n",
              "      <td>2015</td>\n",
              "      <td>10</td>\n",
              "      <td>12</td>\n",
              "    </tr>\n",
              "    <tr>\n",
              "      <th>1</th>\n",
              "      <td>Europe</td>\n",
              "      <td>Iceland</td>\n",
              "      <td>Baby Food</td>\n",
              "      <td>Online</td>\n",
              "      <td>H</td>\n",
              "      <td>2010-11-20</td>\n",
              "      <td>2011-01-09</td>\n",
              "      <td>8435</td>\n",
              "      <td>255.28</td>\n",
              "      <td>159.42</td>\n",
              "      <td>2153286.80</td>\n",
              "      <td>1344707.70</td>\n",
              "      <td>808579.10</td>\n",
              "      <td>2010</td>\n",
              "      <td>11</td>\n",
              "      <td>20</td>\n",
              "      <td>2011</td>\n",
              "      <td>1</td>\n",
              "      <td>9</td>\n",
              "    </tr>\n",
              "    <tr>\n",
              "      <th>2</th>\n",
              "      <td>Europe</td>\n",
              "      <td>Russia</td>\n",
              "      <td>Meat</td>\n",
              "      <td>Online</td>\n",
              "      <td>L</td>\n",
              "      <td>2017-06-22</td>\n",
              "      <td>2017-06-25</td>\n",
              "      <td>4848</td>\n",
              "      <td>421.89</td>\n",
              "      <td>364.69</td>\n",
              "      <td>2045322.72</td>\n",
              "      <td>1768017.12</td>\n",
              "      <td>277305.60</td>\n",
              "      <td>2017</td>\n",
              "      <td>6</td>\n",
              "      <td>22</td>\n",
              "      <td>2017</td>\n",
              "      <td>6</td>\n",
              "      <td>25</td>\n",
              "    </tr>\n",
              "    <tr>\n",
              "      <th>3</th>\n",
              "      <td>Europe</td>\n",
              "      <td>Moldova</td>\n",
              "      <td>Meat</td>\n",
              "      <td>Online</td>\n",
              "      <td>L</td>\n",
              "      <td>2012-02-28</td>\n",
              "      <td>2012-03-20</td>\n",
              "      <td>7225</td>\n",
              "      <td>421.89</td>\n",
              "      <td>364.69</td>\n",
              "      <td>3048155.25</td>\n",
              "      <td>2634885.25</td>\n",
              "      <td>413270.00</td>\n",
              "      <td>2012</td>\n",
              "      <td>2</td>\n",
              "      <td>28</td>\n",
              "      <td>2012</td>\n",
              "      <td>3</td>\n",
              "      <td>20</td>\n",
              "    </tr>\n",
              "    <tr>\n",
              "      <th>4</th>\n",
              "      <td>Europe</td>\n",
              "      <td>Malta</td>\n",
              "      <td>Cereal</td>\n",
              "      <td>Online</td>\n",
              "      <td>M</td>\n",
              "      <td>2010-08-12</td>\n",
              "      <td>2010-09-13</td>\n",
              "      <td>1975</td>\n",
              "      <td>205.70</td>\n",
              "      <td>117.11</td>\n",
              "      <td>406257.50</td>\n",
              "      <td>231292.25</td>\n",
              "      <td>174965.25</td>\n",
              "      <td>2010</td>\n",
              "      <td>8</td>\n",
              "      <td>12</td>\n",
              "      <td>2010</td>\n",
              "      <td>9</td>\n",
              "      <td>13</td>\n",
              "    </tr>\n",
              "  </tbody>\n",
              "</table>\n",
              "</div>"
            ],
            "text/plain": [
              "               Region   Country  ... Ship Date_month Ship Date_day\n",
              "0  Sub-Saharan Africa   Namibia  ...              10            12\n",
              "1              Europe   Iceland  ...               1             9\n",
              "2              Europe    Russia  ...               6            25\n",
              "3              Europe  Moldova   ...               3            20\n",
              "4              Europe     Malta  ...               9            13\n",
              "\n",
              "[5 rows x 19 columns]"
            ]
          },
          "metadata": {},
          "execution_count": 182
        }
      ]
    },
    {
      "cell_type": "code",
      "metadata": {
        "colab": {
          "base_uri": "https://localhost:8080/",
          "height": 321
        },
        "id": "aNzhzHZYFQg6",
        "outputId": "8a06abd0-cdc6-43bb-c86d-e1f45e768a8d"
      },
      "source": [
        "x.drop('Order Date',axis=1,inplace=True)\n",
        "x.head()"
      ],
      "execution_count": null,
      "outputs": [
        {
          "output_type": "execute_result",
          "data": {
            "text/html": [
              "<div>\n",
              "<style scoped>\n",
              "    .dataframe tbody tr th:only-of-type {\n",
              "        vertical-align: middle;\n",
              "    }\n",
              "\n",
              "    .dataframe tbody tr th {\n",
              "        vertical-align: top;\n",
              "    }\n",
              "\n",
              "    .dataframe thead th {\n",
              "        text-align: right;\n",
              "    }\n",
              "</style>\n",
              "<table border=\"1\" class=\"dataframe\">\n",
              "  <thead>\n",
              "    <tr style=\"text-align: right;\">\n",
              "      <th></th>\n",
              "      <th>Region</th>\n",
              "      <th>Country</th>\n",
              "      <th>Item Type</th>\n",
              "      <th>Sales Channel</th>\n",
              "      <th>Order Priority</th>\n",
              "      <th>Ship Date</th>\n",
              "      <th>Units Sold</th>\n",
              "      <th>Unit Price</th>\n",
              "      <th>Unit Cost</th>\n",
              "      <th>Total Revenue</th>\n",
              "      <th>Total Cost</th>\n",
              "      <th>Total Profit</th>\n",
              "      <th>Order Date_year</th>\n",
              "      <th>Order Date_month</th>\n",
              "      <th>Order Date_day</th>\n",
              "      <th>Ship Date_year</th>\n",
              "      <th>Ship Date_month</th>\n",
              "      <th>Ship Date_day</th>\n",
              "    </tr>\n",
              "  </thead>\n",
              "  <tbody>\n",
              "    <tr>\n",
              "      <th>0</th>\n",
              "      <td>Sub-Saharan Africa</td>\n",
              "      <td>Namibia</td>\n",
              "      <td>Household</td>\n",
              "      <td>Offline</td>\n",
              "      <td>M</td>\n",
              "      <td>2015-10-12</td>\n",
              "      <td>3604</td>\n",
              "      <td>668.27</td>\n",
              "      <td>502.54</td>\n",
              "      <td>2408445.08</td>\n",
              "      <td>1811154.16</td>\n",
              "      <td>597290.92</td>\n",
              "      <td>2015</td>\n",
              "      <td>8</td>\n",
              "      <td>31</td>\n",
              "      <td>2015</td>\n",
              "      <td>10</td>\n",
              "      <td>12</td>\n",
              "    </tr>\n",
              "    <tr>\n",
              "      <th>1</th>\n",
              "      <td>Europe</td>\n",
              "      <td>Iceland</td>\n",
              "      <td>Baby Food</td>\n",
              "      <td>Online</td>\n",
              "      <td>H</td>\n",
              "      <td>2011-01-09</td>\n",
              "      <td>8435</td>\n",
              "      <td>255.28</td>\n",
              "      <td>159.42</td>\n",
              "      <td>2153286.80</td>\n",
              "      <td>1344707.70</td>\n",
              "      <td>808579.10</td>\n",
              "      <td>2010</td>\n",
              "      <td>11</td>\n",
              "      <td>20</td>\n",
              "      <td>2011</td>\n",
              "      <td>1</td>\n",
              "      <td>9</td>\n",
              "    </tr>\n",
              "    <tr>\n",
              "      <th>2</th>\n",
              "      <td>Europe</td>\n",
              "      <td>Russia</td>\n",
              "      <td>Meat</td>\n",
              "      <td>Online</td>\n",
              "      <td>L</td>\n",
              "      <td>2017-06-25</td>\n",
              "      <td>4848</td>\n",
              "      <td>421.89</td>\n",
              "      <td>364.69</td>\n",
              "      <td>2045322.72</td>\n",
              "      <td>1768017.12</td>\n",
              "      <td>277305.60</td>\n",
              "      <td>2017</td>\n",
              "      <td>6</td>\n",
              "      <td>22</td>\n",
              "      <td>2017</td>\n",
              "      <td>6</td>\n",
              "      <td>25</td>\n",
              "    </tr>\n",
              "    <tr>\n",
              "      <th>3</th>\n",
              "      <td>Europe</td>\n",
              "      <td>Moldova</td>\n",
              "      <td>Meat</td>\n",
              "      <td>Online</td>\n",
              "      <td>L</td>\n",
              "      <td>2012-03-20</td>\n",
              "      <td>7225</td>\n",
              "      <td>421.89</td>\n",
              "      <td>364.69</td>\n",
              "      <td>3048155.25</td>\n",
              "      <td>2634885.25</td>\n",
              "      <td>413270.00</td>\n",
              "      <td>2012</td>\n",
              "      <td>2</td>\n",
              "      <td>28</td>\n",
              "      <td>2012</td>\n",
              "      <td>3</td>\n",
              "      <td>20</td>\n",
              "    </tr>\n",
              "    <tr>\n",
              "      <th>4</th>\n",
              "      <td>Europe</td>\n",
              "      <td>Malta</td>\n",
              "      <td>Cereal</td>\n",
              "      <td>Online</td>\n",
              "      <td>M</td>\n",
              "      <td>2010-09-13</td>\n",
              "      <td>1975</td>\n",
              "      <td>205.70</td>\n",
              "      <td>117.11</td>\n",
              "      <td>406257.50</td>\n",
              "      <td>231292.25</td>\n",
              "      <td>174965.25</td>\n",
              "      <td>2010</td>\n",
              "      <td>8</td>\n",
              "      <td>12</td>\n",
              "      <td>2010</td>\n",
              "      <td>9</td>\n",
              "      <td>13</td>\n",
              "    </tr>\n",
              "  </tbody>\n",
              "</table>\n",
              "</div>"
            ],
            "text/plain": [
              "               Region   Country  ... Ship Date_month Ship Date_day\n",
              "0  Sub-Saharan Africa   Namibia  ...              10            12\n",
              "1              Europe   Iceland  ...               1             9\n",
              "2              Europe    Russia  ...               6            25\n",
              "3              Europe  Moldova   ...               3            20\n",
              "4              Europe     Malta  ...               9            13\n",
              "\n",
              "[5 rows x 18 columns]"
            ]
          },
          "metadata": {},
          "execution_count": 183
        }
      ]
    },
    {
      "cell_type": "code",
      "metadata": {
        "colab": {
          "base_uri": "https://localhost:8080/",
          "height": 270
        },
        "id": "64HoFMRnFSbO",
        "outputId": "3fc304b9-269a-4f2a-dead-c6f312023081"
      },
      "source": [
        "x.drop('Ship Date',axis=1,inplace=True)\n",
        "x.head()"
      ],
      "execution_count": null,
      "outputs": [
        {
          "output_type": "execute_result",
          "data": {
            "text/html": [
              "<div>\n",
              "<style scoped>\n",
              "    .dataframe tbody tr th:only-of-type {\n",
              "        vertical-align: middle;\n",
              "    }\n",
              "\n",
              "    .dataframe tbody tr th {\n",
              "        vertical-align: top;\n",
              "    }\n",
              "\n",
              "    .dataframe thead th {\n",
              "        text-align: right;\n",
              "    }\n",
              "</style>\n",
              "<table border=\"1\" class=\"dataframe\">\n",
              "  <thead>\n",
              "    <tr style=\"text-align: right;\">\n",
              "      <th></th>\n",
              "      <th>Region</th>\n",
              "      <th>Country</th>\n",
              "      <th>Item Type</th>\n",
              "      <th>Sales Channel</th>\n",
              "      <th>Order Priority</th>\n",
              "      <th>Units Sold</th>\n",
              "      <th>Unit Price</th>\n",
              "      <th>Unit Cost</th>\n",
              "      <th>Total Revenue</th>\n",
              "      <th>Total Cost</th>\n",
              "      <th>Total Profit</th>\n",
              "      <th>Order Date_year</th>\n",
              "      <th>Order Date_month</th>\n",
              "      <th>Order Date_day</th>\n",
              "      <th>Ship Date_year</th>\n",
              "      <th>Ship Date_month</th>\n",
              "      <th>Ship Date_day</th>\n",
              "    </tr>\n",
              "  </thead>\n",
              "  <tbody>\n",
              "    <tr>\n",
              "      <th>0</th>\n",
              "      <td>Sub-Saharan Africa</td>\n",
              "      <td>Namibia</td>\n",
              "      <td>Household</td>\n",
              "      <td>Offline</td>\n",
              "      <td>M</td>\n",
              "      <td>3604</td>\n",
              "      <td>668.27</td>\n",
              "      <td>502.54</td>\n",
              "      <td>2408445.08</td>\n",
              "      <td>1811154.16</td>\n",
              "      <td>597290.92</td>\n",
              "      <td>2015</td>\n",
              "      <td>8</td>\n",
              "      <td>31</td>\n",
              "      <td>2015</td>\n",
              "      <td>10</td>\n",
              "      <td>12</td>\n",
              "    </tr>\n",
              "    <tr>\n",
              "      <th>1</th>\n",
              "      <td>Europe</td>\n",
              "      <td>Iceland</td>\n",
              "      <td>Baby Food</td>\n",
              "      <td>Online</td>\n",
              "      <td>H</td>\n",
              "      <td>8435</td>\n",
              "      <td>255.28</td>\n",
              "      <td>159.42</td>\n",
              "      <td>2153286.80</td>\n",
              "      <td>1344707.70</td>\n",
              "      <td>808579.10</td>\n",
              "      <td>2010</td>\n",
              "      <td>11</td>\n",
              "      <td>20</td>\n",
              "      <td>2011</td>\n",
              "      <td>1</td>\n",
              "      <td>9</td>\n",
              "    </tr>\n",
              "    <tr>\n",
              "      <th>2</th>\n",
              "      <td>Europe</td>\n",
              "      <td>Russia</td>\n",
              "      <td>Meat</td>\n",
              "      <td>Online</td>\n",
              "      <td>L</td>\n",
              "      <td>4848</td>\n",
              "      <td>421.89</td>\n",
              "      <td>364.69</td>\n",
              "      <td>2045322.72</td>\n",
              "      <td>1768017.12</td>\n",
              "      <td>277305.60</td>\n",
              "      <td>2017</td>\n",
              "      <td>6</td>\n",
              "      <td>22</td>\n",
              "      <td>2017</td>\n",
              "      <td>6</td>\n",
              "      <td>25</td>\n",
              "    </tr>\n",
              "    <tr>\n",
              "      <th>3</th>\n",
              "      <td>Europe</td>\n",
              "      <td>Moldova</td>\n",
              "      <td>Meat</td>\n",
              "      <td>Online</td>\n",
              "      <td>L</td>\n",
              "      <td>7225</td>\n",
              "      <td>421.89</td>\n",
              "      <td>364.69</td>\n",
              "      <td>3048155.25</td>\n",
              "      <td>2634885.25</td>\n",
              "      <td>413270.00</td>\n",
              "      <td>2012</td>\n",
              "      <td>2</td>\n",
              "      <td>28</td>\n",
              "      <td>2012</td>\n",
              "      <td>3</td>\n",
              "      <td>20</td>\n",
              "    </tr>\n",
              "    <tr>\n",
              "      <th>4</th>\n",
              "      <td>Europe</td>\n",
              "      <td>Malta</td>\n",
              "      <td>Cereal</td>\n",
              "      <td>Online</td>\n",
              "      <td>M</td>\n",
              "      <td>1975</td>\n",
              "      <td>205.70</td>\n",
              "      <td>117.11</td>\n",
              "      <td>406257.50</td>\n",
              "      <td>231292.25</td>\n",
              "      <td>174965.25</td>\n",
              "      <td>2010</td>\n",
              "      <td>8</td>\n",
              "      <td>12</td>\n",
              "      <td>2010</td>\n",
              "      <td>9</td>\n",
              "      <td>13</td>\n",
              "    </tr>\n",
              "  </tbody>\n",
              "</table>\n",
              "</div>"
            ],
            "text/plain": [
              "               Region   Country  ... Ship Date_month Ship Date_day\n",
              "0  Sub-Saharan Africa   Namibia  ...              10            12\n",
              "1              Europe   Iceland  ...               1             9\n",
              "2              Europe    Russia  ...               6            25\n",
              "3              Europe  Moldova   ...               3            20\n",
              "4              Europe     Malta  ...               9            13\n",
              "\n",
              "[5 rows x 17 columns]"
            ]
          },
          "metadata": {},
          "execution_count": 184
        }
      ]
    },
    {
      "cell_type": "code",
      "metadata": {
        "colab": {
          "base_uri": "https://localhost:8080/",
          "height": 868
        },
        "id": "jfFdKXnIFVqW",
        "outputId": "6e467400-1d1e-4040-a051-2a27e8bf1323"
      },
      "source": [
        "fig=plt.figure(figsize=(20,5))\n",
        "sns.countplot(y='Order Date_day',data=x);\n",
        "print(x['Order Date_day'].value_counts())"
      ],
      "execution_count": null,
      "outputs": [
        {
          "output_type": "stream",
          "name": "stdout",
          "text": [
            "24    1736\n",
            "20    1715\n",
            "28    1713\n",
            "8     1701\n",
            "4     1696\n",
            "14    1691\n",
            "21    1686\n",
            "10    1684\n",
            "18    1679\n",
            "23    1671\n",
            "12    1669\n",
            "1     1664\n",
            "22    1656\n",
            "25    1656\n",
            "19    1646\n",
            "26    1635\n",
            "9     1629\n",
            "7     1628\n",
            "15    1619\n",
            "2     1617\n",
            "16    1616\n",
            "27    1612\n",
            "3     1606\n",
            "11    1600\n",
            "13    1596\n",
            "5     1567\n",
            "6     1566\n",
            "17    1542\n",
            "29    1505\n",
            "30    1482\n",
            "31     917\n",
            "Name: Order Date_day, dtype: int64\n"
          ]
        },
        {
          "output_type": "display_data",
          "data": {
            "image/png": "[encoded data removed]",
            "text/plain": [
              "<Figure size 1440x360 with 1 Axes>"
            ]
          },
          "metadata": {}
        }
      ]
    },
    {
      "cell_type": "code",
      "metadata": {
        "colab": {
          "base_uri": "https://localhost:8080/",
          "height": 549
        },
        "id": "DHXEaowpFXUB",
        "outputId": "c502acc0-85d0-4bc5-9b3a-a6d53d885a8e"
      },
      "source": [
        "fig=plt.figure(figsize=(20,5))\n",
        "sns.countplot(y='Order Date_month',data=x);\n",
        "print(x['Order Date_month'].value_counts())"
      ],
      "execution_count": null,
      "outputs": [
        {
          "output_type": "stream",
          "name": "stdout",
          "text": [
            "5     4571\n",
            "1     4408\n",
            "3     4354\n",
            "7     4341\n",
            "6     4311\n",
            "4     4277\n",
            "2     4136\n",
            "12    3992\n",
            "10    3948\n",
            "8     3935\n",
            "11    3906\n",
            "9     3821\n",
            "Name: Order Date_month, dtype: int64\n"
          ]
        },
        {
          "output_type": "display_data",
          "data": {
            "image/png": "[encoded data removed]",
            "text/plain": [
              "<Figure size 1440x360 with 1 Axes>"
            ]
          },
          "metadata": {}
        }
      ]
    },
    {
      "cell_type": "code",
      "metadata": {
        "colab": {
          "base_uri": "https://localhost:8080/",
          "height": 482
        },
        "id": "28LvmZf3FZdR",
        "outputId": "efbcae61-7425-4c30-9c92-e5059fe9dbb7"
      },
      "source": [
        "fig=plt.figure(figsize=(20,5))\n",
        "sns.countplot(y='Order Date_year',data=x);\n",
        "print(x['Order Date_year'].value_counts())"
      ],
      "execution_count": null,
      "outputs": [
        {
          "output_type": "stream",
          "name": "stdout",
          "text": [
            "2011    6757\n",
            "2012    6634\n",
            "2014    6596\n",
            "2010    6594\n",
            "2015    6570\n",
            "2016    6551\n",
            "2013    6523\n",
            "2017    3775\n",
            "Name: Order Date_year, dtype: int64\n"
          ]
        },
        {
          "output_type": "display_data",
          "data": {
            "image/png": "[encoded data removed]",
            "text/plain": [
              "<Figure size 1440x360 with 1 Axes>"
            ]
          },
          "metadata": {}
        }
      ]
    },
    {
      "cell_type": "code",
      "metadata": {
        "colab": {
          "base_uri": "https://localhost:8080/",
          "height": 868
        },
        "id": "ovsuzllfFbiA",
        "outputId": "11d36471-4c15-42ec-fb78-b5c9b1f43942"
      },
      "source": [
        "fig=plt.figure(figsize=(20,5))\n",
        "sns.countplot(y='Ship Date_day',data=x);\n",
        "print(x['Ship Date_day'].value_counts())"
      ],
      "execution_count": null,
      "outputs": [
        {
          "output_type": "stream",
          "name": "stdout",
          "text": [
            "5     1718\n",
            "6     1705\n",
            "10    1698\n",
            "12    1697\n",
            "15    1696\n",
            "28    1685\n",
            "7     1670\n",
            "23    1662\n",
            "16    1658\n",
            "22    1652\n",
            "24    1651\n",
            "18    1651\n",
            "17    1646\n",
            "9     1645\n",
            "27    1643\n",
            "14    1642\n",
            "2     1642\n",
            "11    1640\n",
            "4     1639\n",
            "21    1636\n",
            "8     1628\n",
            "1     1616\n",
            "26    1608\n",
            "3     1606\n",
            "19    1604\n",
            "13    1598\n",
            "25    1598\n",
            "20    1575\n",
            "29    1504\n",
            "30    1450\n",
            "31     937\n",
            "Name: Ship Date_day, dtype: int64\n"
          ]
        },
        {
          "output_type": "display_data",
          "data": {
            "image/png": "[encoded data removed]",
            "text/plain": [
              "<Figure size 1440x360 with 1 Axes>"
            ]
          },
          "metadata": {}
        }
      ]
    },
    {
      "cell_type": "code",
      "metadata": {
        "colab": {
          "base_uri": "https://localhost:8080/",
          "height": 549
        },
        "id": "A5kvmsy7FeHQ",
        "outputId": "da086336-c646-4dda-f16a-bfeac54e4417"
      },
      "source": [
        "fig=plt.figure(figsize=(20,5))\n",
        "sns.countplot(y='Ship Date_month',data=x);\n",
        "print(x['Ship Date_month'].value_counts())"
      ],
      "execution_count": null,
      "outputs": [
        {
          "output_type": "stream",
          "name": "stdout",
          "text": [
            "3     4515\n",
            "5     4461\n",
            "7     4435\n",
            "6     4362\n",
            "8     4266\n",
            "4     4246\n",
            "1     4206\n",
            "10    3933\n",
            "12    3927\n",
            "2     3913\n",
            "9     3869\n",
            "11    3867\n",
            "Name: Ship Date_month, dtype: int64\n"
          ]
        },
        {
          "output_type": "display_data",
          "data": {
            "image/png": "[encoded data removed]",
            "text/plain": [
              "<Figure size 1440x360 with 1 Axes>"
            ]
          },
          "metadata": {}
        }
      ]
    },
    {
      "cell_type": "code",
      "metadata": {
        "colab": {
          "base_uri": "https://localhost:8080/",
          "height": 482
        },
        "id": "jo3eiMhEFgY-",
        "outputId": "05fcb3d1-2149-4f8f-eff6-6dcb0e60d944"
      },
      "source": [
        "fig=plt.figure(figsize=(20,5))\n",
        "sns.countplot(y='Ship Date_year',data=x);\n",
        "print(x['Ship Date_year'].value_counts())"
      ],
      "execution_count": null,
      "outputs": [
        {
          "output_type": "stream",
          "name": "stdout",
          "text": [
            "2011    6787\n",
            "2012    6620\n",
            "2016    6611\n",
            "2014    6581\n",
            "2013    6547\n",
            "2015    6522\n",
            "2010    6107\n",
            "2017    4225\n",
            "Name: Ship Date_year, dtype: int64\n"
          ]
        },
        {
          "output_type": "display_data",
          "data": {
            "image/png": "[encoded data removed]",
            "text/plain": [
              "<Figure size 1440x360 with 1 Axes>"
            ]
          },
          "metadata": {}
        }
      ]
    },
    {
      "cell_type": "code",
      "metadata": {
        "colab": {
          "base_uri": "https://localhost:8080/",
          "height": 270
        },
        "id": "tmCyq_OhFiLW",
        "outputId": "c7a5e71c-adc8-4d4f-a7a9-ecfa981d8972"
      },
      "source": [
        "Order_Priority_dict = {'L':1, 'M':2, 'H':3, 'C':4}\n",
        "x['Order Priority'] = x['Order Priority'].map(Order_Priority_dict)\n",
        "x.head()"
      ],
      "execution_count": null,
      "outputs": [
        {
          "output_type": "execute_result",
          "data": {
            "text/html": [
              "<div>\n",
              "<style scoped>\n",
              "    .dataframe tbody tr th:only-of-type {\n",
              "        vertical-align: middle;\n",
              "    }\n",
              "\n",
              "    .dataframe tbody tr th {\n",
              "        vertical-align: top;\n",
              "    }\n",
              "\n",
              "    .dataframe thead th {\n",
              "        text-align: right;\n",
              "    }\n",
              "</style>\n",
              "<table border=\"1\" class=\"dataframe\">\n",
              "  <thead>\n",
              "    <tr style=\"text-align: right;\">\n",
              "      <th></th>\n",
              "      <th>Region</th>\n",
              "      <th>Country</th>\n",
              "      <th>Item Type</th>\n",
              "      <th>Sales Channel</th>\n",
              "      <th>Order Priority</th>\n",
              "      <th>Units Sold</th>\n",
              "      <th>Unit Price</th>\n",
              "      <th>Unit Cost</th>\n",
              "      <th>Total Revenue</th>\n",
              "      <th>Total Cost</th>\n",
              "      <th>Total Profit</th>\n",
              "      <th>Order Date_year</th>\n",
              "      <th>Order Date_month</th>\n",
              "      <th>Order Date_day</th>\n",
              "      <th>Ship Date_year</th>\n",
              "      <th>Ship Date_month</th>\n",
              "      <th>Ship Date_day</th>\n",
              "    </tr>\n",
              "  </thead>\n",
              "  <tbody>\n",
              "    <tr>\n",
              "      <th>0</th>\n",
              "      <td>Sub-Saharan Africa</td>\n",
              "      <td>Namibia</td>\n",
              "      <td>Household</td>\n",
              "      <td>Offline</td>\n",
              "      <td>2</td>\n",
              "      <td>3604</td>\n",
              "      <td>668.27</td>\n",
              "      <td>502.54</td>\n",
              "      <td>2408445.08</td>\n",
              "      <td>1811154.16</td>\n",
              "      <td>597290.92</td>\n",
              "      <td>2015</td>\n",
              "      <td>8</td>\n",
              "      <td>31</td>\n",
              "      <td>2015</td>\n",
              "      <td>10</td>\n",
              "      <td>12</td>\n",
              "    </tr>\n",
              "    <tr>\n",
              "      <th>1</th>\n",
              "      <td>Europe</td>\n",
              "      <td>Iceland</td>\n",
              "      <td>Baby Food</td>\n",
              "      <td>Online</td>\n",
              "      <td>3</td>\n",
              "      <td>8435</td>\n",
              "      <td>255.28</td>\n",
              "      <td>159.42</td>\n",
              "      <td>2153286.80</td>\n",
              "      <td>1344707.70</td>\n",
              "      <td>808579.10</td>\n",
              "      <td>2010</td>\n",
              "      <td>11</td>\n",
              "      <td>20</td>\n",
              "      <td>2011</td>\n",
              "      <td>1</td>\n",
              "      <td>9</td>\n",
              "    </tr>\n",
              "    <tr>\n",
              "      <th>2</th>\n",
              "      <td>Europe</td>\n",
              "      <td>Russia</td>\n",
              "      <td>Meat</td>\n",
              "      <td>Online</td>\n",
              "      <td>1</td>\n",
              "      <td>4848</td>\n",
              "      <td>421.89</td>\n",
              "      <td>364.69</td>\n",
              "      <td>2045322.72</td>\n",
              "      <td>1768017.12</td>\n",
              "      <td>277305.60</td>\n",
              "      <td>2017</td>\n",
              "      <td>6</td>\n",
              "      <td>22</td>\n",
              "      <td>2017</td>\n",
              "      <td>6</td>\n",
              "      <td>25</td>\n",
              "    </tr>\n",
              "    <tr>\n",
              "      <th>3</th>\n",
              "      <td>Europe</td>\n",
              "      <td>Moldova</td>\n",
              "      <td>Meat</td>\n",
              "      <td>Online</td>\n",
              "      <td>1</td>\n",
              "      <td>7225</td>\n",
              "      <td>421.89</td>\n",
              "      <td>364.69</td>\n",
              "      <td>3048155.25</td>\n",
              "      <td>2634885.25</td>\n",
              "      <td>413270.00</td>\n",
              "      <td>2012</td>\n",
              "      <td>2</td>\n",
              "      <td>28</td>\n",
              "      <td>2012</td>\n",
              "      <td>3</td>\n",
              "      <td>20</td>\n",
              "    </tr>\n",
              "    <tr>\n",
              "      <th>4</th>\n",
              "      <td>Europe</td>\n",
              "      <td>Malta</td>\n",
              "      <td>Cereal</td>\n",
              "      <td>Online</td>\n",
              "      <td>2</td>\n",
              "      <td>1975</td>\n",
              "      <td>205.70</td>\n",
              "      <td>117.11</td>\n",
              "      <td>406257.50</td>\n",
              "      <td>231292.25</td>\n",
              "      <td>174965.25</td>\n",
              "      <td>2010</td>\n",
              "      <td>8</td>\n",
              "      <td>12</td>\n",
              "      <td>2010</td>\n",
              "      <td>9</td>\n",
              "      <td>13</td>\n",
              "    </tr>\n",
              "  </tbody>\n",
              "</table>\n",
              "</div>"
            ],
            "text/plain": [
              "               Region   Country  ... Ship Date_month Ship Date_day\n",
              "0  Sub-Saharan Africa   Namibia  ...              10            12\n",
              "1              Europe   Iceland  ...               1             9\n",
              "2              Europe    Russia  ...               6            25\n",
              "3              Europe  Moldova   ...               3            20\n",
              "4              Europe     Malta  ...               9            13\n",
              "\n",
              "[5 rows x 17 columns]"
            ]
          },
          "metadata": {},
          "execution_count": 191
        }
      ]
    },
    {
      "cell_type": "code",
      "metadata": {
        "colab": {
          "base_uri": "https://localhost:8080/"
        },
        "id": "zUHiyhaiFj8a",
        "outputId": "a5557fcc-acb9-4bad-cc0e-b50722bc239b"
      },
      "source": [
        "x['Item Type'].value_counts()"
      ],
      "execution_count": null,
      "outputs": [
        {
          "output_type": "execute_result",
          "data": {
            "text/plain": [
              "Fruits             4221\n",
              "Meat               4221\n",
              "Cosmetics          4193\n",
              "Vegetables         4191\n",
              "Personal Care      4186\n",
              "Beverages          4173\n",
              "Snacks             4163\n",
              "Clothes            4155\n",
              "Cereal             4141\n",
              "Household          4139\n",
              "Office Supplies    4139\n",
              "Baby Food          4078\n",
              "Name: Item Type, dtype: int64"
            ]
          },
          "metadata": {},
          "execution_count": 192
        }
      ]
    },
    {
      "cell_type": "code",
      "metadata": {
        "colab": {
          "base_uri": "https://localhost:8080/",
          "height": 254
        },
        "id": "zUwzPkQ3Flry",
        "outputId": "9fc61a68-bca0-4b40-d5f7-7dc1788f703d"
      },
      "source": [
        "Item_Type_dict = {'Meat':1,'Fruits':2,'Cosmetics':3,'Vegetables':4,'Personal Care':5,'Beverages':6,'Snacks':7,\n",
        "                 'Clothes':8, 'Cereal':9, 'Household':0, 'Office Supplies':10 , 'Baby Food':11}\n",
        "x['Item Type'] = x['Item Type'].map(Item_Type_dict)\n",
        "x.head()"
      ],
      "execution_count": null,
      "outputs": [
        {
          "output_type": "execute_result",
          "data": {
            "text/html": [
              "<div>\n",
              "<style scoped>\n",
              "    .dataframe tbody tr th:only-of-type {\n",
              "        vertical-align: middle;\n",
              "    }\n",
              "\n",
              "    .dataframe tbody tr th {\n",
              "        vertical-align: top;\n",
              "    }\n",
              "\n",
              "    .dataframe thead th {\n",
              "        text-align: right;\n",
              "    }\n",
              "</style>\n",
              "<table border=\"1\" class=\"dataframe\">\n",
              "  <thead>\n",
              "    <tr style=\"text-align: right;\">\n",
              "      <th></th>\n",
              "      <th>Region</th>\n",
              "      <th>Country</th>\n",
              "      <th>Item Type</th>\n",
              "      <th>Sales Channel</th>\n",
              "      <th>Order Priority</th>\n",
              "      <th>Units Sold</th>\n",
              "      <th>Unit Price</th>\n",
              "      <th>Unit Cost</th>\n",
              "      <th>Total Revenue</th>\n",
              "      <th>Total Cost</th>\n",
              "      <th>Total Profit</th>\n",
              "      <th>Order Date_year</th>\n",
              "      <th>Order Date_month</th>\n",
              "      <th>Order Date_day</th>\n",
              "      <th>Ship Date_year</th>\n",
              "      <th>Ship Date_month</th>\n",
              "      <th>Ship Date_day</th>\n",
              "    </tr>\n",
              "  </thead>\n",
              "  <tbody>\n",
              "    <tr>\n",
              "      <th>0</th>\n",
              "      <td>Sub-Saharan Africa</td>\n",
              "      <td>Namibia</td>\n",
              "      <td>0</td>\n",
              "      <td>Offline</td>\n",
              "      <td>2</td>\n",
              "      <td>3604</td>\n",
              "      <td>668.27</td>\n",
              "      <td>502.54</td>\n",
              "      <td>2408445.08</td>\n",
              "      <td>1811154.16</td>\n",
              "      <td>597290.92</td>\n",
              "      <td>2015</td>\n",
              "      <td>8</td>\n",
              "      <td>31</td>\n",
              "      <td>2015</td>\n",
              "      <td>10</td>\n",
              "      <td>12</td>\n",
              "    </tr>\n",
              "    <tr>\n",
              "      <th>1</th>\n",
              "      <td>Europe</td>\n",
              "      <td>Iceland</td>\n",
              "      <td>11</td>\n",
              "      <td>Online</td>\n",
              "      <td>3</td>\n",
              "      <td>8435</td>\n",
              "      <td>255.28</td>\n",
              "      <td>159.42</td>\n",
              "      <td>2153286.80</td>\n",
              "      <td>1344707.70</td>\n",
              "      <td>808579.10</td>\n",
              "      <td>2010</td>\n",
              "      <td>11</td>\n",
              "      <td>20</td>\n",
              "      <td>2011</td>\n",
              "      <td>1</td>\n",
              "      <td>9</td>\n",
              "    </tr>\n",
              "    <tr>\n",
              "      <th>2</th>\n",
              "      <td>Europe</td>\n",
              "      <td>Russia</td>\n",
              "      <td>1</td>\n",
              "      <td>Online</td>\n",
              "      <td>1</td>\n",
              "      <td>4848</td>\n",
              "      <td>421.89</td>\n",
              "      <td>364.69</td>\n",
              "      <td>2045322.72</td>\n",
              "      <td>1768017.12</td>\n",
              "      <td>277305.60</td>\n",
              "      <td>2017</td>\n",
              "      <td>6</td>\n",
              "      <td>22</td>\n",
              "      <td>2017</td>\n",
              "      <td>6</td>\n",
              "      <td>25</td>\n",
              "    </tr>\n",
              "    <tr>\n",
              "      <th>3</th>\n",
              "      <td>Europe</td>\n",
              "      <td>Moldova</td>\n",
              "      <td>1</td>\n",
              "      <td>Online</td>\n",
              "      <td>1</td>\n",
              "      <td>7225</td>\n",
              "      <td>421.89</td>\n",
              "      <td>364.69</td>\n",
              "      <td>3048155.25</td>\n",
              "      <td>2634885.25</td>\n",
              "      <td>413270.00</td>\n",
              "      <td>2012</td>\n",
              "      <td>2</td>\n",
              "      <td>28</td>\n",
              "      <td>2012</td>\n",
              "      <td>3</td>\n",
              "      <td>20</td>\n",
              "    </tr>\n",
              "    <tr>\n",
              "      <th>4</th>\n",
              "      <td>Europe</td>\n",
              "      <td>Malta</td>\n",
              "      <td>9</td>\n",
              "      <td>Online</td>\n",
              "      <td>2</td>\n",
              "      <td>1975</td>\n",
              "      <td>205.70</td>\n",
              "      <td>117.11</td>\n",
              "      <td>406257.50</td>\n",
              "      <td>231292.25</td>\n",
              "      <td>174965.25</td>\n",
              "      <td>2010</td>\n",
              "      <td>8</td>\n",
              "      <td>12</td>\n",
              "      <td>2010</td>\n",
              "      <td>9</td>\n",
              "      <td>13</td>\n",
              "    </tr>\n",
              "  </tbody>\n",
              "</table>\n",
              "</div>"
            ],
            "text/plain": [
              "               Region   Country  ...  Ship Date_month Ship Date_day\n",
              "0  Sub-Saharan Africa   Namibia  ...               10            12\n",
              "1              Europe   Iceland  ...                1             9\n",
              "2              Europe    Russia  ...                6            25\n",
              "3              Europe  Moldova   ...                3            20\n",
              "4              Europe     Malta  ...                9            13\n",
              "\n",
              "[5 rows x 17 columns]"
            ]
          },
          "metadata": {},
          "execution_count": 193
        }
      ]
    },
    {
      "cell_type": "code",
      "metadata": {
        "colab": {
          "base_uri": "https://localhost:8080/"
        },
        "id": "FVXDVkVpFqSb",
        "outputId": "e6f518ac-3fdc-4c4d-b73d-e2d513b16f89"
      },
      "source": [
        "x['Sales Channel'].value_counts()"
      ],
      "execution_count": null,
      "outputs": [
        {
          "output_type": "execute_result",
          "data": {
            "text/plain": [
              "Online     25034\n",
              "Offline    24966\n",
              "Name: Sales Channel, dtype: int64"
            ]
          },
          "metadata": {},
          "execution_count": 194
        }
      ]
    },
    {
      "cell_type": "code",
      "metadata": {
        "colab": {
          "base_uri": "https://localhost:8080/",
          "height": 254
        },
        "id": "mk8NxrfFFsXx",
        "outputId": "829de938-2285-4370-dac5-e18bdc8a4d23"
      },
      "source": [
        "Sales_Channel_dict = {'Online':1 , 'Offline':0}\n",
        "x['Sales Channel'] = x['Sales Channel'].map(Sales_Channel_dict)\n",
        "x.head()"
      ],
      "execution_count": null,
      "outputs": [
        {
          "output_type": "execute_result",
          "data": {
            "text/html": [
              "<div>\n",
              "<style scoped>\n",
              "    .dataframe tbody tr th:only-of-type {\n",
              "        vertical-align: middle;\n",
              "    }\n",
              "\n",
              "    .dataframe tbody tr th {\n",
              "        vertical-align: top;\n",
              "    }\n",
              "\n",
              "    .dataframe thead th {\n",
              "        text-align: right;\n",
              "    }\n",
              "</style>\n",
              "<table border=\"1\" class=\"dataframe\">\n",
              "  <thead>\n",
              "    <tr style=\"text-align: right;\">\n",
              "      <th></th>\n",
              "      <th>Region</th>\n",
              "      <th>Country</th>\n",
              "      <th>Item Type</th>\n",
              "      <th>Sales Channel</th>\n",
              "      <th>Order Priority</th>\n",
              "      <th>Units Sold</th>\n",
              "      <th>Unit Price</th>\n",
              "      <th>Unit Cost</th>\n",
              "      <th>Total Revenue</th>\n",
              "      <th>Total Cost</th>\n",
              "      <th>Total Profit</th>\n",
              "      <th>Order Date_year</th>\n",
              "      <th>Order Date_month</th>\n",
              "      <th>Order Date_day</th>\n",
              "      <th>Ship Date_year</th>\n",
              "      <th>Ship Date_month</th>\n",
              "      <th>Ship Date_day</th>\n",
              "    </tr>\n",
              "  </thead>\n",
              "  <tbody>\n",
              "    <tr>\n",
              "      <th>0</th>\n",
              "      <td>Sub-Saharan Africa</td>\n",
              "      <td>Namibia</td>\n",
              "      <td>0</td>\n",
              "      <td>0</td>\n",
              "      <td>2</td>\n",
              "      <td>3604</td>\n",
              "      <td>668.27</td>\n",
              "      <td>502.54</td>\n",
              "      <td>2408445.08</td>\n",
              "      <td>1811154.16</td>\n",
              "      <td>597290.92</td>\n",
              "      <td>2015</td>\n",
              "      <td>8</td>\n",
              "      <td>31</td>\n",
              "      <td>2015</td>\n",
              "      <td>10</td>\n",
              "      <td>12</td>\n",
              "    </tr>\n",
              "    <tr>\n",
              "      <th>1</th>\n",
              "      <td>Europe</td>\n",
              "      <td>Iceland</td>\n",
              "      <td>11</td>\n",
              "      <td>1</td>\n",
              "      <td>3</td>\n",
              "      <td>8435</td>\n",
              "      <td>255.28</td>\n",
              "      <td>159.42</td>\n",
              "      <td>2153286.80</td>\n",
              "      <td>1344707.70</td>\n",
              "      <td>808579.10</td>\n",
              "      <td>2010</td>\n",
              "      <td>11</td>\n",
              "      <td>20</td>\n",
              "      <td>2011</td>\n",
              "      <td>1</td>\n",
              "      <td>9</td>\n",
              "    </tr>\n",
              "    <tr>\n",
              "      <th>2</th>\n",
              "      <td>Europe</td>\n",
              "      <td>Russia</td>\n",
              "      <td>1</td>\n",
              "      <td>1</td>\n",
              "      <td>1</td>\n",
              "      <td>4848</td>\n",
              "      <td>421.89</td>\n",
              "      <td>364.69</td>\n",
              "      <td>2045322.72</td>\n",
              "      <td>1768017.12</td>\n",
              "      <td>277305.60</td>\n",
              "      <td>2017</td>\n",
              "      <td>6</td>\n",
              "      <td>22</td>\n",
              "      <td>2017</td>\n",
              "      <td>6</td>\n",
              "      <td>25</td>\n",
              "    </tr>\n",
              "    <tr>\n",
              "      <th>3</th>\n",
              "      <td>Europe</td>\n",
              "      <td>Moldova</td>\n",
              "      <td>1</td>\n",
              "      <td>1</td>\n",
              "      <td>1</td>\n",
              "      <td>7225</td>\n",
              "      <td>421.89</td>\n",
              "      <td>364.69</td>\n",
              "      <td>3048155.25</td>\n",
              "      <td>2634885.25</td>\n",
              "      <td>413270.00</td>\n",
              "      <td>2012</td>\n",
              "      <td>2</td>\n",
              "      <td>28</td>\n",
              "      <td>2012</td>\n",
              "      <td>3</td>\n",
              "      <td>20</td>\n",
              "    </tr>\n",
              "    <tr>\n",
              "      <th>4</th>\n",
              "      <td>Europe</td>\n",
              "      <td>Malta</td>\n",
              "      <td>9</td>\n",
              "      <td>1</td>\n",
              "      <td>2</td>\n",
              "      <td>1975</td>\n",
              "      <td>205.70</td>\n",
              "      <td>117.11</td>\n",
              "      <td>406257.50</td>\n",
              "      <td>231292.25</td>\n",
              "      <td>174965.25</td>\n",
              "      <td>2010</td>\n",
              "      <td>8</td>\n",
              "      <td>12</td>\n",
              "      <td>2010</td>\n",
              "      <td>9</td>\n",
              "      <td>13</td>\n",
              "    </tr>\n",
              "  </tbody>\n",
              "</table>\n",
              "</div>"
            ],
            "text/plain": [
              "               Region   Country  ...  Ship Date_month  Ship Date_day\n",
              "0  Sub-Saharan Africa   Namibia  ...               10             12\n",
              "1              Europe   Iceland  ...                1              9\n",
              "2              Europe    Russia  ...                6             25\n",
              "3              Europe  Moldova   ...                3             20\n",
              "4              Europe     Malta  ...                9             13\n",
              "\n",
              "[5 rows x 17 columns]"
            ]
          },
          "metadata": {},
          "execution_count": 195
        }
      ]
    },
    {
      "cell_type": "code",
      "metadata": {
        "colab": {
          "base_uri": "https://localhost:8080/"
        },
        "id": "BUIwaNqXFxxS",
        "outputId": "a40674cd-4104-4749-9103-3c461a2f24aa"
      },
      "source": [
        "x['Region'].value_counts()"
      ],
      "execution_count": null,
      "outputs": [
        {
          "output_type": "execute_result",
          "data": {
            "text/plain": [
              "Sub-Saharan Africa                   13116\n",
              "Europe                               12841\n",
              "Asia                                  7348\n",
              "Middle East and North Africa          6128\n",
              "Central America and the Caribbean     5451\n",
              "Australia and Oceania                 4017\n",
              "North America                         1099\n",
              "Name: Region, dtype: int64"
            ]
          },
          "metadata": {},
          "execution_count": 196
        }
      ]
    },
    {
      "cell_type": "code",
      "metadata": {
        "id": "4G4o3O18F0Ko"
      },
      "source": [
        "Region_dict = {'Sub-Saharan Africa':0,'Europe':1,'Asia':2,'Middle East and North Africa':3,\n",
        "              'Central America and the Caribbean':4,'Australia and Oceania':5,'North America':6}\n",
        "x['Region'] = x['Region'].map(Region_dict)"
      ],
      "execution_count": null,
      "outputs": []
    },
    {
      "cell_type": "code",
      "metadata": {
        "colab": {
          "base_uri": "https://localhost:8080/",
          "height": 220
        },
        "id": "VMCLNe7YF2RK",
        "outputId": "9ee0e999-2a82-42af-d8db-4a7914b79a92"
      },
      "source": [
        "x.head()"
      ],
      "execution_count": null,
      "outputs": [
        {
          "output_type": "execute_result",
          "data": {
            "text/html": [
              "<div>\n",
              "<style scoped>\n",
              "    .dataframe tbody tr th:only-of-type {\n",
              "        vertical-align: middle;\n",
              "    }\n",
              "\n",
              "    .dataframe tbody tr th {\n",
              "        vertical-align: top;\n",
              "    }\n",
              "\n",
              "    .dataframe thead th {\n",
              "        text-align: right;\n",
              "    }\n",
              "</style>\n",
              "<table border=\"1\" class=\"dataframe\">\n",
              "  <thead>\n",
              "    <tr style=\"text-align: right;\">\n",
              "      <th></th>\n",
              "      <th>Region</th>\n",
              "      <th>Country</th>\n",
              "      <th>Item Type</th>\n",
              "      <th>Sales Channel</th>\n",
              "      <th>Order Priority</th>\n",
              "      <th>Units Sold</th>\n",
              "      <th>Unit Price</th>\n",
              "      <th>Unit Cost</th>\n",
              "      <th>Total Revenue</th>\n",
              "      <th>Total Cost</th>\n",
              "      <th>Total Profit</th>\n",
              "      <th>Order Date_year</th>\n",
              "      <th>Order Date_month</th>\n",
              "      <th>Order Date_day</th>\n",
              "      <th>Ship Date_year</th>\n",
              "      <th>Ship Date_month</th>\n",
              "      <th>Ship Date_day</th>\n",
              "    </tr>\n",
              "  </thead>\n",
              "  <tbody>\n",
              "    <tr>\n",
              "      <th>0</th>\n",
              "      <td>0</td>\n",
              "      <td>Namibia</td>\n",
              "      <td>0</td>\n",
              "      <td>0</td>\n",
              "      <td>2</td>\n",
              "      <td>3604</td>\n",
              "      <td>668.27</td>\n",
              "      <td>502.54</td>\n",
              "      <td>2408445.08</td>\n",
              "      <td>1811154.16</td>\n",
              "      <td>597290.92</td>\n",
              "      <td>2015</td>\n",
              "      <td>8</td>\n",
              "      <td>31</td>\n",
              "      <td>2015</td>\n",
              "      <td>10</td>\n",
              "      <td>12</td>\n",
              "    </tr>\n",
              "    <tr>\n",
              "      <th>1</th>\n",
              "      <td>1</td>\n",
              "      <td>Iceland</td>\n",
              "      <td>11</td>\n",
              "      <td>1</td>\n",
              "      <td>3</td>\n",
              "      <td>8435</td>\n",
              "      <td>255.28</td>\n",
              "      <td>159.42</td>\n",
              "      <td>2153286.80</td>\n",
              "      <td>1344707.70</td>\n",
              "      <td>808579.10</td>\n",
              "      <td>2010</td>\n",
              "      <td>11</td>\n",
              "      <td>20</td>\n",
              "      <td>2011</td>\n",
              "      <td>1</td>\n",
              "      <td>9</td>\n",
              "    </tr>\n",
              "    <tr>\n",
              "      <th>2</th>\n",
              "      <td>1</td>\n",
              "      <td>Russia</td>\n",
              "      <td>1</td>\n",
              "      <td>1</td>\n",
              "      <td>1</td>\n",
              "      <td>4848</td>\n",
              "      <td>421.89</td>\n",
              "      <td>364.69</td>\n",
              "      <td>2045322.72</td>\n",
              "      <td>1768017.12</td>\n",
              "      <td>277305.60</td>\n",
              "      <td>2017</td>\n",
              "      <td>6</td>\n",
              "      <td>22</td>\n",
              "      <td>2017</td>\n",
              "      <td>6</td>\n",
              "      <td>25</td>\n",
              "    </tr>\n",
              "    <tr>\n",
              "      <th>3</th>\n",
              "      <td>1</td>\n",
              "      <td>Moldova</td>\n",
              "      <td>1</td>\n",
              "      <td>1</td>\n",
              "      <td>1</td>\n",
              "      <td>7225</td>\n",
              "      <td>421.89</td>\n",
              "      <td>364.69</td>\n",
              "      <td>3048155.25</td>\n",
              "      <td>2634885.25</td>\n",
              "      <td>413270.00</td>\n",
              "      <td>2012</td>\n",
              "      <td>2</td>\n",
              "      <td>28</td>\n",
              "      <td>2012</td>\n",
              "      <td>3</td>\n",
              "      <td>20</td>\n",
              "    </tr>\n",
              "    <tr>\n",
              "      <th>4</th>\n",
              "      <td>1</td>\n",
              "      <td>Malta</td>\n",
              "      <td>9</td>\n",
              "      <td>1</td>\n",
              "      <td>2</td>\n",
              "      <td>1975</td>\n",
              "      <td>205.70</td>\n",
              "      <td>117.11</td>\n",
              "      <td>406257.50</td>\n",
              "      <td>231292.25</td>\n",
              "      <td>174965.25</td>\n",
              "      <td>2010</td>\n",
              "      <td>8</td>\n",
              "      <td>12</td>\n",
              "      <td>2010</td>\n",
              "      <td>9</td>\n",
              "      <td>13</td>\n",
              "    </tr>\n",
              "  </tbody>\n",
              "</table>\n",
              "</div>"
            ],
            "text/plain": [
              "   Region   Country  Item Type  ...  Ship Date_year  Ship Date_month  Ship Date_day\n",
              "0       0   Namibia          0  ...            2015               10             12\n",
              "1       1   Iceland         11  ...            2011                1              9\n",
              "2       1    Russia          1  ...            2017                6             25\n",
              "3       1  Moldova           1  ...            2012                3             20\n",
              "4       1     Malta          9  ...            2010                9             13\n",
              "\n",
              "[5 rows x 17 columns]"
            ]
          },
          "metadata": {},
          "execution_count": 198
        }
      ]
    },
    {
      "cell_type": "code",
      "metadata": {
        "colab": {
          "base_uri": "https://localhost:8080/"
        },
        "id": "YR0XNVShF40g",
        "outputId": "4153f0d8-0727-4daa-f76a-48b0d707cc4c"
      },
      "source": [
        "x['Country'].value_counts()"
      ],
      "execution_count": null,
      "outputs": [
        {
          "output_type": "execute_result",
          "data": {
            "text/plain": [
              "Trinidad and Tobago    321\n",
              "Guinea                 318\n",
              "Cape Verde             315\n",
              "Maldives               311\n",
              "Finland                310\n",
              "                      ... \n",
              "Yemen                  238\n",
              "Iran                   238\n",
              "Armenia                237\n",
              "Monaco                 236\n",
              "Malawi                 233\n",
              "Name: Country, Length: 185, dtype: int64"
            ]
          },
          "metadata": {},
          "execution_count": 199
        }
      ]
    },
    {
      "cell_type": "code",
      "metadata": {
        "colab": {
          "base_uri": "https://localhost:8080/",
          "height": 220
        },
        "id": "_qFVJdUCF5ci",
        "outputId": "d9f669d6-c563-40c7-9abc-ffc01a437a55"
      },
      "source": [
        "# Import label encoder \n",
        "from sklearn import preprocessing   \n",
        "# label_encoder object knows how to understand word labels. \n",
        "label_encoder = preprocessing.LabelEncoder()   \n",
        "# Encode labels in column 'Country'. \n",
        "x['Country']= label_encoder.fit_transform(x['Country'])\n",
        "x.head()"
      ],
      "execution_count": null,
      "outputs": [
        {
          "output_type": "execute_result",
          "data": {
            "text/html": [
              "<div>\n",
              "<style scoped>\n",
              "    .dataframe tbody tr th:only-of-type {\n",
              "        vertical-align: middle;\n",
              "    }\n",
              "\n",
              "    .dataframe tbody tr th {\n",
              "        vertical-align: top;\n",
              "    }\n",
              "\n",
              "    .dataframe thead th {\n",
              "        text-align: right;\n",
              "    }\n",
              "</style>\n",
              "<table border=\"1\" class=\"dataframe\">\n",
              "  <thead>\n",
              "    <tr style=\"text-align: right;\">\n",
              "      <th></th>\n",
              "      <th>Region</th>\n",
              "      <th>Country</th>\n",
              "      <th>Item Type</th>\n",
              "      <th>Sales Channel</th>\n",
              "      <th>Order Priority</th>\n",
              "      <th>Units Sold</th>\n",
              "      <th>Unit Price</th>\n",
              "      <th>Unit Cost</th>\n",
              "      <th>Total Revenue</th>\n",
              "      <th>Total Cost</th>\n",
              "      <th>Total Profit</th>\n",
              "      <th>Order Date_year</th>\n",
              "      <th>Order Date_month</th>\n",
              "      <th>Order Date_day</th>\n",
              "      <th>Ship Date_year</th>\n",
              "      <th>Ship Date_month</th>\n",
              "      <th>Ship Date_day</th>\n",
              "    </tr>\n",
              "  </thead>\n",
              "  <tbody>\n",
              "    <tr>\n",
              "      <th>0</th>\n",
              "      <td>0</td>\n",
              "      <td>111</td>\n",
              "      <td>0</td>\n",
              "      <td>0</td>\n",
              "      <td>2</td>\n",
              "      <td>3604</td>\n",
              "      <td>668.27</td>\n",
              "      <td>502.54</td>\n",
              "      <td>2408445.08</td>\n",
              "      <td>1811154.16</td>\n",
              "      <td>597290.92</td>\n",
              "      <td>2015</td>\n",
              "      <td>8</td>\n",
              "      <td>31</td>\n",
              "      <td>2015</td>\n",
              "      <td>10</td>\n",
              "      <td>12</td>\n",
              "    </tr>\n",
              "    <tr>\n",
              "      <th>1</th>\n",
              "      <td>1</td>\n",
              "      <td>67</td>\n",
              "      <td>11</td>\n",
              "      <td>1</td>\n",
              "      <td>3</td>\n",
              "      <td>8435</td>\n",
              "      <td>255.28</td>\n",
              "      <td>159.42</td>\n",
              "      <td>2153286.80</td>\n",
              "      <td>1344707.70</td>\n",
              "      <td>808579.10</td>\n",
              "      <td>2010</td>\n",
              "      <td>11</td>\n",
              "      <td>20</td>\n",
              "      <td>2011</td>\n",
              "      <td>1</td>\n",
              "      <td>9</td>\n",
              "    </tr>\n",
              "    <tr>\n",
              "      <th>2</th>\n",
              "      <td>1</td>\n",
              "      <td>132</td>\n",
              "      <td>1</td>\n",
              "      <td>1</td>\n",
              "      <td>1</td>\n",
              "      <td>4848</td>\n",
              "      <td>421.89</td>\n",
              "      <td>364.69</td>\n",
              "      <td>2045322.72</td>\n",
              "      <td>1768017.12</td>\n",
              "      <td>277305.60</td>\n",
              "      <td>2017</td>\n",
              "      <td>6</td>\n",
              "      <td>22</td>\n",
              "      <td>2017</td>\n",
              "      <td>6</td>\n",
              "      <td>25</td>\n",
              "    </tr>\n",
              "    <tr>\n",
              "      <th>3</th>\n",
              "      <td>1</td>\n",
              "      <td>104</td>\n",
              "      <td>1</td>\n",
              "      <td>1</td>\n",
              "      <td>1</td>\n",
              "      <td>7225</td>\n",
              "      <td>421.89</td>\n",
              "      <td>364.69</td>\n",
              "      <td>3048155.25</td>\n",
              "      <td>2634885.25</td>\n",
              "      <td>413270.00</td>\n",
              "      <td>2012</td>\n",
              "      <td>2</td>\n",
              "      <td>28</td>\n",
              "      <td>2012</td>\n",
              "      <td>3</td>\n",
              "      <td>20</td>\n",
              "    </tr>\n",
              "    <tr>\n",
              "      <th>4</th>\n",
              "      <td>1</td>\n",
              "      <td>99</td>\n",
              "      <td>9</td>\n",
              "      <td>1</td>\n",
              "      <td>2</td>\n",
              "      <td>1975</td>\n",
              "      <td>205.70</td>\n",
              "      <td>117.11</td>\n",
              "      <td>406257.50</td>\n",
              "      <td>231292.25</td>\n",
              "      <td>174965.25</td>\n",
              "      <td>2010</td>\n",
              "      <td>8</td>\n",
              "      <td>12</td>\n",
              "      <td>2010</td>\n",
              "      <td>9</td>\n",
              "      <td>13</td>\n",
              "    </tr>\n",
              "  </tbody>\n",
              "</table>\n",
              "</div>"
            ],
            "text/plain": [
              "   Region  Country  Item Type  ...  Ship Date_year  Ship Date_month  Ship Date_day\n",
              "0       0      111          0  ...            2015               10             12\n",
              "1       1       67         11  ...            2011                1              9\n",
              "2       1      132          1  ...            2017                6             25\n",
              "3       1      104          1  ...            2012                3             20\n",
              "4       1       99          9  ...            2010                9             13\n",
              "\n",
              "[5 rows x 17 columns]"
            ]
          },
          "metadata": {},
          "execution_count": 141
        }
      ]
    },
    {
      "cell_type": "code",
      "metadata": {
        "colab": {
          "base_uri": "https://localhost:8080/"
        },
        "id": "M9BPRo0zF7oM",
        "outputId": "470eea4a-db5d-4fbd-8815-ec0be1990caf"
      },
      "source": [
        "x['Country'].value_counts()"
      ],
      "execution_count": null,
      "outputs": [
        {
          "output_type": "execute_result",
          "data": {
            "text/plain": [
              "168    321\n",
              "62     318\n",
              "27     315\n",
              "97     311\n",
              "52     310\n",
              "      ... \n",
              "70     238\n",
              "182    238\n",
              "6      237\n",
              "105    236\n",
              "95     233\n",
              "Name: Country, Length: 185, dtype: int64"
            ]
          },
          "metadata": {},
          "execution_count": 61
        }
      ]
    },
    {
      "cell_type": "code",
      "metadata": {
        "colab": {
          "base_uri": "https://localhost:8080/",
          "height": 220
        },
        "id": "_NlVnjGFF-fm",
        "outputId": "6c0b0a59-a7b8-41cf-92eb-f759b204ab23"
      },
      "source": [
        "from sklearn.preprocessing import MinMaxScaler\n",
        "scaler = MinMaxScaler() \n",
        "x[['Region','Country','Item Type','Sales Channel','Order Priority','Total Revenue','Total Cost']] = scaler.fit_transform(x[['Region','Country','Item Type','Sales Channel','Order Priority','Total Revenue','Total Cost']])\n",
        "x.head()"
      ],
      "execution_count": null,
      "outputs": [
        {
          "output_type": "execute_result",
          "data": {
            "text/html": [
              "<div>\n",
              "<style scoped>\n",
              "    .dataframe tbody tr th:only-of-type {\n",
              "        vertical-align: middle;\n",
              "    }\n",
              "\n",
              "    .dataframe tbody tr th {\n",
              "        vertical-align: top;\n",
              "    }\n",
              "\n",
              "    .dataframe thead th {\n",
              "        text-align: right;\n",
              "    }\n",
              "</style>\n",
              "<table border=\"1\" class=\"dataframe\">\n",
              "  <thead>\n",
              "    <tr style=\"text-align: right;\">\n",
              "      <th></th>\n",
              "      <th>Region</th>\n",
              "      <th>Country</th>\n",
              "      <th>Item Type</th>\n",
              "      <th>Sales Channel</th>\n",
              "      <th>Order Priority</th>\n",
              "      <th>Units Sold</th>\n",
              "      <th>Unit Price</th>\n",
              "      <th>Unit Cost</th>\n",
              "      <th>Total Revenue</th>\n",
              "      <th>Total Cost</th>\n",
              "      <th>Total Profit</th>\n",
              "      <th>Order Date_year</th>\n",
              "      <th>Order Date_month</th>\n",
              "      <th>Order Date_day</th>\n",
              "      <th>Ship Date_year</th>\n",
              "      <th>Ship Date_month</th>\n",
              "      <th>Ship Date_day</th>\n",
              "    </tr>\n",
              "  </thead>\n",
              "  <tbody>\n",
              "    <tr>\n",
              "      <th>0</th>\n",
              "      <td>0.000000</td>\n",
              "      <td>0.603261</td>\n",
              "      <td>0.000000</td>\n",
              "      <td>0.0</td>\n",
              "      <td>0.333333</td>\n",
              "      <td>3604</td>\n",
              "      <td>668.27</td>\n",
              "      <td>502.54</td>\n",
              "      <td>0.360433</td>\n",
              "      <td>0.345040</td>\n",
              "      <td>597290.92</td>\n",
              "      <td>2015</td>\n",
              "      <td>8</td>\n",
              "      <td>31</td>\n",
              "      <td>2015</td>\n",
              "      <td>10</td>\n",
              "      <td>12</td>\n",
              "    </tr>\n",
              "    <tr>\n",
              "      <th>1</th>\n",
              "      <td>0.166667</td>\n",
              "      <td>0.364130</td>\n",
              "      <td>1.000000</td>\n",
              "      <td>1.0</td>\n",
              "      <td>0.666667</td>\n",
              "      <td>8435</td>\n",
              "      <td>255.28</td>\n",
              "      <td>159.42</td>\n",
              "      <td>0.322247</td>\n",
              "      <td>0.256177</td>\n",
              "      <td>808579.10</td>\n",
              "      <td>2010</td>\n",
              "      <td>11</td>\n",
              "      <td>20</td>\n",
              "      <td>2011</td>\n",
              "      <td>1</td>\n",
              "      <td>9</td>\n",
              "    </tr>\n",
              "    <tr>\n",
              "      <th>2</th>\n",
              "      <td>0.166667</td>\n",
              "      <td>0.717391</td>\n",
              "      <td>0.090909</td>\n",
              "      <td>1.0</td>\n",
              "      <td>0.000000</td>\n",
              "      <td>4848</td>\n",
              "      <td>421.89</td>\n",
              "      <td>364.69</td>\n",
              "      <td>0.306090</td>\n",
              "      <td>0.336822</td>\n",
              "      <td>277305.60</td>\n",
              "      <td>2017</td>\n",
              "      <td>6</td>\n",
              "      <td>22</td>\n",
              "      <td>2017</td>\n",
              "      <td>6</td>\n",
              "      <td>25</td>\n",
              "    </tr>\n",
              "    <tr>\n",
              "      <th>3</th>\n",
              "      <td>0.166667</td>\n",
              "      <td>0.565217</td>\n",
              "      <td>0.090909</td>\n",
              "      <td>1.0</td>\n",
              "      <td>0.000000</td>\n",
              "      <td>7225</td>\n",
              "      <td>421.89</td>\n",
              "      <td>364.69</td>\n",
              "      <td>0.456170</td>\n",
              "      <td>0.501969</td>\n",
              "      <td>413270.00</td>\n",
              "      <td>2012</td>\n",
              "      <td>2</td>\n",
              "      <td>28</td>\n",
              "      <td>2012</td>\n",
              "      <td>3</td>\n",
              "      <td>20</td>\n",
              "    </tr>\n",
              "    <tr>\n",
              "      <th>4</th>\n",
              "      <td>0.166667</td>\n",
              "      <td>0.538043</td>\n",
              "      <td>0.818182</td>\n",
              "      <td>1.0</td>\n",
              "      <td>0.333333</td>\n",
              "      <td>1975</td>\n",
              "      <td>205.70</td>\n",
              "      <td>117.11</td>\n",
              "      <td>0.060795</td>\n",
              "      <td>0.044060</td>\n",
              "      <td>174965.25</td>\n",
              "      <td>2010</td>\n",
              "      <td>8</td>\n",
              "      <td>12</td>\n",
              "      <td>2010</td>\n",
              "      <td>9</td>\n",
              "      <td>13</td>\n",
              "    </tr>\n",
              "  </tbody>\n",
              "</table>\n",
              "</div>"
            ],
            "text/plain": [
              "     Region   Country  ...  Ship Date_month  Ship Date_day\n",
              "0  0.000000  0.603261  ...               10             12\n",
              "1  0.166667  0.364130  ...                1              9\n",
              "2  0.166667  0.717391  ...                6             25\n",
              "3  0.166667  0.565217  ...                3             20\n",
              "4  0.166667  0.538043  ...                9             13\n",
              "\n",
              "[5 rows x 17 columns]"
            ]
          },
          "metadata": {},
          "execution_count": 62
        }
      ]
    },
    {
      "cell_type": "code",
      "metadata": {
        "colab": {
          "base_uri": "https://localhost:8080/",
          "height": 220
        },
        "id": "bM9uppA-GB0X",
        "outputId": "4797de92-533b-4f99-8e61-144f7ef143ad"
      },
      "source": [
        "x[['Units Sold','Unit Price','Unit Cost']] = scaler.fit_transform(x[['Units Sold','Unit Price','Unit Cost']])\n",
        "x.head()"
      ],
      "execution_count": null,
      "outputs": [
        {
          "output_type": "execute_result",
          "data": {
            "text/html": [
              "<div>\n",
              "<style scoped>\n",
              "    .dataframe tbody tr th:only-of-type {\n",
              "        vertical-align: middle;\n",
              "    }\n",
              "\n",
              "    .dataframe tbody tr th {\n",
              "        vertical-align: top;\n",
              "    }\n",
              "\n",
              "    .dataframe thead th {\n",
              "        text-align: right;\n",
              "    }\n",
              "</style>\n",
              "<table border=\"1\" class=\"dataframe\">\n",
              "  <thead>\n",
              "    <tr style=\"text-align: right;\">\n",
              "      <th></th>\n",
              "      <th>Region</th>\n",
              "      <th>Country</th>\n",
              "      <th>Item Type</th>\n",
              "      <th>Sales Channel</th>\n",
              "      <th>Order Priority</th>\n",
              "      <th>Units Sold</th>\n",
              "      <th>Unit Price</th>\n",
              "      <th>Unit Cost</th>\n",
              "      <th>Total Revenue</th>\n",
              "      <th>Total Cost</th>\n",
              "      <th>Total Profit</th>\n",
              "      <th>Order Date_year</th>\n",
              "      <th>Order Date_month</th>\n",
              "      <th>Order Date_day</th>\n",
              "      <th>Ship Date_year</th>\n",
              "      <th>Ship Date_month</th>\n",
              "      <th>Ship Date_day</th>\n",
              "    </tr>\n",
              "  </thead>\n",
              "  <tbody>\n",
              "    <tr>\n",
              "      <th>0</th>\n",
              "      <td>0.000000</td>\n",
              "      <td>0.603261</td>\n",
              "      <td>0.000000</td>\n",
              "      <td>0.0</td>\n",
              "      <td>0.333333</td>\n",
              "      <td>0.360336</td>\n",
              "      <td>1.000000</td>\n",
              "      <td>0.956721</td>\n",
              "      <td>0.360433</td>\n",
              "      <td>0.345040</td>\n",
              "      <td>597290.92</td>\n",
              "      <td>2015</td>\n",
              "      <td>8</td>\n",
              "      <td>31</td>\n",
              "      <td>2015</td>\n",
              "      <td>10</td>\n",
              "      <td>12</td>\n",
              "    </tr>\n",
              "    <tr>\n",
              "      <th>1</th>\n",
              "      <td>0.166667</td>\n",
              "      <td>0.364130</td>\n",
              "      <td>1.000000</td>\n",
              "      <td>1.0</td>\n",
              "      <td>0.666667</td>\n",
              "      <td>0.843484</td>\n",
              "      <td>0.373251</td>\n",
              "      <td>0.294379</td>\n",
              "      <td>0.322247</td>\n",
              "      <td>0.256177</td>\n",
              "      <td>808579.10</td>\n",
              "      <td>2010</td>\n",
              "      <td>11</td>\n",
              "      <td>20</td>\n",
              "      <td>2011</td>\n",
              "      <td>1</td>\n",
              "      <td>9</td>\n",
              "    </tr>\n",
              "    <tr>\n",
              "      <th>2</th>\n",
              "      <td>0.166667</td>\n",
              "      <td>0.717391</td>\n",
              "      <td>0.090909</td>\n",
              "      <td>1.0</td>\n",
              "      <td>0.000000</td>\n",
              "      <td>0.484748</td>\n",
              "      <td>0.626096</td>\n",
              "      <td>0.690622</td>\n",
              "      <td>0.306090</td>\n",
              "      <td>0.336822</td>\n",
              "      <td>277305.60</td>\n",
              "      <td>2017</td>\n",
              "      <td>6</td>\n",
              "      <td>22</td>\n",
              "      <td>2017</td>\n",
              "      <td>6</td>\n",
              "      <td>25</td>\n",
              "    </tr>\n",
              "    <tr>\n",
              "      <th>3</th>\n",
              "      <td>0.166667</td>\n",
              "      <td>0.565217</td>\n",
              "      <td>0.090909</td>\n",
              "      <td>1.0</td>\n",
              "      <td>0.000000</td>\n",
              "      <td>0.722472</td>\n",
              "      <td>0.626096</td>\n",
              "      <td>0.690622</td>\n",
              "      <td>0.456170</td>\n",
              "      <td>0.501969</td>\n",
              "      <td>413270.00</td>\n",
              "      <td>2012</td>\n",
              "      <td>2</td>\n",
              "      <td>28</td>\n",
              "      <td>2012</td>\n",
              "      <td>3</td>\n",
              "      <td>20</td>\n",
              "    </tr>\n",
              "    <tr>\n",
              "      <th>4</th>\n",
              "      <td>0.166667</td>\n",
              "      <td>0.538043</td>\n",
              "      <td>0.818182</td>\n",
              "      <td>1.0</td>\n",
              "      <td>0.333333</td>\n",
              "      <td>0.197420</td>\n",
              "      <td>0.298009</td>\n",
              "      <td>0.212706</td>\n",
              "      <td>0.060795</td>\n",
              "      <td>0.044060</td>\n",
              "      <td>174965.25</td>\n",
              "      <td>2010</td>\n",
              "      <td>8</td>\n",
              "      <td>12</td>\n",
              "      <td>2010</td>\n",
              "      <td>9</td>\n",
              "      <td>13</td>\n",
              "    </tr>\n",
              "  </tbody>\n",
              "</table>\n",
              "</div>"
            ],
            "text/plain": [
              "     Region   Country  ...  Ship Date_month  Ship Date_day\n",
              "0  0.000000  0.603261  ...               10             12\n",
              "1  0.166667  0.364130  ...                1              9\n",
              "2  0.166667  0.717391  ...                6             25\n",
              "3  0.166667  0.565217  ...                3             20\n",
              "4  0.166667  0.538043  ...                9             13\n",
              "\n",
              "[5 rows x 17 columns]"
            ]
          },
          "metadata": {},
          "execution_count": 63
        }
      ]
    },
    {
      "cell_type": "code",
      "metadata": {
        "colab": {
          "base_uri": "https://localhost:8080/",
          "height": 220
        },
        "id": "ChcopBfFGDrx",
        "outputId": "9a0e5b3f-eec7-4944-a555-0e7be5be8ae3"
      },
      "source": [
        "x[['Order Date_year','Order Date_month','Order Date_day','Ship Date_year','Ship Date_month','Ship Date_day']] = scaler.fit_transform(x[['Order Date_year','Order Date_month','Order Date_day','Ship Date_year','Ship Date_month','Ship Date_day']])\n",
        "x.head()"
      ],
      "execution_count": null,
      "outputs": [
        {
          "output_type": "execute_result",
          "data": {
            "text/html": [
              "<div>\n",
              "<style scoped>\n",
              "    .dataframe tbody tr th:only-of-type {\n",
              "        vertical-align: middle;\n",
              "    }\n",
              "\n",
              "    .dataframe tbody tr th {\n",
              "        vertical-align: top;\n",
              "    }\n",
              "\n",
              "    .dataframe thead th {\n",
              "        text-align: right;\n",
              "    }\n",
              "</style>\n",
              "<table border=\"1\" class=\"dataframe\">\n",
              "  <thead>\n",
              "    <tr style=\"text-align: right;\">\n",
              "      <th></th>\n",
              "      <th>Region</th>\n",
              "      <th>Country</th>\n",
              "      <th>Item Type</th>\n",
              "      <th>Sales Channel</th>\n",
              "      <th>Order Priority</th>\n",
              "      <th>Units Sold</th>\n",
              "      <th>Unit Price</th>\n",
              "      <th>Unit Cost</th>\n",
              "      <th>Total Revenue</th>\n",
              "      <th>Total Cost</th>\n",
              "      <th>Total Profit</th>\n",
              "      <th>Order Date_year</th>\n",
              "      <th>Order Date_month</th>\n",
              "      <th>Order Date_day</th>\n",
              "      <th>Ship Date_year</th>\n",
              "      <th>Ship Date_month</th>\n",
              "      <th>Ship Date_day</th>\n",
              "    </tr>\n",
              "  </thead>\n",
              "  <tbody>\n",
              "    <tr>\n",
              "      <th>0</th>\n",
              "      <td>0.000000</td>\n",
              "      <td>0.603261</td>\n",
              "      <td>0.000000</td>\n",
              "      <td>0.0</td>\n",
              "      <td>0.333333</td>\n",
              "      <td>0.360336</td>\n",
              "      <td>1.000000</td>\n",
              "      <td>0.956721</td>\n",
              "      <td>0.360433</td>\n",
              "      <td>0.345040</td>\n",
              "      <td>597290.92</td>\n",
              "      <td>0.714286</td>\n",
              "      <td>0.636364</td>\n",
              "      <td>1.000000</td>\n",
              "      <td>0.714286</td>\n",
              "      <td>0.818182</td>\n",
              "      <td>0.366667</td>\n",
              "    </tr>\n",
              "    <tr>\n",
              "      <th>1</th>\n",
              "      <td>0.166667</td>\n",
              "      <td>0.364130</td>\n",
              "      <td>1.000000</td>\n",
              "      <td>1.0</td>\n",
              "      <td>0.666667</td>\n",
              "      <td>0.843484</td>\n",
              "      <td>0.373251</td>\n",
              "      <td>0.294379</td>\n",
              "      <td>0.322247</td>\n",
              "      <td>0.256177</td>\n",
              "      <td>808579.10</td>\n",
              "      <td>0.000000</td>\n",
              "      <td>0.909091</td>\n",
              "      <td>0.633333</td>\n",
              "      <td>0.142857</td>\n",
              "      <td>0.000000</td>\n",
              "      <td>0.266667</td>\n",
              "    </tr>\n",
              "    <tr>\n",
              "      <th>2</th>\n",
              "      <td>0.166667</td>\n",
              "      <td>0.717391</td>\n",
              "      <td>0.090909</td>\n",
              "      <td>1.0</td>\n",
              "      <td>0.000000</td>\n",
              "      <td>0.484748</td>\n",
              "      <td>0.626096</td>\n",
              "      <td>0.690622</td>\n",
              "      <td>0.306090</td>\n",
              "      <td>0.336822</td>\n",
              "      <td>277305.60</td>\n",
              "      <td>1.000000</td>\n",
              "      <td>0.454545</td>\n",
              "      <td>0.700000</td>\n",
              "      <td>1.000000</td>\n",
              "      <td>0.454545</td>\n",
              "      <td>0.800000</td>\n",
              "    </tr>\n",
              "    <tr>\n",
              "      <th>3</th>\n",
              "      <td>0.166667</td>\n",
              "      <td>0.565217</td>\n",
              "      <td>0.090909</td>\n",
              "      <td>1.0</td>\n",
              "      <td>0.000000</td>\n",
              "      <td>0.722472</td>\n",
              "      <td>0.626096</td>\n",
              "      <td>0.690622</td>\n",
              "      <td>0.456170</td>\n",
              "      <td>0.501969</td>\n",
              "      <td>413270.00</td>\n",
              "      <td>0.285714</td>\n",
              "      <td>0.090909</td>\n",
              "      <td>0.900000</td>\n",
              "      <td>0.285714</td>\n",
              "      <td>0.181818</td>\n",
              "      <td>0.633333</td>\n",
              "    </tr>\n",
              "    <tr>\n",
              "      <th>4</th>\n",
              "      <td>0.166667</td>\n",
              "      <td>0.538043</td>\n",
              "      <td>0.818182</td>\n",
              "      <td>1.0</td>\n",
              "      <td>0.333333</td>\n",
              "      <td>0.197420</td>\n",
              "      <td>0.298009</td>\n",
              "      <td>0.212706</td>\n",
              "      <td>0.060795</td>\n",
              "      <td>0.044060</td>\n",
              "      <td>174965.25</td>\n",
              "      <td>0.000000</td>\n",
              "      <td>0.636364</td>\n",
              "      <td>0.366667</td>\n",
              "      <td>0.000000</td>\n",
              "      <td>0.727273</td>\n",
              "      <td>0.400000</td>\n",
              "    </tr>\n",
              "  </tbody>\n",
              "</table>\n",
              "</div>"
            ],
            "text/plain": [
              "     Region   Country  ...  Ship Date_month  Ship Date_day\n",
              "0  0.000000  0.603261  ...         0.818182       0.366667\n",
              "1  0.166667  0.364130  ...         0.000000       0.266667\n",
              "2  0.166667  0.717391  ...         0.454545       0.800000\n",
              "3  0.166667  0.565217  ...         0.181818       0.633333\n",
              "4  0.166667  0.538043  ...         0.727273       0.400000\n",
              "\n",
              "[5 rows x 17 columns]"
            ]
          },
          "metadata": {},
          "execution_count": 64
        }
      ]
    },
    {
      "cell_type": "code",
      "metadata": {
        "colab": {
          "base_uri": "https://localhost:8080/",
          "height": 710
        },
        "id": "vJUIBk1IGFan",
        "outputId": "2d738c9b-4a8b-4702-997e-7a9993100c26"
      },
      "source": [
        "x.corr()"
      ],
      "execution_count": null,
      "outputs": [
        {
          "output_type": "execute_result",
          "data": {
            "text/html": [
              "<div>\n",
              "<style scoped>\n",
              "    .dataframe tbody tr th:only-of-type {\n",
              "        vertical-align: middle;\n",
              "    }\n",
              "\n",
              "    .dataframe tbody tr th {\n",
              "        vertical-align: top;\n",
              "    }\n",
              "\n",
              "    .dataframe thead th {\n",
              "        text-align: right;\n",
              "    }\n",
              "</style>\n",
              "<table border=\"1\" class=\"dataframe\">\n",
              "  <thead>\n",
              "    <tr style=\"text-align: right;\">\n",
              "      <th></th>\n",
              "      <th>Region</th>\n",
              "      <th>Item Type</th>\n",
              "      <th>Sales Channel</th>\n",
              "      <th>Order Priority</th>\n",
              "      <th>Units Sold</th>\n",
              "      <th>Unit Price</th>\n",
              "      <th>Unit Cost</th>\n",
              "      <th>Total Revenue</th>\n",
              "      <th>Total Cost</th>\n",
              "      <th>Total Profit</th>\n",
              "      <th>Order Date_year</th>\n",
              "      <th>Order Date_month</th>\n",
              "      <th>Order Date_day</th>\n",
              "      <th>Ship Date_year</th>\n",
              "      <th>Ship Date_month</th>\n",
              "      <th>Ship Date_day</th>\n",
              "    </tr>\n",
              "  </thead>\n",
              "  <tbody>\n",
              "    <tr>\n",
              "      <th>Region</th>\n",
              "      <td>1.000000</td>\n",
              "      <td>0.004553</td>\n",
              "      <td>0.000346</td>\n",
              "      <td>-0.001622</td>\n",
              "      <td>-0.003168</td>\n",
              "      <td>0.000848</td>\n",
              "      <td>-0.000279</td>\n",
              "      <td>0.001107</td>\n",
              "      <td>0.000500</td>\n",
              "      <td>0.002773</td>\n",
              "      <td>0.002414</td>\n",
              "      <td>-0.001589</td>\n",
              "      <td>-0.003075</td>\n",
              "      <td>0.002337</td>\n",
              "      <td>-0.002391</td>\n",
              "      <td>-0.000341</td>\n",
              "    </tr>\n",
              "    <tr>\n",
              "      <th>Item Type</th>\n",
              "      <td>0.004553</td>\n",
              "      <td>1.000000</td>\n",
              "      <td>0.007487</td>\n",
              "      <td>0.000345</td>\n",
              "      <td>-0.000026</td>\n",
              "      <td>-0.154280</td>\n",
              "      <td>-0.185540</td>\n",
              "      <td>-0.112147</td>\n",
              "      <td>-0.139795</td>\n",
              "      <td>-0.010667</td>\n",
              "      <td>0.003684</td>\n",
              "      <td>-0.000887</td>\n",
              "      <td>-0.001070</td>\n",
              "      <td>0.003678</td>\n",
              "      <td>-0.000180</td>\n",
              "      <td>0.003372</td>\n",
              "    </tr>\n",
              "    <tr>\n",
              "      <th>Sales Channel</th>\n",
              "      <td>0.000346</td>\n",
              "      <td>0.007487</td>\n",
              "      <td>1.000000</td>\n",
              "      <td>-0.000692</td>\n",
              "      <td>0.003565</td>\n",
              "      <td>-0.001921</td>\n",
              "      <td>-0.001671</td>\n",
              "      <td>-0.000139</td>\n",
              "      <td>-0.000405</td>\n",
              "      <td>0.000690</td>\n",
              "      <td>-0.005746</td>\n",
              "      <td>0.002820</td>\n",
              "      <td>-0.007697</td>\n",
              "      <td>-0.006137</td>\n",
              "      <td>0.006263</td>\n",
              "      <td>0.001644</td>\n",
              "    </tr>\n",
              "    <tr>\n",
              "      <th>Order Priority</th>\n",
              "      <td>-0.001622</td>\n",
              "      <td>0.000345</td>\n",
              "      <td>-0.000692</td>\n",
              "      <td>1.000000</td>\n",
              "      <td>-0.004655</td>\n",
              "      <td>0.004763</td>\n",
              "      <td>0.004389</td>\n",
              "      <td>0.002319</td>\n",
              "      <td>0.002303</td>\n",
              "      <td>0.002004</td>\n",
              "      <td>-0.002117</td>\n",
              "      <td>-0.000368</td>\n",
              "      <td>0.005072</td>\n",
              "      <td>-0.002106</td>\n",
              "      <td>-0.000186</td>\n",
              "      <td>0.002586</td>\n",
              "    </tr>\n",
              "    <tr>\n",
              "      <th>Units Sold</th>\n",
              "      <td>-0.003168</td>\n",
              "      <td>-0.000026</td>\n",
              "      <td>0.003565</td>\n",
              "      <td>-0.004655</td>\n",
              "      <td>1.000000</td>\n",
              "      <td>-0.007096</td>\n",
              "      <td>-0.006681</td>\n",
              "      <td>0.519834</td>\n",
              "      <td>0.468651</td>\n",
              "      <td>0.593283</td>\n",
              "      <td>0.001248</td>\n",
              "      <td>0.002463</td>\n",
              "      <td>-0.004497</td>\n",
              "      <td>0.001077</td>\n",
              "      <td>0.003344</td>\n",
              "      <td>-0.005107</td>\n",
              "    </tr>\n",
              "    <tr>\n",
              "      <th>Unit Price</th>\n",
              "      <td>0.000848</td>\n",
              "      <td>-0.154280</td>\n",
              "      <td>-0.001921</td>\n",
              "      <td>0.004763</td>\n",
              "      <td>-0.007096</td>\n",
              "      <td>1.000000</td>\n",
              "      <td>0.985969</td>\n",
              "      <td>0.736209</td>\n",
              "      <td>0.750962</td>\n",
              "      <td>0.575675</td>\n",
              "      <td>0.001148</td>\n",
              "      <td>-0.004187</td>\n",
              "      <td>-0.005915</td>\n",
              "      <td>0.000644</td>\n",
              "      <td>-0.000828</td>\n",
              "      <td>-0.003664</td>\n",
              "    </tr>\n",
              "    <tr>\n",
              "      <th>Unit Cost</th>\n",
              "      <td>-0.000279</td>\n",
              "      <td>-0.185540</td>\n",
              "      <td>-0.001671</td>\n",
              "      <td>0.004389</td>\n",
              "      <td>-0.006681</td>\n",
              "      <td>0.985969</td>\n",
              "      <td>1.000000</td>\n",
              "      <td>0.725742</td>\n",
              "      <td>0.761566</td>\n",
              "      <td>0.502958</td>\n",
              "      <td>0.000210</td>\n",
              "      <td>-0.003332</td>\n",
              "      <td>-0.006201</td>\n",
              "      <td>-0.000216</td>\n",
              "      <td>-0.000687</td>\n",
              "      <td>-0.002766</td>\n",
              "    </tr>\n",
              "    <tr>\n",
              "      <th>Total Revenue</th>\n",
              "      <td>0.001107</td>\n",
              "      <td>-0.112147</td>\n",
              "      <td>-0.000139</td>\n",
              "      <td>0.002319</td>\n",
              "      <td>0.519834</td>\n",
              "      <td>0.736209</td>\n",
              "      <td>0.725742</td>\n",
              "      <td>1.000000</td>\n",
              "      <td>0.987668</td>\n",
              "      <td>0.880111</td>\n",
              "      <td>0.003462</td>\n",
              "      <td>-0.001438</td>\n",
              "      <td>-0.009485</td>\n",
              "      <td>0.003101</td>\n",
              "      <td>-0.000226</td>\n",
              "      <td>-0.005439</td>\n",
              "    </tr>\n",
              "    <tr>\n",
              "      <th>Total Cost</th>\n",
              "      <td>0.000500</td>\n",
              "      <td>-0.139795</td>\n",
              "      <td>-0.000405</td>\n",
              "      <td>0.002303</td>\n",
              "      <td>0.468651</td>\n",
              "      <td>0.750962</td>\n",
              "      <td>0.761566</td>\n",
              "      <td>0.987668</td>\n",
              "      <td>1.000000</td>\n",
              "      <td>0.794928</td>\n",
              "      <td>0.001848</td>\n",
              "      <td>-0.001210</td>\n",
              "      <td>-0.009663</td>\n",
              "      <td>0.001527</td>\n",
              "      <td>-0.000378</td>\n",
              "      <td>-0.004354</td>\n",
              "    </tr>\n",
              "    <tr>\n",
              "      <th>Total Profit</th>\n",
              "      <td>0.002773</td>\n",
              "      <td>-0.010667</td>\n",
              "      <td>0.000690</td>\n",
              "      <td>0.002004</td>\n",
              "      <td>0.593283</td>\n",
              "      <td>0.575675</td>\n",
              "      <td>0.502958</td>\n",
              "      <td>0.880111</td>\n",
              "      <td>0.794928</td>\n",
              "      <td>1.000000</td>\n",
              "      <td>0.007812</td>\n",
              "      <td>-0.001903</td>\n",
              "      <td>-0.007452</td>\n",
              "      <td>0.007385</td>\n",
              "      <td>0.000270</td>\n",
              "      <td>-0.007875</td>\n",
              "    </tr>\n",
              "    <tr>\n",
              "      <th>Order Date_year</th>\n",
              "      <td>0.002414</td>\n",
              "      <td>0.003684</td>\n",
              "      <td>-0.005746</td>\n",
              "      <td>-0.002117</td>\n",
              "      <td>0.001248</td>\n",
              "      <td>0.001148</td>\n",
              "      <td>0.000210</td>\n",
              "      <td>0.003462</td>\n",
              "      <td>0.001848</td>\n",
              "      <td>0.007812</td>\n",
              "      <td>1.000000</td>\n",
              "      <td>-0.100878</td>\n",
              "      <td>-0.001394</td>\n",
              "      <td>0.993652</td>\n",
              "      <td>-0.070426</td>\n",
              "      <td>-0.002700</td>\n",
              "    </tr>\n",
              "    <tr>\n",
              "      <th>Order Date_month</th>\n",
              "      <td>-0.001589</td>\n",
              "      <td>-0.000887</td>\n",
              "      <td>0.002820</td>\n",
              "      <td>-0.000368</td>\n",
              "      <td>0.002463</td>\n",
              "      <td>-0.004187</td>\n",
              "      <td>-0.003332</td>\n",
              "      <td>-0.001438</td>\n",
              "      <td>-0.001210</td>\n",
              "      <td>-0.001903</td>\n",
              "      <td>-0.100878</td>\n",
              "      <td>1.000000</td>\n",
              "      <td>0.005756</td>\n",
              "      <td>-0.053039</td>\n",
              "      <td>0.636801</td>\n",
              "      <td>0.022370</td>\n",
              "    </tr>\n",
              "    <tr>\n",
              "      <th>Order Date_day</th>\n",
              "      <td>-0.003075</td>\n",
              "      <td>-0.001070</td>\n",
              "      <td>-0.007697</td>\n",
              "      <td>0.005072</td>\n",
              "      <td>-0.004497</td>\n",
              "      <td>-0.005915</td>\n",
              "      <td>-0.006201</td>\n",
              "      <td>-0.009485</td>\n",
              "      <td>-0.009663</td>\n",
              "      <td>-0.007452</td>\n",
              "      <td>-0.001394</td>\n",
              "      <td>0.005756</td>\n",
              "      <td>1.000000</td>\n",
              "      <td>0.009833</td>\n",
              "      <td>0.006894</td>\n",
              "      <td>-0.033825</td>\n",
              "    </tr>\n",
              "    <tr>\n",
              "      <th>Ship Date_year</th>\n",
              "      <td>0.002337</td>\n",
              "      <td>0.003678</td>\n",
              "      <td>-0.006137</td>\n",
              "      <td>-0.002106</td>\n",
              "      <td>0.001077</td>\n",
              "      <td>0.000644</td>\n",
              "      <td>-0.000216</td>\n",
              "      <td>0.003101</td>\n",
              "      <td>0.001527</td>\n",
              "      <td>0.007385</td>\n",
              "      <td>0.993652</td>\n",
              "      <td>-0.053039</td>\n",
              "      <td>0.009833</td>\n",
              "      <td>1.000000</td>\n",
              "      <td>-0.116373</td>\n",
              "      <td>-0.012187</td>\n",
              "    </tr>\n",
              "    <tr>\n",
              "      <th>Ship Date_month</th>\n",
              "      <td>-0.002391</td>\n",
              "      <td>-0.000180</td>\n",
              "      <td>0.006263</td>\n",
              "      <td>-0.000186</td>\n",
              "      <td>0.003344</td>\n",
              "      <td>-0.000828</td>\n",
              "      <td>-0.000687</td>\n",
              "      <td>-0.000226</td>\n",
              "      <td>-0.000378</td>\n",
              "      <td>0.000270</td>\n",
              "      <td>-0.070426</td>\n",
              "      <td>0.636801</td>\n",
              "      <td>0.006894</td>\n",
              "      <td>-0.116373</td>\n",
              "      <td>1.000000</td>\n",
              "      <td>0.009501</td>\n",
              "    </tr>\n",
              "    <tr>\n",
              "      <th>Ship Date_day</th>\n",
              "      <td>-0.000341</td>\n",
              "      <td>0.003372</td>\n",
              "      <td>0.001644</td>\n",
              "      <td>0.002586</td>\n",
              "      <td>-0.005107</td>\n",
              "      <td>-0.003664</td>\n",
              "      <td>-0.002766</td>\n",
              "      <td>-0.005439</td>\n",
              "      <td>-0.004354</td>\n",
              "      <td>-0.007875</td>\n",
              "      <td>-0.002700</td>\n",
              "      <td>0.022370</td>\n",
              "      <td>-0.033825</td>\n",
              "      <td>-0.012187</td>\n",
              "      <td>0.009501</td>\n",
              "      <td>1.000000</td>\n",
              "    </tr>\n",
              "  </tbody>\n",
              "</table>\n",
              "</div>"
            ],
            "text/plain": [
              "                    Region  Item Type  ...  Ship Date_month  Ship Date_day\n",
              "Region            1.000000   0.004553  ...        -0.002391      -0.000341\n",
              "Item Type         0.004553   1.000000  ...        -0.000180       0.003372\n",
              "Sales Channel     0.000346   0.007487  ...         0.006263       0.001644\n",
              "Order Priority   -0.001622   0.000345  ...        -0.000186       0.002586\n",
              "Units Sold       -0.003168  -0.000026  ...         0.003344      -0.005107\n",
              "Unit Price        0.000848  -0.154280  ...        -0.000828      -0.003664\n",
              "Unit Cost        -0.000279  -0.185540  ...        -0.000687      -0.002766\n",
              "Total Revenue     0.001107  -0.112147  ...        -0.000226      -0.005439\n",
              "Total Cost        0.000500  -0.139795  ...        -0.000378      -0.004354\n",
              "Total Profit      0.002773  -0.010667  ...         0.000270      -0.007875\n",
              "Order Date_year   0.002414   0.003684  ...        -0.070426      -0.002700\n",
              "Order Date_month -0.001589  -0.000887  ...         0.636801       0.022370\n",
              "Order Date_day   -0.003075  -0.001070  ...         0.006894      -0.033825\n",
              "Ship Date_year    0.002337   0.003678  ...        -0.116373      -0.012187\n",
              "Ship Date_month  -0.002391  -0.000180  ...         1.000000       0.009501\n",
              "Ship Date_day    -0.000341   0.003372  ...         0.009501       1.000000\n",
              "\n",
              "[16 rows x 16 columns]"
            ]
          },
          "metadata": {},
          "execution_count": 200
        }
      ]
    },
    {
      "cell_type": "code",
      "metadata": {
        "colab": {
          "base_uri": "https://localhost:8080/"
        },
        "id": "sXbYsuG5GHmE",
        "outputId": "1d0b944e-6d0f-4fef-d170-673f6aa8a7a0"
      },
      "source": [
        "x.skew()"
      ],
      "execution_count": null,
      "outputs": [
        {
          "output_type": "execute_result",
          "data": {
            "text/plain": [
              "Region              0.638936\n",
              "Item Type           0.009011\n",
              "Sales Channel      -0.002720\n",
              "Order Priority      0.005178\n",
              "Units Sold         -0.012964\n",
              "Unit Price          0.735888\n",
              "Unit Cost           0.893408\n",
              "Total Revenue       1.581942\n",
              "Total Cost          1.756618\n",
              "Total Profit        1.292324\n",
              "Order Date_year     0.051303\n",
              "Order Date_month    0.061570\n",
              "Order Date_day     -0.005490\n",
              "Ship Date_year      0.038203\n",
              "Ship Date_month     0.046113\n",
              "Ship Date_day       0.018445\n",
              "dtype: float64"
            ]
          },
          "metadata": {},
          "execution_count": 201
        }
      ]
    },
    {
      "cell_type": "code",
      "metadata": {
        "colab": {
          "base_uri": "https://localhost:8080/",
          "height": 293
        },
        "id": "VrTKNpVsGIvN",
        "outputId": "dbb847ee-6aa4-4036-94b7-eb20b53fec3e"
      },
      "source": [
        "sns.boxplot(x['Unit Price'],palette = \"Set3\")"
      ],
      "execution_count": null,
      "outputs": [
        {
          "output_type": "execute_result",
          "data": {
            "text/plain": [
              "<matplotlib.axes._subplots.AxesSubplot at 0x7f4642ae5450>"
            ]
          },
          "metadata": {},
          "execution_count": 202
        },
        {
          "output_type": "display_data",
          "data": {
            "image/png": "[encoded data removed]",
            "text/plain": [
              "<Figure size 432x288 with 1 Axes>"
            ]
          },
          "metadata": {}
        }
      ]
    },
    {
      "cell_type": "code",
      "metadata": {
        "colab": {
          "base_uri": "https://localhost:8080/",
          "height": 293
        },
        "id": "taw9LlkBGLZ7",
        "outputId": "446ab997-287a-41f6-c020-9b94ccd360b2"
      },
      "source": [
        "sns.boxplot(x['Unit Cost'],palette = \"Set3\")"
      ],
      "execution_count": null,
      "outputs": [
        {
          "output_type": "execute_result",
          "data": {
            "text/plain": [
              "<matplotlib.axes._subplots.AxesSubplot at 0x7f4642add790>"
            ]
          },
          "metadata": {},
          "execution_count": 203
        },
        {
          "output_type": "display_data",
          "data": {
            "image/png": "[encoded data removed]",
            "text/plain": [
              "<Figure size 432x288 with 1 Axes>"
            ]
          },
          "metadata": {}
        }
      ]
    },
    {
      "cell_type": "code",
      "metadata": {
        "colab": {
          "base_uri": "https://localhost:8080/",
          "height": 293
        },
        "id": "jpwh4aB0GM8x",
        "outputId": "715d5036-e367-4e9b-f6b6-0df43597c82f"
      },
      "source": [
        "sns.boxplot(x['Total Revenue'],palette = \"Set3\")"
      ],
      "execution_count": null,
      "outputs": [
        {
          "output_type": "execute_result",
          "data": {
            "text/plain": [
              "<matplotlib.axes._subplots.AxesSubplot at 0x7f4642a49650>"
            ]
          },
          "metadata": {},
          "execution_count": 204
        },
        {
          "output_type": "display_data",
          "data": {
            "image/png": "[encoded data removed]",
            "text/plain": [
              "<Figure size 432x288 with 1 Axes>"
            ]
          },
          "metadata": {}
        }
      ]
    },
    {
      "cell_type": "code",
      "metadata": {
        "colab": {
          "base_uri": "https://localhost:8080/",
          "height": 293
        },
        "id": "fMIqZmiaGQFF",
        "outputId": "e4f49add-f926-4b33-a659-293f2be1c337"
      },
      "source": [
        "sns.boxplot(x['Total Cost'],palette = \"Set3\")"
      ],
      "execution_count": null,
      "outputs": [
        {
          "output_type": "execute_result",
          "data": {
            "text/plain": [
              "<matplotlib.axes._subplots.AxesSubplot at 0x7f46429b5e90>"
            ]
          },
          "metadata": {},
          "execution_count": 205
        },
        {
          "output_type": "display_data",
          "data": {
            "image/png": "[encoded data removed]",
            "text/plain": [
              "<Figure size 432x288 with 1 Axes>"
            ]
          },
          "metadata": {}
        }
      ]
    },
    {
      "cell_type": "code",
      "metadata": {
        "id": "2LrVGxxcGSr-"
      },
      "source": [
        "def outlier_treatment(datacolumn):\n",
        " sorted(datacolumn)\n",
        " Q1,Q3 = np.percentile(datacolumn , [25,75])\n",
        " IQR = Q3 - Q1\n",
        " lower_range = Q1 - (1.5 * IQR)\n",
        " upper_range = Q3 + (1.5 * IQR)\n",
        " return (lower_range,upper_range)"
      ],
      "execution_count": null,
      "outputs": []
    },
    {
      "cell_type": "code",
      "metadata": {
        "id": "a7NE7a7gGUz_"
      },
      "source": [
        "lowerbound,upperbound = outlier_treatment(x['Total Cost'])"
      ],
      "execution_count": null,
      "outputs": []
    },
    {
      "cell_type": "code",
      "metadata": {
        "colab": {
          "base_uri": "https://localhost:8080/"
        },
        "id": "yB5iqUdbGWhe",
        "outputId": "9c6305d0-acca-4f40-9308-e36922289e4c"
      },
      "source": [
        "x[(x['Total Cost'] < lowerbound) | (x['Total Cost'] > upperbound)]['Total Cost'] "
      ],
      "execution_count": null,
      "outputs": [
        {
          "output_type": "execute_result",
          "data": {
            "text/plain": [
              "22       4790260.00\n",
              "27       4828057.12\n",
              "34       3153941.04\n",
              "49       5132533.92\n",
              "55       3265798.95\n",
              "            ...    \n",
              "49973    3593161.00\n",
              "49976    4428562.56\n",
              "49978    4555022.56\n",
              "49984    3998208.24\n",
              "49996    3046342.88\n",
              "Name: Total Cost, Length: 4856, dtype: float64"
            ]
          },
          "metadata": {},
          "execution_count": 208
        }
      ]
    },
    {
      "cell_type": "code",
      "metadata": {
        "id": "_UtYhpm5GYjT"
      },
      "source": [
        "x.drop(x[(x['Total Cost'] > upperbound) | (x['Total Cost'] < lowerbound) ].index , inplace=True)"
      ],
      "execution_count": null,
      "outputs": []
    },
    {
      "cell_type": "code",
      "metadata": {
        "colab": {
          "base_uri": "https://localhost:8080/",
          "height": 293
        },
        "id": "MQlxCudxGbEC",
        "outputId": "6acd2d7b-3f8e-46d2-8373-2dd04a8df843"
      },
      "source": [
        "sns.boxplot(x['Total Cost'],palette = \"Set2\")"
      ],
      "execution_count": null,
      "outputs": [
        {
          "output_type": "execute_result",
          "data": {
            "text/plain": [
              "<matplotlib.axes._subplots.AxesSubplot at 0x7f4642c0f850>"
            ]
          },
          "metadata": {},
          "execution_count": 210
        },
        {
          "output_type": "display_data",
          "data": {
            "image/png": "[encoded data removed]",
            "text/plain": [
              "<Figure size 432x288 with 1 Axes>"
            ]
          },
          "metadata": {}
        }
      ]
    },
    {
      "cell_type": "code",
      "metadata": {
        "id": "zw6rHdAbGc9f"
      },
      "source": [
        "lowerbound,upperbound = outlier_treatment(x['Total Revenue'])"
      ],
      "execution_count": null,
      "outputs": []
    },
    {
      "cell_type": "code",
      "metadata": {
        "colab": {
          "base_uri": "https://localhost:8080/"
        },
        "id": "hlcUQ46RGhPl",
        "outputId": "8f621659-b204-418f-9665-4b33ccc11ec3"
      },
      "source": [
        "x[(x['Total Revenue'] < lowerbound) | (x['Total Revenue'] > upperbound)]['Total Revenue']"
      ],
      "execution_count": null,
      "outputs": [
        {
          "output_type": "execute_result",
          "data": {
            "text/plain": [
              "9        3458689.20\n",
              "25       3611709.20\n",
              "31       3488369.40\n",
              "39       4353637.60\n",
              "44       3177904.80\n",
              "            ...    \n",
              "49895    3483691.51\n",
              "49896    3249537.90\n",
              "49924    3430229.91\n",
              "49944    3489705.94\n",
              "49980    4007375.20\n",
              "Name: Total Revenue, Length: 1718, dtype: float64"
            ]
          },
          "metadata": {},
          "execution_count": 212
        }
      ]
    },
    {
      "cell_type": "code",
      "metadata": {
        "id": "hy1q4YD_GjMr"
      },
      "source": [
        "x.drop(x[(x['Total Revenue'] > upperbound) | (x['Total Revenue'] < lowerbound) ].index , inplace=True)"
      ],
      "execution_count": null,
      "outputs": []
    },
    {
      "cell_type": "code",
      "metadata": {
        "colab": {
          "base_uri": "https://localhost:8080/",
          "height": 293
        },
        "id": "sSRhIWNgGmoV",
        "outputId": "61d8bf96-b719-4448-8bf4-a2bc13480c02"
      },
      "source": [
        "sns.boxplot(x['Total Revenue'],palette = \"Set2\")"
      ],
      "execution_count": null,
      "outputs": [
        {
          "output_type": "execute_result",
          "data": {
            "text/plain": [
              "<matplotlib.axes._subplots.AxesSubplot at 0x7f4642c7add0>"
            ]
          },
          "metadata": {},
          "execution_count": 214
        },
        {
          "output_type": "display_data",
          "data": {
            "image/png": "[encoded data removed]",
            "text/plain": [
              "<Figure size 432x288 with 1 Axes>"
            ]
          },
          "metadata": {}
        }
      ]
    },
    {
      "cell_type": "code",
      "metadata": {
        "colab": {
          "base_uri": "https://localhost:8080/",
          "height": 710
        },
        "id": "D8bUpdtjG14-",
        "outputId": "b79f2757-29ea-434e-c123-993750fec799"
      },
      "source": [
        "x.corr()"
      ],
      "execution_count": null,
      "outputs": [
        {
          "output_type": "execute_result",
          "data": {
            "text/html": [
              "<div>\n",
              "<style scoped>\n",
              "    .dataframe tbody tr th:only-of-type {\n",
              "        vertical-align: middle;\n",
              "    }\n",
              "\n",
              "    .dataframe tbody tr th {\n",
              "        vertical-align: top;\n",
              "    }\n",
              "\n",
              "    .dataframe thead th {\n",
              "        text-align: right;\n",
              "    }\n",
              "</style>\n",
              "<table border=\"1\" class=\"dataframe\">\n",
              "  <thead>\n",
              "    <tr style=\"text-align: right;\">\n",
              "      <th></th>\n",
              "      <th>Region</th>\n",
              "      <th>Item Type</th>\n",
              "      <th>Sales Channel</th>\n",
              "      <th>Order Priority</th>\n",
              "      <th>Units Sold</th>\n",
              "      <th>Unit Price</th>\n",
              "      <th>Unit Cost</th>\n",
              "      <th>Total Revenue</th>\n",
              "      <th>Total Cost</th>\n",
              "      <th>Total Profit</th>\n",
              "      <th>Order Date_year</th>\n",
              "      <th>Order Date_month</th>\n",
              "      <th>Order Date_day</th>\n",
              "      <th>Ship Date_year</th>\n",
              "      <th>Ship Date_month</th>\n",
              "      <th>Ship Date_day</th>\n",
              "    </tr>\n",
              "  </thead>\n",
              "  <tbody>\n",
              "    <tr>\n",
              "      <th>Region</th>\n",
              "      <td>1.000000</td>\n",
              "      <td>0.004192</td>\n",
              "      <td>-0.001052</td>\n",
              "      <td>0.000315</td>\n",
              "      <td>-0.004143</td>\n",
              "      <td>0.001283</td>\n",
              "      <td>-0.000025</td>\n",
              "      <td>0.001820</td>\n",
              "      <td>0.000799</td>\n",
              "      <td>0.003663</td>\n",
              "      <td>0.002633</td>\n",
              "      <td>-0.000123</td>\n",
              "      <td>-0.002553</td>\n",
              "      <td>0.002425</td>\n",
              "      <td>-0.000581</td>\n",
              "      <td>0.000643</td>\n",
              "    </tr>\n",
              "    <tr>\n",
              "      <th>Item Type</th>\n",
              "      <td>0.004192</td>\n",
              "      <td>1.000000</td>\n",
              "      <td>0.005240</td>\n",
              "      <td>0.002265</td>\n",
              "      <td>0.092394</td>\n",
              "      <td>-0.111455</td>\n",
              "      <td>-0.172341</td>\n",
              "      <td>0.031323</td>\n",
              "      <td>-0.063831</td>\n",
              "      <td>0.233136</td>\n",
              "      <td>0.004865</td>\n",
              "      <td>-0.001569</td>\n",
              "      <td>-0.004296</td>\n",
              "      <td>0.004783</td>\n",
              "      <td>-0.000472</td>\n",
              "      <td>0.000827</td>\n",
              "    </tr>\n",
              "    <tr>\n",
              "      <th>Sales Channel</th>\n",
              "      <td>-0.001052</td>\n",
              "      <td>0.005240</td>\n",
              "      <td>1.000000</td>\n",
              "      <td>-0.000071</td>\n",
              "      <td>0.006399</td>\n",
              "      <td>-0.001514</td>\n",
              "      <td>-0.001303</td>\n",
              "      <td>0.004802</td>\n",
              "      <td>0.004291</td>\n",
              "      <td>0.004877</td>\n",
              "      <td>-0.004491</td>\n",
              "      <td>0.002293</td>\n",
              "      <td>-0.008324</td>\n",
              "      <td>-0.004951</td>\n",
              "      <td>0.005942</td>\n",
              "      <td>0.003970</td>\n",
              "    </tr>\n",
              "    <tr>\n",
              "      <th>Order Priority</th>\n",
              "      <td>0.000315</td>\n",
              "      <td>0.002265</td>\n",
              "      <td>-0.000071</td>\n",
              "      <td>1.000000</td>\n",
              "      <td>-0.007260</td>\n",
              "      <td>0.005447</td>\n",
              "      <td>0.005179</td>\n",
              "      <td>0.000114</td>\n",
              "      <td>0.000273</td>\n",
              "      <td>-0.000261</td>\n",
              "      <td>-0.003293</td>\n",
              "      <td>-0.000636</td>\n",
              "      <td>0.003941</td>\n",
              "      <td>-0.003082</td>\n",
              "      <td>-0.002023</td>\n",
              "      <td>-0.000567</td>\n",
              "    </tr>\n",
              "    <tr>\n",
              "      <th>Units Sold</th>\n",
              "      <td>-0.004143</td>\n",
              "      <td>0.092394</td>\n",
              "      <td>0.006399</td>\n",
              "      <td>-0.007260</td>\n",
              "      <td>1.000000</td>\n",
              "      <td>-0.282875</td>\n",
              "      <td>-0.287167</td>\n",
              "      <td>0.404993</td>\n",
              "      <td>0.306407</td>\n",
              "      <td>0.533000</td>\n",
              "      <td>-0.001296</td>\n",
              "      <td>0.004541</td>\n",
              "      <td>-0.001992</td>\n",
              "      <td>-0.001259</td>\n",
              "      <td>0.004782</td>\n",
              "      <td>-0.004001</td>\n",
              "    </tr>\n",
              "    <tr>\n",
              "      <th>Unit Price</th>\n",
              "      <td>0.001283</td>\n",
              "      <td>-0.111455</td>\n",
              "      <td>-0.001514</td>\n",
              "      <td>0.005447</td>\n",
              "      <td>-0.282875</td>\n",
              "      <td>1.000000</td>\n",
              "      <td>0.982707</td>\n",
              "      <td>0.605135</td>\n",
              "      <td>0.660789</td>\n",
              "      <td>0.351399</td>\n",
              "      <td>-0.002354</td>\n",
              "      <td>-0.004510</td>\n",
              "      <td>-0.002214</td>\n",
              "      <td>-0.002608</td>\n",
              "      <td>-0.001568</td>\n",
              "      <td>-0.003867</td>\n",
              "    </tr>\n",
              "    <tr>\n",
              "      <th>Unit Cost</th>\n",
              "      <td>-0.000025</td>\n",
              "      <td>-0.172341</td>\n",
              "      <td>-0.001303</td>\n",
              "      <td>0.005179</td>\n",
              "      <td>-0.287167</td>\n",
              "      <td>0.982707</td>\n",
              "      <td>1.000000</td>\n",
              "      <td>0.571787</td>\n",
              "      <td>0.661938</td>\n",
              "      <td>0.249675</td>\n",
              "      <td>-0.002414</td>\n",
              "      <td>-0.003265</td>\n",
              "      <td>-0.002563</td>\n",
              "      <td>-0.002575</td>\n",
              "      <td>-0.001163</td>\n",
              "      <td>-0.003231</td>\n",
              "    </tr>\n",
              "    <tr>\n",
              "      <th>Total Revenue</th>\n",
              "      <td>0.001820</td>\n",
              "      <td>0.031323</td>\n",
              "      <td>0.004802</td>\n",
              "      <td>0.000114</td>\n",
              "      <td>0.404993</td>\n",
              "      <td>0.605135</td>\n",
              "      <td>0.571787</td>\n",
              "      <td>1.000000</td>\n",
              "      <td>0.970262</td>\n",
              "      <td>0.847547</td>\n",
              "      <td>-0.003404</td>\n",
              "      <td>0.001537</td>\n",
              "      <td>-0.007408</td>\n",
              "      <td>-0.003293</td>\n",
              "      <td>0.001493</td>\n",
              "      <td>-0.006901</td>\n",
              "    </tr>\n",
              "    <tr>\n",
              "      <th>Total Cost</th>\n",
              "      <td>0.000799</td>\n",
              "      <td>-0.063831</td>\n",
              "      <td>0.004291</td>\n",
              "      <td>0.000273</td>\n",
              "      <td>0.306407</td>\n",
              "      <td>0.660789</td>\n",
              "      <td>0.661938</td>\n",
              "      <td>0.970262</td>\n",
              "      <td>1.000000</td>\n",
              "      <td>0.693878</td>\n",
              "      <td>-0.004531</td>\n",
              "      <td>0.002394</td>\n",
              "      <td>-0.008189</td>\n",
              "      <td>-0.004344</td>\n",
              "      <td>0.001714</td>\n",
              "      <td>-0.006046</td>\n",
              "    </tr>\n",
              "    <tr>\n",
              "      <th>Total Profit</th>\n",
              "      <td>0.003663</td>\n",
              "      <td>0.233136</td>\n",
              "      <td>0.004877</td>\n",
              "      <td>-0.000261</td>\n",
              "      <td>0.533000</td>\n",
              "      <td>0.351399</td>\n",
              "      <td>0.249675</td>\n",
              "      <td>0.847547</td>\n",
              "      <td>0.693878</td>\n",
              "      <td>1.000000</td>\n",
              "      <td>-0.000191</td>\n",
              "      <td>-0.000675</td>\n",
              "      <td>-0.004084</td>\n",
              "      <td>-0.000272</td>\n",
              "      <td>0.000683</td>\n",
              "      <td>-0.007272</td>\n",
              "    </tr>\n",
              "    <tr>\n",
              "      <th>Order Date_year</th>\n",
              "      <td>0.002633</td>\n",
              "      <td>0.004865</td>\n",
              "      <td>-0.004491</td>\n",
              "      <td>-0.003293</td>\n",
              "      <td>-0.001296</td>\n",
              "      <td>-0.002354</td>\n",
              "      <td>-0.002414</td>\n",
              "      <td>-0.003404</td>\n",
              "      <td>-0.004531</td>\n",
              "      <td>-0.000191</td>\n",
              "      <td>1.000000</td>\n",
              "      <td>-0.099585</td>\n",
              "      <td>-0.002360</td>\n",
              "      <td>0.993609</td>\n",
              "      <td>-0.069507</td>\n",
              "      <td>-0.003916</td>\n",
              "    </tr>\n",
              "    <tr>\n",
              "      <th>Order Date_month</th>\n",
              "      <td>-0.000123</td>\n",
              "      <td>-0.001569</td>\n",
              "      <td>0.002293</td>\n",
              "      <td>-0.000636</td>\n",
              "      <td>0.004541</td>\n",
              "      <td>-0.004510</td>\n",
              "      <td>-0.003265</td>\n",
              "      <td>0.001537</td>\n",
              "      <td>0.002394</td>\n",
              "      <td>-0.000675</td>\n",
              "      <td>-0.099585</td>\n",
              "      <td>1.000000</td>\n",
              "      <td>0.008202</td>\n",
              "      <td>-0.051442</td>\n",
              "      <td>0.634793</td>\n",
              "      <td>0.021628</td>\n",
              "    </tr>\n",
              "    <tr>\n",
              "      <th>Order Date_day</th>\n",
              "      <td>-0.002553</td>\n",
              "      <td>-0.004296</td>\n",
              "      <td>-0.008324</td>\n",
              "      <td>0.003941</td>\n",
              "      <td>-0.001992</td>\n",
              "      <td>-0.002214</td>\n",
              "      <td>-0.002563</td>\n",
              "      <td>-0.007408</td>\n",
              "      <td>-0.008189</td>\n",
              "      <td>-0.004084</td>\n",
              "      <td>-0.002360</td>\n",
              "      <td>0.008202</td>\n",
              "      <td>1.000000</td>\n",
              "      <td>0.009299</td>\n",
              "      <td>0.005926</td>\n",
              "      <td>-0.035580</td>\n",
              "    </tr>\n",
              "    <tr>\n",
              "      <th>Ship Date_year</th>\n",
              "      <td>0.002425</td>\n",
              "      <td>0.004783</td>\n",
              "      <td>-0.004951</td>\n",
              "      <td>-0.003082</td>\n",
              "      <td>-0.001259</td>\n",
              "      <td>-0.002608</td>\n",
              "      <td>-0.002575</td>\n",
              "      <td>-0.003293</td>\n",
              "      <td>-0.004344</td>\n",
              "      <td>-0.000272</td>\n",
              "      <td>0.993609</td>\n",
              "      <td>-0.051442</td>\n",
              "      <td>0.009299</td>\n",
              "      <td>1.000000</td>\n",
              "      <td>-0.115746</td>\n",
              "      <td>-0.013830</td>\n",
              "    </tr>\n",
              "    <tr>\n",
              "      <th>Ship Date_month</th>\n",
              "      <td>-0.000581</td>\n",
              "      <td>-0.000472</td>\n",
              "      <td>0.005942</td>\n",
              "      <td>-0.002023</td>\n",
              "      <td>0.004782</td>\n",
              "      <td>-0.001568</td>\n",
              "      <td>-0.001163</td>\n",
              "      <td>0.001493</td>\n",
              "      <td>0.001714</td>\n",
              "      <td>0.000683</td>\n",
              "      <td>-0.069507</td>\n",
              "      <td>0.634793</td>\n",
              "      <td>0.005926</td>\n",
              "      <td>-0.115746</td>\n",
              "      <td>1.000000</td>\n",
              "      <td>0.012062</td>\n",
              "    </tr>\n",
              "    <tr>\n",
              "      <th>Ship Date_day</th>\n",
              "      <td>0.000643</td>\n",
              "      <td>0.000827</td>\n",
              "      <td>0.003970</td>\n",
              "      <td>-0.000567</td>\n",
              "      <td>-0.004001</td>\n",
              "      <td>-0.003867</td>\n",
              "      <td>-0.003231</td>\n",
              "      <td>-0.006901</td>\n",
              "      <td>-0.006046</td>\n",
              "      <td>-0.007272</td>\n",
              "      <td>-0.003916</td>\n",
              "      <td>0.021628</td>\n",
              "      <td>-0.035580</td>\n",
              "      <td>-0.013830</td>\n",
              "      <td>0.012062</td>\n",
              "      <td>1.000000</td>\n",
              "    </tr>\n",
              "  </tbody>\n",
              "</table>\n",
              "</div>"
            ],
            "text/plain": [
              "                    Region  Item Type  ...  Ship Date_month  Ship Date_day\n",
              "Region            1.000000   0.004192  ...        -0.000581       0.000643\n",
              "Item Type         0.004192   1.000000  ...        -0.000472       0.000827\n",
              "Sales Channel    -0.001052   0.005240  ...         0.005942       0.003970\n",
              "Order Priority    0.000315   0.002265  ...        -0.002023      -0.000567\n",
              "Units Sold       -0.004143   0.092394  ...         0.004782      -0.004001\n",
              "Unit Price        0.001283  -0.111455  ...        -0.001568      -0.003867\n",
              "Unit Cost        -0.000025  -0.172341  ...        -0.001163      -0.003231\n",
              "Total Revenue     0.001820   0.031323  ...         0.001493      -0.006901\n",
              "Total Cost        0.000799  -0.063831  ...         0.001714      -0.006046\n",
              "Total Profit      0.003663   0.233136  ...         0.000683      -0.007272\n",
              "Order Date_year   0.002633   0.004865  ...        -0.069507      -0.003916\n",
              "Order Date_month -0.000123  -0.001569  ...         0.634793       0.021628\n",
              "Order Date_day   -0.002553  -0.004296  ...         0.005926      -0.035580\n",
              "Ship Date_year    0.002425   0.004783  ...        -0.115746      -0.013830\n",
              "Ship Date_month  -0.000581  -0.000472  ...         1.000000       0.012062\n",
              "Ship Date_day     0.000643   0.000827  ...         0.012062       1.000000\n",
              "\n",
              "[16 rows x 16 columns]"
            ]
          },
          "metadata": {},
          "execution_count": 215
        }
      ]
    },
    {
      "cell_type": "code",
      "metadata": {
        "colab": {
          "base_uri": "https://localhost:8080/",
          "height": 158
        },
        "id": "45DeC0gkG8-7",
        "outputId": "efb0da03-ef27-461b-e12b-a74d708287be"
      },
      "source": [
        "x.head(3)"
      ],
      "execution_count": null,
      "outputs": [
        {
          "output_type": "execute_result",
          "data": {
            "text/html": [
              "<div>\n",
              "<style scoped>\n",
              "    .dataframe tbody tr th:only-of-type {\n",
              "        vertical-align: middle;\n",
              "    }\n",
              "\n",
              "    .dataframe tbody tr th {\n",
              "        vertical-align: top;\n",
              "    }\n",
              "\n",
              "    .dataframe thead th {\n",
              "        text-align: right;\n",
              "    }\n",
              "</style>\n",
              "<table border=\"1\" class=\"dataframe\">\n",
              "  <thead>\n",
              "    <tr style=\"text-align: right;\">\n",
              "      <th></th>\n",
              "      <th>Region</th>\n",
              "      <th>Country</th>\n",
              "      <th>Item Type</th>\n",
              "      <th>Sales Channel</th>\n",
              "      <th>Order Priority</th>\n",
              "      <th>Units Sold</th>\n",
              "      <th>Unit Price</th>\n",
              "      <th>Unit Cost</th>\n",
              "      <th>Total Revenue</th>\n",
              "      <th>Total Cost</th>\n",
              "      <th>Total Profit</th>\n",
              "      <th>Order Date_year</th>\n",
              "      <th>Order Date_month</th>\n",
              "      <th>Order Date_day</th>\n",
              "      <th>Ship Date_year</th>\n",
              "      <th>Ship Date_month</th>\n",
              "      <th>Ship Date_day</th>\n",
              "    </tr>\n",
              "  </thead>\n",
              "  <tbody>\n",
              "    <tr>\n",
              "      <th>0</th>\n",
              "      <td>0</td>\n",
              "      <td>Namibia</td>\n",
              "      <td>0</td>\n",
              "      <td>0</td>\n",
              "      <td>2</td>\n",
              "      <td>3604</td>\n",
              "      <td>668.27</td>\n",
              "      <td>502.54</td>\n",
              "      <td>2408445.08</td>\n",
              "      <td>1811154.16</td>\n",
              "      <td>597290.92</td>\n",
              "      <td>2015</td>\n",
              "      <td>8</td>\n",
              "      <td>31</td>\n",
              "      <td>2015</td>\n",
              "      <td>10</td>\n",
              "      <td>12</td>\n",
              "    </tr>\n",
              "    <tr>\n",
              "      <th>1</th>\n",
              "      <td>1</td>\n",
              "      <td>Iceland</td>\n",
              "      <td>11</td>\n",
              "      <td>1</td>\n",
              "      <td>3</td>\n",
              "      <td>8435</td>\n",
              "      <td>255.28</td>\n",
              "      <td>159.42</td>\n",
              "      <td>2153286.80</td>\n",
              "      <td>1344707.70</td>\n",
              "      <td>808579.10</td>\n",
              "      <td>2010</td>\n",
              "      <td>11</td>\n",
              "      <td>20</td>\n",
              "      <td>2011</td>\n",
              "      <td>1</td>\n",
              "      <td>9</td>\n",
              "    </tr>\n",
              "    <tr>\n",
              "      <th>2</th>\n",
              "      <td>1</td>\n",
              "      <td>Russia</td>\n",
              "      <td>1</td>\n",
              "      <td>1</td>\n",
              "      <td>1</td>\n",
              "      <td>4848</td>\n",
              "      <td>421.89</td>\n",
              "      <td>364.69</td>\n",
              "      <td>2045322.72</td>\n",
              "      <td>1768017.12</td>\n",
              "      <td>277305.60</td>\n",
              "      <td>2017</td>\n",
              "      <td>6</td>\n",
              "      <td>22</td>\n",
              "      <td>2017</td>\n",
              "      <td>6</td>\n",
              "      <td>25</td>\n",
              "    </tr>\n",
              "  </tbody>\n",
              "</table>\n",
              "</div>"
            ],
            "text/plain": [
              "   Region  Country  Item Type  ...  Ship Date_year  Ship Date_month  Ship Date_day\n",
              "0       0  Namibia          0  ...            2015               10             12\n",
              "1       1  Iceland         11  ...            2011                1              9\n",
              "2       1   Russia          1  ...            2017                6             25\n",
              "\n",
              "[3 rows x 17 columns]"
            ]
          },
          "metadata": {},
          "execution_count": 216
        }
      ]
    },
    {
      "cell_type": "code",
      "metadata": {
        "id": "QCC8zqB9JY73"
      },
      "source": [
        ""
      ],
      "execution_count": null,
      "outputs": []
    },
    {
      "cell_type": "code",
      "metadata": {
        "id": "-aSDltyhG_ei"
      },
      "source": [
        "x = df.drop('Total Profit',axis = 1)\n",
        "y = pd.DataFrame()\n",
        "y = df['Total Profit']"
      ],
      "execution_count": null,
      "outputs": []
    },
    {
      "cell_type": "code",
      "metadata": {
        "colab": {
          "base_uri": "https://localhost:8080/"
        },
        "id": "yMyD_zDSHEY1",
        "outputId": "24c88bd1-7e7f-404e-ce6a-b511c11b1aa8"
      },
      "source": [
        "y.head()"
      ],
      "execution_count": null,
      "outputs": [
        {
          "output_type": "execute_result",
          "data": {
            "text/plain": [
              "0    597290.92\n",
              "1    808579.10\n",
              "2    277305.60\n",
              "3    413270.00\n",
              "4    174965.25\n",
              "Name: Total Profit, dtype: float64"
            ]
          },
          "metadata": {},
          "execution_count": 83
        }
      ]
    },
    {
      "cell_type": "code",
      "metadata": {
        "colab": {
          "base_uri": "https://localhost:8080/",
          "height": 220
        },
        "id": "d73eehuOHGF4",
        "outputId": "a505e1c3-d0a0-4203-8429-085fba46a00a"
      },
      "source": [
        "x.head()"
      ],
      "execution_count": null,
      "outputs": [
        {
          "output_type": "execute_result",
          "data": {
            "text/html": [
              "<div>\n",
              "<style scoped>\n",
              "    .dataframe tbody tr th:only-of-type {\n",
              "        vertical-align: middle;\n",
              "    }\n",
              "\n",
              "    .dataframe tbody tr th {\n",
              "        vertical-align: top;\n",
              "    }\n",
              "\n",
              "    .dataframe thead th {\n",
              "        text-align: right;\n",
              "    }\n",
              "</style>\n",
              "<table border=\"1\" class=\"dataframe\">\n",
              "  <thead>\n",
              "    <tr style=\"text-align: right;\">\n",
              "      <th></th>\n",
              "      <th>Region</th>\n",
              "      <th>Country</th>\n",
              "      <th>Item Type</th>\n",
              "      <th>Sales Channel</th>\n",
              "      <th>Order Priority</th>\n",
              "      <th>Units Sold</th>\n",
              "      <th>Unit Price</th>\n",
              "      <th>Unit Cost</th>\n",
              "      <th>Total Revenue</th>\n",
              "      <th>Total Cost</th>\n",
              "      <th>Order Date_year</th>\n",
              "      <th>Order Date_month</th>\n",
              "      <th>Order Date_day</th>\n",
              "      <th>Ship Date_year</th>\n",
              "      <th>Ship Date_month</th>\n",
              "      <th>Ship Date_day</th>\n",
              "    </tr>\n",
              "  </thead>\n",
              "  <tbody>\n",
              "    <tr>\n",
              "      <th>0</th>\n",
              "      <td>0.000000</td>\n",
              "      <td>0.603261</td>\n",
              "      <td>0.000000</td>\n",
              "      <td>0.0</td>\n",
              "      <td>0.333333</td>\n",
              "      <td>0.360336</td>\n",
              "      <td>1.000000</td>\n",
              "      <td>0.956721</td>\n",
              "      <td>0.360433</td>\n",
              "      <td>0.345040</td>\n",
              "      <td>0.714286</td>\n",
              "      <td>0.636364</td>\n",
              "      <td>1.000000</td>\n",
              "      <td>0.714286</td>\n",
              "      <td>0.818182</td>\n",
              "      <td>0.366667</td>\n",
              "    </tr>\n",
              "    <tr>\n",
              "      <th>1</th>\n",
              "      <td>0.166667</td>\n",
              "      <td>0.364130</td>\n",
              "      <td>1.000000</td>\n",
              "      <td>1.0</td>\n",
              "      <td>0.666667</td>\n",
              "      <td>0.843484</td>\n",
              "      <td>0.373251</td>\n",
              "      <td>0.294379</td>\n",
              "      <td>0.322247</td>\n",
              "      <td>0.256177</td>\n",
              "      <td>0.000000</td>\n",
              "      <td>0.909091</td>\n",
              "      <td>0.633333</td>\n",
              "      <td>0.142857</td>\n",
              "      <td>0.000000</td>\n",
              "      <td>0.266667</td>\n",
              "    </tr>\n",
              "    <tr>\n",
              "      <th>2</th>\n",
              "      <td>0.166667</td>\n",
              "      <td>0.717391</td>\n",
              "      <td>0.090909</td>\n",
              "      <td>1.0</td>\n",
              "      <td>0.000000</td>\n",
              "      <td>0.484748</td>\n",
              "      <td>0.626096</td>\n",
              "      <td>0.690622</td>\n",
              "      <td>0.306090</td>\n",
              "      <td>0.336822</td>\n",
              "      <td>1.000000</td>\n",
              "      <td>0.454545</td>\n",
              "      <td>0.700000</td>\n",
              "      <td>1.000000</td>\n",
              "      <td>0.454545</td>\n",
              "      <td>0.800000</td>\n",
              "    </tr>\n",
              "    <tr>\n",
              "      <th>3</th>\n",
              "      <td>0.166667</td>\n",
              "      <td>0.565217</td>\n",
              "      <td>0.090909</td>\n",
              "      <td>1.0</td>\n",
              "      <td>0.000000</td>\n",
              "      <td>0.722472</td>\n",
              "      <td>0.626096</td>\n",
              "      <td>0.690622</td>\n",
              "      <td>0.456170</td>\n",
              "      <td>0.501969</td>\n",
              "      <td>0.285714</td>\n",
              "      <td>0.090909</td>\n",
              "      <td>0.900000</td>\n",
              "      <td>0.285714</td>\n",
              "      <td>0.181818</td>\n",
              "      <td>0.633333</td>\n",
              "    </tr>\n",
              "    <tr>\n",
              "      <th>4</th>\n",
              "      <td>0.166667</td>\n",
              "      <td>0.538043</td>\n",
              "      <td>0.818182</td>\n",
              "      <td>1.0</td>\n",
              "      <td>0.333333</td>\n",
              "      <td>0.197420</td>\n",
              "      <td>0.298009</td>\n",
              "      <td>0.212706</td>\n",
              "      <td>0.060795</td>\n",
              "      <td>0.044060</td>\n",
              "      <td>0.000000</td>\n",
              "      <td>0.636364</td>\n",
              "      <td>0.366667</td>\n",
              "      <td>0.000000</td>\n",
              "      <td>0.727273</td>\n",
              "      <td>0.400000</td>\n",
              "    </tr>\n",
              "  </tbody>\n",
              "</table>\n",
              "</div>"
            ],
            "text/plain": [
              "     Region   Country  ...  Ship Date_month  Ship Date_day\n",
              "0  0.000000  0.603261  ...         0.818182       0.366667\n",
              "1  0.166667  0.364130  ...         0.000000       0.266667\n",
              "2  0.166667  0.717391  ...         0.454545       0.800000\n",
              "3  0.166667  0.565217  ...         0.181818       0.633333\n",
              "4  0.166667  0.538043  ...         0.727273       0.400000\n",
              "\n",
              "[5 rows x 16 columns]"
            ]
          },
          "metadata": {},
          "execution_count": 84
        }
      ]
    },
    {
      "cell_type": "code",
      "metadata": {
        "colab": {
          "base_uri": "https://localhost:8080/"
        },
        "id": "MdAVYiQBKTiV",
        "outputId": "8f4134c1-147c-4f8b-fbb1-50ef2ec03479"
      },
      "source": [
        "df.dtypes"
      ],
      "execution_count": null,
      "outputs": [
        {
          "output_type": "execute_result",
          "data": {
            "text/plain": [
              "Region              float64\n",
              "Country             float64\n",
              "Item Type           float64\n",
              "Sales Channel       float64\n",
              "Order Priority      float64\n",
              "Units Sold          float64\n",
              "Unit Price          float64\n",
              "Unit Cost           float64\n",
              "Total Revenue       float64\n",
              "Total Cost          float64\n",
              "Total Profit        float64\n",
              "Order Date_year     float64\n",
              "Order Date_month    float64\n",
              "Order Date_day      float64\n",
              "Ship Date_year      float64\n",
              "Ship Date_month     float64\n",
              "Ship Date_day       float64\n",
              "dtype: object"
            ]
          },
          "metadata": {},
          "execution_count": 87
        }
      ]
    },
    {
      "cell_type": "code",
      "metadata": {
        "id": "GC2mm3oaOKv-"
      },
      "source": [
        "df.to_csv(r'/content/drive/MyDrive/Project phase/Sales_project_phaseII.csv')"
      ],
      "execution_count": null,
      "outputs": []
    },
    {
      "cell_type": "code",
      "metadata": {
        "colab": {
          "base_uri": "https://localhost:8080/",
          "height": 1000
        },
        "id": "M6GMPpRIJweF",
        "outputId": "1b25110e-48ae-4cf6-f809-2776793d8610"
      },
      "source": [
        "col = []\n",
        "col = ['Units Sold','Unit Price','Unit Cost','Total Revenue','Total Cost']\n",
        "for i in range(len(col)):\n",
        "  df.plot(kind='scatter', x=col[i], y='Total Profit') ;\n",
        "  plt.show()"
      ],
      "execution_count": null,
      "outputs": [
        {
          "output_type": "display_data",
          "data": {
            "image/png": "[encoded data removed]",
            "text/plain": [
              "<Figure size 432x288 with 1 Axes>"
            ]
          },
          "metadata": {}
        },
        {
          "output_type": "display_data",
          "data": {
            "image/png": "[encoded data removed]",
            "text/plain": [
              "<Figure size 432x288 with 1 Axes>"
            ]
          },
          "metadata": {}
        },
        {
          "output_type": "display_data",
          "data": {
            "image/png": "[encoded data removed]",
            "text/plain": [
              "<Figure size 432x288 with 1 Axes>"
            ]
          },
          "metadata": {}
        },
        {
          "output_type": "display_data",
          "data": {
            "image/png": "[encoded data removed]",
            "text/plain": [
              "<Figure size 432x288 with 1 Axes>"
            ]
          },
          "metadata": {}
        },
        {
          "output_type": "display_data",
          "data": {
            "image/png": "[encoded data removed]",
            "text/plain": [
              "<Figure size 432x288 with 1 Axes>"
            ]
          },
          "metadata": {}
        }
      ]
    },
    {
      "cell_type": "code",
      "metadata": {
        "id": "4AN6ustFMS-S"
      },
      "source": [
        ""
      ],
      "execution_count": null,
      "outputs": []
    }
  ]
}