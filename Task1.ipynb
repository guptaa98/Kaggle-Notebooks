{
  "nbformat": 4,
  "nbformat_minor": 0,
  "metadata": {
    "colab": {
      "name": "Task1.ipynb",
      "provenance": [],
      "collapsed_sections": [],
      "authorship_tag": "ABX9TyNWzsJw9YGv/gbI1zBQrhh6",
      "include_colab_link": true
    },
    "kernelspec": {
      "name": "python3",
      "display_name": "Python 3"
    },
    "accelerator": "GPU"
  },
  "cells": [
    {
      "cell_type": "markdown",
      "metadata": {
        "id": "view-in-github",
        "colab_type": "text"
      },
      "source": [
        "<a href=\"https://colab.research.google.com/github/guptaa98/Kaggle-Notebooks/blob/master/Task1.ipynb\" target=\"_parent\"><img src=\"https://colab.research.google.com/assets/colab-badge.svg\" alt=\"Open In Colab\"/></a>"
      ]
    },
    {
      "cell_type": "code",
      "metadata": {
        "id": "n76XhJNhnwCG",
        "outputId": "d70b272d-b72d-4178-c607-18cd1cf36e8d",
        "colab": {
          "base_uri": "https://localhost:8080/",
          "height": 34
        }
      },
      "source": [
        "from google.colab import drive \n",
        "\n",
        "drive.mount('/content/drive/')"
      ],
      "execution_count": null,
      "outputs": [
        {
          "output_type": "stream",
          "text": [
            "Drive already mounted at /content/drive/; to attempt to forcibly remount, call drive.mount(\"/content/drive/\", force_remount=True).\n"
          ],
          "name": "stdout"
        }
      ]
    },
    {
      "cell_type": "code",
      "metadata": {
        "id": "5FDy6tRNBLRj"
      },
      "source": [
        "#dataset is https://www.kaggle.com/kazanova/sentiment140 "
      ],
      "execution_count": null,
      "outputs": []
    },
    {
      "cell_type": "code",
      "metadata": {
        "id": "BIEXR8sDny_x"
      },
      "source": [
        "%matplotlib inline\n",
        "import warnings\n",
        "warnings.filterwarnings(\"ignore\")\n",
        "\n",
        "import sqlite3\n",
        "import pandas as pd\n",
        "import numpy as np\n",
        "import nltk\n",
        "import string\n",
        "import matplotlib.pyplot as plt\n",
        "import seaborn as sns\n",
        "from sklearn.feature_extraction.text import TfidfTransformer\n",
        "from sklearn.feature_extraction.text import TfidfVectorizer\n",
        "\n",
        "from sklearn.feature_extraction.text import CountVectorizer\n",
        "from sklearn.metrics import confusion_matrix\n",
        "from sklearn import metrics\n",
        "from sklearn.metrics import roc_curve, auc\n",
        "from nltk.stem.porter import PorterStemmer\n",
        "\n",
        "import re\n",
        "# Tutorial about Python regular expressions: https://pymotw.com/2/re/\n",
        "import string\n",
        "from nltk.corpus import stopwords\n",
        "from nltk.stem import PorterStemmer\n",
        "from nltk.stem.wordnet import WordNetLemmatizer\n",
        "\n",
        "from gensim.models import Word2Vec\n",
        "from gensim.models import KeyedVectors\n",
        "import pickle\n",
        "\n",
        "from tqdm import tqdm\n",
        "import os\n"
      ],
      "execution_count": null,
      "outputs": []
    },
    {
      "cell_type": "code",
      "metadata": {
        "id": "CQ_wTkeun8hF"
      },
      "source": [
        "project_data = pd.read_csv(\"/content/drive/My Drive/nlpassignment/assignment1.csv\", encoding='latin-1')"
      ],
      "execution_count": null,
      "outputs": []
    },
    {
      "cell_type": "code",
      "metadata": {
        "id": "BCEXtoJ0n-sm",
        "outputId": "901b7da9-a6a3-45fc-ee45-b2f5a7bed26d",
        "colab": {
          "base_uri": "https://localhost:8080/",
          "height": 195
        }
      },
      "source": [
        "project_data.head()"
      ],
      "execution_count": null,
      "outputs": [
        {
          "output_type": "execute_result",
          "data": {
            "text/html": [
              "<div>\n",
              "<style scoped>\n",
              "    .dataframe tbody tr th:only-of-type {\n",
              "        vertical-align: middle;\n",
              "    }\n",
              "\n",
              "    .dataframe tbody tr th {\n",
              "        vertical-align: top;\n",
              "    }\n",
              "\n",
              "    .dataframe thead th {\n",
              "        text-align: right;\n",
              "    }\n",
              "</style>\n",
              "<table border=\"1\" class=\"dataframe\">\n",
              "  <thead>\n",
              "    <tr style=\"text-align: right;\">\n",
              "      <th></th>\n",
              "      <th>target</th>\n",
              "      <th>ids</th>\n",
              "      <th>date</th>\n",
              "      <th>flag</th>\n",
              "      <th>user</th>\n",
              "      <th>text</th>\n",
              "    </tr>\n",
              "  </thead>\n",
              "  <tbody>\n",
              "    <tr>\n",
              "      <th>0</th>\n",
              "      <td>0</td>\n",
              "      <td>1467810672</td>\n",
              "      <td>Mon Apr 06 22:19:49 PDT 2009</td>\n",
              "      <td>NO_QUERY</td>\n",
              "      <td>scotthamilton</td>\n",
              "      <td>is upset that he can't update his Facebook by ...</td>\n",
              "    </tr>\n",
              "    <tr>\n",
              "      <th>1</th>\n",
              "      <td>0</td>\n",
              "      <td>1467810917</td>\n",
              "      <td>Mon Apr 06 22:19:53 PDT 2009</td>\n",
              "      <td>NO_QUERY</td>\n",
              "      <td>mattycus</td>\n",
              "      <td>@Kenichan I dived many times for the ball. Man...</td>\n",
              "    </tr>\n",
              "    <tr>\n",
              "      <th>2</th>\n",
              "      <td>0</td>\n",
              "      <td>1467811184</td>\n",
              "      <td>Mon Apr 06 22:19:57 PDT 2009</td>\n",
              "      <td>NO_QUERY</td>\n",
              "      <td>ElleCTF</td>\n",
              "      <td>my whole body feels itchy and like its on fire</td>\n",
              "    </tr>\n",
              "    <tr>\n",
              "      <th>3</th>\n",
              "      <td>0</td>\n",
              "      <td>1467811193</td>\n",
              "      <td>Mon Apr 06 22:19:57 PDT 2009</td>\n",
              "      <td>NO_QUERY</td>\n",
              "      <td>Karoli</td>\n",
              "      <td>@nationwideclass no, it's not behaving at all....</td>\n",
              "    </tr>\n",
              "    <tr>\n",
              "      <th>4</th>\n",
              "      <td>0</td>\n",
              "      <td>1467811372</td>\n",
              "      <td>Mon Apr 06 22:20:00 PDT 2009</td>\n",
              "      <td>NO_QUERY</td>\n",
              "      <td>joy_wolf</td>\n",
              "      <td>@Kwesidei not the whole crew</td>\n",
              "    </tr>\n",
              "  </tbody>\n",
              "</table>\n",
              "</div>"
            ],
            "text/plain": [
              "   target  ...                                               text\n",
              "0       0  ...  is upset that he can't update his Facebook by ...\n",
              "1       0  ...  @Kenichan I dived many times for the ball. Man...\n",
              "2       0  ...    my whole body feels itchy and like its on fire \n",
              "3       0  ...  @nationwideclass no, it's not behaving at all....\n",
              "4       0  ...                      @Kwesidei not the whole crew \n",
              "\n",
              "[5 rows x 6 columns]"
            ]
          },
          "metadata": {
            "tags": []
          },
          "execution_count": 4
        }
      ]
    },
    {
      "cell_type": "code",
      "metadata": {
        "id": "7EhNHlSroBVB",
        "outputId": "3658a862-d6b3-4747-c8bb-5d9463b56a6e",
        "colab": {
          "base_uri": "https://localhost:8080/",
          "height": 67
        }
      },
      "source": [
        "print(\"Number of data points in train data\", project_data.shape)\n",
        "print('-'*50)\n",
        "print(\"The attributes of data :\", project_data.columns.values)"
      ],
      "execution_count": null,
      "outputs": [
        {
          "output_type": "stream",
          "text": [
            "Number of data points in train data (1599999, 6)\n",
            "--------------------------------------------------\n",
            "The attributes of data : ['target' 'ids' 'date' 'flag' 'user' 'text']\n"
          ],
          "name": "stdout"
        }
      ]
    },
    {
      "cell_type": "code",
      "metadata": {
        "id": "Yl6U-vmAHijH",
        "outputId": "6e2313f8-136a-42e7-d7f2-5e600b52fd54",
        "colab": {
          "base_uri": "https://localhost:8080/",
          "height": 34
        }
      },
      "source": [
        "#finding no of missing values of all features\n",
        "def find_missing_values(df, columns):\n",
        "    missing_val={}\n",
        "    df_length=len(project_data)\n",
        "    for column in columns:\n",
        "        total_column_values=df[column].value_counts().sum()\n",
        "        missing_val[column]=df_length-total_column_values\n",
        "    return missing_val\n",
        "missing_values=find_missing_values(project_data,project_data.columns)\n",
        "missing_values"
      ],
      "execution_count": null,
      "outputs": [
        {
          "output_type": "execute_result",
          "data": {
            "text/plain": [
              "{'date': 0, 'flag': 0, 'ids': 0, 'target': 0, 'text': 0, 'user': 0}"
            ]
          },
          "metadata": {
            "tags": []
          },
          "execution_count": 6
        }
      ]
    },
    {
      "cell_type": "code",
      "metadata": {
        "id": "kj79XyV3oUtx"
      },
      "source": [
        "#project_data.drop(['date'],axis=1,inplace=True)"
      ],
      "execution_count": null,
      "outputs": []
    },
    {
      "cell_type": "code",
      "metadata": {
        "id": "5T9RZg42otF6",
        "outputId": "4256447d-e662-42c4-c79e-000516918edd",
        "colab": {
          "base_uri": "https://localhost:8080/",
          "height": 77
        }
      },
      "source": [
        "approved_project = project_data['target'].values\n",
        "project_data.drop(['target'], axis=1, inplace=True)\n",
        "project_data.head(1)"
      ],
      "execution_count": null,
      "outputs": [
        {
          "output_type": "execute_result",
          "data": {
            "text/html": [
              "<div>\n",
              "<style scoped>\n",
              "    .dataframe tbody tr th:only-of-type {\n",
              "        vertical-align: middle;\n",
              "    }\n",
              "\n",
              "    .dataframe tbody tr th {\n",
              "        vertical-align: top;\n",
              "    }\n",
              "\n",
              "    .dataframe thead th {\n",
              "        text-align: right;\n",
              "    }\n",
              "</style>\n",
              "<table border=\"1\" class=\"dataframe\">\n",
              "  <thead>\n",
              "    <tr style=\"text-align: right;\">\n",
              "      <th></th>\n",
              "      <th>ids</th>\n",
              "      <th>date</th>\n",
              "      <th>flag</th>\n",
              "      <th>user</th>\n",
              "      <th>text</th>\n",
              "    </tr>\n",
              "  </thead>\n",
              "  <tbody>\n",
              "    <tr>\n",
              "      <th>0</th>\n",
              "      <td>1467810672</td>\n",
              "      <td>Mon Apr 06 22:19:49 PDT 2009</td>\n",
              "      <td>NO_QUERY</td>\n",
              "      <td>scotthamilton</td>\n",
              "      <td>is upset that he can't update his Facebook by ...</td>\n",
              "    </tr>\n",
              "  </tbody>\n",
              "</table>\n",
              "</div>"
            ],
            "text/plain": [
              "          ids  ...                                               text\n",
              "0  1467810672  ...  is upset that he can't update his Facebook by ...\n",
              "\n",
              "[1 rows x 5 columns]"
            ]
          },
          "metadata": {
            "tags": []
          },
          "execution_count": 7
        }
      ]
    },
    {
      "cell_type": "code",
      "metadata": {
        "id": "-VMCfGvwoFAL"
      },
      "source": [
        "# Data splitting\n",
        "\n",
        "from sklearn.model_selection import train_test_split\n",
        "\n",
        "# Splitting in train and test\n",
        "X_train, X_test, y_train, y_test = train_test_split(project_data, approved_project, test_size=0.33, stratify=approved_project)"
      ],
      "execution_count": null,
      "outputs": []
    },
    {
      "cell_type": "code",
      "metadata": {
        "id": "IwqnGSvaoT8_",
        "outputId": "21e8244b-89d2-4497-8889-1ddeef30dd93",
        "colab": {
          "base_uri": "https://localhost:8080/",
          "height": 34
        }
      },
      "source": [
        "#train\n",
        "tokenization = \"\"\n",
        "#wordnet_lemmatizer = WordNetLemmatizer()\n",
        "for dataset in tqdm(X_train['text'].values):\n",
        "        tokenization += dataset"
      ],
      "execution_count": null,
      "outputs": [
        {
          "output_type": "stream",
          "text": [
            "100%|██████████| 1071999/1071999 [00:00<00:00, 1091740.00it/s]\n"
          ],
          "name": "stderr"
        }
      ]
    },
    {
      "cell_type": "code",
      "metadata": {
        "id": "fUBGOGt3oFoj",
        "outputId": "1f55e102-a1de-43d6-a0c2-c5e334fa9f75",
        "colab": {
          "base_uri": "https://localhost:8080/",
          "height": 34
        }
      },
      "source": [
        "#test data\n",
        "tokenization = \"\"\n",
        "#wordnet_lemmatizer = WordNetLemmatizer()\n",
        "for dataset in tqdm(X_test['text'].values):\n",
        "        tokenization += dataset"
      ],
      "execution_count": null,
      "outputs": [
        {
          "output_type": "stream",
          "text": [
            "100%|██████████| 528000/528000 [00:00<00:00, 1010644.76it/s]\n"
          ],
          "name": "stderr"
        }
      ]
    },
    {
      "cell_type": "code",
      "metadata": {
        "id": "ZAe3IGnUoFub",
        "outputId": "2f18f383-c513-4370-ae84-ab72fa5f6e4c",
        "colab": {
          "base_uri": "https://localhost:8080/",
          "height": 34
        }
      },
      "source": [
        "#TOP 10 most occuring words\n",
        "from collections import Counter\n",
        "split_it = tokenization.split()\n",
        "Counter = Counter(split_it)\n",
        "most_occur = Counter.most_common(10)\n",
        "print(most_occur)"
      ],
      "execution_count": null,
      "outputs": [
        {
          "output_type": "stream",
          "text": [
            "[('to', 182337), ('the', 160457), ('I', 158354), ('a', 120709), ('my', 91936), ('and', 90603), ('i', 80136), ('you', 70109), ('is', 69854), ('for', 69168)]\n"
          ],
          "name": "stdout"
        }
      ]
    },
    {
      "cell_type": "code",
      "metadata": {
        "id": "6vt2mNYOoFwm",
        "outputId": "a2a651c6-752b-43c7-e480-b740c0930912",
        "colab": {
          "base_uri": "https://localhost:8080/",
          "height": 67
        }
      },
      "source": [
        "#stemming on train\n",
        "import nltk\n",
        "nltk.download('punkt')\n",
        "from nltk.stem import PorterStemmer\n",
        "from nltk.tokenize import word_tokenize\n",
        "stemmer= PorterStemmer()\n",
        "\n",
        "preprocessed_text_train = []\n",
        "# tqdm is for printing the status bar\n",
        "for sentence in tqdm(X_train['text'].values):\n",
        "    sent = word_tokenize(sentence)\n",
        "    \n",
        "    stem_word = \"\"\n",
        "    for word in sent:\n",
        "        stem_word =  stem_word + \" \" + stemmer.stem(word)\n",
        "    \n",
        "    preprocessed_text_train.append(stem_word)"
      ],
      "execution_count": null,
      "outputs": [
        {
          "output_type": "stream",
          "text": [
            "[nltk_data] Downloading package punkt to /root/nltk_data...\n"
          ],
          "name": "stdout"
        },
        {
          "output_type": "stream",
          "text": [
            "  0%|          | 209/1071999 [00:00<08:33, 2085.91it/s]"
          ],
          "name": "stderr"
        },
        {
          "output_type": "stream",
          "text": [
            "[nltk_data]   Package punkt is already up-to-date!\n"
          ],
          "name": "stdout"
        },
        {
          "output_type": "stream",
          "text": [
            "100%|██████████| 1071999/1071999 [08:42<00:00, 2052.15it/s]\n"
          ],
          "name": "stderr"
        }
      ]
    },
    {
      "cell_type": "code",
      "metadata": {
        "id": "iSfkDgN3oFy5",
        "outputId": "471fd1c1-ec14-47f8-94e5-cc0b146c006b",
        "colab": {
          "base_uri": "https://localhost:8080/",
          "height": 67
        }
      },
      "source": [
        "#stemming on test\n",
        "import nltk\n",
        "nltk.download('punkt')\n",
        "from nltk.stem import PorterStemmer\n",
        "from nltk.tokenize import word_tokenize\n",
        "stemmer= PorterStemmer()\n",
        "\n",
        "preprocessed_text_test = []\n",
        "# tqdm is for printing the status bar\n",
        "for sentence in tqdm(X_test['text'].values):\n",
        "    sent = word_tokenize(sentence)\n",
        "    \n",
        "    stem_word = \"\"\n",
        "    for word in sent:\n",
        "        stem_word =  stem_word + \" \" + stemmer.stem(word)\n",
        "    \n",
        "    preprocessed_text_test.append(stem_word)"
      ],
      "execution_count": null,
      "outputs": [
        {
          "output_type": "stream",
          "text": [
            "  0%|          | 212/528000 [00:00<04:09, 2113.15it/s]"
          ],
          "name": "stderr"
        },
        {
          "output_type": "stream",
          "text": [
            "[nltk_data] Downloading package punkt to /root/nltk_data...\n",
            "[nltk_data]   Package punkt is already up-to-date!\n"
          ],
          "name": "stdout"
        },
        {
          "output_type": "stream",
          "text": [
            "100%|██████████| 528000/528000 [04:20<00:00, 2028.37it/s]\n"
          ],
          "name": "stderr"
        }
      ]
    },
    {
      "cell_type": "code",
      "metadata": {
        "id": "QnLT0G_KoF1F",
        "outputId": "38e37ea7-99d7-4fdc-f235-00ac51d13b6e",
        "colab": {
          "base_uri": "https://localhost:8080/",
          "height": 50
        }
      },
      "source": [
        "#lemmatization on train\n",
        "import nltk\n",
        "nltk.download('wordnet')\n",
        "from nltk.stem import WordNetLemmatizer\n",
        "from nltk.tokenize import word_tokenize\n",
        "lemmatizer=WordNetLemmatizer()\n",
        "\n",
        "lemmatized_text_train = []\n",
        "for i in range (0,len(preprocessed_text_train)):\n",
        "    \n",
        "    input_str = word_tokenize(preprocessed_text_train[i])\n",
        "    \n",
        "    lemmatize_word = \"\"\n",
        "    for word in input_str:\n",
        "        lemmatize_word = lemmatize_word + \" \" + lemmatizer.lemmatize(word)\n",
        "    \n",
        "    lemmatized_text_train.append(lemmatize_word)"
      ],
      "execution_count": null,
      "outputs": [
        {
          "output_type": "stream",
          "text": [
            "[nltk_data] Downloading package wordnet to /root/nltk_data...\n",
            "[nltk_data]   Package wordnet is already up-to-date!\n"
          ],
          "name": "stdout"
        }
      ]
    },
    {
      "cell_type": "code",
      "metadata": {
        "id": "nsalHb9uoF3Z",
        "outputId": "fb62b456-d22d-453e-ab68-bc821c8ba593",
        "colab": {
          "base_uri": "https://localhost:8080/",
          "height": 50
        }
      },
      "source": [
        "#lemmatization on train\n",
        "import nltk\n",
        "nltk.download('wordnet')\n",
        "from nltk.stem import WordNetLemmatizer\n",
        "from nltk.tokenize import word_tokenize\n",
        "lemmatizer=WordNetLemmatizer()\n",
        "\n",
        "lemmatized_text_test = []\n",
        "for i in range (0,len(preprocessed_text_test)):\n",
        "    \n",
        "    input_str = word_tokenize(preprocessed_text_test[i])\n",
        "    \n",
        "    lemmatize_word = \"\"\n",
        "    for word in input_str:\n",
        "        lemmatize_word = lemmatize_word + \" \" + lemmatizer.lemmatize(word)\n",
        "    \n",
        "    lemmatized_text_test.append(lemmatize_word)"
      ],
      "execution_count": null,
      "outputs": [
        {
          "output_type": "stream",
          "text": [
            "[nltk_data] Downloading package wordnet to /root/nltk_data...\n",
            "[nltk_data]   Package wordnet is already up-to-date!\n"
          ],
          "name": "stdout"
        }
      ]
    },
    {
      "cell_type": "code",
      "metadata": {
        "id": "4k3xu2GOoF5b"
      },
      "source": [
        "import re\n",
        "\n",
        "def decontracted(phrase):\n",
        "    # specific\n",
        "    phrase = re.sub(r\"won't\", \"will not\", phrase)\n",
        "    phrase = re.sub(r\"can\\'t\", \"can not\", phrase)\n",
        "\n",
        "    # general\n",
        "    phrase = re.sub(r\"n\\'t\", \" not\", phrase)\n",
        "    phrase = re.sub(r\"\\'re\", \" are\", phrase)\n",
        "    phrase = re.sub(r\"\\'s\", \" is\", phrase)\n",
        "    phrase = re.sub(r\"\\'d\", \" would\", phrase)\n",
        "    phrase = re.sub(r\"\\'ll\", \" will\", phrase)\n",
        "    phrase = re.sub(r\"\\'t\", \" not\", phrase)\n",
        "    phrase = re.sub(r\"\\'ve\", \" have\", phrase)\n",
        "    phrase = re.sub(r\"\\'m\", \" am\", phrase)\n",
        "    return phrase"
      ],
      "execution_count": null,
      "outputs": []
    },
    {
      "cell_type": "code",
      "metadata": {
        "id": "KTbPp9NLoF7q"
      },
      "source": [
        "stopwords= ['i', 'me', 'my', 'myself', 'we', 'our', 'ours', 'ourselves', 'you', \"you're\", \"you've\",\\\n",
        "            \"you'll\", \"you'd\", 'your', 'yours', 'yourself', 'yourselves', 'he', 'him', 'his', 'himself', \\\n",
        "            'she', \"she's\", 'her', 'hers', 'herself', 'it', \"it's\", 'its', 'itself', 'they', 'them', 'their',\\\n",
        "            'theirs', 'themselves', 'what', 'which', 'who', 'whom', 'this', 'that', \"that'll\", 'these', 'those', \\\n",
        "            'am', 'is', 'are', 'was', 'were', 'be', 'been', 'being', 'have', 'has', 'had', 'having', 'do', 'does', \\\n",
        "            'did', 'doing', 'a', 'an', 'the', 'and', 'but', 'if', 'or', 'because', 'as', 'until', 'while', 'of', \\\n",
        "            'at', 'by', 'for', 'with', 'about', 'against', 'between', 'into', 'through', 'during', 'before', 'after',\\\n",
        "            'above', 'below', 'to', 'from', 'up', 'down', 'in', 'out', 'on', 'off', 'over', 'under', 'again', 'further',\\\n",
        "            'then', 'once', 'here', 'there', 'when', 'where', 'why', 'how', 'all', 'any', 'both', 'each', 'few', 'more',\\\n",
        "            'most', 'other', 'some', 'such', 'only', 'own', 'same', 'so', 'than', 'too', 'very', \\\n",
        "            's', 't', 'can', 'will', 'just', 'don', \"don't\", 'should', \"should've\", 'now', 'd', 'll', 'm', 'o', 're', \\\n",
        "            've', 'y', 'ain', 'aren', \"aren't\", 'couldn', \"couldn't\", 'didn', \"didn't\", 'doesn', \"doesn't\", 'hadn',\\\n",
        "            \"hadn't\", 'hasn', \"hasn't\", 'haven', \"haven't\", 'isn', \"isn't\", 'ma', 'mightn', \"mightn't\", 'mustn',\\\n",
        "            \"mustn't\", 'needn', \"needn't\", 'shan', \"shan't\", 'shouldn', \"shouldn't\", 'wasn', \"wasn't\", 'weren', \"weren't\", \\\n",
        "            'won', \"won't\", 'wouldn', \"wouldn't\"]"
      ],
      "execution_count": null,
      "outputs": []
    },
    {
      "cell_type": "code",
      "metadata": {
        "id": "MCIgjuLhoF-Q"
      },
      "source": [
        "final_preprocessed_text_train = []\n",
        "\n",
        "for i in range (0,len(lemmatized_text_train)):\n",
        "    sent = decontracted(lemmatized_text_train[i])\n",
        "    sent = re.sub('[^A-Za-z0-9]+', ' ', sent)\n",
        "    sent = re.sub(\"\\S*\\d\\S*\", \"\", sent).strip()\n",
        "    sent = re.sub(r\"@\", '', sent)\n",
        "\n",
        "    sent = ' '.join(e for e in sent.split() if e not in stopwords)  \n",
        "    final_preprocessed_text_train.append(sent.lower().strip())"
      ],
      "execution_count": null,
      "outputs": []
    },
    {
      "cell_type": "code",
      "metadata": {
        "id": "GHD7wVBdyP2_"
      },
      "source": [
        "final_preprocessed_text_test = []\n",
        "\n",
        "for i in range (0,len(lemmatized_text_test)):\n",
        "    sent = decontracted(lemmatized_text_test[i])\n",
        "    sent = re.sub('[^A-Za-z0-9]+', ' ', sent)\n",
        "    sent = re.sub(\"\\S*\\d\\S*\", \"\", sent).strip()\n",
        "    sent = re.sub(r\"@\", '', sent)\n",
        "\n",
        "    sent = ' '.join(e for e in sent.split() if e not in stopwords)  \n",
        "    final_preprocessed_text_test.append(sent.lower().strip())"
      ],
      "execution_count": null,
      "outputs": []
    },
    {
      "cell_type": "code",
      "metadata": {
        "id": "HtmJ2M65oGAU",
        "outputId": "06e91b80-9df2-4a93-9786-f7bd9ba6fd97",
        "colab": {
          "base_uri": "https://localhost:8080/",
          "height": 722
        }
      },
      "source": [
        "for i in range (0,21):\n",
        "    print(final_preprocessed_text_train[i])\n",
        "    print(\"=\"*50)"
      ],
      "execution_count": null,
      "outputs": [
        {
          "output_type": "stream",
          "text": [
            "joeymcintyr wonder go put quot one mani quot itun i hope onli cd i not\n",
            "==================================================\n",
            "hope bro b move day it b much easier way let cross finger\n",
            "==================================================\n",
            "oh yeah oreo time return\n",
            "==================================================\n",
            "thank god friday\n",
            "==================================================\n",
            "i got good pic everyon jonathanrknight favorit look like i go figur way go anoth show\n",
            "==================================================\n",
            "timeladi believ wa news cnnfail took space import thing lt shake head gt\n",
            "==================================================\n",
            "greenyclara hey clara yeah appar sold copi left actual i give comment\n",
            "==================================================\n",
            "still havent got round watch supernatur\n",
            "==================================================\n",
            "back home\n",
            "==================================================\n",
            "kyleyleg soon enough i home\n",
            "==================================================\n",
            "rxgellivictor oh no take care gelli\n",
            "==================================================\n",
            "meliiann whi cri last night i sorri last nite\n",
            "==================================================\n",
            "chelsr so excit rest intervi remind whi i not fan hi\n",
            "==================================================\n",
            "dttucson not sure wa play shaq tweet know mall first person tag get autograph yada yada\n",
            "==================================================\n",
            "sinequanon doe not realli make wan na watch not tempt\n",
            "==================================================\n",
            "final found park i prob like left lunch\n",
            "==================================================\n",
            "i miss boyfriend i wish i could right\n",
            "==================================================\n",
            "http twitpic com misskittyfliff ca not pretend mips everyth\n",
            "==================================================\n",
            "go earli night night twitter facebook youtube fmylife com bebo haha\n",
            "==================================================\n",
            "it like eye vs ear thing\n",
            "==================================================\n",
            "jlspinz boooo sound sad\n",
            "==================================================\n"
          ],
          "name": "stdout"
        }
      ]
    },
    {
      "cell_type": "code",
      "metadata": {
        "id": "ztqao5ptoGCY",
        "outputId": "79044d21-a5e5-4d12-ad8a-5f5025759edb",
        "colab": {
          "base_uri": "https://localhost:8080/",
          "height": 50
        }
      },
      "source": [
        "from sklearn.feature_extraction.text import CountVectorizer, TfidfVectorizer\n",
        "vectorizer = CountVectorizer(min_df=10)\n",
        "vectorizer.fit(final_preprocessed_text_train)\n",
        "text_bow_train = vectorizer.transform(final_preprocessed_text_train)\n",
        "text_bow_test = vectorizer.transform(final_preprocessed_text_test)\n",
        "print(\"Shape of matrix after one hot encoding \",text_bow_train.shape)\n",
        "print(\"Shape of matrix after one hot encoding \",text_bow_test.shape)"
      ],
      "execution_count": null,
      "outputs": [
        {
          "output_type": "stream",
          "text": [
            "Shape of matrix after one hot encoding  (1071999, 25272)\n",
            "Shape of matrix after one hot encoding  (528000, 25272)\n"
          ],
          "name": "stdout"
        }
      ]
    },
    {
      "cell_type": "code",
      "metadata": {
        "id": "7y7xEgoJoGE0",
        "outputId": "a23d0edb-ec95-4133-ca54-59009d5e1a07",
        "colab": {
          "base_uri": "https://localhost:8080/",
          "height": 34
        }
      },
      "source": [
        "X_train['text']=text_bow_train\n",
        "X_train.shape"
      ],
      "execution_count": null,
      "outputs": [
        {
          "output_type": "execute_result",
          "data": {
            "text/plain": [
              "(1071999, 5)"
            ]
          },
          "metadata": {
            "tags": []
          },
          "execution_count": 22
        }
      ]
    },
    {
      "cell_type": "code",
      "metadata": {
        "id": "HNbdP4HzoGIN",
        "outputId": "61c7f977-1e4f-4190-efd3-01dd0f36d3a6",
        "colab": {
          "base_uri": "https://localhost:8080/",
          "height": 34
        }
      },
      "source": [
        "X_test['text']=text_bow_test\n",
        "X_test.shape"
      ],
      "execution_count": null,
      "outputs": [
        {
          "output_type": "execute_result",
          "data": {
            "text/plain": [
              "(528000, 5)"
            ]
          },
          "metadata": {
            "tags": []
          },
          "execution_count": 23
        }
      ]
    },
    {
      "cell_type": "code",
      "metadata": {
        "id": "B1dZHN1I__yS",
        "outputId": "9718e6dc-279e-4866-9e36-faa5a339d995",
        "colab": {
          "base_uri": "https://localhost:8080/",
          "height": 195
        }
      },
      "source": [
        "X_train.head()"
      ],
      "execution_count": null,
      "outputs": [
        {
          "output_type": "execute_result",
          "data": {
            "text/html": [
              "<div>\n",
              "<style scoped>\n",
              "    .dataframe tbody tr th:only-of-type {\n",
              "        vertical-align: middle;\n",
              "    }\n",
              "\n",
              "    .dataframe tbody tr th {\n",
              "        vertical-align: top;\n",
              "    }\n",
              "\n",
              "    .dataframe thead th {\n",
              "        text-align: right;\n",
              "    }\n",
              "</style>\n",
              "<table border=\"1\" class=\"dataframe\">\n",
              "  <thead>\n",
              "    <tr style=\"text-align: right;\">\n",
              "      <th></th>\n",
              "      <th>ids</th>\n",
              "      <th>date</th>\n",
              "      <th>flag</th>\n",
              "      <th>user</th>\n",
              "      <th>text</th>\n",
              "    </tr>\n",
              "  </thead>\n",
              "  <tbody>\n",
              "    <tr>\n",
              "      <th>170998</th>\n",
              "      <td>1963085974</td>\n",
              "      <td>Fri May 29 12:10:52 PDT 2009</td>\n",
              "      <td>NO_QUERY</td>\n",
              "      <td>debbier93</td>\n",
              "      <td>(0, 3541)\\t1\\n  (0, 8598)\\t1\\n  (0, 9905)\\t1...</td>\n",
              "    </tr>\n",
              "    <tr>\n",
              "      <th>967061</th>\n",
              "      <td>1827747428</td>\n",
              "      <td>Sun May 17 11:21:42 PDT 2009</td>\n",
              "      <td>NO_QUERY</td>\n",
              "      <td>BekaHernandez</td>\n",
              "      <td>(0, 3541)\\t1\\n  (0, 8598)\\t1\\n  (0, 9905)\\t1...</td>\n",
              "    </tr>\n",
              "    <tr>\n",
              "      <th>1255065</th>\n",
              "      <td>1997215161</td>\n",
              "      <td>Mon Jun 01 16:27:29 PDT 2009</td>\n",
              "      <td>NO_QUERY</td>\n",
              "      <td>giiab</td>\n",
              "      <td>(0, 3541)\\t1\\n  (0, 8598)\\t1\\n  (0, 9905)\\t1...</td>\n",
              "    </tr>\n",
              "    <tr>\n",
              "      <th>1344907</th>\n",
              "      <td>2039972421</td>\n",
              "      <td>Thu Jun 04 23:17:09 PDT 2009</td>\n",
              "      <td>NO_QUERY</td>\n",
              "      <td>juwain</td>\n",
              "      <td>(0, 3541)\\t1\\n  (0, 8598)\\t1\\n  (0, 9905)\\t1...</td>\n",
              "    </tr>\n",
              "    <tr>\n",
              "      <th>392238</th>\n",
              "      <td>2055101523</td>\n",
              "      <td>Sat Jun 06 08:42:02 PDT 2009</td>\n",
              "      <td>NO_QUERY</td>\n",
              "      <td>cdurham23</td>\n",
              "      <td>(0, 3541)\\t1\\n  (0, 8598)\\t1\\n  (0, 9905)\\t1...</td>\n",
              "    </tr>\n",
              "  </tbody>\n",
              "</table>\n",
              "</div>"
            ],
            "text/plain": [
              "                ids  ...                                               text\n",
              "170998   1963085974  ...    (0, 3541)\\t1\\n  (0, 8598)\\t1\\n  (0, 9905)\\t1...\n",
              "967061   1827747428  ...    (0, 3541)\\t1\\n  (0, 8598)\\t1\\n  (0, 9905)\\t1...\n",
              "1255065  1997215161  ...    (0, 3541)\\t1\\n  (0, 8598)\\t1\\n  (0, 9905)\\t1...\n",
              "1344907  2039972421  ...    (0, 3541)\\t1\\n  (0, 8598)\\t1\\n  (0, 9905)\\t1...\n",
              "392238   2055101523  ...    (0, 3541)\\t1\\n  (0, 8598)\\t1\\n  (0, 9905)\\t1...\n",
              "\n",
              "[5 rows x 5 columns]"
            ]
          },
          "metadata": {
            "tags": []
          },
          "execution_count": 24
        }
      ]
    },
    {
      "cell_type": "code",
      "metadata": {
        "id": "5A9_gbD-ADDa",
        "outputId": "eb6e2ea5-69b0-467c-ed14-4b8ba67cef06",
        "colab": {
          "base_uri": "https://localhost:8080/",
          "height": 195
        }
      },
      "source": [
        "X_test.head()"
      ],
      "execution_count": null,
      "outputs": [
        {
          "output_type": "execute_result",
          "data": {
            "text/html": [
              "<div>\n",
              "<style scoped>\n",
              "    .dataframe tbody tr th:only-of-type {\n",
              "        vertical-align: middle;\n",
              "    }\n",
              "\n",
              "    .dataframe tbody tr th {\n",
              "        vertical-align: top;\n",
              "    }\n",
              "\n",
              "    .dataframe thead th {\n",
              "        text-align: right;\n",
              "    }\n",
              "</style>\n",
              "<table border=\"1\" class=\"dataframe\">\n",
              "  <thead>\n",
              "    <tr style=\"text-align: right;\">\n",
              "      <th></th>\n",
              "      <th>ids</th>\n",
              "      <th>date</th>\n",
              "      <th>flag</th>\n",
              "      <th>user</th>\n",
              "      <th>text</th>\n",
              "    </tr>\n",
              "  </thead>\n",
              "  <tbody>\n",
              "    <tr>\n",
              "      <th>705263</th>\n",
              "      <td>2256307492</td>\n",
              "      <td>Sat Jun 20 12:34:38 PDT 2009</td>\n",
              "      <td>NO_QUERY</td>\n",
              "      <td>sweetmisary</td>\n",
              "      <td>(0, 1566)\\t1\\n  (0, 3318)\\t1\\n  (0, 8598)\\t1...</td>\n",
              "    </tr>\n",
              "    <tr>\n",
              "      <th>788459</th>\n",
              "      <td>2325146666</td>\n",
              "      <td>Thu Jun 25 04:52:05 PDT 2009</td>\n",
              "      <td>NO_QUERY</td>\n",
              "      <td>christineporras</td>\n",
              "      <td>(0, 1566)\\t1\\n  (0, 3318)\\t1\\n  (0, 8598)\\t1...</td>\n",
              "    </tr>\n",
              "    <tr>\n",
              "      <th>508014</th>\n",
              "      <td>2189056887</td>\n",
              "      <td>Mon Jun 15 23:08:41 PDT 2009</td>\n",
              "      <td>NO_QUERY</td>\n",
              "      <td>princessjasleen</td>\n",
              "      <td>(0, 1566)\\t1\\n  (0, 3318)\\t1\\n  (0, 8598)\\t1...</td>\n",
              "    </tr>\n",
              "    <tr>\n",
              "      <th>767669</th>\n",
              "      <td>2300592010</td>\n",
              "      <td>Tue Jun 23 14:20:33 PDT 2009</td>\n",
              "      <td>NO_QUERY</td>\n",
              "      <td>AriSandcheeze</td>\n",
              "      <td>(0, 1566)\\t1\\n  (0, 3318)\\t1\\n  (0, 8598)\\t1...</td>\n",
              "    </tr>\n",
              "    <tr>\n",
              "      <th>832468</th>\n",
              "      <td>1557601032</td>\n",
              "      <td>Sun Apr 19 05:03:37 PDT 2009</td>\n",
              "      <td>NO_QUERY</td>\n",
              "      <td>ipsy</td>\n",
              "      <td>(0, 1566)\\t1\\n  (0, 3318)\\t1\\n  (0, 8598)\\t1...</td>\n",
              "    </tr>\n",
              "  </tbody>\n",
              "</table>\n",
              "</div>"
            ],
            "text/plain": [
              "               ids  ...                                               text\n",
              "705263  2256307492  ...    (0, 1566)\\t1\\n  (0, 3318)\\t1\\n  (0, 8598)\\t1...\n",
              "788459  2325146666  ...    (0, 1566)\\t1\\n  (0, 3318)\\t1\\n  (0, 8598)\\t1...\n",
              "508014  2189056887  ...    (0, 1566)\\t1\\n  (0, 3318)\\t1\\n  (0, 8598)\\t1...\n",
              "767669  2300592010  ...    (0, 1566)\\t1\\n  (0, 3318)\\t1\\n  (0, 8598)\\t1...\n",
              "832468  1557601032  ...    (0, 1566)\\t1\\n  (0, 3318)\\t1\\n  (0, 8598)\\t1...\n",
              "\n",
              "[5 rows x 5 columns]"
            ]
          },
          "metadata": {
            "tags": []
          },
          "execution_count": 25
        }
      ]
    },
    {
      "cell_type": "code",
      "metadata": {
        "id": "DfwVf2j9zrBZ",
        "outputId": "e53a959f-4df1-4453-e7e5-7369dd31480e",
        "colab": {
          "base_uri": "https://localhost:8080/",
          "height": 50
        }
      },
      "source": [
        "from sklearn.feature_extraction.text import CountVectorizer, TfidfVectorizer\n",
        "vectorizer = CountVectorizer(min_df=10)\n",
        "vectorizer.fit(X_train['flag'])\n",
        "flag_bow_train = vectorizer.transform(X_train['flag'])\n",
        "flag_bow_test = vectorizer.transform(X_test['flag'])\n",
        "print(\"Shape of matrix after one hot encoding \",flag_bow_train.shape)\n",
        "print(\"Shape of matrix after one hot encoding \",flag_bow_test.shape)"
      ],
      "execution_count": null,
      "outputs": [
        {
          "output_type": "stream",
          "text": [
            "Shape of matrix after one hot encoding  (1071999, 1)\n",
            "Shape of matrix after one hot encoding  (528000, 1)\n"
          ],
          "name": "stdout"
        }
      ]
    },
    {
      "cell_type": "code",
      "metadata": {
        "id": "NAzKiwCI3uqq",
        "outputId": "9ae73d19-9f40-442f-8913-d9e7146ebc5d",
        "colab": {
          "base_uri": "https://localhost:8080/",
          "height": 195
        }
      },
      "source": [
        "X_train['flag']=flag_bow_train\n",
        "X_train.head()"
      ],
      "execution_count": null,
      "outputs": [
        {
          "output_type": "execute_result",
          "data": {
            "text/html": [
              "<div>\n",
              "<style scoped>\n",
              "    .dataframe tbody tr th:only-of-type {\n",
              "        vertical-align: middle;\n",
              "    }\n",
              "\n",
              "    .dataframe tbody tr th {\n",
              "        vertical-align: top;\n",
              "    }\n",
              "\n",
              "    .dataframe thead th {\n",
              "        text-align: right;\n",
              "    }\n",
              "</style>\n",
              "<table border=\"1\" class=\"dataframe\">\n",
              "  <thead>\n",
              "    <tr style=\"text-align: right;\">\n",
              "      <th></th>\n",
              "      <th>ids</th>\n",
              "      <th>date</th>\n",
              "      <th>flag</th>\n",
              "      <th>user</th>\n",
              "      <th>text</th>\n",
              "    </tr>\n",
              "  </thead>\n",
              "  <tbody>\n",
              "    <tr>\n",
              "      <th>170998</th>\n",
              "      <td>1963085974</td>\n",
              "      <td>Fri May 29 12:10:52 PDT 2009</td>\n",
              "      <td>(0, 0)\\t1\\n  (1, 0)\\t1\\n  (2, 0)\\t1\\n  (3, 0...</td>\n",
              "      <td>debbier93</td>\n",
              "      <td>(0, 3541)\\t1\\n  (0, 8598)\\t1\\n  (0, 9905)\\t1...</td>\n",
              "    </tr>\n",
              "    <tr>\n",
              "      <th>967061</th>\n",
              "      <td>1827747428</td>\n",
              "      <td>Sun May 17 11:21:42 PDT 2009</td>\n",
              "      <td>(0, 0)\\t1\\n  (1, 0)\\t1\\n  (2, 0)\\t1\\n  (3, 0...</td>\n",
              "      <td>BekaHernandez</td>\n",
              "      <td>(0, 3541)\\t1\\n  (0, 8598)\\t1\\n  (0, 9905)\\t1...</td>\n",
              "    </tr>\n",
              "    <tr>\n",
              "      <th>1255065</th>\n",
              "      <td>1997215161</td>\n",
              "      <td>Mon Jun 01 16:27:29 PDT 2009</td>\n",
              "      <td>(0, 0)\\t1\\n  (1, 0)\\t1\\n  (2, 0)\\t1\\n  (3, 0...</td>\n",
              "      <td>giiab</td>\n",
              "      <td>(0, 3541)\\t1\\n  (0, 8598)\\t1\\n  (0, 9905)\\t1...</td>\n",
              "    </tr>\n",
              "    <tr>\n",
              "      <th>1344907</th>\n",
              "      <td>2039972421</td>\n",
              "      <td>Thu Jun 04 23:17:09 PDT 2009</td>\n",
              "      <td>(0, 0)\\t1\\n  (1, 0)\\t1\\n  (2, 0)\\t1\\n  (3, 0...</td>\n",
              "      <td>juwain</td>\n",
              "      <td>(0, 3541)\\t1\\n  (0, 8598)\\t1\\n  (0, 9905)\\t1...</td>\n",
              "    </tr>\n",
              "    <tr>\n",
              "      <th>392238</th>\n",
              "      <td>2055101523</td>\n",
              "      <td>Sat Jun 06 08:42:02 PDT 2009</td>\n",
              "      <td>(0, 0)\\t1\\n  (1, 0)\\t1\\n  (2, 0)\\t1\\n  (3, 0...</td>\n",
              "      <td>cdurham23</td>\n",
              "      <td>(0, 3541)\\t1\\n  (0, 8598)\\t1\\n  (0, 9905)\\t1...</td>\n",
              "    </tr>\n",
              "  </tbody>\n",
              "</table>\n",
              "</div>"
            ],
            "text/plain": [
              "                ids  ...                                               text\n",
              "170998   1963085974  ...    (0, 3541)\\t1\\n  (0, 8598)\\t1\\n  (0, 9905)\\t1...\n",
              "967061   1827747428  ...    (0, 3541)\\t1\\n  (0, 8598)\\t1\\n  (0, 9905)\\t1...\n",
              "1255065  1997215161  ...    (0, 3541)\\t1\\n  (0, 8598)\\t1\\n  (0, 9905)\\t1...\n",
              "1344907  2039972421  ...    (0, 3541)\\t1\\n  (0, 8598)\\t1\\n  (0, 9905)\\t1...\n",
              "392238   2055101523  ...    (0, 3541)\\t1\\n  (0, 8598)\\t1\\n  (0, 9905)\\t1...\n",
              "\n",
              "[5 rows x 5 columns]"
            ]
          },
          "metadata": {
            "tags": []
          },
          "execution_count": 27
        }
      ]
    },
    {
      "cell_type": "code",
      "metadata": {
        "id": "9RE9KJ1v31BK",
        "outputId": "7e7d6c72-0347-44a2-bac8-497adfc62d7e",
        "colab": {
          "base_uri": "https://localhost:8080/",
          "height": 195
        }
      },
      "source": [
        "X_test['flag']=flag_bow_test\n",
        "X_test.head()"
      ],
      "execution_count": null,
      "outputs": [
        {
          "output_type": "execute_result",
          "data": {
            "text/html": [
              "<div>\n",
              "<style scoped>\n",
              "    .dataframe tbody tr th:only-of-type {\n",
              "        vertical-align: middle;\n",
              "    }\n",
              "\n",
              "    .dataframe tbody tr th {\n",
              "        vertical-align: top;\n",
              "    }\n",
              "\n",
              "    .dataframe thead th {\n",
              "        text-align: right;\n",
              "    }\n",
              "</style>\n",
              "<table border=\"1\" class=\"dataframe\">\n",
              "  <thead>\n",
              "    <tr style=\"text-align: right;\">\n",
              "      <th></th>\n",
              "      <th>ids</th>\n",
              "      <th>date</th>\n",
              "      <th>flag</th>\n",
              "      <th>user</th>\n",
              "      <th>text</th>\n",
              "    </tr>\n",
              "  </thead>\n",
              "  <tbody>\n",
              "    <tr>\n",
              "      <th>705263</th>\n",
              "      <td>2256307492</td>\n",
              "      <td>Sat Jun 20 12:34:38 PDT 2009</td>\n",
              "      <td>(0, 0)\\t1\\n  (1, 0)\\t1\\n  (2, 0)\\t1\\n  (3, 0...</td>\n",
              "      <td>sweetmisary</td>\n",
              "      <td>(0, 1566)\\t1\\n  (0, 3318)\\t1\\n  (0, 8598)\\t1...</td>\n",
              "    </tr>\n",
              "    <tr>\n",
              "      <th>788459</th>\n",
              "      <td>2325146666</td>\n",
              "      <td>Thu Jun 25 04:52:05 PDT 2009</td>\n",
              "      <td>(0, 0)\\t1\\n  (1, 0)\\t1\\n  (2, 0)\\t1\\n  (3, 0...</td>\n",
              "      <td>christineporras</td>\n",
              "      <td>(0, 1566)\\t1\\n  (0, 3318)\\t1\\n  (0, 8598)\\t1...</td>\n",
              "    </tr>\n",
              "    <tr>\n",
              "      <th>508014</th>\n",
              "      <td>2189056887</td>\n",
              "      <td>Mon Jun 15 23:08:41 PDT 2009</td>\n",
              "      <td>(0, 0)\\t1\\n  (1, 0)\\t1\\n  (2, 0)\\t1\\n  (3, 0...</td>\n",
              "      <td>princessjasleen</td>\n",
              "      <td>(0, 1566)\\t1\\n  (0, 3318)\\t1\\n  (0, 8598)\\t1...</td>\n",
              "    </tr>\n",
              "    <tr>\n",
              "      <th>767669</th>\n",
              "      <td>2300592010</td>\n",
              "      <td>Tue Jun 23 14:20:33 PDT 2009</td>\n",
              "      <td>(0, 0)\\t1\\n  (1, 0)\\t1\\n  (2, 0)\\t1\\n  (3, 0...</td>\n",
              "      <td>AriSandcheeze</td>\n",
              "      <td>(0, 1566)\\t1\\n  (0, 3318)\\t1\\n  (0, 8598)\\t1...</td>\n",
              "    </tr>\n",
              "    <tr>\n",
              "      <th>832468</th>\n",
              "      <td>1557601032</td>\n",
              "      <td>Sun Apr 19 05:03:37 PDT 2009</td>\n",
              "      <td>(0, 0)\\t1\\n  (1, 0)\\t1\\n  (2, 0)\\t1\\n  (3, 0...</td>\n",
              "      <td>ipsy</td>\n",
              "      <td>(0, 1566)\\t1\\n  (0, 3318)\\t1\\n  (0, 8598)\\t1...</td>\n",
              "    </tr>\n",
              "  </tbody>\n",
              "</table>\n",
              "</div>"
            ],
            "text/plain": [
              "               ids  ...                                               text\n",
              "705263  2256307492  ...    (0, 1566)\\t1\\n  (0, 3318)\\t1\\n  (0, 8598)\\t1...\n",
              "788459  2325146666  ...    (0, 1566)\\t1\\n  (0, 3318)\\t1\\n  (0, 8598)\\t1...\n",
              "508014  2189056887  ...    (0, 1566)\\t1\\n  (0, 3318)\\t1\\n  (0, 8598)\\t1...\n",
              "767669  2300592010  ...    (0, 1566)\\t1\\n  (0, 3318)\\t1\\n  (0, 8598)\\t1...\n",
              "832468  1557601032  ...    (0, 1566)\\t1\\n  (0, 3318)\\t1\\n  (0, 8598)\\t1...\n",
              "\n",
              "[5 rows x 5 columns]"
            ]
          },
          "metadata": {
            "tags": []
          },
          "execution_count": 28
        }
      ]
    },
    {
      "cell_type": "code",
      "metadata": {
        "id": "ukUoxdgKzrEV",
        "outputId": "5b032613-8d61-4592-e905-e9fe181cce57",
        "colab": {
          "base_uri": "https://localhost:8080/",
          "height": 50
        }
      },
      "source": [
        "from sklearn.feature_extraction.text import CountVectorizer, TfidfVectorizer\n",
        "vectorizer = CountVectorizer(min_df=10)\n",
        "vectorizer.fit(X_train['user'])\n",
        "user_bow_train = vectorizer.transform(X_train['user'])\n",
        "user_bow_test = vectorizer.transform(X_test['user'])\n",
        "print(\"Shape of matrix after one hot encoding \",user_bow_train.shape)\n",
        "print(\"Shape of matrix after one hot encoding \",user_bow_test.shape)"
      ],
      "execution_count": null,
      "outputs": [
        {
          "output_type": "stream",
          "text": [
            "Shape of matrix after one hot encoding  (1071999, 11757)\n",
            "Shape of matrix after one hot encoding  (528000, 11757)\n"
          ],
          "name": "stdout"
        }
      ]
    },
    {
      "cell_type": "code",
      "metadata": {
        "id": "RhbUs3qBzrG4",
        "outputId": "00f0094f-111c-4dbe-8bf4-0448c699785b",
        "colab": {
          "base_uri": "https://localhost:8080/",
          "height": 195
        }
      },
      "source": [
        "X_train['user']=user_bow_train\n",
        "X_train.head()"
      ],
      "execution_count": null,
      "outputs": [
        {
          "output_type": "execute_result",
          "data": {
            "text/html": [
              "<div>\n",
              "<style scoped>\n",
              "    .dataframe tbody tr th:only-of-type {\n",
              "        vertical-align: middle;\n",
              "    }\n",
              "\n",
              "    .dataframe tbody tr th {\n",
              "        vertical-align: top;\n",
              "    }\n",
              "\n",
              "    .dataframe thead th {\n",
              "        text-align: right;\n",
              "    }\n",
              "</style>\n",
              "<table border=\"1\" class=\"dataframe\">\n",
              "  <thead>\n",
              "    <tr style=\"text-align: right;\">\n",
              "      <th></th>\n",
              "      <th>ids</th>\n",
              "      <th>date</th>\n",
              "      <th>flag</th>\n",
              "      <th>user</th>\n",
              "      <th>text</th>\n",
              "    </tr>\n",
              "  </thead>\n",
              "  <tbody>\n",
              "    <tr>\n",
              "      <th>170998</th>\n",
              "      <td>1963085974</td>\n",
              "      <td>Fri May 29 12:10:52 PDT 2009</td>\n",
              "      <td>(0, 0)\\t1\\n  (1, 0)\\t1\\n  (2, 0)\\t1\\n  (3, 0...</td>\n",
              "      <td>(0, 2571)\\t1\\n  (2, 3702)\\t1\\n  (5, 6498)\\t1...</td>\n",
              "      <td>(0, 3541)\\t1\\n  (0, 8598)\\t1\\n  (0, 9905)\\t1...</td>\n",
              "    </tr>\n",
              "    <tr>\n",
              "      <th>967061</th>\n",
              "      <td>1827747428</td>\n",
              "      <td>Sun May 17 11:21:42 PDT 2009</td>\n",
              "      <td>(0, 0)\\t1\\n  (1, 0)\\t1\\n  (2, 0)\\t1\\n  (3, 0...</td>\n",
              "      <td>(0, 2571)\\t1\\n  (2, 3702)\\t1\\n  (5, 6498)\\t1...</td>\n",
              "      <td>(0, 3541)\\t1\\n  (0, 8598)\\t1\\n  (0, 9905)\\t1...</td>\n",
              "    </tr>\n",
              "    <tr>\n",
              "      <th>1255065</th>\n",
              "      <td>1997215161</td>\n",
              "      <td>Mon Jun 01 16:27:29 PDT 2009</td>\n",
              "      <td>(0, 0)\\t1\\n  (1, 0)\\t1\\n  (2, 0)\\t1\\n  (3, 0...</td>\n",
              "      <td>(0, 2571)\\t1\\n  (2, 3702)\\t1\\n  (5, 6498)\\t1...</td>\n",
              "      <td>(0, 3541)\\t1\\n  (0, 8598)\\t1\\n  (0, 9905)\\t1...</td>\n",
              "    </tr>\n",
              "    <tr>\n",
              "      <th>1344907</th>\n",
              "      <td>2039972421</td>\n",
              "      <td>Thu Jun 04 23:17:09 PDT 2009</td>\n",
              "      <td>(0, 0)\\t1\\n  (1, 0)\\t1\\n  (2, 0)\\t1\\n  (3, 0...</td>\n",
              "      <td>(0, 2571)\\t1\\n  (2, 3702)\\t1\\n  (5, 6498)\\t1...</td>\n",
              "      <td>(0, 3541)\\t1\\n  (0, 8598)\\t1\\n  (0, 9905)\\t1...</td>\n",
              "    </tr>\n",
              "    <tr>\n",
              "      <th>392238</th>\n",
              "      <td>2055101523</td>\n",
              "      <td>Sat Jun 06 08:42:02 PDT 2009</td>\n",
              "      <td>(0, 0)\\t1\\n  (1, 0)\\t1\\n  (2, 0)\\t1\\n  (3, 0...</td>\n",
              "      <td>(0, 2571)\\t1\\n  (2, 3702)\\t1\\n  (5, 6498)\\t1...</td>\n",
              "      <td>(0, 3541)\\t1\\n  (0, 8598)\\t1\\n  (0, 9905)\\t1...</td>\n",
              "    </tr>\n",
              "  </tbody>\n",
              "</table>\n",
              "</div>"
            ],
            "text/plain": [
              "                ids  ...                                               text\n",
              "170998   1963085974  ...    (0, 3541)\\t1\\n  (0, 8598)\\t1\\n  (0, 9905)\\t1...\n",
              "967061   1827747428  ...    (0, 3541)\\t1\\n  (0, 8598)\\t1\\n  (0, 9905)\\t1...\n",
              "1255065  1997215161  ...    (0, 3541)\\t1\\n  (0, 8598)\\t1\\n  (0, 9905)\\t1...\n",
              "1344907  2039972421  ...    (0, 3541)\\t1\\n  (0, 8598)\\t1\\n  (0, 9905)\\t1...\n",
              "392238   2055101523  ...    (0, 3541)\\t1\\n  (0, 8598)\\t1\\n  (0, 9905)\\t1...\n",
              "\n",
              "[5 rows x 5 columns]"
            ]
          },
          "metadata": {
            "tags": []
          },
          "execution_count": 30
        }
      ]
    },
    {
      "cell_type": "code",
      "metadata": {
        "id": "Tg3WA7pzzrJ3",
        "outputId": "52154ff7-b810-4f4f-d0ca-21816d5db80c",
        "colab": {
          "base_uri": "https://localhost:8080/",
          "height": 195
        }
      },
      "source": [
        "X_test['user']=user_bow_test\n",
        "X_test.head()"
      ],
      "execution_count": null,
      "outputs": [
        {
          "output_type": "execute_result",
          "data": {
            "text/html": [
              "<div>\n",
              "<style scoped>\n",
              "    .dataframe tbody tr th:only-of-type {\n",
              "        vertical-align: middle;\n",
              "    }\n",
              "\n",
              "    .dataframe tbody tr th {\n",
              "        vertical-align: top;\n",
              "    }\n",
              "\n",
              "    .dataframe thead th {\n",
              "        text-align: right;\n",
              "    }\n",
              "</style>\n",
              "<table border=\"1\" class=\"dataframe\">\n",
              "  <thead>\n",
              "    <tr style=\"text-align: right;\">\n",
              "      <th></th>\n",
              "      <th>ids</th>\n",
              "      <th>date</th>\n",
              "      <th>flag</th>\n",
              "      <th>user</th>\n",
              "      <th>text</th>\n",
              "    </tr>\n",
              "  </thead>\n",
              "  <tbody>\n",
              "    <tr>\n",
              "      <th>705263</th>\n",
              "      <td>2256307492</td>\n",
              "      <td>Sat Jun 20 12:34:38 PDT 2009</td>\n",
              "      <td>(0, 0)\\t1\\n  (1, 0)\\t1\\n  (2, 0)\\t1\\n  (3, 0...</td>\n",
              "      <td>(14, 7265)\\t1\\n  (15, 1294)\\t1\\n  (16, 6810)...</td>\n",
              "      <td>(0, 1566)\\t1\\n  (0, 3318)\\t1\\n  (0, 8598)\\t1...</td>\n",
              "    </tr>\n",
              "    <tr>\n",
              "      <th>788459</th>\n",
              "      <td>2325146666</td>\n",
              "      <td>Thu Jun 25 04:52:05 PDT 2009</td>\n",
              "      <td>(0, 0)\\t1\\n  (1, 0)\\t1\\n  (2, 0)\\t1\\n  (3, 0...</td>\n",
              "      <td>(14, 7265)\\t1\\n  (15, 1294)\\t1\\n  (16, 6810)...</td>\n",
              "      <td>(0, 1566)\\t1\\n  (0, 3318)\\t1\\n  (0, 8598)\\t1...</td>\n",
              "    </tr>\n",
              "    <tr>\n",
              "      <th>508014</th>\n",
              "      <td>2189056887</td>\n",
              "      <td>Mon Jun 15 23:08:41 PDT 2009</td>\n",
              "      <td>(0, 0)\\t1\\n  (1, 0)\\t1\\n  (2, 0)\\t1\\n  (3, 0...</td>\n",
              "      <td>(14, 7265)\\t1\\n  (15, 1294)\\t1\\n  (16, 6810)...</td>\n",
              "      <td>(0, 1566)\\t1\\n  (0, 3318)\\t1\\n  (0, 8598)\\t1...</td>\n",
              "    </tr>\n",
              "    <tr>\n",
              "      <th>767669</th>\n",
              "      <td>2300592010</td>\n",
              "      <td>Tue Jun 23 14:20:33 PDT 2009</td>\n",
              "      <td>(0, 0)\\t1\\n  (1, 0)\\t1\\n  (2, 0)\\t1\\n  (3, 0...</td>\n",
              "      <td>(14, 7265)\\t1\\n  (15, 1294)\\t1\\n  (16, 6810)...</td>\n",
              "      <td>(0, 1566)\\t1\\n  (0, 3318)\\t1\\n  (0, 8598)\\t1...</td>\n",
              "    </tr>\n",
              "    <tr>\n",
              "      <th>832468</th>\n",
              "      <td>1557601032</td>\n",
              "      <td>Sun Apr 19 05:03:37 PDT 2009</td>\n",
              "      <td>(0, 0)\\t1\\n  (1, 0)\\t1\\n  (2, 0)\\t1\\n  (3, 0...</td>\n",
              "      <td>(14, 7265)\\t1\\n  (15, 1294)\\t1\\n  (16, 6810)...</td>\n",
              "      <td>(0, 1566)\\t1\\n  (0, 3318)\\t1\\n  (0, 8598)\\t1...</td>\n",
              "    </tr>\n",
              "  </tbody>\n",
              "</table>\n",
              "</div>"
            ],
            "text/plain": [
              "               ids  ...                                               text\n",
              "705263  2256307492  ...    (0, 1566)\\t1\\n  (0, 3318)\\t1\\n  (0, 8598)\\t1...\n",
              "788459  2325146666  ...    (0, 1566)\\t1\\n  (0, 3318)\\t1\\n  (0, 8598)\\t1...\n",
              "508014  2189056887  ...    (0, 1566)\\t1\\n  (0, 3318)\\t1\\n  (0, 8598)\\t1...\n",
              "767669  2300592010  ...    (0, 1566)\\t1\\n  (0, 3318)\\t1\\n  (0, 8598)\\t1...\n",
              "832468  1557601032  ...    (0, 1566)\\t1\\n  (0, 3318)\\t1\\n  (0, 8598)\\t1...\n",
              "\n",
              "[5 rows x 5 columns]"
            ]
          },
          "metadata": {
            "tags": []
          },
          "execution_count": 31
        }
      ]
    },
    {
      "cell_type": "code",
      "metadata": {
        "id": "dV-h8HCpRY_W",
        "outputId": "ff9ad08e-9aee-4902-d0e8-cc6ec0f70ed9",
        "colab": {
          "base_uri": "https://localhost:8080/",
          "height": 50
        }
      },
      "source": [
        "from sklearn.feature_extraction.text import CountVectorizer, TfidfVectorizer\n",
        "vectorizer = CountVectorizer(min_df=10)\n",
        "vectorizer.fit(X_train['date'])\n",
        "date_bow_train = vectorizer.transform(X_train['date'])\n",
        "date_bow_test = vectorizer.transform(X_test['date'])\n",
        "print(\"Shape of matrix after one hot encoding \",date_bow_train.shape)\n",
        "print(\"Shape of matrix after one hot encoding \",date_bow_test.shape)"
      ],
      "execution_count": null,
      "outputs": [
        {
          "output_type": "stream",
          "text": [
            "Shape of matrix after one hot encoding  (1071999, 72)\n",
            "Shape of matrix after one hot encoding  (528000, 72)\n"
          ],
          "name": "stdout"
        }
      ]
    },
    {
      "cell_type": "code",
      "metadata": {
        "id": "hfhXaw54RZMz",
        "outputId": "cfd487c9-f889-4827-ac8a-65226b926c44",
        "colab": {
          "base_uri": "https://localhost:8080/",
          "height": 195
        }
      },
      "source": [
        "X_train['date']=date_bow_train\n",
        "X_train.head()"
      ],
      "execution_count": null,
      "outputs": [
        {
          "output_type": "execute_result",
          "data": {
            "text/html": [
              "<div>\n",
              "<style scoped>\n",
              "    .dataframe tbody tr th:only-of-type {\n",
              "        vertical-align: middle;\n",
              "    }\n",
              "\n",
              "    .dataframe tbody tr th {\n",
              "        vertical-align: top;\n",
              "    }\n",
              "\n",
              "    .dataframe thead th {\n",
              "        text-align: right;\n",
              "    }\n",
              "</style>\n",
              "<table border=\"1\" class=\"dataframe\">\n",
              "  <thead>\n",
              "    <tr style=\"text-align: right;\">\n",
              "      <th></th>\n",
              "      <th>ids</th>\n",
              "      <th>date</th>\n",
              "      <th>flag</th>\n",
              "      <th>user</th>\n",
              "      <th>text</th>\n",
              "    </tr>\n",
              "  </thead>\n",
              "  <tbody>\n",
              "    <tr>\n",
              "      <th>170998</th>\n",
              "      <td>1963085974</td>\n",
              "      <td>(0, 10)\\t1\\n  (0, 12)\\t1\\n  (0, 21)\\t1\\n  (0...</td>\n",
              "      <td>(0, 0)\\t1\\n  (1, 0)\\t1\\n  (2, 0)\\t1\\n  (3, 0...</td>\n",
              "      <td>(0, 2571)\\t1\\n  (2, 3702)\\t1\\n  (5, 6498)\\t1...</td>\n",
              "      <td>(0, 3541)\\t1\\n  (0, 8598)\\t1\\n  (0, 9905)\\t1...</td>\n",
              "    </tr>\n",
              "    <tr>\n",
              "      <th>967061</th>\n",
              "      <td>1827747428</td>\n",
              "      <td>(0, 10)\\t1\\n  (0, 12)\\t1\\n  (0, 21)\\t1\\n  (0...</td>\n",
              "      <td>(0, 0)\\t1\\n  (1, 0)\\t1\\n  (2, 0)\\t1\\n  (3, 0...</td>\n",
              "      <td>(0, 2571)\\t1\\n  (2, 3702)\\t1\\n  (5, 6498)\\t1...</td>\n",
              "      <td>(0, 3541)\\t1\\n  (0, 8598)\\t1\\n  (0, 9905)\\t1...</td>\n",
              "    </tr>\n",
              "    <tr>\n",
              "      <th>1255065</th>\n",
              "      <td>1997215161</td>\n",
              "      <td>(0, 10)\\t1\\n  (0, 12)\\t1\\n  (0, 21)\\t1\\n  (0...</td>\n",
              "      <td>(0, 0)\\t1\\n  (1, 0)\\t1\\n  (2, 0)\\t1\\n  (3, 0...</td>\n",
              "      <td>(0, 2571)\\t1\\n  (2, 3702)\\t1\\n  (5, 6498)\\t1...</td>\n",
              "      <td>(0, 3541)\\t1\\n  (0, 8598)\\t1\\n  (0, 9905)\\t1...</td>\n",
              "    </tr>\n",
              "    <tr>\n",
              "      <th>1344907</th>\n",
              "      <td>2039972421</td>\n",
              "      <td>(0, 10)\\t1\\n  (0, 12)\\t1\\n  (0, 21)\\t1\\n  (0...</td>\n",
              "      <td>(0, 0)\\t1\\n  (1, 0)\\t1\\n  (2, 0)\\t1\\n  (3, 0...</td>\n",
              "      <td>(0, 2571)\\t1\\n  (2, 3702)\\t1\\n  (5, 6498)\\t1...</td>\n",
              "      <td>(0, 3541)\\t1\\n  (0, 8598)\\t1\\n  (0, 9905)\\t1...</td>\n",
              "    </tr>\n",
              "    <tr>\n",
              "      <th>392238</th>\n",
              "      <td>2055101523</td>\n",
              "      <td>(0, 10)\\t1\\n  (0, 12)\\t1\\n  (0, 21)\\t1\\n  (0...</td>\n",
              "      <td>(0, 0)\\t1\\n  (1, 0)\\t1\\n  (2, 0)\\t1\\n  (3, 0...</td>\n",
              "      <td>(0, 2571)\\t1\\n  (2, 3702)\\t1\\n  (5, 6498)\\t1...</td>\n",
              "      <td>(0, 3541)\\t1\\n  (0, 8598)\\t1\\n  (0, 9905)\\t1...</td>\n",
              "    </tr>\n",
              "  </tbody>\n",
              "</table>\n",
              "</div>"
            ],
            "text/plain": [
              "                ids  ...                                               text\n",
              "170998   1963085974  ...    (0, 3541)\\t1\\n  (0, 8598)\\t1\\n  (0, 9905)\\t1...\n",
              "967061   1827747428  ...    (0, 3541)\\t1\\n  (0, 8598)\\t1\\n  (0, 9905)\\t1...\n",
              "1255065  1997215161  ...    (0, 3541)\\t1\\n  (0, 8598)\\t1\\n  (0, 9905)\\t1...\n",
              "1344907  2039972421  ...    (0, 3541)\\t1\\n  (0, 8598)\\t1\\n  (0, 9905)\\t1...\n",
              "392238   2055101523  ...    (0, 3541)\\t1\\n  (0, 8598)\\t1\\n  (0, 9905)\\t1...\n",
              "\n",
              "[5 rows x 5 columns]"
            ]
          },
          "metadata": {
            "tags": []
          },
          "execution_count": 36
        }
      ]
    },
    {
      "cell_type": "code",
      "metadata": {
        "id": "f7yExrEvRZbV",
        "outputId": "2214fe1d-4fe4-4953-e0db-30a74249d983",
        "colab": {
          "base_uri": "https://localhost:8080/",
          "height": 195
        }
      },
      "source": [
        "X_test['date']=date_bow_test\n",
        "X_test.head()"
      ],
      "execution_count": null,
      "outputs": [
        {
          "output_type": "execute_result",
          "data": {
            "text/html": [
              "<div>\n",
              "<style scoped>\n",
              "    .dataframe tbody tr th:only-of-type {\n",
              "        vertical-align: middle;\n",
              "    }\n",
              "\n",
              "    .dataframe tbody tr th {\n",
              "        vertical-align: top;\n",
              "    }\n",
              "\n",
              "    .dataframe thead th {\n",
              "        text-align: right;\n",
              "    }\n",
              "</style>\n",
              "<table border=\"1\" class=\"dataframe\">\n",
              "  <thead>\n",
              "    <tr style=\"text-align: right;\">\n",
              "      <th></th>\n",
              "      <th>ids</th>\n",
              "      <th>date</th>\n",
              "      <th>flag</th>\n",
              "      <th>user</th>\n",
              "      <th>text</th>\n",
              "    </tr>\n",
              "  </thead>\n",
              "  <tbody>\n",
              "    <tr>\n",
              "      <th>705263</th>\n",
              "      <td>2256307492</td>\n",
              "      <td>(0, 12)\\t1\\n  (0, 20)\\t1\\n  (0, 21)\\t1\\n  (0...</td>\n",
              "      <td>(0, 0)\\t1\\n  (1, 0)\\t1\\n  (2, 0)\\t1\\n  (3, 0...</td>\n",
              "      <td>(14, 7265)\\t1\\n  (15, 1294)\\t1\\n  (16, 6810)...</td>\n",
              "      <td>(0, 1566)\\t1\\n  (0, 3318)\\t1\\n  (0, 8598)\\t1...</td>\n",
              "    </tr>\n",
              "    <tr>\n",
              "      <th>788459</th>\n",
              "      <td>2325146666</td>\n",
              "      <td>(0, 12)\\t1\\n  (0, 20)\\t1\\n  (0, 21)\\t1\\n  (0...</td>\n",
              "      <td>(0, 0)\\t1\\n  (1, 0)\\t1\\n  (2, 0)\\t1\\n  (3, 0...</td>\n",
              "      <td>(14, 7265)\\t1\\n  (15, 1294)\\t1\\n  (16, 6810)...</td>\n",
              "      <td>(0, 1566)\\t1\\n  (0, 3318)\\t1\\n  (0, 8598)\\t1...</td>\n",
              "    </tr>\n",
              "    <tr>\n",
              "      <th>508014</th>\n",
              "      <td>2189056887</td>\n",
              "      <td>(0, 12)\\t1\\n  (0, 20)\\t1\\n  (0, 21)\\t1\\n  (0...</td>\n",
              "      <td>(0, 0)\\t1\\n  (1, 0)\\t1\\n  (2, 0)\\t1\\n  (3, 0...</td>\n",
              "      <td>(14, 7265)\\t1\\n  (15, 1294)\\t1\\n  (16, 6810)...</td>\n",
              "      <td>(0, 1566)\\t1\\n  (0, 3318)\\t1\\n  (0, 8598)\\t1...</td>\n",
              "    </tr>\n",
              "    <tr>\n",
              "      <th>767669</th>\n",
              "      <td>2300592010</td>\n",
              "      <td>(0, 12)\\t1\\n  (0, 20)\\t1\\n  (0, 21)\\t1\\n  (0...</td>\n",
              "      <td>(0, 0)\\t1\\n  (1, 0)\\t1\\n  (2, 0)\\t1\\n  (3, 0...</td>\n",
              "      <td>(14, 7265)\\t1\\n  (15, 1294)\\t1\\n  (16, 6810)...</td>\n",
              "      <td>(0, 1566)\\t1\\n  (0, 3318)\\t1\\n  (0, 8598)\\t1...</td>\n",
              "    </tr>\n",
              "    <tr>\n",
              "      <th>832468</th>\n",
              "      <td>1557601032</td>\n",
              "      <td>(0, 12)\\t1\\n  (0, 20)\\t1\\n  (0, 21)\\t1\\n  (0...</td>\n",
              "      <td>(0, 0)\\t1\\n  (1, 0)\\t1\\n  (2, 0)\\t1\\n  (3, 0...</td>\n",
              "      <td>(14, 7265)\\t1\\n  (15, 1294)\\t1\\n  (16, 6810)...</td>\n",
              "      <td>(0, 1566)\\t1\\n  (0, 3318)\\t1\\n  (0, 8598)\\t1...</td>\n",
              "    </tr>\n",
              "  </tbody>\n",
              "</table>\n",
              "</div>"
            ],
            "text/plain": [
              "               ids  ...                                               text\n",
              "705263  2256307492  ...    (0, 1566)\\t1\\n  (0, 3318)\\t1\\n  (0, 8598)\\t1...\n",
              "788459  2325146666  ...    (0, 1566)\\t1\\n  (0, 3318)\\t1\\n  (0, 8598)\\t1...\n",
              "508014  2189056887  ...    (0, 1566)\\t1\\n  (0, 3318)\\t1\\n  (0, 8598)\\t1...\n",
              "767669  2300592010  ...    (0, 1566)\\t1\\n  (0, 3318)\\t1\\n  (0, 8598)\\t1...\n",
              "832468  1557601032  ...    (0, 1566)\\t1\\n  (0, 3318)\\t1\\n  (0, 8598)\\t1...\n",
              "\n",
              "[5 rows x 5 columns]"
            ]
          },
          "metadata": {
            "tags": []
          },
          "execution_count": 34
        }
      ]
    },
    {
      "cell_type": "code",
      "metadata": {
        "id": "EJBd8B8UzrMa"
      },
      "source": [
        "from sklearn.preprocessing import Normalizer\n",
        "normalizer = Normalizer()\n",
        "normalizer.fit(X_train['ids'].values.reshape(-1,1))\n",
        "\n",
        "X_train_ids = normalizer.transform(X_train['ids'].values.reshape(-1,1))\n",
        "X_test_ids = normalizer.transform(X_test['ids'].values.reshape(-1,1))"
      ],
      "execution_count": null,
      "outputs": []
    },
    {
      "cell_type": "code",
      "metadata": {
        "id": "z41FgibtzrOw"
      },
      "source": [
        "X_train['ids']=X_train_ids\n",
        "X_test['ids']=X_test_ids"
      ],
      "execution_count": null,
      "outputs": []
    },
    {
      "cell_type": "code",
      "metadata": {
        "id": "31IgcW9xAmBe",
        "outputId": "6d4e27bb-6e37-4b82-d9e9-4f6e94b82641",
        "colab": {
          "base_uri": "https://localhost:8080/",
          "height": 195
        }
      },
      "source": [
        "X_train.head()"
      ],
      "execution_count": null,
      "outputs": [
        {
          "output_type": "execute_result",
          "data": {
            "text/html": [
              "<div>\n",
              "<style scoped>\n",
              "    .dataframe tbody tr th:only-of-type {\n",
              "        vertical-align: middle;\n",
              "    }\n",
              "\n",
              "    .dataframe tbody tr th {\n",
              "        vertical-align: top;\n",
              "    }\n",
              "\n",
              "    .dataframe thead th {\n",
              "        text-align: right;\n",
              "    }\n",
              "</style>\n",
              "<table border=\"1\" class=\"dataframe\">\n",
              "  <thead>\n",
              "    <tr style=\"text-align: right;\">\n",
              "      <th></th>\n",
              "      <th>ids</th>\n",
              "      <th>date</th>\n",
              "      <th>flag</th>\n",
              "      <th>user</th>\n",
              "      <th>text</th>\n",
              "    </tr>\n",
              "  </thead>\n",
              "  <tbody>\n",
              "    <tr>\n",
              "      <th>170998</th>\n",
              "      <td>1.0</td>\n",
              "      <td>(0, 10)\\t1\\n  (0, 12)\\t1\\n  (0, 21)\\t1\\n  (0...</td>\n",
              "      <td>(0, 0)\\t1\\n  (1, 0)\\t1\\n  (2, 0)\\t1\\n  (3, 0...</td>\n",
              "      <td>(0, 2571)\\t1\\n  (2, 3702)\\t1\\n  (5, 6498)\\t1...</td>\n",
              "      <td>(0, 3541)\\t1\\n  (0, 8598)\\t1\\n  (0, 9905)\\t1...</td>\n",
              "    </tr>\n",
              "    <tr>\n",
              "      <th>967061</th>\n",
              "      <td>1.0</td>\n",
              "      <td>(0, 10)\\t1\\n  (0, 12)\\t1\\n  (0, 21)\\t1\\n  (0...</td>\n",
              "      <td>(0, 0)\\t1\\n  (1, 0)\\t1\\n  (2, 0)\\t1\\n  (3, 0...</td>\n",
              "      <td>(0, 2571)\\t1\\n  (2, 3702)\\t1\\n  (5, 6498)\\t1...</td>\n",
              "      <td>(0, 3541)\\t1\\n  (0, 8598)\\t1\\n  (0, 9905)\\t1...</td>\n",
              "    </tr>\n",
              "    <tr>\n",
              "      <th>1255065</th>\n",
              "      <td>1.0</td>\n",
              "      <td>(0, 10)\\t1\\n  (0, 12)\\t1\\n  (0, 21)\\t1\\n  (0...</td>\n",
              "      <td>(0, 0)\\t1\\n  (1, 0)\\t1\\n  (2, 0)\\t1\\n  (3, 0...</td>\n",
              "      <td>(0, 2571)\\t1\\n  (2, 3702)\\t1\\n  (5, 6498)\\t1...</td>\n",
              "      <td>(0, 3541)\\t1\\n  (0, 8598)\\t1\\n  (0, 9905)\\t1...</td>\n",
              "    </tr>\n",
              "    <tr>\n",
              "      <th>1344907</th>\n",
              "      <td>1.0</td>\n",
              "      <td>(0, 10)\\t1\\n  (0, 12)\\t1\\n  (0, 21)\\t1\\n  (0...</td>\n",
              "      <td>(0, 0)\\t1\\n  (1, 0)\\t1\\n  (2, 0)\\t1\\n  (3, 0...</td>\n",
              "      <td>(0, 2571)\\t1\\n  (2, 3702)\\t1\\n  (5, 6498)\\t1...</td>\n",
              "      <td>(0, 3541)\\t1\\n  (0, 8598)\\t1\\n  (0, 9905)\\t1...</td>\n",
              "    </tr>\n",
              "    <tr>\n",
              "      <th>392238</th>\n",
              "      <td>1.0</td>\n",
              "      <td>(0, 10)\\t1\\n  (0, 12)\\t1\\n  (0, 21)\\t1\\n  (0...</td>\n",
              "      <td>(0, 0)\\t1\\n  (1, 0)\\t1\\n  (2, 0)\\t1\\n  (3, 0...</td>\n",
              "      <td>(0, 2571)\\t1\\n  (2, 3702)\\t1\\n  (5, 6498)\\t1...</td>\n",
              "      <td>(0, 3541)\\t1\\n  (0, 8598)\\t1\\n  (0, 9905)\\t1...</td>\n",
              "    </tr>\n",
              "  </tbody>\n",
              "</table>\n",
              "</div>"
            ],
            "text/plain": [
              "         ids  ...                                               text\n",
              "170998   1.0  ...    (0, 3541)\\t1\\n  (0, 8598)\\t1\\n  (0, 9905)\\t1...\n",
              "967061   1.0  ...    (0, 3541)\\t1\\n  (0, 8598)\\t1\\n  (0, 9905)\\t1...\n",
              "1255065  1.0  ...    (0, 3541)\\t1\\n  (0, 8598)\\t1\\n  (0, 9905)\\t1...\n",
              "1344907  1.0  ...    (0, 3541)\\t1\\n  (0, 8598)\\t1\\n  (0, 9905)\\t1...\n",
              "392238   1.0  ...    (0, 3541)\\t1\\n  (0, 8598)\\t1\\n  (0, 9905)\\t1...\n",
              "\n",
              "[5 rows x 5 columns]"
            ]
          },
          "metadata": {
            "tags": []
          },
          "execution_count": 38
        }
      ]
    },
    {
      "cell_type": "code",
      "metadata": {
        "id": "MIawCSo_Ap1E",
        "outputId": "ae3d09e5-c185-40a3-8f65-96406cea8b2a",
        "colab": {
          "base_uri": "https://localhost:8080/",
          "height": 195
        }
      },
      "source": [
        "X_test.head()"
      ],
      "execution_count": null,
      "outputs": [
        {
          "output_type": "execute_result",
          "data": {
            "text/html": [
              "<div>\n",
              "<style scoped>\n",
              "    .dataframe tbody tr th:only-of-type {\n",
              "        vertical-align: middle;\n",
              "    }\n",
              "\n",
              "    .dataframe tbody tr th {\n",
              "        vertical-align: top;\n",
              "    }\n",
              "\n",
              "    .dataframe thead th {\n",
              "        text-align: right;\n",
              "    }\n",
              "</style>\n",
              "<table border=\"1\" class=\"dataframe\">\n",
              "  <thead>\n",
              "    <tr style=\"text-align: right;\">\n",
              "      <th></th>\n",
              "      <th>ids</th>\n",
              "      <th>date</th>\n",
              "      <th>flag</th>\n",
              "      <th>user</th>\n",
              "      <th>text</th>\n",
              "    </tr>\n",
              "  </thead>\n",
              "  <tbody>\n",
              "    <tr>\n",
              "      <th>705263</th>\n",
              "      <td>1.0</td>\n",
              "      <td>(0, 12)\\t1\\n  (0, 20)\\t1\\n  (0, 21)\\t1\\n  (0...</td>\n",
              "      <td>(0, 0)\\t1\\n  (1, 0)\\t1\\n  (2, 0)\\t1\\n  (3, 0...</td>\n",
              "      <td>(14, 7265)\\t1\\n  (15, 1294)\\t1\\n  (16, 6810)...</td>\n",
              "      <td>(0, 1566)\\t1\\n  (0, 3318)\\t1\\n  (0, 8598)\\t1...</td>\n",
              "    </tr>\n",
              "    <tr>\n",
              "      <th>788459</th>\n",
              "      <td>1.0</td>\n",
              "      <td>(0, 12)\\t1\\n  (0, 20)\\t1\\n  (0, 21)\\t1\\n  (0...</td>\n",
              "      <td>(0, 0)\\t1\\n  (1, 0)\\t1\\n  (2, 0)\\t1\\n  (3, 0...</td>\n",
              "      <td>(14, 7265)\\t1\\n  (15, 1294)\\t1\\n  (16, 6810)...</td>\n",
              "      <td>(0, 1566)\\t1\\n  (0, 3318)\\t1\\n  (0, 8598)\\t1...</td>\n",
              "    </tr>\n",
              "    <tr>\n",
              "      <th>508014</th>\n",
              "      <td>1.0</td>\n",
              "      <td>(0, 12)\\t1\\n  (0, 20)\\t1\\n  (0, 21)\\t1\\n  (0...</td>\n",
              "      <td>(0, 0)\\t1\\n  (1, 0)\\t1\\n  (2, 0)\\t1\\n  (3, 0...</td>\n",
              "      <td>(14, 7265)\\t1\\n  (15, 1294)\\t1\\n  (16, 6810)...</td>\n",
              "      <td>(0, 1566)\\t1\\n  (0, 3318)\\t1\\n  (0, 8598)\\t1...</td>\n",
              "    </tr>\n",
              "    <tr>\n",
              "      <th>767669</th>\n",
              "      <td>1.0</td>\n",
              "      <td>(0, 12)\\t1\\n  (0, 20)\\t1\\n  (0, 21)\\t1\\n  (0...</td>\n",
              "      <td>(0, 0)\\t1\\n  (1, 0)\\t1\\n  (2, 0)\\t1\\n  (3, 0...</td>\n",
              "      <td>(14, 7265)\\t1\\n  (15, 1294)\\t1\\n  (16, 6810)...</td>\n",
              "      <td>(0, 1566)\\t1\\n  (0, 3318)\\t1\\n  (0, 8598)\\t1...</td>\n",
              "    </tr>\n",
              "    <tr>\n",
              "      <th>832468</th>\n",
              "      <td>1.0</td>\n",
              "      <td>(0, 12)\\t1\\n  (0, 20)\\t1\\n  (0, 21)\\t1\\n  (0...</td>\n",
              "      <td>(0, 0)\\t1\\n  (1, 0)\\t1\\n  (2, 0)\\t1\\n  (3, 0...</td>\n",
              "      <td>(14, 7265)\\t1\\n  (15, 1294)\\t1\\n  (16, 6810)...</td>\n",
              "      <td>(0, 1566)\\t1\\n  (0, 3318)\\t1\\n  (0, 8598)\\t1...</td>\n",
              "    </tr>\n",
              "  </tbody>\n",
              "</table>\n",
              "</div>"
            ],
            "text/plain": [
              "        ids  ...                                               text\n",
              "705263  1.0  ...    (0, 1566)\\t1\\n  (0, 3318)\\t1\\n  (0, 8598)\\t1...\n",
              "788459  1.0  ...    (0, 1566)\\t1\\n  (0, 3318)\\t1\\n  (0, 8598)\\t1...\n",
              "508014  1.0  ...    (0, 1566)\\t1\\n  (0, 3318)\\t1\\n  (0, 8598)\\t1...\n",
              "767669  1.0  ...    (0, 1566)\\t1\\n  (0, 3318)\\t1\\n  (0, 8598)\\t1...\n",
              "832468  1.0  ...    (0, 1566)\\t1\\n  (0, 3318)\\t1\\n  (0, 8598)\\t1...\n",
              "\n",
              "[5 rows x 5 columns]"
            ]
          },
          "metadata": {
            "tags": []
          },
          "execution_count": 39
        }
      ]
    },
    {
      "cell_type": "code",
      "metadata": {
        "id": "1eOdBeSszrRV",
        "outputId": "03f9302b-77a8-45bf-eb6d-658fb997872a",
        "colab": {
          "base_uri": "https://localhost:8080/",
          "height": 84
        }
      },
      "source": [
        "# merge two sparse matrices: https://stackoverflow.com/a/19710648/4084039\n",
        "from scipy.sparse import hstack\n",
        "\n",
        "# Train data stack\n",
        "X_tr = hstack((user_bow_train,flag_bow_train,text_bow_train,X_train_ids)).tocsr()\n",
        "\n",
        "\n",
        "# Test Data Stack\n",
        "X_te = hstack((user_bow_test,flag_bow_test,text_bow_test,X_test_ids)).tocsr()\n",
        "\n",
        "print(\"Final Data matrix\")\n",
        "print(X_tr.shape, y_train.shape)\n",
        "\n",
        "print(X_te.shape, y_test.shape)\n",
        "print(\"=\"*100)"
      ],
      "execution_count": null,
      "outputs": [
        {
          "output_type": "stream",
          "text": [
            "Final Data matrix\n",
            "(1071999, 37031) (1071999,)\n",
            "(528000, 37031) (528000,)\n",
            "====================================================================================================\n"
          ],
          "name": "stdout"
        }
      ]
    },
    {
      "cell_type": "code",
      "metadata": {
        "id": "qJ5HYq6BzrTx"
      },
      "source": [
        "from sklearn.naive_bayes import MultinomialNB\n",
        "clf = MultinomialNB()\n",
        "clf.fit(X_tr,y_train)\n",
        "pred = clf.predict(X_te)"
      ],
      "execution_count": null,
      "outputs": []
    },
    {
      "cell_type": "code",
      "metadata": {
        "id": "W-hGKmBBzrWy",
        "outputId": "d38b1018-346a-4aee-cf9f-e75842826c2c",
        "colab": {
          "base_uri": "https://localhost:8080/",
          "height": 34
        }
      },
      "source": [
        "#calculating accuracy\n",
        "from sklearn.metrics import accuracy_score\n",
        "accuracy_score(pred,y_test)"
      ],
      "execution_count": null,
      "outputs": [
        {
          "output_type": "execute_result",
          "data": {
            "text/plain": [
              "0.7804147727272728"
            ]
          },
          "metadata": {
            "tags": []
          },
          "execution_count": 43
        }
      ]
    },
    {
      "cell_type": "code",
      "metadata": {
        "id": "NKfjJX1dbjYR",
        "outputId": "6d123f9b-c35c-48ec-e7ab-27340698b9c5",
        "colab": {
          "base_uri": "https://localhost:8080/",
          "height": 50
        }
      },
      "source": [
        "#making confusion matrix\n",
        "from sklearn.metrics import confusion_matrix\n",
        "confusion_matrix(y_test, pred)"
      ],
      "execution_count": null,
      "outputs": [
        {
          "output_type": "execute_result",
          "data": {
            "text/plain": [
              "array([[209277,  54723],\n",
              "       [ 61218, 202782]])"
            ]
          },
          "metadata": {
            "tags": []
          },
          "execution_count": 44
        }
      ]
    },
    {
      "cell_type": "code",
      "metadata": {
        "id": "ZJwE_DjWdi1N",
        "outputId": "fe6ff265-4291-462b-f138-65d53d4ac2f9",
        "colab": {
          "base_uri": "https://localhost:8080/",
          "height": 34
        }
      },
      "source": [
        "#precision, recall ad F1 Score \n",
        "from sklearn.metrics import precision_recall_fscore_support\n",
        "precision_recall_fscore_support(y_test, pred, average='weighted')"
      ],
      "execution_count": null,
      "outputs": [
        {
          "output_type": "execute_result",
          "data": {
            "text/plain": [
              "(0.7805846026813408, 0.7804147727272728, 0.7803815405109188, None)"
            ]
          },
          "metadata": {
            "tags": []
          },
          "execution_count": 52
        }
      ]
    }
  ]
}