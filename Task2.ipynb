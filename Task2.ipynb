{
  "nbformat": 4,
  "nbformat_minor": 0,
  "metadata": {
    "colab": {
      "name": "Task2.ipynb",
      "provenance": [],
      "collapsed_sections": [],
      "authorship_tag": "ABX9TyNkcYrcmILE9pJFFlQi+/HB",
      "include_colab_link": true
    },
    "kernelspec": {
      "name": "python3",
      "display_name": "Python 3"
    }
  },
  "cells": [
    {
      "cell_type": "markdown",
      "metadata": {
        "id": "view-in-github",
        "colab_type": "text"
      },
      "source": [
        "<a href=\"https://colab.research.google.com/github/guptaa98/Kaggle-Notebooks/blob/master/Task2.ipynb\" target=\"_parent\"><img src=\"https://colab.research.google.com/assets/colab-badge.svg\" alt=\"Open In Colab\"/></a>"
      ]
    },
    {
      "cell_type": "code",
      "metadata": {
        "id": "cw8eZQMHa_4J",
        "outputId": "7072a35a-00cd-4fde-b962-a1fa87e39e16",
        "colab": {
          "base_uri": "https://localhost:8080/",
          "height": 34
        }
      },
      "source": [
        "from google.colab import drive\n",
        "drive.mount('/content/drive')"
      ],
      "execution_count": null,
      "outputs": [
        {
          "output_type": "stream",
          "text": [
            "Mounted at /content/drive\n"
          ],
          "name": "stdout"
        }
      ]
    },
    {
      "cell_type": "code",
      "metadata": {
        "id": "iccahW1gBySy"
      },
      "source": [
        "#It is a subset of a large 142.8 million Amazon review dataset that was made available by Stanford\n",
        "#professor, Julian McAuley. This sentiment analysis dataset contains reviews from May 1996 to\n",
        "#July 2014. The dataset reviews include ratings, text, helpful votes, product description, category\n",
        "#information, price, brand, and image features. The complete dataset is available here:\n",
        "#http://jmcauley.ucsd.edu/data/amazon/.\n",
        "#worked on the smaller dataset of “SPORTS AND OUTDOORS”."
      ],
      "execution_count": 2,
      "outputs": []
    },
    {
      "cell_type": "code",
      "metadata": {
        "id": "IqddUewpbDPw"
      },
      "source": [
        "%matplotlib inline\n",
        "import warnings\n",
        "warnings.filterwarnings(\"ignore\")\n",
        "import pandas as pd\n",
        "import numpy as np\n",
        "import nltk\n",
        "import string\n",
        "from sklearn.feature_extraction.text import CountVectorizer\n",
        "from nltk.stem.porter import PorterStemmer\n",
        "import re\n",
        "import string\n",
        "from nltk.corpus import stopwords\n",
        "from nltk.stem import PorterStemmer\n",
        "from nltk.stem.wordnet import WordNetLemmatizer\n",
        "\n",
        "from tqdm import tqdm"
      ],
      "execution_count": null,
      "outputs": []
    },
    {
      "cell_type": "code",
      "metadata": {
        "id": "Z6zTXI6ibQEQ"
      },
      "source": [
        "project_data = pd.read_json('/content/drive/My Drive/nlpassignment/Sports_and_Outdoors_5.json', lines=True )"
      ],
      "execution_count": null,
      "outputs": []
    },
    {
      "cell_type": "code",
      "metadata": {
        "id": "LEHo9aXtbSu1",
        "outputId": "51d1ac25-925d-43aa-b59c-ed5476c0846d",
        "colab": {
          "base_uri": "https://localhost:8080/",
          "height": 195
        }
      },
      "source": [
        "project_data.head() "
      ],
      "execution_count": null,
      "outputs": [
        {
          "output_type": "execute_result",
          "data": {
            "text/html": [
              "<div>\n",
              "<style scoped>\n",
              "    .dataframe tbody tr th:only-of-type {\n",
              "        vertical-align: middle;\n",
              "    }\n",
              "\n",
              "    .dataframe tbody tr th {\n",
              "        vertical-align: top;\n",
              "    }\n",
              "\n",
              "    .dataframe thead th {\n",
              "        text-align: right;\n",
              "    }\n",
              "</style>\n",
              "<table border=\"1\" class=\"dataframe\">\n",
              "  <thead>\n",
              "    <tr style=\"text-align: right;\">\n",
              "      <th></th>\n",
              "      <th>reviewerID</th>\n",
              "      <th>asin</th>\n",
              "      <th>reviewerName</th>\n",
              "      <th>helpful</th>\n",
              "      <th>reviewText</th>\n",
              "      <th>overall</th>\n",
              "      <th>summary</th>\n",
              "      <th>unixReviewTime</th>\n",
              "      <th>reviewTime</th>\n",
              "    </tr>\n",
              "  </thead>\n",
              "  <tbody>\n",
              "    <tr>\n",
              "      <th>0</th>\n",
              "      <td>AIXZKN4ACSKI</td>\n",
              "      <td>1881509818</td>\n",
              "      <td>David Briner</td>\n",
              "      <td>[0, 0]</td>\n",
              "      <td>This came in on time and I am veru happy with ...</td>\n",
              "      <td>5</td>\n",
              "      <td>Woks very good</td>\n",
              "      <td>1390694400</td>\n",
              "      <td>01 26, 2014</td>\n",
              "    </tr>\n",
              "    <tr>\n",
              "      <th>1</th>\n",
              "      <td>A1L5P841VIO02V</td>\n",
              "      <td>1881509818</td>\n",
              "      <td>Jason A. Kramer</td>\n",
              "      <td>[1, 1]</td>\n",
              "      <td>I had a factory Glock tool that I was using fo...</td>\n",
              "      <td>5</td>\n",
              "      <td>Works as well as the factory tool</td>\n",
              "      <td>1328140800</td>\n",
              "      <td>02 2, 2012</td>\n",
              "    </tr>\n",
              "    <tr>\n",
              "      <th>2</th>\n",
              "      <td>AB2W04NI4OEAD</td>\n",
              "      <td>1881509818</td>\n",
              "      <td>J. Fernald</td>\n",
              "      <td>[2, 2]</td>\n",
              "      <td>If you don't have a 3/32 punch or would like t...</td>\n",
              "      <td>4</td>\n",
              "      <td>It's a punch, that's all.</td>\n",
              "      <td>1330387200</td>\n",
              "      <td>02 28, 2012</td>\n",
              "    </tr>\n",
              "    <tr>\n",
              "      <th>3</th>\n",
              "      <td>A148SVSWKTJKU6</td>\n",
              "      <td>1881509818</td>\n",
              "      <td>Jusitn A. Watts \"Maverick9614\"</td>\n",
              "      <td>[0, 0]</td>\n",
              "      <td>This works no better than any 3/32 punch you w...</td>\n",
              "      <td>4</td>\n",
              "      <td>It's a punch with a Glock logo.</td>\n",
              "      <td>1328400000</td>\n",
              "      <td>02 5, 2012</td>\n",
              "    </tr>\n",
              "    <tr>\n",
              "      <th>4</th>\n",
              "      <td>AAAWJ6LW9WMOO</td>\n",
              "      <td>1881509818</td>\n",
              "      <td>Material Man</td>\n",
              "      <td>[0, 0]</td>\n",
              "      <td>I purchased this thinking maybe I need a speci...</td>\n",
              "      <td>4</td>\n",
              "      <td>Ok,tool does what a regular punch does.</td>\n",
              "      <td>1366675200</td>\n",
              "      <td>04 23, 2013</td>\n",
              "    </tr>\n",
              "  </tbody>\n",
              "</table>\n",
              "</div>"
            ],
            "text/plain": [
              "       reviewerID        asin  ... unixReviewTime   reviewTime\n",
              "0    AIXZKN4ACSKI  1881509818  ...     1390694400  01 26, 2014\n",
              "1  A1L5P841VIO02V  1881509818  ...     1328140800   02 2, 2012\n",
              "2   AB2W04NI4OEAD  1881509818  ...     1330387200  02 28, 2012\n",
              "3  A148SVSWKTJKU6  1881509818  ...     1328400000   02 5, 2012\n",
              "4   AAAWJ6LW9WMOO  1881509818  ...     1366675200  04 23, 2013\n",
              "\n",
              "[5 rows x 9 columns]"
            ]
          },
          "metadata": {
            "tags": []
          },
          "execution_count": 4
        }
      ]
    },
    {
      "cell_type": "code",
      "metadata": {
        "id": "7l-3x2f1bVRx",
        "outputId": "cb0d4c50-4142-4d51-cd66-2b7fb8ea5cb7",
        "colab": {
          "base_uri": "https://localhost:8080/",
          "height": 84
        }
      },
      "source": [
        "print(\"Number of data points in train data\", project_data.shape)\n",
        "print('-'*50)\n",
        "print(\"The attributes of data :\", project_data.columns.values)"
      ],
      "execution_count": null,
      "outputs": [
        {
          "output_type": "stream",
          "text": [
            "Number of data points in train data (296337, 9)\n",
            "--------------------------------------------------\n",
            "The attributes of data : ['reviewerID' 'asin' 'reviewerName' 'helpful' 'reviewText' 'overall'\n",
            " 'summary' 'unixReviewTime' 'reviewTime']\n"
          ],
          "name": "stdout"
        }
      ]
    },
    {
      "cell_type": "code",
      "metadata": {
        "id": "J1qg5FiubX8r",
        "outputId": "a5abc117-fb7d-473f-9ab8-9d6740bb4d61",
        "colab": {
          "base_uri": "https://localhost:8080/",
          "height": 77
        }
      },
      "source": [
        "approved_project = project_data['overall'].values   #contains the labels\n",
        "project_data.drop(['overall'], axis=1, inplace=True)\n",
        "project_data.head(1)"
      ],
      "execution_count": null,
      "outputs": [
        {
          "output_type": "execute_result",
          "data": {
            "text/html": [
              "<div>\n",
              "<style scoped>\n",
              "    .dataframe tbody tr th:only-of-type {\n",
              "        vertical-align: middle;\n",
              "    }\n",
              "\n",
              "    .dataframe tbody tr th {\n",
              "        vertical-align: top;\n",
              "    }\n",
              "\n",
              "    .dataframe thead th {\n",
              "        text-align: right;\n",
              "    }\n",
              "</style>\n",
              "<table border=\"1\" class=\"dataframe\">\n",
              "  <thead>\n",
              "    <tr style=\"text-align: right;\">\n",
              "      <th></th>\n",
              "      <th>reviewerID</th>\n",
              "      <th>asin</th>\n",
              "      <th>reviewerName</th>\n",
              "      <th>helpful</th>\n",
              "      <th>reviewText</th>\n",
              "      <th>summary</th>\n",
              "      <th>unixReviewTime</th>\n",
              "      <th>reviewTime</th>\n",
              "    </tr>\n",
              "  </thead>\n",
              "  <tbody>\n",
              "    <tr>\n",
              "      <th>0</th>\n",
              "      <td>AIXZKN4ACSKI</td>\n",
              "      <td>1881509818</td>\n",
              "      <td>David Briner</td>\n",
              "      <td>[0, 0]</td>\n",
              "      <td>This came in on time and I am veru happy with ...</td>\n",
              "      <td>Woks very good</td>\n",
              "      <td>1390694400</td>\n",
              "      <td>01 26, 2014</td>\n",
              "    </tr>\n",
              "  </tbody>\n",
              "</table>\n",
              "</div>"
            ],
            "text/plain": [
              "     reviewerID        asin  ... unixReviewTime   reviewTime\n",
              "0  AIXZKN4ACSKI  1881509818  ...     1390694400  01 26, 2014\n",
              "\n",
              "[1 rows x 8 columns]"
            ]
          },
          "metadata": {
            "tags": []
          },
          "execution_count": 6
        }
      ]
    },
    {
      "cell_type": "code",
      "metadata": {
        "id": "-kcn64khbjV9",
        "outputId": "52d753be-d364-4ef6-e350-7412f393b9f1",
        "colab": {
          "base_uri": "https://localhost:8080/",
          "height": 195
        }
      },
      "source": [
        "project_data.drop(['reviewTime'], axis=1, inplace=True)\n",
        "project_data.head()"
      ],
      "execution_count": null,
      "outputs": [
        {
          "output_type": "execute_result",
          "data": {
            "text/html": [
              "<div>\n",
              "<style scoped>\n",
              "    .dataframe tbody tr th:only-of-type {\n",
              "        vertical-align: middle;\n",
              "    }\n",
              "\n",
              "    .dataframe tbody tr th {\n",
              "        vertical-align: top;\n",
              "    }\n",
              "\n",
              "    .dataframe thead th {\n",
              "        text-align: right;\n",
              "    }\n",
              "</style>\n",
              "<table border=\"1\" class=\"dataframe\">\n",
              "  <thead>\n",
              "    <tr style=\"text-align: right;\">\n",
              "      <th></th>\n",
              "      <th>reviewerID</th>\n",
              "      <th>asin</th>\n",
              "      <th>reviewerName</th>\n",
              "      <th>helpful</th>\n",
              "      <th>reviewText</th>\n",
              "      <th>summary</th>\n",
              "      <th>unixReviewTime</th>\n",
              "    </tr>\n",
              "  </thead>\n",
              "  <tbody>\n",
              "    <tr>\n",
              "      <th>0</th>\n",
              "      <td>AIXZKN4ACSKI</td>\n",
              "      <td>1881509818</td>\n",
              "      <td>David Briner</td>\n",
              "      <td>[0, 0]</td>\n",
              "      <td>This came in on time and I am veru happy with ...</td>\n",
              "      <td>Woks very good</td>\n",
              "      <td>1390694400</td>\n",
              "    </tr>\n",
              "    <tr>\n",
              "      <th>1</th>\n",
              "      <td>A1L5P841VIO02V</td>\n",
              "      <td>1881509818</td>\n",
              "      <td>Jason A. Kramer</td>\n",
              "      <td>[1, 1]</td>\n",
              "      <td>I had a factory Glock tool that I was using fo...</td>\n",
              "      <td>Works as well as the factory tool</td>\n",
              "      <td>1328140800</td>\n",
              "    </tr>\n",
              "    <tr>\n",
              "      <th>2</th>\n",
              "      <td>AB2W04NI4OEAD</td>\n",
              "      <td>1881509818</td>\n",
              "      <td>J. Fernald</td>\n",
              "      <td>[2, 2]</td>\n",
              "      <td>If you don't have a 3/32 punch or would like t...</td>\n",
              "      <td>It's a punch, that's all.</td>\n",
              "      <td>1330387200</td>\n",
              "    </tr>\n",
              "    <tr>\n",
              "      <th>3</th>\n",
              "      <td>A148SVSWKTJKU6</td>\n",
              "      <td>1881509818</td>\n",
              "      <td>Jusitn A. Watts \"Maverick9614\"</td>\n",
              "      <td>[0, 0]</td>\n",
              "      <td>This works no better than any 3/32 punch you w...</td>\n",
              "      <td>It's a punch with a Glock logo.</td>\n",
              "      <td>1328400000</td>\n",
              "    </tr>\n",
              "    <tr>\n",
              "      <th>4</th>\n",
              "      <td>AAAWJ6LW9WMOO</td>\n",
              "      <td>1881509818</td>\n",
              "      <td>Material Man</td>\n",
              "      <td>[0, 0]</td>\n",
              "      <td>I purchased this thinking maybe I need a speci...</td>\n",
              "      <td>Ok,tool does what a regular punch does.</td>\n",
              "      <td>1366675200</td>\n",
              "    </tr>\n",
              "  </tbody>\n",
              "</table>\n",
              "</div>"
            ],
            "text/plain": [
              "       reviewerID  ... unixReviewTime\n",
              "0    AIXZKN4ACSKI  ...     1390694400\n",
              "1  A1L5P841VIO02V  ...     1328140800\n",
              "2   AB2W04NI4OEAD  ...     1330387200\n",
              "3  A148SVSWKTJKU6  ...     1328400000\n",
              "4   AAAWJ6LW9WMOO  ...     1366675200\n",
              "\n",
              "[5 rows x 7 columns]"
            ]
          },
          "metadata": {
            "tags": []
          },
          "execution_count": 7
        }
      ]
    },
    {
      "cell_type": "code",
      "metadata": {
        "id": "5VE29WR0bnOs"
      },
      "source": [
        "# Data splitting\n",
        "\n",
        "from sklearn.model_selection import train_test_split\n",
        "\n",
        "# Splitting in train and test\n",
        "X_train, X_test, y_train, y_test = train_test_split(project_data, approved_project, test_size=0.33, stratify=approved_project)"
      ],
      "execution_count": null,
      "outputs": []
    },
    {
      "cell_type": "code",
      "metadata": {
        "id": "iR7hzPQzbu2p",
        "outputId": "b79cca17-399b-44a0-df2d-7732e1101c3e",
        "colab": {
          "base_uri": "https://localhost:8080/",
          "height": 84
        }
      },
      "source": [
        "print(X_train.shape)\n",
        "print(X_test.shape)\n",
        "print(y_train.shape)\n",
        "print(y_test.shape)\n"
      ],
      "execution_count": null,
      "outputs": [
        {
          "output_type": "stream",
          "text": [
            "(198545, 7)\n",
            "(97792, 7)\n",
            "(198545,)\n",
            "(97792,)\n"
          ],
          "name": "stdout"
        }
      ]
    },
    {
      "cell_type": "code",
      "metadata": {
        "id": "oU844PIwb1Im",
        "outputId": "dd4d4160-8aa2-4e33-89b1-53f476942d88",
        "colab": {
          "base_uri": "https://localhost:8080/",
          "height": 34
        }
      },
      "source": [
        "#adding values of reviewText in tokenization for finding top 10 most occuring words\n",
        "tokenization = \"\"\n",
        "for dataset in tqdm(X_train['reviewText'].values):\n",
        "        tokenization += dataset"
      ],
      "execution_count": null,
      "outputs": [
        {
          "output_type": "stream",
          "text": [
            "100%|██████████| 198545/198545 [00:00<00:00, 597169.82it/s]\n"
          ],
          "name": "stderr"
        }
      ]
    },
    {
      "cell_type": "code",
      "metadata": {
        "id": "4ASEt_Dtb83B",
        "outputId": "6e505ccb-de3b-411d-e72a-f7e9a9a3d433",
        "colab": {
          "base_uri": "https://localhost:8080/",
          "height": 34
        }
      },
      "source": [
        "#adding values of reviewText in tokenization for finding top 10 most occuring words\n",
        "tokenization = \"\"\n",
        "for dataset in tqdm(X_test['reviewText'].values):\n",
        "        tokenization += dataset"
      ],
      "execution_count": null,
      "outputs": [
        {
          "output_type": "stream",
          "text": [
            "100%|██████████| 97792/97792 [00:00<00:00, 584191.16it/s]\n"
          ],
          "name": "stderr"
        }
      ]
    },
    {
      "cell_type": "code",
      "metadata": {
        "id": "ptv0IWkUcB3Y",
        "outputId": "9de566cd-12c9-4550-cdce-f95741551a2b",
        "colab": {
          "base_uri": "https://localhost:8080/",
          "height": 34
        }
      },
      "source": [
        "#finding top 10 words\n",
        "from collections import Counter\n",
        "split_it = tokenization.split()\n",
        "Counter = Counter(split_it)\n",
        "most_occur = Counter.most_common(10)\n",
        "print(most_occur)"
      ],
      "execution_count": null,
      "outputs": [
        {
          "output_type": "stream",
          "text": [
            "[('the', 375835), ('a', 239857), ('and', 236669), ('to', 221002), ('I', 196542), ('it', 149952), ('is', 141630), ('of', 122723), ('for', 116545), ('in', 89638)]\n"
          ],
          "name": "stdout"
        }
      ]
    },
    {
      "cell_type": "code",
      "metadata": {
        "id": "pXUw28TkcHho",
        "outputId": "8d41779a-7be9-4748-aaf1-7736c92dd351",
        "colab": {
          "base_uri": "https://localhost:8080/",
          "height": 67
        }
      },
      "source": [
        "#stemming on training set\n",
        "import nltk\n",
        "nltk.download('punkt')\n",
        "from nltk.stem import PorterStemmer\n",
        "from nltk.tokenize import word_tokenize\n",
        "stemmer= PorterStemmer()\n",
        "\n",
        "preprocessed_text_train = []\n",
        "# tqdm is for printing the status bar\n",
        "for sentence in tqdm(X_train['reviewText'].values):\n",
        "    sent = word_tokenize(sentence)      #tokenization\n",
        "    \n",
        "    stem_word = \"\"\n",
        "    for word in sent:\n",
        "        stem_word =  stem_word + \" \" + stemmer.stem(word)\n",
        "    \n",
        "    preprocessed_text_train.append(stem_word)"
      ],
      "execution_count": null,
      "outputs": [
        {
          "output_type": "stream",
          "text": [
            "[nltk_data] Downloading package punkt to /root/nltk_data...\n",
            "[nltk_data]   Unzipping tokenizers/punkt.zip.\n"
          ],
          "name": "stdout"
        },
        {
          "output_type": "stream",
          "text": [
            "100%|██████████| 198545/198545 [07:23<00:00, 447.90it/s]\n"
          ],
          "name": "stderr"
        }
      ]
    },
    {
      "cell_type": "code",
      "metadata": {
        "id": "6nIo2GqycPhS",
        "outputId": "92a72709-31ce-42d8-b50c-83a6f300f530",
        "colab": {
          "base_uri": "https://localhost:8080/",
          "height": 67
        }
      },
      "source": [
        "#stemming on test set\n",
        "import nltk\n",
        "nltk.download('punkt')\n",
        "from nltk.stem import PorterStemmer\n",
        "from nltk.tokenize import word_tokenize\n",
        "stemmer= PorterStemmer()\n",
        "\n",
        "preprocessed_text_test = []\n",
        "# tqdm is for printing the status bar\n",
        "for sentence in tqdm(X_test['reviewText'].values):\n",
        "    sent = word_tokenize(sentence)        #tokenization\n",
        "    \n",
        "    stem_word = \"\"\n",
        "    for word in sent:\n",
        "        stem_word =  stem_word + \" \" + stemmer.stem(word)\n",
        "    \n",
        "    preprocessed_text_test.append(stem_word)"
      ],
      "execution_count": null,
      "outputs": [
        {
          "output_type": "stream",
          "text": [
            "  0%|          | 31/97792 [00:00<05:48, 280.12it/s]"
          ],
          "name": "stderr"
        },
        {
          "output_type": "stream",
          "text": [
            "[nltk_data] Downloading package punkt to /root/nltk_data...\n",
            "[nltk_data]   Package punkt is already up-to-date!\n"
          ],
          "name": "stdout"
        },
        {
          "output_type": "stream",
          "text": [
            "100%|██████████| 97792/97792 [03:38<00:00, 448.34it/s]\n"
          ],
          "name": "stderr"
        }
      ]
    },
    {
      "cell_type": "code",
      "metadata": {
        "id": "Yay5GSE2ceBT",
        "outputId": "9dbdf5a9-330e-46b4-e2cf-3f4c6c2e65c5",
        "colab": {
          "base_uri": "https://localhost:8080/",
          "height": 50
        }
      },
      "source": [
        "#lemmatization on training set\n",
        "import nltk\n",
        "nltk.download('wordnet')\n",
        "from nltk.stem import WordNetLemmatizer\n",
        "from nltk.tokenize import word_tokenize\n",
        "lemmatizer=WordNetLemmatizer()\n",
        "\n",
        "lemmatized_text_train = []\n",
        "for i in range (0,len(preprocessed_text_train)):\n",
        "    \n",
        "    input_str = word_tokenize(preprocessed_text_train[i])\n",
        "    \n",
        "    lemmatize_word = \"\"\n",
        "    for word in input_str:\n",
        "        lemmatize_word = lemmatize_word + \" \" + lemmatizer.lemmatize(word)\n",
        "    \n",
        "    lemmatized_text_train.append(lemmatize_word)"
      ],
      "execution_count": null,
      "outputs": [
        {
          "output_type": "stream",
          "text": [
            "[nltk_data] Downloading package wordnet to /root/nltk_data...\n",
            "[nltk_data]   Unzipping corpora/wordnet.zip.\n"
          ],
          "name": "stdout"
        }
      ]
    },
    {
      "cell_type": "code",
      "metadata": {
        "id": "ZOf-xMdLeup_",
        "outputId": "d614709a-6182-4997-bb01-fa154535221a",
        "colab": {
          "base_uri": "https://localhost:8080/",
          "height": 50
        }
      },
      "source": [
        "#lemmatization on test set\n",
        "import nltk\n",
        "nltk.download('wordnet')\n",
        "from nltk.stem import WordNetLemmatizer\n",
        "from nltk.tokenize import word_tokenize\n",
        "lemmatizer=WordNetLemmatizer()\n",
        "\n",
        "lemmatized_text_test = []\n",
        "for i in range (0,len(preprocessed_text_test)):\n",
        "    \n",
        "    input_str = word_tokenize(preprocessed_text_test[i])\n",
        "    \n",
        "    lemmatize_word = \"\"\n",
        "    for word in input_str:\n",
        "        lemmatize_word = lemmatize_word + \" \" + lemmatizer.lemmatize(word)\n",
        "    \n",
        "    lemmatized_text_test.append(lemmatize_word)"
      ],
      "execution_count": null,
      "outputs": [
        {
          "output_type": "stream",
          "text": [
            "[nltk_data] Downloading package wordnet to /root/nltk_data...\n",
            "[nltk_data]   Package wordnet is already up-to-date!\n"
          ],
          "name": "stdout"
        }
      ]
    },
    {
      "cell_type": "code",
      "metadata": {
        "id": "Ggx-uL6kezqJ"
      },
      "source": [
        "import re\n",
        "\n",
        "def decontracted(phrase):\n",
        "    # specific\n",
        "    phrase = re.sub(r\"won't\", \"will not\", phrase)\n",
        "    phrase = re.sub(r\"can\\'t\", \"can not\", phrase)\n",
        "\n",
        "    # general\n",
        "    phrase = re.sub(r\"n\\'t\", \" not\", phrase)\n",
        "    phrase = re.sub(r\"\\'re\", \" are\", phrase)\n",
        "    phrase = re.sub(r\"\\'s\", \" is\", phrase)\n",
        "    phrase = re.sub(r\"\\'d\", \" would\", phrase)\n",
        "    phrase = re.sub(r\"\\'ll\", \" will\", phrase)\n",
        "    phrase = re.sub(r\"\\'t\", \" not\", phrase)\n",
        "    phrase = re.sub(r\"\\'ve\", \" have\", phrase)\n",
        "    phrase = re.sub(r\"\\'m\", \" am\", phrase)\n",
        "    return phrase"
      ],
      "execution_count": null,
      "outputs": []
    },
    {
      "cell_type": "code",
      "metadata": {
        "id": "GEZkmFM_ez09"
      },
      "source": [
        "stopwords= ['i', 'me', 'my', 'myself', 'we', 'our', 'ours', 'ourselves', 'you', \"you're\", \"you've\",\\\n",
        "            \"you'll\", \"you'd\", 'your', 'yours', 'yourself', 'yourselves', 'he', 'him', 'his', 'himself', \\\n",
        "            'she', \"she's\", 'her', 'hers', 'herself', 'it', \"it's\", 'its', 'itself', 'they', 'them', 'their',\\\n",
        "            'theirs', 'themselves', 'what', 'which', 'who', 'whom', 'this', 'that', \"that'll\", 'these', 'those', \\\n",
        "            'am', 'is', 'are', 'was', 'were', 'be', 'been', 'being', 'have', 'has', 'had', 'having', 'do', 'does', \\\n",
        "            'did', 'doing', 'a', 'an', 'the', 'and', 'but', 'if', 'or', 'because', 'as', 'until', 'while', 'of', \\\n",
        "            'at', 'by', 'for', 'with', 'about', 'against', 'between', 'into', 'through', 'during', 'before', 'after',\\\n",
        "            'above', 'below', 'to', 'from', 'up', 'down', 'in', 'out', 'on', 'off', 'over', 'under', 'again', 'further',\\\n",
        "            'then', 'once', 'here', 'there', 'when', 'where', 'why', 'how', 'all', 'any', 'both', 'each', 'few', 'more',\\\n",
        "            'most', 'other', 'some', 'such', 'only', 'own', 'same', 'so', 'than', 'too', 'very', \\\n",
        "            's', 't', 'can', 'will', 'just', 'don', \"don't\", 'should', \"should've\", 'now', 'd', 'll', 'm', 'o', 're', \\\n",
        "            've', 'y', 'ain', 'aren', \"aren't\", 'couldn', \"couldn't\", 'didn', \"didn't\", 'doesn', \"doesn't\", 'hadn',\\\n",
        "            \"hadn't\", 'hasn', \"hasn't\", 'haven', \"haven't\", 'isn', \"isn't\", 'ma', 'mightn', \"mightn't\", 'mustn',\\\n",
        "            \"mustn't\", 'needn', \"needn't\", 'shan', \"shan't\", 'shouldn', \"shouldn't\", 'wasn', \"wasn't\", 'weren', \"weren't\", \\\n",
        "            'won', \"won't\", 'wouldn', \"wouldn't\"]"
      ],
      "execution_count": null,
      "outputs": []
    },
    {
      "cell_type": "code",
      "metadata": {
        "id": "uztAyQRjez7J"
      },
      "source": [
        "#cleaning on train set\n",
        "final_preprocessed_text_train = []\n",
        "\n",
        "for i in range (0,len(lemmatized_text_train)):\n",
        "    sent = decontracted(lemmatized_text_train[i])\n",
        "    sent = re.sub('[^A-Za-z0-9]+', ' ', sent)\n",
        "    sent = re.sub(\"\\S*\\d\\S*\", \"\", sent).strip()\n",
        "    sent = re.sub(r\"@\", '', sent)\n",
        "\n",
        "    sent = ' '.join(e for e in sent.split() if e not in stopwords)  \n",
        "    final_preprocessed_text_train.append(sent.lower().strip())"
      ],
      "execution_count": null,
      "outputs": []
    },
    {
      "cell_type": "code",
      "metadata": {
        "id": "NnYfeIx-e0BC"
      },
      "source": [
        "#cleaning on test set\n",
        "final_preprocessed_text_test = []\n",
        "\n",
        "for i in range (0,len(lemmatized_text_test)):\n",
        "    sent = decontracted(lemmatized_text_train[i])\n",
        "    sent = re.sub('[^A-Za-z0-9]+', ' ', sent)\n",
        "    sent = re.sub(\"\\S*\\d\\S*\", \"\", sent).strip()\n",
        "    sent = re.sub(r\"@\", '', sent)\n",
        "\n",
        "    sent = ' '.join(e for e in sent.split() if e not in stopwords)  \n",
        "    final_preprocessed_text_test.append(sent.lower().strip())"
      ],
      "execution_count": null,
      "outputs": []
    },
    {
      "cell_type": "code",
      "metadata": {
        "id": "oI6ajY5Ue0GQ",
        "outputId": "25b9b0d5-f198-4f48-bd8b-46c0be463a3c",
        "colab": {
          "base_uri": "https://localhost:8080/",
          "height": 742
        }
      },
      "source": [
        "for i in range (0,21):\n",
        "    print(final_preprocessed_text_train[i])\n",
        "    print(\"=\"*50)"
      ],
      "execution_count": null,
      "outputs": [
        {
          "output_type": "stream",
          "text": [
            "great pump spec discus post lezyn pressur drive pump today not smaller tire though hose still rock valv tho le\n",
            "==================================================\n",
            "not smith driver fit screw well torx ad extra i rate thi becaus bit size fit could better i give thi set go thank\n",
            "==================================================\n",
            "doe job small handi stay bugout bag\n",
            "==================================================\n",
            "great much better mre i sinc much lighter mre it emerg suppli food though must rememb enough clean filter water\n",
            "==================================================\n",
            "thi work exactli would expect look exactli pictur i also fobu handcuff singl mag paddl setup find i prefer use not becaus wa anyth wrong thi hold two full size glock mag secur tight enough wo not fall upsid not tight give ani troupl draw\n",
            "==================================================\n",
            "i bought return thi item onli becaus wa small my wa not list gun would fit i measur gun felt sure would fit base dimens mention product descript gun fit i would gladli kept it wa cheap seem veri nice price also i want mention amazon made return veri easi quick\n",
            "==================================================\n",
            "came veri sharp love length fact blade secur full length handl grip veri well even wet would give star wa disappoint serrat side wa not saw flat edg might consid sharpen not bad chine product\n",
            "==================================================\n",
            "qualiti set goggl seal well face comfort wear pro bomb prooflight weightcomfortablecheapventslow glareclear smoke lenses no fog con anti fog coat veri easi scratch even normal clean onc coat scratch scratch spiderweb make veri larg foggi spot vision bottom line take care lenses co thing not let fog i would buy heart beat\n",
            "==================================================\n",
            "i look econom back edc knife quit sometim regular edc cold steel recon thi first knife i come across fit bill knife lock solid ha comfort grip strong pocket clip smooth one hand open nice ambidextr thumb stud my onli complaint knife came realli dull i knew i order knife i give knife tri week see thi knife perform update carri crkt last day unfortun not go see much time pocket becaus huge thumb stud get hung edg pocket if damn stud normal size knife would way better i keep rate becaus still beast knife update aft get tire look thi knife sit dresser i decid someth damn size thumb stud caught jean pocket everytim i whip trusti gerber suspens multitool took thumb stud knife freakin sweet comfort use empti thumb stud hole open knife alla spyderco knife doe not catch pocket i love my recon attach sun visor i admir great knife slight modif\n",
            "==================================================\n",
            "i realiz budget sight machin not veri good pair i got front sight wa cant right slightli rear sight wa cant even center hole hold sight pin wa drill slightli in thi day cnc machin simpli no excus poor qualiti metal construct part heavi duti doe not matter built like tank ca not get line zero posit side refund fund amazon went flawlessli i not ani issu tri bargain basement item thumb seller not sight\n",
            "==================================================\n",
            "thi veri nice setup full tang throughout handl rubber grip veri comfort i no worri slippag two hole front grip make thi knife spear paracord lanyard ha whistl easili remov hole affix branch make spear i recommend plan outdoor go budk order foot white wax wood killer would perfect spear aspect thi knife th sheath accept knife left side right flip sheath ha built sharpen stone as far potenti loss fire starter lock front sheath look close fire starter see hole squar round like whistl laynard handl use paracord attach fire starter loop bottom sheath sheath held back strap easi fix complain lose fire starter tie loop around second make spark i no complaint amazon prime free day shipping like knife golden thank joe\n",
            "==================================================\n",
            "i return not like not find comfort i got desanti tuck thi ii holster much much much comfort\n",
            "==================================================\n",
            "i use thi mani time long hike trip ha never fail use recent last octob three day eagl rock loop trip arkansa\n",
            "==================================================\n",
            "i love thi thing it get lower ab muscl work ab exercis devic miss also strengthen arm back seri thi best ab wheel market know anyway is kind fun grip well design comfort use big wheel provid stabl support roll spring assist awesom provid light resist go assist go back knee pad come pretti nice\n",
            "==================================================\n",
            "my wife need shoe simpli wear time even use cover buy fulli third le costli ani shop town club discount\n",
            "==================================================\n",
            "not use product yet look easi enough creat emerg clean water storag extra tub come handi\n",
            "==================================================\n",
            "i okc machet year first thi thing not machet blade way top heavi swing thi thing vine brush like swing axe still razor sharp doe cut i would not want prolong march said slightli bad let say everi surviv camp util purpos thi thing magic surviv conserv calori spec hard beat chop timber shelter make camp furnitur work cleaver splitter great draw knife great scraper front flat adz etc dull cutaway base blade allow user grip close whittl onli task struggl skin small anim see i tri skin squirrel gave blade becaus i not time messi job still proper sharpen use curv angl portion blade front tip even possibl tediou mayb messi possibl as far construct ha two part full tang slab high carbon plate steel kraton mold around end it would take h bomb direct hit hurt thi knife i doubt ani tougher anywher good grip shape base handl it is cours veri high carbon veri subject rust corros keep dri greas necessary th case construct heavi cordura leather much like seem ka bar machet ha good solid case in summari thi not much machet per se fake el worth weight slightli le dutch oven upd feb i justin gingrich ranger knive modif idea stolen youtub post thi thing cut useless sawtooth take saber grind mill flat grind put convex edg blade instead straight concav origin lengthen choil room grab blade abov base abov handl use knife whittl etc ad parang shape flat tip recoat blade rough black powder coat durabl origin prettier least initi much lighter much i carri bugout bag even though put desir lb dri limit worth weight regular machet oz lighter mostli beautfiul it spring i dread take scratch justin gingrich ranger knive though i onli thi one deal justin gingrich seen youtub post hi work i highli no qualm highli recommended he truli great guy veri profession talent veri patient inform intuit even also not without note price extrem reason i wa amaz truli charg work wa well cost knife wa well amaz check hi mod ranger youtub way told cost spec work make blade look like chri reev\n",
            "==================================================\n",
            "first time i got thi i notic pivot technolog wa realli loo unless i straight parallel back fender slowli sink onto tire it okay price kept dri cycl wet road still i wish pivot technolog work better could place wa meant placed though\n",
            "==================================================\n",
            "not much say favorit cycl clean easili squeez expand back\n",
            "==================================================\n",
            "mani shoot glass rang cheap overli expens i recent use week long shoot class veri happi product never onc fog consid wa degre outsid i wa sweat bit no worri price ca not go wrong\n",
            "==================================================\n",
            "shagg bag great addit ani gener messeng bag i recent bought d lux laptop messeng want better place put phone i could actual hear go size small big enough motorola atrix not hd one version thicker silicon case san case better fit i jam it veri secur plush interior veri nice zip pocket exterior perfect metro card earbud someth small like knock star becaus i think overpr get veri nice product money i wish better color choic though\n",
            "==================================================\n"
          ],
          "name": "stdout"
        }
      ]
    },
    {
      "cell_type": "code",
      "metadata": {
        "id": "bsNXVrDEfQSA",
        "outputId": "6dc7dc41-0fae-4973-ea63-efef232c8a1e",
        "colab": {
          "base_uri": "https://localhost:8080/",
          "height": 50
        }
      },
      "source": [
        "from sklearn.feature_extraction.text import CountVectorizer, TfidfVectorizer\n",
        "vectorizer = CountVectorizer(min_df=10)\n",
        "vectorizer.fit(final_preprocessed_text_train)\n",
        "reviewText_bow_train = vectorizer.transform(final_preprocessed_text_train)\n",
        "reviewText_bow_test = vectorizer.transform(final_preprocessed_text_test)\n",
        "print(\"Shape of matrix after one hot encoding \",reviewText_bow_train.shape)\n",
        "print(\"Shape of matrix after one hot encoding \",reviewText_bow_test.shape)"
      ],
      "execution_count": null,
      "outputs": [
        {
          "output_type": "stream",
          "text": [
            "Shape of matrix after one hot encoding  (198545, 13167)\n",
            "Shape of matrix after one hot encoding  (97792, 13167)\n"
          ],
          "name": "stdout"
        }
      ]
    },
    {
      "cell_type": "code",
      "metadata": {
        "id": "jHpbvXB4fQX4",
        "outputId": "b07752c0-f145-4c4b-a114-85ccef4bb897",
        "colab": {
          "base_uri": "https://localhost:8080/",
          "height": 195
        }
      },
      "source": [
        "X_train.drop(['reviewText'],axis=1,inplace=True)\n",
        "X_train['reviewText']=reviewText_bow_train\n",
        "X_train.head()"
      ],
      "execution_count": null,
      "outputs": [
        {
          "output_type": "execute_result",
          "data": {
            "text/html": [
              "<div>\n",
              "<style scoped>\n",
              "    .dataframe tbody tr th:only-of-type {\n",
              "        vertical-align: middle;\n",
              "    }\n",
              "\n",
              "    .dataframe tbody tr th {\n",
              "        vertical-align: top;\n",
              "    }\n",
              "\n",
              "    .dataframe thead th {\n",
              "        text-align: right;\n",
              "    }\n",
              "</style>\n",
              "<table border=\"1\" class=\"dataframe\">\n",
              "  <thead>\n",
              "    <tr style=\"text-align: right;\">\n",
              "      <th></th>\n",
              "      <th>reviewerID</th>\n",
              "      <th>asin</th>\n",
              "      <th>reviewerName</th>\n",
              "      <th>helpful</th>\n",
              "      <th>summary</th>\n",
              "      <th>unixReviewTime</th>\n",
              "      <th>reviewText</th>\n",
              "    </tr>\n",
              "  </thead>\n",
              "  <tbody>\n",
              "    <tr>\n",
              "      <th>245544</th>\n",
              "      <td>A3O1OLQ5PSS42D</td>\n",
              "      <td>B005QYHG7K</td>\n",
              "      <td>Tony</td>\n",
              "      <td>[0, 0]</td>\n",
              "      <td>High volume!</td>\n",
              "      <td>1334707200</td>\n",
              "      <td>(0, 3133)\\t1\\n  (0, 3340)\\t1\\n  (0, 4839)\\t1...</td>\n",
              "    </tr>\n",
              "    <tr>\n",
              "      <th>164470</th>\n",
              "      <td>A12DIV3DX2I3EA</td>\n",
              "      <td>B002PQKGSI</td>\n",
              "      <td>Rikki Rocktrap</td>\n",
              "      <td>[0, 0]</td>\n",
              "      <td>Not Smith Drivers</td>\n",
              "      <td>1360108800</td>\n",
              "      <td>(0, 3133)\\t1\\n  (0, 3340)\\t1\\n  (0, 4839)\\t1...</td>\n",
              "    </tr>\n",
              "    <tr>\n",
              "      <th>60413</th>\n",
              "      <td>AUWRF830PO35J</td>\n",
              "      <td>B000NMLXBA</td>\n",
              "      <td>Jerome Bruss \"djbruss\"</td>\n",
              "      <td>[0, 0]</td>\n",
              "      <td>Does the job! Small, and, handy. ...</td>\n",
              "      <td>1404691200</td>\n",
              "      <td>(0, 3133)\\t1\\n  (0, 3340)\\t1\\n  (0, 4839)\\t1...</td>\n",
              "    </tr>\n",
              "    <tr>\n",
              "      <th>42479</th>\n",
              "      <td>A24U05FKTVCWVU</td>\n",
              "      <td>B000G2TOMM</td>\n",
              "      <td>rhoffa</td>\n",
              "      <td>[1, 1]</td>\n",
              "      <td>Truly Almost perfect!</td>\n",
              "      <td>1323302400</td>\n",
              "      <td>(0, 3133)\\t1\\n  (0, 3340)\\t1\\n  (0, 4839)\\t1...</td>\n",
              "    </tr>\n",
              "    <tr>\n",
              "      <th>5506</th>\n",
              "      <td>A3VPP95ZKOOUJK</td>\n",
              "      <td>B0000C53LF</td>\n",
              "      <td>Chain of Command</td>\n",
              "      <td>[0, 0]</td>\n",
              "      <td>works as advertised</td>\n",
              "      <td>1386547200</td>\n",
              "      <td>(0, 3133)\\t1\\n  (0, 3340)\\t1\\n  (0, 4839)\\t1...</td>\n",
              "    </tr>\n",
              "  </tbody>\n",
              "</table>\n",
              "</div>"
            ],
            "text/plain": [
              "            reviewerID  ...                                         reviewText\n",
              "245544  A3O1OLQ5PSS42D  ...    (0, 3133)\\t1\\n  (0, 3340)\\t1\\n  (0, 4839)\\t1...\n",
              "164470  A12DIV3DX2I3EA  ...    (0, 3133)\\t1\\n  (0, 3340)\\t1\\n  (0, 4839)\\t1...\n",
              "60413    AUWRF830PO35J  ...    (0, 3133)\\t1\\n  (0, 3340)\\t1\\n  (0, 4839)\\t1...\n",
              "42479   A24U05FKTVCWVU  ...    (0, 3133)\\t1\\n  (0, 3340)\\t1\\n  (0, 4839)\\t1...\n",
              "5506    A3VPP95ZKOOUJK  ...    (0, 3133)\\t1\\n  (0, 3340)\\t1\\n  (0, 4839)\\t1...\n",
              "\n",
              "[5 rows x 7 columns]"
            ]
          },
          "metadata": {
            "tags": []
          },
          "execution_count": 27
        }
      ]
    },
    {
      "cell_type": "code",
      "metadata": {
        "id": "lzsS4oc5j8dV",
        "outputId": "703ad9b8-93bd-41a8-e303-13a0c1633481",
        "colab": {
          "base_uri": "https://localhost:8080/",
          "height": 195
        }
      },
      "source": [
        "X_test.drop(['reviewText'],axis=1,inplace=True)\n",
        "X_test['reviewText']=reviewText_bow_test\n",
        "X_test.head()"
      ],
      "execution_count": null,
      "outputs": [
        {
          "output_type": "execute_result",
          "data": {
            "text/html": [
              "<div>\n",
              "<style scoped>\n",
              "    .dataframe tbody tr th:only-of-type {\n",
              "        vertical-align: middle;\n",
              "    }\n",
              "\n",
              "    .dataframe tbody tr th {\n",
              "        vertical-align: top;\n",
              "    }\n",
              "\n",
              "    .dataframe thead th {\n",
              "        text-align: right;\n",
              "    }\n",
              "</style>\n",
              "<table border=\"1\" class=\"dataframe\">\n",
              "  <thead>\n",
              "    <tr style=\"text-align: right;\">\n",
              "      <th></th>\n",
              "      <th>reviewerID</th>\n",
              "      <th>asin</th>\n",
              "      <th>reviewerName</th>\n",
              "      <th>helpful</th>\n",
              "      <th>summary</th>\n",
              "      <th>unixReviewTime</th>\n",
              "      <th>reviewText</th>\n",
              "    </tr>\n",
              "  </thead>\n",
              "  <tbody>\n",
              "    <tr>\n",
              "      <th>221133</th>\n",
              "      <td>A3DOPYDOS49I3T</td>\n",
              "      <td>B004O844DS</td>\n",
              "      <td>Confucious</td>\n",
              "      <td>[62, 66]</td>\n",
              "      <td>Excellent cargo rack for the price</td>\n",
              "      <td>1319068800</td>\n",
              "      <td>(0, 3133)\\t1\\n  (0, 3340)\\t1\\n  (0, 4839)\\t1...</td>\n",
              "    </tr>\n",
              "    <tr>\n",
              "      <th>263359</th>\n",
              "      <td>A1AFY8WLHKC20T</td>\n",
              "      <td>B007WHCFC0</td>\n",
              "      <td>Morthacon</td>\n",
              "      <td>[0, 0]</td>\n",
              "      <td>Loving this!</td>\n",
              "      <td>1385596800</td>\n",
              "      <td>(0, 3133)\\t1\\n  (0, 3340)\\t1\\n  (0, 4839)\\t1...</td>\n",
              "    </tr>\n",
              "    <tr>\n",
              "      <th>274556</th>\n",
              "      <td>AD0WGOZ5CGP02</td>\n",
              "      <td>B0093IS0GQ</td>\n",
              "      <td>Jones</td>\n",
              "      <td>[11, 11]</td>\n",
              "      <td>Klean Kanteen Wide Mouth Bottle with Stainless...</td>\n",
              "      <td>1363478400</td>\n",
              "      <td>(0, 3133)\\t1\\n  (0, 3340)\\t1\\n  (0, 4839)\\t1...</td>\n",
              "    </tr>\n",
              "    <tr>\n",
              "      <th>271351</th>\n",
              "      <td>A35LT14WG5BX0T</td>\n",
              "      <td>B008NQF6RA</td>\n",
              "      <td>Lola Bunny</td>\n",
              "      <td>[0, 0]</td>\n",
              "      <td>Surprisingly effective!</td>\n",
              "      <td>1375401600</td>\n",
              "      <td>(0, 3133)\\t1\\n  (0, 3340)\\t1\\n  (0, 4839)\\t1...</td>\n",
              "    </tr>\n",
              "    <tr>\n",
              "      <th>45577</th>\n",
              "      <td>A1F4JPGWHYHU71</td>\n",
              "      <td>B000H6GZI8</td>\n",
              "      <td>Daniel E. Lechliter</td>\n",
              "      <td>[0, 0]</td>\n",
              "      <td>Houge Rubber Grip</td>\n",
              "      <td>1360108800</td>\n",
              "      <td>(0, 3133)\\t1\\n  (0, 3340)\\t1\\n  (0, 4839)\\t1...</td>\n",
              "    </tr>\n",
              "  </tbody>\n",
              "</table>\n",
              "</div>"
            ],
            "text/plain": [
              "            reviewerID  ...                                         reviewText\n",
              "221133  A3DOPYDOS49I3T  ...    (0, 3133)\\t1\\n  (0, 3340)\\t1\\n  (0, 4839)\\t1...\n",
              "263359  A1AFY8WLHKC20T  ...    (0, 3133)\\t1\\n  (0, 3340)\\t1\\n  (0, 4839)\\t1...\n",
              "274556   AD0WGOZ5CGP02  ...    (0, 3133)\\t1\\n  (0, 3340)\\t1\\n  (0, 4839)\\t1...\n",
              "271351  A35LT14WG5BX0T  ...    (0, 3133)\\t1\\n  (0, 3340)\\t1\\n  (0, 4839)\\t1...\n",
              "45577   A1F4JPGWHYHU71  ...    (0, 3133)\\t1\\n  (0, 3340)\\t1\\n  (0, 4839)\\t1...\n",
              "\n",
              "[5 rows x 7 columns]"
            ]
          },
          "metadata": {
            "tags": []
          },
          "execution_count": 28
        }
      ]
    },
    {
      "cell_type": "code",
      "metadata": {
        "id": "d_ay0d3qfQau",
        "outputId": "20ec212d-10e9-4bc5-d513-fc909ad9f1ed",
        "colab": {
          "base_uri": "https://localhost:8080/",
          "height": 50
        }
      },
      "source": [
        "\n",
        "from sklearn.feature_extraction.text import CountVectorizer, TfidfVectorizer\n",
        "vectorizer = CountVectorizer(min_df=10)\n",
        "reviewerID_bow_train = vectorizer.fit(X_train['reviewerID'])\n",
        "reviewerID_bow_train = vectorizer.transform(X_train['reviewerID'])\n",
        "reviewerID_bow_test = vectorizer.transform(X_test['reviewerID'])\n",
        "print(\"Shape of matrix after one hot encoding \",reviewerID_bow_test.shape)\n",
        "print(\"Shape of matrix after one hot encoding \",reviewerID_bow_train.shape)"
      ],
      "execution_count": null,
      "outputs": [
        {
          "output_type": "stream",
          "text": [
            "Shape of matrix after one hot encoding  (97792, 3420)\n",
            "Shape of matrix after one hot encoding  (198545, 3420)\n"
          ],
          "name": "stdout"
        }
      ]
    },
    {
      "cell_type": "code",
      "metadata": {
        "id": "5jHB85jRfQdY",
        "outputId": "6b8050de-dbbb-4c00-c10a-2822b6d4464f",
        "colab": {
          "base_uri": "https://localhost:8080/",
          "height": 195
        }
      },
      "source": [
        "X_train.drop(['reviewerID'],axis=1,inplace=True)\n",
        "X_train['reviewerID']=reviewerID_bow_train\n",
        "X_train.head()"
      ],
      "execution_count": null,
      "outputs": [
        {
          "output_type": "execute_result",
          "data": {
            "text/html": [
              "<div>\n",
              "<style scoped>\n",
              "    .dataframe tbody tr th:only-of-type {\n",
              "        vertical-align: middle;\n",
              "    }\n",
              "\n",
              "    .dataframe tbody tr th {\n",
              "        vertical-align: top;\n",
              "    }\n",
              "\n",
              "    .dataframe thead th {\n",
              "        text-align: right;\n",
              "    }\n",
              "</style>\n",
              "<table border=\"1\" class=\"dataframe\">\n",
              "  <thead>\n",
              "    <tr style=\"text-align: right;\">\n",
              "      <th></th>\n",
              "      <th>asin</th>\n",
              "      <th>reviewerName</th>\n",
              "      <th>helpful</th>\n",
              "      <th>summary</th>\n",
              "      <th>unixReviewTime</th>\n",
              "      <th>reviewText</th>\n",
              "      <th>reviewerID</th>\n",
              "    </tr>\n",
              "  </thead>\n",
              "  <tbody>\n",
              "    <tr>\n",
              "      <th>245544</th>\n",
              "      <td>B005QYHG7K</td>\n",
              "      <td>Tony</td>\n",
              "      <td>[0, 0]</td>\n",
              "      <td>High volume!</td>\n",
              "      <td>1334707200</td>\n",
              "      <td>(0, 3133)\\t1\\n  (0, 3340)\\t1\\n  (0, 4839)\\t1...</td>\n",
              "      <td>(2, 3304)\\t1\\n  (6, 2539)\\t1\\n  (8, 2031)\\t1...</td>\n",
              "    </tr>\n",
              "    <tr>\n",
              "      <th>164470</th>\n",
              "      <td>B002PQKGSI</td>\n",
              "      <td>Rikki Rocktrap</td>\n",
              "      <td>[0, 0]</td>\n",
              "      <td>Not Smith Drivers</td>\n",
              "      <td>1360108800</td>\n",
              "      <td>(0, 3133)\\t1\\n  (0, 3340)\\t1\\n  (0, 4839)\\t1...</td>\n",
              "      <td>(2, 3304)\\t1\\n  (6, 2539)\\t1\\n  (8, 2031)\\t1...</td>\n",
              "    </tr>\n",
              "    <tr>\n",
              "      <th>60413</th>\n",
              "      <td>B000NMLXBA</td>\n",
              "      <td>Jerome Bruss \"djbruss\"</td>\n",
              "      <td>[0, 0]</td>\n",
              "      <td>Does the job! Small, and, handy. ...</td>\n",
              "      <td>1404691200</td>\n",
              "      <td>(0, 3133)\\t1\\n  (0, 3340)\\t1\\n  (0, 4839)\\t1...</td>\n",
              "      <td>(2, 3304)\\t1\\n  (6, 2539)\\t1\\n  (8, 2031)\\t1...</td>\n",
              "    </tr>\n",
              "    <tr>\n",
              "      <th>42479</th>\n",
              "      <td>B000G2TOMM</td>\n",
              "      <td>rhoffa</td>\n",
              "      <td>[1, 1]</td>\n",
              "      <td>Truly Almost perfect!</td>\n",
              "      <td>1323302400</td>\n",
              "      <td>(0, 3133)\\t1\\n  (0, 3340)\\t1\\n  (0, 4839)\\t1...</td>\n",
              "      <td>(2, 3304)\\t1\\n  (6, 2539)\\t1\\n  (8, 2031)\\t1...</td>\n",
              "    </tr>\n",
              "    <tr>\n",
              "      <th>5506</th>\n",
              "      <td>B0000C53LF</td>\n",
              "      <td>Chain of Command</td>\n",
              "      <td>[0, 0]</td>\n",
              "      <td>works as advertised</td>\n",
              "      <td>1386547200</td>\n",
              "      <td>(0, 3133)\\t1\\n  (0, 3340)\\t1\\n  (0, 4839)\\t1...</td>\n",
              "      <td>(2, 3304)\\t1\\n  (6, 2539)\\t1\\n  (8, 2031)\\t1...</td>\n",
              "    </tr>\n",
              "  </tbody>\n",
              "</table>\n",
              "</div>"
            ],
            "text/plain": [
              "              asin  ...                                         reviewerID\n",
              "245544  B005QYHG7K  ...    (2, 3304)\\t1\\n  (6, 2539)\\t1\\n  (8, 2031)\\t1...\n",
              "164470  B002PQKGSI  ...    (2, 3304)\\t1\\n  (6, 2539)\\t1\\n  (8, 2031)\\t1...\n",
              "60413   B000NMLXBA  ...    (2, 3304)\\t1\\n  (6, 2539)\\t1\\n  (8, 2031)\\t1...\n",
              "42479   B000G2TOMM  ...    (2, 3304)\\t1\\n  (6, 2539)\\t1\\n  (8, 2031)\\t1...\n",
              "5506    B0000C53LF  ...    (2, 3304)\\t1\\n  (6, 2539)\\t1\\n  (8, 2031)\\t1...\n",
              "\n",
              "[5 rows x 7 columns]"
            ]
          },
          "metadata": {
            "tags": []
          },
          "execution_count": 30
        }
      ]
    },
    {
      "cell_type": "code",
      "metadata": {
        "id": "ALnYefwufQfo",
        "outputId": "63eacb80-2cc8-4488-8eca-7434d8655c67",
        "colab": {
          "base_uri": "https://localhost:8080/",
          "height": 195
        }
      },
      "source": [
        "X_test.drop(['reviewerID'],axis=1,inplace=True)\n",
        "X_test['reviewerID']=reviewerID_bow_test\n",
        "X_test.head()"
      ],
      "execution_count": null,
      "outputs": [
        {
          "output_type": "execute_result",
          "data": {
            "text/html": [
              "<div>\n",
              "<style scoped>\n",
              "    .dataframe tbody tr th:only-of-type {\n",
              "        vertical-align: middle;\n",
              "    }\n",
              "\n",
              "    .dataframe tbody tr th {\n",
              "        vertical-align: top;\n",
              "    }\n",
              "\n",
              "    .dataframe thead th {\n",
              "        text-align: right;\n",
              "    }\n",
              "</style>\n",
              "<table border=\"1\" class=\"dataframe\">\n",
              "  <thead>\n",
              "    <tr style=\"text-align: right;\">\n",
              "      <th></th>\n",
              "      <th>asin</th>\n",
              "      <th>reviewerName</th>\n",
              "      <th>helpful</th>\n",
              "      <th>summary</th>\n",
              "      <th>unixReviewTime</th>\n",
              "      <th>reviewText</th>\n",
              "      <th>reviewerID</th>\n",
              "    </tr>\n",
              "  </thead>\n",
              "  <tbody>\n",
              "    <tr>\n",
              "      <th>221133</th>\n",
              "      <td>B004O844DS</td>\n",
              "      <td>Confucious</td>\n",
              "      <td>[62, 66]</td>\n",
              "      <td>Excellent cargo rack for the price</td>\n",
              "      <td>1319068800</td>\n",
              "      <td>(0, 3133)\\t1\\n  (0, 3340)\\t1\\n  (0, 4839)\\t1...</td>\n",
              "      <td>(0, 2140)\\t1\\n  (5, 1787)\\t1\\n  (8, 833)\\t1\\...</td>\n",
              "    </tr>\n",
              "    <tr>\n",
              "      <th>263359</th>\n",
              "      <td>B007WHCFC0</td>\n",
              "      <td>Morthacon</td>\n",
              "      <td>[0, 0]</td>\n",
              "      <td>Loving this!</td>\n",
              "      <td>1385596800</td>\n",
              "      <td>(0, 3133)\\t1\\n  (0, 3340)\\t1\\n  (0, 4839)\\t1...</td>\n",
              "      <td>(0, 2140)\\t1\\n  (5, 1787)\\t1\\n  (8, 833)\\t1\\...</td>\n",
              "    </tr>\n",
              "    <tr>\n",
              "      <th>274556</th>\n",
              "      <td>B0093IS0GQ</td>\n",
              "      <td>Jones</td>\n",
              "      <td>[11, 11]</td>\n",
              "      <td>Klean Kanteen Wide Mouth Bottle with Stainless...</td>\n",
              "      <td>1363478400</td>\n",
              "      <td>(0, 3133)\\t1\\n  (0, 3340)\\t1\\n  (0, 4839)\\t1...</td>\n",
              "      <td>(0, 2140)\\t1\\n  (5, 1787)\\t1\\n  (8, 833)\\t1\\...</td>\n",
              "    </tr>\n",
              "    <tr>\n",
              "      <th>271351</th>\n",
              "      <td>B008NQF6RA</td>\n",
              "      <td>Lola Bunny</td>\n",
              "      <td>[0, 0]</td>\n",
              "      <td>Surprisingly effective!</td>\n",
              "      <td>1375401600</td>\n",
              "      <td>(0, 3133)\\t1\\n  (0, 3340)\\t1\\n  (0, 4839)\\t1...</td>\n",
              "      <td>(0, 2140)\\t1\\n  (5, 1787)\\t1\\n  (8, 833)\\t1\\...</td>\n",
              "    </tr>\n",
              "    <tr>\n",
              "      <th>45577</th>\n",
              "      <td>B000H6GZI8</td>\n",
              "      <td>Daniel E. Lechliter</td>\n",
              "      <td>[0, 0]</td>\n",
              "      <td>Houge Rubber Grip</td>\n",
              "      <td>1360108800</td>\n",
              "      <td>(0, 3133)\\t1\\n  (0, 3340)\\t1\\n  (0, 4839)\\t1...</td>\n",
              "      <td>(0, 2140)\\t1\\n  (5, 1787)\\t1\\n  (8, 833)\\t1\\...</td>\n",
              "    </tr>\n",
              "  </tbody>\n",
              "</table>\n",
              "</div>"
            ],
            "text/plain": [
              "              asin  ...                                         reviewerID\n",
              "221133  B004O844DS  ...    (0, 2140)\\t1\\n  (5, 1787)\\t1\\n  (8, 833)\\t1\\...\n",
              "263359  B007WHCFC0  ...    (0, 2140)\\t1\\n  (5, 1787)\\t1\\n  (8, 833)\\t1\\...\n",
              "274556  B0093IS0GQ  ...    (0, 2140)\\t1\\n  (5, 1787)\\t1\\n  (8, 833)\\t1\\...\n",
              "271351  B008NQF6RA  ...    (0, 2140)\\t1\\n  (5, 1787)\\t1\\n  (8, 833)\\t1\\...\n",
              "45577   B000H6GZI8  ...    (0, 2140)\\t1\\n  (5, 1787)\\t1\\n  (8, 833)\\t1\\...\n",
              "\n",
              "[5 rows x 7 columns]"
            ]
          },
          "metadata": {
            "tags": []
          },
          "execution_count": 32
        }
      ]
    },
    {
      "cell_type": "code",
      "metadata": {
        "id": "N77IHmV4fQiJ",
        "outputId": "6eb4b43b-1a55-4ba6-c563-b769a6e7839d",
        "colab": {
          "base_uri": "https://localhost:8080/",
          "height": 50
        }
      },
      "source": [
        "from sklearn.feature_extraction.text import CountVectorizer, TfidfVectorizer\n",
        "vectorizer = CountVectorizer(min_df=10)\n",
        "vectorizer.fit(X_train['summary'])\n",
        "summary_bow_train = vectorizer.transform(X_train['summary'])\n",
        "summary_bow_test = vectorizer.transform(X_test['summary'])\n",
        "print(\"Shape of matrix after one hot encoding \",summary_bow_train.shape)\n",
        "print(\"Shape of matrix after one hot encoding \",summary_bow_test.shape)\n"
      ],
      "execution_count": null,
      "outputs": [
        {
          "output_type": "stream",
          "text": [
            "Shape of matrix after one hot encoding  (198545, 4409)\n",
            "Shape of matrix after one hot encoding  (97792, 4409)\n"
          ],
          "name": "stdout"
        }
      ]
    },
    {
      "cell_type": "code",
      "metadata": {
        "id": "XkpeCi64fQnH",
        "outputId": "d4e58525-4930-4e91-f47a-fd9210514103",
        "colab": {
          "base_uri": "https://localhost:8080/",
          "height": 195
        }
      },
      "source": [
        "X_train.drop(['summary'],axis=1,inplace=True)\n",
        "X_train['summary']=summary_bow_train\n",
        "X_train.head()"
      ],
      "execution_count": null,
      "outputs": [
        {
          "output_type": "execute_result",
          "data": {
            "text/html": [
              "<div>\n",
              "<style scoped>\n",
              "    .dataframe tbody tr th:only-of-type {\n",
              "        vertical-align: middle;\n",
              "    }\n",
              "\n",
              "    .dataframe tbody tr th {\n",
              "        vertical-align: top;\n",
              "    }\n",
              "\n",
              "    .dataframe thead th {\n",
              "        text-align: right;\n",
              "    }\n",
              "</style>\n",
              "<table border=\"1\" class=\"dataframe\">\n",
              "  <thead>\n",
              "    <tr style=\"text-align: right;\">\n",
              "      <th></th>\n",
              "      <th>asin</th>\n",
              "      <th>reviewerName</th>\n",
              "      <th>helpful</th>\n",
              "      <th>unixReviewTime</th>\n",
              "      <th>reviewText</th>\n",
              "      <th>reviewerID</th>\n",
              "      <th>summary</th>\n",
              "    </tr>\n",
              "  </thead>\n",
              "  <tbody>\n",
              "    <tr>\n",
              "      <th>245544</th>\n",
              "      <td>B005QYHG7K</td>\n",
              "      <td>Tony</td>\n",
              "      <td>[0, 0]</td>\n",
              "      <td>1334707200</td>\n",
              "      <td>(0, 3133)\\t1\\n  (0, 3340)\\t1\\n  (0, 4839)\\t1...</td>\n",
              "      <td>(2, 3304)\\t1\\n  (6, 2539)\\t1\\n  (8, 2031)\\t1...</td>\n",
              "      <td>(0, 1827)\\t1\\n  (0, 4191)\\t1\\n  (1, 1209)\\t1...</td>\n",
              "    </tr>\n",
              "    <tr>\n",
              "      <th>164470</th>\n",
              "      <td>B002PQKGSI</td>\n",
              "      <td>Rikki Rocktrap</td>\n",
              "      <td>[0, 0]</td>\n",
              "      <td>1360108800</td>\n",
              "      <td>(0, 3133)\\t1\\n  (0, 3340)\\t1\\n  (0, 4839)\\t1...</td>\n",
              "      <td>(2, 3304)\\t1\\n  (6, 2539)\\t1\\n  (8, 2031)\\t1...</td>\n",
              "      <td>(0, 1827)\\t1\\n  (0, 4191)\\t1\\n  (1, 1209)\\t1...</td>\n",
              "    </tr>\n",
              "    <tr>\n",
              "      <th>60413</th>\n",
              "      <td>B000NMLXBA</td>\n",
              "      <td>Jerome Bruss \"djbruss\"</td>\n",
              "      <td>[0, 0]</td>\n",
              "      <td>1404691200</td>\n",
              "      <td>(0, 3133)\\t1\\n  (0, 3340)\\t1\\n  (0, 4839)\\t1...</td>\n",
              "      <td>(2, 3304)\\t1\\n  (6, 2539)\\t1\\n  (8, 2031)\\t1...</td>\n",
              "      <td>(0, 1827)\\t1\\n  (0, 4191)\\t1\\n  (1, 1209)\\t1...</td>\n",
              "    </tr>\n",
              "    <tr>\n",
              "      <th>42479</th>\n",
              "      <td>B000G2TOMM</td>\n",
              "      <td>rhoffa</td>\n",
              "      <td>[1, 1]</td>\n",
              "      <td>1323302400</td>\n",
              "      <td>(0, 3133)\\t1\\n  (0, 3340)\\t1\\n  (0, 4839)\\t1...</td>\n",
              "      <td>(2, 3304)\\t1\\n  (6, 2539)\\t1\\n  (8, 2031)\\t1...</td>\n",
              "      <td>(0, 1827)\\t1\\n  (0, 4191)\\t1\\n  (1, 1209)\\t1...</td>\n",
              "    </tr>\n",
              "    <tr>\n",
              "      <th>5506</th>\n",
              "      <td>B0000C53LF</td>\n",
              "      <td>Chain of Command</td>\n",
              "      <td>[0, 0]</td>\n",
              "      <td>1386547200</td>\n",
              "      <td>(0, 3133)\\t1\\n  (0, 3340)\\t1\\n  (0, 4839)\\t1...</td>\n",
              "      <td>(2, 3304)\\t1\\n  (6, 2539)\\t1\\n  (8, 2031)\\t1...</td>\n",
              "      <td>(0, 1827)\\t1\\n  (0, 4191)\\t1\\n  (1, 1209)\\t1...</td>\n",
              "    </tr>\n",
              "  </tbody>\n",
              "</table>\n",
              "</div>"
            ],
            "text/plain": [
              "              asin  ...                                            summary\n",
              "245544  B005QYHG7K  ...    (0, 1827)\\t1\\n  (0, 4191)\\t1\\n  (1, 1209)\\t1...\n",
              "164470  B002PQKGSI  ...    (0, 1827)\\t1\\n  (0, 4191)\\t1\\n  (1, 1209)\\t1...\n",
              "60413   B000NMLXBA  ...    (0, 1827)\\t1\\n  (0, 4191)\\t1\\n  (1, 1209)\\t1...\n",
              "42479   B000G2TOMM  ...    (0, 1827)\\t1\\n  (0, 4191)\\t1\\n  (1, 1209)\\t1...\n",
              "5506    B0000C53LF  ...    (0, 1827)\\t1\\n  (0, 4191)\\t1\\n  (1, 1209)\\t1...\n",
              "\n",
              "[5 rows x 7 columns]"
            ]
          },
          "metadata": {
            "tags": []
          },
          "execution_count": 34
        }
      ]
    },
    {
      "cell_type": "code",
      "metadata": {
        "id": "-Q2PwFbLfQpU",
        "outputId": "ccc478d3-de48-4c08-e6e1-a72e26d73bbb",
        "colab": {
          "base_uri": "https://localhost:8080/",
          "height": 195
        }
      },
      "source": [
        "X_test.drop(['summary'],axis=1,inplace=True)\n",
        "X_test['summary']=summary_bow_train\n",
        "X_test.head()"
      ],
      "execution_count": null,
      "outputs": [
        {
          "output_type": "execute_result",
          "data": {
            "text/html": [
              "<div>\n",
              "<style scoped>\n",
              "    .dataframe tbody tr th:only-of-type {\n",
              "        vertical-align: middle;\n",
              "    }\n",
              "\n",
              "    .dataframe tbody tr th {\n",
              "        vertical-align: top;\n",
              "    }\n",
              "\n",
              "    .dataframe thead th {\n",
              "        text-align: right;\n",
              "    }\n",
              "</style>\n",
              "<table border=\"1\" class=\"dataframe\">\n",
              "  <thead>\n",
              "    <tr style=\"text-align: right;\">\n",
              "      <th></th>\n",
              "      <th>asin</th>\n",
              "      <th>reviewerName</th>\n",
              "      <th>helpful</th>\n",
              "      <th>unixReviewTime</th>\n",
              "      <th>reviewText</th>\n",
              "      <th>reviewerID</th>\n",
              "      <th>summary</th>\n",
              "    </tr>\n",
              "  </thead>\n",
              "  <tbody>\n",
              "    <tr>\n",
              "      <th>221133</th>\n",
              "      <td>B004O844DS</td>\n",
              "      <td>Confucious</td>\n",
              "      <td>[62, 66]</td>\n",
              "      <td>1319068800</td>\n",
              "      <td>(0, 3133)\\t1\\n  (0, 3340)\\t1\\n  (0, 4839)\\t1...</td>\n",
              "      <td>(0, 2140)\\t1\\n  (5, 1787)\\t1\\n  (8, 833)\\t1\\...</td>\n",
              "      <td>(0, 1827)\\t1\\n  (0, 4191)\\t1\\n  (1, 1209)\\t1...</td>\n",
              "    </tr>\n",
              "    <tr>\n",
              "      <th>263359</th>\n",
              "      <td>B007WHCFC0</td>\n",
              "      <td>Morthacon</td>\n",
              "      <td>[0, 0]</td>\n",
              "      <td>1385596800</td>\n",
              "      <td>(0, 3133)\\t1\\n  (0, 3340)\\t1\\n  (0, 4839)\\t1...</td>\n",
              "      <td>(0, 2140)\\t1\\n  (5, 1787)\\t1\\n  (8, 833)\\t1\\...</td>\n",
              "      <td>(0, 1827)\\t1\\n  (0, 4191)\\t1\\n  (1, 1209)\\t1...</td>\n",
              "    </tr>\n",
              "    <tr>\n",
              "      <th>274556</th>\n",
              "      <td>B0093IS0GQ</td>\n",
              "      <td>Jones</td>\n",
              "      <td>[11, 11]</td>\n",
              "      <td>1363478400</td>\n",
              "      <td>(0, 3133)\\t1\\n  (0, 3340)\\t1\\n  (0, 4839)\\t1...</td>\n",
              "      <td>(0, 2140)\\t1\\n  (5, 1787)\\t1\\n  (8, 833)\\t1\\...</td>\n",
              "      <td>(0, 1827)\\t1\\n  (0, 4191)\\t1\\n  (1, 1209)\\t1...</td>\n",
              "    </tr>\n",
              "    <tr>\n",
              "      <th>271351</th>\n",
              "      <td>B008NQF6RA</td>\n",
              "      <td>Lola Bunny</td>\n",
              "      <td>[0, 0]</td>\n",
              "      <td>1375401600</td>\n",
              "      <td>(0, 3133)\\t1\\n  (0, 3340)\\t1\\n  (0, 4839)\\t1...</td>\n",
              "      <td>(0, 2140)\\t1\\n  (5, 1787)\\t1\\n  (8, 833)\\t1\\...</td>\n",
              "      <td>(0, 1827)\\t1\\n  (0, 4191)\\t1\\n  (1, 1209)\\t1...</td>\n",
              "    </tr>\n",
              "    <tr>\n",
              "      <th>45577</th>\n",
              "      <td>B000H6GZI8</td>\n",
              "      <td>Daniel E. Lechliter</td>\n",
              "      <td>[0, 0]</td>\n",
              "      <td>1360108800</td>\n",
              "      <td>(0, 3133)\\t1\\n  (0, 3340)\\t1\\n  (0, 4839)\\t1...</td>\n",
              "      <td>(0, 2140)\\t1\\n  (5, 1787)\\t1\\n  (8, 833)\\t1\\...</td>\n",
              "      <td>(0, 1827)\\t1\\n  (0, 4191)\\t1\\n  (1, 1209)\\t1...</td>\n",
              "    </tr>\n",
              "  </tbody>\n",
              "</table>\n",
              "</div>"
            ],
            "text/plain": [
              "              asin  ...                                            summary\n",
              "221133  B004O844DS  ...    (0, 1827)\\t1\\n  (0, 4191)\\t1\\n  (1, 1209)\\t1...\n",
              "263359  B007WHCFC0  ...    (0, 1827)\\t1\\n  (0, 4191)\\t1\\n  (1, 1209)\\t1...\n",
              "274556  B0093IS0GQ  ...    (0, 1827)\\t1\\n  (0, 4191)\\t1\\n  (1, 1209)\\t1...\n",
              "271351  B008NQF6RA  ...    (0, 1827)\\t1\\n  (0, 4191)\\t1\\n  (1, 1209)\\t1...\n",
              "45577   B000H6GZI8  ...    (0, 1827)\\t1\\n  (0, 4191)\\t1\\n  (1, 1209)\\t1...\n",
              "\n",
              "[5 rows x 7 columns]"
            ]
          },
          "metadata": {
            "tags": []
          },
          "execution_count": 35
        }
      ]
    },
    {
      "cell_type": "code",
      "metadata": {
        "id": "i3kJ0IEDfQsk"
      },
      "source": [
        "X_train[\"reviewerName\"].fillna(\"No name\", inplace = True) "
      ],
      "execution_count": null,
      "outputs": []
    },
    {
      "cell_type": "code",
      "metadata": {
        "id": "6abrpjG2h74a"
      },
      "source": [
        "X_test[\"reviewerName\"].fillna(\"No name\", inplace = True) "
      ],
      "execution_count": null,
      "outputs": []
    },
    {
      "cell_type": "code",
      "metadata": {
        "id": "30zO-G5Th77R",
        "outputId": "af3276b3-3f80-44fa-f9cc-72ded0d0157b",
        "colab": {
          "base_uri": "https://localhost:8080/",
          "height": 50
        }
      },
      "source": [
        "from sklearn.feature_extraction.text import CountVectorizer, TfidfVectorizer\n",
        "vectorizer = CountVectorizer(min_df=10)\n",
        "vectorizer.fit(X_train['reviewerName'])\n",
        "reviewerName_bow_train = vectorizer.transform(X_train['reviewerName'])\n",
        "reviewerName_bow_test = vectorizer.transform(X_test['reviewerName'])\n",
        "print(\"Shape of matrix after one hot encoding \",reviewerName_bow_test.shape)\n",
        "print(\"Shape of matrix after one hot encoding \",reviewerName_bow_train.shape)"
      ],
      "execution_count": null,
      "outputs": [
        {
          "output_type": "stream",
          "text": [
            "Shape of matrix after one hot encoding  (97792, 5782)\n",
            "Shape of matrix after one hot encoding  (198545, 5782)\n"
          ],
          "name": "stdout"
        }
      ]
    },
    {
      "cell_type": "code",
      "metadata": {
        "id": "gEWBQgRMh8AM",
        "outputId": "a80f938f-fbfc-495b-f530-3e38e43615d8",
        "colab": {
          "base_uri": "https://localhost:8080/",
          "height": 279
        }
      },
      "source": [
        "X_train.drop(['reviewerName'],axis=1,inplace=True)\n",
        "X_train['reviewerName']=reviewerName_bow_train\n",
        "X_train.head()"
      ],
      "execution_count": null,
      "outputs": [
        {
          "output_type": "execute_result",
          "data": {
            "text/html": [
              "<div>\n",
              "<style scoped>\n",
              "    .dataframe tbody tr th:only-of-type {\n",
              "        vertical-align: middle;\n",
              "    }\n",
              "\n",
              "    .dataframe tbody tr th {\n",
              "        vertical-align: top;\n",
              "    }\n",
              "\n",
              "    .dataframe thead th {\n",
              "        text-align: right;\n",
              "    }\n",
              "</style>\n",
              "<table border=\"1\" class=\"dataframe\">\n",
              "  <thead>\n",
              "    <tr style=\"text-align: right;\">\n",
              "      <th></th>\n",
              "      <th>asin</th>\n",
              "      <th>helpful</th>\n",
              "      <th>unixReviewTime</th>\n",
              "      <th>reviewText</th>\n",
              "      <th>reviewerID</th>\n",
              "      <th>summary</th>\n",
              "      <th>reviewerName</th>\n",
              "    </tr>\n",
              "  </thead>\n",
              "  <tbody>\n",
              "    <tr>\n",
              "      <th>245544</th>\n",
              "      <td>B005QYHG7K</td>\n",
              "      <td>[0, 0]</td>\n",
              "      <td>1334707200</td>\n",
              "      <td>(0, 3133)\\t1\\n  (0, 3340)\\t1\\n  (0, 4839)\\t1...</td>\n",
              "      <td>(2, 3304)\\t1\\n  (6, 2539)\\t1\\n  (8, 2031)\\t1...</td>\n",
              "      <td>(0, 1827)\\t1\\n  (0, 4191)\\t1\\n  (1, 1209)\\t1...</td>\n",
              "      <td>(0, 5277)\\t1\\n  (2, 720)\\t1\\n  (2, 1475)\\t1\\...</td>\n",
              "    </tr>\n",
              "    <tr>\n",
              "      <th>164470</th>\n",
              "      <td>B002PQKGSI</td>\n",
              "      <td>[0, 0]</td>\n",
              "      <td>1360108800</td>\n",
              "      <td>(0, 3133)\\t1\\n  (0, 3340)\\t1\\n  (0, 4839)\\t1...</td>\n",
              "      <td>(2, 3304)\\t1\\n  (6, 2539)\\t1\\n  (8, 2031)\\t1...</td>\n",
              "      <td>(0, 1827)\\t1\\n  (0, 4191)\\t1\\n  (1, 1209)\\t1...</td>\n",
              "      <td>(0, 5277)\\t1\\n  (2, 720)\\t1\\n  (2, 1475)\\t1\\...</td>\n",
              "    </tr>\n",
              "    <tr>\n",
              "      <th>60413</th>\n",
              "      <td>B000NMLXBA</td>\n",
              "      <td>[0, 0]</td>\n",
              "      <td>1404691200</td>\n",
              "      <td>(0, 3133)\\t1\\n  (0, 3340)\\t1\\n  (0, 4839)\\t1...</td>\n",
              "      <td>(2, 3304)\\t1\\n  (6, 2539)\\t1\\n  (8, 2031)\\t1...</td>\n",
              "      <td>(0, 1827)\\t1\\n  (0, 4191)\\t1\\n  (1, 1209)\\t1...</td>\n",
              "      <td>(0, 5277)\\t1\\n  (2, 720)\\t1\\n  (2, 1475)\\t1\\...</td>\n",
              "    </tr>\n",
              "    <tr>\n",
              "      <th>42479</th>\n",
              "      <td>B000G2TOMM</td>\n",
              "      <td>[1, 1]</td>\n",
              "      <td>1323302400</td>\n",
              "      <td>(0, 3133)\\t1\\n  (0, 3340)\\t1\\n  (0, 4839)\\t1...</td>\n",
              "      <td>(2, 3304)\\t1\\n  (6, 2539)\\t1\\n  (8, 2031)\\t1...</td>\n",
              "      <td>(0, 1827)\\t1\\n  (0, 4191)\\t1\\n  (1, 1209)\\t1...</td>\n",
              "      <td>(0, 5277)\\t1\\n  (2, 720)\\t1\\n  (2, 1475)\\t1\\...</td>\n",
              "    </tr>\n",
              "    <tr>\n",
              "      <th>5506</th>\n",
              "      <td>B0000C53LF</td>\n",
              "      <td>[0, 0]</td>\n",
              "      <td>1386547200</td>\n",
              "      <td>(0, 3133)\\t1\\n  (0, 3340)\\t1\\n  (0, 4839)\\t1...</td>\n",
              "      <td>(2, 3304)\\t1\\n  (6, 2539)\\t1\\n  (8, 2031)\\t1...</td>\n",
              "      <td>(0, 1827)\\t1\\n  (0, 4191)\\t1\\n  (1, 1209)\\t1...</td>\n",
              "      <td>(0, 5277)\\t1\\n  (2, 720)\\t1\\n  (2, 1475)\\t1\\...</td>\n",
              "    </tr>\n",
              "  </tbody>\n",
              "</table>\n",
              "</div>"
            ],
            "text/plain": [
              "              asin  ...                                       reviewerName\n",
              "245544  B005QYHG7K  ...    (0, 5277)\\t1\\n  (2, 720)\\t1\\n  (2, 1475)\\t1\\...\n",
              "164470  B002PQKGSI  ...    (0, 5277)\\t1\\n  (2, 720)\\t1\\n  (2, 1475)\\t1\\...\n",
              "60413   B000NMLXBA  ...    (0, 5277)\\t1\\n  (2, 720)\\t1\\n  (2, 1475)\\t1\\...\n",
              "42479   B000G2TOMM  ...    (0, 5277)\\t1\\n  (2, 720)\\t1\\n  (2, 1475)\\t1\\...\n",
              "5506    B0000C53LF  ...    (0, 5277)\\t1\\n  (2, 720)\\t1\\n  (2, 1475)\\t1\\...\n",
              "\n",
              "[5 rows x 7 columns]"
            ]
          },
          "metadata": {
            "tags": []
          },
          "execution_count": 39
        }
      ]
    },
    {
      "cell_type": "code",
      "metadata": {
        "id": "ojRaYU_ch8DB",
        "outputId": "50d2b32b-12c5-4772-e4d7-bb00d1951048",
        "colab": {
          "base_uri": "https://localhost:8080/",
          "height": 279
        }
      },
      "source": [
        "X_test.drop(['reviewerName'],axis=1,inplace=True)\n",
        "X_test['reviewerName']=reviewerName_bow_test\n",
        "X_test.head()"
      ],
      "execution_count": null,
      "outputs": [
        {
          "output_type": "execute_result",
          "data": {
            "text/html": [
              "<div>\n",
              "<style scoped>\n",
              "    .dataframe tbody tr th:only-of-type {\n",
              "        vertical-align: middle;\n",
              "    }\n",
              "\n",
              "    .dataframe tbody tr th {\n",
              "        vertical-align: top;\n",
              "    }\n",
              "\n",
              "    .dataframe thead th {\n",
              "        text-align: right;\n",
              "    }\n",
              "</style>\n",
              "<table border=\"1\" class=\"dataframe\">\n",
              "  <thead>\n",
              "    <tr style=\"text-align: right;\">\n",
              "      <th></th>\n",
              "      <th>asin</th>\n",
              "      <th>helpful</th>\n",
              "      <th>unixReviewTime</th>\n",
              "      <th>reviewText</th>\n",
              "      <th>reviewerID</th>\n",
              "      <th>summary</th>\n",
              "      <th>reviewerName</th>\n",
              "    </tr>\n",
              "  </thead>\n",
              "  <tbody>\n",
              "    <tr>\n",
              "      <th>221133</th>\n",
              "      <td>B004O844DS</td>\n",
              "      <td>[62, 66]</td>\n",
              "      <td>1319068800</td>\n",
              "      <td>(0, 3133)\\t1\\n  (0, 3340)\\t1\\n  (0, 4839)\\t1...</td>\n",
              "      <td>(0, 2140)\\t1\\n  (5, 1787)\\t1\\n  (8, 833)\\t1\\...</td>\n",
              "      <td>(0, 1827)\\t1\\n  (0, 4191)\\t1\\n  (1, 1209)\\t1...</td>\n",
              "      <td>(0, 1120)\\t1\\n  (2, 2764)\\t1\\n  (3, 751)\\t1\\...</td>\n",
              "    </tr>\n",
              "    <tr>\n",
              "      <th>263359</th>\n",
              "      <td>B007WHCFC0</td>\n",
              "      <td>[0, 0]</td>\n",
              "      <td>1385596800</td>\n",
              "      <td>(0, 3133)\\t1\\n  (0, 3340)\\t1\\n  (0, 4839)\\t1...</td>\n",
              "      <td>(0, 2140)\\t1\\n  (5, 1787)\\t1\\n  (8, 833)\\t1\\...</td>\n",
              "      <td>(0, 1827)\\t1\\n  (0, 4191)\\t1\\n  (1, 1209)\\t1...</td>\n",
              "      <td>(0, 1120)\\t1\\n  (2, 2764)\\t1\\n  (3, 751)\\t1\\...</td>\n",
              "    </tr>\n",
              "    <tr>\n",
              "      <th>274556</th>\n",
              "      <td>B0093IS0GQ</td>\n",
              "      <td>[11, 11]</td>\n",
              "      <td>1363478400</td>\n",
              "      <td>(0, 3133)\\t1\\n  (0, 3340)\\t1\\n  (0, 4839)\\t1...</td>\n",
              "      <td>(0, 2140)\\t1\\n  (5, 1787)\\t1\\n  (8, 833)\\t1\\...</td>\n",
              "      <td>(0, 1827)\\t1\\n  (0, 4191)\\t1\\n  (1, 1209)\\t1...</td>\n",
              "      <td>(0, 1120)\\t1\\n  (2, 2764)\\t1\\n  (3, 751)\\t1\\...</td>\n",
              "    </tr>\n",
              "    <tr>\n",
              "      <th>271351</th>\n",
              "      <td>B008NQF6RA</td>\n",
              "      <td>[0, 0]</td>\n",
              "      <td>1375401600</td>\n",
              "      <td>(0, 3133)\\t1\\n  (0, 3340)\\t1\\n  (0, 4839)\\t1...</td>\n",
              "      <td>(0, 2140)\\t1\\n  (5, 1787)\\t1\\n  (8, 833)\\t1\\...</td>\n",
              "      <td>(0, 1827)\\t1\\n  (0, 4191)\\t1\\n  (1, 1209)\\t1...</td>\n",
              "      <td>(0, 1120)\\t1\\n  (2, 2764)\\t1\\n  (3, 751)\\t1\\...</td>\n",
              "    </tr>\n",
              "    <tr>\n",
              "      <th>45577</th>\n",
              "      <td>B000H6GZI8</td>\n",
              "      <td>[0, 0]</td>\n",
              "      <td>1360108800</td>\n",
              "      <td>(0, 3133)\\t1\\n  (0, 3340)\\t1\\n  (0, 4839)\\t1...</td>\n",
              "      <td>(0, 2140)\\t1\\n  (5, 1787)\\t1\\n  (8, 833)\\t1\\...</td>\n",
              "      <td>(0, 1827)\\t1\\n  (0, 4191)\\t1\\n  (1, 1209)\\t1...</td>\n",
              "      <td>(0, 1120)\\t1\\n  (2, 2764)\\t1\\n  (3, 751)\\t1\\...</td>\n",
              "    </tr>\n",
              "  </tbody>\n",
              "</table>\n",
              "</div>"
            ],
            "text/plain": [
              "              asin  ...                                       reviewerName\n",
              "221133  B004O844DS  ...    (0, 1120)\\t1\\n  (2, 2764)\\t1\\n  (3, 751)\\t1\\...\n",
              "263359  B007WHCFC0  ...    (0, 1120)\\t1\\n  (2, 2764)\\t1\\n  (3, 751)\\t1\\...\n",
              "274556  B0093IS0GQ  ...    (0, 1120)\\t1\\n  (2, 2764)\\t1\\n  (3, 751)\\t1\\...\n",
              "271351  B008NQF6RA  ...    (0, 1120)\\t1\\n  (2, 2764)\\t1\\n  (3, 751)\\t1\\...\n",
              "45577   B000H6GZI8  ...    (0, 1120)\\t1\\n  (2, 2764)\\t1\\n  (3, 751)\\t1\\...\n",
              "\n",
              "[5 rows x 7 columns]"
            ]
          },
          "metadata": {
            "tags": []
          },
          "execution_count": 40
        }
      ]
    },
    {
      "cell_type": "code",
      "metadata": {
        "id": "NdYaGKVZh8HW",
        "outputId": "5a1946a2-62a2-43c4-d4f8-4c194c0b9bae",
        "colab": {
          "base_uri": "https://localhost:8080/",
          "height": 50
        }
      },
      "source": [
        "from sklearn.feature_extraction.text import CountVectorizer, TfidfVectorizer\n",
        "vectorizer = CountVectorizer(min_df=10)\n",
        "vectorizer.fit(X_train['asin'])\n",
        "asin_bow_train = vectorizer.transform(X_train['asin'])\n",
        "asin_bow_test = vectorizer.transform(X_test['asin'])\n",
        "print(\"Shape of matrix after one hot encoding \",asin_bow_test.shape)\n",
        "print(\"Shape of matrix after one hot encoding \",asin_bow_train.shape)"
      ],
      "execution_count": null,
      "outputs": [
        {
          "output_type": "stream",
          "text": [
            "Shape of matrix after one hot encoding  (97792, 5456)\n",
            "Shape of matrix after one hot encoding  (198545, 5456)\n"
          ],
          "name": "stdout"
        }
      ]
    },
    {
      "cell_type": "code",
      "metadata": {
        "id": "zFQZCBg0h8Or",
        "outputId": "385e3a91-f173-445c-bbc6-d66e970f907f",
        "colab": {
          "base_uri": "https://localhost:8080/",
          "height": 279
        }
      },
      "source": [
        "X_train.drop(['asin'],axis=1,inplace=True)\n",
        "X_train['asin']=asin_bow_train\n",
        "X_train.head()"
      ],
      "execution_count": null,
      "outputs": [
        {
          "output_type": "execute_result",
          "data": {
            "text/html": [
              "<div>\n",
              "<style scoped>\n",
              "    .dataframe tbody tr th:only-of-type {\n",
              "        vertical-align: middle;\n",
              "    }\n",
              "\n",
              "    .dataframe tbody tr th {\n",
              "        vertical-align: top;\n",
              "    }\n",
              "\n",
              "    .dataframe thead th {\n",
              "        text-align: right;\n",
              "    }\n",
              "</style>\n",
              "<table border=\"1\" class=\"dataframe\">\n",
              "  <thead>\n",
              "    <tr style=\"text-align: right;\">\n",
              "      <th></th>\n",
              "      <th>helpful</th>\n",
              "      <th>unixReviewTime</th>\n",
              "      <th>reviewText</th>\n",
              "      <th>reviewerID</th>\n",
              "      <th>summary</th>\n",
              "      <th>reviewerName</th>\n",
              "      <th>asin</th>\n",
              "    </tr>\n",
              "  </thead>\n",
              "  <tbody>\n",
              "    <tr>\n",
              "      <th>245544</th>\n",
              "      <td>[0, 0]</td>\n",
              "      <td>1334707200</td>\n",
              "      <td>(0, 3133)\\t1\\n  (0, 3340)\\t1\\n  (0, 4839)\\t1...</td>\n",
              "      <td>(2, 3304)\\t1\\n  (6, 2539)\\t1\\n  (8, 2031)\\t1...</td>\n",
              "      <td>(0, 1827)\\t1\\n  (0, 4191)\\t1\\n  (1, 1209)\\t1...</td>\n",
              "      <td>(0, 5277)\\t1\\n  (2, 720)\\t1\\n  (2, 1475)\\t1\\...</td>\n",
              "      <td>(1, 3021)\\t1\\n  (2, 1154)\\t1\\n  (3, 828)\\t1\\...</td>\n",
              "    </tr>\n",
              "    <tr>\n",
              "      <th>164470</th>\n",
              "      <td>[0, 0]</td>\n",
              "      <td>1360108800</td>\n",
              "      <td>(0, 3133)\\t1\\n  (0, 3340)\\t1\\n  (0, 4839)\\t1...</td>\n",
              "      <td>(2, 3304)\\t1\\n  (6, 2539)\\t1\\n  (8, 2031)\\t1...</td>\n",
              "      <td>(0, 1827)\\t1\\n  (0, 4191)\\t1\\n  (1, 1209)\\t1...</td>\n",
              "      <td>(0, 5277)\\t1\\n  (2, 720)\\t1\\n  (2, 1475)\\t1\\...</td>\n",
              "      <td>(1, 3021)\\t1\\n  (2, 1154)\\t1\\n  (3, 828)\\t1\\...</td>\n",
              "    </tr>\n",
              "    <tr>\n",
              "      <th>60413</th>\n",
              "      <td>[0, 0]</td>\n",
              "      <td>1404691200</td>\n",
              "      <td>(0, 3133)\\t1\\n  (0, 3340)\\t1\\n  (0, 4839)\\t1...</td>\n",
              "      <td>(2, 3304)\\t1\\n  (6, 2539)\\t1\\n  (8, 2031)\\t1...</td>\n",
              "      <td>(0, 1827)\\t1\\n  (0, 4191)\\t1\\n  (1, 1209)\\t1...</td>\n",
              "      <td>(0, 5277)\\t1\\n  (2, 720)\\t1\\n  (2, 1475)\\t1\\...</td>\n",
              "      <td>(1, 3021)\\t1\\n  (2, 1154)\\t1\\n  (3, 828)\\t1\\...</td>\n",
              "    </tr>\n",
              "    <tr>\n",
              "      <th>42479</th>\n",
              "      <td>[1, 1]</td>\n",
              "      <td>1323302400</td>\n",
              "      <td>(0, 3133)\\t1\\n  (0, 3340)\\t1\\n  (0, 4839)\\t1...</td>\n",
              "      <td>(2, 3304)\\t1\\n  (6, 2539)\\t1\\n  (8, 2031)\\t1...</td>\n",
              "      <td>(0, 1827)\\t1\\n  (0, 4191)\\t1\\n  (1, 1209)\\t1...</td>\n",
              "      <td>(0, 5277)\\t1\\n  (2, 720)\\t1\\n  (2, 1475)\\t1\\...</td>\n",
              "      <td>(1, 3021)\\t1\\n  (2, 1154)\\t1\\n  (3, 828)\\t1\\...</td>\n",
              "    </tr>\n",
              "    <tr>\n",
              "      <th>5506</th>\n",
              "      <td>[0, 0]</td>\n",
              "      <td>1386547200</td>\n",
              "      <td>(0, 3133)\\t1\\n  (0, 3340)\\t1\\n  (0, 4839)\\t1...</td>\n",
              "      <td>(2, 3304)\\t1\\n  (6, 2539)\\t1\\n  (8, 2031)\\t1...</td>\n",
              "      <td>(0, 1827)\\t1\\n  (0, 4191)\\t1\\n  (1, 1209)\\t1...</td>\n",
              "      <td>(0, 5277)\\t1\\n  (2, 720)\\t1\\n  (2, 1475)\\t1\\...</td>\n",
              "      <td>(1, 3021)\\t1\\n  (2, 1154)\\t1\\n  (3, 828)\\t1\\...</td>\n",
              "    </tr>\n",
              "  </tbody>\n",
              "</table>\n",
              "</div>"
            ],
            "text/plain": [
              "       helpful  ...                                               asin\n",
              "245544  [0, 0]  ...    (1, 3021)\\t1\\n  (2, 1154)\\t1\\n  (3, 828)\\t1\\...\n",
              "164470  [0, 0]  ...    (1, 3021)\\t1\\n  (2, 1154)\\t1\\n  (3, 828)\\t1\\...\n",
              "60413   [0, 0]  ...    (1, 3021)\\t1\\n  (2, 1154)\\t1\\n  (3, 828)\\t1\\...\n",
              "42479   [1, 1]  ...    (1, 3021)\\t1\\n  (2, 1154)\\t1\\n  (3, 828)\\t1\\...\n",
              "5506    [0, 0]  ...    (1, 3021)\\t1\\n  (2, 1154)\\t1\\n  (3, 828)\\t1\\...\n",
              "\n",
              "[5 rows x 7 columns]"
            ]
          },
          "metadata": {
            "tags": []
          },
          "execution_count": 42
        }
      ]
    },
    {
      "cell_type": "code",
      "metadata": {
        "id": "f9UdHPVDh8R9",
        "outputId": "beaf1da9-740e-497d-f582-fe0b1f682bd2",
        "colab": {
          "base_uri": "https://localhost:8080/",
          "height": 279
        }
      },
      "source": [
        "X_test.drop(['asin'],axis=1,inplace=True)\n",
        "X_test['asin']=asin_bow_test\n",
        "X_test.head()"
      ],
      "execution_count": null,
      "outputs": [
        {
          "output_type": "execute_result",
          "data": {
            "text/html": [
              "<div>\n",
              "<style scoped>\n",
              "    .dataframe tbody tr th:only-of-type {\n",
              "        vertical-align: middle;\n",
              "    }\n",
              "\n",
              "    .dataframe tbody tr th {\n",
              "        vertical-align: top;\n",
              "    }\n",
              "\n",
              "    .dataframe thead th {\n",
              "        text-align: right;\n",
              "    }\n",
              "</style>\n",
              "<table border=\"1\" class=\"dataframe\">\n",
              "  <thead>\n",
              "    <tr style=\"text-align: right;\">\n",
              "      <th></th>\n",
              "      <th>helpful</th>\n",
              "      <th>unixReviewTime</th>\n",
              "      <th>reviewText</th>\n",
              "      <th>reviewerID</th>\n",
              "      <th>summary</th>\n",
              "      <th>reviewerName</th>\n",
              "      <th>asin</th>\n",
              "    </tr>\n",
              "  </thead>\n",
              "  <tbody>\n",
              "    <tr>\n",
              "      <th>221133</th>\n",
              "      <td>[62, 66]</td>\n",
              "      <td>1319068800</td>\n",
              "      <td>(0, 3133)\\t1\\n  (0, 3340)\\t1\\n  (0, 4839)\\t1...</td>\n",
              "      <td>(0, 2140)\\t1\\n  (5, 1787)\\t1\\n  (8, 833)\\t1\\...</td>\n",
              "      <td>(0, 1827)\\t1\\n  (0, 4191)\\t1\\n  (1, 1209)\\t1...</td>\n",
              "      <td>(0, 1120)\\t1\\n  (2, 2764)\\t1\\n  (3, 751)\\t1\\...</td>\n",
              "      <td>(0, 4086)\\t1\\n  (1, 4840)\\t1\\n  (2, 5039)\\t1...</td>\n",
              "    </tr>\n",
              "    <tr>\n",
              "      <th>263359</th>\n",
              "      <td>[0, 0]</td>\n",
              "      <td>1385596800</td>\n",
              "      <td>(0, 3133)\\t1\\n  (0, 3340)\\t1\\n  (0, 4839)\\t1...</td>\n",
              "      <td>(0, 2140)\\t1\\n  (5, 1787)\\t1\\n  (8, 833)\\t1\\...</td>\n",
              "      <td>(0, 1827)\\t1\\n  (0, 4191)\\t1\\n  (1, 1209)\\t1...</td>\n",
              "      <td>(0, 1120)\\t1\\n  (2, 2764)\\t1\\n  (3, 751)\\t1\\...</td>\n",
              "      <td>(0, 4086)\\t1\\n  (1, 4840)\\t1\\n  (2, 5039)\\t1...</td>\n",
              "    </tr>\n",
              "    <tr>\n",
              "      <th>274556</th>\n",
              "      <td>[11, 11]</td>\n",
              "      <td>1363478400</td>\n",
              "      <td>(0, 3133)\\t1\\n  (0, 3340)\\t1\\n  (0, 4839)\\t1...</td>\n",
              "      <td>(0, 2140)\\t1\\n  (5, 1787)\\t1\\n  (8, 833)\\t1\\...</td>\n",
              "      <td>(0, 1827)\\t1\\n  (0, 4191)\\t1\\n  (1, 1209)\\t1...</td>\n",
              "      <td>(0, 1120)\\t1\\n  (2, 2764)\\t1\\n  (3, 751)\\t1\\...</td>\n",
              "      <td>(0, 4086)\\t1\\n  (1, 4840)\\t1\\n  (2, 5039)\\t1...</td>\n",
              "    </tr>\n",
              "    <tr>\n",
              "      <th>271351</th>\n",
              "      <td>[0, 0]</td>\n",
              "      <td>1375401600</td>\n",
              "      <td>(0, 3133)\\t1\\n  (0, 3340)\\t1\\n  (0, 4839)\\t1...</td>\n",
              "      <td>(0, 2140)\\t1\\n  (5, 1787)\\t1\\n  (8, 833)\\t1\\...</td>\n",
              "      <td>(0, 1827)\\t1\\n  (0, 4191)\\t1\\n  (1, 1209)\\t1...</td>\n",
              "      <td>(0, 1120)\\t1\\n  (2, 2764)\\t1\\n  (3, 751)\\t1\\...</td>\n",
              "      <td>(0, 4086)\\t1\\n  (1, 4840)\\t1\\n  (2, 5039)\\t1...</td>\n",
              "    </tr>\n",
              "    <tr>\n",
              "      <th>45577</th>\n",
              "      <td>[0, 0]</td>\n",
              "      <td>1360108800</td>\n",
              "      <td>(0, 3133)\\t1\\n  (0, 3340)\\t1\\n  (0, 4839)\\t1...</td>\n",
              "      <td>(0, 2140)\\t1\\n  (5, 1787)\\t1\\n  (8, 833)\\t1\\...</td>\n",
              "      <td>(0, 1827)\\t1\\n  (0, 4191)\\t1\\n  (1, 1209)\\t1...</td>\n",
              "      <td>(0, 1120)\\t1\\n  (2, 2764)\\t1\\n  (3, 751)\\t1\\...</td>\n",
              "      <td>(0, 4086)\\t1\\n  (1, 4840)\\t1\\n  (2, 5039)\\t1...</td>\n",
              "    </tr>\n",
              "  </tbody>\n",
              "</table>\n",
              "</div>"
            ],
            "text/plain": [
              "         helpful  ...                                               asin\n",
              "221133  [62, 66]  ...    (0, 4086)\\t1\\n  (1, 4840)\\t1\\n  (2, 5039)\\t1...\n",
              "263359    [0, 0]  ...    (0, 4086)\\t1\\n  (1, 4840)\\t1\\n  (2, 5039)\\t1...\n",
              "274556  [11, 11]  ...    (0, 4086)\\t1\\n  (1, 4840)\\t1\\n  (2, 5039)\\t1...\n",
              "271351    [0, 0]  ...    (0, 4086)\\t1\\n  (1, 4840)\\t1\\n  (2, 5039)\\t1...\n",
              "45577     [0, 0]  ...    (0, 4086)\\t1\\n  (1, 4840)\\t1\\n  (2, 5039)\\t1...\n",
              "\n",
              "[5 rows x 7 columns]"
            ]
          },
          "metadata": {
            "tags": []
          },
          "execution_count": 43
        }
      ]
    },
    {
      "cell_type": "code",
      "metadata": {
        "id": "Fg5d5YufqxCO"
      },
      "source": [
        "from sklearn.preprocessing import Normalizer\n",
        "normalizer = Normalizer()\n",
        "normalizer.fit(X_train['unixReviewTime'].values.reshape(-1,1))\n",
        "\n",
        "X_train_price_norm = normalizer.transform(X_train['unixReviewTime'].values.reshape(-1,1))\n",
        "X_test_price_norm = normalizer.transform(X_test['unixReviewTime'].values.reshape(-1,1))"
      ],
      "execution_count": null,
      "outputs": []
    },
    {
      "cell_type": "code",
      "metadata": {
        "id": "ZD-NTeHxrAow",
        "outputId": "f2bd7ae6-bb03-4410-ca36-a7b4595b59c5",
        "colab": {
          "base_uri": "https://localhost:8080/",
          "height": 279
        }
      },
      "source": [
        "X_test.drop(['unixReviewTime'],axis=1,inplace=True)\n",
        "X_test['unixReviewTime']=X_test_price_norm\n",
        "X_test.head()"
      ],
      "execution_count": null,
      "outputs": [
        {
          "output_type": "execute_result",
          "data": {
            "text/html": [
              "<div>\n",
              "<style scoped>\n",
              "    .dataframe tbody tr th:only-of-type {\n",
              "        vertical-align: middle;\n",
              "    }\n",
              "\n",
              "    .dataframe tbody tr th {\n",
              "        vertical-align: top;\n",
              "    }\n",
              "\n",
              "    .dataframe thead th {\n",
              "        text-align: right;\n",
              "    }\n",
              "</style>\n",
              "<table border=\"1\" class=\"dataframe\">\n",
              "  <thead>\n",
              "    <tr style=\"text-align: right;\">\n",
              "      <th></th>\n",
              "      <th>helpful</th>\n",
              "      <th>reviewText</th>\n",
              "      <th>reviewerID</th>\n",
              "      <th>summary</th>\n",
              "      <th>reviewerName</th>\n",
              "      <th>asin</th>\n",
              "      <th>unixReviewTime</th>\n",
              "    </tr>\n",
              "  </thead>\n",
              "  <tbody>\n",
              "    <tr>\n",
              "      <th>221133</th>\n",
              "      <td>[62, 66]</td>\n",
              "      <td>(0, 3133)\\t1\\n  (0, 3340)\\t1\\n  (0, 4839)\\t1...</td>\n",
              "      <td>(0, 2140)\\t1\\n  (5, 1787)\\t1\\n  (8, 833)\\t1\\...</td>\n",
              "      <td>(0, 1827)\\t1\\n  (0, 4191)\\t1\\n  (1, 1209)\\t1...</td>\n",
              "      <td>(0, 1120)\\t1\\n  (2, 2764)\\t1\\n  (3, 751)\\t1\\...</td>\n",
              "      <td>(0, 4086)\\t1\\n  (1, 4840)\\t1\\n  (2, 5039)\\t1...</td>\n",
              "      <td>1.0</td>\n",
              "    </tr>\n",
              "    <tr>\n",
              "      <th>263359</th>\n",
              "      <td>[0, 0]</td>\n",
              "      <td>(0, 3133)\\t1\\n  (0, 3340)\\t1\\n  (0, 4839)\\t1...</td>\n",
              "      <td>(0, 2140)\\t1\\n  (5, 1787)\\t1\\n  (8, 833)\\t1\\...</td>\n",
              "      <td>(0, 1827)\\t1\\n  (0, 4191)\\t1\\n  (1, 1209)\\t1...</td>\n",
              "      <td>(0, 1120)\\t1\\n  (2, 2764)\\t1\\n  (3, 751)\\t1\\...</td>\n",
              "      <td>(0, 4086)\\t1\\n  (1, 4840)\\t1\\n  (2, 5039)\\t1...</td>\n",
              "      <td>1.0</td>\n",
              "    </tr>\n",
              "    <tr>\n",
              "      <th>274556</th>\n",
              "      <td>[11, 11]</td>\n",
              "      <td>(0, 3133)\\t1\\n  (0, 3340)\\t1\\n  (0, 4839)\\t1...</td>\n",
              "      <td>(0, 2140)\\t1\\n  (5, 1787)\\t1\\n  (8, 833)\\t1\\...</td>\n",
              "      <td>(0, 1827)\\t1\\n  (0, 4191)\\t1\\n  (1, 1209)\\t1...</td>\n",
              "      <td>(0, 1120)\\t1\\n  (2, 2764)\\t1\\n  (3, 751)\\t1\\...</td>\n",
              "      <td>(0, 4086)\\t1\\n  (1, 4840)\\t1\\n  (2, 5039)\\t1...</td>\n",
              "      <td>1.0</td>\n",
              "    </tr>\n",
              "    <tr>\n",
              "      <th>271351</th>\n",
              "      <td>[0, 0]</td>\n",
              "      <td>(0, 3133)\\t1\\n  (0, 3340)\\t1\\n  (0, 4839)\\t1...</td>\n",
              "      <td>(0, 2140)\\t1\\n  (5, 1787)\\t1\\n  (8, 833)\\t1\\...</td>\n",
              "      <td>(0, 1827)\\t1\\n  (0, 4191)\\t1\\n  (1, 1209)\\t1...</td>\n",
              "      <td>(0, 1120)\\t1\\n  (2, 2764)\\t1\\n  (3, 751)\\t1\\...</td>\n",
              "      <td>(0, 4086)\\t1\\n  (1, 4840)\\t1\\n  (2, 5039)\\t1...</td>\n",
              "      <td>1.0</td>\n",
              "    </tr>\n",
              "    <tr>\n",
              "      <th>45577</th>\n",
              "      <td>[0, 0]</td>\n",
              "      <td>(0, 3133)\\t1\\n  (0, 3340)\\t1\\n  (0, 4839)\\t1...</td>\n",
              "      <td>(0, 2140)\\t1\\n  (5, 1787)\\t1\\n  (8, 833)\\t1\\...</td>\n",
              "      <td>(0, 1827)\\t1\\n  (0, 4191)\\t1\\n  (1, 1209)\\t1...</td>\n",
              "      <td>(0, 1120)\\t1\\n  (2, 2764)\\t1\\n  (3, 751)\\t1\\...</td>\n",
              "      <td>(0, 4086)\\t1\\n  (1, 4840)\\t1\\n  (2, 5039)\\t1...</td>\n",
              "      <td>1.0</td>\n",
              "    </tr>\n",
              "  </tbody>\n",
              "</table>\n",
              "</div>"
            ],
            "text/plain": [
              "         helpful  ... unixReviewTime\n",
              "221133  [62, 66]  ...            1.0\n",
              "263359    [0, 0]  ...            1.0\n",
              "274556  [11, 11]  ...            1.0\n",
              "271351    [0, 0]  ...            1.0\n",
              "45577     [0, 0]  ...            1.0\n",
              "\n",
              "[5 rows x 7 columns]"
            ]
          },
          "metadata": {
            "tags": []
          },
          "execution_count": 45
        }
      ]
    },
    {
      "cell_type": "code",
      "metadata": {
        "id": "tJOYO10Hrocw",
        "outputId": "02b89b88-44c2-4488-a754-075406f14f30",
        "colab": {
          "base_uri": "https://localhost:8080/",
          "height": 279
        }
      },
      "source": [
        "X_train.drop(['unixReviewTime'],axis=1,inplace=True)\n",
        "X_train['unixReviewTime']=X_train_price_norm\n",
        "X_train.head()"
      ],
      "execution_count": null,
      "outputs": [
        {
          "output_type": "execute_result",
          "data": {
            "text/html": [
              "<div>\n",
              "<style scoped>\n",
              "    .dataframe tbody tr th:only-of-type {\n",
              "        vertical-align: middle;\n",
              "    }\n",
              "\n",
              "    .dataframe tbody tr th {\n",
              "        vertical-align: top;\n",
              "    }\n",
              "\n",
              "    .dataframe thead th {\n",
              "        text-align: right;\n",
              "    }\n",
              "</style>\n",
              "<table border=\"1\" class=\"dataframe\">\n",
              "  <thead>\n",
              "    <tr style=\"text-align: right;\">\n",
              "      <th></th>\n",
              "      <th>helpful</th>\n",
              "      <th>reviewText</th>\n",
              "      <th>reviewerID</th>\n",
              "      <th>summary</th>\n",
              "      <th>reviewerName</th>\n",
              "      <th>asin</th>\n",
              "      <th>unixReviewTime</th>\n",
              "    </tr>\n",
              "  </thead>\n",
              "  <tbody>\n",
              "    <tr>\n",
              "      <th>245544</th>\n",
              "      <td>[0, 0]</td>\n",
              "      <td>(0, 3133)\\t1\\n  (0, 3340)\\t1\\n  (0, 4839)\\t1...</td>\n",
              "      <td>(2, 3304)\\t1\\n  (6, 2539)\\t1\\n  (8, 2031)\\t1...</td>\n",
              "      <td>(0, 1827)\\t1\\n  (0, 4191)\\t1\\n  (1, 1209)\\t1...</td>\n",
              "      <td>(0, 5277)\\t1\\n  (2, 720)\\t1\\n  (2, 1475)\\t1\\...</td>\n",
              "      <td>(1, 3021)\\t1\\n  (2, 1154)\\t1\\n  (3, 828)\\t1\\...</td>\n",
              "      <td>1.0</td>\n",
              "    </tr>\n",
              "    <tr>\n",
              "      <th>164470</th>\n",
              "      <td>[0, 0]</td>\n",
              "      <td>(0, 3133)\\t1\\n  (0, 3340)\\t1\\n  (0, 4839)\\t1...</td>\n",
              "      <td>(2, 3304)\\t1\\n  (6, 2539)\\t1\\n  (8, 2031)\\t1...</td>\n",
              "      <td>(0, 1827)\\t1\\n  (0, 4191)\\t1\\n  (1, 1209)\\t1...</td>\n",
              "      <td>(0, 5277)\\t1\\n  (2, 720)\\t1\\n  (2, 1475)\\t1\\...</td>\n",
              "      <td>(1, 3021)\\t1\\n  (2, 1154)\\t1\\n  (3, 828)\\t1\\...</td>\n",
              "      <td>1.0</td>\n",
              "    </tr>\n",
              "    <tr>\n",
              "      <th>60413</th>\n",
              "      <td>[0, 0]</td>\n",
              "      <td>(0, 3133)\\t1\\n  (0, 3340)\\t1\\n  (0, 4839)\\t1...</td>\n",
              "      <td>(2, 3304)\\t1\\n  (6, 2539)\\t1\\n  (8, 2031)\\t1...</td>\n",
              "      <td>(0, 1827)\\t1\\n  (0, 4191)\\t1\\n  (1, 1209)\\t1...</td>\n",
              "      <td>(0, 5277)\\t1\\n  (2, 720)\\t1\\n  (2, 1475)\\t1\\...</td>\n",
              "      <td>(1, 3021)\\t1\\n  (2, 1154)\\t1\\n  (3, 828)\\t1\\...</td>\n",
              "      <td>1.0</td>\n",
              "    </tr>\n",
              "    <tr>\n",
              "      <th>42479</th>\n",
              "      <td>[1, 1]</td>\n",
              "      <td>(0, 3133)\\t1\\n  (0, 3340)\\t1\\n  (0, 4839)\\t1...</td>\n",
              "      <td>(2, 3304)\\t1\\n  (6, 2539)\\t1\\n  (8, 2031)\\t1...</td>\n",
              "      <td>(0, 1827)\\t1\\n  (0, 4191)\\t1\\n  (1, 1209)\\t1...</td>\n",
              "      <td>(0, 5277)\\t1\\n  (2, 720)\\t1\\n  (2, 1475)\\t1\\...</td>\n",
              "      <td>(1, 3021)\\t1\\n  (2, 1154)\\t1\\n  (3, 828)\\t1\\...</td>\n",
              "      <td>1.0</td>\n",
              "    </tr>\n",
              "    <tr>\n",
              "      <th>5506</th>\n",
              "      <td>[0, 0]</td>\n",
              "      <td>(0, 3133)\\t1\\n  (0, 3340)\\t1\\n  (0, 4839)\\t1...</td>\n",
              "      <td>(2, 3304)\\t1\\n  (6, 2539)\\t1\\n  (8, 2031)\\t1...</td>\n",
              "      <td>(0, 1827)\\t1\\n  (0, 4191)\\t1\\n  (1, 1209)\\t1...</td>\n",
              "      <td>(0, 5277)\\t1\\n  (2, 720)\\t1\\n  (2, 1475)\\t1\\...</td>\n",
              "      <td>(1, 3021)\\t1\\n  (2, 1154)\\t1\\n  (3, 828)\\t1\\...</td>\n",
              "      <td>1.0</td>\n",
              "    </tr>\n",
              "  </tbody>\n",
              "</table>\n",
              "</div>"
            ],
            "text/plain": [
              "       helpful  ... unixReviewTime\n",
              "245544  [0, 0]  ...            1.0\n",
              "164470  [0, 0]  ...            1.0\n",
              "60413   [0, 0]  ...            1.0\n",
              "42479   [1, 1]  ...            1.0\n",
              "5506    [0, 0]  ...            1.0\n",
              "\n",
              "[5 rows x 7 columns]"
            ]
          },
          "metadata": {
            "tags": []
          },
          "execution_count": 46
        }
      ]
    },
    {
      "cell_type": "code",
      "metadata": {
        "id": "8YaFCjEVr32T"
      },
      "source": [
        "X_train.drop(['helpful'],axis=1,inplace=True)"
      ],
      "execution_count": null,
      "outputs": []
    },
    {
      "cell_type": "code",
      "metadata": {
        "id": "J2kumo55sT8D"
      },
      "source": [
        "X_test.drop(['helpful'],axis=1,inplace=True)"
      ],
      "execution_count": null,
      "outputs": []
    },
    {
      "cell_type": "code",
      "metadata": {
        "id": "f_Q0aKtmsXlo",
        "outputId": "54066b4f-e5b9-4ed2-a102-c8e86185a6df",
        "colab": {
          "base_uri": "https://localhost:8080/",
          "height": 279
        }
      },
      "source": [
        "X_train.head()"
      ],
      "execution_count": null,
      "outputs": [
        {
          "output_type": "execute_result",
          "data": {
            "text/html": [
              "<div>\n",
              "<style scoped>\n",
              "    .dataframe tbody tr th:only-of-type {\n",
              "        vertical-align: middle;\n",
              "    }\n",
              "\n",
              "    .dataframe tbody tr th {\n",
              "        vertical-align: top;\n",
              "    }\n",
              "\n",
              "    .dataframe thead th {\n",
              "        text-align: right;\n",
              "    }\n",
              "</style>\n",
              "<table border=\"1\" class=\"dataframe\">\n",
              "  <thead>\n",
              "    <tr style=\"text-align: right;\">\n",
              "      <th></th>\n",
              "      <th>reviewText</th>\n",
              "      <th>reviewerID</th>\n",
              "      <th>summary</th>\n",
              "      <th>reviewerName</th>\n",
              "      <th>asin</th>\n",
              "      <th>unixReviewTime</th>\n",
              "    </tr>\n",
              "  </thead>\n",
              "  <tbody>\n",
              "    <tr>\n",
              "      <th>245544</th>\n",
              "      <td>(0, 3133)\\t1\\n  (0, 3340)\\t1\\n  (0, 4839)\\t1...</td>\n",
              "      <td>(2, 3304)\\t1\\n  (6, 2539)\\t1\\n  (8, 2031)\\t1...</td>\n",
              "      <td>(0, 1827)\\t1\\n  (0, 4191)\\t1\\n  (1, 1209)\\t1...</td>\n",
              "      <td>(0, 5277)\\t1\\n  (2, 720)\\t1\\n  (2, 1475)\\t1\\...</td>\n",
              "      <td>(1, 3021)\\t1\\n  (2, 1154)\\t1\\n  (3, 828)\\t1\\...</td>\n",
              "      <td>1.0</td>\n",
              "    </tr>\n",
              "    <tr>\n",
              "      <th>164470</th>\n",
              "      <td>(0, 3133)\\t1\\n  (0, 3340)\\t1\\n  (0, 4839)\\t1...</td>\n",
              "      <td>(2, 3304)\\t1\\n  (6, 2539)\\t1\\n  (8, 2031)\\t1...</td>\n",
              "      <td>(0, 1827)\\t1\\n  (0, 4191)\\t1\\n  (1, 1209)\\t1...</td>\n",
              "      <td>(0, 5277)\\t1\\n  (2, 720)\\t1\\n  (2, 1475)\\t1\\...</td>\n",
              "      <td>(1, 3021)\\t1\\n  (2, 1154)\\t1\\n  (3, 828)\\t1\\...</td>\n",
              "      <td>1.0</td>\n",
              "    </tr>\n",
              "    <tr>\n",
              "      <th>60413</th>\n",
              "      <td>(0, 3133)\\t1\\n  (0, 3340)\\t1\\n  (0, 4839)\\t1...</td>\n",
              "      <td>(2, 3304)\\t1\\n  (6, 2539)\\t1\\n  (8, 2031)\\t1...</td>\n",
              "      <td>(0, 1827)\\t1\\n  (0, 4191)\\t1\\n  (1, 1209)\\t1...</td>\n",
              "      <td>(0, 5277)\\t1\\n  (2, 720)\\t1\\n  (2, 1475)\\t1\\...</td>\n",
              "      <td>(1, 3021)\\t1\\n  (2, 1154)\\t1\\n  (3, 828)\\t1\\...</td>\n",
              "      <td>1.0</td>\n",
              "    </tr>\n",
              "    <tr>\n",
              "      <th>42479</th>\n",
              "      <td>(0, 3133)\\t1\\n  (0, 3340)\\t1\\n  (0, 4839)\\t1...</td>\n",
              "      <td>(2, 3304)\\t1\\n  (6, 2539)\\t1\\n  (8, 2031)\\t1...</td>\n",
              "      <td>(0, 1827)\\t1\\n  (0, 4191)\\t1\\n  (1, 1209)\\t1...</td>\n",
              "      <td>(0, 5277)\\t1\\n  (2, 720)\\t1\\n  (2, 1475)\\t1\\...</td>\n",
              "      <td>(1, 3021)\\t1\\n  (2, 1154)\\t1\\n  (3, 828)\\t1\\...</td>\n",
              "      <td>1.0</td>\n",
              "    </tr>\n",
              "    <tr>\n",
              "      <th>5506</th>\n",
              "      <td>(0, 3133)\\t1\\n  (0, 3340)\\t1\\n  (0, 4839)\\t1...</td>\n",
              "      <td>(2, 3304)\\t1\\n  (6, 2539)\\t1\\n  (8, 2031)\\t1...</td>\n",
              "      <td>(0, 1827)\\t1\\n  (0, 4191)\\t1\\n  (1, 1209)\\t1...</td>\n",
              "      <td>(0, 5277)\\t1\\n  (2, 720)\\t1\\n  (2, 1475)\\t1\\...</td>\n",
              "      <td>(1, 3021)\\t1\\n  (2, 1154)\\t1\\n  (3, 828)\\t1\\...</td>\n",
              "      <td>1.0</td>\n",
              "    </tr>\n",
              "  </tbody>\n",
              "</table>\n",
              "</div>"
            ],
            "text/plain": [
              "                                               reviewText  ... unixReviewTime\n",
              "245544    (0, 3133)\\t1\\n  (0, 3340)\\t1\\n  (0, 4839)\\t1...  ...            1.0\n",
              "164470    (0, 3133)\\t1\\n  (0, 3340)\\t1\\n  (0, 4839)\\t1...  ...            1.0\n",
              "60413     (0, 3133)\\t1\\n  (0, 3340)\\t1\\n  (0, 4839)\\t1...  ...            1.0\n",
              "42479     (0, 3133)\\t1\\n  (0, 3340)\\t1\\n  (0, 4839)\\t1...  ...            1.0\n",
              "5506      (0, 3133)\\t1\\n  (0, 3340)\\t1\\n  (0, 4839)\\t1...  ...            1.0\n",
              "\n",
              "[5 rows x 6 columns]"
            ]
          },
          "metadata": {
            "tags": []
          },
          "execution_count": 49
        }
      ]
    },
    {
      "cell_type": "code",
      "metadata": {
        "id": "HAAUl2k9scyz",
        "outputId": "d9f18470-32b2-4c60-b4c4-707c8491e224",
        "colab": {
          "base_uri": "https://localhost:8080/",
          "height": 279
        }
      },
      "source": [
        "X_test.head()"
      ],
      "execution_count": null,
      "outputs": [
        {
          "output_type": "execute_result",
          "data": {
            "text/html": [
              "<div>\n",
              "<style scoped>\n",
              "    .dataframe tbody tr th:only-of-type {\n",
              "        vertical-align: middle;\n",
              "    }\n",
              "\n",
              "    .dataframe tbody tr th {\n",
              "        vertical-align: top;\n",
              "    }\n",
              "\n",
              "    .dataframe thead th {\n",
              "        text-align: right;\n",
              "    }\n",
              "</style>\n",
              "<table border=\"1\" class=\"dataframe\">\n",
              "  <thead>\n",
              "    <tr style=\"text-align: right;\">\n",
              "      <th></th>\n",
              "      <th>reviewText</th>\n",
              "      <th>reviewerID</th>\n",
              "      <th>summary</th>\n",
              "      <th>reviewerName</th>\n",
              "      <th>asin</th>\n",
              "      <th>unixReviewTime</th>\n",
              "    </tr>\n",
              "  </thead>\n",
              "  <tbody>\n",
              "    <tr>\n",
              "      <th>221133</th>\n",
              "      <td>(0, 3133)\\t1\\n  (0, 3340)\\t1\\n  (0, 4839)\\t1...</td>\n",
              "      <td>(0, 2140)\\t1\\n  (5, 1787)\\t1\\n  (8, 833)\\t1\\...</td>\n",
              "      <td>(0, 1827)\\t1\\n  (0, 4191)\\t1\\n  (1, 1209)\\t1...</td>\n",
              "      <td>(0, 1120)\\t1\\n  (2, 2764)\\t1\\n  (3, 751)\\t1\\...</td>\n",
              "      <td>(0, 4086)\\t1\\n  (1, 4840)\\t1\\n  (2, 5039)\\t1...</td>\n",
              "      <td>1.0</td>\n",
              "    </tr>\n",
              "    <tr>\n",
              "      <th>263359</th>\n",
              "      <td>(0, 3133)\\t1\\n  (0, 3340)\\t1\\n  (0, 4839)\\t1...</td>\n",
              "      <td>(0, 2140)\\t1\\n  (5, 1787)\\t1\\n  (8, 833)\\t1\\...</td>\n",
              "      <td>(0, 1827)\\t1\\n  (0, 4191)\\t1\\n  (1, 1209)\\t1...</td>\n",
              "      <td>(0, 1120)\\t1\\n  (2, 2764)\\t1\\n  (3, 751)\\t1\\...</td>\n",
              "      <td>(0, 4086)\\t1\\n  (1, 4840)\\t1\\n  (2, 5039)\\t1...</td>\n",
              "      <td>1.0</td>\n",
              "    </tr>\n",
              "    <tr>\n",
              "      <th>274556</th>\n",
              "      <td>(0, 3133)\\t1\\n  (0, 3340)\\t1\\n  (0, 4839)\\t1...</td>\n",
              "      <td>(0, 2140)\\t1\\n  (5, 1787)\\t1\\n  (8, 833)\\t1\\...</td>\n",
              "      <td>(0, 1827)\\t1\\n  (0, 4191)\\t1\\n  (1, 1209)\\t1...</td>\n",
              "      <td>(0, 1120)\\t1\\n  (2, 2764)\\t1\\n  (3, 751)\\t1\\...</td>\n",
              "      <td>(0, 4086)\\t1\\n  (1, 4840)\\t1\\n  (2, 5039)\\t1...</td>\n",
              "      <td>1.0</td>\n",
              "    </tr>\n",
              "    <tr>\n",
              "      <th>271351</th>\n",
              "      <td>(0, 3133)\\t1\\n  (0, 3340)\\t1\\n  (0, 4839)\\t1...</td>\n",
              "      <td>(0, 2140)\\t1\\n  (5, 1787)\\t1\\n  (8, 833)\\t1\\...</td>\n",
              "      <td>(0, 1827)\\t1\\n  (0, 4191)\\t1\\n  (1, 1209)\\t1...</td>\n",
              "      <td>(0, 1120)\\t1\\n  (2, 2764)\\t1\\n  (3, 751)\\t1\\...</td>\n",
              "      <td>(0, 4086)\\t1\\n  (1, 4840)\\t1\\n  (2, 5039)\\t1...</td>\n",
              "      <td>1.0</td>\n",
              "    </tr>\n",
              "    <tr>\n",
              "      <th>45577</th>\n",
              "      <td>(0, 3133)\\t1\\n  (0, 3340)\\t1\\n  (0, 4839)\\t1...</td>\n",
              "      <td>(0, 2140)\\t1\\n  (5, 1787)\\t1\\n  (8, 833)\\t1\\...</td>\n",
              "      <td>(0, 1827)\\t1\\n  (0, 4191)\\t1\\n  (1, 1209)\\t1...</td>\n",
              "      <td>(0, 1120)\\t1\\n  (2, 2764)\\t1\\n  (3, 751)\\t1\\...</td>\n",
              "      <td>(0, 4086)\\t1\\n  (1, 4840)\\t1\\n  (2, 5039)\\t1...</td>\n",
              "      <td>1.0</td>\n",
              "    </tr>\n",
              "  </tbody>\n",
              "</table>\n",
              "</div>"
            ],
            "text/plain": [
              "                                               reviewText  ... unixReviewTime\n",
              "221133    (0, 3133)\\t1\\n  (0, 3340)\\t1\\n  (0, 4839)\\t1...  ...            1.0\n",
              "263359    (0, 3133)\\t1\\n  (0, 3340)\\t1\\n  (0, 4839)\\t1...  ...            1.0\n",
              "274556    (0, 3133)\\t1\\n  (0, 3340)\\t1\\n  (0, 4839)\\t1...  ...            1.0\n",
              "271351    (0, 3133)\\t1\\n  (0, 3340)\\t1\\n  (0, 4839)\\t1...  ...            1.0\n",
              "45577     (0, 3133)\\t1\\n  (0, 3340)\\t1\\n  (0, 4839)\\t1...  ...            1.0\n",
              "\n",
              "[5 rows x 6 columns]"
            ]
          },
          "metadata": {
            "tags": []
          },
          "execution_count": 50
        }
      ]
    },
    {
      "cell_type": "code",
      "metadata": {
        "id": "r7i97uH2h8U4",
        "outputId": "d8a39e45-b881-4486-ad3d-c199a1230254",
        "colab": {
          "base_uri": "https://localhost:8080/",
          "height": 84
        }
      },
      "source": [
        "from scipy.sparse import hstack\n",
        "\n",
        "# Train data stack\n",
        "X_tr = hstack((reviewText_bow_train,reviewerID_bow_train,summary_bow_train,reviewerName_bow_train,asin_bow_train,X_train_price_norm)).tocsr()\n",
        "\n",
        "\n",
        "# Test Data Stack\n",
        "X_te = hstack((reviewText_bow_test,reviewerID_bow_test,summary_bow_test,reviewerName_bow_test,asin_bow_test,X_test_price_norm)).tocsr()\n",
        "\n",
        "print(\"Final Data matrix\")\n",
        "print(X_tr.shape, y_train.shape)\n",
        "\n",
        "print(X_te.shape, y_test.shape)\n",
        "print(\"=\"*100)"
      ],
      "execution_count": null,
      "outputs": [
        {
          "output_type": "stream",
          "text": [
            "Final Data matrix\n",
            "(198545, 32235) (198545,)\n",
            "(97792, 32235) (97792,)\n",
            "====================================================================================================\n"
          ],
          "name": "stdout"
        }
      ]
    },
    {
      "cell_type": "code",
      "metadata": {
        "id": "qJheRt07h8YF"
      },
      "source": [
        "from sklearn.naive_bayes import MultinomialNB\n",
        "clf = MultinomialNB()\n",
        "clf.fit(X_tr,y_train)\n",
        "pred = clf.predict(X_te)"
      ],
      "execution_count": null,
      "outputs": []
    },
    {
      "cell_type": "code",
      "metadata": {
        "id": "Tr8W61Lwh8NA",
        "outputId": "ba3e4b35-f60d-4b33-9b70-be271ad137d2",
        "colab": {
          "base_uri": "https://localhost:8080/",
          "height": 34
        }
      },
      "source": [
        "from sklearn.metrics import accuracy_score\n",
        "accuracy_score(pred,y_test)"
      ],
      "execution_count": null,
      "outputs": [
        {
          "output_type": "execute_result",
          "data": {
            "text/plain": [
              "0.5616819371727748"
            ]
          },
          "metadata": {
            "tags": []
          },
          "execution_count": 53
        }
      ]
    },
    {
      "cell_type": "code",
      "metadata": {
        "id": "TU7UgAdYh8FS",
        "outputId": "1b8852b6-c1b4-42a5-9e65-559bdc47ad76",
        "colab": {
          "base_uri": "https://localhost:8080/",
          "height": 101
        }
      },
      "source": [
        "from sklearn.metrics import confusion_matrix\n",
        "confusion_matrix(y_test, pred)"
      ],
      "execution_count": null,
      "outputs": [
        {
          "output_type": "execute_result",
          "data": {
            "text/plain": [
              "array([[  467,   212,   408,   571,  1327],\n",
              "       [  278,   225,   609,   762,  1493],\n",
              "       [  376,   295,  1518,  2216,  3539],\n",
              "       [  679,   402,  1693,  5991, 12622],\n",
              "       [ 1835,  1011,  2422, 10114, 46727]])"
            ]
          },
          "metadata": {
            "tags": []
          },
          "execution_count": 54
        }
      ]
    },
    {
      "cell_type": "code",
      "metadata": {
        "id": "daGzOhPZEhiE",
        "outputId": "f485bcf3-eaa2-4209-b20b-d751ca6d007d",
        "colab": {
          "base_uri": "https://localhost:8080/",
          "height": 34
        }
      },
      "source": [
        "#precision, recall ad F1 Score \n",
        "from sklearn.metrics import precision_recall_fscore_support\n",
        "precision_recall_fscore_support(y_test, pred, average='weighted')"
      ],
      "execution_count": null,
      "outputs": [
        {
          "output_type": "execute_result",
          "data": {
            "text/plain": [
              "(0.5443896723436595, 0.5616819371727748, 0.5522321657087909, None)"
            ]
          },
          "metadata": {
            "tags": []
          },
          "execution_count": 55
        }
      ]
    }
  ]
}