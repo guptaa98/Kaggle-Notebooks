{
  "nbformat": 4,
  "nbformat_minor": 0,
  "metadata": {
    "colab": {
      "name": "Home.LLC Task.ipynb",
      "provenance": [],
      "collapsed_sections": [],
      "authorship_tag": "ABX9TyOV5/MGie9tfrGNM6lBGtWo",
      "include_colab_link": true
    },
    "kernelspec": {
      "name": "python3",
      "display_name": "Python 3"
    },
    "language_info": {
      "name": "python"
    }
  },
  "cells": [
    {
      "cell_type": "markdown",
      "metadata": {
        "id": "view-in-github",
        "colab_type": "text"
      },
      "source": [
        "<a href=\"https://colab.research.google.com/github/guptaa98/Kaggle-Notebooks/blob/master/Home_LLC_Task.ipynb\" target=\"_parent\"><img src=\"https://colab.research.google.com/assets/colab-badge.svg\" alt=\"Open In Colab\"/></a>"
      ]
    },
    {
      "cell_type": "markdown",
      "metadata": {
        "id": "HXEOjQ5hNCY4"
      },
      "source": [
        "# **Predict House Prices in US**\n"
      ]
    },
    {
      "cell_type": "markdown",
      "metadata": {
        "id": "TAkMKaUXPT6i"
      },
      "source": [
        "## 1. Business Problem \n",
        "\n",
        "\n"
      ]
    },
    {
      "cell_type": "markdown",
      "metadata": {
        "id": "LFjfxWHbRTza"
      },
      "source": [
        "### Description\n",
        "Prediction of property prices is becoming increasingly important and beneficial. Property prices are a good indicator of both the overall market condition and the economic health of a country.\n",
        "Out of all the factors,the two factors which will determine the house market would be Supply and Demand.\n",
        "\n",
        "Problem_Statement\n",
        "*   Given the dataset, predict the prices of house in US.\n",
        "*   Determine how factors related to supply and demand affect the price of house\n",
        "\n"
      ]
    },
    {
      "cell_type": "markdown",
      "metadata": {
        "id": "z4iczy6De8AZ"
      },
      "source": [
        "## Real World/Business Objectives and constraints\n",
        "### Objectives\n",
        "* Predict the price of the houses in US\n",
        "* Observe how every feature affects the price.\n",
        "* Minimise the RMSE/MSE score.\n",
        "\n",
        "### Constraints\n",
        "* Interpretability is important\n"
      ]
    },
    {
      "cell_type": "markdown",
      "metadata": {
        "id": "e52lsAaUj7Xg"
      },
      "source": [
        "## 2. Machine Learning Problem"
      ]
    },
    {
      "cell_type": "markdown",
      "metadata": {
        "id": "VsMyRuzWkHrw"
      },
      "source": [
        "### 2.1 Data"
      ]
    },
    {
      "cell_type": "markdown",
      "metadata": {
        "id": "QTS9XeOelGBy"
      },
      "source": [
        "#### 2.1.1 Data Overview\n",
        "* Data will be a file named as house_price.csv.\n",
        "* Number of features = 7\n",
        "* Number of records = 241"
      ]
    },
    {
      "cell_type": "markdown",
      "metadata": {
        "id": "bq1E66wkmDMv"
      },
      "source": [
        "#### 2.1.2 Features's Description\n",
        "* BUILDING PERMITS - No of premissions granted for new construction of houses.\n",
        "* RENT - Rent a person has to pay for the existing house.\n",
        "* MORTGAGE RATE (%) - The rate of interest a person has to pay on house loans.\n",
        "* FORECLOSURE - No of houses siezed by banks when borrower fails to  back loan. \n",
        "* NET MIGRATION RATE -  difference between the no. of immigrants and emigrants \n",
        "* HCAI - represents index for the ease of getting a house loan.\n",
        "* PRICE - Target. Price of house in US.\n",
        "\n",
        "**The above features are those features which will affect the supply and demand of house in any area, and the supply and demand affects the price of house.**\n",
        "\n",
        "**Subfeatures of Supply** - BUILDING PERMITS, RENT, FORECLOSURE, NET MIGRATION RATE(emmigration).\n",
        "\n",
        "**Subfeatures of Demand** - MORTGAGE RATE (%), HCAI, NET MIGRATION RATE(immigration)"
      ]
    },
    {
      "cell_type": "markdown",
      "metadata": {
        "id": "sQ2YLAoZrGe4"
      },
      "source": [
        "## 2.2 Mapping the real world problem to a Machine Learning Problem"
      ]
    },
    {
      "cell_type": "markdown",
      "metadata": {
        "id": "33Toa_-zrGoa"
      },
      "source": [
        "### 2.2.1 Type of Machine Learning Problem\n",
        "The problem involves predicting the house prices which are continuous and real valued. Hence this is the Regression problem."
      ]
    },
    {
      "cell_type": "markdown",
      "metadata": {
        "id": "iR5_UTGrrGtw"
      },
      "source": [
        "### 2.2.2 Performance Metric\n",
        "* Root Mean Squared Error(RMSE)"
      ]
    },
    {
      "cell_type": "markdown",
      "metadata": {
        "id": "eP5n2NCTrGyj"
      },
      "source": [
        "## 2.3 Train and Test data Construction\n",
        "We'll built train and test data by randomly splitting the data into 70:30 ratio."
      ]
    },
    {
      "cell_type": "code",
      "metadata": {
        "colab": {
          "base_uri": "https://localhost:8080/"
        },
        "id": "bMHAd4q9txcF",
        "outputId": "2a35ccfd-d5aa-4ef6-8457-84d703e36553"
      },
      "source": [
        "from google.colab import drive, files\n",
        "drive.mount('/content/drive/')"
      ],
      "execution_count": null,
      "outputs": [
        {
          "output_type": "stream",
          "name": "stdout",
          "text": [
            "Mounted at /content/drive/\n"
          ]
        }
      ]
    },
    {
      "cell_type": "code",
      "metadata": {
        "id": "OKogxMp1uspm"
      },
      "source": [
        "import pandas as pd\n",
        "import numpy as np\n",
        "import matplotlib.pyplot as plt\n",
        "import seaborn as sns\n",
        "import warnings\n",
        "warnings.filterwarnings(\"ignore\")"
      ],
      "execution_count": null,
      "outputs": []
    },
    {
      "cell_type": "code",
      "metadata": {
        "id": "lKfUtGW6vcMW"
      },
      "source": [
        "df = pd.read_csv('/content/drive/MyDrive/Home.LLC /house_price.csv')"
      ],
      "execution_count": null,
      "outputs": []
    },
    {
      "cell_type": "markdown",
      "metadata": {
        "id": "YUr_lfVFTAbK"
      },
      "source": [
        "# 3. Exploratory Data Analysis"
      ]
    },
    {
      "cell_type": "markdown",
      "metadata": {
        "id": "VRo2KpWtWBM_"
      },
      "source": [
        "### 3.1 Reading data and basic stats"
      ]
    },
    {
      "cell_type": "code",
      "metadata": {
        "colab": {
          "base_uri": "https://localhost:8080/",
          "height": 203
        },
        "id": "QoH4K73hvp64",
        "outputId": "469b5625-3e3c-4e7a-9999-57afbe184f70"
      },
      "source": [
        "df.head()"
      ],
      "execution_count": null,
      "outputs": [
        {
          "output_type": "execute_result",
          "data": {
            "text/html": [
              "<div>\n",
              "<style scoped>\n",
              "    .dataframe tbody tr th:only-of-type {\n",
              "        vertical-align: middle;\n",
              "    }\n",
              "\n",
              "    .dataframe tbody tr th {\n",
              "        vertical-align: top;\n",
              "    }\n",
              "\n",
              "    .dataframe thead th {\n",
              "        text-align: right;\n",
              "    }\n",
              "</style>\n",
              "<table border=\"1\" class=\"dataframe\">\n",
              "  <thead>\n",
              "    <tr style=\"text-align: right;\">\n",
              "      <th></th>\n",
              "      <th>BUILDING PERMITS</th>\n",
              "      <th>RENT</th>\n",
              "      <th>MORTGAGE RATE (%)</th>\n",
              "      <th>FORECLOSURE</th>\n",
              "      <th>NET MIGRATION RATE</th>\n",
              "      <th>PRICE</th>\n",
              "      <th>HCAI</th>\n",
              "    </tr>\n",
              "  </thead>\n",
              "  <tbody>\n",
              "    <tr>\n",
              "      <th>0</th>\n",
              "      <td>1699</td>\n",
              "      <td>188.2</td>\n",
              "      <td>7.03</td>\n",
              "      <td>2.34</td>\n",
              "      <td>4.812</td>\n",
              "      <td>109.846</td>\n",
              "      <td>16.253</td>\n",
              "    </tr>\n",
              "    <tr>\n",
              "      <th>1</th>\n",
              "      <td>1656</td>\n",
              "      <td>188.9</td>\n",
              "      <td>7.05</td>\n",
              "      <td>NaN</td>\n",
              "      <td>NaN</td>\n",
              "      <td>110.501</td>\n",
              "      <td>16.253</td>\n",
              "    </tr>\n",
              "    <tr>\n",
              "      <th>2</th>\n",
              "      <td>1659</td>\n",
              "      <td>189.6</td>\n",
              "      <td>6.95</td>\n",
              "      <td>NaN</td>\n",
              "      <td>NaN</td>\n",
              "      <td>111.108</td>\n",
              "      <td>16.253</td>\n",
              "    </tr>\n",
              "    <tr>\n",
              "      <th>3</th>\n",
              "      <td>1666</td>\n",
              "      <td>190.2</td>\n",
              "      <td>7.08</td>\n",
              "      <td>2.41</td>\n",
              "      <td>NaN</td>\n",
              "      <td>111.650</td>\n",
              "      <td>15.664</td>\n",
              "    </tr>\n",
              "    <tr>\n",
              "      <th>4</th>\n",
              "      <td>1665</td>\n",
              "      <td>191.0</td>\n",
              "      <td>7.15</td>\n",
              "      <td>NaN</td>\n",
              "      <td>NaN</td>\n",
              "      <td>112.162</td>\n",
              "      <td>15.664</td>\n",
              "    </tr>\n",
              "  </tbody>\n",
              "</table>\n",
              "</div>"
            ],
            "text/plain": [
              "   BUILDING PERMITS   RENT  ...    PRICE   HCAI \n",
              "0              1699  188.2  ...  109.846  16.253\n",
              "1              1656  188.9  ...  110.501  16.253\n",
              "2              1659  189.6  ...  111.108  16.253\n",
              "3              1666  190.2  ...  111.650  15.664\n",
              "4              1665  191.0  ...  112.162  15.664\n",
              "\n",
              "[5 rows x 7 columns]"
            ]
          },
          "metadata": {},
          "execution_count": 4
        }
      ]
    },
    {
      "cell_type": "code",
      "metadata": {
        "colab": {
          "base_uri": "https://localhost:8080/"
        },
        "id": "-Pse7qnvVr5_",
        "outputId": "bfe3265e-45c4-4bc0-86c0-ad2eb636243a"
      },
      "source": [
        "df.shape"
      ],
      "execution_count": null,
      "outputs": [
        {
          "output_type": "execute_result",
          "data": {
            "text/plain": [
              "(241, 7)"
            ]
          },
          "metadata": {},
          "execution_count": 5
        }
      ]
    },
    {
      "cell_type": "code",
      "metadata": {
        "colab": {
          "base_uri": "https://localhost:8080/"
        },
        "id": "EEjWuU1FV46U",
        "outputId": "d8a1914f-fdd0-4cb3-b0c5-03e2064badd2"
      },
      "source": [
        "df.info()"
      ],
      "execution_count": null,
      "outputs": [
        {
          "output_type": "stream",
          "name": "stdout",
          "text": [
            "<class 'pandas.core.frame.DataFrame'>\n",
            "RangeIndex: 241 entries, 0 to 240\n",
            "Data columns (total 7 columns):\n",
            " #   Column              Non-Null Count  Dtype  \n",
            "---  ------              --------------  -----  \n",
            " 0   BUILDING PERMITS    241 non-null    int64  \n",
            " 1   RENT                241 non-null    float64\n",
            " 2   MORTGAGE RATE (%)   241 non-null    float64\n",
            " 3   FORECLOSURE         81 non-null     float64\n",
            " 4   NET MIGRATION RATE  21 non-null     float64\n",
            " 5   PRICE               241 non-null    float64\n",
            " 6   HCAI                241 non-null    float64\n",
            "dtypes: float64(6), int64(1)\n",
            "memory usage: 13.3 KB\n"
          ]
        }
      ]
    },
    {
      "cell_type": "code",
      "metadata": {
        "colab": {
          "base_uri": "https://localhost:8080/",
          "height": 295
        },
        "id": "DoG-bICJV6k3",
        "outputId": "be12170b-3c3f-457a-99b6-9a7837e45aac"
      },
      "source": [
        "df.describe()"
      ],
      "execution_count": null,
      "outputs": [
        {
          "output_type": "execute_result",
          "data": {
            "text/html": [
              "<div>\n",
              "<style scoped>\n",
              "    .dataframe tbody tr th:only-of-type {\n",
              "        vertical-align: middle;\n",
              "    }\n",
              "\n",
              "    .dataframe tbody tr th {\n",
              "        vertical-align: top;\n",
              "    }\n",
              "\n",
              "    .dataframe thead th {\n",
              "        text-align: right;\n",
              "    }\n",
              "</style>\n",
              "<table border=\"1\" class=\"dataframe\">\n",
              "  <thead>\n",
              "    <tr style=\"text-align: right;\">\n",
              "      <th></th>\n",
              "      <th>BUILDING PERMITS</th>\n",
              "      <th>RENT</th>\n",
              "      <th>MORTGAGE RATE (%)</th>\n",
              "      <th>FORECLOSURE</th>\n",
              "      <th>NET MIGRATION RATE</th>\n",
              "      <th>PRICE</th>\n",
              "      <th>HCAI</th>\n",
              "    </tr>\n",
              "  </thead>\n",
              "  <tbody>\n",
              "    <tr>\n",
              "      <th>count</th>\n",
              "      <td>241.000000</td>\n",
              "      <td>241.000000</td>\n",
              "      <td>241.000000</td>\n",
              "      <td>81.000000</td>\n",
              "      <td>21.000000</td>\n",
              "      <td>241.000000</td>\n",
              "      <td>241.000000</td>\n",
              "    </tr>\n",
              "    <tr>\n",
              "      <th>mean</th>\n",
              "      <td>1310.481328</td>\n",
              "      <td>258.742004</td>\n",
              "      <td>4.936266</td>\n",
              "      <td>4.852469</td>\n",
              "      <td>3.393095</td>\n",
              "      <td>164.826295</td>\n",
              "      <td>8.462158</td>\n",
              "    </tr>\n",
              "    <tr>\n",
              "      <th>std</th>\n",
              "      <td>477.733050</td>\n",
              "      <td>43.829417</td>\n",
              "      <td>1.180857</td>\n",
              "      <td>3.303596</td>\n",
              "      <td>0.492107</td>\n",
              "      <td>28.920459</td>\n",
              "      <td>7.034701</td>\n",
              "    </tr>\n",
              "    <tr>\n",
              "      <th>min</th>\n",
              "      <td>513.000000</td>\n",
              "      <td>188.200000</td>\n",
              "      <td>2.680000</td>\n",
              "      <td>1.410000</td>\n",
              "      <td>2.820000</td>\n",
              "      <td>109.846000</td>\n",
              "      <td>2.293000</td>\n",
              "    </tr>\n",
              "    <tr>\n",
              "      <th>25%</th>\n",
              "      <td>980.000000</td>\n",
              "      <td>220.900000</td>\n",
              "      <td>3.920000</td>\n",
              "      <td>2.180000</td>\n",
              "      <td>3.018000</td>\n",
              "      <td>142.911000</td>\n",
              "      <td>2.597000</td>\n",
              "    </tr>\n",
              "    <tr>\n",
              "      <th>50%</th>\n",
              "      <td>1280.000000</td>\n",
              "      <td>251.555000</td>\n",
              "      <td>4.710000</td>\n",
              "      <td>3.490000</td>\n",
              "      <td>3.329000</td>\n",
              "      <td>163.674000</td>\n",
              "      <td>4.650000</td>\n",
              "    </tr>\n",
              "    <tr>\n",
              "      <th>75%</th>\n",
              "      <td>1666.000000</td>\n",
              "      <td>292.004000</td>\n",
              "      <td>6.050000</td>\n",
              "      <td>7.780000</td>\n",
              "      <td>3.637000</td>\n",
              "      <td>183.509000</td>\n",
              "      <td>15.743000</td>\n",
              "    </tr>\n",
              "    <tr>\n",
              "      <th>max</th>\n",
              "      <td>2263.000000</td>\n",
              "      <td>344.758000</td>\n",
              "      <td>7.160000</td>\n",
              "      <td>11.540000</td>\n",
              "      <td>4.812000</td>\n",
              "      <td>238.530000</td>\n",
              "      <td>21.774000</td>\n",
              "    </tr>\n",
              "  </tbody>\n",
              "</table>\n",
              "</div>"
            ],
            "text/plain": [
              "       BUILDING PERMITS        RENT  ...       PRICE       HCAI \n",
              "count        241.000000  241.000000  ...  241.000000  241.000000\n",
              "mean        1310.481328  258.742004  ...  164.826295    8.462158\n",
              "std          477.733050   43.829417  ...   28.920459    7.034701\n",
              "min          513.000000  188.200000  ...  109.846000    2.293000\n",
              "25%          980.000000  220.900000  ...  142.911000    2.597000\n",
              "50%         1280.000000  251.555000  ...  163.674000    4.650000\n",
              "75%         1666.000000  292.004000  ...  183.509000   15.743000\n",
              "max         2263.000000  344.758000  ...  238.530000   21.774000\n",
              "\n",
              "[8 rows x 7 columns]"
            ]
          },
          "metadata": {},
          "execution_count": 7
        }
      ]
    },
    {
      "cell_type": "markdown",
      "metadata": {
        "id": "Lj_gQoJMWJJB"
      },
      "source": [
        "### 3.2 Checking for null values"
      ]
    },
    {
      "cell_type": "code",
      "metadata": {
        "colab": {
          "base_uri": "https://localhost:8080/",
          "height": 471
        },
        "id": "gb8PL520Vhgv",
        "outputId": "51202b17-cd3b-4d03-9fcd-959ffe2c6028"
      },
      "source": [
        "import missingno\n",
        "missingno.matrix(df, figsize=(10,5))"
      ],
      "execution_count": null,
      "outputs": [
        {
          "output_type": "execute_result",
          "data": {
            "text/plain": [
              "<matplotlib.axes._subplots.AxesSubplot at 0x7f2d84b21c90>"
            ]
          },
          "metadata": {},
          "execution_count": 8
        },
        {
          "output_type": "display_data",
          "data": {
            "image/png": "[encoded data removed]",
            "text/plain": [
              "<Figure size 720x360 with 2 Axes>"
            ]
          },
          "metadata": {
            "needs_background": "light"
          }
        }
      ]
    },
    {
      "cell_type": "markdown",
      "metadata": {
        "id": "sDj3lDfsWfyo"
      },
      "source": [
        "It is observed that FORECLOSURE and NET MIGRATION RATE have a lot of missing values. \n",
        "In our data we have observed the target price monthly but FORECLOSURE and NET MIGRATION RATE are quarterly and yearly observed. \n",
        "Therefore, we can replace the null values in the following way for both the features :- \n",
        "\n",
        "**FORECLOSURE**\n",
        "* For every Quarter of the year, we'll randomly generate float values within the range of (i)th and (i+1)th quarter values for FORECLOSURE. \n",
        "\n",
        "**NET MIGRATION RATE**\n",
        "* For every month of the particular year, the missing values will be replaced by the randomly generated float values within the range of (i)th and (i+1)th year."
      ]
    },
    {
      "cell_type": "code",
      "metadata": {
        "colab": {
          "base_uri": "https://localhost:8080/"
        },
        "id": "rLFEYMoO2I9o",
        "outputId": "990322fd-9f63-41e7-e4ac-12fa661d960f"
      },
      "source": [
        "df['FORECLOSURE']"
      ],
      "execution_count": null,
      "outputs": [
        {
          "output_type": "execute_result",
          "data": {
            "text/plain": [
              "0      2.34\n",
              "1       NaN\n",
              "2       NaN\n",
              "3      2.41\n",
              "4       NaN\n",
              "       ... \n",
              "236     NaN\n",
              "237    2.74\n",
              "238     NaN\n",
              "239     NaN\n",
              "240    2.70\n",
              "Name: FORECLOSURE, Length: 241, dtype: float64"
            ]
          },
          "metadata": {},
          "execution_count": 9
        }
      ]
    },
    {
      "cell_type": "code",
      "metadata": {
        "id": "PlMOMDY-4Ivx"
      },
      "source": [
        "for i in range(0,240,3):\n",
        "  for j in range(i+1,i+3):\n",
        "    df['FORECLOSURE'][j] = np.random.uniform(df['FORECLOSURE'][i],df['FORECLOSURE'][i+3])"
      ],
      "execution_count": null,
      "outputs": []
    },
    {
      "cell_type": "code",
      "metadata": {
        "colab": {
          "base_uri": "https://localhost:8080/"
        },
        "id": "gLqd0J036hfp",
        "outputId": "83250f4c-f876-4901-99c8-16a213c713d4"
      },
      "source": [
        "df['FORECLOSURE']"
      ],
      "execution_count": null,
      "outputs": [
        {
          "output_type": "execute_result",
          "data": {
            "text/plain": [
              "0      2.340000\n",
              "1      2.359310\n",
              "2      2.388381\n",
              "3      2.410000\n",
              "4      2.183378\n",
              "         ...   \n",
              "236    2.786715\n",
              "237    2.740000\n",
              "238    2.710784\n",
              "239    2.733386\n",
              "240    2.700000\n",
              "Name: FORECLOSURE, Length: 241, dtype: float64"
            ]
          },
          "metadata": {},
          "execution_count": 11
        }
      ]
    },
    {
      "cell_type": "code",
      "metadata": {
        "colab": {
          "base_uri": "https://localhost:8080/"
        },
        "id": "JFHo3H7p6p4Y",
        "outputId": "e5d2b5ee-5340-4a1b-a4f0-93148cb2b0e0"
      },
      "source": [
        "df['NET MIGRATION RATE']"
      ],
      "execution_count": null,
      "outputs": [
        {
          "output_type": "execute_result",
          "data": {
            "text/plain": [
              "0      4.812\n",
              "1        NaN\n",
              "2        NaN\n",
              "3        NaN\n",
              "4        NaN\n",
              "       ...  \n",
              "236      NaN\n",
              "237      NaN\n",
              "238      NaN\n",
              "239      NaN\n",
              "240    2.820\n",
              "Name: NET MIGRATION RATE, Length: 241, dtype: float64"
            ]
          },
          "metadata": {},
          "execution_count": 12
        }
      ]
    },
    {
      "cell_type": "code",
      "metadata": {
        "id": "WM9ZDiFk74bt"
      },
      "source": [
        "for i in range(0,240,12):\n",
        "  for j in range(i+1,i+12):\n",
        "    df['NET MIGRATION RATE'][j] = np.random.uniform(low = min(df['NET MIGRATION RATE'][i],df['NET MIGRATION RATE'][i+12]) , high = max(df['NET MIGRATION RATE'][i],df['NET MIGRATION RATE'][i+12]))"
      ],
      "execution_count": null,
      "outputs": []
    },
    {
      "cell_type": "code",
      "metadata": {
        "colab": {
          "base_uri": "https://localhost:8080/"
        },
        "id": "Ihh-90aF8VXo",
        "outputId": "8f0ad419-d55d-4ee1-ef2e-df3a46840adb"
      },
      "source": [
        "df['NET MIGRATION RATE']"
      ],
      "execution_count": null,
      "outputs": [
        {
          "output_type": "execute_result",
          "data": {
            "text/plain": [
              "0      4.812000\n",
              "1      4.327592\n",
              "2      4.289842\n",
              "3      4.715044\n",
              "4      4.475674\n",
              "         ...   \n",
              "236    2.837301\n",
              "237    2.835305\n",
              "238    2.854039\n",
              "239    2.828651\n",
              "240    2.820000\n",
              "Name: NET MIGRATION RATE, Length: 241, dtype: float64"
            ]
          },
          "metadata": {},
          "execution_count": 14
        }
      ]
    },
    {
      "cell_type": "code",
      "metadata": {
        "colab": {
          "base_uri": "https://localhost:8080/",
          "height": 203
        },
        "id": "z16FfVdg8Zp1",
        "outputId": "75d98b5b-21f4-4b7a-f155-1711923fe967"
      },
      "source": [
        "df.head()"
      ],
      "execution_count": null,
      "outputs": [
        {
          "output_type": "execute_result",
          "data": {
            "text/html": [
              "<div>\n",
              "<style scoped>\n",
              "    .dataframe tbody tr th:only-of-type {\n",
              "        vertical-align: middle;\n",
              "    }\n",
              "\n",
              "    .dataframe tbody tr th {\n",
              "        vertical-align: top;\n",
              "    }\n",
              "\n",
              "    .dataframe thead th {\n",
              "        text-align: right;\n",
              "    }\n",
              "</style>\n",
              "<table border=\"1\" class=\"dataframe\">\n",
              "  <thead>\n",
              "    <tr style=\"text-align: right;\">\n",
              "      <th></th>\n",
              "      <th>BUILDING PERMITS</th>\n",
              "      <th>RENT</th>\n",
              "      <th>MORTGAGE RATE (%)</th>\n",
              "      <th>FORECLOSURE</th>\n",
              "      <th>NET MIGRATION RATE</th>\n",
              "      <th>PRICE</th>\n",
              "      <th>HCAI</th>\n",
              "    </tr>\n",
              "  </thead>\n",
              "  <tbody>\n",
              "    <tr>\n",
              "      <th>0</th>\n",
              "      <td>1699</td>\n",
              "      <td>188.2</td>\n",
              "      <td>7.03</td>\n",
              "      <td>2.340000</td>\n",
              "      <td>4.812000</td>\n",
              "      <td>109.846</td>\n",
              "      <td>16.253</td>\n",
              "    </tr>\n",
              "    <tr>\n",
              "      <th>1</th>\n",
              "      <td>1656</td>\n",
              "      <td>188.9</td>\n",
              "      <td>7.05</td>\n",
              "      <td>2.359310</td>\n",
              "      <td>4.327592</td>\n",
              "      <td>110.501</td>\n",
              "      <td>16.253</td>\n",
              "    </tr>\n",
              "    <tr>\n",
              "      <th>2</th>\n",
              "      <td>1659</td>\n",
              "      <td>189.6</td>\n",
              "      <td>6.95</td>\n",
              "      <td>2.388381</td>\n",
              "      <td>4.289842</td>\n",
              "      <td>111.108</td>\n",
              "      <td>16.253</td>\n",
              "    </tr>\n",
              "    <tr>\n",
              "      <th>3</th>\n",
              "      <td>1666</td>\n",
              "      <td>190.2</td>\n",
              "      <td>7.08</td>\n",
              "      <td>2.410000</td>\n",
              "      <td>4.715044</td>\n",
              "      <td>111.650</td>\n",
              "      <td>15.664</td>\n",
              "    </tr>\n",
              "    <tr>\n",
              "      <th>4</th>\n",
              "      <td>1665</td>\n",
              "      <td>191.0</td>\n",
              "      <td>7.15</td>\n",
              "      <td>2.183378</td>\n",
              "      <td>4.475674</td>\n",
              "      <td>112.162</td>\n",
              "      <td>15.664</td>\n",
              "    </tr>\n",
              "  </tbody>\n",
              "</table>\n",
              "</div>"
            ],
            "text/plain": [
              "   BUILDING PERMITS   RENT  ...    PRICE   HCAI \n",
              "0              1699  188.2  ...  109.846  16.253\n",
              "1              1656  188.9  ...  110.501  16.253\n",
              "2              1659  189.6  ...  111.108  16.253\n",
              "3              1666  190.2  ...  111.650  15.664\n",
              "4              1665  191.0  ...  112.162  15.664\n",
              "\n",
              "[5 rows x 7 columns]"
            ]
          },
          "metadata": {},
          "execution_count": 15
        }
      ]
    },
    {
      "cell_type": "markdown",
      "metadata": {
        "id": "qIx7B6GhgHbU"
      },
      "source": [
        "### 3.3 Checking for Correlation with Target variable"
      ]
    },
    {
      "cell_type": "code",
      "metadata": {
        "colab": {
          "base_uri": "https://localhost:8080/",
          "height": 534
        },
        "id": "_xaFcx2E9hZU",
        "outputId": "8cc3306a-29a1-4fc0-b6b5-afb3be0b22cd"
      },
      "source": [
        "print(df.corr()) \n",
        "dataplot = sns.heatmap(df.corr(), cmap=\"Blues_r\", annot=True) \n",
        "\n",
        "# displaying heatmap \n",
        "plt.show()"
      ],
      "execution_count": null,
      "outputs": [
        {
          "output_type": "stream",
          "name": "stdout",
          "text": [
            "                    BUILDING PERMITS      RENT  ...     PRICE     HCAI \n",
            "BUILDING PERMITS            1.000000 -0.329721  ...  0.105464  0.740960\n",
            "RENT                       -0.329721  1.000000  ...  0.804374 -0.808928\n",
            "MORTGAGE RATE (%)           0.450561 -0.840466  ... -0.491298  0.819851\n",
            "FORECLOSURE                -0.886720  0.122675  ... -0.309908 -0.564513\n",
            "NET MIGRATION RATE          0.376493 -0.900688  ... -0.724120  0.759380\n",
            "PRICE                       0.105464  0.804374  ...  1.000000 -0.363754\n",
            "HCAI                        0.740960 -0.808928  ... -0.363754  1.000000\n",
            "\n",
            "[7 rows x 7 columns]\n"
          ]
        },
        {
          "output_type": "display_data",
          "data": {
            "image/png": "[encoded data removed]",
            "text/plain": [
              "<Figure size 432x288 with 2 Axes>"
            ]
          },
          "metadata": {
            "needs_background": "light"
          }
        }
      ]
    },
    {
      "cell_type": "markdown",
      "metadata": {
        "id": "3YEg8fQrgPXR"
      },
      "source": [
        "A correlation matrix is a table showing correlation coefficients between variables. \n",
        "From the above table we can say that\n",
        "* RENT and NET MIGRATION RATE are highly correlated with PRICE feature.\n",
        "* A value closer to 1 implies stronger positive correlation.\n",
        "* A value closer to 0 implies weaker correlation.\n",
        "* A value closer to -1 implies negative positive correlation.\n"
      ]
    },
    {
      "cell_type": "markdown",
      "metadata": {
        "id": "yRhA0p9VlXlh"
      },
      "source": [
        "### 3.4 Visualizing features\n",
        "This is performed to check the distribution of features, their relation with target feature, skewness and presence of outliers if any."
      ]
    },
    {
      "cell_type": "code",
      "metadata": {
        "colab": {
          "base_uri": "https://localhost:8080/",
          "height": 279
        },
        "id": "febesPUh9hcQ",
        "outputId": "f59db453-ce27-4daa-fef0-bf788a175a2a"
      },
      "source": [
        "df.plot(kind='scatter', x='BUILDING PERMITS', y='PRICE') ;\n",
        "plt.show()"
      ],
      "execution_count": null,
      "outputs": [
        {
          "output_type": "display_data",
          "data": {
            "image/png": "[encoded data removed]",
            "text/plain": [
              "<Figure size 432x288 with 1 Axes>"
            ]
          },
          "metadata": {
            "needs_background": "light"
          }
        }
      ]
    },
    {
      "cell_type": "code",
      "metadata": {
        "colab": {
          "base_uri": "https://localhost:8080/",
          "height": 314
        },
        "id": "SGViocvjn4NR",
        "outputId": "d97ebd5d-1379-40ee-e034-2d4dcadf8830"
      },
      "source": [
        "sns.distplot(df['BUILDING PERMITS']);\n",
        "#skewness and kurtosis\n",
        "print(\"Skewness: %f\" % df['BUILDING PERMITS'].skew())\n",
        "print(\"Kurtosis: %f\" % df['BUILDING PERMITS'].kurt())"
      ],
      "execution_count": null,
      "outputs": [
        {
          "output_type": "stream",
          "name": "stdout",
          "text": [
            "Skewness: 0.130851\n",
            "Kurtosis: -0.922870\n"
          ]
        },
        {
          "output_type": "display_data",
          "data": {
            "image/png": "[encoded data removed]",
            "text/plain": [
              "<Figure size 432x288 with 1 Axes>"
            ]
          },
          "metadata": {
            "needs_background": "light"
          }
        }
      ]
    },
    {
      "cell_type": "code",
      "metadata": {
        "colab": {
          "base_uri": "https://localhost:8080/",
          "height": 296
        },
        "id": "tjExo9ItoDRD",
        "outputId": "72a6223c-e36a-42e3-c697-ae97dac8494e"
      },
      "source": [
        "sns.boxplot(df['BUILDING PERMITS'],palette=\"Set1\")"
      ],
      "execution_count": null,
      "outputs": [
        {
          "output_type": "execute_result",
          "data": {
            "text/plain": [
              "<matplotlib.axes._subplots.AxesSubplot at 0x7f2d788b8890>"
            ]
          },
          "metadata": {},
          "execution_count": 19
        },
        {
          "output_type": "display_data",
          "data": {
            "image/png": "[encoded data removed]",
            "text/plain": [
              "<Figure size 432x288 with 1 Axes>"
            ]
          },
          "metadata": {
            "needs_background": "light"
          }
        }
      ]
    },
    {
      "cell_type": "markdown",
      "metadata": {
        "id": "KUKmGHlGoG2l"
      },
      "source": [
        "We've observed that the feature is not skewed.\n",
        "There are no outliers present which can be observed from BoxPlots. \n"
      ]
    },
    {
      "cell_type": "code",
      "metadata": {
        "colab": {
          "base_uri": "https://localhost:8080/",
          "height": 279
        },
        "id": "aKdNULCc9hfE",
        "outputId": "8697c24e-5ef0-4542-8974-086b3f15fb23"
      },
      "source": [
        "df.plot(kind='scatter', x='RENT', y='PRICE') ;\n",
        "plt.show()"
      ],
      "execution_count": null,
      "outputs": [
        {
          "output_type": "display_data",
          "data": {
            "image/png": "[encoded data removed]",
            "text/plain": [
              "<Figure size 432x288 with 1 Axes>"
            ]
          },
          "metadata": {
            "needs_background": "light"
          }
        }
      ]
    },
    {
      "cell_type": "code",
      "metadata": {
        "colab": {
          "base_uri": "https://localhost:8080/",
          "height": 313
        },
        "id": "uycroJSXoeje",
        "outputId": "61f58769-9a13-4ee1-ed74-203f7310f146"
      },
      "source": [
        "sns.distplot(df['RENT']);\n",
        "#skewness and kurtosis\n",
        "print(\"Skewness: %f\" % df['RENT'].skew())\n",
        "print(\"Kurtosis: %f\" % df['RENT'].kurt())"
      ],
      "execution_count": null,
      "outputs": [
        {
          "output_type": "stream",
          "name": "stdout",
          "text": [
            "Skewness: 0.322142\n",
            "Kurtosis: -0.922372\n"
          ]
        },
        {
          "output_type": "display_data",
          "data": {
            "image/png": "[encoded data removed]",
            "text/plain": [
              "<Figure size 432x288 with 1 Axes>"
            ]
          },
          "metadata": {
            "needs_background": "light"
          }
        }
      ]
    },
    {
      "cell_type": "code",
      "metadata": {
        "colab": {
          "base_uri": "https://localhost:8080/",
          "height": 296
        },
        "id": "GtqqLr0-oe04",
        "outputId": "a7a7fc7c-b075-4d3e-a32a-4766cf373f24"
      },
      "source": [
        "sns.boxplot(df['RENT'],palette=\"Set1\")"
      ],
      "execution_count": null,
      "outputs": [
        {
          "output_type": "execute_result",
          "data": {
            "text/plain": [
              "<matplotlib.axes._subplots.AxesSubplot at 0x7f2d7bc52710>"
            ]
          },
          "metadata": {},
          "execution_count": 22
        },
        {
          "output_type": "display_data",
          "data": {
            "image/png": "[encoded data removed]",
            "text/plain": [
              "<Figure size 432x288 with 1 Axes>"
            ]
          },
          "metadata": {
            "needs_background": "light"
          }
        }
      ]
    },
    {
      "cell_type": "markdown",
      "metadata": {
        "id": "i1ZK2Np4ortt"
      },
      "source": [
        "No skewness found and also there are no outliers present."
      ]
    },
    {
      "cell_type": "code",
      "metadata": {
        "colab": {
          "base_uri": "https://localhost:8080/",
          "height": 279
        },
        "id": "OTstvmlE9hh3",
        "outputId": "880547e9-c11f-432c-8772-17a547c848b9"
      },
      "source": [
        "df.plot(kind='scatter', x='NET MIGRATION RATE', y='PRICE') ;\n",
        "plt.show()"
      ],
      "execution_count": null,
      "outputs": [
        {
          "output_type": "display_data",
          "data": {
            "image/png": "[encoded data removed]",
            "text/plain": [
              "<Figure size 432x288 with 1 Axes>"
            ]
          },
          "metadata": {
            "needs_background": "light"
          }
        }
      ]
    },
    {
      "cell_type": "code",
      "metadata": {
        "colab": {
          "base_uri": "https://localhost:8080/",
          "height": 313
        },
        "id": "8ojtTvsSoxlE",
        "outputId": "51f5d9cc-d480-4dea-99ae-328531f99601"
      },
      "source": [
        "sns.distplot(df['NET MIGRATION RATE']);\n",
        "#skewness and kurtosis\n",
        "print(\"Skewness: %f\" % df['NET MIGRATION RATE'].skew())\n",
        "print(\"Kurtosis: %f\" % df['NET MIGRATION RATE'].kurt())"
      ],
      "execution_count": null,
      "outputs": [
        {
          "output_type": "stream",
          "name": "stdout",
          "text": [
            "Skewness: 1.069287\n",
            "Kurtosis: 1.217844\n"
          ]
        },
        {
          "output_type": "display_data",
          "data": {
            "image/png": "[encoded data removed]",
            "text/plain": [
              "<Figure size 432x288 with 1 Axes>"
            ]
          },
          "metadata": {
            "needs_background": "light"
          }
        }
      ]
    },
    {
      "cell_type": "code",
      "metadata": {
        "colab": {
          "base_uri": "https://localhost:8080/",
          "height": 296
        },
        "id": "TFJtlD6_ox3Z",
        "outputId": "25e4a186-b21f-4707-d7e6-4f5640f55f66"
      },
      "source": [
        "sns.boxplot(df['NET MIGRATION RATE'],palette=\"Set1\")"
      ],
      "execution_count": null,
      "outputs": [
        {
          "output_type": "execute_result",
          "data": {
            "text/plain": [
              "<matplotlib.axes._subplots.AxesSubplot at 0x7f2d78718110>"
            ]
          },
          "metadata": {},
          "execution_count": 25
        },
        {
          "output_type": "display_data",
          "data": {
            "image/png": "[encoded data removed]",
            "text/plain": [
              "<Figure size 432x288 with 1 Axes>"
            ]
          },
          "metadata": {
            "needs_background": "light"
          }
        }
      ]
    },
    {
      "cell_type": "markdown",
      "metadata": {
        "id": "L_XllTwvpCN3"
      },
      "source": [
        "We've observed that the feature is skewed (Right) and there is presence of outliers in this feature as there are some values outside whiskers of the box plot. "
      ]
    },
    {
      "cell_type": "code",
      "metadata": {
        "colab": {
          "base_uri": "https://localhost:8080/",
          "height": 279
        },
        "id": "S9DP1Itt9hkn",
        "outputId": "c2bd24d0-1ade-4eaa-d831-cf6cd1a07524"
      },
      "source": [
        "df.plot(kind='scatter', x='MORTGAGE RATE (%)', y='PRICE') ;\n",
        "plt.show()"
      ],
      "execution_count": null,
      "outputs": [
        {
          "output_type": "display_data",
          "data": {
            "image/png": "[encoded data removed]",
            "text/plain": [
              "<Figure size 432x288 with 1 Axes>"
            ]
          },
          "metadata": {
            "needs_background": "light"
          }
        }
      ]
    },
    {
      "cell_type": "code",
      "metadata": {
        "colab": {
          "base_uri": "https://localhost:8080/",
          "height": 313
        },
        "id": "pCeWc5bXpUqA",
        "outputId": "e4784036-108b-4d26-dc71-c3f8cc3dd176"
      },
      "source": [
        "sns.distplot(df['MORTGAGE RATE (%)']);\n",
        "#skewness and kurtosis\n",
        "print(\"Skewness: %f\" % df['MORTGAGE RATE (%)'].skew())\n",
        "print(\"Kurtosis: %f\" % df['MORTGAGE RATE (%)'].kurt())"
      ],
      "execution_count": null,
      "outputs": [
        {
          "output_type": "stream",
          "name": "stdout",
          "text": [
            "Skewness: 0.192402\n",
            "Kurtosis: -1.219123\n"
          ]
        },
        {
          "output_type": "display_data",
          "data": {
            "image/png": "[encoded data removed]",
            "text/plain": [
              "<Figure size 432x288 with 1 Axes>"
            ]
          },
          "metadata": {
            "needs_background": "light"
          }
        }
      ]
    },
    {
      "cell_type": "code",
      "metadata": {
        "colab": {
          "base_uri": "https://localhost:8080/",
          "height": 296
        },
        "id": "N5oHUeq0pU8G",
        "outputId": "05d6d57e-632d-4cee-8325-9cd484a5299b"
      },
      "source": [
        "sns.boxplot(df['MORTGAGE RATE (%)'],palette=\"Set1\")"
      ],
      "execution_count": null,
      "outputs": [
        {
          "output_type": "execute_result",
          "data": {
            "text/plain": [
              "<matplotlib.axes._subplots.AxesSubplot at 0x7f2d785c8090>"
            ]
          },
          "metadata": {},
          "execution_count": 28
        },
        {
          "output_type": "display_data",
          "data": {
            "image/png": "[encoded data removed]",
            "text/plain": [
              "<Figure size 432x288 with 1 Axes>"
            ]
          },
          "metadata": {
            "needs_background": "light"
          }
        }
      ]
    },
    {
      "cell_type": "markdown",
      "metadata": {
        "id": "H6vPDXkQp0nd"
      },
      "source": [
        "Feature not skewed and no outliers present."
      ]
    },
    {
      "cell_type": "code",
      "metadata": {
        "colab": {
          "base_uri": "https://localhost:8080/",
          "height": 279
        },
        "id": "960JdY-Z9hnd",
        "outputId": "c394e68e-276b-420f-da01-2a6ce4db576e"
      },
      "source": [
        "df.plot(kind='scatter', x='FORECLOSURE', y='PRICE') ;\n",
        "plt.show()"
      ],
      "execution_count": null,
      "outputs": [
        {
          "output_type": "display_data",
          "data": {
            "image/png": "[encoded data removed]",
            "text/plain": [
              "<Figure size 432x288 with 1 Axes>"
            ]
          },
          "metadata": {
            "needs_background": "light"
          }
        }
      ]
    },
    {
      "cell_type": "code",
      "metadata": {
        "colab": {
          "base_uri": "https://localhost:8080/",
          "height": 313
        },
        "id": "IkLSBWAhp527",
        "outputId": "80dc1ef2-0d39-4068-8756-ea40e5cc592a"
      },
      "source": [
        "sns.distplot(df['FORECLOSURE']);\n",
        "#skewness and kurtosis\n",
        "print(\"Skewness: %f\" % df['FORECLOSURE'].skew())\n",
        "print(\"Kurtosis: %f\" % df['FORECLOSURE'].kurt())"
      ],
      "execution_count": null,
      "outputs": [
        {
          "output_type": "stream",
          "name": "stdout",
          "text": [
            "Skewness: 0.724799\n",
            "Kurtosis: -1.036100\n"
          ]
        },
        {
          "output_type": "display_data",
          "data": {
            "image/png": "[encoded data removed]",
            "text/plain": [
              "<Figure size 432x288 with 1 Axes>"
            ]
          },
          "metadata": {
            "needs_background": "light"
          }
        }
      ]
    },
    {
      "cell_type": "code",
      "metadata": {
        "colab": {
          "base_uri": "https://localhost:8080/",
          "height": 296
        },
        "id": "ODsZpABAp6Em",
        "outputId": "89dd1142-8812-4e38-c708-ef9f3f8539e7"
      },
      "source": [
        "sns.boxplot(df['FORECLOSURE'],palette=\"Set1\")"
      ],
      "execution_count": null,
      "outputs": [
        {
          "output_type": "execute_result",
          "data": {
            "text/plain": [
              "<matplotlib.axes._subplots.AxesSubplot at 0x7f2d784c32d0>"
            ]
          },
          "metadata": {},
          "execution_count": 31
        },
        {
          "output_type": "display_data",
          "data": {
            "image/png": "[encoded data removed]",
            "text/plain": [
              "<Figure size 432x288 with 1 Axes>"
            ]
          },
          "metadata": {
            "needs_background": "light"
          }
        }
      ]
    },
    {
      "cell_type": "markdown",
      "metadata": {
        "id": "XvnMAtCtqFDb"
      },
      "source": [
        "Feature is moderately skewed with no outliers."
      ]
    },
    {
      "cell_type": "code",
      "metadata": {
        "colab": {
          "base_uri": "https://localhost:8080/",
          "height": 279
        },
        "id": "RNCvvERv9hsg",
        "outputId": "cfa4e04a-c13f-4551-b804-b0f0e014f576"
      },
      "source": [
        "df.plot(kind='scatter', x='HCAI ', y='PRICE') ;\n",
        "plt.show()"
      ],
      "execution_count": null,
      "outputs": [
        {
          "output_type": "display_data",
          "data": {
            "image/png": "[encoded data removed]",
            "text/plain": [
              "<Figure size 432x288 with 1 Axes>"
            ]
          },
          "metadata": {
            "needs_background": "light"
          }
        }
      ]
    },
    {
      "cell_type": "code",
      "metadata": {
        "colab": {
          "base_uri": "https://localhost:8080/",
          "height": 313
        },
        "id": "gseJOeYgEfVG",
        "outputId": "0b88a527-b031-4ecf-c25f-3813f068d9ac"
      },
      "source": [
        "sns.distplot(df['HCAI ']);\n",
        "#skewness and kurtosis\n",
        "print(\"Skewness: %f\" % df['HCAI '].skew())\n",
        "print(\"Kurtosis: %f\" % df['HCAI '].kurt())"
      ],
      "execution_count": null,
      "outputs": [
        {
          "output_type": "stream",
          "name": "stdout",
          "text": [
            "Skewness: 0.733721\n",
            "Kurtosis: -1.168367\n"
          ]
        },
        {
          "output_type": "display_data",
          "data": {
            "image/png": "[encoded data removed]",
            "text/plain": [
              "<Figure size 432x288 with 1 Axes>"
            ]
          },
          "metadata": {
            "needs_background": "light"
          }
        }
      ]
    },
    {
      "cell_type": "code",
      "metadata": {
        "colab": {
          "base_uri": "https://localhost:8080/",
          "height": 296
        },
        "id": "VAPfcYHLy8Vx",
        "outputId": "3ce6b0eb-b056-4223-9aa2-789808eb75fc"
      },
      "source": [
        "sns.boxplot(df['HCAI '],palette=\"Set1\")"
      ],
      "execution_count": null,
      "outputs": [
        {
          "output_type": "execute_result",
          "data": {
            "text/plain": [
              "<matplotlib.axes._subplots.AxesSubplot at 0x7f2d783bd350>"
            ]
          },
          "metadata": {},
          "execution_count": 34
        },
        {
          "output_type": "display_data",
          "data": {
            "image/png": "[encoded data removed]",
            "text/plain": [
              "<Figure size 432x288 with 1 Axes>"
            ]
          },
          "metadata": {
            "needs_background": "light"
          }
        }
      ]
    },
    {
      "cell_type": "markdown",
      "metadata": {
        "id": "vzOFcloGzA-5"
      },
      "source": [
        "Feature is moderately skewed with no outliers."
      ]
    },
    {
      "cell_type": "code",
      "metadata": {
        "colab": {
          "base_uri": "https://localhost:8080/",
          "height": 313
        },
        "id": "1Jm_pwtEAwxY",
        "outputId": "6493dcda-f6f6-430a-e2b7-478ee258fa99"
      },
      "source": [
        "sns.distplot(df['PRICE']);\n",
        "#skewness and kurtosis\n",
        "print(\"Skewness: %f\" % df['PRICE'].skew())\n",
        "print(\"Kurtosis: %f\" % df['PRICE'].kurt())"
      ],
      "execution_count": null,
      "outputs": [
        {
          "output_type": "stream",
          "name": "stdout",
          "text": [
            "Skewness: 0.235684\n",
            "Kurtosis: -0.548055\n"
          ]
        },
        {
          "output_type": "display_data",
          "data": {
            "image/png": "[encoded data removed]",
            "text/plain": [
              "<Figure size 432x288 with 1 Axes>"
            ]
          },
          "metadata": {
            "needs_background": "light"
          }
        }
      ]
    },
    {
      "cell_type": "markdown",
      "metadata": {
        "id": "DFjes-cbzHNz"
      },
      "source": [
        "Target feature is not skewed."
      ]
    },
    {
      "cell_type": "code",
      "metadata": {
        "colab": {
          "base_uri": "https://localhost:8080/"
        },
        "id": "Z4Sn0dNrLEqI",
        "outputId": "d9a99557-0a62-4df9-fff9-0ad9ce6ad736"
      },
      "source": [
        "df.skew()"
      ],
      "execution_count": null,
      "outputs": [
        {
          "output_type": "execute_result",
          "data": {
            "text/plain": [
              "BUILDING PERMITS      0.130851\n",
              "RENT                  0.322142\n",
              "MORTGAGE RATE (%)     0.192402\n",
              "FORECLOSURE           0.724799\n",
              "NET MIGRATION RATE    1.069287\n",
              "PRICE                 0.235684\n",
              "HCAI                  0.733721\n",
              "dtype: float64"
            ]
          },
          "metadata": {},
          "execution_count": 36
        }
      ]
    },
    {
      "cell_type": "markdown",
      "metadata": {
        "id": "qlMjo3PWnUQv"
      },
      "source": [
        "### Conclusion drawn from the visualizations above \n",
        "* It can be observed that the relationship of independent variables with the dependent variable is complicated i.e. not linear. "
      ]
    },
    {
      "cell_type": "markdown",
      "metadata": {
        "id": "ox-_MbC5zOcD"
      },
      "source": [
        "### Solution to the skewness\n",
        "Applying log transformations to the features which are moderately or highly skewed.\n",
        "Those features are :-\n",
        "* FORECLOSURE\n",
        "* NET_MIGRATION_RATE\n",
        "* HCAI "
      ]
    },
    {
      "cell_type": "code",
      "metadata": {
        "id": "t7O4WNqRP8ry"
      },
      "source": [
        "FORECLOSURE_LOG = np.log(df['FORECLOSURE'])"
      ],
      "execution_count": null,
      "outputs": []
    },
    {
      "cell_type": "code",
      "metadata": {
        "colab": {
          "base_uri": "https://localhost:8080/"
        },
        "id": "h8aenqojSHqy",
        "outputId": "0a87d546-201d-4772-9e59-e8a5cdc4e870"
      },
      "source": [
        "FORECLOSURE_LOG.skew()"
      ],
      "execution_count": null,
      "outputs": [
        {
          "output_type": "execute_result",
          "data": {
            "text/plain": [
              "0.23361734696591724"
            ]
          },
          "metadata": {},
          "execution_count": 38
        }
      ]
    },
    {
      "cell_type": "code",
      "metadata": {
        "id": "W9Jqa9HASKjf"
      },
      "source": [
        "MIGRATION_RATE_LOG = np.log(df['NET MIGRATION RATE'])"
      ],
      "execution_count": null,
      "outputs": []
    },
    {
      "cell_type": "code",
      "metadata": {
        "colab": {
          "base_uri": "https://localhost:8080/"
        },
        "id": "LyBfnwt-ST6v",
        "outputId": "69f2d519-ad2e-4d33-f3a5-84e5662b5581"
      },
      "source": [
        "MIGRATION_RATE_LOG.skew()"
      ],
      "execution_count": null,
      "outputs": [
        {
          "output_type": "execute_result",
          "data": {
            "text/plain": [
              "0.7261516779727544"
            ]
          },
          "metadata": {},
          "execution_count": 40
        }
      ]
    },
    {
      "cell_type": "code",
      "metadata": {
        "id": "PhNuaOm3SV4R"
      },
      "source": [
        "HCAI_LOG = np.log(df['HCAI '])"
      ],
      "execution_count": null,
      "outputs": []
    },
    {
      "cell_type": "code",
      "metadata": {
        "colab": {
          "base_uri": "https://localhost:8080/"
        },
        "id": "DskW_wC2Scfb",
        "outputId": "a01aef4b-66d3-4d5b-d8e9-d369c1f8ac9f"
      },
      "source": [
        "HCAI_LOG.skew()"
      ],
      "execution_count": null,
      "outputs": [
        {
          "output_type": "execute_result",
          "data": {
            "text/plain": [
              "0.36197879905743807"
            ]
          },
          "metadata": {},
          "execution_count": 42
        }
      ]
    },
    {
      "cell_type": "code",
      "metadata": {
        "id": "js8ZJ9KYSe0w"
      },
      "source": [
        "df['NET MIGRATION RATE'] = MIGRATION_RATE_LOG\n",
        "df['FORECLOSURE'] = FORECLOSURE_LOG\n",
        "df['HCAI '] = HCAI_LOG"
      ],
      "execution_count": null,
      "outputs": []
    },
    {
      "cell_type": "code",
      "metadata": {
        "colab": {
          "base_uri": "https://localhost:8080/",
          "height": 296
        },
        "id": "xaWNxhmlTloF",
        "outputId": "01794a64-b5db-4a0b-b73d-d965d48700a4"
      },
      "source": [
        "sns.distplot(df['NET MIGRATION RATE'])"
      ],
      "execution_count": null,
      "outputs": [
        {
          "output_type": "execute_result",
          "data": {
            "text/plain": [
              "<matplotlib.axes._subplots.AxesSubplot at 0x7f2d7881b390>"
            ]
          },
          "metadata": {},
          "execution_count": 44
        },
        {
          "output_type": "display_data",
          "data": {
            "image/png": "[encoded data removed]",
            "text/plain": [
              "<Figure size 432x288 with 1 Axes>"
            ]
          },
          "metadata": {
            "needs_background": "light"
          }
        }
      ]
    },
    {
      "cell_type": "code",
      "metadata": {
        "colab": {
          "base_uri": "https://localhost:8080/",
          "height": 298
        },
        "id": "VzU1wEuSUFPr",
        "outputId": "1703cc53-4294-4119-b3e2-c21ab58c2282"
      },
      "source": [
        "sns.distplot(df['FORECLOSURE'])"
      ],
      "execution_count": null,
      "outputs": [
        {
          "output_type": "execute_result",
          "data": {
            "text/plain": [
              "<matplotlib.axes._subplots.AxesSubplot at 0x7f2d7bbc3e10>"
            ]
          },
          "metadata": {},
          "execution_count": 45
        },
        {
          "output_type": "display_data",
          "data": {
            "image/png": "[encoded data removed]",
            "text/plain": [
              "<Figure size 432x288 with 1 Axes>"
            ]
          },
          "metadata": {
            "needs_background": "light"
          }
        }
      ]
    },
    {
      "cell_type": "code",
      "metadata": {
        "colab": {
          "base_uri": "https://localhost:8080/",
          "height": 296
        },
        "id": "rlHUsuH4UQy5",
        "outputId": "567ad6c5-af09-4d80-e495-a2815c36ffd4"
      },
      "source": [
        "sns.distplot(df['HCAI '])"
      ],
      "execution_count": null,
      "outputs": [
        {
          "output_type": "execute_result",
          "data": {
            "text/plain": [
              "<matplotlib.axes._subplots.AxesSubplot at 0x7f2d7bbb9890>"
            ]
          },
          "metadata": {},
          "execution_count": 46
        },
        {
          "output_type": "display_data",
          "data": {
            "image/png": "[encoded data removed]",
            "text/plain": [
              "<Figure size 432x288 with 1 Axes>"
            ]
          },
          "metadata": {
            "needs_background": "light"
          }
        }
      ]
    },
    {
      "cell_type": "code",
      "metadata": {
        "colab": {
          "base_uri": "https://localhost:8080/",
          "height": 203
        },
        "id": "tJqQaIUJUii9",
        "outputId": "dcd22f11-0a5d-4060-9ae5-afd140ce1c95"
      },
      "source": [
        "df.head()"
      ],
      "execution_count": null,
      "outputs": [
        {
          "output_type": "execute_result",
          "data": {
            "text/html": [
              "<div>\n",
              "<style scoped>\n",
              "    .dataframe tbody tr th:only-of-type {\n",
              "        vertical-align: middle;\n",
              "    }\n",
              "\n",
              "    .dataframe tbody tr th {\n",
              "        vertical-align: top;\n",
              "    }\n",
              "\n",
              "    .dataframe thead th {\n",
              "        text-align: right;\n",
              "    }\n",
              "</style>\n",
              "<table border=\"1\" class=\"dataframe\">\n",
              "  <thead>\n",
              "    <tr style=\"text-align: right;\">\n",
              "      <th></th>\n",
              "      <th>BUILDING PERMITS</th>\n",
              "      <th>RENT</th>\n",
              "      <th>MORTGAGE RATE (%)</th>\n",
              "      <th>FORECLOSURE</th>\n",
              "      <th>NET MIGRATION RATE</th>\n",
              "      <th>PRICE</th>\n",
              "      <th>HCAI</th>\n",
              "    </tr>\n",
              "  </thead>\n",
              "  <tbody>\n",
              "    <tr>\n",
              "      <th>0</th>\n",
              "      <td>1699</td>\n",
              "      <td>188.2</td>\n",
              "      <td>7.03</td>\n",
              "      <td>0.850151</td>\n",
              "      <td>1.571113</td>\n",
              "      <td>109.846</td>\n",
              "      <td>2.788278</td>\n",
              "    </tr>\n",
              "    <tr>\n",
              "      <th>1</th>\n",
              "      <td>1656</td>\n",
              "      <td>188.9</td>\n",
              "      <td>7.05</td>\n",
              "      <td>0.858369</td>\n",
              "      <td>1.465011</td>\n",
              "      <td>110.501</td>\n",
              "      <td>2.788278</td>\n",
              "    </tr>\n",
              "    <tr>\n",
              "      <th>2</th>\n",
              "      <td>1659</td>\n",
              "      <td>189.6</td>\n",
              "      <td>6.95</td>\n",
              "      <td>0.870616</td>\n",
              "      <td>1.456250</td>\n",
              "      <td>111.108</td>\n",
              "      <td>2.788278</td>\n",
              "    </tr>\n",
              "    <tr>\n",
              "      <th>3</th>\n",
              "      <td>1666</td>\n",
              "      <td>190.2</td>\n",
              "      <td>7.08</td>\n",
              "      <td>0.879627</td>\n",
              "      <td>1.550758</td>\n",
              "      <td>111.650</td>\n",
              "      <td>2.751365</td>\n",
              "    </tr>\n",
              "    <tr>\n",
              "      <th>4</th>\n",
              "      <td>1665</td>\n",
              "      <td>191.0</td>\n",
              "      <td>7.15</td>\n",
              "      <td>0.780873</td>\n",
              "      <td>1.498657</td>\n",
              "      <td>112.162</td>\n",
              "      <td>2.751365</td>\n",
              "    </tr>\n",
              "  </tbody>\n",
              "</table>\n",
              "</div>"
            ],
            "text/plain": [
              "   BUILDING PERMITS   RENT  ...    PRICE     HCAI \n",
              "0              1699  188.2  ...  109.846  2.788278\n",
              "1              1656  188.9  ...  110.501  2.788278\n",
              "2              1659  189.6  ...  111.108  2.788278\n",
              "3              1666  190.2  ...  111.650  2.751365\n",
              "4              1665  191.0  ...  112.162  2.751365\n",
              "\n",
              "[5 rows x 7 columns]"
            ]
          },
          "metadata": {},
          "execution_count": 47
        }
      ]
    },
    {
      "cell_type": "markdown",
      "metadata": {
        "id": "BhZKY6g66H-2"
      },
      "source": [
        "Split up Data into x and y.\n",
        "* x - records of features for predicting y.\n",
        "* y - target variable"
      ]
    },
    {
      "cell_type": "code",
      "metadata": {
        "id": "jpIPuG1Co2Sy"
      },
      "source": [
        "x = df.drop('PRICE',axis = 1)\n",
        "y = pd.DataFrame()\n",
        "y = df['PRICE']"
      ],
      "execution_count": null,
      "outputs": []
    },
    {
      "cell_type": "markdown",
      "metadata": {
        "id": "8VBCrPbs-OuQ"
      },
      "source": [
        "### Feature Scaling\n",
        "Since this is a regression problem, we need to scale our features for the algorithms that use distance metric. \n",
        "If this is not done, then the feature with higher scale will become dominant."
      ]
    },
    {
      "cell_type": "code",
      "metadata": {
        "id": "J_rG2OOaZTev"
      },
      "source": [
        "from sklearn.preprocessing import MinMaxScaler\n",
        "scaler = MinMaxScaler() "
      ],
      "execution_count": null,
      "outputs": []
    },
    {
      "cell_type": "code",
      "metadata": {
        "id": "ZohG5-y-oCS_"
      },
      "source": [
        "col = x.columns\n",
        "x[col] = scaler.fit_transform(x[col])"
      ],
      "execution_count": null,
      "outputs": []
    },
    {
      "cell_type": "code",
      "metadata": {
        "colab": {
          "base_uri": "https://localhost:8080/",
          "height": 203
        },
        "id": "KQWGh9tmoej9",
        "outputId": "486b3276-61a7-42a6-c314-b2b15c509ab5"
      },
      "source": [
        "x.head()"
      ],
      "execution_count": null,
      "outputs": [
        {
          "output_type": "execute_result",
          "data": {
            "text/html": [
              "<div>\n",
              "<style scoped>\n",
              "    .dataframe tbody tr th:only-of-type {\n",
              "        vertical-align: middle;\n",
              "    }\n",
              "\n",
              "    .dataframe tbody tr th {\n",
              "        vertical-align: top;\n",
              "    }\n",
              "\n",
              "    .dataframe thead th {\n",
              "        text-align: right;\n",
              "    }\n",
              "</style>\n",
              "<table border=\"1\" class=\"dataframe\">\n",
              "  <thead>\n",
              "    <tr style=\"text-align: right;\">\n",
              "      <th></th>\n",
              "      <th>BUILDING PERMITS</th>\n",
              "      <th>RENT</th>\n",
              "      <th>MORTGAGE RATE (%)</th>\n",
              "      <th>FORECLOSURE</th>\n",
              "      <th>NET MIGRATION RATE</th>\n",
              "      <th>HCAI</th>\n",
              "    </tr>\n",
              "  </thead>\n",
              "  <tbody>\n",
              "    <tr>\n",
              "      <th>0</th>\n",
              "      <td>0.677714</td>\n",
              "      <td>0.000000</td>\n",
              "      <td>0.970982</td>\n",
              "      <td>0.240964</td>\n",
              "      <td>1.000000</td>\n",
              "      <td>0.870076</td>\n",
              "    </tr>\n",
              "    <tr>\n",
              "      <th>1</th>\n",
              "      <td>0.653143</td>\n",
              "      <td>0.004471</td>\n",
              "      <td>0.975446</td>\n",
              "      <td>0.244873</td>\n",
              "      <td>0.801448</td>\n",
              "      <td>0.870076</td>\n",
              "    </tr>\n",
              "    <tr>\n",
              "      <th>2</th>\n",
              "      <td>0.654857</td>\n",
              "      <td>0.008942</td>\n",
              "      <td>0.953125</td>\n",
              "      <td>0.250699</td>\n",
              "      <td>0.785052</td>\n",
              "      <td>0.870076</td>\n",
              "    </tr>\n",
              "    <tr>\n",
              "      <th>3</th>\n",
              "      <td>0.658857</td>\n",
              "      <td>0.012775</td>\n",
              "      <td>0.982143</td>\n",
              "      <td>0.254985</td>\n",
              "      <td>0.961910</td>\n",
              "      <td>0.853677</td>\n",
              "    </tr>\n",
              "    <tr>\n",
              "      <th>4</th>\n",
              "      <td>0.658286</td>\n",
              "      <td>0.017885</td>\n",
              "      <td>0.997768</td>\n",
              "      <td>0.208009</td>\n",
              "      <td>0.864410</td>\n",
              "      <td>0.853677</td>\n",
              "    </tr>\n",
              "  </tbody>\n",
              "</table>\n",
              "</div>"
            ],
            "text/plain": [
              "   BUILDING PERMITS      RENT  ...  NET MIGRATION RATE     HCAI \n",
              "0          0.677714  0.000000  ...            1.000000  0.870076\n",
              "1          0.653143  0.004471  ...            0.801448  0.870076\n",
              "2          0.654857  0.008942  ...            0.785052  0.870076\n",
              "3          0.658857  0.012775  ...            0.961910  0.853677\n",
              "4          0.658286  0.017885  ...            0.864410  0.853677\n",
              "\n",
              "[5 rows x 6 columns]"
            ]
          },
          "metadata": {},
          "execution_count": 51
        }
      ]
    },
    {
      "cell_type": "markdown",
      "metadata": {
        "id": "Qql5KNuu-vhP"
      },
      "source": [
        "# 4 Splitting the dataset "
      ]
    },
    {
      "cell_type": "code",
      "metadata": {
        "id": "_yG_UsKwU0Xy"
      },
      "source": [
        "from sklearn.model_selection import train_test_split"
      ],
      "execution_count": null,
      "outputs": []
    },
    {
      "cell_type": "code",
      "metadata": {
        "colab": {
          "base_uri": "https://localhost:8080/",
          "height": 203
        },
        "id": "G6bZN7RGV8OD",
        "outputId": "72ea38fc-6eef-4891-fb19-91de888a50b0"
      },
      "source": [
        "x.head()"
      ],
      "execution_count": null,
      "outputs": [
        {
          "output_type": "execute_result",
          "data": {
            "text/html": [
              "<div>\n",
              "<style scoped>\n",
              "    .dataframe tbody tr th:only-of-type {\n",
              "        vertical-align: middle;\n",
              "    }\n",
              "\n",
              "    .dataframe tbody tr th {\n",
              "        vertical-align: top;\n",
              "    }\n",
              "\n",
              "    .dataframe thead th {\n",
              "        text-align: right;\n",
              "    }\n",
              "</style>\n",
              "<table border=\"1\" class=\"dataframe\">\n",
              "  <thead>\n",
              "    <tr style=\"text-align: right;\">\n",
              "      <th></th>\n",
              "      <th>BUILDING PERMITS</th>\n",
              "      <th>RENT</th>\n",
              "      <th>MORTGAGE RATE (%)</th>\n",
              "      <th>FORECLOSURE</th>\n",
              "      <th>NET MIGRATION RATE</th>\n",
              "      <th>HCAI</th>\n",
              "    </tr>\n",
              "  </thead>\n",
              "  <tbody>\n",
              "    <tr>\n",
              "      <th>0</th>\n",
              "      <td>0.677714</td>\n",
              "      <td>0.000000</td>\n",
              "      <td>0.970982</td>\n",
              "      <td>0.240964</td>\n",
              "      <td>1.000000</td>\n",
              "      <td>0.870076</td>\n",
              "    </tr>\n",
              "    <tr>\n",
              "      <th>1</th>\n",
              "      <td>0.653143</td>\n",
              "      <td>0.004471</td>\n",
              "      <td>0.975446</td>\n",
              "      <td>0.244873</td>\n",
              "      <td>0.801448</td>\n",
              "      <td>0.870076</td>\n",
              "    </tr>\n",
              "    <tr>\n",
              "      <th>2</th>\n",
              "      <td>0.654857</td>\n",
              "      <td>0.008942</td>\n",
              "      <td>0.953125</td>\n",
              "      <td>0.250699</td>\n",
              "      <td>0.785052</td>\n",
              "      <td>0.870076</td>\n",
              "    </tr>\n",
              "    <tr>\n",
              "      <th>3</th>\n",
              "      <td>0.658857</td>\n",
              "      <td>0.012775</td>\n",
              "      <td>0.982143</td>\n",
              "      <td>0.254985</td>\n",
              "      <td>0.961910</td>\n",
              "      <td>0.853677</td>\n",
              "    </tr>\n",
              "    <tr>\n",
              "      <th>4</th>\n",
              "      <td>0.658286</td>\n",
              "      <td>0.017885</td>\n",
              "      <td>0.997768</td>\n",
              "      <td>0.208009</td>\n",
              "      <td>0.864410</td>\n",
              "      <td>0.853677</td>\n",
              "    </tr>\n",
              "  </tbody>\n",
              "</table>\n",
              "</div>"
            ],
            "text/plain": [
              "   BUILDING PERMITS      RENT  ...  NET MIGRATION RATE     HCAI \n",
              "0          0.677714  0.000000  ...            1.000000  0.870076\n",
              "1          0.653143  0.004471  ...            0.801448  0.870076\n",
              "2          0.654857  0.008942  ...            0.785052  0.870076\n",
              "3          0.658857  0.012775  ...            0.961910  0.853677\n",
              "4          0.658286  0.017885  ...            0.864410  0.853677\n",
              "\n",
              "[5 rows x 6 columns]"
            ]
          },
          "metadata": {},
          "execution_count": 53
        }
      ]
    },
    {
      "cell_type": "code",
      "metadata": {
        "colab": {
          "base_uri": "https://localhost:8080/"
        },
        "id": "iOYd230hV_nQ",
        "outputId": "6f1579ef-04a0-405c-b538-b26d58222640"
      },
      "source": [
        "y.head()"
      ],
      "execution_count": null,
      "outputs": [
        {
          "output_type": "execute_result",
          "data": {
            "text/plain": [
              "0    109.846\n",
              "1    110.501\n",
              "2    111.108\n",
              "3    111.650\n",
              "4    112.162\n",
              "Name: PRICE, dtype: float64"
            ]
          },
          "metadata": {},
          "execution_count": 54
        }
      ]
    },
    {
      "cell_type": "code",
      "metadata": {
        "id": "Oo8Tero0VnFm"
      },
      "source": [
        "x_train, x_test, y_train, y_test = train_test_split(x, y, test_size=0.33, random_state=42)"
      ],
      "execution_count": null,
      "outputs": []
    },
    {
      "cell_type": "markdown",
      "metadata": {
        "id": "19SBm745-1-v"
      },
      "source": [
        "# 5. Machine Learning Models"
      ]
    },
    {
      "cell_type": "markdown",
      "metadata": {
        "id": "b3wUtSAR_Dmb"
      },
      "source": [
        "### 5.1 Linear Regression\n"
      ]
    },
    {
      "cell_type": "code",
      "metadata": {
        "colab": {
          "base_uri": "https://localhost:8080/"
        },
        "id": "dWDJBycqVnNW",
        "outputId": "44b4f8b8-ef48-48ae-d2c9-d1112896d6be"
      },
      "source": [
        "from sklearn.linear_model import LinearRegression\n",
        "reg = LinearRegression().fit(x_train, y_train)\n",
        "pred = reg.predict(x_test)\n",
        "acc = round(reg.score(x_train,y_train)*100,2)\n",
        "print(\"Accuracy: %s\" % acc)"
      ],
      "execution_count": null,
      "outputs": [
        {
          "output_type": "stream",
          "name": "stdout",
          "text": [
            "Accuracy: 92.19\n"
          ]
        }
      ]
    },
    {
      "cell_type": "code",
      "metadata": {
        "colab": {
          "base_uri": "https://localhost:8080/"
        },
        "id": "uTbZ3togWkfx",
        "outputId": "5b5b78b2-dce1-4467-b5ac-1a180e1f8596"
      },
      "source": [
        "from sklearn.metrics import mean_squared_error\n",
        "print(mean_squared_error(pred,y_test))"
      ],
      "execution_count": null,
      "outputs": [
        {
          "output_type": "stream",
          "name": "stdout",
          "text": [
            "65.19314569407524\n"
          ]
        }
      ]
    },
    {
      "cell_type": "code",
      "metadata": {
        "colab": {
          "base_uri": "https://localhost:8080/",
          "height": 279
        },
        "id": "V6tAQJyzUesi",
        "outputId": "da58176e-850c-47ba-c952-cb39b2bac5b4"
      },
      "source": [
        "plt.scatter(pred, y_test, c =\"green\" , s = 5) \n",
        "plt.xlabel(\"prediction\") \n",
        "plt.ylabel(\"true value\") \n",
        "plt.show()"
      ],
      "execution_count": null,
      "outputs": [
        {
          "output_type": "display_data",
          "data": {
            "image/png": "[encoded data removed]",
            "text/plain": [
              "<Figure size 432x288 with 1 Axes>"
            ]
          },
          "metadata": {
            "needs_background": "light"
          }
        }
      ]
    },
    {
      "cell_type": "markdown",
      "metadata": {
        "id": "ua-MxiQo_B3A"
      },
      "source": [
        "Plotting the feature importance, i.e. the features which play huge role in predicting house prices."
      ]
    },
    {
      "cell_type": "code",
      "metadata": {
        "colab": {
          "base_uri": "https://localhost:8080/",
          "height": 366
        },
        "id": "AsRO7nNdqmzw",
        "outputId": "de8b9d23-f651-4073-9e1b-0fc690f3a984"
      },
      "source": [
        "import matplotlib.pyplot as plt\n",
        "# get importance\n",
        "importance = reg.coef_\n",
        "# summarize feature importance\n",
        "for i,v in enumerate(importance):\n",
        "\tprint('Feature: %0d, Score: %.5f' % (i,v))\n",
        "# plot feature importance\n",
        "plt.bar([x for x in range(len(importance))], importance)\n",
        "plt.show()"
      ],
      "execution_count": null,
      "outputs": [
        {
          "output_type": "stream",
          "name": "stdout",
          "text": [
            "Feature: 0, Score: 35.13433\n",
            "Feature: 1, Score: 147.81055\n",
            "Feature: 2, Score: 58.27747\n",
            "Feature: 3, Score: 22.43936\n",
            "Feature: 4, Score: -64.54703\n",
            "Feature: 5, Score: 53.06551\n"
          ]
        },
        {
          "output_type": "display_data",
          "data": {
            "image/png": "[encoded data removed]",
            "text/plain": [
              "<Figure size 432x288 with 1 Axes>"
            ]
          },
          "metadata": {
            "needs_background": "light"
          }
        }
      ]
    },
    {
      "cell_type": "markdown",
      "metadata": {
        "id": "Qd8q_DpB_Uwh"
      },
      "source": [
        "From the above plot, the features are ranked based on their importance(descending) below :- \n",
        "* RENT \n",
        "* NET MIGRATION RATE\n",
        "* MORTGAGE RATE (%)\n",
        "* HCAI\n",
        "* BUILDING PERMITS\n",
        "* FORECLOSURE\n"
      ]
    },
    {
      "cell_type": "markdown",
      "metadata": {
        "id": "h2MpXwItBdKx"
      },
      "source": [
        "### 5.2 Ridge Regression"
      ]
    },
    {
      "cell_type": "code",
      "metadata": {
        "colab": {
          "base_uri": "https://localhost:8080/"
        },
        "id": "J9lSLIdPqm3p",
        "outputId": "dd0e8be1-59d0-4458-c364-05443c0707a5"
      },
      "source": [
        "from sklearn.linear_model import Ridge\n",
        "clf = Ridge(alpha=0.02)\n",
        "clf.fit(x_train, y_train)\n",
        "acc = round(clf.score(x_train,y_train)*100,2)\n",
        "print(\"Accuracy: %s\" % acc)\n"
      ],
      "execution_count": null,
      "outputs": [
        {
          "output_type": "stream",
          "name": "stdout",
          "text": [
            "Accuracy: 92.17\n"
          ]
        }
      ]
    },
    {
      "cell_type": "code",
      "metadata": {
        "id": "VCOrpuVSxIJ2"
      },
      "source": [
        "predrid = clf.predict(x_test)"
      ],
      "execution_count": null,
      "outputs": []
    },
    {
      "cell_type": "code",
      "metadata": {
        "colab": {
          "base_uri": "https://localhost:8080/"
        },
        "id": "tzdhyl3Lw_aS",
        "outputId": "7a89f143-a326-488e-ac12-b0356aa5714f"
      },
      "source": [
        "from sklearn.metrics import mean_squared_error\n",
        "print(mean_squared_error(predrid,y_test))"
      ],
      "execution_count": null,
      "outputs": [
        {
          "output_type": "stream",
          "name": "stdout",
          "text": [
            "64.77283467277137\n"
          ]
        }
      ]
    },
    {
      "cell_type": "code",
      "metadata": {
        "colab": {
          "base_uri": "https://localhost:8080/",
          "height": 279
        },
        "id": "WtJ6QgrzUnKY",
        "outputId": "7c1971ea-2131-4fde-d8d0-1198dca28870"
      },
      "source": [
        "plt.scatter(predrid, y_test, c =\"green\" , s = 5) \n",
        "plt.xlabel(\"prediction\") \n",
        "plt.ylabel(\"true value\") \n",
        "plt.show()"
      ],
      "execution_count": null,
      "outputs": [
        {
          "output_type": "display_data",
          "data": {
            "image/png": "[encoded data removed]",
            "text/plain": [
              "<Figure size 432x288 with 1 Axes>"
            ]
          },
          "metadata": {
            "needs_background": "light"
          }
        }
      ]
    },
    {
      "cell_type": "markdown",
      "metadata": {
        "id": "V0ghjVDLBusr"
      },
      "source": [
        "Plotting the feature importance, i.e. the features which play huge role in predicting house prices."
      ]
    },
    {
      "cell_type": "code",
      "metadata": {
        "colab": {
          "base_uri": "https://localhost:8080/",
          "height": 368
        },
        "id": "rQN6h2iaqm6a",
        "outputId": "aa16d828-43da-4e56-9109-37d9a1eba07c"
      },
      "source": [
        "import matplotlib.pyplot as plt\n",
        "# get importance\n",
        "importance = clf.coef_\n",
        "# summarize feature importance\n",
        "for i,v in enumerate(importance):\n",
        "\tprint('Feature: %0d, Score: %.5f' % (i,v))\n",
        "# plot feature importance\n",
        "plt.bar([x for x in range(len(importance))], importance)\n",
        "plt.show()"
      ],
      "execution_count": null,
      "outputs": [
        {
          "output_type": "stream",
          "name": "stdout",
          "text": [
            "Feature: 0, Score: 30.71129\n",
            "Feature: 1, Score: 141.65856\n",
            "Feature: 2, Score: 55.44201\n",
            "Feature: 3, Score: 17.00520\n",
            "Feature: 4, Score: -65.67969\n",
            "Feature: 5, Score: 50.60377\n"
          ]
        },
        {
          "output_type": "display_data",
          "data": {
            "image/png": "[encoded data removed]",
            "text/plain": [
              "<Figure size 432x288 with 1 Axes>"
            ]
          },
          "metadata": {
            "needs_background": "light"
          }
        }
      ]
    },
    {
      "cell_type": "markdown",
      "metadata": {
        "id": "zBCfdfsnBzaj"
      },
      "source": [
        "From the above plot, the features are ranked based on their importance(descending) below :- \n",
        "* RENT \n",
        "* NET MIGRATION RATE\n",
        "* MORTGAGE RATE (%)\n",
        "* HCAI\n",
        "* BUILDING PERMITS\n",
        "* FORECLOSURE\n"
      ]
    },
    {
      "cell_type": "markdown",
      "metadata": {
        "id": "TYzopdlDCSRH"
      },
      "source": [
        "### 5.3 Lasso Regression"
      ]
    },
    {
      "cell_type": "code",
      "metadata": {
        "colab": {
          "base_uri": "https://localhost:8080/"
        },
        "id": "3wsuEDj2qm80",
        "outputId": "1c3f5480-8838-439c-8a5d-94704310a3eb"
      },
      "source": [
        "from sklearn import linear_model\n",
        "clf_lasso = linear_model.Lasso(alpha=0.01)\n",
        "clf_lasso.fit(x_train,y_train)\n",
        "\n",
        "acc = round(clf_lasso.score(x_train,y_train)*100,2)\n",
        "print(\"Accuracy: %s\" % acc)"
      ],
      "execution_count": null,
      "outputs": [
        {
          "output_type": "stream",
          "name": "stdout",
          "text": [
            "Accuracy: 92.16\n"
          ]
        }
      ]
    },
    {
      "cell_type": "code",
      "metadata": {
        "colab": {
          "base_uri": "https://localhost:8080/"
        },
        "id": "XTEbjHq5qm_U",
        "outputId": "16b2e95f-5342-40a7-b527-58f69db6d9c1"
      },
      "source": [
        "pred_lasso = clf_lasso.predict(x_test)\n",
        "from sklearn.metrics import mean_squared_error\n",
        "print(mean_squared_error(pred_lasso,y_test))"
      ],
      "execution_count": null,
      "outputs": [
        {
          "output_type": "stream",
          "name": "stdout",
          "text": [
            "64.58547615333948\n"
          ]
        }
      ]
    },
    {
      "cell_type": "code",
      "metadata": {
        "colab": {
          "base_uri": "https://localhost:8080/",
          "height": 279
        },
        "id": "MfkloRpLUqBu",
        "outputId": "43ebff40-ee73-4f4d-9be3-7b1d57c5e31f"
      },
      "source": [
        "plt.scatter(pred_lasso, y_test, c =\"green\" , s = 5) \n",
        "plt.xlabel(\"prediction\") \n",
        "plt.ylabel(\"true value\") \n",
        "plt.show()"
      ],
      "execution_count": null,
      "outputs": [
        {
          "output_type": "display_data",
          "data": {
            "image/png": "[encoded data removed]",
            "text/plain": [
              "<Figure size 432x288 with 1 Axes>"
            ]
          },
          "metadata": {
            "needs_background": "light"
          }
        }
      ]
    },
    {
      "cell_type": "markdown",
      "metadata": {
        "id": "4dJkDEFLCWNH"
      },
      "source": [
        "Plotting the feature importance, i.e. the features which play huge role in predicting house prices."
      ]
    },
    {
      "cell_type": "code",
      "metadata": {
        "colab": {
          "base_uri": "https://localhost:8080/",
          "height": 369
        },
        "id": "cWvh4B9QqnDB",
        "outputId": "5f877ebb-2b84-495f-b0c8-46a003587fce"
      },
      "source": [
        "import matplotlib.pyplot as plt\n",
        "# get importance\n",
        "importance = clf_lasso.coef_\n",
        "# summarize feature importance\n",
        "for i,v in enumerate(importance):\n",
        "\tprint('Feature: %0d, Score: %.5f' % (i,v))\n",
        "# plot feature importance\n",
        "plt.bar([x for x in range(len(importance))], importance)\n",
        "plt.show()"
      ],
      "execution_count": null,
      "outputs": [
        {
          "output_type": "stream",
          "name": "stdout",
          "text": [
            "Feature: 0, Score: 28.41372\n",
            "Feature: 1, Score: 140.99276\n",
            "Feature: 2, Score: 54.15275\n",
            "Feature: 3, Score: 14.75852\n",
            "Feature: 4, Score: -64.85060\n",
            "Feature: 5, Score: 50.39330\n"
          ]
        },
        {
          "output_type": "display_data",
          "data": {
            "image/png": "[encoded data removed]",
            "text/plain": [
              "<Figure size 432x288 with 1 Axes>"
            ]
          },
          "metadata": {
            "needs_background": "light"
          }
        }
      ]
    },
    {
      "cell_type": "markdown",
      "metadata": {
        "id": "jxrCaHCdCbmu"
      },
      "source": [
        "From the above plot, the features are ranked based on their importance(descending) below :- \n",
        "* RENT \n",
        "* NET MIGRATION RATE\n",
        "* MORTGAGE RATE (%)\n",
        "* HCAI\n",
        "* BUILDING PERMITS\n",
        "* FORECLOSURE\n"
      ]
    },
    {
      "cell_type": "markdown",
      "metadata": {
        "id": "DRNG1ij8DIuO"
      },
      "source": [
        "### 5.4 Random Forest Regressor"
      ]
    },
    {
      "cell_type": "code",
      "metadata": {
        "colab": {
          "base_uri": "https://localhost:8080/"
        },
        "id": "4PF3SlyuXgWa",
        "outputId": "7bf2be85-f7a9-4d3c-cd02-be7a9752f7ee"
      },
      "source": [
        "from sklearn.ensemble import RandomForestRegressor\n",
        "regr = RandomForestRegressor(max_depth=4, random_state=0, criterion='mae',n_estimators=100)\n",
        "regr.fit(x_train,y_train)"
      ],
      "execution_count": null,
      "outputs": [
        {
          "output_type": "execute_result",
          "data": {
            "text/plain": [
              "RandomForestRegressor(bootstrap=True, ccp_alpha=0.0, criterion='mae',\n",
              "                      max_depth=4, max_features='auto', max_leaf_nodes=None,\n",
              "                      max_samples=None, min_impurity_decrease=0.0,\n",
              "                      min_impurity_split=None, min_samples_leaf=1,\n",
              "                      min_samples_split=2, min_weight_fraction_leaf=0.0,\n",
              "                      n_estimators=100, n_jobs=None, oob_score=False,\n",
              "                      random_state=0, verbose=0, warm_start=False)"
            ]
          },
          "metadata": {},
          "execution_count": 69
        }
      ]
    },
    {
      "cell_type": "code",
      "metadata": {
        "colab": {
          "base_uri": "https://localhost:8080/"
        },
        "id": "W-zNrjHNpOft",
        "outputId": "ede444ed-8c1e-4dc7-998a-357f65ae0156"
      },
      "source": [
        "acc = round(regr.score(x_train,y_train)*100,2)\n",
        "#train_pred=model_selection.cross_val_predict(regr,x_train,y_train,cv=10,n_jobs=-1)\n",
        "print(\"Accuracy: %s\" % acc)"
      ],
      "execution_count": null,
      "outputs": [
        {
          "output_type": "stream",
          "name": "stdout",
          "text": [
            "Accuracy: 97.71\n"
          ]
        }
      ]
    },
    {
      "cell_type": "code",
      "metadata": {
        "colab": {
          "base_uri": "https://localhost:8080/"
        },
        "id": "PlDcxHbgpS0m",
        "outputId": "1551d8b9-c0d1-4aa5-dab6-218b1b30a3ee"
      },
      "source": [
        "predr = regr.predict(x_test)\n",
        "print(mean_squared_error(predr,y_test))"
      ],
      "execution_count": null,
      "outputs": [
        {
          "output_type": "stream",
          "name": "stdout",
          "text": [
            "17.439546400934898\n"
          ]
        }
      ]
    },
    {
      "cell_type": "code",
      "metadata": {
        "colab": {
          "base_uri": "https://localhost:8080/",
          "height": 279
        },
        "id": "6EFqfaZzUs3d",
        "outputId": "8f0e2a62-3fe9-4d1f-90c2-8bd9fc9e4969"
      },
      "source": [
        "plt.scatter(predr, y_test, c =\"green\" , s = 5) \n",
        "plt.xlabel(\"prediction\") \n",
        "plt.ylabel(\"true value\") \n",
        "plt.show()"
      ],
      "execution_count": null,
      "outputs": [
        {
          "output_type": "display_data",
          "data": {
            "image/png": "[encoded data removed]",
            "text/plain": [
              "<Figure size 432x288 with 1 Axes>"
            ]
          },
          "metadata": {
            "needs_background": "light"
          }
        }
      ]
    },
    {
      "cell_type": "markdown",
      "metadata": {
        "id": "2L4klbG2DVpo"
      },
      "source": [
        "Getting feature importance score from Random Forest"
      ]
    },
    {
      "cell_type": "code",
      "metadata": {
        "colab": {
          "base_uri": "https://localhost:8080/"
        },
        "id": "O0-tYxZ_p1Pf",
        "outputId": "6b796e15-72e6-4ba0-feba-cc44f46b9fd9"
      },
      "source": [
        "regr.feature_importances_"
      ],
      "execution_count": null,
      "outputs": [
        {
          "output_type": "execute_result",
          "data": {
            "text/plain": [
              "array([0.02535439, 0.49462053, 0.03940412, 0.23456461, 0.18334526,\n",
              "       0.02271109])"
            ]
          },
          "metadata": {},
          "execution_count": 73
        }
      ]
    },
    {
      "cell_type": "code",
      "metadata": {
        "id": "aGHseEFpJDou"
      },
      "source": [
        "imp = regr.feature_importances_"
      ],
      "execution_count": null,
      "outputs": []
    },
    {
      "cell_type": "code",
      "metadata": {
        "colab": {
          "base_uri": "https://localhost:8080/",
          "height": 265
        },
        "id": "ysdZ-eEmHU8w",
        "outputId": "cac83a2c-9f5b-426d-924c-7ee4670ff097"
      },
      "source": [
        "plt.plot(imp)\n",
        "plt.show()"
      ],
      "execution_count": null,
      "outputs": [
        {
          "output_type": "display_data",
          "data": {
            "image/png": "[encoded data removed]",
            "text/plain": [
              "<Figure size 432x288 with 1 Axes>"
            ]
          },
          "metadata": {
            "needs_background": "light"
          }
        }
      ]
    },
    {
      "cell_type": "markdown",
      "metadata": {
        "id": "tLQYqDeuFA6X"
      },
      "source": [
        "From the above plot, the features are ranked based on their importance(descending) below :-\n",
        "\n",
        "* RENT\n",
        "* FORECLOSURE\n",
        "* NET MIGRATION RATE\n",
        "* MORTGAGE RATE (%)\n",
        "* BUILDING PERMITS\n",
        "* HCAI\n",
        "\n"
      ]
    },
    {
      "cell_type": "markdown",
      "metadata": {
        "id": "c6lHoEPf-7D2"
      },
      "source": [
        "## 5.5 SVM Regressor"
      ]
    },
    {
      "cell_type": "code",
      "metadata": {
        "id": "hCNpqJglKsBT",
        "colab": {
          "base_uri": "https://localhost:8080/"
        },
        "outputId": "fc4b5ee7-e609-45c4-c415-eb63721d1ae4"
      },
      "source": [
        "from sklearn import svm\n",
        "svm_reg = svm.SVR(kernel='poly',degree=4,C = 1)\n",
        "svm_reg.fit(x_train, y_train)"
      ],
      "execution_count": null,
      "outputs": [
        {
          "output_type": "execute_result",
          "data": {
            "text/plain": [
              "SVR(C=1, cache_size=200, coef0=0.0, degree=4, epsilon=0.1, gamma='scale',\n",
              "    kernel='poly', max_iter=-1, shrinking=True, tol=0.001, verbose=False)"
            ]
          },
          "metadata": {},
          "execution_count": 100
        }
      ]
    },
    {
      "cell_type": "code",
      "metadata": {
        "colab": {
          "base_uri": "https://localhost:8080/"
        },
        "id": "rPfCQI9B_ZaV",
        "outputId": "63f09b0d-e96b-4f29-cfae-5ce664616024"
      },
      "source": [
        "acc = round(svm_reg.score(x_train,y_train)*100,2)\n",
        "#train_pred=model_selection.cross_val_predict(svm_reg,x_train,y_train,cv=10,n_jobs=-1)\n",
        "print(\"Accuracy: %s\" % acc)"
      ],
      "execution_count": null,
      "outputs": [
        {
          "output_type": "stream",
          "name": "stdout",
          "text": [
            "Accuracy: 99.03\n"
          ]
        }
      ]
    },
    {
      "cell_type": "code",
      "metadata": {
        "colab": {
          "base_uri": "https://localhost:8080/"
        },
        "id": "yeY2wed0_bR6",
        "outputId": "c39d8c10-39f2-42c9-de46-46ae88206657"
      },
      "source": [
        "pred_svm = svm_reg.predict(x_test)\n",
        "print(mean_squared_error(pred_svm,y_test))"
      ],
      "execution_count": null,
      "outputs": [
        {
          "output_type": "stream",
          "name": "stdout",
          "text": [
            "12.759907491439087\n"
          ]
        }
      ]
    },
    {
      "cell_type": "code",
      "metadata": {
        "colab": {
          "base_uri": "https://localhost:8080/",
          "height": 279
        },
        "id": "N8qiIDtHAX61",
        "outputId": "8ab1c4e9-56e1-4bb7-e5fe-5a44f6bfeff4"
      },
      "source": [
        "plt.scatter(pred_svm, y_test, c =\"green\" , s = 5) \n",
        "plt.xlabel(\"prediction\") \n",
        "plt.ylabel(\"true value\") \n",
        "plt.show()"
      ],
      "execution_count": null,
      "outputs": [
        {
          "output_type": "display_data",
          "data": {
            "image/png": "[encoded data removed]",
            "text/plain": [
              "<Figure size 432x288 with 1 Axes>"
            ]
          },
          "metadata": {
            "needs_background": "light"
          }
        }
      ]
    },
    {
      "cell_type": "markdown",
      "metadata": {
        "id": "iA2i-tiEIibq"
      },
      "source": [
        "Since SVMs don't have inbuilt feature_importance_ like other algorithms, we'll use permutation feature importance which is a part of sklearn.inspection.\n",
        "\n",
        "The task is simple. The values of all the features are shuffled and the error is calculated. \n",
        "\n",
        "If the error increases on shuffling a feature, it means that feature is important for prediction as our models relies on that feature for prediction.\n",
        "But if there is no change in the model error, then the feature is not important for that model.\n",
        "\n",
        "**Higher the error, more is the importance**"
      ]
    },
    {
      "cell_type": "code",
      "metadata": {
        "colab": {
          "base_uri": "https://localhost:8080/",
          "height": 366
        },
        "id": "SETm3A85Am-k",
        "outputId": "a4f3306d-7c91-4231-c424-f24b9df05fac"
      },
      "source": [
        "from sklearn.inspection import permutation_importance\n",
        "results = permutation_importance(svm_reg, x_train, y_train, scoring='neg_mean_squared_error')\n",
        "# get importance\n",
        "importance = results.importances_mean\n",
        "# summarize feature importance\n",
        "for i,v in enumerate(importance):\n",
        "  print('Feature: %0d, Score: %.5f' % (i,v))\n",
        "# plot feature importance\n",
        "plt.bar([x for x in range(len(importance))], importance)\n",
        "plt.show()"
      ],
      "execution_count": null,
      "outputs": [
        {
          "output_type": "stream",
          "name": "stdout",
          "text": [
            "Feature: 0, Score: 295.81164\n",
            "Feature: 1, Score: 11883.75818\n",
            "Feature: 2, Score: 85.38112\n",
            "Feature: 3, Score: 158.89246\n",
            "Feature: 4, Score: 171.00412\n",
            "Feature: 5, Score: 915.74051\n"
          ]
        },
        {
          "output_type": "display_data",
          "data": {
            "image/png": "[encoded data removed]",
            "text/plain": [
              "<Figure size 432x288 with 1 Axes>"
            ]
          },
          "metadata": {
            "needs_background": "light"
          }
        }
      ]
    },
    {
      "cell_type": "markdown",
      "metadata": {
        "id": "qAA39yk0K1am"
      },
      "source": [
        "From the above plot, the features are ranked based on their importance(descending) below :-\n",
        "\n",
        "* RENT\n",
        "* HCAI\n",
        "* BUILDING PERMITS\n",
        "* NET MIGRATION RATE\n",
        "* FORECLOSURE\n",
        "* MORTGAGE RATE (%)\n",
        "\n",
        "\n"
      ]
    }
  ]
}