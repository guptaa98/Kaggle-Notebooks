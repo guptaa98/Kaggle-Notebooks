{
 "cells": [
  {
   "cell_type": "code",
   "execution_count": 1,
   "metadata": {},
   "outputs": [],
   "source": [
    "%matplotlib inline\n",
    "#data manipulation\n",
    "import numpy as np\n",
    "import pandas as pd\n",
    "#python imports\n",
    "import math,time,random,datetime\n",
    "#data visualisation\n",
    "import matplotlib.pyplot as plt\n",
    "import missingno\n",
    "import seaborn as sns\n",
    "plt.style.use('seaborn-whitegrid')\n",
    "#preprocessing\n",
    "from sklearn.preprocessing import Normalizer\n",
    "from sklearn.preprocessing import OneHotEncoder, LabelEncoder, label_binarize\n",
    "#machine learning\n",
    "from sklearn.model_selection import train_test_split\n",
    "from sklearn import model_selection,tree,preprocessing,metrics\n",
    "from sklearn.metrics import mean_squared_error\n",
    "#from sklearn.ensemble import GradientBoostingClassifier\n",
    "import warnings\n",
    "warnings.filterwarnings(\"ignore\")"
   ]
  },
  {
   "cell_type": "code",
   "execution_count": 2,
   "metadata": {},
   "outputs": [],
   "source": [
    "df = pd.read_csv('50000 Sales Records.csv')"
   ]
  },
  {
   "cell_type": "code",
   "execution_count": 3,
   "metadata": {},
   "outputs": [
    {
     "data": {
      "text/html": [
       "<div>\n",
       "<style scoped>\n",
       "    .dataframe tbody tr th:only-of-type {\n",
       "        vertical-align: middle;\n",
       "    }\n",
       "\n",
       "    .dataframe tbody tr th {\n",
       "        vertical-align: top;\n",
       "    }\n",
       "\n",
       "    .dataframe thead th {\n",
       "        text-align: right;\n",
       "    }\n",
       "</style>\n",
       "<table border=\"1\" class=\"dataframe\">\n",
       "  <thead>\n",
       "    <tr style=\"text-align: right;\">\n",
       "      <th></th>\n",
       "      <th>Region</th>\n",
       "      <th>Country</th>\n",
       "      <th>Item Type</th>\n",
       "      <th>Sales Channel</th>\n",
       "      <th>Order Priority</th>\n",
       "      <th>Order Date</th>\n",
       "      <th>Order ID</th>\n",
       "      <th>Ship Date</th>\n",
       "      <th>Units Sold</th>\n",
       "      <th>Unit Price</th>\n",
       "      <th>Unit Cost</th>\n",
       "      <th>Total Revenue</th>\n",
       "      <th>Total Cost</th>\n",
       "      <th>Total Profit</th>\n",
       "    </tr>\n",
       "  </thead>\n",
       "  <tbody>\n",
       "    <tr>\n",
       "      <th>0</th>\n",
       "      <td>Sub-Saharan Africa</td>\n",
       "      <td>Namibia</td>\n",
       "      <td>Household</td>\n",
       "      <td>Offline</td>\n",
       "      <td>M</td>\n",
       "      <td>8/31/2015</td>\n",
       "      <td>897751939</td>\n",
       "      <td>10/12/2015</td>\n",
       "      <td>3604</td>\n",
       "      <td>668.27</td>\n",
       "      <td>502.54</td>\n",
       "      <td>2408445.08</td>\n",
       "      <td>1811154.16</td>\n",
       "      <td>597290.92</td>\n",
       "    </tr>\n",
       "    <tr>\n",
       "      <th>1</th>\n",
       "      <td>Europe</td>\n",
       "      <td>Iceland</td>\n",
       "      <td>Baby Food</td>\n",
       "      <td>Online</td>\n",
       "      <td>H</td>\n",
       "      <td>11/20/2010</td>\n",
       "      <td>599480426</td>\n",
       "      <td>1/9/2011</td>\n",
       "      <td>8435</td>\n",
       "      <td>255.28</td>\n",
       "      <td>159.42</td>\n",
       "      <td>2153286.80</td>\n",
       "      <td>1344707.70</td>\n",
       "      <td>808579.10</td>\n",
       "    </tr>\n",
       "    <tr>\n",
       "      <th>2</th>\n",
       "      <td>Europe</td>\n",
       "      <td>Russia</td>\n",
       "      <td>Meat</td>\n",
       "      <td>Online</td>\n",
       "      <td>L</td>\n",
       "      <td>6/22/2017</td>\n",
       "      <td>538911855</td>\n",
       "      <td>6/25/2017</td>\n",
       "      <td>4848</td>\n",
       "      <td>421.89</td>\n",
       "      <td>364.69</td>\n",
       "      <td>2045322.72</td>\n",
       "      <td>1768017.12</td>\n",
       "      <td>277305.60</td>\n",
       "    </tr>\n",
       "    <tr>\n",
       "      <th>3</th>\n",
       "      <td>Europe</td>\n",
       "      <td>Moldova</td>\n",
       "      <td>Meat</td>\n",
       "      <td>Online</td>\n",
       "      <td>L</td>\n",
       "      <td>2/28/2012</td>\n",
       "      <td>459845054</td>\n",
       "      <td>3/20/2012</td>\n",
       "      <td>7225</td>\n",
       "      <td>421.89</td>\n",
       "      <td>364.69</td>\n",
       "      <td>3048155.25</td>\n",
       "      <td>2634885.25</td>\n",
       "      <td>413270.00</td>\n",
       "    </tr>\n",
       "    <tr>\n",
       "      <th>4</th>\n",
       "      <td>Europe</td>\n",
       "      <td>Malta</td>\n",
       "      <td>Cereal</td>\n",
       "      <td>Online</td>\n",
       "      <td>M</td>\n",
       "      <td>8/12/2010</td>\n",
       "      <td>626391351</td>\n",
       "      <td>9/13/2010</td>\n",
       "      <td>1975</td>\n",
       "      <td>205.70</td>\n",
       "      <td>117.11</td>\n",
       "      <td>406257.50</td>\n",
       "      <td>231292.25</td>\n",
       "      <td>174965.25</td>\n",
       "    </tr>\n",
       "  </tbody>\n",
       "</table>\n",
       "</div>"
      ],
      "text/plain": [
       "               Region   Country  Item Type Sales Channel Order Priority  \\\n",
       "0  Sub-Saharan Africa   Namibia  Household       Offline              M   \n",
       "1              Europe   Iceland  Baby Food        Online              H   \n",
       "2              Europe    Russia       Meat        Online              L   \n",
       "3              Europe  Moldova        Meat        Online              L   \n",
       "4              Europe     Malta     Cereal        Online              M   \n",
       "\n",
       "   Order Date   Order ID   Ship Date  Units Sold  Unit Price  Unit Cost  \\\n",
       "0   8/31/2015  897751939  10/12/2015        3604      668.27     502.54   \n",
       "1  11/20/2010  599480426    1/9/2011        8435      255.28     159.42   \n",
       "2   6/22/2017  538911855   6/25/2017        4848      421.89     364.69   \n",
       "3   2/28/2012  459845054   3/20/2012        7225      421.89     364.69   \n",
       "4   8/12/2010  626391351   9/13/2010        1975      205.70     117.11   \n",
       "\n",
       "   Total Revenue  Total Cost  Total Profit  \n",
       "0     2408445.08  1811154.16     597290.92  \n",
       "1     2153286.80  1344707.70     808579.10  \n",
       "2     2045322.72  1768017.12     277305.60  \n",
       "3     3048155.25  2634885.25     413270.00  \n",
       "4      406257.50   231292.25     174965.25  "
      ]
     },
     "execution_count": 3,
     "metadata": {},
     "output_type": "execute_result"
    }
   ],
   "source": [
    "df.head()"
   ]
  },
  {
   "cell_type": "code",
   "execution_count": 4,
   "metadata": {},
   "outputs": [
    {
     "data": {
      "text/plain": [
       "50000"
      ]
     },
     "execution_count": 4,
     "metadata": {},
     "output_type": "execute_result"
    }
   ],
   "source": [
    "len(df)"
   ]
  },
  {
   "cell_type": "code",
   "execution_count": 5,
   "metadata": {},
   "outputs": [
    {
     "data": {
      "text/html": [
       "<div>\n",
       "<style scoped>\n",
       "    .dataframe tbody tr th:only-of-type {\n",
       "        vertical-align: middle;\n",
       "    }\n",
       "\n",
       "    .dataframe tbody tr th {\n",
       "        vertical-align: top;\n",
       "    }\n",
       "\n",
       "    .dataframe thead th {\n",
       "        text-align: right;\n",
       "    }\n",
       "</style>\n",
       "<table border=\"1\" class=\"dataframe\">\n",
       "  <thead>\n",
       "    <tr style=\"text-align: right;\">\n",
       "      <th></th>\n",
       "      <th>Order ID</th>\n",
       "      <th>Units Sold</th>\n",
       "      <th>Unit Price</th>\n",
       "      <th>Unit Cost</th>\n",
       "      <th>Total Revenue</th>\n",
       "      <th>Total Cost</th>\n",
       "      <th>Total Profit</th>\n",
       "    </tr>\n",
       "  </thead>\n",
       "  <tbody>\n",
       "    <tr>\n",
       "      <th>count</th>\n",
       "      <td>5.000000e+04</td>\n",
       "      <td>50000.00000</td>\n",
       "      <td>50000.000000</td>\n",
       "      <td>50000.000000</td>\n",
       "      <td>5.000000e+04</td>\n",
       "      <td>5.000000e+04</td>\n",
       "      <td>5.000000e+04</td>\n",
       "    </tr>\n",
       "    <tr>\n",
       "      <th>mean</th>\n",
       "      <td>5.497330e+08</td>\n",
       "      <td>4999.61898</td>\n",
       "      <td>265.651350</td>\n",
       "      <td>187.322482</td>\n",
       "      <td>1.323716e+06</td>\n",
       "      <td>9.331574e+05</td>\n",
       "      <td>3.905587e+05</td>\n",
       "    </tr>\n",
       "    <tr>\n",
       "      <th>std</th>\n",
       "      <td>2.609179e+08</td>\n",
       "      <td>2884.33508</td>\n",
       "      <td>216.916752</td>\n",
       "      <td>175.580570</td>\n",
       "      <td>1.463891e+06</td>\n",
       "      <td>1.145548e+06</td>\n",
       "      <td>3.777588e+05</td>\n",
       "    </tr>\n",
       "    <tr>\n",
       "      <th>min</th>\n",
       "      <td>1.000132e+08</td>\n",
       "      <td>1.00000</td>\n",
       "      <td>9.330000</td>\n",
       "      <td>6.920000</td>\n",
       "      <td>2.799000e+01</td>\n",
       "      <td>2.076000e+01</td>\n",
       "      <td>7.230000e+00</td>\n",
       "    </tr>\n",
       "    <tr>\n",
       "      <th>25%</th>\n",
       "      <td>3.240070e+08</td>\n",
       "      <td>2498.00000</td>\n",
       "      <td>81.730000</td>\n",
       "      <td>35.840000</td>\n",
       "      <td>2.764871e+05</td>\n",
       "      <td>1.606370e+05</td>\n",
       "      <td>9.415092e+04</td>\n",
       "    </tr>\n",
       "    <tr>\n",
       "      <th>50%</th>\n",
       "      <td>5.504224e+08</td>\n",
       "      <td>5017.50000</td>\n",
       "      <td>154.060000</td>\n",
       "      <td>97.440000</td>\n",
       "      <td>7.813247e+05</td>\n",
       "      <td>4.671040e+05</td>\n",
       "      <td>2.795364e+05</td>\n",
       "    </tr>\n",
       "    <tr>\n",
       "      <th>75%</th>\n",
       "      <td>7.767824e+08</td>\n",
       "      <td>7493.25000</td>\n",
       "      <td>421.890000</td>\n",
       "      <td>263.330000</td>\n",
       "      <td>1.808642e+06</td>\n",
       "      <td>1.190390e+06</td>\n",
       "      <td>5.642867e+05</td>\n",
       "    </tr>\n",
       "    <tr>\n",
       "      <th>max</th>\n",
       "      <td>9.999995e+08</td>\n",
       "      <td>10000.00000</td>\n",
       "      <td>668.270000</td>\n",
       "      <td>524.960000</td>\n",
       "      <td>6.682032e+06</td>\n",
       "      <td>5.249075e+06</td>\n",
       "      <td>1.738178e+06</td>\n",
       "    </tr>\n",
       "  </tbody>\n",
       "</table>\n",
       "</div>"
      ],
      "text/plain": [
       "           Order ID   Units Sold    Unit Price     Unit Cost  Total Revenue  \\\n",
       "count  5.000000e+04  50000.00000  50000.000000  50000.000000   5.000000e+04   \n",
       "mean   5.497330e+08   4999.61898    265.651350    187.322482   1.323716e+06   \n",
       "std    2.609179e+08   2884.33508    216.916752    175.580570   1.463891e+06   \n",
       "min    1.000132e+08      1.00000      9.330000      6.920000   2.799000e+01   \n",
       "25%    3.240070e+08   2498.00000     81.730000     35.840000   2.764871e+05   \n",
       "50%    5.504224e+08   5017.50000    154.060000     97.440000   7.813247e+05   \n",
       "75%    7.767824e+08   7493.25000    421.890000    263.330000   1.808642e+06   \n",
       "max    9.999995e+08  10000.00000    668.270000    524.960000   6.682032e+06   \n",
       "\n",
       "         Total Cost  Total Profit  \n",
       "count  5.000000e+04  5.000000e+04  \n",
       "mean   9.331574e+05  3.905587e+05  \n",
       "std    1.145548e+06  3.777588e+05  \n",
       "min    2.076000e+01  7.230000e+00  \n",
       "25%    1.606370e+05  9.415092e+04  \n",
       "50%    4.671040e+05  2.795364e+05  \n",
       "75%    1.190390e+06  5.642867e+05  \n",
       "max    5.249075e+06  1.738178e+06  "
      ]
     },
     "execution_count": 5,
     "metadata": {},
     "output_type": "execute_result"
    }
   ],
   "source": [
    "df.describe()"
   ]
  },
  {
   "cell_type": "code",
   "execution_count": 6,
   "metadata": {},
   "outputs": [
    {
     "data": {
      "text/html": [
       "<div>\n",
       "<style scoped>\n",
       "    .dataframe tbody tr th:only-of-type {\n",
       "        vertical-align: middle;\n",
       "    }\n",
       "\n",
       "    .dataframe tbody tr th {\n",
       "        vertical-align: top;\n",
       "    }\n",
       "\n",
       "    .dataframe thead th {\n",
       "        text-align: right;\n",
       "    }\n",
       "</style>\n",
       "<table border=\"1\" class=\"dataframe\">\n",
       "  <thead>\n",
       "    <tr style=\"text-align: right;\">\n",
       "      <th></th>\n",
       "      <th>Region</th>\n",
       "      <th>Country</th>\n",
       "      <th>Item Type</th>\n",
       "      <th>Sales Channel</th>\n",
       "      <th>Order Priority</th>\n",
       "      <th>Order Date</th>\n",
       "      <th>Order ID</th>\n",
       "      <th>Ship Date</th>\n",
       "      <th>Units Sold</th>\n",
       "      <th>Unit Price</th>\n",
       "      <th>Unit Cost</th>\n",
       "      <th>Total Revenue</th>\n",
       "      <th>Total Cost</th>\n",
       "      <th>Total Profit</th>\n",
       "    </tr>\n",
       "  </thead>\n",
       "  <tbody>\n",
       "    <tr>\n",
       "      <th>0</th>\n",
       "      <td>Sub-Saharan Africa</td>\n",
       "      <td>Namibia</td>\n",
       "      <td>Household</td>\n",
       "      <td>Offline</td>\n",
       "      <td>M</td>\n",
       "      <td>8/31/2015</td>\n",
       "      <td>897751939</td>\n",
       "      <td>10/12/2015</td>\n",
       "      <td>3604</td>\n",
       "      <td>668.27</td>\n",
       "      <td>502.54</td>\n",
       "      <td>2408445.08</td>\n",
       "      <td>1811154.16</td>\n",
       "      <td>597290.92</td>\n",
       "    </tr>\n",
       "    <tr>\n",
       "      <th>1</th>\n",
       "      <td>Europe</td>\n",
       "      <td>Iceland</td>\n",
       "      <td>Baby Food</td>\n",
       "      <td>Online</td>\n",
       "      <td>H</td>\n",
       "      <td>11/20/2010</td>\n",
       "      <td>599480426</td>\n",
       "      <td>1/9/2011</td>\n",
       "      <td>8435</td>\n",
       "      <td>255.28</td>\n",
       "      <td>159.42</td>\n",
       "      <td>2153286.80</td>\n",
       "      <td>1344707.70</td>\n",
       "      <td>808579.10</td>\n",
       "    </tr>\n",
       "    <tr>\n",
       "      <th>2</th>\n",
       "      <td>Europe</td>\n",
       "      <td>Russia</td>\n",
       "      <td>Meat</td>\n",
       "      <td>Online</td>\n",
       "      <td>L</td>\n",
       "      <td>6/22/2017</td>\n",
       "      <td>538911855</td>\n",
       "      <td>6/25/2017</td>\n",
       "      <td>4848</td>\n",
       "      <td>421.89</td>\n",
       "      <td>364.69</td>\n",
       "      <td>2045322.72</td>\n",
       "      <td>1768017.12</td>\n",
       "      <td>277305.60</td>\n",
       "    </tr>\n",
       "    <tr>\n",
       "      <th>3</th>\n",
       "      <td>Europe</td>\n",
       "      <td>Moldova</td>\n",
       "      <td>Meat</td>\n",
       "      <td>Online</td>\n",
       "      <td>L</td>\n",
       "      <td>2/28/2012</td>\n",
       "      <td>459845054</td>\n",
       "      <td>3/20/2012</td>\n",
       "      <td>7225</td>\n",
       "      <td>421.89</td>\n",
       "      <td>364.69</td>\n",
       "      <td>3048155.25</td>\n",
       "      <td>2634885.25</td>\n",
       "      <td>413270.00</td>\n",
       "    </tr>\n",
       "    <tr>\n",
       "      <th>4</th>\n",
       "      <td>Europe</td>\n",
       "      <td>Malta</td>\n",
       "      <td>Cereal</td>\n",
       "      <td>Online</td>\n",
       "      <td>M</td>\n",
       "      <td>8/12/2010</td>\n",
       "      <td>626391351</td>\n",
       "      <td>9/13/2010</td>\n",
       "      <td>1975</td>\n",
       "      <td>205.70</td>\n",
       "      <td>117.11</td>\n",
       "      <td>406257.50</td>\n",
       "      <td>231292.25</td>\n",
       "      <td>174965.25</td>\n",
       "    </tr>\n",
       "  </tbody>\n",
       "</table>\n",
       "</div>"
      ],
      "text/plain": [
       "               Region   Country  Item Type Sales Channel Order Priority  \\\n",
       "0  Sub-Saharan Africa   Namibia  Household       Offline              M   \n",
       "1              Europe   Iceland  Baby Food        Online              H   \n",
       "2              Europe    Russia       Meat        Online              L   \n",
       "3              Europe  Moldova        Meat        Online              L   \n",
       "4              Europe     Malta     Cereal        Online              M   \n",
       "\n",
       "   Order Date   Order ID   Ship Date  Units Sold  Unit Price  Unit Cost  \\\n",
       "0   8/31/2015  897751939  10/12/2015        3604      668.27     502.54   \n",
       "1  11/20/2010  599480426    1/9/2011        8435      255.28     159.42   \n",
       "2   6/22/2017  538911855   6/25/2017        4848      421.89     364.69   \n",
       "3   2/28/2012  459845054   3/20/2012        7225      421.89     364.69   \n",
       "4   8/12/2010  626391351   9/13/2010        1975      205.70     117.11   \n",
       "\n",
       "   Total Revenue  Total Cost  Total Profit  \n",
       "0     2408445.08  1811154.16     597290.92  \n",
       "1     2153286.80  1344707.70     808579.10  \n",
       "2     2045322.72  1768017.12     277305.60  \n",
       "3     3048155.25  2634885.25     413270.00  \n",
       "4      406257.50   231292.25     174965.25  "
      ]
     },
     "execution_count": 6,
     "metadata": {},
     "output_type": "execute_result"
    }
   ],
   "source": [
    "x = pd.DataFrame()\n",
    "x = df\n",
    "x.head()"
   ]
  },
  {
   "cell_type": "code",
   "execution_count": 8,
   "metadata": {},
   "outputs": [
    {
     "data": {
      "text/plain": [
       "<matplotlib.axes._subplots.AxesSubplot at 0x2ab59f442e0>"
      ]
     },
     "execution_count": 8,
     "metadata": {},
     "output_type": "execute_result"
    },
    {
     "data": {
      "image/png": "[encoded data removed]",
      "text/plain": [
       "<Figure size 2160x720 with 2 Axes>"
      ]
     },
     "metadata": {},
     "output_type": "display_data"
    }
   ],
   "source": [
    "missingno.matrix(df, figsize=(30,10))"
   ]
  },
  {
   "cell_type": "code",
   "execution_count": 9,
   "metadata": {},
   "outputs": [
    {
     "data": {
      "text/plain": [
       "Index(['Region', 'Country', 'Item Type', 'Sales Channel', 'Order Priority',\n",
       "       'Order Date', 'Order ID', 'Ship Date', 'Units Sold', 'Unit Price',\n",
       "       'Unit Cost', 'Total Revenue', 'Total Cost', 'Total Profit'],\n",
       "      dtype='object')"
      ]
     },
     "execution_count": 9,
     "metadata": {},
     "output_type": "execute_result"
    }
   ],
   "source": [
    "x.columns"
   ]
  },
  {
   "cell_type": "code",
   "execution_count": 10,
   "metadata": {},
   "outputs": [
    {
     "data": {
      "text/plain": [
       "Sub-Saharan Africa                   13116\n",
       "Europe                               12841\n",
       "Asia                                  7348\n",
       "Middle East and North Africa          6128\n",
       "Central America and the Caribbean     5451\n",
       "Australia and Oceania                 4017\n",
       "North America                         1099\n",
       "Name: Region, dtype: int64"
      ]
     },
     "execution_count": 10,
     "metadata": {},
     "output_type": "execute_result"
    }
   ],
   "source": [
    "x.Region.value_counts()"
   ]
  },
  {
   "cell_type": "code",
   "execution_count": 11,
   "metadata": {},
   "outputs": [
    {
     "name": "stdout",
     "output_type": "stream",
     "text": [
      "Sub-Saharan Africa                   13116\n",
      "Europe                               12841\n",
      "Asia                                  7348\n",
      "Middle East and North Africa          6128\n",
      "Central America and the Caribbean     5451\n",
      "Australia and Oceania                 4017\n",
      "North America                         1099\n",
      "Name: Region, dtype: int64\n"
     ]
    },
    {
     "data": {
      "image/png": "[encoded data removed]",
      "text/plain": [
       "<Figure size 1440x360 with 1 Axes>"
      ]
     },
     "metadata": {},
     "output_type": "display_data"
    }
   ],
   "source": [
    "fig=plt.figure(figsize=(20,5))\n",
    "sns.countplot(y='Region',data=x);\n",
    "print(x.Region.value_counts())"
   ]
  },
  {
   "cell_type": "code",
   "execution_count": 12,
   "metadata": {},
   "outputs": [
    {
     "data": {
      "text/plain": [
       "Trinidad and Tobago    321\n",
       "Guinea                 318\n",
       "Cape Verde             315\n",
       "Maldives               311\n",
       "Finland                310\n",
       "                      ... \n",
       "Yemen                  238\n",
       "Iran                   238\n",
       "Armenia                237\n",
       "Monaco                 236\n",
       "Malawi                 233\n",
       "Name: Country, Length: 185, dtype: int64"
      ]
     },
     "execution_count": 12,
     "metadata": {},
     "output_type": "execute_result"
    }
   ],
   "source": [
    "x.Country.value_counts()"
   ]
  },
  {
   "cell_type": "code",
   "execution_count": 13,
   "metadata": {},
   "outputs": [
    {
     "name": "stdout",
     "output_type": "stream",
     "text": [
      "Trinidad and Tobago    321\n",
      "Guinea                 318\n",
      "Cape Verde             315\n",
      "Maldives               311\n",
      "Finland                310\n",
      "                      ... \n",
      "Yemen                  238\n",
      "Iran                   238\n",
      "Armenia                237\n",
      "Monaco                 236\n",
      "Malawi                 233\n",
      "Name: Country, Length: 185, dtype: int64\n"
     ]
    },
    {
     "data": {
      "image/png": "[encoded data removed]",
      "text/plain": [
       "<Figure size 1440x720 with 1 Axes>"
      ]
     },
     "metadata": {},
     "output_type": "display_data"
    }
   ],
   "source": [
    "fig=plt.figure(figsize=(20,10))\n",
    "sns.countplot(y='Country',data=x);\n",
    "print(x.Country.value_counts())"
   ]
  },
  {
   "cell_type": "code",
   "execution_count": 14,
   "metadata": {},
   "outputs": [
    {
     "data": {
      "text/plain": [
       "Online     25034\n",
       "Offline    24966\n",
       "Name: Sales Channel, dtype: int64"
      ]
     },
     "execution_count": 14,
     "metadata": {},
     "output_type": "execute_result"
    }
   ],
   "source": [
    "x['Sales Channel'].value_counts()"
   ]
  },
  {
   "cell_type": "code",
   "execution_count": 15,
   "metadata": {},
   "outputs": [
    {
     "name": "stdout",
     "output_type": "stream",
     "text": [
      "Online     25034\n",
      "Offline    24966\n",
      "Name: Sales Channel, dtype: int64\n"
     ]
    },
    {
     "data": {
      "image/png": "[encoded data removed]",
      "text/plain": [
       "<Figure size 1440x144 with 1 Axes>"
      ]
     },
     "metadata": {},
     "output_type": "display_data"
    }
   ],
   "source": [
    "fig=plt.figure(figsize=(20,2))\n",
    "sns.countplot(y='Sales Channel',data=x);\n",
    "print(x['Sales Channel'].value_counts())"
   ]
  },
  {
   "cell_type": "code",
   "execution_count": 16,
   "metadata": {},
   "outputs": [
    {
     "data": {
      "text/plain": [
       "L    12588\n",
       "M    12495\n",
       "H    12471\n",
       "C    12446\n",
       "Name: Order Priority, dtype: int64"
      ]
     },
     "execution_count": 16,
     "metadata": {},
     "output_type": "execute_result"
    }
   ],
   "source": [
    "x['Order Priority'].value_counts()         # l-Low, M-Medium, H-High, C-Critical"
   ]
  },
  {
   "cell_type": "code",
   "execution_count": 17,
   "metadata": {},
   "outputs": [
    {
     "name": "stdout",
     "output_type": "stream",
     "text": [
      "L    12588\n",
      "M    12495\n",
      "H    12471\n",
      "C    12446\n",
      "Name: Order Priority, dtype: int64\n"
     ]
    },
    {
     "data": {
      "image/png": "[encoded data removed]",
      "text/plain": [
       "<Figure size 1440x144 with 1 Axes>"
      ]
     },
     "metadata": {},
     "output_type": "display_data"
    }
   ],
   "source": [
    "fig=plt.figure(figsize=(20,2))\n",
    "sns.countplot(y='Order Priority',data=x);\n",
    "print(x['Order Priority'].value_counts())"
   ]
  },
  {
   "cell_type": "code",
   "execution_count": 18,
   "metadata": {},
   "outputs": [
    {
     "data": {
      "text/plain": [
       "Meat               4221\n",
       "Fruits             4221\n",
       "Cosmetics          4193\n",
       "Vegetables         4191\n",
       "Personal Care      4186\n",
       "Beverages          4173\n",
       "Snacks             4163\n",
       "Clothes            4155\n",
       "Cereal             4141\n",
       "Office Supplies    4139\n",
       "Household          4139\n",
       "Baby Food          4078\n",
       "Name: Item Type, dtype: int64"
      ]
     },
     "execution_count": 18,
     "metadata": {},
     "output_type": "execute_result"
    }
   ],
   "source": [
    "x['Item Type'].value_counts()"
   ]
  },
  {
   "cell_type": "code",
   "execution_count": 19,
   "metadata": {},
   "outputs": [
    {
     "name": "stdout",
     "output_type": "stream",
     "text": [
      "Meat               4221\n",
      "Fruits             4221\n",
      "Cosmetics          4193\n",
      "Vegetables         4191\n",
      "Personal Care      4186\n",
      "Beverages          4173\n",
      "Snacks             4163\n",
      "Clothes            4155\n",
      "Cereal             4141\n",
      "Office Supplies    4139\n",
      "Household          4139\n",
      "Baby Food          4078\n",
      "Name: Item Type, dtype: int64\n"
     ]
    },
    {
     "data": {
      "image/png": "[encoded data removed]",
      "text/plain": [
       "<Figure size 1440x360 with 1 Axes>"
      ]
     },
     "metadata": {},
     "output_type": "display_data"
    }
   ],
   "source": [
    "fig=plt.figure(figsize=(20,5))\n",
    "sns.countplot(y='Item Type',data=x);\n",
    "print(x['Item Type'].value_counts())"
   ]
  },
  {
   "cell_type": "code",
   "execution_count": 20,
   "metadata": {},
   "outputs": [
    {
     "data": {
      "text/html": [
       "<div>\n",
       "<style scoped>\n",
       "    .dataframe tbody tr th:only-of-type {\n",
       "        vertical-align: middle;\n",
       "    }\n",
       "\n",
       "    .dataframe tbody tr th {\n",
       "        vertical-align: top;\n",
       "    }\n",
       "\n",
       "    .dataframe thead th {\n",
       "        text-align: right;\n",
       "    }\n",
       "</style>\n",
       "<table border=\"1\" class=\"dataframe\">\n",
       "  <thead>\n",
       "    <tr style=\"text-align: right;\">\n",
       "      <th></th>\n",
       "      <th>Region</th>\n",
       "      <th>Country</th>\n",
       "      <th>Item Type</th>\n",
       "      <th>Sales Channel</th>\n",
       "      <th>Order Priority</th>\n",
       "      <th>Order Date</th>\n",
       "      <th>Order ID</th>\n",
       "      <th>Ship Date</th>\n",
       "      <th>Units Sold</th>\n",
       "      <th>Unit Price</th>\n",
       "      <th>Unit Cost</th>\n",
       "      <th>Total Revenue</th>\n",
       "      <th>Total Cost</th>\n",
       "      <th>Total Profit</th>\n",
       "    </tr>\n",
       "  </thead>\n",
       "  <tbody>\n",
       "    <tr>\n",
       "      <th>0</th>\n",
       "      <td>Sub-Saharan Africa</td>\n",
       "      <td>Namibia</td>\n",
       "      <td>Household</td>\n",
       "      <td>Offline</td>\n",
       "      <td>M</td>\n",
       "      <td>8/31/2015</td>\n",
       "      <td>897751939</td>\n",
       "      <td>10/12/2015</td>\n",
       "      <td>3604</td>\n",
       "      <td>668.27</td>\n",
       "      <td>502.54</td>\n",
       "      <td>2408445.08</td>\n",
       "      <td>1811154.16</td>\n",
       "      <td>597290.92</td>\n",
       "    </tr>\n",
       "    <tr>\n",
       "      <th>1</th>\n",
       "      <td>Europe</td>\n",
       "      <td>Iceland</td>\n",
       "      <td>Baby Food</td>\n",
       "      <td>Online</td>\n",
       "      <td>H</td>\n",
       "      <td>11/20/2010</td>\n",
       "      <td>599480426</td>\n",
       "      <td>1/9/2011</td>\n",
       "      <td>8435</td>\n",
       "      <td>255.28</td>\n",
       "      <td>159.42</td>\n",
       "      <td>2153286.80</td>\n",
       "      <td>1344707.70</td>\n",
       "      <td>808579.10</td>\n",
       "    </tr>\n",
       "    <tr>\n",
       "      <th>2</th>\n",
       "      <td>Europe</td>\n",
       "      <td>Russia</td>\n",
       "      <td>Meat</td>\n",
       "      <td>Online</td>\n",
       "      <td>L</td>\n",
       "      <td>6/22/2017</td>\n",
       "      <td>538911855</td>\n",
       "      <td>6/25/2017</td>\n",
       "      <td>4848</td>\n",
       "      <td>421.89</td>\n",
       "      <td>364.69</td>\n",
       "      <td>2045322.72</td>\n",
       "      <td>1768017.12</td>\n",
       "      <td>277305.60</td>\n",
       "    </tr>\n",
       "    <tr>\n",
       "      <th>3</th>\n",
       "      <td>Europe</td>\n",
       "      <td>Moldova</td>\n",
       "      <td>Meat</td>\n",
       "      <td>Online</td>\n",
       "      <td>L</td>\n",
       "      <td>2/28/2012</td>\n",
       "      <td>459845054</td>\n",
       "      <td>3/20/2012</td>\n",
       "      <td>7225</td>\n",
       "      <td>421.89</td>\n",
       "      <td>364.69</td>\n",
       "      <td>3048155.25</td>\n",
       "      <td>2634885.25</td>\n",
       "      <td>413270.00</td>\n",
       "    </tr>\n",
       "    <tr>\n",
       "      <th>4</th>\n",
       "      <td>Europe</td>\n",
       "      <td>Malta</td>\n",
       "      <td>Cereal</td>\n",
       "      <td>Online</td>\n",
       "      <td>M</td>\n",
       "      <td>8/12/2010</td>\n",
       "      <td>626391351</td>\n",
       "      <td>9/13/2010</td>\n",
       "      <td>1975</td>\n",
       "      <td>205.70</td>\n",
       "      <td>117.11</td>\n",
       "      <td>406257.50</td>\n",
       "      <td>231292.25</td>\n",
       "      <td>174965.25</td>\n",
       "    </tr>\n",
       "  </tbody>\n",
       "</table>\n",
       "</div>"
      ],
      "text/plain": [
       "               Region   Country  Item Type Sales Channel Order Priority  \\\n",
       "0  Sub-Saharan Africa   Namibia  Household       Offline              M   \n",
       "1              Europe   Iceland  Baby Food        Online              H   \n",
       "2              Europe    Russia       Meat        Online              L   \n",
       "3              Europe  Moldova        Meat        Online              L   \n",
       "4              Europe     Malta     Cereal        Online              M   \n",
       "\n",
       "   Order Date   Order ID   Ship Date  Units Sold  Unit Price  Unit Cost  \\\n",
       "0   8/31/2015  897751939  10/12/2015        3604      668.27     502.54   \n",
       "1  11/20/2010  599480426    1/9/2011        8435      255.28     159.42   \n",
       "2   6/22/2017  538911855   6/25/2017        4848      421.89     364.69   \n",
       "3   2/28/2012  459845054   3/20/2012        7225      421.89     364.69   \n",
       "4   8/12/2010  626391351   9/13/2010        1975      205.70     117.11   \n",
       "\n",
       "   Total Revenue  Total Cost  Total Profit  \n",
       "0     2408445.08  1811154.16     597290.92  \n",
       "1     2153286.80  1344707.70     808579.10  \n",
       "2     2045322.72  1768017.12     277305.60  \n",
       "3     3048155.25  2634885.25     413270.00  \n",
       "4      406257.50   231292.25     174965.25  "
      ]
     },
     "execution_count": 20,
     "metadata": {},
     "output_type": "execute_result"
    }
   ],
   "source": [
    "x.head()"
   ]
  },
  {
   "cell_type": "code",
   "execution_count": 21,
   "metadata": {},
   "outputs": [
    {
     "data": {
      "text/plain": [
       "784031856    1\n",
       "115453279    1\n",
       "745377147    1\n",
       "854558074    1\n",
       "518488442    1\n",
       "            ..\n",
       "770372331    1\n",
       "341703402    1\n",
       "941263806    1\n",
       "296584784    1\n",
       "934545409    1\n",
       "Name: Order ID, Length: 50000, dtype: int64"
      ]
     },
     "execution_count": 21,
     "metadata": {},
     "output_type": "execute_result"
    }
   ],
   "source": [
    "x['Order ID'].value_counts()"
   ]
  },
  {
   "cell_type": "code",
   "execution_count": 22,
   "metadata": {},
   "outputs": [
    {
     "data": {
      "text/plain": [
       "<matplotlib.axes._subplots.AxesSubplot at 0x2ab58d13a60>"
      ]
     },
     "execution_count": 22,
     "metadata": {},
     "output_type": "execute_result"
    },
    {
     "data": {
      "image/png": "[encoded data removed]",
      "text/plain": [
       "<Figure size 432x288 with 1 Axes>"
      ]
     },
     "metadata": {},
     "output_type": "display_data"
    }
   ],
   "source": [
    "plt.figure()\n",
    "x['Order ID'].diff().hist(color='b', alpha=0.5, bins=30)"
   ]
  },
  {
   "cell_type": "code",
   "execution_count": 23,
   "metadata": {},
   "outputs": [
    {
     "data": {
      "text/html": [
       "<div>\n",
       "<style scoped>\n",
       "    .dataframe tbody tr th:only-of-type {\n",
       "        vertical-align: middle;\n",
       "    }\n",
       "\n",
       "    .dataframe tbody tr th {\n",
       "        vertical-align: top;\n",
       "    }\n",
       "\n",
       "    .dataframe thead th {\n",
       "        text-align: right;\n",
       "    }\n",
       "</style>\n",
       "<table border=\"1\" class=\"dataframe\">\n",
       "  <thead>\n",
       "    <tr style=\"text-align: right;\">\n",
       "      <th></th>\n",
       "      <th>Region</th>\n",
       "      <th>Country</th>\n",
       "      <th>Item Type</th>\n",
       "      <th>Sales Channel</th>\n",
       "      <th>Order Priority</th>\n",
       "      <th>Order Date</th>\n",
       "      <th>Ship Date</th>\n",
       "      <th>Units Sold</th>\n",
       "      <th>Unit Price</th>\n",
       "      <th>Unit Cost</th>\n",
       "      <th>Total Revenue</th>\n",
       "      <th>Total Cost</th>\n",
       "      <th>Total Profit</th>\n",
       "    </tr>\n",
       "  </thead>\n",
       "  <tbody>\n",
       "    <tr>\n",
       "      <th>0</th>\n",
       "      <td>Sub-Saharan Africa</td>\n",
       "      <td>Namibia</td>\n",
       "      <td>Household</td>\n",
       "      <td>Offline</td>\n",
       "      <td>M</td>\n",
       "      <td>8/31/2015</td>\n",
       "      <td>10/12/2015</td>\n",
       "      <td>3604</td>\n",
       "      <td>668.27</td>\n",
       "      <td>502.54</td>\n",
       "      <td>2408445.08</td>\n",
       "      <td>1811154.16</td>\n",
       "      <td>597290.92</td>\n",
       "    </tr>\n",
       "    <tr>\n",
       "      <th>1</th>\n",
       "      <td>Europe</td>\n",
       "      <td>Iceland</td>\n",
       "      <td>Baby Food</td>\n",
       "      <td>Online</td>\n",
       "      <td>H</td>\n",
       "      <td>11/20/2010</td>\n",
       "      <td>1/9/2011</td>\n",
       "      <td>8435</td>\n",
       "      <td>255.28</td>\n",
       "      <td>159.42</td>\n",
       "      <td>2153286.80</td>\n",
       "      <td>1344707.70</td>\n",
       "      <td>808579.10</td>\n",
       "    </tr>\n",
       "    <tr>\n",
       "      <th>2</th>\n",
       "      <td>Europe</td>\n",
       "      <td>Russia</td>\n",
       "      <td>Meat</td>\n",
       "      <td>Online</td>\n",
       "      <td>L</td>\n",
       "      <td>6/22/2017</td>\n",
       "      <td>6/25/2017</td>\n",
       "      <td>4848</td>\n",
       "      <td>421.89</td>\n",
       "      <td>364.69</td>\n",
       "      <td>2045322.72</td>\n",
       "      <td>1768017.12</td>\n",
       "      <td>277305.60</td>\n",
       "    </tr>\n",
       "    <tr>\n",
       "      <th>3</th>\n",
       "      <td>Europe</td>\n",
       "      <td>Moldova</td>\n",
       "      <td>Meat</td>\n",
       "      <td>Online</td>\n",
       "      <td>L</td>\n",
       "      <td>2/28/2012</td>\n",
       "      <td>3/20/2012</td>\n",
       "      <td>7225</td>\n",
       "      <td>421.89</td>\n",
       "      <td>364.69</td>\n",
       "      <td>3048155.25</td>\n",
       "      <td>2634885.25</td>\n",
       "      <td>413270.00</td>\n",
       "    </tr>\n",
       "    <tr>\n",
       "      <th>4</th>\n",
       "      <td>Europe</td>\n",
       "      <td>Malta</td>\n",
       "      <td>Cereal</td>\n",
       "      <td>Online</td>\n",
       "      <td>M</td>\n",
       "      <td>8/12/2010</td>\n",
       "      <td>9/13/2010</td>\n",
       "      <td>1975</td>\n",
       "      <td>205.70</td>\n",
       "      <td>117.11</td>\n",
       "      <td>406257.50</td>\n",
       "      <td>231292.25</td>\n",
       "      <td>174965.25</td>\n",
       "    </tr>\n",
       "  </tbody>\n",
       "</table>\n",
       "</div>"
      ],
      "text/plain": [
       "               Region   Country  Item Type Sales Channel Order Priority  \\\n",
       "0  Sub-Saharan Africa   Namibia  Household       Offline              M   \n",
       "1              Europe   Iceland  Baby Food        Online              H   \n",
       "2              Europe    Russia       Meat        Online              L   \n",
       "3              Europe  Moldova        Meat        Online              L   \n",
       "4              Europe     Malta     Cereal        Online              M   \n",
       "\n",
       "   Order Date   Ship Date  Units Sold  Unit Price  Unit Cost  Total Revenue  \\\n",
       "0   8/31/2015  10/12/2015        3604      668.27     502.54     2408445.08   \n",
       "1  11/20/2010    1/9/2011        8435      255.28     159.42     2153286.80   \n",
       "2   6/22/2017   6/25/2017        4848      421.89     364.69     2045322.72   \n",
       "3   2/28/2012   3/20/2012        7225      421.89     364.69     3048155.25   \n",
       "4   8/12/2010   9/13/2010        1975      205.70     117.11      406257.50   \n",
       "\n",
       "   Total Cost  Total Profit  \n",
       "0  1811154.16     597290.92  \n",
       "1  1344707.70     808579.10  \n",
       "2  1768017.12     277305.60  \n",
       "3  2634885.25     413270.00  \n",
       "4   231292.25     174965.25  "
      ]
     },
     "execution_count": 23,
     "metadata": {},
     "output_type": "execute_result"
    }
   ],
   "source": [
    "x.drop('Order ID',axis=1,inplace=True)\n",
    "x.head()"
   ]
  },
  {
   "cell_type": "code",
   "execution_count": 24,
   "metadata": {},
   "outputs": [
    {
     "data": {
      "text/html": [
       "<div>\n",
       "<style scoped>\n",
       "    .dataframe tbody tr th:only-of-type {\n",
       "        vertical-align: middle;\n",
       "    }\n",
       "\n",
       "    .dataframe tbody tr th {\n",
       "        vertical-align: top;\n",
       "    }\n",
       "\n",
       "    .dataframe thead th {\n",
       "        text-align: right;\n",
       "    }\n",
       "</style>\n",
       "<table border=\"1\" class=\"dataframe\">\n",
       "  <thead>\n",
       "    <tr style=\"text-align: right;\">\n",
       "      <th></th>\n",
       "      <th>Region</th>\n",
       "      <th>Country</th>\n",
       "      <th>Item Type</th>\n",
       "      <th>Sales Channel</th>\n",
       "      <th>Order Priority</th>\n",
       "      <th>Order Date</th>\n",
       "      <th>Ship Date</th>\n",
       "      <th>Units Sold</th>\n",
       "      <th>Unit Price</th>\n",
       "      <th>Unit Cost</th>\n",
       "      <th>Total Revenue</th>\n",
       "      <th>Total Cost</th>\n",
       "      <th>Total Profit</th>\n",
       "    </tr>\n",
       "  </thead>\n",
       "  <tbody>\n",
       "    <tr>\n",
       "      <th>0</th>\n",
       "      <td>Sub-Saharan Africa</td>\n",
       "      <td>Namibia</td>\n",
       "      <td>Household</td>\n",
       "      <td>Offline</td>\n",
       "      <td>M</td>\n",
       "      <td>2015-08-31</td>\n",
       "      <td>10/12/2015</td>\n",
       "      <td>3604</td>\n",
       "      <td>668.27</td>\n",
       "      <td>502.54</td>\n",
       "      <td>2408445.08</td>\n",
       "      <td>1811154.16</td>\n",
       "      <td>597290.92</td>\n",
       "    </tr>\n",
       "    <tr>\n",
       "      <th>1</th>\n",
       "      <td>Europe</td>\n",
       "      <td>Iceland</td>\n",
       "      <td>Baby Food</td>\n",
       "      <td>Online</td>\n",
       "      <td>H</td>\n",
       "      <td>2010-11-20</td>\n",
       "      <td>1/9/2011</td>\n",
       "      <td>8435</td>\n",
       "      <td>255.28</td>\n",
       "      <td>159.42</td>\n",
       "      <td>2153286.80</td>\n",
       "      <td>1344707.70</td>\n",
       "      <td>808579.10</td>\n",
       "    </tr>\n",
       "    <tr>\n",
       "      <th>2</th>\n",
       "      <td>Europe</td>\n",
       "      <td>Russia</td>\n",
       "      <td>Meat</td>\n",
       "      <td>Online</td>\n",
       "      <td>L</td>\n",
       "      <td>2017-06-22</td>\n",
       "      <td>6/25/2017</td>\n",
       "      <td>4848</td>\n",
       "      <td>421.89</td>\n",
       "      <td>364.69</td>\n",
       "      <td>2045322.72</td>\n",
       "      <td>1768017.12</td>\n",
       "      <td>277305.60</td>\n",
       "    </tr>\n",
       "    <tr>\n",
       "      <th>3</th>\n",
       "      <td>Europe</td>\n",
       "      <td>Moldova</td>\n",
       "      <td>Meat</td>\n",
       "      <td>Online</td>\n",
       "      <td>L</td>\n",
       "      <td>2012-02-28</td>\n",
       "      <td>3/20/2012</td>\n",
       "      <td>7225</td>\n",
       "      <td>421.89</td>\n",
       "      <td>364.69</td>\n",
       "      <td>3048155.25</td>\n",
       "      <td>2634885.25</td>\n",
       "      <td>413270.00</td>\n",
       "    </tr>\n",
       "    <tr>\n",
       "      <th>4</th>\n",
       "      <td>Europe</td>\n",
       "      <td>Malta</td>\n",
       "      <td>Cereal</td>\n",
       "      <td>Online</td>\n",
       "      <td>M</td>\n",
       "      <td>2010-08-12</td>\n",
       "      <td>9/13/2010</td>\n",
       "      <td>1975</td>\n",
       "      <td>205.70</td>\n",
       "      <td>117.11</td>\n",
       "      <td>406257.50</td>\n",
       "      <td>231292.25</td>\n",
       "      <td>174965.25</td>\n",
       "    </tr>\n",
       "  </tbody>\n",
       "</table>\n",
       "</div>"
      ],
      "text/plain": [
       "               Region   Country  Item Type Sales Channel Order Priority  \\\n",
       "0  Sub-Saharan Africa   Namibia  Household       Offline              M   \n",
       "1              Europe   Iceland  Baby Food        Online              H   \n",
       "2              Europe    Russia       Meat        Online              L   \n",
       "3              Europe  Moldova        Meat        Online              L   \n",
       "4              Europe     Malta     Cereal        Online              M   \n",
       "\n",
       "  Order Date   Ship Date  Units Sold  Unit Price  Unit Cost  Total Revenue  \\\n",
       "0 2015-08-31  10/12/2015        3604      668.27     502.54     2408445.08   \n",
       "1 2010-11-20    1/9/2011        8435      255.28     159.42     2153286.80   \n",
       "2 2017-06-22   6/25/2017        4848      421.89     364.69     2045322.72   \n",
       "3 2012-02-28   3/20/2012        7225      421.89     364.69     3048155.25   \n",
       "4 2010-08-12   9/13/2010        1975      205.70     117.11      406257.50   \n",
       "\n",
       "   Total Cost  Total Profit  \n",
       "0  1811154.16     597290.92  \n",
       "1  1344707.70     808579.10  \n",
       "2  1768017.12     277305.60  \n",
       "3  2634885.25     413270.00  \n",
       "4   231292.25     174965.25  "
      ]
     },
     "execution_count": 24,
     "metadata": {},
     "output_type": "execute_result"
    }
   ],
   "source": [
    "x['Order Date'] = pd.to_datetime(x['Order Date'])\n",
    "x.head()"
   ]
  },
  {
   "cell_type": "code",
   "execution_count": 25,
   "metadata": {},
   "outputs": [
    {
     "data": {
      "text/html": [
       "<div>\n",
       "<style scoped>\n",
       "    .dataframe tbody tr th:only-of-type {\n",
       "        vertical-align: middle;\n",
       "    }\n",
       "\n",
       "    .dataframe tbody tr th {\n",
       "        vertical-align: top;\n",
       "    }\n",
       "\n",
       "    .dataframe thead th {\n",
       "        text-align: right;\n",
       "    }\n",
       "</style>\n",
       "<table border=\"1\" class=\"dataframe\">\n",
       "  <thead>\n",
       "    <tr style=\"text-align: right;\">\n",
       "      <th></th>\n",
       "      <th>Region</th>\n",
       "      <th>Country</th>\n",
       "      <th>Item Type</th>\n",
       "      <th>Sales Channel</th>\n",
       "      <th>Order Priority</th>\n",
       "      <th>Order Date</th>\n",
       "      <th>Ship Date</th>\n",
       "      <th>Units Sold</th>\n",
       "      <th>Unit Price</th>\n",
       "      <th>Unit Cost</th>\n",
       "      <th>Total Revenue</th>\n",
       "      <th>Total Cost</th>\n",
       "      <th>Total Profit</th>\n",
       "    </tr>\n",
       "  </thead>\n",
       "  <tbody>\n",
       "    <tr>\n",
       "      <th>0</th>\n",
       "      <td>Sub-Saharan Africa</td>\n",
       "      <td>Namibia</td>\n",
       "      <td>Household</td>\n",
       "      <td>Offline</td>\n",
       "      <td>M</td>\n",
       "      <td>2015-08-31</td>\n",
       "      <td>2015-10-12</td>\n",
       "      <td>3604</td>\n",
       "      <td>668.27</td>\n",
       "      <td>502.54</td>\n",
       "      <td>2408445.08</td>\n",
       "      <td>1811154.16</td>\n",
       "      <td>597290.92</td>\n",
       "    </tr>\n",
       "    <tr>\n",
       "      <th>1</th>\n",
       "      <td>Europe</td>\n",
       "      <td>Iceland</td>\n",
       "      <td>Baby Food</td>\n",
       "      <td>Online</td>\n",
       "      <td>H</td>\n",
       "      <td>2010-11-20</td>\n",
       "      <td>2011-01-09</td>\n",
       "      <td>8435</td>\n",
       "      <td>255.28</td>\n",
       "      <td>159.42</td>\n",
       "      <td>2153286.80</td>\n",
       "      <td>1344707.70</td>\n",
       "      <td>808579.10</td>\n",
       "    </tr>\n",
       "    <tr>\n",
       "      <th>2</th>\n",
       "      <td>Europe</td>\n",
       "      <td>Russia</td>\n",
       "      <td>Meat</td>\n",
       "      <td>Online</td>\n",
       "      <td>L</td>\n",
       "      <td>2017-06-22</td>\n",
       "      <td>2017-06-25</td>\n",
       "      <td>4848</td>\n",
       "      <td>421.89</td>\n",
       "      <td>364.69</td>\n",
       "      <td>2045322.72</td>\n",
       "      <td>1768017.12</td>\n",
       "      <td>277305.60</td>\n",
       "    </tr>\n",
       "    <tr>\n",
       "      <th>3</th>\n",
       "      <td>Europe</td>\n",
       "      <td>Moldova</td>\n",
       "      <td>Meat</td>\n",
       "      <td>Online</td>\n",
       "      <td>L</td>\n",
       "      <td>2012-02-28</td>\n",
       "      <td>2012-03-20</td>\n",
       "      <td>7225</td>\n",
       "      <td>421.89</td>\n",
       "      <td>364.69</td>\n",
       "      <td>3048155.25</td>\n",
       "      <td>2634885.25</td>\n",
       "      <td>413270.00</td>\n",
       "    </tr>\n",
       "    <tr>\n",
       "      <th>4</th>\n",
       "      <td>Europe</td>\n",
       "      <td>Malta</td>\n",
       "      <td>Cereal</td>\n",
       "      <td>Online</td>\n",
       "      <td>M</td>\n",
       "      <td>2010-08-12</td>\n",
       "      <td>2010-09-13</td>\n",
       "      <td>1975</td>\n",
       "      <td>205.70</td>\n",
       "      <td>117.11</td>\n",
       "      <td>406257.50</td>\n",
       "      <td>231292.25</td>\n",
       "      <td>174965.25</td>\n",
       "    </tr>\n",
       "  </tbody>\n",
       "</table>\n",
       "</div>"
      ],
      "text/plain": [
       "               Region   Country  Item Type Sales Channel Order Priority  \\\n",
       "0  Sub-Saharan Africa   Namibia  Household       Offline              M   \n",
       "1              Europe   Iceland  Baby Food        Online              H   \n",
       "2              Europe    Russia       Meat        Online              L   \n",
       "3              Europe  Moldova        Meat        Online              L   \n",
       "4              Europe     Malta     Cereal        Online              M   \n",
       "\n",
       "  Order Date  Ship Date  Units Sold  Unit Price  Unit Cost  Total Revenue  \\\n",
       "0 2015-08-31 2015-10-12        3604      668.27     502.54     2408445.08   \n",
       "1 2010-11-20 2011-01-09        8435      255.28     159.42     2153286.80   \n",
       "2 2017-06-22 2017-06-25        4848      421.89     364.69     2045322.72   \n",
       "3 2012-02-28 2012-03-20        7225      421.89     364.69     3048155.25   \n",
       "4 2010-08-12 2010-09-13        1975      205.70     117.11      406257.50   \n",
       "\n",
       "   Total Cost  Total Profit  \n",
       "0  1811154.16     597290.92  \n",
       "1  1344707.70     808579.10  \n",
       "2  1768017.12     277305.60  \n",
       "3  2634885.25     413270.00  \n",
       "4   231292.25     174965.25  "
      ]
     },
     "execution_count": 25,
     "metadata": {},
     "output_type": "execute_result"
    }
   ],
   "source": [
    "x['Ship Date'] = pd.to_datetime(x['Ship Date'])\n",
    "x.head()"
   ]
  },
  {
   "cell_type": "code",
   "execution_count": 26,
   "metadata": {},
   "outputs": [
    {
     "data": {
      "text/plain": [
       "Region                    object\n",
       "Country                   object\n",
       "Item Type                 object\n",
       "Sales Channel             object\n",
       "Order Priority            object\n",
       "Order Date        datetime64[ns]\n",
       "Ship Date         datetime64[ns]\n",
       "Units Sold                 int64\n",
       "Unit Price               float64\n",
       "Unit Cost                float64\n",
       "Total Revenue            float64\n",
       "Total Cost               float64\n",
       "Total Profit             float64\n",
       "dtype: object"
      ]
     },
     "execution_count": 26,
     "metadata": {},
     "output_type": "execute_result"
    }
   ],
   "source": [
    "x.dtypes"
   ]
  },
  {
   "cell_type": "code",
   "execution_count": 27,
   "metadata": {},
   "outputs": [
    {
     "data": {
      "text/html": [
       "<div>\n",
       "<style scoped>\n",
       "    .dataframe tbody tr th:only-of-type {\n",
       "        vertical-align: middle;\n",
       "    }\n",
       "\n",
       "    .dataframe tbody tr th {\n",
       "        vertical-align: top;\n",
       "    }\n",
       "\n",
       "    .dataframe thead th {\n",
       "        text-align: right;\n",
       "    }\n",
       "</style>\n",
       "<table border=\"1\" class=\"dataframe\">\n",
       "  <thead>\n",
       "    <tr style=\"text-align: right;\">\n",
       "      <th></th>\n",
       "      <th>Region</th>\n",
       "      <th>Country</th>\n",
       "      <th>Item Type</th>\n",
       "      <th>Sales Channel</th>\n",
       "      <th>Order Priority</th>\n",
       "      <th>Order Date</th>\n",
       "      <th>Ship Date</th>\n",
       "      <th>Units Sold</th>\n",
       "      <th>Unit Price</th>\n",
       "      <th>Unit Cost</th>\n",
       "      <th>Total Revenue</th>\n",
       "      <th>Total Cost</th>\n",
       "      <th>Total Profit</th>\n",
       "      <th>Order Date_year</th>\n",
       "      <th>Order Date_month</th>\n",
       "      <th>Order Date_day</th>\n",
       "      <th>Ship Date_year</th>\n",
       "      <th>Ship Date_month</th>\n",
       "      <th>Ship Date_day</th>\n",
       "    </tr>\n",
       "  </thead>\n",
       "  <tbody>\n",
       "    <tr>\n",
       "      <th>0</th>\n",
       "      <td>Sub-Saharan Africa</td>\n",
       "      <td>Namibia</td>\n",
       "      <td>Household</td>\n",
       "      <td>Offline</td>\n",
       "      <td>M</td>\n",
       "      <td>2015-08-31</td>\n",
       "      <td>2015-10-12</td>\n",
       "      <td>3604</td>\n",
       "      <td>668.27</td>\n",
       "      <td>502.54</td>\n",
       "      <td>2408445.08</td>\n",
       "      <td>1811154.16</td>\n",
       "      <td>597290.92</td>\n",
       "      <td>2015</td>\n",
       "      <td>8</td>\n",
       "      <td>31</td>\n",
       "      <td>2015</td>\n",
       "      <td>10</td>\n",
       "      <td>12</td>\n",
       "    </tr>\n",
       "    <tr>\n",
       "      <th>1</th>\n",
       "      <td>Europe</td>\n",
       "      <td>Iceland</td>\n",
       "      <td>Baby Food</td>\n",
       "      <td>Online</td>\n",
       "      <td>H</td>\n",
       "      <td>2010-11-20</td>\n",
       "      <td>2011-01-09</td>\n",
       "      <td>8435</td>\n",
       "      <td>255.28</td>\n",
       "      <td>159.42</td>\n",
       "      <td>2153286.80</td>\n",
       "      <td>1344707.70</td>\n",
       "      <td>808579.10</td>\n",
       "      <td>2010</td>\n",
       "      <td>11</td>\n",
       "      <td>20</td>\n",
       "      <td>2011</td>\n",
       "      <td>1</td>\n",
       "      <td>9</td>\n",
       "    </tr>\n",
       "    <tr>\n",
       "      <th>2</th>\n",
       "      <td>Europe</td>\n",
       "      <td>Russia</td>\n",
       "      <td>Meat</td>\n",
       "      <td>Online</td>\n",
       "      <td>L</td>\n",
       "      <td>2017-06-22</td>\n",
       "      <td>2017-06-25</td>\n",
       "      <td>4848</td>\n",
       "      <td>421.89</td>\n",
       "      <td>364.69</td>\n",
       "      <td>2045322.72</td>\n",
       "      <td>1768017.12</td>\n",
       "      <td>277305.60</td>\n",
       "      <td>2017</td>\n",
       "      <td>6</td>\n",
       "      <td>22</td>\n",
       "      <td>2017</td>\n",
       "      <td>6</td>\n",
       "      <td>25</td>\n",
       "    </tr>\n",
       "    <tr>\n",
       "      <th>3</th>\n",
       "      <td>Europe</td>\n",
       "      <td>Moldova</td>\n",
       "      <td>Meat</td>\n",
       "      <td>Online</td>\n",
       "      <td>L</td>\n",
       "      <td>2012-02-28</td>\n",
       "      <td>2012-03-20</td>\n",
       "      <td>7225</td>\n",
       "      <td>421.89</td>\n",
       "      <td>364.69</td>\n",
       "      <td>3048155.25</td>\n",
       "      <td>2634885.25</td>\n",
       "      <td>413270.00</td>\n",
       "      <td>2012</td>\n",
       "      <td>2</td>\n",
       "      <td>28</td>\n",
       "      <td>2012</td>\n",
       "      <td>3</td>\n",
       "      <td>20</td>\n",
       "    </tr>\n",
       "    <tr>\n",
       "      <th>4</th>\n",
       "      <td>Europe</td>\n",
       "      <td>Malta</td>\n",
       "      <td>Cereal</td>\n",
       "      <td>Online</td>\n",
       "      <td>M</td>\n",
       "      <td>2010-08-12</td>\n",
       "      <td>2010-09-13</td>\n",
       "      <td>1975</td>\n",
       "      <td>205.70</td>\n",
       "      <td>117.11</td>\n",
       "      <td>406257.50</td>\n",
       "      <td>231292.25</td>\n",
       "      <td>174965.25</td>\n",
       "      <td>2010</td>\n",
       "      <td>8</td>\n",
       "      <td>12</td>\n",
       "      <td>2010</td>\n",
       "      <td>9</td>\n",
       "      <td>13</td>\n",
       "    </tr>\n",
       "  </tbody>\n",
       "</table>\n",
       "</div>"
      ],
      "text/plain": [
       "               Region   Country  Item Type Sales Channel Order Priority  \\\n",
       "0  Sub-Saharan Africa   Namibia  Household       Offline              M   \n",
       "1              Europe   Iceland  Baby Food        Online              H   \n",
       "2              Europe    Russia       Meat        Online              L   \n",
       "3              Europe  Moldova        Meat        Online              L   \n",
       "4              Europe     Malta     Cereal        Online              M   \n",
       "\n",
       "  Order Date  Ship Date  Units Sold  Unit Price  Unit Cost  Total Revenue  \\\n",
       "0 2015-08-31 2015-10-12        3604      668.27     502.54     2408445.08   \n",
       "1 2010-11-20 2011-01-09        8435      255.28     159.42     2153286.80   \n",
       "2 2017-06-22 2017-06-25        4848      421.89     364.69     2045322.72   \n",
       "3 2012-02-28 2012-03-20        7225      421.89     364.69     3048155.25   \n",
       "4 2010-08-12 2010-09-13        1975      205.70     117.11      406257.50   \n",
       "\n",
       "   Total Cost  Total Profit  Order Date_year  Order Date_month  \\\n",
       "0  1811154.16     597290.92             2015                 8   \n",
       "1  1344707.70     808579.10             2010                11   \n",
       "2  1768017.12     277305.60             2017                 6   \n",
       "3  2634885.25     413270.00             2012                 2   \n",
       "4   231292.25     174965.25             2010                 8   \n",
       "\n",
       "   Order Date_day  Ship Date_year  Ship Date_month  Ship Date_day  \n",
       "0              31            2015               10             12  \n",
       "1              20            2011                1              9  \n",
       "2              22            2017                6             25  \n",
       "3              28            2012                3             20  \n",
       "4              12            2010                9             13  "
      ]
     },
     "execution_count": 27,
     "metadata": {},
     "output_type": "execute_result"
    }
   ],
   "source": [
    "x['Order Date_year'] = x['Order Date'].dt.year\n",
    "x['Order Date_month'] = x['Order Date'].dt.month\n",
    "x['Order Date_day'] = x['Order Date'].dt.day\n",
    "x['Ship Date_year'] = x['Ship Date'].dt.year\n",
    "x['Ship Date_month'] = x['Ship Date'].dt.month\n",
    "x['Ship Date_day'] = x['Ship Date'].dt.day\n",
    "x.head()"
   ]
  },
  {
   "cell_type": "code",
   "execution_count": 28,
   "metadata": {},
   "outputs": [],
   "source": [
    "x.drop('Order Date',axis=1,inplace=True)"
   ]
  },
  {
   "cell_type": "code",
   "execution_count": 29,
   "metadata": {},
   "outputs": [
    {
     "data": {
      "text/html": [
       "<div>\n",
       "<style scoped>\n",
       "    .dataframe tbody tr th:only-of-type {\n",
       "        vertical-align: middle;\n",
       "    }\n",
       "\n",
       "    .dataframe tbody tr th {\n",
       "        vertical-align: top;\n",
       "    }\n",
       "\n",
       "    .dataframe thead th {\n",
       "        text-align: right;\n",
       "    }\n",
       "</style>\n",
       "<table border=\"1\" class=\"dataframe\">\n",
       "  <thead>\n",
       "    <tr style=\"text-align: right;\">\n",
       "      <th></th>\n",
       "      <th>Region</th>\n",
       "      <th>Country</th>\n",
       "      <th>Item Type</th>\n",
       "      <th>Sales Channel</th>\n",
       "      <th>Order Priority</th>\n",
       "      <th>Ship Date</th>\n",
       "      <th>Units Sold</th>\n",
       "      <th>Unit Price</th>\n",
       "      <th>Unit Cost</th>\n",
       "      <th>Total Revenue</th>\n",
       "      <th>Total Cost</th>\n",
       "      <th>Total Profit</th>\n",
       "      <th>Order Date_year</th>\n",
       "      <th>Order Date_month</th>\n",
       "      <th>Order Date_day</th>\n",
       "      <th>Ship Date_year</th>\n",
       "      <th>Ship Date_month</th>\n",
       "      <th>Ship Date_day</th>\n",
       "    </tr>\n",
       "  </thead>\n",
       "  <tbody>\n",
       "    <tr>\n",
       "      <th>0</th>\n",
       "      <td>Sub-Saharan Africa</td>\n",
       "      <td>Namibia</td>\n",
       "      <td>Household</td>\n",
       "      <td>Offline</td>\n",
       "      <td>M</td>\n",
       "      <td>2015-10-12</td>\n",
       "      <td>3604</td>\n",
       "      <td>668.27</td>\n",
       "      <td>502.54</td>\n",
       "      <td>2408445.08</td>\n",
       "      <td>1811154.16</td>\n",
       "      <td>597290.92</td>\n",
       "      <td>2015</td>\n",
       "      <td>8</td>\n",
       "      <td>31</td>\n",
       "      <td>2015</td>\n",
       "      <td>10</td>\n",
       "      <td>12</td>\n",
       "    </tr>\n",
       "    <tr>\n",
       "      <th>1</th>\n",
       "      <td>Europe</td>\n",
       "      <td>Iceland</td>\n",
       "      <td>Baby Food</td>\n",
       "      <td>Online</td>\n",
       "      <td>H</td>\n",
       "      <td>2011-01-09</td>\n",
       "      <td>8435</td>\n",
       "      <td>255.28</td>\n",
       "      <td>159.42</td>\n",
       "      <td>2153286.80</td>\n",
       "      <td>1344707.70</td>\n",
       "      <td>808579.10</td>\n",
       "      <td>2010</td>\n",
       "      <td>11</td>\n",
       "      <td>20</td>\n",
       "      <td>2011</td>\n",
       "      <td>1</td>\n",
       "      <td>9</td>\n",
       "    </tr>\n",
       "    <tr>\n",
       "      <th>2</th>\n",
       "      <td>Europe</td>\n",
       "      <td>Russia</td>\n",
       "      <td>Meat</td>\n",
       "      <td>Online</td>\n",
       "      <td>L</td>\n",
       "      <td>2017-06-25</td>\n",
       "      <td>4848</td>\n",
       "      <td>421.89</td>\n",
       "      <td>364.69</td>\n",
       "      <td>2045322.72</td>\n",
       "      <td>1768017.12</td>\n",
       "      <td>277305.60</td>\n",
       "      <td>2017</td>\n",
       "      <td>6</td>\n",
       "      <td>22</td>\n",
       "      <td>2017</td>\n",
       "      <td>6</td>\n",
       "      <td>25</td>\n",
       "    </tr>\n",
       "    <tr>\n",
       "      <th>3</th>\n",
       "      <td>Europe</td>\n",
       "      <td>Moldova</td>\n",
       "      <td>Meat</td>\n",
       "      <td>Online</td>\n",
       "      <td>L</td>\n",
       "      <td>2012-03-20</td>\n",
       "      <td>7225</td>\n",
       "      <td>421.89</td>\n",
       "      <td>364.69</td>\n",
       "      <td>3048155.25</td>\n",
       "      <td>2634885.25</td>\n",
       "      <td>413270.00</td>\n",
       "      <td>2012</td>\n",
       "      <td>2</td>\n",
       "      <td>28</td>\n",
       "      <td>2012</td>\n",
       "      <td>3</td>\n",
       "      <td>20</td>\n",
       "    </tr>\n",
       "    <tr>\n",
       "      <th>4</th>\n",
       "      <td>Europe</td>\n",
       "      <td>Malta</td>\n",
       "      <td>Cereal</td>\n",
       "      <td>Online</td>\n",
       "      <td>M</td>\n",
       "      <td>2010-09-13</td>\n",
       "      <td>1975</td>\n",
       "      <td>205.70</td>\n",
       "      <td>117.11</td>\n",
       "      <td>406257.50</td>\n",
       "      <td>231292.25</td>\n",
       "      <td>174965.25</td>\n",
       "      <td>2010</td>\n",
       "      <td>8</td>\n",
       "      <td>12</td>\n",
       "      <td>2010</td>\n",
       "      <td>9</td>\n",
       "      <td>13</td>\n",
       "    </tr>\n",
       "  </tbody>\n",
       "</table>\n",
       "</div>"
      ],
      "text/plain": [
       "               Region   Country  Item Type Sales Channel Order Priority  \\\n",
       "0  Sub-Saharan Africa   Namibia  Household       Offline              M   \n",
       "1              Europe   Iceland  Baby Food        Online              H   \n",
       "2              Europe    Russia       Meat        Online              L   \n",
       "3              Europe  Moldova        Meat        Online              L   \n",
       "4              Europe     Malta     Cereal        Online              M   \n",
       "\n",
       "   Ship Date  Units Sold  Unit Price  Unit Cost  Total Revenue  Total Cost  \\\n",
       "0 2015-10-12        3604      668.27     502.54     2408445.08  1811154.16   \n",
       "1 2011-01-09        8435      255.28     159.42     2153286.80  1344707.70   \n",
       "2 2017-06-25        4848      421.89     364.69     2045322.72  1768017.12   \n",
       "3 2012-03-20        7225      421.89     364.69     3048155.25  2634885.25   \n",
       "4 2010-09-13        1975      205.70     117.11      406257.50   231292.25   \n",
       "\n",
       "   Total Profit  Order Date_year  Order Date_month  Order Date_day  \\\n",
       "0     597290.92             2015                 8              31   \n",
       "1     808579.10             2010                11              20   \n",
       "2     277305.60             2017                 6              22   \n",
       "3     413270.00             2012                 2              28   \n",
       "4     174965.25             2010                 8              12   \n",
       "\n",
       "   Ship Date_year  Ship Date_month  Ship Date_day  \n",
       "0            2015               10             12  \n",
       "1            2011                1              9  \n",
       "2            2017                6             25  \n",
       "3            2012                3             20  \n",
       "4            2010                9             13  "
      ]
     },
     "execution_count": 29,
     "metadata": {},
     "output_type": "execute_result"
    }
   ],
   "source": [
    "x.head()"
   ]
  },
  {
   "cell_type": "code",
   "execution_count": 30,
   "metadata": {},
   "outputs": [
    {
     "data": {
      "text/html": [
       "<div>\n",
       "<style scoped>\n",
       "    .dataframe tbody tr th:only-of-type {\n",
       "        vertical-align: middle;\n",
       "    }\n",
       "\n",
       "    .dataframe tbody tr th {\n",
       "        vertical-align: top;\n",
       "    }\n",
       "\n",
       "    .dataframe thead th {\n",
       "        text-align: right;\n",
       "    }\n",
       "</style>\n",
       "<table border=\"1\" class=\"dataframe\">\n",
       "  <thead>\n",
       "    <tr style=\"text-align: right;\">\n",
       "      <th></th>\n",
       "      <th>Region</th>\n",
       "      <th>Country</th>\n",
       "      <th>Item Type</th>\n",
       "      <th>Sales Channel</th>\n",
       "      <th>Order Priority</th>\n",
       "      <th>Units Sold</th>\n",
       "      <th>Unit Price</th>\n",
       "      <th>Unit Cost</th>\n",
       "      <th>Total Revenue</th>\n",
       "      <th>Total Cost</th>\n",
       "      <th>Total Profit</th>\n",
       "      <th>Order Date_year</th>\n",
       "      <th>Order Date_month</th>\n",
       "      <th>Order Date_day</th>\n",
       "      <th>Ship Date_year</th>\n",
       "      <th>Ship Date_month</th>\n",
       "      <th>Ship Date_day</th>\n",
       "    </tr>\n",
       "  </thead>\n",
       "  <tbody>\n",
       "    <tr>\n",
       "      <th>0</th>\n",
       "      <td>Sub-Saharan Africa</td>\n",
       "      <td>Namibia</td>\n",
       "      <td>Household</td>\n",
       "      <td>Offline</td>\n",
       "      <td>M</td>\n",
       "      <td>3604</td>\n",
       "      <td>668.27</td>\n",
       "      <td>502.54</td>\n",
       "      <td>2408445.08</td>\n",
       "      <td>1811154.16</td>\n",
       "      <td>597290.92</td>\n",
       "      <td>2015</td>\n",
       "      <td>8</td>\n",
       "      <td>31</td>\n",
       "      <td>2015</td>\n",
       "      <td>10</td>\n",
       "      <td>12</td>\n",
       "    </tr>\n",
       "    <tr>\n",
       "      <th>1</th>\n",
       "      <td>Europe</td>\n",
       "      <td>Iceland</td>\n",
       "      <td>Baby Food</td>\n",
       "      <td>Online</td>\n",
       "      <td>H</td>\n",
       "      <td>8435</td>\n",
       "      <td>255.28</td>\n",
       "      <td>159.42</td>\n",
       "      <td>2153286.80</td>\n",
       "      <td>1344707.70</td>\n",
       "      <td>808579.10</td>\n",
       "      <td>2010</td>\n",
       "      <td>11</td>\n",
       "      <td>20</td>\n",
       "      <td>2011</td>\n",
       "      <td>1</td>\n",
       "      <td>9</td>\n",
       "    </tr>\n",
       "    <tr>\n",
       "      <th>2</th>\n",
       "      <td>Europe</td>\n",
       "      <td>Russia</td>\n",
       "      <td>Meat</td>\n",
       "      <td>Online</td>\n",
       "      <td>L</td>\n",
       "      <td>4848</td>\n",
       "      <td>421.89</td>\n",
       "      <td>364.69</td>\n",
       "      <td>2045322.72</td>\n",
       "      <td>1768017.12</td>\n",
       "      <td>277305.60</td>\n",
       "      <td>2017</td>\n",
       "      <td>6</td>\n",
       "      <td>22</td>\n",
       "      <td>2017</td>\n",
       "      <td>6</td>\n",
       "      <td>25</td>\n",
       "    </tr>\n",
       "    <tr>\n",
       "      <th>3</th>\n",
       "      <td>Europe</td>\n",
       "      <td>Moldova</td>\n",
       "      <td>Meat</td>\n",
       "      <td>Online</td>\n",
       "      <td>L</td>\n",
       "      <td>7225</td>\n",
       "      <td>421.89</td>\n",
       "      <td>364.69</td>\n",
       "      <td>3048155.25</td>\n",
       "      <td>2634885.25</td>\n",
       "      <td>413270.00</td>\n",
       "      <td>2012</td>\n",
       "      <td>2</td>\n",
       "      <td>28</td>\n",
       "      <td>2012</td>\n",
       "      <td>3</td>\n",
       "      <td>20</td>\n",
       "    </tr>\n",
       "    <tr>\n",
       "      <th>4</th>\n",
       "      <td>Europe</td>\n",
       "      <td>Malta</td>\n",
       "      <td>Cereal</td>\n",
       "      <td>Online</td>\n",
       "      <td>M</td>\n",
       "      <td>1975</td>\n",
       "      <td>205.70</td>\n",
       "      <td>117.11</td>\n",
       "      <td>406257.50</td>\n",
       "      <td>231292.25</td>\n",
       "      <td>174965.25</td>\n",
       "      <td>2010</td>\n",
       "      <td>8</td>\n",
       "      <td>12</td>\n",
       "      <td>2010</td>\n",
       "      <td>9</td>\n",
       "      <td>13</td>\n",
       "    </tr>\n",
       "  </tbody>\n",
       "</table>\n",
       "</div>"
      ],
      "text/plain": [
       "               Region   Country  Item Type Sales Channel Order Priority  \\\n",
       "0  Sub-Saharan Africa   Namibia  Household       Offline              M   \n",
       "1              Europe   Iceland  Baby Food        Online              H   \n",
       "2              Europe    Russia       Meat        Online              L   \n",
       "3              Europe  Moldova        Meat        Online              L   \n",
       "4              Europe     Malta     Cereal        Online              M   \n",
       "\n",
       "   Units Sold  Unit Price  Unit Cost  Total Revenue  Total Cost  Total Profit  \\\n",
       "0        3604      668.27     502.54     2408445.08  1811154.16     597290.92   \n",
       "1        8435      255.28     159.42     2153286.80  1344707.70     808579.10   \n",
       "2        4848      421.89     364.69     2045322.72  1768017.12     277305.60   \n",
       "3        7225      421.89     364.69     3048155.25  2634885.25     413270.00   \n",
       "4        1975      205.70     117.11      406257.50   231292.25     174965.25   \n",
       "\n",
       "   Order Date_year  Order Date_month  Order Date_day  Ship Date_year  \\\n",
       "0             2015                 8              31            2015   \n",
       "1             2010                11              20            2011   \n",
       "2             2017                 6              22            2017   \n",
       "3             2012                 2              28            2012   \n",
       "4             2010                 8              12            2010   \n",
       "\n",
       "   Ship Date_month  Ship Date_day  \n",
       "0               10             12  \n",
       "1                1              9  \n",
       "2                6             25  \n",
       "3                3             20  \n",
       "4                9             13  "
      ]
     },
     "execution_count": 30,
     "metadata": {},
     "output_type": "execute_result"
    }
   ],
   "source": [
    "x.drop('Ship Date',axis=1,inplace=True)\n",
    "x.head()"
   ]
  },
  {
   "cell_type": "code",
   "execution_count": 31,
   "metadata": {},
   "outputs": [
    {
     "name": "stdout",
     "output_type": "stream",
     "text": [
      "24    1736\n",
      "20    1715\n",
      "28    1713\n",
      "8     1701\n",
      "4     1696\n",
      "14    1691\n",
      "21    1686\n",
      "10    1684\n",
      "18    1679\n",
      "23    1671\n",
      "12    1669\n",
      "1     1664\n",
      "22    1656\n",
      "25    1656\n",
      "19    1646\n",
      "26    1635\n",
      "9     1629\n",
      "7     1628\n",
      "15    1619\n",
      "2     1617\n",
      "16    1616\n",
      "27    1612\n",
      "3     1606\n",
      "11    1600\n",
      "13    1596\n",
      "5     1567\n",
      "6     1566\n",
      "17    1542\n",
      "29    1505\n",
      "30    1482\n",
      "31     917\n",
      "Name: Order Date_day, dtype: int64\n"
     ]
    },
    {
     "data": {
      "image/png": "[encoded data removed]",
      "text/plain": [
       "<Figure size 1440x360 with 1 Axes>"
      ]
     },
     "metadata": {},
     "output_type": "display_data"
    }
   ],
   "source": [
    "fig=plt.figure(figsize=(20,5))\n",
    "sns.countplot(y='Order Date_day',data=x);\n",
    "print(x['Order Date_day'].value_counts())"
   ]
  },
  {
   "cell_type": "code",
   "execution_count": 32,
   "metadata": {},
   "outputs": [
    {
     "name": "stdout",
     "output_type": "stream",
     "text": [
      "5     4571\n",
      "1     4408\n",
      "3     4354\n",
      "7     4341\n",
      "6     4311\n",
      "4     4277\n",
      "2     4136\n",
      "12    3992\n",
      "10    3948\n",
      "8     3935\n",
      "11    3906\n",
      "9     3821\n",
      "Name: Order Date_month, dtype: int64\n"
     ]
    },
    {
     "data": {
      "image/png": "[encoded data removed]",
      "text/plain": [
       "<Figure size 1440x360 with 1 Axes>"
      ]
     },
     "metadata": {},
     "output_type": "display_data"
    }
   ],
   "source": [
    "fig=plt.figure(figsize=(20,5))\n",
    "sns.countplot(y='Order Date_month',data=x);\n",
    "print(x['Order Date_month'].value_counts())"
   ]
  },
  {
   "cell_type": "code",
   "execution_count": 33,
   "metadata": {},
   "outputs": [
    {
     "name": "stdout",
     "output_type": "stream",
     "text": [
      "2011    6757\n",
      "2012    6634\n",
      "2014    6596\n",
      "2010    6594\n",
      "2015    6570\n",
      "2016    6551\n",
      "2013    6523\n",
      "2017    3775\n",
      "Name: Order Date_year, dtype: int64\n"
     ]
    },
    {
     "data": {
      "image/png": "[encoded data removed]",
      "text/plain": [
       "<Figure size 1440x360 with 1 Axes>"
      ]
     },
     "metadata": {},
     "output_type": "display_data"
    }
   ],
   "source": [
    "fig=plt.figure(figsize=(20,5))\n",
    "sns.countplot(y='Order Date_year',data=x);\n",
    "print(x['Order Date_year'].value_counts())"
   ]
  },
  {
   "cell_type": "code",
   "execution_count": 34,
   "metadata": {},
   "outputs": [
    {
     "name": "stdout",
     "output_type": "stream",
     "text": [
      "5     1718\n",
      "6     1705\n",
      "10    1698\n",
      "12    1697\n",
      "15    1696\n",
      "28    1685\n",
      "7     1670\n",
      "23    1662\n",
      "16    1658\n",
      "22    1652\n",
      "24    1651\n",
      "18    1651\n",
      "17    1646\n",
      "9     1645\n",
      "27    1643\n",
      "14    1642\n",
      "2     1642\n",
      "11    1640\n",
      "4     1639\n",
      "21    1636\n",
      "8     1628\n",
      "1     1616\n",
      "26    1608\n",
      "3     1606\n",
      "19    1604\n",
      "13    1598\n",
      "25    1598\n",
      "20    1575\n",
      "29    1504\n",
      "30    1450\n",
      "31     937\n",
      "Name: Ship Date_day, dtype: int64\n"
     ]
    },
    {
     "data": {
      "image/png": "[encoded data removed]",
      "text/plain": [
       "<Figure size 1440x360 with 1 Axes>"
      ]
     },
     "metadata": {},
     "output_type": "display_data"
    }
   ],
   "source": [
    "fig=plt.figure(figsize=(20,5))\n",
    "sns.countplot(y='Ship Date_day',data=x);\n",
    "print(x['Ship Date_day'].value_counts())"
   ]
  },
  {
   "cell_type": "code",
   "execution_count": 35,
   "metadata": {},
   "outputs": [
    {
     "name": "stdout",
     "output_type": "stream",
     "text": [
      "3     4515\n",
      "5     4461\n",
      "7     4435\n",
      "6     4362\n",
      "8     4266\n",
      "4     4246\n",
      "1     4206\n",
      "10    3933\n",
      "12    3927\n",
      "2     3913\n",
      "9     3869\n",
      "11    3867\n",
      "Name: Ship Date_month, dtype: int64\n"
     ]
    },
    {
     "data": {
      "image/png": "[encoded data removed]",
      "text/plain": [
       "<Figure size 1440x360 with 1 Axes>"
      ]
     },
     "metadata": {},
     "output_type": "display_data"
    }
   ],
   "source": [
    "fig=plt.figure(figsize=(20,5))\n",
    "sns.countplot(y='Ship Date_month',data=x);\n",
    "print(x['Ship Date_month'].value_counts())"
   ]
  },
  {
   "cell_type": "code",
   "execution_count": 36,
   "metadata": {},
   "outputs": [
    {
     "name": "stdout",
     "output_type": "stream",
     "text": [
      "2011    6787\n",
      "2012    6620\n",
      "2016    6611\n",
      "2014    6581\n",
      "2013    6547\n",
      "2015    6522\n",
      "2010    6107\n",
      "2017    4225\n",
      "Name: Ship Date_year, dtype: int64\n"
     ]
    },
    {
     "data": {
      "image/png": "[encoded data removed]",
      "text/plain": [
       "<Figure size 1440x360 with 1 Axes>"
      ]
     },
     "metadata": {},
     "output_type": "display_data"
    }
   ],
   "source": [
    "fig=plt.figure(figsize=(20,5))\n",
    "sns.countplot(y='Ship Date_year',data=x);\n",
    "print(x['Ship Date_year'].value_counts())"
   ]
  },
  {
   "cell_type": "code",
   "execution_count": 37,
   "metadata": {},
   "outputs": [
    {
     "data": {
      "text/html": [
       "<div>\n",
       "<style scoped>\n",
       "    .dataframe tbody tr th:only-of-type {\n",
       "        vertical-align: middle;\n",
       "    }\n",
       "\n",
       "    .dataframe tbody tr th {\n",
       "        vertical-align: top;\n",
       "    }\n",
       "\n",
       "    .dataframe thead th {\n",
       "        text-align: right;\n",
       "    }\n",
       "</style>\n",
       "<table border=\"1\" class=\"dataframe\">\n",
       "  <thead>\n",
       "    <tr style=\"text-align: right;\">\n",
       "      <th></th>\n",
       "      <th>Region</th>\n",
       "      <th>Country</th>\n",
       "      <th>Item Type</th>\n",
       "      <th>Sales Channel</th>\n",
       "      <th>Order Priority</th>\n",
       "      <th>Units Sold</th>\n",
       "      <th>Unit Price</th>\n",
       "      <th>Unit Cost</th>\n",
       "      <th>Total Revenue</th>\n",
       "      <th>Total Cost</th>\n",
       "      <th>Total Profit</th>\n",
       "      <th>Order Date_year</th>\n",
       "      <th>Order Date_month</th>\n",
       "      <th>Order Date_day</th>\n",
       "      <th>Ship Date_year</th>\n",
       "      <th>Ship Date_month</th>\n",
       "      <th>Ship Date_day</th>\n",
       "    </tr>\n",
       "  </thead>\n",
       "  <tbody>\n",
       "    <tr>\n",
       "      <th>0</th>\n",
       "      <td>Sub-Saharan Africa</td>\n",
       "      <td>Namibia</td>\n",
       "      <td>Household</td>\n",
       "      <td>Offline</td>\n",
       "      <td>M</td>\n",
       "      <td>3604</td>\n",
       "      <td>668.27</td>\n",
       "      <td>502.54</td>\n",
       "      <td>2408445.08</td>\n",
       "      <td>1811154.16</td>\n",
       "      <td>597290.92</td>\n",
       "      <td>2015</td>\n",
       "      <td>8</td>\n",
       "      <td>31</td>\n",
       "      <td>2015</td>\n",
       "      <td>10</td>\n",
       "      <td>12</td>\n",
       "    </tr>\n",
       "    <tr>\n",
       "      <th>1</th>\n",
       "      <td>Europe</td>\n",
       "      <td>Iceland</td>\n",
       "      <td>Baby Food</td>\n",
       "      <td>Online</td>\n",
       "      <td>H</td>\n",
       "      <td>8435</td>\n",
       "      <td>255.28</td>\n",
       "      <td>159.42</td>\n",
       "      <td>2153286.80</td>\n",
       "      <td>1344707.70</td>\n",
       "      <td>808579.10</td>\n",
       "      <td>2010</td>\n",
       "      <td>11</td>\n",
       "      <td>20</td>\n",
       "      <td>2011</td>\n",
       "      <td>1</td>\n",
       "      <td>9</td>\n",
       "    </tr>\n",
       "    <tr>\n",
       "      <th>2</th>\n",
       "      <td>Europe</td>\n",
       "      <td>Russia</td>\n",
       "      <td>Meat</td>\n",
       "      <td>Online</td>\n",
       "      <td>L</td>\n",
       "      <td>4848</td>\n",
       "      <td>421.89</td>\n",
       "      <td>364.69</td>\n",
       "      <td>2045322.72</td>\n",
       "      <td>1768017.12</td>\n",
       "      <td>277305.60</td>\n",
       "      <td>2017</td>\n",
       "      <td>6</td>\n",
       "      <td>22</td>\n",
       "      <td>2017</td>\n",
       "      <td>6</td>\n",
       "      <td>25</td>\n",
       "    </tr>\n",
       "    <tr>\n",
       "      <th>3</th>\n",
       "      <td>Europe</td>\n",
       "      <td>Moldova</td>\n",
       "      <td>Meat</td>\n",
       "      <td>Online</td>\n",
       "      <td>L</td>\n",
       "      <td>7225</td>\n",
       "      <td>421.89</td>\n",
       "      <td>364.69</td>\n",
       "      <td>3048155.25</td>\n",
       "      <td>2634885.25</td>\n",
       "      <td>413270.00</td>\n",
       "      <td>2012</td>\n",
       "      <td>2</td>\n",
       "      <td>28</td>\n",
       "      <td>2012</td>\n",
       "      <td>3</td>\n",
       "      <td>20</td>\n",
       "    </tr>\n",
       "    <tr>\n",
       "      <th>4</th>\n",
       "      <td>Europe</td>\n",
       "      <td>Malta</td>\n",
       "      <td>Cereal</td>\n",
       "      <td>Online</td>\n",
       "      <td>M</td>\n",
       "      <td>1975</td>\n",
       "      <td>205.70</td>\n",
       "      <td>117.11</td>\n",
       "      <td>406257.50</td>\n",
       "      <td>231292.25</td>\n",
       "      <td>174965.25</td>\n",
       "      <td>2010</td>\n",
       "      <td>8</td>\n",
       "      <td>12</td>\n",
       "      <td>2010</td>\n",
       "      <td>9</td>\n",
       "      <td>13</td>\n",
       "    </tr>\n",
       "  </tbody>\n",
       "</table>\n",
       "</div>"
      ],
      "text/plain": [
       "               Region   Country  Item Type Sales Channel Order Priority  \\\n",
       "0  Sub-Saharan Africa   Namibia  Household       Offline              M   \n",
       "1              Europe   Iceland  Baby Food        Online              H   \n",
       "2              Europe    Russia       Meat        Online              L   \n",
       "3              Europe  Moldova        Meat        Online              L   \n",
       "4              Europe     Malta     Cereal        Online              M   \n",
       "\n",
       "   Units Sold  Unit Price  Unit Cost  Total Revenue  Total Cost  Total Profit  \\\n",
       "0        3604      668.27     502.54     2408445.08  1811154.16     597290.92   \n",
       "1        8435      255.28     159.42     2153286.80  1344707.70     808579.10   \n",
       "2        4848      421.89     364.69     2045322.72  1768017.12     277305.60   \n",
       "3        7225      421.89     364.69     3048155.25  2634885.25     413270.00   \n",
       "4        1975      205.70     117.11      406257.50   231292.25     174965.25   \n",
       "\n",
       "   Order Date_year  Order Date_month  Order Date_day  Ship Date_year  \\\n",
       "0             2015                 8              31            2015   \n",
       "1             2010                11              20            2011   \n",
       "2             2017                 6              22            2017   \n",
       "3             2012                 2              28            2012   \n",
       "4             2010                 8              12            2010   \n",
       "\n",
       "   Ship Date_month  Ship Date_day  \n",
       "0               10             12  \n",
       "1                1              9  \n",
       "2                6             25  \n",
       "3                3             20  \n",
       "4                9             13  "
      ]
     },
     "execution_count": 37,
     "metadata": {},
     "output_type": "execute_result"
    }
   ],
   "source": [
    "x.head()"
   ]
  },
  {
   "cell_type": "code",
   "execution_count": 38,
   "metadata": {},
   "outputs": [
    {
     "data": {
      "text/html": [
       "<div>\n",
       "<style scoped>\n",
       "    .dataframe tbody tr th:only-of-type {\n",
       "        vertical-align: middle;\n",
       "    }\n",
       "\n",
       "    .dataframe tbody tr th {\n",
       "        vertical-align: top;\n",
       "    }\n",
       "\n",
       "    .dataframe thead th {\n",
       "        text-align: right;\n",
       "    }\n",
       "</style>\n",
       "<table border=\"1\" class=\"dataframe\">\n",
       "  <thead>\n",
       "    <tr style=\"text-align: right;\">\n",
       "      <th></th>\n",
       "      <th>Region</th>\n",
       "      <th>Country</th>\n",
       "      <th>Item Type</th>\n",
       "      <th>Sales Channel</th>\n",
       "      <th>Order Priority</th>\n",
       "      <th>Units Sold</th>\n",
       "      <th>Unit Price</th>\n",
       "      <th>Unit Cost</th>\n",
       "      <th>Total Revenue</th>\n",
       "      <th>Total Cost</th>\n",
       "      <th>Total Profit</th>\n",
       "      <th>Order Date_year</th>\n",
       "      <th>Order Date_month</th>\n",
       "      <th>Order Date_day</th>\n",
       "      <th>Ship Date_year</th>\n",
       "      <th>Ship Date_month</th>\n",
       "      <th>Ship Date_day</th>\n",
       "    </tr>\n",
       "  </thead>\n",
       "  <tbody>\n",
       "    <tr>\n",
       "      <th>0</th>\n",
       "      <td>Sub-Saharan Africa</td>\n",
       "      <td>Namibia</td>\n",
       "      <td>Household</td>\n",
       "      <td>Offline</td>\n",
       "      <td>2</td>\n",
       "      <td>3604</td>\n",
       "      <td>668.27</td>\n",
       "      <td>502.54</td>\n",
       "      <td>2408445.08</td>\n",
       "      <td>1811154.16</td>\n",
       "      <td>597290.92</td>\n",
       "      <td>2015</td>\n",
       "      <td>8</td>\n",
       "      <td>31</td>\n",
       "      <td>2015</td>\n",
       "      <td>10</td>\n",
       "      <td>12</td>\n",
       "    </tr>\n",
       "    <tr>\n",
       "      <th>1</th>\n",
       "      <td>Europe</td>\n",
       "      <td>Iceland</td>\n",
       "      <td>Baby Food</td>\n",
       "      <td>Online</td>\n",
       "      <td>3</td>\n",
       "      <td>8435</td>\n",
       "      <td>255.28</td>\n",
       "      <td>159.42</td>\n",
       "      <td>2153286.80</td>\n",
       "      <td>1344707.70</td>\n",
       "      <td>808579.10</td>\n",
       "      <td>2010</td>\n",
       "      <td>11</td>\n",
       "      <td>20</td>\n",
       "      <td>2011</td>\n",
       "      <td>1</td>\n",
       "      <td>9</td>\n",
       "    </tr>\n",
       "    <tr>\n",
       "      <th>2</th>\n",
       "      <td>Europe</td>\n",
       "      <td>Russia</td>\n",
       "      <td>Meat</td>\n",
       "      <td>Online</td>\n",
       "      <td>1</td>\n",
       "      <td>4848</td>\n",
       "      <td>421.89</td>\n",
       "      <td>364.69</td>\n",
       "      <td>2045322.72</td>\n",
       "      <td>1768017.12</td>\n",
       "      <td>277305.60</td>\n",
       "      <td>2017</td>\n",
       "      <td>6</td>\n",
       "      <td>22</td>\n",
       "      <td>2017</td>\n",
       "      <td>6</td>\n",
       "      <td>25</td>\n",
       "    </tr>\n",
       "    <tr>\n",
       "      <th>3</th>\n",
       "      <td>Europe</td>\n",
       "      <td>Moldova</td>\n",
       "      <td>Meat</td>\n",
       "      <td>Online</td>\n",
       "      <td>1</td>\n",
       "      <td>7225</td>\n",
       "      <td>421.89</td>\n",
       "      <td>364.69</td>\n",
       "      <td>3048155.25</td>\n",
       "      <td>2634885.25</td>\n",
       "      <td>413270.00</td>\n",
       "      <td>2012</td>\n",
       "      <td>2</td>\n",
       "      <td>28</td>\n",
       "      <td>2012</td>\n",
       "      <td>3</td>\n",
       "      <td>20</td>\n",
       "    </tr>\n",
       "    <tr>\n",
       "      <th>4</th>\n",
       "      <td>Europe</td>\n",
       "      <td>Malta</td>\n",
       "      <td>Cereal</td>\n",
       "      <td>Online</td>\n",
       "      <td>2</td>\n",
       "      <td>1975</td>\n",
       "      <td>205.70</td>\n",
       "      <td>117.11</td>\n",
       "      <td>406257.50</td>\n",
       "      <td>231292.25</td>\n",
       "      <td>174965.25</td>\n",
       "      <td>2010</td>\n",
       "      <td>8</td>\n",
       "      <td>12</td>\n",
       "      <td>2010</td>\n",
       "      <td>9</td>\n",
       "      <td>13</td>\n",
       "    </tr>\n",
       "  </tbody>\n",
       "</table>\n",
       "</div>"
      ],
      "text/plain": [
       "               Region   Country  Item Type Sales Channel  Order Priority  \\\n",
       "0  Sub-Saharan Africa   Namibia  Household       Offline               2   \n",
       "1              Europe   Iceland  Baby Food        Online               3   \n",
       "2              Europe    Russia       Meat        Online               1   \n",
       "3              Europe  Moldova        Meat        Online               1   \n",
       "4              Europe     Malta     Cereal        Online               2   \n",
       "\n",
       "   Units Sold  Unit Price  Unit Cost  Total Revenue  Total Cost  Total Profit  \\\n",
       "0        3604      668.27     502.54     2408445.08  1811154.16     597290.92   \n",
       "1        8435      255.28     159.42     2153286.80  1344707.70     808579.10   \n",
       "2        4848      421.89     364.69     2045322.72  1768017.12     277305.60   \n",
       "3        7225      421.89     364.69     3048155.25  2634885.25     413270.00   \n",
       "4        1975      205.70     117.11      406257.50   231292.25     174965.25   \n",
       "\n",
       "   Order Date_year  Order Date_month  Order Date_day  Ship Date_year  \\\n",
       "0             2015                 8              31            2015   \n",
       "1             2010                11              20            2011   \n",
       "2             2017                 6              22            2017   \n",
       "3             2012                 2              28            2012   \n",
       "4             2010                 8              12            2010   \n",
       "\n",
       "   Ship Date_month  Ship Date_day  \n",
       "0               10             12  \n",
       "1                1              9  \n",
       "2                6             25  \n",
       "3                3             20  \n",
       "4                9             13  "
      ]
     },
     "execution_count": 38,
     "metadata": {},
     "output_type": "execute_result"
    }
   ],
   "source": [
    "Order_Priority_dict = {'L':1, 'M':2, 'H':3, 'C':4}\n",
    "x['Order Priority'] = x['Order Priority'].map(Order_Priority_dict)\n",
    "x.head()"
   ]
  },
  {
   "cell_type": "code",
   "execution_count": 39,
   "metadata": {},
   "outputs": [
    {
     "data": {
      "text/plain": [
       "Meat               4221\n",
       "Fruits             4221\n",
       "Cosmetics          4193\n",
       "Vegetables         4191\n",
       "Personal Care      4186\n",
       "Beverages          4173\n",
       "Snacks             4163\n",
       "Clothes            4155\n",
       "Cereal             4141\n",
       "Office Supplies    4139\n",
       "Household          4139\n",
       "Baby Food          4078\n",
       "Name: Item Type, dtype: int64"
      ]
     },
     "execution_count": 39,
     "metadata": {},
     "output_type": "execute_result"
    }
   ],
   "source": [
    "x['Item Type'].value_counts()"
   ]
  },
  {
   "cell_type": "code",
   "execution_count": 40,
   "metadata": {},
   "outputs": [
    {
     "data": {
      "text/html": [
       "<div>\n",
       "<style scoped>\n",
       "    .dataframe tbody tr th:only-of-type {\n",
       "        vertical-align: middle;\n",
       "    }\n",
       "\n",
       "    .dataframe tbody tr th {\n",
       "        vertical-align: top;\n",
       "    }\n",
       "\n",
       "    .dataframe thead th {\n",
       "        text-align: right;\n",
       "    }\n",
       "</style>\n",
       "<table border=\"1\" class=\"dataframe\">\n",
       "  <thead>\n",
       "    <tr style=\"text-align: right;\">\n",
       "      <th></th>\n",
       "      <th>Region</th>\n",
       "      <th>Country</th>\n",
       "      <th>Item Type</th>\n",
       "      <th>Sales Channel</th>\n",
       "      <th>Order Priority</th>\n",
       "      <th>Units Sold</th>\n",
       "      <th>Unit Price</th>\n",
       "      <th>Unit Cost</th>\n",
       "      <th>Total Revenue</th>\n",
       "      <th>Total Cost</th>\n",
       "      <th>Total Profit</th>\n",
       "      <th>Order Date_year</th>\n",
       "      <th>Order Date_month</th>\n",
       "      <th>Order Date_day</th>\n",
       "      <th>Ship Date_year</th>\n",
       "      <th>Ship Date_month</th>\n",
       "      <th>Ship Date_day</th>\n",
       "    </tr>\n",
       "  </thead>\n",
       "  <tbody>\n",
       "    <tr>\n",
       "      <th>0</th>\n",
       "      <td>Sub-Saharan Africa</td>\n",
       "      <td>Namibia</td>\n",
       "      <td>0</td>\n",
       "      <td>Offline</td>\n",
       "      <td>2</td>\n",
       "      <td>3604</td>\n",
       "      <td>668.27</td>\n",
       "      <td>502.54</td>\n",
       "      <td>2408445.08</td>\n",
       "      <td>1811154.16</td>\n",
       "      <td>597290.92</td>\n",
       "      <td>2015</td>\n",
       "      <td>8</td>\n",
       "      <td>31</td>\n",
       "      <td>2015</td>\n",
       "      <td>10</td>\n",
       "      <td>12</td>\n",
       "    </tr>\n",
       "    <tr>\n",
       "      <th>1</th>\n",
       "      <td>Europe</td>\n",
       "      <td>Iceland</td>\n",
       "      <td>11</td>\n",
       "      <td>Online</td>\n",
       "      <td>3</td>\n",
       "      <td>8435</td>\n",
       "      <td>255.28</td>\n",
       "      <td>159.42</td>\n",
       "      <td>2153286.80</td>\n",
       "      <td>1344707.70</td>\n",
       "      <td>808579.10</td>\n",
       "      <td>2010</td>\n",
       "      <td>11</td>\n",
       "      <td>20</td>\n",
       "      <td>2011</td>\n",
       "      <td>1</td>\n",
       "      <td>9</td>\n",
       "    </tr>\n",
       "    <tr>\n",
       "      <th>2</th>\n",
       "      <td>Europe</td>\n",
       "      <td>Russia</td>\n",
       "      <td>1</td>\n",
       "      <td>Online</td>\n",
       "      <td>1</td>\n",
       "      <td>4848</td>\n",
       "      <td>421.89</td>\n",
       "      <td>364.69</td>\n",
       "      <td>2045322.72</td>\n",
       "      <td>1768017.12</td>\n",
       "      <td>277305.60</td>\n",
       "      <td>2017</td>\n",
       "      <td>6</td>\n",
       "      <td>22</td>\n",
       "      <td>2017</td>\n",
       "      <td>6</td>\n",
       "      <td>25</td>\n",
       "    </tr>\n",
       "    <tr>\n",
       "      <th>3</th>\n",
       "      <td>Europe</td>\n",
       "      <td>Moldova</td>\n",
       "      <td>1</td>\n",
       "      <td>Online</td>\n",
       "      <td>1</td>\n",
       "      <td>7225</td>\n",
       "      <td>421.89</td>\n",
       "      <td>364.69</td>\n",
       "      <td>3048155.25</td>\n",
       "      <td>2634885.25</td>\n",
       "      <td>413270.00</td>\n",
       "      <td>2012</td>\n",
       "      <td>2</td>\n",
       "      <td>28</td>\n",
       "      <td>2012</td>\n",
       "      <td>3</td>\n",
       "      <td>20</td>\n",
       "    </tr>\n",
       "    <tr>\n",
       "      <th>4</th>\n",
       "      <td>Europe</td>\n",
       "      <td>Malta</td>\n",
       "      <td>9</td>\n",
       "      <td>Online</td>\n",
       "      <td>2</td>\n",
       "      <td>1975</td>\n",
       "      <td>205.70</td>\n",
       "      <td>117.11</td>\n",
       "      <td>406257.50</td>\n",
       "      <td>231292.25</td>\n",
       "      <td>174965.25</td>\n",
       "      <td>2010</td>\n",
       "      <td>8</td>\n",
       "      <td>12</td>\n",
       "      <td>2010</td>\n",
       "      <td>9</td>\n",
       "      <td>13</td>\n",
       "    </tr>\n",
       "  </tbody>\n",
       "</table>\n",
       "</div>"
      ],
      "text/plain": [
       "               Region   Country  Item Type Sales Channel  Order Priority  \\\n",
       "0  Sub-Saharan Africa   Namibia          0       Offline               2   \n",
       "1              Europe   Iceland         11        Online               3   \n",
       "2              Europe    Russia          1        Online               1   \n",
       "3              Europe  Moldova           1        Online               1   \n",
       "4              Europe     Malta          9        Online               2   \n",
       "\n",
       "   Units Sold  Unit Price  Unit Cost  Total Revenue  Total Cost  Total Profit  \\\n",
       "0        3604      668.27     502.54     2408445.08  1811154.16     597290.92   \n",
       "1        8435      255.28     159.42     2153286.80  1344707.70     808579.10   \n",
       "2        4848      421.89     364.69     2045322.72  1768017.12     277305.60   \n",
       "3        7225      421.89     364.69     3048155.25  2634885.25     413270.00   \n",
       "4        1975      205.70     117.11      406257.50   231292.25     174965.25   \n",
       "\n",
       "   Order Date_year  Order Date_month  Order Date_day  Ship Date_year  \\\n",
       "0             2015                 8              31            2015   \n",
       "1             2010                11              20            2011   \n",
       "2             2017                 6              22            2017   \n",
       "3             2012                 2              28            2012   \n",
       "4             2010                 8              12            2010   \n",
       "\n",
       "   Ship Date_month  Ship Date_day  \n",
       "0               10             12  \n",
       "1                1              9  \n",
       "2                6             25  \n",
       "3                3             20  \n",
       "4                9             13  "
      ]
     },
     "execution_count": 40,
     "metadata": {},
     "output_type": "execute_result"
    }
   ],
   "source": [
    "Item_Type_dict = {'Meat':1,'Fruits':2,'Cosmetics':3,'Vegetables':4,'Personal Care':5,'Beverages':6,'Snacks':7,\n",
    "                 'Clothes':8, 'Cereal':9, 'Household':0, 'Office Supplies':10 , 'Baby Food':11}\n",
    "x['Item Type'] = x['Item Type'].map(Item_Type_dict)\n",
    "x.head()"
   ]
  },
  {
   "cell_type": "code",
   "execution_count": 41,
   "metadata": {},
   "outputs": [
    {
     "data": {
      "text/plain": [
       "Online     25034\n",
       "Offline    24966\n",
       "Name: Sales Channel, dtype: int64"
      ]
     },
     "execution_count": 41,
     "metadata": {},
     "output_type": "execute_result"
    }
   ],
   "source": [
    "x['Sales Channel'].value_counts()"
   ]
  },
  {
   "cell_type": "code",
   "execution_count": 42,
   "metadata": {},
   "outputs": [
    {
     "data": {
      "text/html": [
       "<div>\n",
       "<style scoped>\n",
       "    .dataframe tbody tr th:only-of-type {\n",
       "        vertical-align: middle;\n",
       "    }\n",
       "\n",
       "    .dataframe tbody tr th {\n",
       "        vertical-align: top;\n",
       "    }\n",
       "\n",
       "    .dataframe thead th {\n",
       "        text-align: right;\n",
       "    }\n",
       "</style>\n",
       "<table border=\"1\" class=\"dataframe\">\n",
       "  <thead>\n",
       "    <tr style=\"text-align: right;\">\n",
       "      <th></th>\n",
       "      <th>Region</th>\n",
       "      <th>Country</th>\n",
       "      <th>Item Type</th>\n",
       "      <th>Sales Channel</th>\n",
       "      <th>Order Priority</th>\n",
       "      <th>Units Sold</th>\n",
       "      <th>Unit Price</th>\n",
       "      <th>Unit Cost</th>\n",
       "      <th>Total Revenue</th>\n",
       "      <th>Total Cost</th>\n",
       "      <th>Total Profit</th>\n",
       "      <th>Order Date_year</th>\n",
       "      <th>Order Date_month</th>\n",
       "      <th>Order Date_day</th>\n",
       "      <th>Ship Date_year</th>\n",
       "      <th>Ship Date_month</th>\n",
       "      <th>Ship Date_day</th>\n",
       "    </tr>\n",
       "  </thead>\n",
       "  <tbody>\n",
       "    <tr>\n",
       "      <th>0</th>\n",
       "      <td>Sub-Saharan Africa</td>\n",
       "      <td>Namibia</td>\n",
       "      <td>0</td>\n",
       "      <td>1</td>\n",
       "      <td>2</td>\n",
       "      <td>3604</td>\n",
       "      <td>668.27</td>\n",
       "      <td>502.54</td>\n",
       "      <td>2408445.08</td>\n",
       "      <td>1811154.16</td>\n",
       "      <td>597290.92</td>\n",
       "      <td>2015</td>\n",
       "      <td>8</td>\n",
       "      <td>31</td>\n",
       "      <td>2015</td>\n",
       "      <td>10</td>\n",
       "      <td>12</td>\n",
       "    </tr>\n",
       "    <tr>\n",
       "      <th>1</th>\n",
       "      <td>Europe</td>\n",
       "      <td>Iceland</td>\n",
       "      <td>11</td>\n",
       "      <td>0</td>\n",
       "      <td>3</td>\n",
       "      <td>8435</td>\n",
       "      <td>255.28</td>\n",
       "      <td>159.42</td>\n",
       "      <td>2153286.80</td>\n",
       "      <td>1344707.70</td>\n",
       "      <td>808579.10</td>\n",
       "      <td>2010</td>\n",
       "      <td>11</td>\n",
       "      <td>20</td>\n",
       "      <td>2011</td>\n",
       "      <td>1</td>\n",
       "      <td>9</td>\n",
       "    </tr>\n",
       "    <tr>\n",
       "      <th>2</th>\n",
       "      <td>Europe</td>\n",
       "      <td>Russia</td>\n",
       "      <td>1</td>\n",
       "      <td>0</td>\n",
       "      <td>1</td>\n",
       "      <td>4848</td>\n",
       "      <td>421.89</td>\n",
       "      <td>364.69</td>\n",
       "      <td>2045322.72</td>\n",
       "      <td>1768017.12</td>\n",
       "      <td>277305.60</td>\n",
       "      <td>2017</td>\n",
       "      <td>6</td>\n",
       "      <td>22</td>\n",
       "      <td>2017</td>\n",
       "      <td>6</td>\n",
       "      <td>25</td>\n",
       "    </tr>\n",
       "    <tr>\n",
       "      <th>3</th>\n",
       "      <td>Europe</td>\n",
       "      <td>Moldova</td>\n",
       "      <td>1</td>\n",
       "      <td>0</td>\n",
       "      <td>1</td>\n",
       "      <td>7225</td>\n",
       "      <td>421.89</td>\n",
       "      <td>364.69</td>\n",
       "      <td>3048155.25</td>\n",
       "      <td>2634885.25</td>\n",
       "      <td>413270.00</td>\n",
       "      <td>2012</td>\n",
       "      <td>2</td>\n",
       "      <td>28</td>\n",
       "      <td>2012</td>\n",
       "      <td>3</td>\n",
       "      <td>20</td>\n",
       "    </tr>\n",
       "    <tr>\n",
       "      <th>4</th>\n",
       "      <td>Europe</td>\n",
       "      <td>Malta</td>\n",
       "      <td>9</td>\n",
       "      <td>0</td>\n",
       "      <td>2</td>\n",
       "      <td>1975</td>\n",
       "      <td>205.70</td>\n",
       "      <td>117.11</td>\n",
       "      <td>406257.50</td>\n",
       "      <td>231292.25</td>\n",
       "      <td>174965.25</td>\n",
       "      <td>2010</td>\n",
       "      <td>8</td>\n",
       "      <td>12</td>\n",
       "      <td>2010</td>\n",
       "      <td>9</td>\n",
       "      <td>13</td>\n",
       "    </tr>\n",
       "  </tbody>\n",
       "</table>\n",
       "</div>"
      ],
      "text/plain": [
       "               Region   Country  Item Type  Sales Channel  Order Priority  \\\n",
       "0  Sub-Saharan Africa   Namibia          0              1               2   \n",
       "1              Europe   Iceland         11              0               3   \n",
       "2              Europe    Russia          1              0               1   \n",
       "3              Europe  Moldova           1              0               1   \n",
       "4              Europe     Malta          9              0               2   \n",
       "\n",
       "   Units Sold  Unit Price  Unit Cost  Total Revenue  Total Cost  Total Profit  \\\n",
       "0        3604      668.27     502.54     2408445.08  1811154.16     597290.92   \n",
       "1        8435      255.28     159.42     2153286.80  1344707.70     808579.10   \n",
       "2        4848      421.89     364.69     2045322.72  1768017.12     277305.60   \n",
       "3        7225      421.89     364.69     3048155.25  2634885.25     413270.00   \n",
       "4        1975      205.70     117.11      406257.50   231292.25     174965.25   \n",
       "\n",
       "   Order Date_year  Order Date_month  Order Date_day  Ship Date_year  \\\n",
       "0             2015                 8              31            2015   \n",
       "1             2010                11              20            2011   \n",
       "2             2017                 6              22            2017   \n",
       "3             2012                 2              28            2012   \n",
       "4             2010                 8              12            2010   \n",
       "\n",
       "   Ship Date_month  Ship Date_day  \n",
       "0               10             12  \n",
       "1                1              9  \n",
       "2                6             25  \n",
       "3                3             20  \n",
       "4                9             13  "
      ]
     },
     "execution_count": 42,
     "metadata": {},
     "output_type": "execute_result"
    }
   ],
   "source": [
    "Sales_Channel_dict = {'Online':0 , 'Offline':1}\n",
    "x['Sales Channel'] = x['Sales Channel'].map(Sales_Channel_dict)\n",
    "x.head()"
   ]
  },
  {
   "cell_type": "code",
   "execution_count": 43,
   "metadata": {},
   "outputs": [
    {
     "data": {
      "text/plain": [
       "Sub-Saharan Africa                   13116\n",
       "Europe                               12841\n",
       "Asia                                  7348\n",
       "Middle East and North Africa          6128\n",
       "Central America and the Caribbean     5451\n",
       "Australia and Oceania                 4017\n",
       "North America                         1099\n",
       "Name: Region, dtype: int64"
      ]
     },
     "execution_count": 43,
     "metadata": {},
     "output_type": "execute_result"
    }
   ],
   "source": [
    "x['Region'].value_counts()"
   ]
  },
  {
   "cell_type": "code",
   "execution_count": 44,
   "metadata": {},
   "outputs": [],
   "source": [
    "Region_dict = {'Sub-Saharan Africa':0,'Europe':1,'Asia':2,'Middle East and North Africa':3,\n",
    "              'Central America and the Caribbean':4,'Australia and Oceania':5,'North America':6}\n",
    "x['Region'] = x['Region'].map(Region_dict)"
   ]
  },
  {
   "cell_type": "code",
   "execution_count": 45,
   "metadata": {},
   "outputs": [
    {
     "data": {
      "text/html": [
       "<div>\n",
       "<style scoped>\n",
       "    .dataframe tbody tr th:only-of-type {\n",
       "        vertical-align: middle;\n",
       "    }\n",
       "\n",
       "    .dataframe tbody tr th {\n",
       "        vertical-align: top;\n",
       "    }\n",
       "\n",
       "    .dataframe thead th {\n",
       "        text-align: right;\n",
       "    }\n",
       "</style>\n",
       "<table border=\"1\" class=\"dataframe\">\n",
       "  <thead>\n",
       "    <tr style=\"text-align: right;\">\n",
       "      <th></th>\n",
       "      <th>Region</th>\n",
       "      <th>Country</th>\n",
       "      <th>Item Type</th>\n",
       "      <th>Sales Channel</th>\n",
       "      <th>Order Priority</th>\n",
       "      <th>Units Sold</th>\n",
       "      <th>Unit Price</th>\n",
       "      <th>Unit Cost</th>\n",
       "      <th>Total Revenue</th>\n",
       "      <th>Total Cost</th>\n",
       "      <th>Total Profit</th>\n",
       "      <th>Order Date_year</th>\n",
       "      <th>Order Date_month</th>\n",
       "      <th>Order Date_day</th>\n",
       "      <th>Ship Date_year</th>\n",
       "      <th>Ship Date_month</th>\n",
       "      <th>Ship Date_day</th>\n",
       "    </tr>\n",
       "  </thead>\n",
       "  <tbody>\n",
       "    <tr>\n",
       "      <th>0</th>\n",
       "      <td>0</td>\n",
       "      <td>Namibia</td>\n",
       "      <td>0</td>\n",
       "      <td>1</td>\n",
       "      <td>2</td>\n",
       "      <td>3604</td>\n",
       "      <td>668.27</td>\n",
       "      <td>502.54</td>\n",
       "      <td>2408445.08</td>\n",
       "      <td>1811154.16</td>\n",
       "      <td>597290.92</td>\n",
       "      <td>2015</td>\n",
       "      <td>8</td>\n",
       "      <td>31</td>\n",
       "      <td>2015</td>\n",
       "      <td>10</td>\n",
       "      <td>12</td>\n",
       "    </tr>\n",
       "    <tr>\n",
       "      <th>1</th>\n",
       "      <td>1</td>\n",
       "      <td>Iceland</td>\n",
       "      <td>11</td>\n",
       "      <td>0</td>\n",
       "      <td>3</td>\n",
       "      <td>8435</td>\n",
       "      <td>255.28</td>\n",
       "      <td>159.42</td>\n",
       "      <td>2153286.80</td>\n",
       "      <td>1344707.70</td>\n",
       "      <td>808579.10</td>\n",
       "      <td>2010</td>\n",
       "      <td>11</td>\n",
       "      <td>20</td>\n",
       "      <td>2011</td>\n",
       "      <td>1</td>\n",
       "      <td>9</td>\n",
       "    </tr>\n",
       "    <tr>\n",
       "      <th>2</th>\n",
       "      <td>1</td>\n",
       "      <td>Russia</td>\n",
       "      <td>1</td>\n",
       "      <td>0</td>\n",
       "      <td>1</td>\n",
       "      <td>4848</td>\n",
       "      <td>421.89</td>\n",
       "      <td>364.69</td>\n",
       "      <td>2045322.72</td>\n",
       "      <td>1768017.12</td>\n",
       "      <td>277305.60</td>\n",
       "      <td>2017</td>\n",
       "      <td>6</td>\n",
       "      <td>22</td>\n",
       "      <td>2017</td>\n",
       "      <td>6</td>\n",
       "      <td>25</td>\n",
       "    </tr>\n",
       "    <tr>\n",
       "      <th>3</th>\n",
       "      <td>1</td>\n",
       "      <td>Moldova</td>\n",
       "      <td>1</td>\n",
       "      <td>0</td>\n",
       "      <td>1</td>\n",
       "      <td>7225</td>\n",
       "      <td>421.89</td>\n",
       "      <td>364.69</td>\n",
       "      <td>3048155.25</td>\n",
       "      <td>2634885.25</td>\n",
       "      <td>413270.00</td>\n",
       "      <td>2012</td>\n",
       "      <td>2</td>\n",
       "      <td>28</td>\n",
       "      <td>2012</td>\n",
       "      <td>3</td>\n",
       "      <td>20</td>\n",
       "    </tr>\n",
       "    <tr>\n",
       "      <th>4</th>\n",
       "      <td>1</td>\n",
       "      <td>Malta</td>\n",
       "      <td>9</td>\n",
       "      <td>0</td>\n",
       "      <td>2</td>\n",
       "      <td>1975</td>\n",
       "      <td>205.70</td>\n",
       "      <td>117.11</td>\n",
       "      <td>406257.50</td>\n",
       "      <td>231292.25</td>\n",
       "      <td>174965.25</td>\n",
       "      <td>2010</td>\n",
       "      <td>8</td>\n",
       "      <td>12</td>\n",
       "      <td>2010</td>\n",
       "      <td>9</td>\n",
       "      <td>13</td>\n",
       "    </tr>\n",
       "  </tbody>\n",
       "</table>\n",
       "</div>"
      ],
      "text/plain": [
       "   Region   Country  Item Type  Sales Channel  Order Priority  Units Sold  \\\n",
       "0       0   Namibia          0              1               2        3604   \n",
       "1       1   Iceland         11              0               3        8435   \n",
       "2       1    Russia          1              0               1        4848   \n",
       "3       1  Moldova           1              0               1        7225   \n",
       "4       1     Malta          9              0               2        1975   \n",
       "\n",
       "   Unit Price  Unit Cost  Total Revenue  Total Cost  Total Profit  \\\n",
       "0      668.27     502.54     2408445.08  1811154.16     597290.92   \n",
       "1      255.28     159.42     2153286.80  1344707.70     808579.10   \n",
       "2      421.89     364.69     2045322.72  1768017.12     277305.60   \n",
       "3      421.89     364.69     3048155.25  2634885.25     413270.00   \n",
       "4      205.70     117.11      406257.50   231292.25     174965.25   \n",
       "\n",
       "   Order Date_year  Order Date_month  Order Date_day  Ship Date_year  \\\n",
       "0             2015                 8              31            2015   \n",
       "1             2010                11              20            2011   \n",
       "2             2017                 6              22            2017   \n",
       "3             2012                 2              28            2012   \n",
       "4             2010                 8              12            2010   \n",
       "\n",
       "   Ship Date_month  Ship Date_day  \n",
       "0               10             12  \n",
       "1                1              9  \n",
       "2                6             25  \n",
       "3                3             20  \n",
       "4                9             13  "
      ]
     },
     "execution_count": 45,
     "metadata": {},
     "output_type": "execute_result"
    }
   ],
   "source": [
    "x.head()"
   ]
  },
  {
   "cell_type": "code",
   "execution_count": 46,
   "metadata": {},
   "outputs": [
    {
     "data": {
      "text/plain": [
       "Trinidad and Tobago    321\n",
       "Guinea                 318\n",
       "Cape Verde             315\n",
       "Maldives               311\n",
       "Finland                310\n",
       "                      ... \n",
       "Yemen                  238\n",
       "Iran                   238\n",
       "Armenia                237\n",
       "Monaco                 236\n",
       "Malawi                 233\n",
       "Name: Country, Length: 185, dtype: int64"
      ]
     },
     "execution_count": 46,
     "metadata": {},
     "output_type": "execute_result"
    }
   ],
   "source": [
    "x['Country'].value_counts()"
   ]
  },
  {
   "cell_type": "code",
   "execution_count": 47,
   "metadata": {},
   "outputs": [
    {
     "data": {
      "text/html": [
       "<div>\n",
       "<style scoped>\n",
       "    .dataframe tbody tr th:only-of-type {\n",
       "        vertical-align: middle;\n",
       "    }\n",
       "\n",
       "    .dataframe tbody tr th {\n",
       "        vertical-align: top;\n",
       "    }\n",
       "\n",
       "    .dataframe thead th {\n",
       "        text-align: right;\n",
       "    }\n",
       "</style>\n",
       "<table border=\"1\" class=\"dataframe\">\n",
       "  <thead>\n",
       "    <tr style=\"text-align: right;\">\n",
       "      <th></th>\n",
       "      <th>Region</th>\n",
       "      <th>Country</th>\n",
       "      <th>Item Type</th>\n",
       "      <th>Sales Channel</th>\n",
       "      <th>Order Priority</th>\n",
       "      <th>Units Sold</th>\n",
       "      <th>Unit Price</th>\n",
       "      <th>Unit Cost</th>\n",
       "      <th>Total Revenue</th>\n",
       "      <th>Total Cost</th>\n",
       "      <th>Total Profit</th>\n",
       "      <th>Order Date_year</th>\n",
       "      <th>Order Date_month</th>\n",
       "      <th>Order Date_day</th>\n",
       "      <th>Ship Date_year</th>\n",
       "      <th>Ship Date_month</th>\n",
       "      <th>Ship Date_day</th>\n",
       "    </tr>\n",
       "  </thead>\n",
       "  <tbody>\n",
       "    <tr>\n",
       "      <th>0</th>\n",
       "      <td>0</td>\n",
       "      <td>111</td>\n",
       "      <td>0</td>\n",
       "      <td>1</td>\n",
       "      <td>2</td>\n",
       "      <td>3604</td>\n",
       "      <td>668.27</td>\n",
       "      <td>502.54</td>\n",
       "      <td>2408445.08</td>\n",
       "      <td>1811154.16</td>\n",
       "      <td>597290.92</td>\n",
       "      <td>2015</td>\n",
       "      <td>8</td>\n",
       "      <td>31</td>\n",
       "      <td>2015</td>\n",
       "      <td>10</td>\n",
       "      <td>12</td>\n",
       "    </tr>\n",
       "    <tr>\n",
       "      <th>1</th>\n",
       "      <td>1</td>\n",
       "      <td>67</td>\n",
       "      <td>11</td>\n",
       "      <td>0</td>\n",
       "      <td>3</td>\n",
       "      <td>8435</td>\n",
       "      <td>255.28</td>\n",
       "      <td>159.42</td>\n",
       "      <td>2153286.80</td>\n",
       "      <td>1344707.70</td>\n",
       "      <td>808579.10</td>\n",
       "      <td>2010</td>\n",
       "      <td>11</td>\n",
       "      <td>20</td>\n",
       "      <td>2011</td>\n",
       "      <td>1</td>\n",
       "      <td>9</td>\n",
       "    </tr>\n",
       "    <tr>\n",
       "      <th>2</th>\n",
       "      <td>1</td>\n",
       "      <td>132</td>\n",
       "      <td>1</td>\n",
       "      <td>0</td>\n",
       "      <td>1</td>\n",
       "      <td>4848</td>\n",
       "      <td>421.89</td>\n",
       "      <td>364.69</td>\n",
       "      <td>2045322.72</td>\n",
       "      <td>1768017.12</td>\n",
       "      <td>277305.60</td>\n",
       "      <td>2017</td>\n",
       "      <td>6</td>\n",
       "      <td>22</td>\n",
       "      <td>2017</td>\n",
       "      <td>6</td>\n",
       "      <td>25</td>\n",
       "    </tr>\n",
       "    <tr>\n",
       "      <th>3</th>\n",
       "      <td>1</td>\n",
       "      <td>104</td>\n",
       "      <td>1</td>\n",
       "      <td>0</td>\n",
       "      <td>1</td>\n",
       "      <td>7225</td>\n",
       "      <td>421.89</td>\n",
       "      <td>364.69</td>\n",
       "      <td>3048155.25</td>\n",
       "      <td>2634885.25</td>\n",
       "      <td>413270.00</td>\n",
       "      <td>2012</td>\n",
       "      <td>2</td>\n",
       "      <td>28</td>\n",
       "      <td>2012</td>\n",
       "      <td>3</td>\n",
       "      <td>20</td>\n",
       "    </tr>\n",
       "    <tr>\n",
       "      <th>4</th>\n",
       "      <td>1</td>\n",
       "      <td>99</td>\n",
       "      <td>9</td>\n",
       "      <td>0</td>\n",
       "      <td>2</td>\n",
       "      <td>1975</td>\n",
       "      <td>205.70</td>\n",
       "      <td>117.11</td>\n",
       "      <td>406257.50</td>\n",
       "      <td>231292.25</td>\n",
       "      <td>174965.25</td>\n",
       "      <td>2010</td>\n",
       "      <td>8</td>\n",
       "      <td>12</td>\n",
       "      <td>2010</td>\n",
       "      <td>9</td>\n",
       "      <td>13</td>\n",
       "    </tr>\n",
       "  </tbody>\n",
       "</table>\n",
       "</div>"
      ],
      "text/plain": [
       "   Region  Country  Item Type  Sales Channel  Order Priority  Units Sold  \\\n",
       "0       0      111          0              1               2        3604   \n",
       "1       1       67         11              0               3        8435   \n",
       "2       1      132          1              0               1        4848   \n",
       "3       1      104          1              0               1        7225   \n",
       "4       1       99          9              0               2        1975   \n",
       "\n",
       "   Unit Price  Unit Cost  Total Revenue  Total Cost  Total Profit  \\\n",
       "0      668.27     502.54     2408445.08  1811154.16     597290.92   \n",
       "1      255.28     159.42     2153286.80  1344707.70     808579.10   \n",
       "2      421.89     364.69     2045322.72  1768017.12     277305.60   \n",
       "3      421.89     364.69     3048155.25  2634885.25     413270.00   \n",
       "4      205.70     117.11      406257.50   231292.25     174965.25   \n",
       "\n",
       "   Order Date_year  Order Date_month  Order Date_day  Ship Date_year  \\\n",
       "0             2015                 8              31            2015   \n",
       "1             2010                11              20            2011   \n",
       "2             2017                 6              22            2017   \n",
       "3             2012                 2              28            2012   \n",
       "4             2010                 8              12            2010   \n",
       "\n",
       "   Ship Date_month  Ship Date_day  \n",
       "0               10             12  \n",
       "1                1              9  \n",
       "2                6             25  \n",
       "3                3             20  \n",
       "4                9             13  "
      ]
     },
     "execution_count": 47,
     "metadata": {},
     "output_type": "execute_result"
    }
   ],
   "source": [
    "# Import label encoder \n",
    "from sklearn import preprocessing   \n",
    "# label_encoder object knows how to understand word labels. \n",
    "label_encoder = preprocessing.LabelEncoder()   \n",
    "# Encode labels in column 'Country'. \n",
    "x['Country']= label_encoder.fit_transform(x['Country'])\n",
    "x.head()"
   ]
  },
  {
   "cell_type": "code",
   "execution_count": 48,
   "metadata": {},
   "outputs": [],
   "source": [
    "#x.drop('Units Sold',axis=1,inplace=True)\n",
    "#x.drop('Unit Price',axis=1,inplace=True)\n",
    "#x.drop('Unit Cost',axis=1,inplace=True)\n",
    "#x.head()"
   ]
  },
  {
   "cell_type": "code",
   "execution_count": 49,
   "metadata": {},
   "outputs": [
    {
     "data": {
      "text/html": [
       "<div>\n",
       "<style scoped>\n",
       "    .dataframe tbody tr th:only-of-type {\n",
       "        vertical-align: middle;\n",
       "    }\n",
       "\n",
       "    .dataframe tbody tr th {\n",
       "        vertical-align: top;\n",
       "    }\n",
       "\n",
       "    .dataframe thead th {\n",
       "        text-align: right;\n",
       "    }\n",
       "</style>\n",
       "<table border=\"1\" class=\"dataframe\">\n",
       "  <thead>\n",
       "    <tr style=\"text-align: right;\">\n",
       "      <th></th>\n",
       "      <th>Region</th>\n",
       "      <th>Country</th>\n",
       "      <th>Item Type</th>\n",
       "      <th>Sales Channel</th>\n",
       "      <th>Order Priority</th>\n",
       "      <th>Units Sold</th>\n",
       "      <th>Unit Price</th>\n",
       "      <th>Unit Cost</th>\n",
       "      <th>Total Revenue</th>\n",
       "      <th>Total Cost</th>\n",
       "      <th>Total Profit</th>\n",
       "      <th>Order Date_year</th>\n",
       "      <th>Order Date_month</th>\n",
       "      <th>Order Date_day</th>\n",
       "      <th>Ship Date_year</th>\n",
       "      <th>Ship Date_month</th>\n",
       "      <th>Ship Date_day</th>\n",
       "    </tr>\n",
       "  </thead>\n",
       "  <tbody>\n",
       "    <tr>\n",
       "      <th>0</th>\n",
       "      <td>0.000000</td>\n",
       "      <td>0.603261</td>\n",
       "      <td>0.000000</td>\n",
       "      <td>1.0</td>\n",
       "      <td>0.333333</td>\n",
       "      <td>3604</td>\n",
       "      <td>668.27</td>\n",
       "      <td>502.54</td>\n",
       "      <td>0.360433</td>\n",
       "      <td>0.345040</td>\n",
       "      <td>597290.92</td>\n",
       "      <td>2015</td>\n",
       "      <td>8</td>\n",
       "      <td>31</td>\n",
       "      <td>2015</td>\n",
       "      <td>10</td>\n",
       "      <td>12</td>\n",
       "    </tr>\n",
       "    <tr>\n",
       "      <th>1</th>\n",
       "      <td>0.166667</td>\n",
       "      <td>0.364130</td>\n",
       "      <td>1.000000</td>\n",
       "      <td>0.0</td>\n",
       "      <td>0.666667</td>\n",
       "      <td>8435</td>\n",
       "      <td>255.28</td>\n",
       "      <td>159.42</td>\n",
       "      <td>0.322247</td>\n",
       "      <td>0.256177</td>\n",
       "      <td>808579.10</td>\n",
       "      <td>2010</td>\n",
       "      <td>11</td>\n",
       "      <td>20</td>\n",
       "      <td>2011</td>\n",
       "      <td>1</td>\n",
       "      <td>9</td>\n",
       "    </tr>\n",
       "    <tr>\n",
       "      <th>2</th>\n",
       "      <td>0.166667</td>\n",
       "      <td>0.717391</td>\n",
       "      <td>0.090909</td>\n",
       "      <td>0.0</td>\n",
       "      <td>0.000000</td>\n",
       "      <td>4848</td>\n",
       "      <td>421.89</td>\n",
       "      <td>364.69</td>\n",
       "      <td>0.306090</td>\n",
       "      <td>0.336822</td>\n",
       "      <td>277305.60</td>\n",
       "      <td>2017</td>\n",
       "      <td>6</td>\n",
       "      <td>22</td>\n",
       "      <td>2017</td>\n",
       "      <td>6</td>\n",
       "      <td>25</td>\n",
       "    </tr>\n",
       "    <tr>\n",
       "      <th>3</th>\n",
       "      <td>0.166667</td>\n",
       "      <td>0.565217</td>\n",
       "      <td>0.090909</td>\n",
       "      <td>0.0</td>\n",
       "      <td>0.000000</td>\n",
       "      <td>7225</td>\n",
       "      <td>421.89</td>\n",
       "      <td>364.69</td>\n",
       "      <td>0.456170</td>\n",
       "      <td>0.501969</td>\n",
       "      <td>413270.00</td>\n",
       "      <td>2012</td>\n",
       "      <td>2</td>\n",
       "      <td>28</td>\n",
       "      <td>2012</td>\n",
       "      <td>3</td>\n",
       "      <td>20</td>\n",
       "    </tr>\n",
       "    <tr>\n",
       "      <th>4</th>\n",
       "      <td>0.166667</td>\n",
       "      <td>0.538043</td>\n",
       "      <td>0.818182</td>\n",
       "      <td>0.0</td>\n",
       "      <td>0.333333</td>\n",
       "      <td>1975</td>\n",
       "      <td>205.70</td>\n",
       "      <td>117.11</td>\n",
       "      <td>0.060795</td>\n",
       "      <td>0.044060</td>\n",
       "      <td>174965.25</td>\n",
       "      <td>2010</td>\n",
       "      <td>8</td>\n",
       "      <td>12</td>\n",
       "      <td>2010</td>\n",
       "      <td>9</td>\n",
       "      <td>13</td>\n",
       "    </tr>\n",
       "  </tbody>\n",
       "</table>\n",
       "</div>"
      ],
      "text/plain": [
       "     Region   Country  Item Type  Sales Channel  Order Priority  Units Sold  \\\n",
       "0  0.000000  0.603261   0.000000            1.0        0.333333        3604   \n",
       "1  0.166667  0.364130   1.000000            0.0        0.666667        8435   \n",
       "2  0.166667  0.717391   0.090909            0.0        0.000000        4848   \n",
       "3  0.166667  0.565217   0.090909            0.0        0.000000        7225   \n",
       "4  0.166667  0.538043   0.818182            0.0        0.333333        1975   \n",
       "\n",
       "   Unit Price  Unit Cost  Total Revenue  Total Cost  Total Profit  \\\n",
       "0      668.27     502.54       0.360433    0.345040     597290.92   \n",
       "1      255.28     159.42       0.322247    0.256177     808579.10   \n",
       "2      421.89     364.69       0.306090    0.336822     277305.60   \n",
       "3      421.89     364.69       0.456170    0.501969     413270.00   \n",
       "4      205.70     117.11       0.060795    0.044060     174965.25   \n",
       "\n",
       "   Order Date_year  Order Date_month  Order Date_day  Ship Date_year  \\\n",
       "0             2015                 8              31            2015   \n",
       "1             2010                11              20            2011   \n",
       "2             2017                 6              22            2017   \n",
       "3             2012                 2              28            2012   \n",
       "4             2010                 8              12            2010   \n",
       "\n",
       "   Ship Date_month  Ship Date_day  \n",
       "0               10             12  \n",
       "1                1              9  \n",
       "2                6             25  \n",
       "3                3             20  \n",
       "4                9             13  "
      ]
     },
     "execution_count": 49,
     "metadata": {},
     "output_type": "execute_result"
    }
   ],
   "source": [
    "from sklearn.preprocessing import MinMaxScaler\n",
    "scaler = MinMaxScaler() \n",
    "x[['Region','Country','Item Type','Sales Channel','Order Priority','Total Revenue','Total Cost']] = scaler.fit_transform(x[['Region','Country','Item Type','Sales Channel','Order Priority','Total Revenue','Total Cost']])\n",
    "x.head()"
   ]
  },
  {
   "cell_type": "code",
   "execution_count": 50,
   "metadata": {},
   "outputs": [
    {
     "data": {
      "text/html": [
       "<div>\n",
       "<style scoped>\n",
       "    .dataframe tbody tr th:only-of-type {\n",
       "        vertical-align: middle;\n",
       "    }\n",
       "\n",
       "    .dataframe tbody tr th {\n",
       "        vertical-align: top;\n",
       "    }\n",
       "\n",
       "    .dataframe thead th {\n",
       "        text-align: right;\n",
       "    }\n",
       "</style>\n",
       "<table border=\"1\" class=\"dataframe\">\n",
       "  <thead>\n",
       "    <tr style=\"text-align: right;\">\n",
       "      <th></th>\n",
       "      <th>Region</th>\n",
       "      <th>Country</th>\n",
       "      <th>Item Type</th>\n",
       "      <th>Sales Channel</th>\n",
       "      <th>Order Priority</th>\n",
       "      <th>Units Sold</th>\n",
       "      <th>Unit Price</th>\n",
       "      <th>Unit Cost</th>\n",
       "      <th>Total Revenue</th>\n",
       "      <th>Total Cost</th>\n",
       "      <th>Total Profit</th>\n",
       "      <th>Order Date_year</th>\n",
       "      <th>Order Date_month</th>\n",
       "      <th>Order Date_day</th>\n",
       "      <th>Ship Date_year</th>\n",
       "      <th>Ship Date_month</th>\n",
       "      <th>Ship Date_day</th>\n",
       "    </tr>\n",
       "  </thead>\n",
       "  <tbody>\n",
       "    <tr>\n",
       "      <th>0</th>\n",
       "      <td>0.000000</td>\n",
       "      <td>0.603261</td>\n",
       "      <td>0.000000</td>\n",
       "      <td>1.0</td>\n",
       "      <td>0.333333</td>\n",
       "      <td>0.360336</td>\n",
       "      <td>1.000000</td>\n",
       "      <td>0.956721</td>\n",
       "      <td>0.360433</td>\n",
       "      <td>0.345040</td>\n",
       "      <td>597290.92</td>\n",
       "      <td>2015</td>\n",
       "      <td>8</td>\n",
       "      <td>31</td>\n",
       "      <td>2015</td>\n",
       "      <td>10</td>\n",
       "      <td>12</td>\n",
       "    </tr>\n",
       "    <tr>\n",
       "      <th>1</th>\n",
       "      <td>0.166667</td>\n",
       "      <td>0.364130</td>\n",
       "      <td>1.000000</td>\n",
       "      <td>0.0</td>\n",
       "      <td>0.666667</td>\n",
       "      <td>0.843484</td>\n",
       "      <td>0.373251</td>\n",
       "      <td>0.294379</td>\n",
       "      <td>0.322247</td>\n",
       "      <td>0.256177</td>\n",
       "      <td>808579.10</td>\n",
       "      <td>2010</td>\n",
       "      <td>11</td>\n",
       "      <td>20</td>\n",
       "      <td>2011</td>\n",
       "      <td>1</td>\n",
       "      <td>9</td>\n",
       "    </tr>\n",
       "    <tr>\n",
       "      <th>2</th>\n",
       "      <td>0.166667</td>\n",
       "      <td>0.717391</td>\n",
       "      <td>0.090909</td>\n",
       "      <td>0.0</td>\n",
       "      <td>0.000000</td>\n",
       "      <td>0.484748</td>\n",
       "      <td>0.626096</td>\n",
       "      <td>0.690622</td>\n",
       "      <td>0.306090</td>\n",
       "      <td>0.336822</td>\n",
       "      <td>277305.60</td>\n",
       "      <td>2017</td>\n",
       "      <td>6</td>\n",
       "      <td>22</td>\n",
       "      <td>2017</td>\n",
       "      <td>6</td>\n",
       "      <td>25</td>\n",
       "    </tr>\n",
       "    <tr>\n",
       "      <th>3</th>\n",
       "      <td>0.166667</td>\n",
       "      <td>0.565217</td>\n",
       "      <td>0.090909</td>\n",
       "      <td>0.0</td>\n",
       "      <td>0.000000</td>\n",
       "      <td>0.722472</td>\n",
       "      <td>0.626096</td>\n",
       "      <td>0.690622</td>\n",
       "      <td>0.456170</td>\n",
       "      <td>0.501969</td>\n",
       "      <td>413270.00</td>\n",
       "      <td>2012</td>\n",
       "      <td>2</td>\n",
       "      <td>28</td>\n",
       "      <td>2012</td>\n",
       "      <td>3</td>\n",
       "      <td>20</td>\n",
       "    </tr>\n",
       "    <tr>\n",
       "      <th>4</th>\n",
       "      <td>0.166667</td>\n",
       "      <td>0.538043</td>\n",
       "      <td>0.818182</td>\n",
       "      <td>0.0</td>\n",
       "      <td>0.333333</td>\n",
       "      <td>0.197420</td>\n",
       "      <td>0.298009</td>\n",
       "      <td>0.212706</td>\n",
       "      <td>0.060795</td>\n",
       "      <td>0.044060</td>\n",
       "      <td>174965.25</td>\n",
       "      <td>2010</td>\n",
       "      <td>8</td>\n",
       "      <td>12</td>\n",
       "      <td>2010</td>\n",
       "      <td>9</td>\n",
       "      <td>13</td>\n",
       "    </tr>\n",
       "  </tbody>\n",
       "</table>\n",
       "</div>"
      ],
      "text/plain": [
       "     Region   Country  Item Type  Sales Channel  Order Priority  Units Sold  \\\n",
       "0  0.000000  0.603261   0.000000            1.0        0.333333    0.360336   \n",
       "1  0.166667  0.364130   1.000000            0.0        0.666667    0.843484   \n",
       "2  0.166667  0.717391   0.090909            0.0        0.000000    0.484748   \n",
       "3  0.166667  0.565217   0.090909            0.0        0.000000    0.722472   \n",
       "4  0.166667  0.538043   0.818182            0.0        0.333333    0.197420   \n",
       "\n",
       "   Unit Price  Unit Cost  Total Revenue  Total Cost  Total Profit  \\\n",
       "0    1.000000   0.956721       0.360433    0.345040     597290.92   \n",
       "1    0.373251   0.294379       0.322247    0.256177     808579.10   \n",
       "2    0.626096   0.690622       0.306090    0.336822     277305.60   \n",
       "3    0.626096   0.690622       0.456170    0.501969     413270.00   \n",
       "4    0.298009   0.212706       0.060795    0.044060     174965.25   \n",
       "\n",
       "   Order Date_year  Order Date_month  Order Date_day  Ship Date_year  \\\n",
       "0             2015                 8              31            2015   \n",
       "1             2010                11              20            2011   \n",
       "2             2017                 6              22            2017   \n",
       "3             2012                 2              28            2012   \n",
       "4             2010                 8              12            2010   \n",
       "\n",
       "   Ship Date_month  Ship Date_day  \n",
       "0               10             12  \n",
       "1                1              9  \n",
       "2                6             25  \n",
       "3                3             20  \n",
       "4                9             13  "
      ]
     },
     "execution_count": 50,
     "metadata": {},
     "output_type": "execute_result"
    }
   ],
   "source": [
    "x[['Units Sold','Unit Price','Unit Cost']] = scaler.fit_transform(x[['Units Sold','Unit Price','Unit Cost']])\n",
    "x.head()"
   ]
  },
  {
   "cell_type": "code",
   "execution_count": 51,
   "metadata": {},
   "outputs": [
    {
     "data": {
      "text/html": [
       "<div>\n",
       "<style scoped>\n",
       "    .dataframe tbody tr th:only-of-type {\n",
       "        vertical-align: middle;\n",
       "    }\n",
       "\n",
       "    .dataframe tbody tr th {\n",
       "        vertical-align: top;\n",
       "    }\n",
       "\n",
       "    .dataframe thead th {\n",
       "        text-align: right;\n",
       "    }\n",
       "</style>\n",
       "<table border=\"1\" class=\"dataframe\">\n",
       "  <thead>\n",
       "    <tr style=\"text-align: right;\">\n",
       "      <th></th>\n",
       "      <th>Region</th>\n",
       "      <th>Country</th>\n",
       "      <th>Item Type</th>\n",
       "      <th>Sales Channel</th>\n",
       "      <th>Order Priority</th>\n",
       "      <th>Units Sold</th>\n",
       "      <th>Unit Price</th>\n",
       "      <th>Unit Cost</th>\n",
       "      <th>Total Revenue</th>\n",
       "      <th>Total Cost</th>\n",
       "      <th>Total Profit</th>\n",
       "      <th>Order Date_year</th>\n",
       "      <th>Order Date_month</th>\n",
       "      <th>Order Date_day</th>\n",
       "      <th>Ship Date_year</th>\n",
       "      <th>Ship Date_month</th>\n",
       "      <th>Ship Date_day</th>\n",
       "    </tr>\n",
       "  </thead>\n",
       "  <tbody>\n",
       "    <tr>\n",
       "      <th>0</th>\n",
       "      <td>0.000000</td>\n",
       "      <td>0.603261</td>\n",
       "      <td>0.000000</td>\n",
       "      <td>1.0</td>\n",
       "      <td>0.333333</td>\n",
       "      <td>0.360336</td>\n",
       "      <td>1.000000</td>\n",
       "      <td>0.956721</td>\n",
       "      <td>0.360433</td>\n",
       "      <td>0.345040</td>\n",
       "      <td>597290.92</td>\n",
       "      <td>0.714286</td>\n",
       "      <td>0.636364</td>\n",
       "      <td>1.000000</td>\n",
       "      <td>0.714286</td>\n",
       "      <td>0.818182</td>\n",
       "      <td>0.366667</td>\n",
       "    </tr>\n",
       "    <tr>\n",
       "      <th>1</th>\n",
       "      <td>0.166667</td>\n",
       "      <td>0.364130</td>\n",
       "      <td>1.000000</td>\n",
       "      <td>0.0</td>\n",
       "      <td>0.666667</td>\n",
       "      <td>0.843484</td>\n",
       "      <td>0.373251</td>\n",
       "      <td>0.294379</td>\n",
       "      <td>0.322247</td>\n",
       "      <td>0.256177</td>\n",
       "      <td>808579.10</td>\n",
       "      <td>0.000000</td>\n",
       "      <td>0.909091</td>\n",
       "      <td>0.633333</td>\n",
       "      <td>0.142857</td>\n",
       "      <td>0.000000</td>\n",
       "      <td>0.266667</td>\n",
       "    </tr>\n",
       "    <tr>\n",
       "      <th>2</th>\n",
       "      <td>0.166667</td>\n",
       "      <td>0.717391</td>\n",
       "      <td>0.090909</td>\n",
       "      <td>0.0</td>\n",
       "      <td>0.000000</td>\n",
       "      <td>0.484748</td>\n",
       "      <td>0.626096</td>\n",
       "      <td>0.690622</td>\n",
       "      <td>0.306090</td>\n",
       "      <td>0.336822</td>\n",
       "      <td>277305.60</td>\n",
       "      <td>1.000000</td>\n",
       "      <td>0.454545</td>\n",
       "      <td>0.700000</td>\n",
       "      <td>1.000000</td>\n",
       "      <td>0.454545</td>\n",
       "      <td>0.800000</td>\n",
       "    </tr>\n",
       "    <tr>\n",
       "      <th>3</th>\n",
       "      <td>0.166667</td>\n",
       "      <td>0.565217</td>\n",
       "      <td>0.090909</td>\n",
       "      <td>0.0</td>\n",
       "      <td>0.000000</td>\n",
       "      <td>0.722472</td>\n",
       "      <td>0.626096</td>\n",
       "      <td>0.690622</td>\n",
       "      <td>0.456170</td>\n",
       "      <td>0.501969</td>\n",
       "      <td>413270.00</td>\n",
       "      <td>0.285714</td>\n",
       "      <td>0.090909</td>\n",
       "      <td>0.900000</td>\n",
       "      <td>0.285714</td>\n",
       "      <td>0.181818</td>\n",
       "      <td>0.633333</td>\n",
       "    </tr>\n",
       "    <tr>\n",
       "      <th>4</th>\n",
       "      <td>0.166667</td>\n",
       "      <td>0.538043</td>\n",
       "      <td>0.818182</td>\n",
       "      <td>0.0</td>\n",
       "      <td>0.333333</td>\n",
       "      <td>0.197420</td>\n",
       "      <td>0.298009</td>\n",
       "      <td>0.212706</td>\n",
       "      <td>0.060795</td>\n",
       "      <td>0.044060</td>\n",
       "      <td>174965.25</td>\n",
       "      <td>0.000000</td>\n",
       "      <td>0.636364</td>\n",
       "      <td>0.366667</td>\n",
       "      <td>0.000000</td>\n",
       "      <td>0.727273</td>\n",
       "      <td>0.400000</td>\n",
       "    </tr>\n",
       "  </tbody>\n",
       "</table>\n",
       "</div>"
      ],
      "text/plain": [
       "     Region   Country  Item Type  Sales Channel  Order Priority  Units Sold  \\\n",
       "0  0.000000  0.603261   0.000000            1.0        0.333333    0.360336   \n",
       "1  0.166667  0.364130   1.000000            0.0        0.666667    0.843484   \n",
       "2  0.166667  0.717391   0.090909            0.0        0.000000    0.484748   \n",
       "3  0.166667  0.565217   0.090909            0.0        0.000000    0.722472   \n",
       "4  0.166667  0.538043   0.818182            0.0        0.333333    0.197420   \n",
       "\n",
       "   Unit Price  Unit Cost  Total Revenue  Total Cost  Total Profit  \\\n",
       "0    1.000000   0.956721       0.360433    0.345040     597290.92   \n",
       "1    0.373251   0.294379       0.322247    0.256177     808579.10   \n",
       "2    0.626096   0.690622       0.306090    0.336822     277305.60   \n",
       "3    0.626096   0.690622       0.456170    0.501969     413270.00   \n",
       "4    0.298009   0.212706       0.060795    0.044060     174965.25   \n",
       "\n",
       "   Order Date_year  Order Date_month  Order Date_day  Ship Date_year  \\\n",
       "0         0.714286          0.636364        1.000000        0.714286   \n",
       "1         0.000000          0.909091        0.633333        0.142857   \n",
       "2         1.000000          0.454545        0.700000        1.000000   \n",
       "3         0.285714          0.090909        0.900000        0.285714   \n",
       "4         0.000000          0.636364        0.366667        0.000000   \n",
       "\n",
       "   Ship Date_month  Ship Date_day  \n",
       "0         0.818182       0.366667  \n",
       "1         0.000000       0.266667  \n",
       "2         0.454545       0.800000  \n",
       "3         0.181818       0.633333  \n",
       "4         0.727273       0.400000  "
      ]
     },
     "execution_count": 51,
     "metadata": {},
     "output_type": "execute_result"
    }
   ],
   "source": [
    "x[['Order Date_year','Order Date_month','Order Date_day','Ship Date_year','Ship Date_month','Ship Date_day']] = scaler.fit_transform(x[['Order Date_year','Order Date_month','Order Date_day','Ship Date_year','Ship Date_month','Ship Date_day']])\n",
    "x.head()"
   ]
  },
  {
   "cell_type": "code",
   "execution_count": 52,
   "metadata": {},
   "outputs": [
    {
     "data": {
      "text/plain": [
       "Region              0.638936\n",
       "Country            -0.003622\n",
       "Item Type           0.009011\n",
       "Sales Channel       0.002720\n",
       "Order Priority      0.005178\n",
       "Units Sold         -0.012964\n",
       "Unit Price          0.735888\n",
       "Unit Cost           0.893408\n",
       "Total Revenue       1.581942\n",
       "Total Cost          1.756618\n",
       "Total Profit        1.292324\n",
       "Order Date_year     0.051303\n",
       "Order Date_month    0.061570\n",
       "Order Date_day     -0.005490\n",
       "Ship Date_year      0.038203\n",
       "Ship Date_month     0.046113\n",
       "Ship Date_day       0.018445\n",
       "dtype: float64"
      ]
     },
     "execution_count": 52,
     "metadata": {},
     "output_type": "execute_result"
    }
   ],
   "source": [
    "x.skew()"
   ]
  },
  {
   "cell_type": "code",
   "execution_count": 113,
   "metadata": {},
   "outputs": [
    {
     "data": {
      "text/plain": [
       "<matplotlib.axes._subplots.AxesSubplot at 0x2ab59776b20>"
      ]
     },
     "execution_count": 113,
     "metadata": {},
     "output_type": "execute_result"
    },
    {
     "data": {
      "image/png": "[encoded data removed]",
      "text/plain": [
       "<Figure size 432x288 with 1 Axes>"
      ]
     },
     "metadata": {},
     "output_type": "display_data"
    }
   ],
   "source": [
    "sns.boxplot(x['Unit Price'],palette = \"Set3\")"
   ]
  },
  {
   "cell_type": "code",
   "execution_count": 106,
   "metadata": {},
   "outputs": [
    {
     "data": {
      "text/plain": [
       "<matplotlib.axes._subplots.AxesSubplot at 0x2ab58e0cc10>"
      ]
     },
     "execution_count": 106,
     "metadata": {},
     "output_type": "execute_result"
    },
    {
     "data": {
      "image/png": "[encoded data removed]",
      "text/plain": [
       "<Figure size 432x288 with 1 Axes>"
      ]
     },
     "metadata": {},
     "output_type": "display_data"
    }
   ],
   "source": [
    "sns.boxplot(x['Unit Price'],palette = \"Set2\")"
   ]
  },
  {
   "cell_type": "code",
   "execution_count": 107,
   "metadata": {},
   "outputs": [
    {
     "data": {
      "text/plain": [
       "<matplotlib.axes._subplots.AxesSubplot at 0x2ab58cda250>"
      ]
     },
     "execution_count": 107,
     "metadata": {},
     "output_type": "execute_result"
    },
    {
     "data": {
      "image/png": "[encoded data removed]",
      "text/plain": [
       "<Figure size 432x288 with 1 Axes>"
      ]
     },
     "metadata": {},
     "output_type": "display_data"
    }
   ],
   "source": [
    "sns.boxplot(x['Unit Cost'],palette = \"Set2\")"
   ]
  },
  {
   "cell_type": "code",
   "execution_count": 53,
   "metadata": {},
   "outputs": [
    {
     "data": {
      "text/plain": [
       "<matplotlib.axes._subplots.AxesSubplot at 0x2ab59648f40>"
      ]
     },
     "execution_count": 53,
     "metadata": {},
     "output_type": "execute_result"
    },
    {
     "data": {
      "image/png": "[encoded data removed]",
      "text/plain": [
       "<Figure size 432x288 with 1 Axes>"
      ]
     },
     "metadata": {},
     "output_type": "display_data"
    }
   ],
   "source": [
    "sns.boxplot(x['Total Revenue'],palette = \"Set2\")"
   ]
  },
  {
   "cell_type": "code",
   "execution_count": 54,
   "metadata": {},
   "outputs": [
    {
     "data": {
      "text/plain": [
       "<matplotlib.axes._subplots.AxesSubplot at 0x2ab59648df0>"
      ]
     },
     "execution_count": 54,
     "metadata": {},
     "output_type": "execute_result"
    },
    {
     "data": {
      "image/png": "[encoded data removed]",
      "text/plain": [
       "<Figure size 432x288 with 1 Axes>"
      ]
     },
     "metadata": {},
     "output_type": "display_data"
    }
   ],
   "source": [
    "sns.boxplot(x['Total Cost'],palette = \"Set2\")"
   ]
  },
  {
   "cell_type": "code",
   "execution_count": 55,
   "metadata": {},
   "outputs": [],
   "source": [
    "def outlier_treatment(datacolumn):\n",
    " sorted(datacolumn)\n",
    " Q1,Q3 = np.percentile(datacolumn , [25,75])\n",
    " IQR = Q3 - Q1\n",
    " lower_range = Q1 - (1.5 * IQR)\n",
    " upper_range = Q3 + (1.5 * IQR)\n",
    " return (lower_range,upper_range)"
   ]
  },
  {
   "cell_type": "code",
   "execution_count": 56,
   "metadata": {},
   "outputs": [],
   "source": [
    "lowerbound,upperbound = outlier_treatment(x['Total Cost'])"
   ]
  },
  {
   "cell_type": "code",
   "execution_count": 57,
   "metadata": {},
   "outputs": [
    {
     "data": {
      "text/plain": [
       "-0.2636690099154394"
      ]
     },
     "execution_count": 57,
     "metadata": {},
     "output_type": "execute_result"
    }
   ],
   "source": [
    "lowerbound"
   ]
  },
  {
   "cell_type": "code",
   "execution_count": 58,
   "metadata": {},
   "outputs": [
    {
     "data": {
      "text/plain": [
       "0.5210459197232762"
      ]
     },
     "execution_count": 58,
     "metadata": {},
     "output_type": "execute_result"
    }
   ],
   "source": [
    "upperbound"
   ]
  },
  {
   "cell_type": "code",
   "execution_count": 59,
   "metadata": {},
   "outputs": [
    {
     "data": {
      "text/plain": [
       "22       0.912591\n",
       "27       0.919792\n",
       "34       0.600855\n",
       "49       0.977798\n",
       "55       0.622165\n",
       "           ...   \n",
       "49973    0.684531\n",
       "49976    0.843684\n",
       "49978    0.867776\n",
       "49984    0.761697\n",
       "49996    0.580356\n",
       "Name: Total Cost, Length: 4856, dtype: float64"
      ]
     },
     "execution_count": 59,
     "metadata": {},
     "output_type": "execute_result"
    }
   ],
   "source": [
    "x[(x['Total Cost'] < lowerbound) | (x['Total Cost'] > upperbound)]['Total Cost']"
   ]
  },
  {
   "cell_type": "code",
   "execution_count": 60,
   "metadata": {},
   "outputs": [
    {
     "data": {
      "text/plain": [
       "0.08898426651438628"
      ]
     },
     "execution_count": 60,
     "metadata": {},
     "output_type": "execute_result"
    }
   ],
   "source": [
    "Total_Cost_median = np.median(x['Total Cost'])\n",
    "Total_Cost_median"
   ]
  },
  {
   "cell_type": "code",
   "execution_count": 61,
   "metadata": {},
   "outputs": [],
   "source": [
    "x.drop(x[(x['Total Cost'] > upperbound) | (x['Total Cost'] < lowerbound) ].index , inplace=True)"
   ]
  },
  {
   "cell_type": "code",
   "execution_count": 62,
   "metadata": {},
   "outputs": [
    {
     "data": {
      "text/plain": [
       "Series([], Name: Total Cost, dtype: float64)"
      ]
     },
     "execution_count": 62,
     "metadata": {},
     "output_type": "execute_result"
    }
   ],
   "source": [
    "x[(x['Total Cost'] < lowerbound) | (x['Total Cost'] > upperbound)]['Total Cost']"
   ]
  },
  {
   "cell_type": "code",
   "execution_count": 63,
   "metadata": {},
   "outputs": [
    {
     "data": {
      "text/plain": [
       "<matplotlib.axes._subplots.AxesSubplot at 0x2ab58d5f9a0>"
      ]
     },
     "execution_count": 63,
     "metadata": {},
     "output_type": "execute_result"
    },
    {
     "data": {
      "image/png": "[encoded data removed]",
      "text/plain": [
       "<Figure size 432x288 with 1 Axes>"
      ]
     },
     "metadata": {},
     "output_type": "display_data"
    }
   ],
   "source": [
    "sns.boxplot(x['Total Cost'],palette = \"Set2\")"
   ]
  },
  {
   "cell_type": "code",
   "execution_count": 64,
   "metadata": {},
   "outputs": [],
   "source": [
    "lowerbound,upperbound = outlier_treatment(x['Total Revenue'])"
   ]
  },
  {
   "cell_type": "code",
   "execution_count": 65,
   "metadata": {},
   "outputs": [
    {
     "data": {
      "text/plain": [
       "-0.22485784593410002"
      ]
     },
     "execution_count": 65,
     "metadata": {},
     "output_type": "execute_result"
    }
   ],
   "source": [
    "lowerbound"
   ]
  },
  {
   "cell_type": "code",
   "execution_count": 66,
   "metadata": {},
   "outputs": [
    {
     "data": {
      "text/plain": [
       "0.4683643072160268"
      ]
     },
     "execution_count": 66,
     "metadata": {},
     "output_type": "execute_result"
    }
   ],
   "source": [
    "upperbound"
   ]
  },
  {
   "cell_type": "code",
   "execution_count": 67,
   "metadata": {},
   "outputs": [
    {
     "data": {
      "text/plain": [
       "9        0.517608\n",
       "25       0.540509\n",
       "31       0.522050\n",
       "39       0.651543\n",
       "44       0.475587\n",
       "           ...   \n",
       "49895    0.521350\n",
       "49896    0.486308\n",
       "49924    0.513349\n",
       "49944    0.522250\n",
       "49980    0.599722\n",
       "Name: Total Revenue, Length: 1718, dtype: float64"
      ]
     },
     "execution_count": 67,
     "metadata": {},
     "output_type": "execute_result"
    }
   ],
   "source": [
    "x[(x['Total Revenue'] < lowerbound) | (x['Total Revenue'] > upperbound)]['Total Revenue']"
   ]
  },
  {
   "cell_type": "code",
   "execution_count": 68,
   "metadata": {},
   "outputs": [],
   "source": [
    "x.drop(x[(x['Total Revenue'] > upperbound) | (x['Total Revenue'] < lowerbound) ].index , inplace=True)"
   ]
  },
  {
   "cell_type": "code",
   "execution_count": 69,
   "metadata": {},
   "outputs": [
    {
     "data": {
      "text/plain": [
       "<matplotlib.axes._subplots.AxesSubplot at 0x2ab595ef490>"
      ]
     },
     "execution_count": 69,
     "metadata": {},
     "output_type": "execute_result"
    },
    {
     "data": {
      "image/png": "[encoded data removed]",
      "text/plain": [
       "<Figure size 432x288 with 1 Axes>"
      ]
     },
     "metadata": {},
     "output_type": "display_data"
    }
   ],
   "source": [
    "sns.boxplot(x['Total Revenue'],palette = \"Set2\")"
   ]
  },
  {
   "cell_type": "code",
   "execution_count": 70,
   "metadata": {},
   "outputs": [
    {
     "data": {
      "text/html": [
       "<div>\n",
       "<style scoped>\n",
       "    .dataframe tbody tr th:only-of-type {\n",
       "        vertical-align: middle;\n",
       "    }\n",
       "\n",
       "    .dataframe tbody tr th {\n",
       "        vertical-align: top;\n",
       "    }\n",
       "\n",
       "    .dataframe thead th {\n",
       "        text-align: right;\n",
       "    }\n",
       "</style>\n",
       "<table border=\"1\" class=\"dataframe\">\n",
       "  <thead>\n",
       "    <tr style=\"text-align: right;\">\n",
       "      <th></th>\n",
       "      <th>Region</th>\n",
       "      <th>Country</th>\n",
       "      <th>Item Type</th>\n",
       "      <th>Sales Channel</th>\n",
       "      <th>Order Priority</th>\n",
       "      <th>Units Sold</th>\n",
       "      <th>Unit Price</th>\n",
       "      <th>Unit Cost</th>\n",
       "      <th>Total Revenue</th>\n",
       "      <th>Total Cost</th>\n",
       "      <th>Total Profit</th>\n",
       "      <th>Order Date_year</th>\n",
       "      <th>Order Date_month</th>\n",
       "      <th>Order Date_day</th>\n",
       "      <th>Ship Date_year</th>\n",
       "      <th>Ship Date_month</th>\n",
       "      <th>Ship Date_day</th>\n",
       "    </tr>\n",
       "  </thead>\n",
       "  <tbody>\n",
       "    <tr>\n",
       "      <th>0</th>\n",
       "      <td>0.000000</td>\n",
       "      <td>0.603261</td>\n",
       "      <td>0.000000</td>\n",
       "      <td>1.0</td>\n",
       "      <td>0.333333</td>\n",
       "      <td>0.360336</td>\n",
       "      <td>1.000000</td>\n",
       "      <td>0.956721</td>\n",
       "      <td>0.360433</td>\n",
       "      <td>0.345040</td>\n",
       "      <td>597290.92</td>\n",
       "      <td>0.714286</td>\n",
       "      <td>0.636364</td>\n",
       "      <td>1.000000</td>\n",
       "      <td>0.714286</td>\n",
       "      <td>0.818182</td>\n",
       "      <td>0.366667</td>\n",
       "    </tr>\n",
       "    <tr>\n",
       "      <th>1</th>\n",
       "      <td>0.166667</td>\n",
       "      <td>0.364130</td>\n",
       "      <td>1.000000</td>\n",
       "      <td>0.0</td>\n",
       "      <td>0.666667</td>\n",
       "      <td>0.843484</td>\n",
       "      <td>0.373251</td>\n",
       "      <td>0.294379</td>\n",
       "      <td>0.322247</td>\n",
       "      <td>0.256177</td>\n",
       "      <td>808579.10</td>\n",
       "      <td>0.000000</td>\n",
       "      <td>0.909091</td>\n",
       "      <td>0.633333</td>\n",
       "      <td>0.142857</td>\n",
       "      <td>0.000000</td>\n",
       "      <td>0.266667</td>\n",
       "    </tr>\n",
       "    <tr>\n",
       "      <th>2</th>\n",
       "      <td>0.166667</td>\n",
       "      <td>0.717391</td>\n",
       "      <td>0.090909</td>\n",
       "      <td>0.0</td>\n",
       "      <td>0.000000</td>\n",
       "      <td>0.484748</td>\n",
       "      <td>0.626096</td>\n",
       "      <td>0.690622</td>\n",
       "      <td>0.306090</td>\n",
       "      <td>0.336822</td>\n",
       "      <td>277305.60</td>\n",
       "      <td>1.000000</td>\n",
       "      <td>0.454545</td>\n",
       "      <td>0.700000</td>\n",
       "      <td>1.000000</td>\n",
       "      <td>0.454545</td>\n",
       "      <td>0.800000</td>\n",
       "    </tr>\n",
       "    <tr>\n",
       "      <th>3</th>\n",
       "      <td>0.166667</td>\n",
       "      <td>0.565217</td>\n",
       "      <td>0.090909</td>\n",
       "      <td>0.0</td>\n",
       "      <td>0.000000</td>\n",
       "      <td>0.722472</td>\n",
       "      <td>0.626096</td>\n",
       "      <td>0.690622</td>\n",
       "      <td>0.456170</td>\n",
       "      <td>0.501969</td>\n",
       "      <td>413270.00</td>\n",
       "      <td>0.285714</td>\n",
       "      <td>0.090909</td>\n",
       "      <td>0.900000</td>\n",
       "      <td>0.285714</td>\n",
       "      <td>0.181818</td>\n",
       "      <td>0.633333</td>\n",
       "    </tr>\n",
       "    <tr>\n",
       "      <th>4</th>\n",
       "      <td>0.166667</td>\n",
       "      <td>0.538043</td>\n",
       "      <td>0.818182</td>\n",
       "      <td>0.0</td>\n",
       "      <td>0.333333</td>\n",
       "      <td>0.197420</td>\n",
       "      <td>0.298009</td>\n",
       "      <td>0.212706</td>\n",
       "      <td>0.060795</td>\n",
       "      <td>0.044060</td>\n",
       "      <td>174965.25</td>\n",
       "      <td>0.000000</td>\n",
       "      <td>0.636364</td>\n",
       "      <td>0.366667</td>\n",
       "      <td>0.000000</td>\n",
       "      <td>0.727273</td>\n",
       "      <td>0.400000</td>\n",
       "    </tr>\n",
       "  </tbody>\n",
       "</table>\n",
       "</div>"
      ],
      "text/plain": [
       "     Region   Country  Item Type  Sales Channel  Order Priority  Units Sold  \\\n",
       "0  0.000000  0.603261   0.000000            1.0        0.333333    0.360336   \n",
       "1  0.166667  0.364130   1.000000            0.0        0.666667    0.843484   \n",
       "2  0.166667  0.717391   0.090909            0.0        0.000000    0.484748   \n",
       "3  0.166667  0.565217   0.090909            0.0        0.000000    0.722472   \n",
       "4  0.166667  0.538043   0.818182            0.0        0.333333    0.197420   \n",
       "\n",
       "   Unit Price  Unit Cost  Total Revenue  Total Cost  Total Profit  \\\n",
       "0    1.000000   0.956721       0.360433    0.345040     597290.92   \n",
       "1    0.373251   0.294379       0.322247    0.256177     808579.10   \n",
       "2    0.626096   0.690622       0.306090    0.336822     277305.60   \n",
       "3    0.626096   0.690622       0.456170    0.501969     413270.00   \n",
       "4    0.298009   0.212706       0.060795    0.044060     174965.25   \n",
       "\n",
       "   Order Date_year  Order Date_month  Order Date_day  Ship Date_year  \\\n",
       "0         0.714286          0.636364        1.000000        0.714286   \n",
       "1         0.000000          0.909091        0.633333        0.142857   \n",
       "2         1.000000          0.454545        0.700000        1.000000   \n",
       "3         0.285714          0.090909        0.900000        0.285714   \n",
       "4         0.000000          0.636364        0.366667        0.000000   \n",
       "\n",
       "   Ship Date_month  Ship Date_day  \n",
       "0         0.818182       0.366667  \n",
       "1         0.000000       0.266667  \n",
       "2         0.454545       0.800000  \n",
       "3         0.181818       0.633333  \n",
       "4         0.727273       0.400000  "
      ]
     },
     "execution_count": 70,
     "metadata": {},
     "output_type": "execute_result"
    }
   ],
   "source": [
    "x.head()"
   ]
  },
  {
   "cell_type": "code",
   "execution_count": 71,
   "metadata": {},
   "outputs": [
    {
     "data": {
      "text/plain": [
       "43426"
      ]
     },
     "execution_count": 71,
     "metadata": {},
     "output_type": "execute_result"
    }
   ],
   "source": [
    "len(x)"
   ]
  },
  {
   "cell_type": "code",
   "execution_count": 72,
   "metadata": {},
   "outputs": [],
   "source": [
    "x = df.drop('Total Profit',axis = 1)\n",
    "y = pd.DataFrame()\n",
    "y = df['Total Profit']"
   ]
  },
  {
   "cell_type": "code",
   "execution_count": 73,
   "metadata": {},
   "outputs": [],
   "source": [
    "x_train, x_test, y_train, y_test = train_test_split(x, y, test_size=0.33, random_state=42)"
   ]
  },
  {
   "cell_type": "code",
   "execution_count": 74,
   "metadata": {},
   "outputs": [
    {
     "data": {
      "text/html": [
       "<div>\n",
       "<style scoped>\n",
       "    .dataframe tbody tr th:only-of-type {\n",
       "        vertical-align: middle;\n",
       "    }\n",
       "\n",
       "    .dataframe tbody tr th {\n",
       "        vertical-align: top;\n",
       "    }\n",
       "\n",
       "    .dataframe thead th {\n",
       "        text-align: right;\n",
       "    }\n",
       "</style>\n",
       "<table border=\"1\" class=\"dataframe\">\n",
       "  <thead>\n",
       "    <tr style=\"text-align: right;\">\n",
       "      <th></th>\n",
       "      <th>Region</th>\n",
       "      <th>Country</th>\n",
       "      <th>Item Type</th>\n",
       "      <th>Sales Channel</th>\n",
       "      <th>Order Priority</th>\n",
       "      <th>Units Sold</th>\n",
       "      <th>Unit Price</th>\n",
       "      <th>Unit Cost</th>\n",
       "      <th>Total Revenue</th>\n",
       "      <th>Total Cost</th>\n",
       "      <th>Order Date_year</th>\n",
       "      <th>Order Date_month</th>\n",
       "      <th>Order Date_day</th>\n",
       "      <th>Ship Date_year</th>\n",
       "      <th>Ship Date_month</th>\n",
       "      <th>Ship Date_day</th>\n",
       "    </tr>\n",
       "  </thead>\n",
       "  <tbody>\n",
       "    <tr>\n",
       "      <th>27934</th>\n",
       "      <td>0.500000</td>\n",
       "      <td>0.760870</td>\n",
       "      <td>0.454545</td>\n",
       "      <td>0.0</td>\n",
       "      <td>0.0</td>\n",
       "      <td>0.572857</td>\n",
       "      <td>0.109873</td>\n",
       "      <td>0.096035</td>\n",
       "      <td>0.070069</td>\n",
       "      <td>0.061848</td>\n",
       "      <td>0.000000</td>\n",
       "      <td>0.909091</td>\n",
       "      <td>0.400000</td>\n",
       "      <td>0.000000</td>\n",
       "      <td>1.000000</td>\n",
       "      <td>0.133333</td>\n",
       "    </tr>\n",
       "    <tr>\n",
       "      <th>31544</th>\n",
       "      <td>0.333333</td>\n",
       "      <td>0.576087</td>\n",
       "      <td>1.000000</td>\n",
       "      <td>0.0</td>\n",
       "      <td>0.0</td>\n",
       "      <td>0.201920</td>\n",
       "      <td>0.373251</td>\n",
       "      <td>0.294379</td>\n",
       "      <td>0.077168</td>\n",
       "      <td>0.061346</td>\n",
       "      <td>0.857143</td>\n",
       "      <td>1.000000</td>\n",
       "      <td>0.466667</td>\n",
       "      <td>0.857143</td>\n",
       "      <td>1.000000</td>\n",
       "      <td>0.533333</td>\n",
       "    </tr>\n",
       "    <tr>\n",
       "      <th>21633</th>\n",
       "      <td>0.000000</td>\n",
       "      <td>0.293478</td>\n",
       "      <td>0.363636</td>\n",
       "      <td>1.0</td>\n",
       "      <td>0.0</td>\n",
       "      <td>0.356136</td>\n",
       "      <td>0.219641</td>\n",
       "      <td>0.162169</td>\n",
       "      <td>0.082121</td>\n",
       "      <td>0.061701</td>\n",
       "      <td>0.285714</td>\n",
       "      <td>0.090909</td>\n",
       "      <td>0.533333</td>\n",
       "      <td>0.285714</td>\n",
       "      <td>0.181818</td>\n",
       "      <td>0.566667</td>\n",
       "    </tr>\n",
       "    <tr>\n",
       "      <th>17757</th>\n",
       "      <td>0.000000</td>\n",
       "      <td>0.548913</td>\n",
       "      <td>0.545455</td>\n",
       "      <td>1.0</td>\n",
       "      <td>0.0</td>\n",
       "      <td>0.608261</td>\n",
       "      <td>0.057850</td>\n",
       "      <td>0.048008</td>\n",
       "      <td>0.043192</td>\n",
       "      <td>0.036837</td>\n",
       "      <td>0.428571</td>\n",
       "      <td>0.727273</td>\n",
       "      <td>0.900000</td>\n",
       "      <td>0.428571</td>\n",
       "      <td>0.818182</td>\n",
       "      <td>0.366667</td>\n",
       "    </tr>\n",
       "    <tr>\n",
       "      <th>15755</th>\n",
       "      <td>0.333333</td>\n",
       "      <td>0.967391</td>\n",
       "      <td>0.000000</td>\n",
       "      <td>0.0</td>\n",
       "      <td>0.0</td>\n",
       "      <td>0.393239</td>\n",
       "      <td>1.000000</td>\n",
       "      <td>0.956721</td>\n",
       "      <td>0.393337</td>\n",
       "      <td>0.376538</td>\n",
       "      <td>0.000000</td>\n",
       "      <td>0.363636</td>\n",
       "      <td>0.633333</td>\n",
       "      <td>0.000000</td>\n",
       "      <td>0.454545</td>\n",
       "      <td>0.533333</td>\n",
       "    </tr>\n",
       "  </tbody>\n",
       "</table>\n",
       "</div>"
      ],
      "text/plain": [
       "         Region   Country  Item Type  Sales Channel  Order Priority  \\\n",
       "27934  0.500000  0.760870   0.454545            0.0             0.0   \n",
       "31544  0.333333  0.576087   1.000000            0.0             0.0   \n",
       "21633  0.000000  0.293478   0.363636            1.0             0.0   \n",
       "17757  0.000000  0.548913   0.545455            1.0             0.0   \n",
       "15755  0.333333  0.967391   0.000000            0.0             0.0   \n",
       "\n",
       "       Units Sold  Unit Price  Unit Cost  Total Revenue  Total Cost  \\\n",
       "27934    0.572857    0.109873   0.096035       0.070069    0.061848   \n",
       "31544    0.201920    0.373251   0.294379       0.077168    0.061346   \n",
       "21633    0.356136    0.219641   0.162169       0.082121    0.061701   \n",
       "17757    0.608261    0.057850   0.048008       0.043192    0.036837   \n",
       "15755    0.393239    1.000000   0.956721       0.393337    0.376538   \n",
       "\n",
       "       Order Date_year  Order Date_month  Order Date_day  Ship Date_year  \\\n",
       "27934         0.000000          0.909091        0.400000        0.000000   \n",
       "31544         0.857143          1.000000        0.466667        0.857143   \n",
       "21633         0.285714          0.090909        0.533333        0.285714   \n",
       "17757         0.428571          0.727273        0.900000        0.428571   \n",
       "15755         0.000000          0.363636        0.633333        0.000000   \n",
       "\n",
       "       Ship Date_month  Ship Date_day  \n",
       "27934         1.000000       0.133333  \n",
       "31544         1.000000       0.533333  \n",
       "21633         0.181818       0.566667  \n",
       "17757         0.818182       0.366667  \n",
       "15755         0.454545       0.533333  "
      ]
     },
     "execution_count": 74,
     "metadata": {},
     "output_type": "execute_result"
    }
   ],
   "source": [
    "x_train.head()"
   ]
  },
  {
   "cell_type": "code",
   "execution_count": 75,
   "metadata": {},
   "outputs": [
    {
     "data": {
      "text/html": [
       "<div>\n",
       "<style scoped>\n",
       "    .dataframe tbody tr th:only-of-type {\n",
       "        vertical-align: middle;\n",
       "    }\n",
       "\n",
       "    .dataframe tbody tr th {\n",
       "        vertical-align: top;\n",
       "    }\n",
       "\n",
       "    .dataframe thead th {\n",
       "        text-align: right;\n",
       "    }\n",
       "</style>\n",
       "<table border=\"1\" class=\"dataframe\">\n",
       "  <thead>\n",
       "    <tr style=\"text-align: right;\">\n",
       "      <th></th>\n",
       "      <th>Region</th>\n",
       "      <th>Country</th>\n",
       "      <th>Item Type</th>\n",
       "      <th>Sales Channel</th>\n",
       "      <th>Order Priority</th>\n",
       "      <th>Units Sold</th>\n",
       "      <th>Unit Price</th>\n",
       "      <th>Unit Cost</th>\n",
       "      <th>Total Revenue</th>\n",
       "      <th>Total Cost</th>\n",
       "      <th>Order Date_year</th>\n",
       "      <th>Order Date_month</th>\n",
       "      <th>Order Date_day</th>\n",
       "      <th>Ship Date_year</th>\n",
       "      <th>Ship Date_month</th>\n",
       "      <th>Ship Date_day</th>\n",
       "    </tr>\n",
       "  </thead>\n",
       "  <tbody>\n",
       "    <tr>\n",
       "      <th>18963</th>\n",
       "      <td>0.000000</td>\n",
       "      <td>0.086957</td>\n",
       "      <td>1.000000</td>\n",
       "      <td>0.0</td>\n",
       "      <td>0.000000</td>\n",
       "      <td>0.136014</td>\n",
       "      <td>0.373251</td>\n",
       "      <td>0.294379</td>\n",
       "      <td>0.051992</td>\n",
       "      <td>0.041331</td>\n",
       "      <td>0.571429</td>\n",
       "      <td>0.818182</td>\n",
       "      <td>0.533333</td>\n",
       "      <td>0.571429</td>\n",
       "      <td>0.909091</td>\n",
       "      <td>0.866667</td>\n",
       "    </tr>\n",
       "    <tr>\n",
       "      <th>24668</th>\n",
       "      <td>0.666667</td>\n",
       "      <td>0.353261</td>\n",
       "      <td>0.181818</td>\n",
       "      <td>1.0</td>\n",
       "      <td>0.666667</td>\n",
       "      <td>0.021802</td>\n",
       "      <td>0.000000</td>\n",
       "      <td>0.000000</td>\n",
       "      <td>0.000302</td>\n",
       "      <td>0.000285</td>\n",
       "      <td>0.285714</td>\n",
       "      <td>0.272727</td>\n",
       "      <td>0.900000</td>\n",
       "      <td>0.285714</td>\n",
       "      <td>0.363636</td>\n",
       "      <td>0.133333</td>\n",
       "    </tr>\n",
       "    <tr>\n",
       "      <th>35130</th>\n",
       "      <td>0.000000</td>\n",
       "      <td>0.152174</td>\n",
       "      <td>0.272727</td>\n",
       "      <td>1.0</td>\n",
       "      <td>0.333333</td>\n",
       "      <td>0.373837</td>\n",
       "      <td>0.649331</td>\n",
       "      <td>0.494962</td>\n",
       "      <td>0.244637</td>\n",
       "      <td>0.187571</td>\n",
       "      <td>0.428571</td>\n",
       "      <td>0.909091</td>\n",
       "      <td>0.066667</td>\n",
       "      <td>0.428571</td>\n",
       "      <td>0.909091</td>\n",
       "      <td>0.800000</td>\n",
       "    </tr>\n",
       "    <tr>\n",
       "      <th>36968</th>\n",
       "      <td>0.166667</td>\n",
       "      <td>0.201087</td>\n",
       "      <td>0.272727</td>\n",
       "      <td>1.0</td>\n",
       "      <td>0.000000</td>\n",
       "      <td>0.392739</td>\n",
       "      <td>0.649331</td>\n",
       "      <td>0.494962</td>\n",
       "      <td>0.257003</td>\n",
       "      <td>0.197053</td>\n",
       "      <td>1.000000</td>\n",
       "      <td>0.363636</td>\n",
       "      <td>0.866667</td>\n",
       "      <td>1.000000</td>\n",
       "      <td>0.454545</td>\n",
       "      <td>0.866667</td>\n",
       "    </tr>\n",
       "    <tr>\n",
       "      <th>4974</th>\n",
       "      <td>0.333333</td>\n",
       "      <td>0.092391</td>\n",
       "      <td>0.636364</td>\n",
       "      <td>1.0</td>\n",
       "      <td>0.000000</td>\n",
       "      <td>0.054305</td>\n",
       "      <td>0.217395</td>\n",
       "      <td>0.174736</td>\n",
       "      <td>0.012418</td>\n",
       "      <td>0.010095</td>\n",
       "      <td>0.000000</td>\n",
       "      <td>1.000000</td>\n",
       "      <td>0.366667</td>\n",
       "      <td>0.000000</td>\n",
       "      <td>1.000000</td>\n",
       "      <td>0.966667</td>\n",
       "    </tr>\n",
       "  </tbody>\n",
       "</table>\n",
       "</div>"
      ],
      "text/plain": [
       "         Region   Country  Item Type  Sales Channel  Order Priority  \\\n",
       "18963  0.000000  0.086957   1.000000            0.0        0.000000   \n",
       "24668  0.666667  0.353261   0.181818            1.0        0.666667   \n",
       "35130  0.000000  0.152174   0.272727            1.0        0.333333   \n",
       "36968  0.166667  0.201087   0.272727            1.0        0.000000   \n",
       "4974   0.333333  0.092391   0.636364            1.0        0.000000   \n",
       "\n",
       "       Units Sold  Unit Price  Unit Cost  Total Revenue  Total Cost  \\\n",
       "18963    0.136014    0.373251   0.294379       0.051992    0.041331   \n",
       "24668    0.021802    0.000000   0.000000       0.000302    0.000285   \n",
       "35130    0.373837    0.649331   0.494962       0.244637    0.187571   \n",
       "36968    0.392739    0.649331   0.494962       0.257003    0.197053   \n",
       "4974     0.054305    0.217395   0.174736       0.012418    0.010095   \n",
       "\n",
       "       Order Date_year  Order Date_month  Order Date_day  Ship Date_year  \\\n",
       "18963         0.571429          0.818182        0.533333        0.571429   \n",
       "24668         0.285714          0.272727        0.900000        0.285714   \n",
       "35130         0.428571          0.909091        0.066667        0.428571   \n",
       "36968         1.000000          0.363636        0.866667        1.000000   \n",
       "4974          0.000000          1.000000        0.366667        0.000000   \n",
       "\n",
       "       Ship Date_month  Ship Date_day  \n",
       "18963         0.909091       0.866667  \n",
       "24668         0.363636       0.133333  \n",
       "35130         0.909091       0.800000  \n",
       "36968         0.454545       0.866667  \n",
       "4974          1.000000       0.966667  "
      ]
     },
     "execution_count": 75,
     "metadata": {},
     "output_type": "execute_result"
    }
   ],
   "source": [
    "x_test.head()"
   ]
  },
  {
   "cell_type": "code",
   "execution_count": 76,
   "metadata": {},
   "outputs": [
    {
     "data": {
      "text/plain": [
       "(29095, 16)"
      ]
     },
     "execution_count": 76,
     "metadata": {},
     "output_type": "execute_result"
    }
   ],
   "source": [
    "x_train.shape"
   ]
  },
  {
   "cell_type": "code",
   "execution_count": 77,
   "metadata": {},
   "outputs": [
    {
     "data": {
      "text/plain": [
       "(14331, 16)"
      ]
     },
     "execution_count": 77,
     "metadata": {},
     "output_type": "execute_result"
    }
   ],
   "source": [
    "x_test.shape"
   ]
  },
  {
   "cell_type": "code",
   "execution_count": 78,
   "metadata": {},
   "outputs": [
    {
     "data": {
      "text/plain": [
       "(29095,)"
      ]
     },
     "execution_count": 78,
     "metadata": {},
     "output_type": "execute_result"
    }
   ],
   "source": [
    "y_train.shape"
   ]
  },
  {
   "cell_type": "code",
   "execution_count": 79,
   "metadata": {},
   "outputs": [
    {
     "data": {
      "text/plain": [
       "(14331,)"
      ]
     },
     "execution_count": 79,
     "metadata": {},
     "output_type": "execute_result"
    }
   ],
   "source": [
    "y_test.shape"
   ]
  },
  {
   "cell_type": "code",
   "execution_count": 80,
   "metadata": {},
   "outputs": [
    {
     "data": {
      "text/plain": [
       "RandomForestRegressor(max_depth=2, random_state=0)"
      ]
     },
     "execution_count": 80,
     "metadata": {},
     "output_type": "execute_result"
    }
   ],
   "source": [
    "from sklearn.ensemble import RandomForestRegressor\n",
    "regr = RandomForestRegressor(max_depth=2, random_state=0)\n",
    "regr.fit(x_train,y_train)"
   ]
  },
  {
   "cell_type": "code",
   "execution_count": 81,
   "metadata": {},
   "outputs": [
    {
     "name": "stdout",
     "output_type": "stream",
     "text": [
      "Accuracy: 74.91\n"
     ]
    }
   ],
   "source": [
    "acc = round(regr.score(x_train,y_train)*100,2)\n",
    "#train_pred=model_selection.cross_val_predict(regr,x_train,y_train,cv=10,n_jobs=-1)\n",
    "print(\"Accuracy: %s\" % acc) "
   ]
  },
  {
   "cell_type": "code",
   "execution_count": 134,
   "metadata": {},
   "outputs": [
    {
     "data": {
      "text/plain": [
       "SVR()"
      ]
     },
     "execution_count": 134,
     "metadata": {},
     "output_type": "execute_result"
    }
   ],
   "source": [
    "from sklearn import svm\n",
    "svm_reg = svm.SVR()\n",
    "svm_reg.fit(x_train, y_train)"
   ]
  },
  {
   "cell_type": "code",
   "execution_count": 135,
   "metadata": {},
   "outputs": [
    {
     "name": "stdout",
     "output_type": "stream",
     "text": [
      "Accuracy: -7.76\n"
     ]
    }
   ],
   "source": [
    "acc = round(svm_reg.score(x_train,y_train)*100,2)\n",
    "#train_pred=model_selection.cross_val_predict(svm_reg,x_train,y_train,cv=10,n_jobs=-1)\n",
    "print(\"Accuracy: %s\" % acc) "
   ]
  },
  {
   "cell_type": "code",
   "execution_count": 136,
   "metadata": {},
   "outputs": [],
   "source": [
    "pred_svm = svm_reg.predict(x_test)"
   ]
  },
  {
   "cell_type": "code",
   "execution_count": 137,
   "metadata": {},
   "outputs": [
    {
     "data": {
      "image/png": "[encoded data removed]",
      "text/plain": [
       "<Figure size 432x288 with 1 Axes>"
      ]
     },
     "metadata": {},
     "output_type": "display_data"
    }
   ],
   "source": [
    "plt.scatter(pred_svm,y_test, c =\"green\" , s = 3) \n",
    "plt.xlabel(\"prediction\") \n",
    "plt.ylabel(\"true value\") \n",
    "plt.show()"
   ]
  },
  {
   "cell_type": "code",
   "execution_count": 84,
   "metadata": {},
   "outputs": [
    {
     "name": "stdout",
     "output_type": "stream",
     "text": [
      "Accuracy: 100.0\n"
     ]
    }
   ],
   "source": [
    "from sklearn.linear_model import LinearRegression\n",
    "reg = LinearRegression().fit(x_train, y_train)\n",
    "pred = reg.predict(x_test)\n",
    "acc = round(reg.score(x_train,y_train)*100,2)\n",
    "print(\"Accuracy: %s\" % acc) "
   ]
  },
  {
   "cell_type": "code",
   "execution_count": 85,
   "metadata": {},
   "outputs": [
    {
     "data": {
      "text/plain": [
       "GradientBoostingRegressor(max_depth=2)"
      ]
     },
     "execution_count": 85,
     "metadata": {},
     "output_type": "execute_result"
    }
   ],
   "source": [
    "from sklearn.ensemble import GradientBoostingRegressor\n",
    "reg_grad = GradientBoostingRegressor(max_depth=2)\n",
    "reg_grad.fit(x_train, y_train)"
   ]
  },
  {
   "cell_type": "code",
   "execution_count": 86,
   "metadata": {},
   "outputs": [
    {
     "name": "stdout",
     "output_type": "stream",
     "text": [
      "Accuracy: 99.11\n"
     ]
    }
   ],
   "source": [
    "acc = round(reg_grad.score(x_train,y_train)*100,2)\n",
    "print(\"Accuracy: %s\" % acc) "
   ]
  },
  {
   "cell_type": "code",
   "execution_count": 87,
   "metadata": {},
   "outputs": [
    {
     "data": {
      "text/plain": [
       "KNeighborsRegressor(n_neighbors=6)"
      ]
     },
     "execution_count": 87,
     "metadata": {},
     "output_type": "execute_result"
    }
   ],
   "source": [
    "from sklearn.neighbors import KNeighborsRegressor\n",
    "regn = KNeighborsRegressor(n_neighbors=6)\n",
    "regn.fit(x_train, y_train)"
   ]
  },
  {
   "cell_type": "code",
   "execution_count": 88,
   "metadata": {},
   "outputs": [
    {
     "name": "stdout",
     "output_type": "stream",
     "text": [
      "Accuracy: 84.84\n"
     ]
    }
   ],
   "source": [
    "acc = round(regn.score(x_train,y_train)*100,2)\n",
    "#train_pred=model_selection.cross_val_predict(regn,x_train,y_train,cv=10,n_jobs=-1)\n",
    "print(\"Accuracy: %s\" % acc) "
   ]
  },
  {
   "cell_type": "code",
   "execution_count": 89,
   "metadata": {},
   "outputs": [],
   "source": [
    "pred_grad = reg_grad.predict(x_test)\n",
    "predr = regr.predict(x_test)\n",
    "predn = regn.predict(x_test)"
   ]
  },
  {
   "cell_type": "code",
   "execution_count": 90,
   "metadata": {},
   "outputs": [
    {
     "data": {
      "text/plain": [
       "array([1.32558770e+05, 6.78200759e+02, 6.18982354e+05, ...,\n",
       "       7.11106999e+05, 2.41257610e+05, 1.92004963e+05])"
      ]
     },
     "execution_count": 90,
     "metadata": {},
     "output_type": "execute_result"
    }
   ],
   "source": [
    "pred_grad"
   ]
  },
  {
   "cell_type": "code",
   "execution_count": 91,
   "metadata": {},
   "outputs": [
    {
     "data": {
      "text/plain": [
       "array([ 80127.77775933,  53369.10413477, 584963.93705035, ...,\n",
       "       606910.62101264, 224691.67143571,  53369.10413477])"
      ]
     },
     "execution_count": 91,
     "metadata": {},
     "output_type": "execute_result"
    }
   ],
   "source": [
    "predr"
   ]
  },
  {
   "cell_type": "code",
   "execution_count": 92,
   "metadata": {},
   "outputs": [
    {
     "data": {
      "text/plain": [
       "array([210032.11333333,  32778.61833333, 870972.78666667, ...,\n",
       "       706775.78      , 276179.96166667, 223092.98      ])"
      ]
     },
     "execution_count": 92,
     "metadata": {},
     "output_type": "execute_result"
    }
   ],
   "source": [
    "predn"
   ]
  },
  {
   "cell_type": "code",
   "execution_count": 93,
   "metadata": {},
   "outputs": [
    {
     "data": {
      "text/plain": [
       "624117297.2960188"
      ]
     },
     "execution_count": 93,
     "metadata": {},
     "output_type": "execute_result"
    }
   ],
   "source": [
    "mean_squared_error(y_test, pred_grad)"
   ]
  },
  {
   "cell_type": "code",
   "execution_count": 94,
   "metadata": {},
   "outputs": [
    {
     "data": {
      "text/plain": [
       "16985014950.648909"
      ]
     },
     "execution_count": 94,
     "metadata": {},
     "output_type": "execute_result"
    }
   ],
   "source": [
    "mean_squared_error(y_test, predr)"
   ]
  },
  {
   "cell_type": "code",
   "execution_count": 95,
   "metadata": {},
   "outputs": [
    {
     "data": {
      "text/plain": [
       "14930539297.963215"
      ]
     },
     "execution_count": 95,
     "metadata": {},
     "output_type": "execute_result"
    }
   ],
   "source": [
    "mean_squared_error(y_test, predn)"
   ]
  },
  {
   "cell_type": "code",
   "execution_count": 96,
   "metadata": {},
   "outputs": [
    {
     "data": {
      "text/plain": [
       "9.246951929223182e-19"
      ]
     },
     "execution_count": 96,
     "metadata": {},
     "output_type": "execute_result"
    }
   ],
   "source": [
    "mean_squared_error(y_test, pred)"
   ]
  },
  {
   "cell_type": "code",
   "execution_count": 97,
   "metadata": {},
   "outputs": [],
   "source": [
    "rmse_grad = mean_squared_error(y_test, pred_grad,squared=False)"
   ]
  },
  {
   "cell_type": "code",
   "execution_count": 98,
   "metadata": {},
   "outputs": [],
   "source": [
    "rmse_r = mean_squared_error(y_test, predr,squared=False)"
   ]
  },
  {
   "cell_type": "code",
   "execution_count": 99,
   "metadata": {},
   "outputs": [],
   "source": [
    "rmse_n = mean_squared_error(y_test, predn,squared=False)"
   ]
  },
  {
   "cell_type": "code",
   "execution_count": 100,
   "metadata": {},
   "outputs": [],
   "source": [
    "rmse = mean_squared_error(y_test, pred,squared=False)"
   ]
  },
  {
   "cell_type": "code",
   "execution_count": 101,
   "metadata": {},
   "outputs": [
    {
     "name": "stdout",
     "output_type": "stream",
     "text": [
      "24982.33970820225\n",
      "130326.57039394886\n",
      "122190.58596292602\n",
      "9.616107283731387e-10\n"
     ]
    }
   ],
   "source": [
    "print(rmse_grad)\n",
    "print(rmse_r)\n",
    "print(rmse_n)\n",
    "print(rmse)"
   ]
  },
  {
   "cell_type": "code",
   "execution_count": 104,
   "metadata": {},
   "outputs": [],
   "source": [
    "from sklearn.metrics import r2_score\n",
    "r2_grad = r2_score(y_test, pred_grad)\n",
    "r2_r = r2_score(y_test,predr)\n",
    "r2_n = r2_score(y_test,predn)\n",
    "r2_linereg = r2_score(y_test,pred)"
   ]
  },
  {
   "cell_type": "code",
   "execution_count": 105,
   "metadata": {},
   "outputs": [
    {
     "name": "stdout",
     "output_type": "stream",
     "text": [
      "0.9907442286010592\n",
      "0.7481091835270283\n",
      "0.778577425744211\n",
      "1.0\n"
     ]
    }
   ],
   "source": [
    "print(r2_grad)\n",
    "print(r2_r)\n",
    "print(r2_n)\n",
    "print(r2_linereg)"
   ]
  },
  {
   "cell_type": "code",
   "execution_count": 126,
   "metadata": {},
   "outputs": [
    {
     "data": {
      "image/png": "[encoded data removed]",
      "text/plain": [
       "<Figure size 432x288 with 1 Axes>"
      ]
     },
     "metadata": {},
     "output_type": "display_data"
    }
   ],
   "source": [
    "plt.scatter(pred,y_test, c =\"blue\" , s = 3) \n",
    "plt.xlabel(\"prediction\") \n",
    "plt.ylabel(\"true value\") \n",
    "plt.show()"
   ]
  },
  {
   "cell_type": "code",
   "execution_count": 127,
   "metadata": {},
   "outputs": [
    {
     "data": {
      "image/png": "[encoded data removed]",
      "text/plain": [
       "<Figure size 432x288 with 1 Axes>"
      ]
     },
     "metadata": {},
     "output_type": "display_data"
    }
   ],
   "source": [
    "plt.scatter(predn,y_test, c =\"green\" , s = 3) \n",
    "plt.xlabel(\"prediction\") \n",
    "plt.ylabel(\"true value\") \n",
    "plt.show()"
   ]
  },
  {
   "cell_type": "code",
   "execution_count": 132,
   "metadata": {},
   "outputs": [
    {
     "data": {
      "image/png": "[encoded data removed]",
      "text/plain": [
       "<Figure size 432x288 with 1 Axes>"
      ]
     },
     "metadata": {},
     "output_type": "display_data"
    }
   ],
   "source": [
    "plt.scatter(predr,y_test, c =\"green\" ,s = 2)\n",
    "plt.xlabel(\"prediction\") \n",
    "plt.ylabel(\"true value\") \n",
    "plt.show()"
   ]
  },
  {
   "cell_type": "code",
   "execution_count": 133,
   "metadata": {},
   "outputs": [
    {
     "data": {
      "image/png": "[encoded data removed]",
      "text/plain": [
       "<Figure size 432x288 with 1 Axes>"
      ]
     },
     "metadata": {},
     "output_type": "display_data"
    }
   ],
   "source": [
    "plt.scatter(pred_grad,y_test, c =\"green\" , s=2)\n",
    "plt.xlabel(\"prediction\") \n",
    "plt.ylabel(\"true value\") \n",
    "plt.show()"
   ]
  },
  {
   "cell_type": "code",
   "execution_count": null,
   "metadata": {},
   "outputs": [],
   "source": []
  }
 ],
 "metadata": {
  "kernelspec": {
   "display_name": "Python 3",
   "language": "python",
   "name": "python3"
  },
  "language_info": {
   "codemirror_mode": {
    "name": "ipython",
    "version": 3
   },
   "file_extension": ".py",
   "mimetype": "text/x-python",
   "name": "python",
   "nbconvert_exporter": "python",
   "pygments_lexer": "ipython3",
   "version": "3.8.3"
  }
 },
 "nbformat": 4,
 "nbformat_minor": 4
}
