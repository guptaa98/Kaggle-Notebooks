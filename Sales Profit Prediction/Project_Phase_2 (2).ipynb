{
  "nbformat": 4,
  "nbformat_minor": 0,
  "metadata": {
    "colab": {
      "name": "Project Phase 2.ipynb",
      "provenance": [],
      "collapsed_sections": []
    },
    "kernelspec": {
      "name": "python3",
      "display_name": "Python 3"
    },
    "language_info": {
      "name": "python"
    }
  },
  "cells": [
    {
      "cell_type": "code",
      "metadata": {
        "colab": {
          "base_uri": "https://localhost:8080/"
        },
        "id": "R9BMWtVPTnSg",
        "outputId": "5b524285-f06f-436f-88b4-2c6d0ee26718"
      },
      "source": [
        "from google.colab import drive, files\n",
        "drive.mount('/content/drive/')"
      ],
      "execution_count": null,
      "outputs": [
        {
          "output_type": "stream",
          "name": "stdout",
          "text": [
            "Mounted at /content/drive/\n"
          ]
        }
      ]
    },
    {
      "cell_type": "markdown",
      "metadata": {
        "id": "NviPGgYLV-BI"
      },
      "source": [
        "# Explore all the necessary libraries"
      ]
    },
    {
      "cell_type": "code",
      "metadata": {
        "id": "Kh1n0hSSTyR1"
      },
      "source": [
        "%matplotlib inline\n",
        "import numpy as np\n",
        "import pandas as pd\n",
        "import matplotlib.pyplot as plt\n",
        "import seaborn as sns\n",
        "plt.style.use('seaborn-whitegrid')\n",
        "import warnings\n",
        "warnings.filterwarnings(\"ignore\")\n",
        "from numpy import sqrt \n",
        "from sklearn.metrics import r2_score\n"
      ],
      "execution_count": null,
      "outputs": []
    },
    {
      "cell_type": "code",
      "metadata": {
        "id": "SZSa-4HZU6to"
      },
      "source": [
        "df = pd.read_csv('/content/drive/MyDrive/Project phase/Sales_project_phaseII.csv')"
      ],
      "execution_count": null,
      "outputs": []
    },
    {
      "cell_type": "code",
      "metadata": {
        "colab": {
          "base_uri": "https://localhost:8080/",
          "height": 223
        },
        "id": "tcVGH8R1VCi_",
        "outputId": "f518cb7f-4a1d-4b4b-b624-ea62bf20f174"
      },
      "source": [
        "df.head()"
      ],
      "execution_count": null,
      "outputs": [
        {
          "output_type": "execute_result",
          "data": {
            "text/html": [
              "<div>\n",
              "<style scoped>\n",
              "    .dataframe tbody tr th:only-of-type {\n",
              "        vertical-align: middle;\n",
              "    }\n",
              "\n",
              "    .dataframe tbody tr th {\n",
              "        vertical-align: top;\n",
              "    }\n",
              "\n",
              "    .dataframe thead th {\n",
              "        text-align: right;\n",
              "    }\n",
              "</style>\n",
              "<table border=\"1\" class=\"dataframe\">\n",
              "  <thead>\n",
              "    <tr style=\"text-align: right;\">\n",
              "      <th></th>\n",
              "      <th>Unnamed: 0</th>\n",
              "      <th>Region</th>\n",
              "      <th>Country</th>\n",
              "      <th>Item Type</th>\n",
              "      <th>Sales Channel</th>\n",
              "      <th>Order Priority</th>\n",
              "      <th>Units Sold</th>\n",
              "      <th>Unit Price</th>\n",
              "      <th>Unit Cost</th>\n",
              "      <th>Total Revenue</th>\n",
              "      <th>Total Cost</th>\n",
              "      <th>Total Profit</th>\n",
              "      <th>Order Date_year</th>\n",
              "      <th>Order Date_month</th>\n",
              "      <th>Order Date_day</th>\n",
              "      <th>Ship Date_year</th>\n",
              "      <th>Ship Date_month</th>\n",
              "      <th>Ship Date_day</th>\n",
              "    </tr>\n",
              "  </thead>\n",
              "  <tbody>\n",
              "    <tr>\n",
              "      <th>0</th>\n",
              "      <td>0</td>\n",
              "      <td>0</td>\n",
              "      <td>Namibia</td>\n",
              "      <td>0</td>\n",
              "      <td>0</td>\n",
              "      <td>2</td>\n",
              "      <td>3604</td>\n",
              "      <td>668.27</td>\n",
              "      <td>502.54</td>\n",
              "      <td>2408445.08</td>\n",
              "      <td>1811154.16</td>\n",
              "      <td>597290.92</td>\n",
              "      <td>2015</td>\n",
              "      <td>8</td>\n",
              "      <td>31</td>\n",
              "      <td>2015</td>\n",
              "      <td>10</td>\n",
              "      <td>12</td>\n",
              "    </tr>\n",
              "    <tr>\n",
              "      <th>1</th>\n",
              "      <td>1</td>\n",
              "      <td>1</td>\n",
              "      <td>Iceland</td>\n",
              "      <td>11</td>\n",
              "      <td>1</td>\n",
              "      <td>3</td>\n",
              "      <td>8435</td>\n",
              "      <td>255.28</td>\n",
              "      <td>159.42</td>\n",
              "      <td>2153286.80</td>\n",
              "      <td>1344707.70</td>\n",
              "      <td>808579.10</td>\n",
              "      <td>2010</td>\n",
              "      <td>11</td>\n",
              "      <td>20</td>\n",
              "      <td>2011</td>\n",
              "      <td>1</td>\n",
              "      <td>9</td>\n",
              "    </tr>\n",
              "    <tr>\n",
              "      <th>2</th>\n",
              "      <td>2</td>\n",
              "      <td>1</td>\n",
              "      <td>Russia</td>\n",
              "      <td>1</td>\n",
              "      <td>1</td>\n",
              "      <td>1</td>\n",
              "      <td>4848</td>\n",
              "      <td>421.89</td>\n",
              "      <td>364.69</td>\n",
              "      <td>2045322.72</td>\n",
              "      <td>1768017.12</td>\n",
              "      <td>277305.60</td>\n",
              "      <td>2017</td>\n",
              "      <td>6</td>\n",
              "      <td>22</td>\n",
              "      <td>2017</td>\n",
              "      <td>6</td>\n",
              "      <td>25</td>\n",
              "    </tr>\n",
              "    <tr>\n",
              "      <th>3</th>\n",
              "      <td>3</td>\n",
              "      <td>1</td>\n",
              "      <td>Moldova</td>\n",
              "      <td>1</td>\n",
              "      <td>1</td>\n",
              "      <td>1</td>\n",
              "      <td>7225</td>\n",
              "      <td>421.89</td>\n",
              "      <td>364.69</td>\n",
              "      <td>3048155.25</td>\n",
              "      <td>2634885.25</td>\n",
              "      <td>413270.00</td>\n",
              "      <td>2012</td>\n",
              "      <td>2</td>\n",
              "      <td>28</td>\n",
              "      <td>2012</td>\n",
              "      <td>3</td>\n",
              "      <td>20</td>\n",
              "    </tr>\n",
              "    <tr>\n",
              "      <th>4</th>\n",
              "      <td>4</td>\n",
              "      <td>1</td>\n",
              "      <td>Malta</td>\n",
              "      <td>9</td>\n",
              "      <td>1</td>\n",
              "      <td>2</td>\n",
              "      <td>1975</td>\n",
              "      <td>205.70</td>\n",
              "      <td>117.11</td>\n",
              "      <td>406257.50</td>\n",
              "      <td>231292.25</td>\n",
              "      <td>174965.25</td>\n",
              "      <td>2010</td>\n",
              "      <td>8</td>\n",
              "      <td>12</td>\n",
              "      <td>2010</td>\n",
              "      <td>9</td>\n",
              "      <td>13</td>\n",
              "    </tr>\n",
              "  </tbody>\n",
              "</table>\n",
              "</div>"
            ],
            "text/plain": [
              "   Unnamed: 0  Region   Country  ...  Ship Date_year  Ship Date_month  Ship Date_day\n",
              "0           0       0   Namibia  ...            2015               10             12\n",
              "1           1       1   Iceland  ...            2011                1              9\n",
              "2           2       1    Russia  ...            2017                6             25\n",
              "3           3       1  Moldova   ...            2012                3             20\n",
              "4           4       1     Malta  ...            2010                9             13\n",
              "\n",
              "[5 rows x 18 columns]"
            ]
          },
          "metadata": {},
          "execution_count": 4
        }
      ]
    },
    {
      "cell_type": "code",
      "metadata": {
        "id": "Pw2WQKX_VG_9"
      },
      "source": [
        "df.drop('Unnamed: 0',axis = 1,inplace = True)"
      ],
      "execution_count": null,
      "outputs": []
    },
    {
      "cell_type": "code",
      "metadata": {
        "colab": {
          "base_uri": "https://localhost:8080/",
          "height": 223
        },
        "id": "sJs0J5bbVNTU",
        "outputId": "3cea32c9-e6e3-406c-b8db-daf8cfcfd888"
      },
      "source": [
        "df.head()"
      ],
      "execution_count": null,
      "outputs": [
        {
          "output_type": "execute_result",
          "data": {
            "text/html": [
              "<div>\n",
              "<style scoped>\n",
              "    .dataframe tbody tr th:only-of-type {\n",
              "        vertical-align: middle;\n",
              "    }\n",
              "\n",
              "    .dataframe tbody tr th {\n",
              "        vertical-align: top;\n",
              "    }\n",
              "\n",
              "    .dataframe thead th {\n",
              "        text-align: right;\n",
              "    }\n",
              "</style>\n",
              "<table border=\"1\" class=\"dataframe\">\n",
              "  <thead>\n",
              "    <tr style=\"text-align: right;\">\n",
              "      <th></th>\n",
              "      <th>Region</th>\n",
              "      <th>Country</th>\n",
              "      <th>Item Type</th>\n",
              "      <th>Sales Channel</th>\n",
              "      <th>Order Priority</th>\n",
              "      <th>Units Sold</th>\n",
              "      <th>Unit Price</th>\n",
              "      <th>Unit Cost</th>\n",
              "      <th>Total Revenue</th>\n",
              "      <th>Total Cost</th>\n",
              "      <th>Total Profit</th>\n",
              "      <th>Order Date_year</th>\n",
              "      <th>Order Date_month</th>\n",
              "      <th>Order Date_day</th>\n",
              "      <th>Ship Date_year</th>\n",
              "      <th>Ship Date_month</th>\n",
              "      <th>Ship Date_day</th>\n",
              "    </tr>\n",
              "  </thead>\n",
              "  <tbody>\n",
              "    <tr>\n",
              "      <th>0</th>\n",
              "      <td>0</td>\n",
              "      <td>Namibia</td>\n",
              "      <td>0</td>\n",
              "      <td>0</td>\n",
              "      <td>2</td>\n",
              "      <td>3604</td>\n",
              "      <td>668.27</td>\n",
              "      <td>502.54</td>\n",
              "      <td>2408445.08</td>\n",
              "      <td>1811154.16</td>\n",
              "      <td>597290.92</td>\n",
              "      <td>2015</td>\n",
              "      <td>8</td>\n",
              "      <td>31</td>\n",
              "      <td>2015</td>\n",
              "      <td>10</td>\n",
              "      <td>12</td>\n",
              "    </tr>\n",
              "    <tr>\n",
              "      <th>1</th>\n",
              "      <td>1</td>\n",
              "      <td>Iceland</td>\n",
              "      <td>11</td>\n",
              "      <td>1</td>\n",
              "      <td>3</td>\n",
              "      <td>8435</td>\n",
              "      <td>255.28</td>\n",
              "      <td>159.42</td>\n",
              "      <td>2153286.80</td>\n",
              "      <td>1344707.70</td>\n",
              "      <td>808579.10</td>\n",
              "      <td>2010</td>\n",
              "      <td>11</td>\n",
              "      <td>20</td>\n",
              "      <td>2011</td>\n",
              "      <td>1</td>\n",
              "      <td>9</td>\n",
              "    </tr>\n",
              "    <tr>\n",
              "      <th>2</th>\n",
              "      <td>1</td>\n",
              "      <td>Russia</td>\n",
              "      <td>1</td>\n",
              "      <td>1</td>\n",
              "      <td>1</td>\n",
              "      <td>4848</td>\n",
              "      <td>421.89</td>\n",
              "      <td>364.69</td>\n",
              "      <td>2045322.72</td>\n",
              "      <td>1768017.12</td>\n",
              "      <td>277305.60</td>\n",
              "      <td>2017</td>\n",
              "      <td>6</td>\n",
              "      <td>22</td>\n",
              "      <td>2017</td>\n",
              "      <td>6</td>\n",
              "      <td>25</td>\n",
              "    </tr>\n",
              "    <tr>\n",
              "      <th>3</th>\n",
              "      <td>1</td>\n",
              "      <td>Moldova</td>\n",
              "      <td>1</td>\n",
              "      <td>1</td>\n",
              "      <td>1</td>\n",
              "      <td>7225</td>\n",
              "      <td>421.89</td>\n",
              "      <td>364.69</td>\n",
              "      <td>3048155.25</td>\n",
              "      <td>2634885.25</td>\n",
              "      <td>413270.00</td>\n",
              "      <td>2012</td>\n",
              "      <td>2</td>\n",
              "      <td>28</td>\n",
              "      <td>2012</td>\n",
              "      <td>3</td>\n",
              "      <td>20</td>\n",
              "    </tr>\n",
              "    <tr>\n",
              "      <th>4</th>\n",
              "      <td>1</td>\n",
              "      <td>Malta</td>\n",
              "      <td>9</td>\n",
              "      <td>1</td>\n",
              "      <td>2</td>\n",
              "      <td>1975</td>\n",
              "      <td>205.70</td>\n",
              "      <td>117.11</td>\n",
              "      <td>406257.50</td>\n",
              "      <td>231292.25</td>\n",
              "      <td>174965.25</td>\n",
              "      <td>2010</td>\n",
              "      <td>8</td>\n",
              "      <td>12</td>\n",
              "      <td>2010</td>\n",
              "      <td>9</td>\n",
              "      <td>13</td>\n",
              "    </tr>\n",
              "  </tbody>\n",
              "</table>\n",
              "</div>"
            ],
            "text/plain": [
              "   Region   Country  Item Type  ...  Ship Date_year  Ship Date_month  Ship Date_day\n",
              "0       0   Namibia          0  ...            2015               10             12\n",
              "1       1   Iceland         11  ...            2011                1              9\n",
              "2       1    Russia          1  ...            2017                6             25\n",
              "3       1  Moldova           1  ...            2012                3             20\n",
              "4       1     Malta          9  ...            2010                9             13\n",
              "\n",
              "[5 rows x 17 columns]"
            ]
          },
          "metadata": {},
          "execution_count": 6
        }
      ]
    },
    {
      "cell_type": "code",
      "metadata": {
        "colab": {
          "base_uri": "https://localhost:8080/"
        },
        "id": "5hDLJu-f9evr",
        "outputId": "0faedbfe-b0b3-4280-ebb6-98df3d3929d9"
      },
      "source": [
        "df.shape"
      ],
      "execution_count": null,
      "outputs": [
        {
          "output_type": "execute_result",
          "data": {
            "text/plain": [
              "(43426, 17)"
            ]
          },
          "metadata": {},
          "execution_count": 7
        }
      ]
    },
    {
      "cell_type": "code",
      "metadata": {
        "colab": {
          "base_uri": "https://localhost:8080/",
          "height": 954
        },
        "id": "1NqXZqwYWBC1",
        "outputId": "8f691c51-d2a4-4886-cad2-164a81ee6e24"
      },
      "source": [
        "plt.subplots(figsize=(15,15))\n",
        "sns.heatmap(df.corr(), cmap = 'Blues_r',annot = True)"
      ],
      "execution_count": null,
      "outputs": [
        {
          "output_type": "execute_result",
          "data": {
            "text/plain": [
              "<matplotlib.axes._subplots.AxesSubplot at 0x7f06565144d0>"
            ]
          },
          "metadata": {},
          "execution_count": 8
        },
        {
          "output_type": "display_data",
          "data": {
            "image/png": "[encoded data removed]",
            "text/plain": [
              "<Figure size 1080x1080 with 2 Axes>"
            ]
          },
          "metadata": {}
        }
      ]
    },
    {
      "cell_type": "markdown",
      "metadata": {
        "id": "LXOMmAWaVkFq"
      },
      "source": [
        "# Splitting the dataset"
      ]
    },
    {
      "cell_type": "markdown",
      "metadata": {
        "id": "_qCYBcnkWaSJ"
      },
      "source": [
        "After peforming the **Data Analysis**, **Data Cleaning**, **Data Preprocessing** on our dataset, it's time to finally split the dataset into train and test dataset.\n",
        "We'll use sklearn train_test_split and split our dataset into 70:30 ratio for train and test respectively."
      ]
    },
    {
      "cell_type": "code",
      "metadata": {
        "id": "u0xGcXkOXiZp"
      },
      "source": [
        "x = df.drop('Total Profit',axis = 1)\n",
        "y = pd.DataFrame()\n",
        "y = df['Total Profit']"
      ],
      "execution_count": null,
      "outputs": []
    },
    {
      "cell_type": "code",
      "metadata": {
        "colab": {
          "base_uri": "https://localhost:8080/",
          "height": 223
        },
        "id": "LJwhhQQUXqup",
        "outputId": "82c0d68c-e06a-4853-bc87-3e920f3330d1"
      },
      "source": [
        "x.head()"
      ],
      "execution_count": null,
      "outputs": [
        {
          "output_type": "execute_result",
          "data": {
            "text/html": [
              "<div>\n",
              "<style scoped>\n",
              "    .dataframe tbody tr th:only-of-type {\n",
              "        vertical-align: middle;\n",
              "    }\n",
              "\n",
              "    .dataframe tbody tr th {\n",
              "        vertical-align: top;\n",
              "    }\n",
              "\n",
              "    .dataframe thead th {\n",
              "        text-align: right;\n",
              "    }\n",
              "</style>\n",
              "<table border=\"1\" class=\"dataframe\">\n",
              "  <thead>\n",
              "    <tr style=\"text-align: right;\">\n",
              "      <th></th>\n",
              "      <th>Region</th>\n",
              "      <th>Country</th>\n",
              "      <th>Item Type</th>\n",
              "      <th>Sales Channel</th>\n",
              "      <th>Order Priority</th>\n",
              "      <th>Units Sold</th>\n",
              "      <th>Unit Price</th>\n",
              "      <th>Unit Cost</th>\n",
              "      <th>Total Revenue</th>\n",
              "      <th>Total Cost</th>\n",
              "      <th>Order Date_year</th>\n",
              "      <th>Order Date_month</th>\n",
              "      <th>Order Date_day</th>\n",
              "      <th>Ship Date_year</th>\n",
              "      <th>Ship Date_month</th>\n",
              "      <th>Ship Date_day</th>\n",
              "    </tr>\n",
              "  </thead>\n",
              "  <tbody>\n",
              "    <tr>\n",
              "      <th>0</th>\n",
              "      <td>0</td>\n",
              "      <td>Namibia</td>\n",
              "      <td>0</td>\n",
              "      <td>0</td>\n",
              "      <td>2</td>\n",
              "      <td>3604</td>\n",
              "      <td>668.27</td>\n",
              "      <td>502.54</td>\n",
              "      <td>2408445.08</td>\n",
              "      <td>1811154.16</td>\n",
              "      <td>2015</td>\n",
              "      <td>8</td>\n",
              "      <td>31</td>\n",
              "      <td>2015</td>\n",
              "      <td>10</td>\n",
              "      <td>12</td>\n",
              "    </tr>\n",
              "    <tr>\n",
              "      <th>1</th>\n",
              "      <td>1</td>\n",
              "      <td>Iceland</td>\n",
              "      <td>11</td>\n",
              "      <td>1</td>\n",
              "      <td>3</td>\n",
              "      <td>8435</td>\n",
              "      <td>255.28</td>\n",
              "      <td>159.42</td>\n",
              "      <td>2153286.80</td>\n",
              "      <td>1344707.70</td>\n",
              "      <td>2010</td>\n",
              "      <td>11</td>\n",
              "      <td>20</td>\n",
              "      <td>2011</td>\n",
              "      <td>1</td>\n",
              "      <td>9</td>\n",
              "    </tr>\n",
              "    <tr>\n",
              "      <th>2</th>\n",
              "      <td>1</td>\n",
              "      <td>Russia</td>\n",
              "      <td>1</td>\n",
              "      <td>1</td>\n",
              "      <td>1</td>\n",
              "      <td>4848</td>\n",
              "      <td>421.89</td>\n",
              "      <td>364.69</td>\n",
              "      <td>2045322.72</td>\n",
              "      <td>1768017.12</td>\n",
              "      <td>2017</td>\n",
              "      <td>6</td>\n",
              "      <td>22</td>\n",
              "      <td>2017</td>\n",
              "      <td>6</td>\n",
              "      <td>25</td>\n",
              "    </tr>\n",
              "    <tr>\n",
              "      <th>3</th>\n",
              "      <td>1</td>\n",
              "      <td>Moldova</td>\n",
              "      <td>1</td>\n",
              "      <td>1</td>\n",
              "      <td>1</td>\n",
              "      <td>7225</td>\n",
              "      <td>421.89</td>\n",
              "      <td>364.69</td>\n",
              "      <td>3048155.25</td>\n",
              "      <td>2634885.25</td>\n",
              "      <td>2012</td>\n",
              "      <td>2</td>\n",
              "      <td>28</td>\n",
              "      <td>2012</td>\n",
              "      <td>3</td>\n",
              "      <td>20</td>\n",
              "    </tr>\n",
              "    <tr>\n",
              "      <th>4</th>\n",
              "      <td>1</td>\n",
              "      <td>Malta</td>\n",
              "      <td>9</td>\n",
              "      <td>1</td>\n",
              "      <td>2</td>\n",
              "      <td>1975</td>\n",
              "      <td>205.70</td>\n",
              "      <td>117.11</td>\n",
              "      <td>406257.50</td>\n",
              "      <td>231292.25</td>\n",
              "      <td>2010</td>\n",
              "      <td>8</td>\n",
              "      <td>12</td>\n",
              "      <td>2010</td>\n",
              "      <td>9</td>\n",
              "      <td>13</td>\n",
              "    </tr>\n",
              "  </tbody>\n",
              "</table>\n",
              "</div>"
            ],
            "text/plain": [
              "   Region   Country  Item Type  ...  Ship Date_year  Ship Date_month  Ship Date_day\n",
              "0       0   Namibia          0  ...            2015               10             12\n",
              "1       1   Iceland         11  ...            2011                1              9\n",
              "2       1    Russia          1  ...            2017                6             25\n",
              "3       1  Moldova           1  ...            2012                3             20\n",
              "4       1     Malta          9  ...            2010                9             13\n",
              "\n",
              "[5 rows x 16 columns]"
            ]
          },
          "metadata": {},
          "execution_count": 10
        }
      ]
    },
    {
      "cell_type": "code",
      "metadata": {
        "id": "qSwAnEv-eWwF"
      },
      "source": [
        "from sklearn.model_selection import train_test_split\n",
        "x_train, x_test, y_train, y_test = train_test_split(x, y, test_size=0.30, random_state=42)"
      ],
      "execution_count": null,
      "outputs": []
    },
    {
      "cell_type": "code",
      "metadata": {
        "colab": {
          "base_uri": "https://localhost:8080/",
          "height": 241
        },
        "id": "ZRurXZXTeW6H",
        "outputId": "dfc5ba77-2752-4877-fea9-b9044ec06611"
      },
      "source": [
        "x_train.head()"
      ],
      "execution_count": null,
      "outputs": [
        {
          "output_type": "execute_result",
          "data": {
            "text/html": [
              "<div>\n",
              "<style scoped>\n",
              "    .dataframe tbody tr th:only-of-type {\n",
              "        vertical-align: middle;\n",
              "    }\n",
              "\n",
              "    .dataframe tbody tr th {\n",
              "        vertical-align: top;\n",
              "    }\n",
              "\n",
              "    .dataframe thead th {\n",
              "        text-align: right;\n",
              "    }\n",
              "</style>\n",
              "<table border=\"1\" class=\"dataframe\">\n",
              "  <thead>\n",
              "    <tr style=\"text-align: right;\">\n",
              "      <th></th>\n",
              "      <th>Region</th>\n",
              "      <th>Country</th>\n",
              "      <th>Item Type</th>\n",
              "      <th>Sales Channel</th>\n",
              "      <th>Order Priority</th>\n",
              "      <th>Units Sold</th>\n",
              "      <th>Unit Price</th>\n",
              "      <th>Unit Cost</th>\n",
              "      <th>Total Revenue</th>\n",
              "      <th>Total Cost</th>\n",
              "      <th>Order Date_year</th>\n",
              "      <th>Order Date_month</th>\n",
              "      <th>Order Date_day</th>\n",
              "      <th>Ship Date_year</th>\n",
              "      <th>Ship Date_month</th>\n",
              "      <th>Ship Date_day</th>\n",
              "    </tr>\n",
              "  </thead>\n",
              "  <tbody>\n",
              "    <tr>\n",
              "      <th>37319</th>\n",
              "      <td>5</td>\n",
              "      <td>Papua New Guinea</td>\n",
              "      <td>11</td>\n",
              "      <td>1</td>\n",
              "      <td>4</td>\n",
              "      <td>626</td>\n",
              "      <td>255.28</td>\n",
              "      <td>159.42</td>\n",
              "      <td>159805.28</td>\n",
              "      <td>99796.92</td>\n",
              "      <td>2015</td>\n",
              "      <td>7</td>\n",
              "      <td>13</td>\n",
              "      <td>2015</td>\n",
              "      <td>8</td>\n",
              "      <td>30</td>\n",
              "    </tr>\n",
              "    <tr>\n",
              "      <th>40787</th>\n",
              "      <td>0</td>\n",
              "      <td>Tanzania</td>\n",
              "      <td>2</td>\n",
              "      <td>0</td>\n",
              "      <td>4</td>\n",
              "      <td>6139</td>\n",
              "      <td>9.33</td>\n",
              "      <td>6.92</td>\n",
              "      <td>57276.87</td>\n",
              "      <td>42481.88</td>\n",
              "      <td>2015</td>\n",
              "      <td>1</td>\n",
              "      <td>29</td>\n",
              "      <td>2015</td>\n",
              "      <td>3</td>\n",
              "      <td>14</td>\n",
              "    </tr>\n",
              "    <tr>\n",
              "      <th>24534</th>\n",
              "      <td>1</td>\n",
              "      <td>Liechtenstein</td>\n",
              "      <td>4</td>\n",
              "      <td>1</td>\n",
              "      <td>1</td>\n",
              "      <td>5946</td>\n",
              "      <td>154.06</td>\n",
              "      <td>90.93</td>\n",
              "      <td>916040.76</td>\n",
              "      <td>540669.78</td>\n",
              "      <td>2013</td>\n",
              "      <td>3</td>\n",
              "      <td>11</td>\n",
              "      <td>2013</td>\n",
              "      <td>4</td>\n",
              "      <td>3</td>\n",
              "    </tr>\n",
              "    <tr>\n",
              "      <th>1944</th>\n",
              "      <td>1</td>\n",
              "      <td>Vatican City</td>\n",
              "      <td>0</td>\n",
              "      <td>1</td>\n",
              "      <td>2</td>\n",
              "      <td>3637</td>\n",
              "      <td>668.27</td>\n",
              "      <td>502.54</td>\n",
              "      <td>2430497.99</td>\n",
              "      <td>1827737.98</td>\n",
              "      <td>2017</td>\n",
              "      <td>4</td>\n",
              "      <td>4</td>\n",
              "      <td>2017</td>\n",
              "      <td>5</td>\n",
              "      <td>20</td>\n",
              "    </tr>\n",
              "    <tr>\n",
              "      <th>17244</th>\n",
              "      <td>2</td>\n",
              "      <td>Malaysia</td>\n",
              "      <td>5</td>\n",
              "      <td>1</td>\n",
              "      <td>4</td>\n",
              "      <td>5410</td>\n",
              "      <td>81.73</td>\n",
              "      <td>56.67</td>\n",
              "      <td>442159.30</td>\n",
              "      <td>306584.70</td>\n",
              "      <td>2015</td>\n",
              "      <td>8</td>\n",
              "      <td>16</td>\n",
              "      <td>2015</td>\n",
              "      <td>9</td>\n",
              "      <td>27</td>\n",
              "    </tr>\n",
              "  </tbody>\n",
              "</table>\n",
              "</div>"
            ],
            "text/plain": [
              "       Region           Country  ...  Ship Date_month  Ship Date_day\n",
              "37319       5  Papua New Guinea  ...                8             30\n",
              "40787       0          Tanzania  ...                3             14\n",
              "24534       1     Liechtenstein  ...                4              3\n",
              "1944        1      Vatican City  ...                5             20\n",
              "17244       2          Malaysia  ...                9             27\n",
              "\n",
              "[5 rows x 16 columns]"
            ]
          },
          "metadata": {},
          "execution_count": 12
        }
      ]
    },
    {
      "cell_type": "code",
      "metadata": {
        "colab": {
          "base_uri": "https://localhost:8080/",
          "height": 275
        },
        "id": "d3tpL1QgeW8k",
        "outputId": "03e6dd61-24f5-4481-f5e4-8a31dfffee1c"
      },
      "source": [
        "x_test.head()"
      ],
      "execution_count": null,
      "outputs": [
        {
          "output_type": "execute_result",
          "data": {
            "text/html": [
              "<div>\n",
              "<style scoped>\n",
              "    .dataframe tbody tr th:only-of-type {\n",
              "        vertical-align: middle;\n",
              "    }\n",
              "\n",
              "    .dataframe tbody tr th {\n",
              "        vertical-align: top;\n",
              "    }\n",
              "\n",
              "    .dataframe thead th {\n",
              "        text-align: right;\n",
              "    }\n",
              "</style>\n",
              "<table border=\"1\" class=\"dataframe\">\n",
              "  <thead>\n",
              "    <tr style=\"text-align: right;\">\n",
              "      <th></th>\n",
              "      <th>Region</th>\n",
              "      <th>Country</th>\n",
              "      <th>Item Type</th>\n",
              "      <th>Sales Channel</th>\n",
              "      <th>Order Priority</th>\n",
              "      <th>Units Sold</th>\n",
              "      <th>Unit Price</th>\n",
              "      <th>Unit Cost</th>\n",
              "      <th>Total Revenue</th>\n",
              "      <th>Total Cost</th>\n",
              "      <th>Order Date_year</th>\n",
              "      <th>Order Date_month</th>\n",
              "      <th>Order Date_day</th>\n",
              "      <th>Ship Date_year</th>\n",
              "      <th>Ship Date_month</th>\n",
              "      <th>Ship Date_day</th>\n",
              "    </tr>\n",
              "  </thead>\n",
              "  <tbody>\n",
              "    <tr>\n",
              "      <th>16413</th>\n",
              "      <td>0</td>\n",
              "      <td>Benin</td>\n",
              "      <td>11</td>\n",
              "      <td>1</td>\n",
              "      <td>1</td>\n",
              "      <td>1361</td>\n",
              "      <td>255.28</td>\n",
              "      <td>159.42</td>\n",
              "      <td>347436.08</td>\n",
              "      <td>216970.62</td>\n",
              "      <td>2014</td>\n",
              "      <td>10</td>\n",
              "      <td>17</td>\n",
              "      <td>2014</td>\n",
              "      <td>11</td>\n",
              "      <td>27</td>\n",
              "    </tr>\n",
              "    <tr>\n",
              "      <th>21366</th>\n",
              "      <td>4</td>\n",
              "      <td>Honduras</td>\n",
              "      <td>2</td>\n",
              "      <td>0</td>\n",
              "      <td>3</td>\n",
              "      <td>219</td>\n",
              "      <td>9.33</td>\n",
              "      <td>6.92</td>\n",
              "      <td>2043.27</td>\n",
              "      <td>1515.48</td>\n",
              "      <td>2012</td>\n",
              "      <td>4</td>\n",
              "      <td>28</td>\n",
              "      <td>2012</td>\n",
              "      <td>5</td>\n",
              "      <td>5</td>\n",
              "    </tr>\n",
              "    <tr>\n",
              "      <th>30446</th>\n",
              "      <td>0</td>\n",
              "      <td>Central African Republic</td>\n",
              "      <td>3</td>\n",
              "      <td>0</td>\n",
              "      <td>2</td>\n",
              "      <td>3739</td>\n",
              "      <td>437.20</td>\n",
              "      <td>263.33</td>\n",
              "      <td>1634690.80</td>\n",
              "      <td>984590.87</td>\n",
              "      <td>2013</td>\n",
              "      <td>11</td>\n",
              "      <td>3</td>\n",
              "      <td>2013</td>\n",
              "      <td>11</td>\n",
              "      <td>25</td>\n",
              "    </tr>\n",
              "    <tr>\n",
              "      <th>32051</th>\n",
              "      <td>1</td>\n",
              "      <td>Czech Republic</td>\n",
              "      <td>3</td>\n",
              "      <td>0</td>\n",
              "      <td>1</td>\n",
              "      <td>3928</td>\n",
              "      <td>437.20</td>\n",
              "      <td>263.33</td>\n",
              "      <td>1717321.60</td>\n",
              "      <td>1034360.24</td>\n",
              "      <td>2017</td>\n",
              "      <td>5</td>\n",
              "      <td>27</td>\n",
              "      <td>2017</td>\n",
              "      <td>6</td>\n",
              "      <td>27</td>\n",
              "    </tr>\n",
              "    <tr>\n",
              "      <th>4277</th>\n",
              "      <td>2</td>\n",
              "      <td>Bhutan</td>\n",
              "      <td>7</td>\n",
              "      <td>0</td>\n",
              "      <td>1</td>\n",
              "      <td>544</td>\n",
              "      <td>152.58</td>\n",
              "      <td>97.44</td>\n",
              "      <td>83003.52</td>\n",
              "      <td>53007.36</td>\n",
              "      <td>2010</td>\n",
              "      <td>12</td>\n",
              "      <td>12</td>\n",
              "      <td>2010</td>\n",
              "      <td>12</td>\n",
              "      <td>30</td>\n",
              "    </tr>\n",
              "  </tbody>\n",
              "</table>\n",
              "</div>"
            ],
            "text/plain": [
              "       Region                   Country  ...  Ship Date_month  Ship Date_day\n",
              "16413       0                     Benin  ...               11             27\n",
              "21366       4                  Honduras  ...                5              5\n",
              "30446       0  Central African Republic  ...               11             25\n",
              "32051       1            Czech Republic  ...                6             27\n",
              "4277        2                    Bhutan  ...               12             30\n",
              "\n",
              "[5 rows x 16 columns]"
            ]
          },
          "metadata": {},
          "execution_count": 13
        }
      ]
    },
    {
      "cell_type": "markdown",
      "metadata": {
        "id": "1iKri_PSV2Jn"
      },
      "source": [
        "#### Perform label encoding of text and categorical data.\n",
        "1. We perform this step after splitting of data to prevent data leakage. \n",
        "2. Data leakage will introduce biasness in our model and we'll get absurd results when we perform prediction on unseen data"
      ]
    },
    {
      "cell_type": "code",
      "metadata": {
        "id": "WqWE5yzqeW_P"
      },
      "source": [
        "# Import label encoder \n",
        "from sklearn import preprocessing   \n",
        "# label_encoder object knows how to understand word labels. \n",
        "label_encoder = preprocessing.LabelEncoder()   \n",
        "# Encode labels in column 'Country'. \n",
        "x_train['Country']= label_encoder.fit_transform(x_train['Country'])\n",
        "x_test['Country']= label_encoder.transform(x_test['Country'])"
      ],
      "execution_count": null,
      "outputs": []
    },
    {
      "cell_type": "markdown",
      "metadata": {
        "id": "aDBJf-YrWYkM"
      },
      "source": [
        "We'll perform **MinMaxScaling** on the numerical data by using MinMaxScaler by scikit learn. \n",
        "This estimator scales and translates each feature individually such that it is in the given range on the training set, e.g. between zero and one.\n",
        " \n",
        "The transformation is given by:\n",
        "\n",
        "    X_std = (X - X.min(axis=0)) / (X.max(axis=0) - X.min(axis=0))\n",
        "    X_scaled = X_std * (max - min) + min\n",
        "\n",
        "where min, max = feature_range.\n",
        "\n",
        "This is done so that no feature dominates the other hence preventing bias in the model. \n",
        "\n"
      ]
    },
    {
      "cell_type": "code",
      "metadata": {
        "id": "REgHIdiMeXBp"
      },
      "source": [
        "from sklearn.preprocessing import MinMaxScaler\n",
        "scaler = MinMaxScaler() \n",
        "x_train[['Region','Country','Item Type','Sales Channel','Order Priority','Total Revenue','Total Cost']] = scaler.fit_transform(x_train[['Region','Country','Item Type','Sales Channel','Order Priority','Total Revenue','Total Cost']])\n",
        "x_test[['Region','Country','Item Type','Sales Channel','Order Priority','Total Revenue','Total Cost']] = scaler.transform(x_test[['Region','Country','Item Type','Sales Channel','Order Priority','Total Revenue','Total Cost']])\n"
      ],
      "execution_count": null,
      "outputs": []
    },
    {
      "cell_type": "code",
      "metadata": {
        "id": "JE8DbFTleXED"
      },
      "source": [
        "x_train[['Units Sold','Unit Price','Unit Cost']] = scaler.fit_transform(x_train[['Units Sold','Unit Price','Unit Cost']])\n",
        "x_test[['Units Sold','Unit Price','Unit Cost']] = scaler.transform(x_test[['Units Sold','Unit Price','Unit Cost']])"
      ],
      "execution_count": null,
      "outputs": []
    },
    {
      "cell_type": "code",
      "metadata": {
        "id": "n9eC087NeXHb"
      },
      "source": [
        "x_train[['Order Date_year','Order Date_month','Order Date_day','Ship Date_year','Ship Date_month','Ship Date_day']] = scaler.fit_transform(x_train[['Order Date_year','Order Date_month','Order Date_day','Ship Date_year','Ship Date_month','Ship Date_day']])\n",
        "x_test[['Order Date_year','Order Date_month','Order Date_day','Ship Date_year','Ship Date_month','Ship Date_day']] = scaler.transform(x_test[['Order Date_year','Order Date_month','Order Date_day','Ship Date_year','Ship Date_month','Ship Date_day']])"
      ],
      "execution_count": null,
      "outputs": []
    },
    {
      "cell_type": "code",
      "metadata": {
        "id": "qxf0lLT3VhkN",
        "colab": {
          "base_uri": "https://localhost:8080/",
          "height": 223
        },
        "outputId": "bfc483b7-c789-4755-eedf-1b0f36073150"
      },
      "source": [
        "x_train.head()"
      ],
      "execution_count": null,
      "outputs": [
        {
          "output_type": "execute_result",
          "data": {
            "text/html": [
              "<div>\n",
              "<style scoped>\n",
              "    .dataframe tbody tr th:only-of-type {\n",
              "        vertical-align: middle;\n",
              "    }\n",
              "\n",
              "    .dataframe tbody tr th {\n",
              "        vertical-align: top;\n",
              "    }\n",
              "\n",
              "    .dataframe thead th {\n",
              "        text-align: right;\n",
              "    }\n",
              "</style>\n",
              "<table border=\"1\" class=\"dataframe\">\n",
              "  <thead>\n",
              "    <tr style=\"text-align: right;\">\n",
              "      <th></th>\n",
              "      <th>Region</th>\n",
              "      <th>Country</th>\n",
              "      <th>Item Type</th>\n",
              "      <th>Sales Channel</th>\n",
              "      <th>Order Priority</th>\n",
              "      <th>Units Sold</th>\n",
              "      <th>Unit Price</th>\n",
              "      <th>Unit Cost</th>\n",
              "      <th>Total Revenue</th>\n",
              "      <th>Total Cost</th>\n",
              "      <th>Order Date_year</th>\n",
              "      <th>Order Date_month</th>\n",
              "      <th>Order Date_day</th>\n",
              "      <th>Ship Date_year</th>\n",
              "      <th>Ship Date_month</th>\n",
              "      <th>Ship Date_day</th>\n",
              "    </tr>\n",
              "  </thead>\n",
              "  <tbody>\n",
              "    <tr>\n",
              "      <th>37319</th>\n",
              "      <td>0.833333</td>\n",
              "      <td>0.679348</td>\n",
              "      <td>1.000000</td>\n",
              "      <td>1.0</td>\n",
              "      <td>1.000000</td>\n",
              "      <td>0.062506</td>\n",
              "      <td>0.373251</td>\n",
              "      <td>0.294379</td>\n",
              "      <td>0.051061</td>\n",
              "      <td>0.036887</td>\n",
              "      <td>0.714286</td>\n",
              "      <td>0.545455</td>\n",
              "      <td>0.400000</td>\n",
              "      <td>0.714286</td>\n",
              "      <td>0.636364</td>\n",
              "      <td>0.966667</td>\n",
              "    </tr>\n",
              "    <tr>\n",
              "      <th>40787</th>\n",
              "      <td>0.000000</td>\n",
              "      <td>0.880435</td>\n",
              "      <td>0.181818</td>\n",
              "      <td>0.0</td>\n",
              "      <td>1.000000</td>\n",
              "      <td>0.613861</td>\n",
              "      <td>0.000000</td>\n",
              "      <td>0.000000</td>\n",
              "      <td>0.018295</td>\n",
              "      <td>0.015698</td>\n",
              "      <td>0.714286</td>\n",
              "      <td>0.000000</td>\n",
              "      <td>0.933333</td>\n",
              "      <td>0.714286</td>\n",
              "      <td>0.181818</td>\n",
              "      <td>0.433333</td>\n",
              "    </tr>\n",
              "    <tr>\n",
              "      <th>24534</th>\n",
              "      <td>0.166667</td>\n",
              "      <td>0.489130</td>\n",
              "      <td>0.363636</td>\n",
              "      <td>1.0</td>\n",
              "      <td>0.000000</td>\n",
              "      <td>0.594559</td>\n",
              "      <td>0.219641</td>\n",
              "      <td>0.162169</td>\n",
              "      <td>0.292737</td>\n",
              "      <td>0.199879</td>\n",
              "      <td>0.428571</td>\n",
              "      <td>0.181818</td>\n",
              "      <td>0.333333</td>\n",
              "      <td>0.428571</td>\n",
              "      <td>0.272727</td>\n",
              "      <td>0.066667</td>\n",
              "    </tr>\n",
              "    <tr>\n",
              "      <th>1944</th>\n",
              "      <td>0.166667</td>\n",
              "      <td>0.978261</td>\n",
              "      <td>0.000000</td>\n",
              "      <td>1.0</td>\n",
              "      <td>0.333333</td>\n",
              "      <td>0.363636</td>\n",
              "      <td>1.000000</td>\n",
              "      <td>0.956721</td>\n",
              "      <td>0.776724</td>\n",
              "      <td>0.675710</td>\n",
              "      <td>1.000000</td>\n",
              "      <td>0.272727</td>\n",
              "      <td>0.100000</td>\n",
              "      <td>1.000000</td>\n",
              "      <td>0.363636</td>\n",
              "      <td>0.633333</td>\n",
              "    </tr>\n",
              "    <tr>\n",
              "      <th>17244</th>\n",
              "      <td>0.333333</td>\n",
              "      <td>0.521739</td>\n",
              "      <td>0.454545</td>\n",
              "      <td>1.0</td>\n",
              "      <td>1.000000</td>\n",
              "      <td>0.540954</td>\n",
              "      <td>0.109873</td>\n",
              "      <td>0.096035</td>\n",
              "      <td>0.141295</td>\n",
              "      <td>0.113337</td>\n",
              "      <td>0.714286</td>\n",
              "      <td>0.636364</td>\n",
              "      <td>0.500000</td>\n",
              "      <td>0.714286</td>\n",
              "      <td>0.727273</td>\n",
              "      <td>0.866667</td>\n",
              "    </tr>\n",
              "  </tbody>\n",
              "</table>\n",
              "</div>"
            ],
            "text/plain": [
              "         Region   Country  ...  Ship Date_month  Ship Date_day\n",
              "37319  0.833333  0.679348  ...         0.636364       0.966667\n",
              "40787  0.000000  0.880435  ...         0.181818       0.433333\n",
              "24534  0.166667  0.489130  ...         0.272727       0.066667\n",
              "1944   0.166667  0.978261  ...         0.363636       0.633333\n",
              "17244  0.333333  0.521739  ...         0.727273       0.866667\n",
              "\n",
              "[5 rows x 16 columns]"
            ]
          },
          "metadata": {},
          "execution_count": 18
        }
      ]
    },
    {
      "cell_type": "code",
      "metadata": {
        "colab": {
          "base_uri": "https://localhost:8080/",
          "height": 223
        },
        "id": "wmb880QmfLHr",
        "outputId": "88b6bdb6-e29b-4498-f63e-85e45f1c6ec9"
      },
      "source": [
        "x_test.head()"
      ],
      "execution_count": null,
      "outputs": [
        {
          "output_type": "execute_result",
          "data": {
            "text/html": [
              "<div>\n",
              "<style scoped>\n",
              "    .dataframe tbody tr th:only-of-type {\n",
              "        vertical-align: middle;\n",
              "    }\n",
              "\n",
              "    .dataframe tbody tr th {\n",
              "        vertical-align: top;\n",
              "    }\n",
              "\n",
              "    .dataframe thead th {\n",
              "        text-align: right;\n",
              "    }\n",
              "</style>\n",
              "<table border=\"1\" class=\"dataframe\">\n",
              "  <thead>\n",
              "    <tr style=\"text-align: right;\">\n",
              "      <th></th>\n",
              "      <th>Region</th>\n",
              "      <th>Country</th>\n",
              "      <th>Item Type</th>\n",
              "      <th>Sales Channel</th>\n",
              "      <th>Order Priority</th>\n",
              "      <th>Units Sold</th>\n",
              "      <th>Unit Price</th>\n",
              "      <th>Unit Cost</th>\n",
              "      <th>Total Revenue</th>\n",
              "      <th>Total Cost</th>\n",
              "      <th>Order Date_year</th>\n",
              "      <th>Order Date_month</th>\n",
              "      <th>Order Date_day</th>\n",
              "      <th>Ship Date_year</th>\n",
              "      <th>Ship Date_month</th>\n",
              "      <th>Ship Date_day</th>\n",
              "    </tr>\n",
              "  </thead>\n",
              "  <tbody>\n",
              "    <tr>\n",
              "      <th>16413</th>\n",
              "      <td>0.000000</td>\n",
              "      <td>0.086957</td>\n",
              "      <td>1.000000</td>\n",
              "      <td>1.0</td>\n",
              "      <td>0.000000</td>\n",
              "      <td>0.136014</td>\n",
              "      <td>0.373251</td>\n",
              "      <td>0.294379</td>\n",
              "      <td>0.111024</td>\n",
              "      <td>0.080207</td>\n",
              "      <td>0.571429</td>\n",
              "      <td>0.818182</td>\n",
              "      <td>0.533333</td>\n",
              "      <td>0.571429</td>\n",
              "      <td>0.909091</td>\n",
              "      <td>0.866667</td>\n",
              "    </tr>\n",
              "    <tr>\n",
              "      <th>21366</th>\n",
              "      <td>0.666667</td>\n",
              "      <td>0.353261</td>\n",
              "      <td>0.181818</td>\n",
              "      <td>0.0</td>\n",
              "      <td>0.666667</td>\n",
              "      <td>0.021802</td>\n",
              "      <td>0.000000</td>\n",
              "      <td>0.000000</td>\n",
              "      <td>0.000644</td>\n",
              "      <td>0.000553</td>\n",
              "      <td>0.285714</td>\n",
              "      <td>0.272727</td>\n",
              "      <td>0.900000</td>\n",
              "      <td>0.285714</td>\n",
              "      <td>0.363636</td>\n",
              "      <td>0.133333</td>\n",
              "    </tr>\n",
              "    <tr>\n",
              "      <th>30446</th>\n",
              "      <td>0.000000</td>\n",
              "      <td>0.152174</td>\n",
              "      <td>0.272727</td>\n",
              "      <td>0.0</td>\n",
              "      <td>0.333333</td>\n",
              "      <td>0.373837</td>\n",
              "      <td>0.649331</td>\n",
              "      <td>0.494962</td>\n",
              "      <td>0.522402</td>\n",
              "      <td>0.363997</td>\n",
              "      <td>0.428571</td>\n",
              "      <td>0.909091</td>\n",
              "      <td>0.066667</td>\n",
              "      <td>0.428571</td>\n",
              "      <td>0.909091</td>\n",
              "      <td>0.800000</td>\n",
              "    </tr>\n",
              "    <tr>\n",
              "      <th>32051</th>\n",
              "      <td>0.166667</td>\n",
              "      <td>0.201087</td>\n",
              "      <td>0.272727</td>\n",
              "      <td>0.0</td>\n",
              "      <td>0.000000</td>\n",
              "      <td>0.392739</td>\n",
              "      <td>0.649331</td>\n",
              "      <td>0.494962</td>\n",
              "      <td>0.548809</td>\n",
              "      <td>0.382397</td>\n",
              "      <td>1.000000</td>\n",
              "      <td>0.363636</td>\n",
              "      <td>0.866667</td>\n",
              "      <td>1.000000</td>\n",
              "      <td>0.454545</td>\n",
              "      <td>0.866667</td>\n",
              "    </tr>\n",
              "    <tr>\n",
              "      <th>4277</th>\n",
              "      <td>0.333333</td>\n",
              "      <td>0.092391</td>\n",
              "      <td>0.636364</td>\n",
              "      <td>0.0</td>\n",
              "      <td>0.000000</td>\n",
              "      <td>0.054305</td>\n",
              "      <td>0.217395</td>\n",
              "      <td>0.174736</td>\n",
              "      <td>0.026517</td>\n",
              "      <td>0.019589</td>\n",
              "      <td>0.000000</td>\n",
              "      <td>1.000000</td>\n",
              "      <td>0.366667</td>\n",
              "      <td>0.000000</td>\n",
              "      <td>1.000000</td>\n",
              "      <td>0.966667</td>\n",
              "    </tr>\n",
              "  </tbody>\n",
              "</table>\n",
              "</div>"
            ],
            "text/plain": [
              "         Region   Country  ...  Ship Date_month  Ship Date_day\n",
              "16413  0.000000  0.086957  ...         0.909091       0.866667\n",
              "21366  0.666667  0.353261  ...         0.363636       0.133333\n",
              "30446  0.000000  0.152174  ...         0.909091       0.800000\n",
              "32051  0.166667  0.201087  ...         0.454545       0.866667\n",
              "4277   0.333333  0.092391  ...         1.000000       0.966667\n",
              "\n",
              "[5 rows x 16 columns]"
            ]
          },
          "metadata": {},
          "execution_count": 19
        }
      ]
    },
    {
      "cell_type": "markdown",
      "metadata": {
        "id": "rqUYIWvlYlad"
      },
      "source": [
        "# Machine Learning Models"
      ]
    },
    {
      "cell_type": "markdown",
      "metadata": {
        "id": "UmP0S7IafkI7"
      },
      "source": [
        "##Hyperparameter Tuning \n",
        "**Hyperparameter**- Model configuration argument specified by the developer to guide the learning process for a specific dataset\n",
        "\n",
        "The process where we objectively search different values for model hyperparameters and choose a subset that results in a model that achieves the best performance on a given dataset is called hyperparameter optimization or hyperparameter tuning and is available in the scikit-learn Python machine learning library. \n",
        "\n",
        "The result of a hyperparameter optimization is a single set of well-performing hyperparameters that you can use to configure your model."
      ]
    },
    {
      "cell_type": "markdown",
      "metadata": {
        "id": "Tf6pExY0jDAT"
      },
      "source": [
        "### Random Search Hyperparameter tuning technique\n",
        "It checks a randomly selected fixed number of combinations specified in **n_iter** of the **RandomizedSearchCV** function. \n",
        "\n",
        "Random search has a very high probability of finding the optimal hyperparameter combination within the randomly selected combinations. \n",
        "\n",
        "This method is very useful to find the optimal hyperparameter combination quickly and efficiently when the search space is higher dimensional and contains many combinations of values.\n"
      ]
    },
    {
      "cell_type": "markdown",
      "metadata": {
        "id": "mZqxzk3jYqst"
      },
      "source": [
        "## 1. Support Vector Regressors\n",
        "The first model which we're going to appply is SVR. \n",
        "SVR are really powerful algorithms. The speciality of SVR is its **Kernel Trick**\n",
        "The two most common typ of kernels are \n",
        "* Polynomial Kernels\n",
        "Polynomial kernel is a kernel function that represents the similarity of vectors (training samples) in a different feature space over polynomials of the original variables, allowing learning of non-linear models.\n",
        "\n",
        "* RBF Kernels\n",
        "RBF kernels are the most generalized form of kernelization and is one of the most widely used kernels due to its similarity to the Gaussian distribution. The RBF kernel function for two points X1 and X2 computes the similarity or how close they are to each other. \n",
        "Mathematically,\n",
        " **K(X1,X2) = exp(-||X1-X2||^2 / 2σ^2 )** \n"
      ]
    },
    {
      "cell_type": "markdown",
      "metadata": {
        "id": "RPNTHUUIz3Sj"
      },
      "source": [
        "### 1.1 RandomSearchCV on SVR\n",
        "The hyperparameters in SVR that need to be tuned are\n",
        "* kernel - This specifies the type of kernel we should use with our problem. Here, we'll use three kernels \n",
        "     1. Linear\n",
        "     2. Polynomial\n",
        "     3. RBF\n",
        "* degree - This parameter is used only if we're using polynomial kernel. This refers to what degree of polynomial we should use.\n",
        "* epsilon - This refers to the amount of error we can tolerate while getting the optimal hyperplane.\n",
        "* C - This is our regularization parameter. We use regularization parameter to make our model fit the data better and make less mistakes.\n"
      ]
    },
    {
      "cell_type": "code",
      "metadata": {
        "id": "vtHRG_3Gf2Mw"
      },
      "source": [
        "#which kernel to choose\n",
        "kernel = ['linear', 'poly', 'rbf']\n",
        "\n",
        "#degree if kernel is polynomial\n",
        "degree = [3,4,2,5,6]\n",
        "\n",
        "#epsilon - how much error can be tolerated\n",
        "epsilon = [float(x) for x in np.linspace(0, 1, 5)]\n",
        "\n",
        "# C - Regularization parameter\n",
        "C = [float(x) for x in np.linspace(1.0, 3.0, 5)]\n",
        "\n",
        "# Create the grid\n",
        "dt_grid = {'kernel': kernel,\n",
        "           'degree': degree,\n",
        "           'epsilon': epsilon,\n",
        "           'C' : C}"
      ],
      "execution_count": null,
      "outputs": []
    },
    {
      "cell_type": "code",
      "metadata": {
        "colab": {
          "base_uri": "https://localhost:8080/"
        },
        "id": "Wsn3cXb0jtU2",
        "outputId": "f14bdb6d-6fa2-49dc-e951-132e01ccaffd"
      },
      "source": [
        "dt_grid"
      ],
      "execution_count": null,
      "outputs": [
        {
          "output_type": "execute_result",
          "data": {
            "text/plain": [
              "{'C': [1.0, 1.5, 2.0, 2.5, 3.0],\n",
              " 'degree': [3, 4, 2, 5, 6],\n",
              " 'epsilon': [0.0, 0.25, 0.5, 0.75, 1.0],\n",
              " 'kernel': ['linear', 'poly', 'rbf']}"
            ]
          },
          "metadata": {},
          "execution_count": 21
        }
      ]
    },
    {
      "cell_type": "code",
      "metadata": {
        "colab": {
          "base_uri": "https://localhost:8080/"
        },
        "id": "yOWpMqpOjx7E",
        "outputId": "482765b5-6a36-45c3-c9f4-b6a935cfa4a2"
      },
      "source": [
        "from sklearn.model_selection import RandomizedSearchCV\n",
        "from sklearn import svm\n",
        "\n",
        "# Create the model to be tuned\n",
        "dt_base = svm.SVR()\n",
        "\n",
        "# Create the random search SVR\n",
        "dt_random = RandomizedSearchCV(estimator = dt_base, param_distributions = dt_grid, \n",
        "                               n_iter = 5, cv = 5)\n",
        "\n",
        "# Fit the random search model\n",
        "dt_random.fit(x_train, y_train)\n",
        "\n",
        "# View the best parameters from the random search\n",
        "dt_random.best_params_"
      ],
      "execution_count": null,
      "outputs": [
        {
          "output_type": "execute_result",
          "data": {
            "text/plain": [
              "{'C': 2.5, 'degree': 4, 'epsilon': 0.25, 'kernel': 'poly'}"
            ]
          },
          "metadata": {},
          "execution_count": 22
        }
      ]
    },
    {
      "cell_type": "markdown",
      "metadata": {
        "id": "_A6eW3BG1DDj"
      },
      "source": [
        "The output of above code gives the best hyperparameter values that should be used if one wants high accuracy."
      ]
    },
    {
      "cell_type": "code",
      "metadata": {
        "colab": {
          "base_uri": "https://localhost:8080/"
        },
        "id": "ZAsIYf-lLoJi",
        "outputId": "9d51c64d-246c-4861-8878-68e6c79315c8"
      },
      "source": [
        "svr = svm.SVR(C =  3.0, degree = 6, epsilon = 0.5, kernel = 'poly')\n",
        "svr.fit(x_train,y_train)\n",
        "print('r2_score on train data :',svr.score(x_train,y_train))"
      ],
      "execution_count": null,
      "outputs": [
        {
          "output_type": "stream",
          "name": "stdout",
          "text": [
            "r2_score on train data : 0.5769483992618968\n"
          ]
        }
      ]
    },
    {
      "cell_type": "code",
      "metadata": {
        "colab": {
          "base_uri": "https://localhost:8080/"
        },
        "id": "0ymuIeHNKJy0",
        "outputId": "3d5328e7-6647-43ff-988a-61eaef2f51a4"
      },
      "source": [
        "pred_svm = svr.predict(x_test)\n",
        "r2_score(y_test, pred_svm)"
      ],
      "execution_count": null,
      "outputs": [
        {
          "output_type": "execute_result",
          "data": {
            "text/plain": [
              "0.5912766373833563"
            ]
          },
          "metadata": {},
          "execution_count": 24
        }
      ]
    },
    {
      "cell_type": "markdown",
      "metadata": {
        "id": "HIpO9mSz1Up-"
      },
      "source": [
        "SVR have an r2_score of 0.61 on train data and 0.599 score on test data."
      ]
    },
    {
      "cell_type": "code",
      "metadata": {
        "colab": {
          "base_uri": "https://localhost:8080/",
          "height": 345
        },
        "id": "lTOHtCGzKKFM",
        "outputId": "5de45049-b519-4b8c-afae-5df1336457fc"
      },
      "source": [
        "plt.figure(figsize=(15, 5))\n",
        "plt.scatter(pred_svm,y_test, c =\"green\" , s = 3) \n",
        "plt.xlabel(\"prediction\") \n",
        "plt.ylabel(\"true value\") \n",
        "\n",
        "plt.title('True value vs Predicted value plot')\n",
        "ax = plt.axes()\n",
        "#ax.set_facecolor(\"black\")\n",
        "\n",
        "plt.show()"
      ],
      "execution_count": null,
      "outputs": [
        {
          "output_type": "display_data",
          "data": {
            "image/png": "[encoded data removed]",
            "text/plain": [
              "<Figure size 1080x360 with 1 Axes>"
            ]
          },
          "metadata": {}
        }
      ]
    },
    {
      "cell_type": "markdown",
      "metadata": {
        "id": "CwZcREy-16Yk"
      },
      "source": [
        "The above **scatter plot** of *predicted* vs *true* value is not straight line as we can see."
      ]
    },
    {
      "cell_type": "markdown",
      "metadata": {
        "id": "WcFBg4L4okm7"
      },
      "source": [
        "## 2. K Nearest Neighbours Regressor"
      ]
    },
    {
      "cell_type": "markdown",
      "metadata": {
        "id": "r9mBKUjgowDD"
      },
      "source": [
        "### 2.1 Hyperparameter Tuning using Random Search For KNN"
      ]
    },
    {
      "cell_type": "markdown",
      "metadata": {
        "id": "w8ogsgrb2Ijf"
      },
      "source": [
        "The hyperparameters for KNN to be tuned are\n",
        "* weights - This refers to how should the neighbours of a particular data point be treated. The possible values are\n",
        "        1. 'uniform' : uniform weights. All points in each neighborhood are weighted equally.\n",
        "\n",
        "        2. 'distance' : weight points by the inverse of their distance. in this case, closer neighbors of a query point will have a greater influence than neighbors which are further away.\n",
        "* algorithm - Algorithm used to compute the nearest neighbors\n",
        "        1. auto - will use most appropriate algorithm based on values passed to *fit* method.\n",
        "        2. kd_tree - kd_tree will be used.\n",
        "* n_neighbors - Number of neighbours to consider.\n",
        "* p - Power parameter for the Minkowski metric.\n",
        "        1. p = 1 - Manhattan_distance (l1)\n",
        "        2. p = 2 - Euclidean_distance (l2) \n",
        "* leaf_size - Leaf size for KDTree. Can affect the speed of the construction and query, as well as the memory required to store the tree. "
      ]
    },
    {
      "cell_type": "code",
      "metadata": {
        "id": "AU8gD0ljfHZ7"
      },
      "source": [
        "#which weight metric to choose\n",
        "weights = ['uniform', 'distance']\n",
        "\n",
        "#degree if kernel is polynomial\n",
        "algorithm = ['auto', 'kd_tree']\n",
        "\n",
        "\n",
        "n_neighbors = [3,5,7,1]\n",
        "\n",
        "#p value\n",
        "p = [1,2]\n",
        "\n",
        "# leaf size \n",
        "leaf_size = [30,40,20,45]\n",
        "\n",
        "# Create the grid\n",
        "dt_grid = {'weights': weights,\n",
        "           'algorithm': algorithm,\n",
        "           'n_neighbors': n_neighbors,\n",
        "           'p' : p,\n",
        "           'leaf_size' : leaf_size}"
      ],
      "execution_count": null,
      "outputs": []
    },
    {
      "cell_type": "code",
      "metadata": {
        "colab": {
          "base_uri": "https://localhost:8080/"
        },
        "id": "II-wdIP9t7s6",
        "outputId": "acfe2c4e-d0fb-4d68-bef9-7ebeb1f792da"
      },
      "source": [
        "dt_grid"
      ],
      "execution_count": null,
      "outputs": [
        {
          "output_type": "execute_result",
          "data": {
            "text/plain": [
              "{'algorithm': ['auto', 'kd_tree'],\n",
              " 'leaf_size': [30, 40, 20, 45],\n",
              " 'n_neighbors': [3, 5, 7, 1],\n",
              " 'p': [1, 2],\n",
              " 'weights': ['uniform', 'distance']}"
            ]
          },
          "metadata": {},
          "execution_count": 28
        }
      ]
    },
    {
      "cell_type": "code",
      "metadata": {
        "colab": {
          "base_uri": "https://localhost:8080/"
        },
        "id": "Hv_WJHqZp9En",
        "outputId": "7f6efc51-242e-4cf0-a1bf-7c829e2c633c"
      },
      "source": [
        "from sklearn.model_selection import RandomizedSearchCV\n",
        "from sklearn.neighbors import KNeighborsRegressor\n",
        "\n",
        "# Create the model to be tuned\n",
        "dt_base = KNeighborsRegressor()\n",
        "\n",
        "# Create the random search SVR\n",
        "dt_random = RandomizedSearchCV(estimator = dt_base, param_distributions = dt_grid, \n",
        "                               n_iter = 10, cv = 5)\n",
        "\n",
        "# Fit the random search model\n",
        "dt_random.fit(x_train, y_train)\n",
        "\n",
        "# View the best parameters from the random search\n",
        "dt_random.best_params_"
      ],
      "execution_count": null,
      "outputs": [
        {
          "output_type": "execute_result",
          "data": {
            "text/plain": [
              "{'algorithm': 'auto',\n",
              " 'leaf_size': 40,\n",
              " 'n_neighbors': 5,\n",
              " 'p': 1,\n",
              " 'weights': 'distance'}"
            ]
          },
          "metadata": {},
          "execution_count": 29
        }
      ]
    },
    {
      "cell_type": "markdown",
      "metadata": {
        "id": "XdWxBfqTBdpM"
      },
      "source": [
        "The output of above code gives the best hyperparameter values that should be used if one wants high accuracy."
      ]
    },
    {
      "cell_type": "code",
      "metadata": {
        "colab": {
          "base_uri": "https://localhost:8080/"
        },
        "id": "-ViD61lWTjvn",
        "outputId": "905cf77f-b4a3-44c7-f461-c2081fe96472"
      },
      "source": [
        "knr = KNeighborsRegressor(algorithm = 'auto', leaf_size = 40,n_neighbors = 7, p = 1,weights = 'distance')\n",
        "knr.fit(x_train,y_train)"
      ],
      "execution_count": null,
      "outputs": [
        {
          "output_type": "execute_result",
          "data": {
            "text/plain": [
              "KNeighborsRegressor(leaf_size=40, n_neighbors=7, p=1, weights='distance')"
            ]
          },
          "metadata": {},
          "execution_count": 30
        }
      ]
    },
    {
      "cell_type": "code",
      "metadata": {
        "colab": {
          "base_uri": "https://localhost:8080/"
        },
        "id": "xROjLJcMUdgF",
        "outputId": "f88cbbae-298b-49e1-9ad6-fdf23c1340fa"
      },
      "source": [
        "print('r2 score on train data', knr.score(x_train,y_train))"
      ],
      "execution_count": null,
      "outputs": [
        {
          "output_type": "stream",
          "name": "stdout",
          "text": [
            "r2 score on train data 1.0\n"
          ]
        }
      ]
    },
    {
      "cell_type": "code",
      "metadata": {
        "id": "kKZLQQzcrJRu",
        "colab": {
          "base_uri": "https://localhost:8080/"
        },
        "outputId": "e6e628a2-6a5a-4d05-aec2-33b9fc3ed958"
      },
      "source": [
        "pred_knn = dt_random.predict(x_test)\n",
        "print('r2 score on test data',r2_score(y_test, pred_knn))"
      ],
      "execution_count": null,
      "outputs": [
        {
          "output_type": "stream",
          "name": "stdout",
          "text": [
            "r2 score on test data 0.9423488685350148\n"
          ]
        }
      ]
    },
    {
      "cell_type": "markdown",
      "metadata": {
        "id": "M_tGL9tLCBKV"
      },
      "source": [
        "The above r2 score of **1** shows us that KNN regressors are able to fit the train data perfectly well but high difference between score of train and test shows that they're not able to generalize well on unseen data.\n",
        "\n",
        "**Conclusion** - Model overfits and we need to find a better model.\n",
        "\n"
      ]
    },
    {
      "cell_type": "code",
      "metadata": {
        "colab": {
          "base_uri": "https://localhost:8080/",
          "height": 345
        },
        "id": "CrzBoXmLIyVW",
        "outputId": "40c33fe6-466d-4cbb-9ca7-6c95ebb25615"
      },
      "source": [
        "plt.figure(figsize=(15, 5))\n",
        "plt.scatter(pred_knn,y_test, c =\"green\" , s = 3) \n",
        "plt.xlabel(\"prediction\") \n",
        "plt.ylabel(\"true value\") \n",
        "\n",
        "plt.title('True value vs Predicted value plot')\n",
        "ax = plt.axes()\n",
        "\n",
        "plt.show()"
      ],
      "execution_count": null,
      "outputs": [
        {
          "output_type": "display_data",
          "data": {
            "image/png": "[encoded data removed]",
            "text/plain": [
              "<Figure size 1080x360 with 1 Axes>"
            ]
          },
          "metadata": {}
        }
      ]
    },
    {
      "cell_type": "markdown",
      "metadata": {
        "id": "540-QHjhCXKn"
      },
      "source": [
        "The above **scatter plot** of *predicted* vs *true* value is almost a straight line but needs to be improved."
      ]
    },
    {
      "cell_type": "markdown",
      "metadata": {
        "id": "JDyh_OChYLp1"
      },
      "source": [
        "## Ensemble Learning Techniques"
      ]
    },
    {
      "cell_type": "markdown",
      "metadata": {
        "id": "bc8-HPepY-iu"
      },
      "source": [
        "Ensemble is the art of combining diverse set of learners (individual models) together to improvise on the stability and predictive power of the model. In the above example, the way we combine all the predictions together will be termed as Ensemble Learning."
      ]
    },
    {
      "cell_type": "markdown",
      "metadata": {
        "id": "u6TH6-wkvqSc"
      },
      "source": [
        "## 3. Random Forest Regressor"
      ]
    },
    {
      "cell_type": "markdown",
      "metadata": {
        "id": "X24hRDsvZAU8"
      },
      "source": [
        "### Bagging\n",
        "Bagging tries to implement similar learners on small sample populations and then takes a mean of all the predictions. In generalized bagging, you can use different learners on different population.  As you can expect this helps us to reduce the variance error.\n",
        "\n",
        "**Takes low bias and high variance model -> returns low bias and low variance models** "
      ]
    },
    {
      "cell_type": "markdown",
      "metadata": {
        "id": "H-En39xTZ-RB"
      },
      "source": [
        "A random forest is a meta estimator that fits a number of decision trees on various sub-samples of the dataset and uses averaging to improve the predictive accuracy and control over-fitting."
      ]
    },
    {
      "cell_type": "markdown",
      "metadata": {
        "id": "38k7d7FuAdAc"
      },
      "source": [
        "### 3.1 Hyperparameter Tuning"
      ]
    },
    {
      "cell_type": "markdown",
      "metadata": {
        "id": "lKZxn4AEZXJl"
      },
      "source": [
        "1. **max_depth**\n",
        "The maximum depth of the tree. If None, then nodes are expanded until all leaves are pure or until all leaves contain less than min_samples_split samples.\n",
        "\n",
        "2. **criterion**\n",
        "The function to measure the quality of a split.\n",
        "\n",
        "3. **n_estimators**\n",
        "number of estimators which we use to train the model.\n",
        "\n",
        "4. **max_features**\n",
        "number of features which we have to consider"
      ]
    },
    {
      "cell_type": "code",
      "metadata": {
        "id": "F-c694iOwUVM"
      },
      "source": [
        "\n",
        "#which weight metric to choose\n",
        "max_depth = [5,10,4,3]\n",
        "\n",
        "#degree if kernel is polynomial\n",
        "criterion = ['mae']\n",
        "\n",
        "\n",
        "n_estimators = [100, 90, 150, 200]\n",
        "\n",
        "max_features = ['sqrt', 'log2']\n",
        "\n",
        "# Create the grid\n",
        "dt_grid = {'max_depth': max_depth,\n",
        "           'max_features' : max_features,\n",
        "           'n_estimators': n_estimators}"
      ],
      "execution_count": null,
      "outputs": []
    },
    {
      "cell_type": "code",
      "metadata": {
        "colab": {
          "base_uri": "https://localhost:8080/"
        },
        "id": "4dmlN04DwUX-",
        "outputId": "37ef7118-3e40-4631-8c80-742e7b24468f"
      },
      "source": [
        "dt_grid"
      ],
      "execution_count": null,
      "outputs": [
        {
          "output_type": "execute_result",
          "data": {
            "text/plain": [
              "{'max_depth': [5, 10, 4, 3],\n",
              " 'max_features': ['sqrt', 'log2'],\n",
              " 'n_estimators': [100, 90, 150, 200]}"
            ]
          },
          "metadata": {},
          "execution_count": 35
        }
      ]
    },
    {
      "cell_type": "code",
      "metadata": {
        "colab": {
          "base_uri": "https://localhost:8080/"
        },
        "id": "r15HXz03wUa6",
        "outputId": "5ce08d5b-2427-4094-d2aa-95203582d552"
      },
      "source": [
        "from sklearn.model_selection import RandomizedSearchCV\n",
        "from sklearn.ensemble import RandomForestRegressor\n",
        "\n",
        "# Create the model to be tuned\n",
        "dt_base = RandomForestRegressor(verbose=1,n_jobs=-1)\n",
        "\n",
        "# Create the random search SVR\n",
        "dt_random = RandomizedSearchCV(estimator = dt_base, param_distributions = dt_grid, \n",
        "                               n_iter = 5, cv = 10)\n",
        "\n",
        "# Fit the random search model\n",
        "dt_random.fit(x_train, y_train)\n",
        "\n",
        "# View the best parameters from the random search\n",
        "dt_random.best_params_"
      ],
      "execution_count": null,
      "outputs": [
        {
          "output_type": "stream",
          "name": "stderr",
          "text": [
            "[Parallel(n_jobs=-1)]: Using backend LokyBackend with 2 concurrent workers.\n",
            "[Parallel(n_jobs=-1)]: Done 146 tasks      | elapsed:    3.5s\n",
            "[Parallel(n_jobs=-1)]: Done 150 out of 150 | elapsed:    3.5s finished\n",
            "[Parallel(n_jobs=2)]: Using backend ThreadingBackend with 2 concurrent workers.\n",
            "[Parallel(n_jobs=2)]: Done  46 tasks      | elapsed:    0.0s\n",
            "[Parallel(n_jobs=2)]: Done 150 out of 150 | elapsed:    0.1s finished\n",
            "[Parallel(n_jobs=-1)]: Using backend LokyBackend with 2 concurrent workers.\n",
            "[Parallel(n_jobs=-1)]: Done 150 out of 150 | elapsed:    2.2s finished\n",
            "[Parallel(n_jobs=2)]: Using backend ThreadingBackend with 2 concurrent workers.\n",
            "[Parallel(n_jobs=2)]: Done  46 tasks      | elapsed:    0.0s\n",
            "[Parallel(n_jobs=2)]: Done 150 out of 150 | elapsed:    0.0s finished\n",
            "[Parallel(n_jobs=-1)]: Using backend LokyBackend with 2 concurrent workers.\n",
            "[Parallel(n_jobs=-1)]: Done 150 out of 150 | elapsed:    2.3s finished\n",
            "[Parallel(n_jobs=2)]: Using backend ThreadingBackend with 2 concurrent workers.\n",
            "[Parallel(n_jobs=2)]: Done  46 tasks      | elapsed:    0.0s\n",
            "[Parallel(n_jobs=2)]: Done 150 out of 150 | elapsed:    0.0s finished\n",
            "[Parallel(n_jobs=-1)]: Using backend LokyBackend with 2 concurrent workers.\n",
            "[Parallel(n_jobs=-1)]: Done 150 out of 150 | elapsed:    2.3s finished\n",
            "[Parallel(n_jobs=2)]: Using backend ThreadingBackend with 2 concurrent workers.\n",
            "[Parallel(n_jobs=2)]: Done  46 tasks      | elapsed:    0.0s\n",
            "[Parallel(n_jobs=2)]: Done 150 out of 150 | elapsed:    0.0s finished\n",
            "[Parallel(n_jobs=-1)]: Using backend LokyBackend with 2 concurrent workers.\n",
            "[Parallel(n_jobs=-1)]: Done 150 out of 150 | elapsed:    2.2s finished\n",
            "[Parallel(n_jobs=2)]: Using backend ThreadingBackend with 2 concurrent workers.\n",
            "[Parallel(n_jobs=2)]: Done  46 tasks      | elapsed:    0.0s\n",
            "[Parallel(n_jobs=2)]: Done 150 out of 150 | elapsed:    0.0s finished\n",
            "[Parallel(n_jobs=-1)]: Using backend LokyBackend with 2 concurrent workers.\n",
            "[Parallel(n_jobs=-1)]: Done 150 out of 150 | elapsed:    2.3s finished\n",
            "[Parallel(n_jobs=2)]: Using backend ThreadingBackend with 2 concurrent workers.\n",
            "[Parallel(n_jobs=2)]: Done  46 tasks      | elapsed:    0.0s\n",
            "[Parallel(n_jobs=2)]: Done 150 out of 150 | elapsed:    0.1s finished\n",
            "[Parallel(n_jobs=-1)]: Using backend LokyBackend with 2 concurrent workers.\n",
            "[Parallel(n_jobs=-1)]: Done 150 out of 150 | elapsed:    2.3s finished\n",
            "[Parallel(n_jobs=2)]: Using backend ThreadingBackend with 2 concurrent workers.\n",
            "[Parallel(n_jobs=2)]: Done  46 tasks      | elapsed:    0.0s\n",
            "[Parallel(n_jobs=2)]: Done 150 out of 150 | elapsed:    0.1s finished\n",
            "[Parallel(n_jobs=-1)]: Using backend LokyBackend with 2 concurrent workers.\n",
            "[Parallel(n_jobs=-1)]: Done 150 out of 150 | elapsed:    2.3s finished\n",
            "[Parallel(n_jobs=2)]: Using backend ThreadingBackend with 2 concurrent workers.\n",
            "[Parallel(n_jobs=2)]: Done  46 tasks      | elapsed:    0.0s\n",
            "[Parallel(n_jobs=2)]: Done 150 out of 150 | elapsed:    0.1s finished\n",
            "[Parallel(n_jobs=-1)]: Using backend LokyBackend with 2 concurrent workers.\n",
            "[Parallel(n_jobs=-1)]: Done 150 out of 150 | elapsed:    2.3s finished\n",
            "[Parallel(n_jobs=2)]: Using backend ThreadingBackend with 2 concurrent workers.\n",
            "[Parallel(n_jobs=2)]: Done  46 tasks      | elapsed:    0.0s\n",
            "[Parallel(n_jobs=2)]: Done 150 out of 150 | elapsed:    0.1s finished\n",
            "[Parallel(n_jobs=-1)]: Using backend LokyBackend with 2 concurrent workers.\n",
            "[Parallel(n_jobs=-1)]: Done 150 out of 150 | elapsed:    2.2s finished\n",
            "[Parallel(n_jobs=2)]: Using backend ThreadingBackend with 2 concurrent workers.\n",
            "[Parallel(n_jobs=2)]: Done  46 tasks      | elapsed:    0.0s\n",
            "[Parallel(n_jobs=2)]: Done 150 out of 150 | elapsed:    0.0s finished\n",
            "[Parallel(n_jobs=-1)]: Using backend LokyBackend with 2 concurrent workers.\n",
            "[Parallel(n_jobs=-1)]: Done 100 out of 100 | elapsed:    1.5s finished\n",
            "[Parallel(n_jobs=2)]: Using backend ThreadingBackend with 2 concurrent workers.\n",
            "[Parallel(n_jobs=2)]: Done  46 tasks      | elapsed:    0.0s\n",
            "[Parallel(n_jobs=2)]: Done 100 out of 100 | elapsed:    0.0s finished\n",
            "[Parallel(n_jobs=-1)]: Using backend LokyBackend with 2 concurrent workers.\n",
            "[Parallel(n_jobs=-1)]: Done 100 out of 100 | elapsed:    1.5s finished\n",
            "[Parallel(n_jobs=2)]: Using backend ThreadingBackend with 2 concurrent workers.\n",
            "[Parallel(n_jobs=2)]: Done  46 tasks      | elapsed:    0.0s\n",
            "[Parallel(n_jobs=2)]: Done 100 out of 100 | elapsed:    0.0s finished\n",
            "[Parallel(n_jobs=-1)]: Using backend LokyBackend with 2 concurrent workers.\n",
            "[Parallel(n_jobs=-1)]: Done 100 out of 100 | elapsed:    1.5s finished\n",
            "[Parallel(n_jobs=2)]: Using backend ThreadingBackend with 2 concurrent workers.\n",
            "[Parallel(n_jobs=2)]: Done  46 tasks      | elapsed:    0.0s\n",
            "[Parallel(n_jobs=2)]: Done 100 out of 100 | elapsed:    0.0s finished\n",
            "[Parallel(n_jobs=-1)]: Using backend LokyBackend with 2 concurrent workers.\n",
            "[Parallel(n_jobs=-1)]: Done 100 out of 100 | elapsed:    1.5s finished\n",
            "[Parallel(n_jobs=2)]: Using backend ThreadingBackend with 2 concurrent workers.\n",
            "[Parallel(n_jobs=2)]: Done  46 tasks      | elapsed:    0.0s\n",
            "[Parallel(n_jobs=2)]: Done 100 out of 100 | elapsed:    0.0s finished\n",
            "[Parallel(n_jobs=-1)]: Using backend LokyBackend with 2 concurrent workers.\n",
            "[Parallel(n_jobs=-1)]: Done 100 out of 100 | elapsed:    1.5s finished\n",
            "[Parallel(n_jobs=2)]: Using backend ThreadingBackend with 2 concurrent workers.\n",
            "[Parallel(n_jobs=2)]: Done  46 tasks      | elapsed:    0.0s\n",
            "[Parallel(n_jobs=2)]: Done 100 out of 100 | elapsed:    0.0s finished\n",
            "[Parallel(n_jobs=-1)]: Using backend LokyBackend with 2 concurrent workers.\n",
            "[Parallel(n_jobs=-1)]: Done 100 out of 100 | elapsed:    1.5s finished\n",
            "[Parallel(n_jobs=2)]: Using backend ThreadingBackend with 2 concurrent workers.\n",
            "[Parallel(n_jobs=2)]: Done  46 tasks      | elapsed:    0.0s\n",
            "[Parallel(n_jobs=2)]: Done 100 out of 100 | elapsed:    0.0s finished\n",
            "[Parallel(n_jobs=-1)]: Using backend LokyBackend with 2 concurrent workers.\n",
            "[Parallel(n_jobs=-1)]: Done 100 out of 100 | elapsed:    1.5s finished\n",
            "[Parallel(n_jobs=2)]: Using backend ThreadingBackend with 2 concurrent workers.\n",
            "[Parallel(n_jobs=2)]: Done  46 tasks      | elapsed:    0.0s\n",
            "[Parallel(n_jobs=2)]: Done 100 out of 100 | elapsed:    0.0s finished\n",
            "[Parallel(n_jobs=-1)]: Using backend LokyBackend with 2 concurrent workers.\n",
            "[Parallel(n_jobs=-1)]: Done 100 out of 100 | elapsed:    1.5s finished\n",
            "[Parallel(n_jobs=2)]: Using backend ThreadingBackend with 2 concurrent workers.\n",
            "[Parallel(n_jobs=2)]: Done  46 tasks      | elapsed:    0.0s\n",
            "[Parallel(n_jobs=2)]: Done 100 out of 100 | elapsed:    0.0s finished\n",
            "[Parallel(n_jobs=-1)]: Using backend LokyBackend with 2 concurrent workers.\n",
            "[Parallel(n_jobs=-1)]: Done 100 out of 100 | elapsed:    1.5s finished\n",
            "[Parallel(n_jobs=2)]: Using backend ThreadingBackend with 2 concurrent workers.\n",
            "[Parallel(n_jobs=2)]: Done  46 tasks      | elapsed:    0.0s\n",
            "[Parallel(n_jobs=2)]: Done 100 out of 100 | elapsed:    0.0s finished\n",
            "[Parallel(n_jobs=-1)]: Using backend LokyBackend with 2 concurrent workers.\n",
            "[Parallel(n_jobs=-1)]: Done 100 out of 100 | elapsed:    1.5s finished\n",
            "[Parallel(n_jobs=2)]: Using backend ThreadingBackend with 2 concurrent workers.\n",
            "[Parallel(n_jobs=2)]: Done  46 tasks      | elapsed:    0.0s\n",
            "[Parallel(n_jobs=2)]: Done 100 out of 100 | elapsed:    0.0s finished\n",
            "[Parallel(n_jobs=-1)]: Using backend LokyBackend with 2 concurrent workers.\n",
            "[Parallel(n_jobs=-1)]: Done 100 out of 100 | elapsed:    2.8s finished\n",
            "[Parallel(n_jobs=2)]: Using backend ThreadingBackend with 2 concurrent workers.\n",
            "[Parallel(n_jobs=2)]: Done  46 tasks      | elapsed:    0.0s\n",
            "[Parallel(n_jobs=2)]: Done 100 out of 100 | elapsed:    0.0s finished\n",
            "[Parallel(n_jobs=-1)]: Using backend LokyBackend with 2 concurrent workers.\n",
            "[Parallel(n_jobs=-1)]: Done 100 out of 100 | elapsed:    2.8s finished\n",
            "[Parallel(n_jobs=2)]: Using backend ThreadingBackend with 2 concurrent workers.\n",
            "[Parallel(n_jobs=2)]: Done  46 tasks      | elapsed:    0.0s\n",
            "[Parallel(n_jobs=2)]: Done 100 out of 100 | elapsed:    0.0s finished\n",
            "[Parallel(n_jobs=-1)]: Using backend LokyBackend with 2 concurrent workers.\n",
            "[Parallel(n_jobs=-1)]: Done 100 out of 100 | elapsed:    2.8s finished\n",
            "[Parallel(n_jobs=2)]: Using backend ThreadingBackend with 2 concurrent workers.\n",
            "[Parallel(n_jobs=2)]: Done  46 tasks      | elapsed:    0.0s\n",
            "[Parallel(n_jobs=2)]: Done 100 out of 100 | elapsed:    0.0s finished\n",
            "[Parallel(n_jobs=-1)]: Using backend LokyBackend with 2 concurrent workers.\n",
            "[Parallel(n_jobs=-1)]: Done 100 out of 100 | elapsed:    2.7s finished\n",
            "[Parallel(n_jobs=2)]: Using backend ThreadingBackend with 2 concurrent workers.\n",
            "[Parallel(n_jobs=2)]: Done  46 tasks      | elapsed:    0.0s\n",
            "[Parallel(n_jobs=2)]: Done 100 out of 100 | elapsed:    0.0s finished\n",
            "[Parallel(n_jobs=-1)]: Using backend LokyBackend with 2 concurrent workers.\n",
            "[Parallel(n_jobs=-1)]: Done 100 out of 100 | elapsed:    2.7s finished\n",
            "[Parallel(n_jobs=2)]: Using backend ThreadingBackend with 2 concurrent workers.\n",
            "[Parallel(n_jobs=2)]: Done  46 tasks      | elapsed:    0.0s\n",
            "[Parallel(n_jobs=2)]: Done 100 out of 100 | elapsed:    0.0s finished\n",
            "[Parallel(n_jobs=-1)]: Using backend LokyBackend with 2 concurrent workers.\n",
            "[Parallel(n_jobs=-1)]: Done 100 out of 100 | elapsed:    2.7s finished\n",
            "[Parallel(n_jobs=2)]: Using backend ThreadingBackend with 2 concurrent workers.\n",
            "[Parallel(n_jobs=2)]: Done  46 tasks      | elapsed:    0.0s\n",
            "[Parallel(n_jobs=2)]: Done 100 out of 100 | elapsed:    0.0s finished\n",
            "[Parallel(n_jobs=-1)]: Using backend LokyBackend with 2 concurrent workers.\n",
            "[Parallel(n_jobs=-1)]: Done 100 out of 100 | elapsed:    2.7s finished\n",
            "[Parallel(n_jobs=2)]: Using backend ThreadingBackend with 2 concurrent workers.\n",
            "[Parallel(n_jobs=2)]: Done  46 tasks      | elapsed:    0.0s\n",
            "[Parallel(n_jobs=2)]: Done 100 out of 100 | elapsed:    0.1s finished\n",
            "[Parallel(n_jobs=-1)]: Using backend LokyBackend with 2 concurrent workers.\n",
            "[Parallel(n_jobs=-1)]: Done 100 out of 100 | elapsed:    2.7s finished\n",
            "[Parallel(n_jobs=2)]: Using backend ThreadingBackend with 2 concurrent workers.\n",
            "[Parallel(n_jobs=2)]: Done  46 tasks      | elapsed:    0.0s\n",
            "[Parallel(n_jobs=2)]: Done 100 out of 100 | elapsed:    0.1s finished\n",
            "[Parallel(n_jobs=-1)]: Using backend LokyBackend with 2 concurrent workers.\n",
            "[Parallel(n_jobs=-1)]: Done 100 out of 100 | elapsed:    2.8s finished\n",
            "[Parallel(n_jobs=2)]: Using backend ThreadingBackend with 2 concurrent workers.\n",
            "[Parallel(n_jobs=2)]: Done  46 tasks      | elapsed:    0.0s\n",
            "[Parallel(n_jobs=2)]: Done 100 out of 100 | elapsed:    0.0s finished\n",
            "[Parallel(n_jobs=-1)]: Using backend LokyBackend with 2 concurrent workers.\n",
            "[Parallel(n_jobs=-1)]: Done 100 out of 100 | elapsed:    2.7s finished\n",
            "[Parallel(n_jobs=2)]: Using backend ThreadingBackend with 2 concurrent workers.\n",
            "[Parallel(n_jobs=2)]: Done  46 tasks      | elapsed:    0.0s\n",
            "[Parallel(n_jobs=2)]: Done 100 out of 100 | elapsed:    0.1s finished\n",
            "[Parallel(n_jobs=-1)]: Using backend LokyBackend with 2 concurrent workers.\n",
            "[Parallel(n_jobs=-1)]: Done 150 out of 150 | elapsed:    1.9s finished\n",
            "[Parallel(n_jobs=2)]: Using backend ThreadingBackend with 2 concurrent workers.\n",
            "[Parallel(n_jobs=2)]: Done  46 tasks      | elapsed:    0.0s\n",
            "[Parallel(n_jobs=2)]: Done 150 out of 150 | elapsed:    0.0s finished\n",
            "[Parallel(n_jobs=-1)]: Using backend LokyBackend with 2 concurrent workers.\n",
            "[Parallel(n_jobs=-1)]: Done 150 out of 150 | elapsed:    1.9s finished\n",
            "[Parallel(n_jobs=2)]: Using backend ThreadingBackend with 2 concurrent workers.\n",
            "[Parallel(n_jobs=2)]: Done  46 tasks      | elapsed:    0.0s\n",
            "[Parallel(n_jobs=2)]: Done 150 out of 150 | elapsed:    0.0s finished\n",
            "[Parallel(n_jobs=-1)]: Using backend LokyBackend with 2 concurrent workers.\n",
            "[Parallel(n_jobs=-1)]: Done 150 out of 150 | elapsed:    1.9s finished\n",
            "[Parallel(n_jobs=2)]: Using backend ThreadingBackend with 2 concurrent workers.\n",
            "[Parallel(n_jobs=2)]: Done  46 tasks      | elapsed:    0.0s\n",
            "[Parallel(n_jobs=2)]: Done 150 out of 150 | elapsed:    0.0s finished\n",
            "[Parallel(n_jobs=-1)]: Using backend LokyBackend with 2 concurrent workers.\n",
            "[Parallel(n_jobs=-1)]: Done 150 out of 150 | elapsed:    1.9s finished\n",
            "[Parallel(n_jobs=2)]: Using backend ThreadingBackend with 2 concurrent workers.\n",
            "[Parallel(n_jobs=2)]: Done  46 tasks      | elapsed:    0.0s\n",
            "[Parallel(n_jobs=2)]: Done 150 out of 150 | elapsed:    0.0s finished\n",
            "[Parallel(n_jobs=-1)]: Using backend LokyBackend with 2 concurrent workers.\n",
            "[Parallel(n_jobs=-1)]: Done 150 out of 150 | elapsed:    1.9s finished\n",
            "[Parallel(n_jobs=2)]: Using backend ThreadingBackend with 2 concurrent workers.\n",
            "[Parallel(n_jobs=2)]: Done  46 tasks      | elapsed:    0.0s\n",
            "[Parallel(n_jobs=2)]: Done 150 out of 150 | elapsed:    0.1s finished\n",
            "[Parallel(n_jobs=-1)]: Using backend LokyBackend with 2 concurrent workers.\n",
            "[Parallel(n_jobs=-1)]: Done 150 out of 150 | elapsed:    1.9s finished\n",
            "[Parallel(n_jobs=2)]: Using backend ThreadingBackend with 2 concurrent workers.\n",
            "[Parallel(n_jobs=2)]: Done  46 tasks      | elapsed:    0.0s\n",
            "[Parallel(n_jobs=2)]: Done 150 out of 150 | elapsed:    0.0s finished\n",
            "[Parallel(n_jobs=-1)]: Using backend LokyBackend with 2 concurrent workers.\n",
            "[Parallel(n_jobs=-1)]: Done 150 out of 150 | elapsed:    1.9s finished\n",
            "[Parallel(n_jobs=2)]: Using backend ThreadingBackend with 2 concurrent workers.\n",
            "[Parallel(n_jobs=2)]: Done  46 tasks      | elapsed:    0.0s\n",
            "[Parallel(n_jobs=2)]: Done 150 out of 150 | elapsed:    0.0s finished\n",
            "[Parallel(n_jobs=-1)]: Using backend LokyBackend with 2 concurrent workers.\n",
            "[Parallel(n_jobs=-1)]: Done 150 out of 150 | elapsed:    1.9s finished\n",
            "[Parallel(n_jobs=2)]: Using backend ThreadingBackend with 2 concurrent workers.\n",
            "[Parallel(n_jobs=2)]: Done  46 tasks      | elapsed:    0.0s\n",
            "[Parallel(n_jobs=2)]: Done 150 out of 150 | elapsed:    0.0s finished\n",
            "[Parallel(n_jobs=-1)]: Using backend LokyBackend with 2 concurrent workers.\n",
            "[Parallel(n_jobs=-1)]: Done 150 out of 150 | elapsed:    1.9s finished\n",
            "[Parallel(n_jobs=2)]: Using backend ThreadingBackend with 2 concurrent workers.\n",
            "[Parallel(n_jobs=2)]: Done  46 tasks      | elapsed:    0.0s\n",
            "[Parallel(n_jobs=2)]: Done 150 out of 150 | elapsed:    0.0s finished\n",
            "[Parallel(n_jobs=-1)]: Using backend LokyBackend with 2 concurrent workers.\n",
            "[Parallel(n_jobs=-1)]: Done 150 out of 150 | elapsed:    1.9s finished\n",
            "[Parallel(n_jobs=2)]: Using backend ThreadingBackend with 2 concurrent workers.\n",
            "[Parallel(n_jobs=2)]: Done  46 tasks      | elapsed:    0.0s\n",
            "[Parallel(n_jobs=2)]: Done 150 out of 150 | elapsed:    0.0s finished\n",
            "[Parallel(n_jobs=-1)]: Using backend LokyBackend with 2 concurrent workers.\n",
            "[Parallel(n_jobs=-1)]: Done 100 out of 100 | elapsed:    1.6s finished\n",
            "[Parallel(n_jobs=2)]: Using backend ThreadingBackend with 2 concurrent workers.\n",
            "[Parallel(n_jobs=2)]: Done  46 tasks      | elapsed:    0.0s\n",
            "[Parallel(n_jobs=2)]: Done 100 out of 100 | elapsed:    0.0s finished\n",
            "[Parallel(n_jobs=-1)]: Using backend LokyBackend with 2 concurrent workers.\n",
            "[Parallel(n_jobs=-1)]: Done 100 out of 100 | elapsed:    1.5s finished\n",
            "[Parallel(n_jobs=2)]: Using backend ThreadingBackend with 2 concurrent workers.\n",
            "[Parallel(n_jobs=2)]: Done  46 tasks      | elapsed:    0.0s\n",
            "[Parallel(n_jobs=2)]: Done 100 out of 100 | elapsed:    0.0s finished\n",
            "[Parallel(n_jobs=-1)]: Using backend LokyBackend with 2 concurrent workers.\n",
            "[Parallel(n_jobs=-1)]: Done 100 out of 100 | elapsed:    1.6s finished\n",
            "[Parallel(n_jobs=2)]: Using backend ThreadingBackend with 2 concurrent workers.\n",
            "[Parallel(n_jobs=2)]: Done  46 tasks      | elapsed:    0.0s\n",
            "[Parallel(n_jobs=2)]: Done 100 out of 100 | elapsed:    0.0s finished\n",
            "[Parallel(n_jobs=-1)]: Using backend LokyBackend with 2 concurrent workers.\n",
            "[Parallel(n_jobs=-1)]: Done 100 out of 100 | elapsed:    1.5s finished\n",
            "[Parallel(n_jobs=2)]: Using backend ThreadingBackend with 2 concurrent workers.\n",
            "[Parallel(n_jobs=2)]: Done  46 tasks      | elapsed:    0.0s\n",
            "[Parallel(n_jobs=2)]: Done 100 out of 100 | elapsed:    0.0s finished\n",
            "[Parallel(n_jobs=-1)]: Using backend LokyBackend with 2 concurrent workers.\n",
            "[Parallel(n_jobs=-1)]: Done 100 out of 100 | elapsed:    1.5s finished\n",
            "[Parallel(n_jobs=2)]: Using backend ThreadingBackend with 2 concurrent workers.\n",
            "[Parallel(n_jobs=2)]: Done  46 tasks      | elapsed:    0.0s\n",
            "[Parallel(n_jobs=2)]: Done 100 out of 100 | elapsed:    0.0s finished\n",
            "[Parallel(n_jobs=-1)]: Using backend LokyBackend with 2 concurrent workers.\n",
            "[Parallel(n_jobs=-1)]: Done 100 out of 100 | elapsed:    1.5s finished\n",
            "[Parallel(n_jobs=2)]: Using backend ThreadingBackend with 2 concurrent workers.\n",
            "[Parallel(n_jobs=2)]: Done  46 tasks      | elapsed:    0.0s\n",
            "[Parallel(n_jobs=2)]: Done 100 out of 100 | elapsed:    0.0s finished\n",
            "[Parallel(n_jobs=-1)]: Using backend LokyBackend with 2 concurrent workers.\n",
            "[Parallel(n_jobs=-1)]: Done 100 out of 100 | elapsed:    1.6s finished\n",
            "[Parallel(n_jobs=2)]: Using backend ThreadingBackend with 2 concurrent workers.\n",
            "[Parallel(n_jobs=2)]: Done  46 tasks      | elapsed:    0.0s\n",
            "[Parallel(n_jobs=2)]: Done 100 out of 100 | elapsed:    0.0s finished\n",
            "[Parallel(n_jobs=-1)]: Using backend LokyBackend with 2 concurrent workers.\n",
            "[Parallel(n_jobs=-1)]: Done 100 out of 100 | elapsed:    1.5s finished\n",
            "[Parallel(n_jobs=2)]: Using backend ThreadingBackend with 2 concurrent workers.\n",
            "[Parallel(n_jobs=2)]: Done  46 tasks      | elapsed:    0.0s\n",
            "[Parallel(n_jobs=2)]: Done 100 out of 100 | elapsed:    0.0s finished\n",
            "[Parallel(n_jobs=-1)]: Using backend LokyBackend with 2 concurrent workers.\n",
            "[Parallel(n_jobs=-1)]: Done 100 out of 100 | elapsed:    1.5s finished\n",
            "[Parallel(n_jobs=2)]: Using backend ThreadingBackend with 2 concurrent workers.\n",
            "[Parallel(n_jobs=2)]: Done  46 tasks      | elapsed:    0.0s\n",
            "[Parallel(n_jobs=2)]: Done 100 out of 100 | elapsed:    0.0s finished\n",
            "[Parallel(n_jobs=-1)]: Using backend LokyBackend with 2 concurrent workers.\n",
            "[Parallel(n_jobs=-1)]: Done 100 out of 100 | elapsed:    1.6s finished\n",
            "[Parallel(n_jobs=2)]: Using backend ThreadingBackend with 2 concurrent workers.\n",
            "[Parallel(n_jobs=2)]: Done  46 tasks      | elapsed:    0.0s\n",
            "[Parallel(n_jobs=2)]: Done 100 out of 100 | elapsed:    0.0s finished\n",
            "[Parallel(n_jobs=-1)]: Using backend ThreadingBackend with 2 concurrent workers.\n",
            "[Parallel(n_jobs=-1)]: Done  46 tasks      | elapsed:    1.3s\n",
            "[Parallel(n_jobs=-1)]: Done 100 out of 100 | elapsed:    2.9s finished\n"
          ]
        },
        {
          "output_type": "execute_result",
          "data": {
            "text/plain": [
              "{'max_depth': 10, 'max_features': 'sqrt', 'n_estimators': 100}"
            ]
          },
          "metadata": {},
          "execution_count": 36
        }
      ]
    },
    {
      "cell_type": "code",
      "metadata": {
        "colab": {
          "base_uri": "https://localhost:8080/"
        },
        "id": "khxLP8-pwUjc",
        "outputId": "98bb6aef-5b7f-4f90-b7ac-e42d7f4589cd"
      },
      "source": [
        "print(dt_random.best_params_)"
      ],
      "execution_count": null,
      "outputs": [
        {
          "output_type": "stream",
          "name": "stdout",
          "text": [
            "{'n_estimators': 100, 'max_features': 'sqrt', 'max_depth': 10}\n"
          ]
        }
      ]
    },
    {
      "cell_type": "code",
      "metadata": {
        "colab": {
          "base_uri": "https://localhost:8080/"
        },
        "id": "0w2N9wxawUlT",
        "outputId": "46b866f2-8ff0-4b57-dde8-74e72ad76607"
      },
      "source": [
        "print(dt_random.best_score_)"
      ],
      "execution_count": null,
      "outputs": [
        {
          "output_type": "stream",
          "name": "stdout",
          "text": [
            "0.9993162187281606\n"
          ]
        }
      ]
    },
    {
      "cell_type": "code",
      "metadata": {
        "colab": {
          "base_uri": "https://localhost:8080/"
        },
        "id": "jQofSPqIetnX",
        "outputId": "36d242c8-4deb-4dea-accb-ee1ad8fbbdf1"
      },
      "source": [
        "clf = RandomForestRegressor(n_estimators = 100, max_features =  'log2', max_depth =  10)\n",
        "clf.fit(x_train,y_train)"
      ],
      "execution_count": null,
      "outputs": [
        {
          "output_type": "execute_result",
          "data": {
            "text/plain": [
              "RandomForestRegressor(max_depth=10, max_features='log2')"
            ]
          },
          "metadata": {},
          "execution_count": 39
        }
      ]
    },
    {
      "cell_type": "code",
      "metadata": {
        "colab": {
          "base_uri": "https://localhost:8080/"
        },
        "id": "K1cZWDX1wUnv",
        "outputId": "1213fa06-9927-434a-e3e1-2c25bfd02720"
      },
      "source": [
        "acc = clf.score(x_train,y_train)\n",
        "\n",
        "print(\"Train R2score\" ,acc)"
      ],
      "execution_count": null,
      "outputs": [
        {
          "output_type": "stream",
          "name": "stdout",
          "text": [
            "Train R2score 0.9994895634128046\n"
          ]
        }
      ]
    },
    {
      "cell_type": "code",
      "metadata": {
        "colab": {
          "base_uri": "https://localhost:8080/"
        },
        "id": "U0Jr1HdFmL1C",
        "outputId": "41ca5b53-7196-4af3-ae2b-af42757e5d1b"
      },
      "source": [
        "pred_rf = clf.predict(x_test)\n",
        "print(\"Test r2score: \" , r2_score(y_test, pred_rf))"
      ],
      "execution_count": null,
      "outputs": [
        {
          "output_type": "stream",
          "name": "stdout",
          "text": [
            "Test r2score:  0.9993123001723877\n"
          ]
        }
      ]
    },
    {
      "cell_type": "code",
      "metadata": {
        "colab": {
          "base_uri": "https://localhost:8080/",
          "height": 345
        },
        "id": "Rm0SsbnKmL4a",
        "outputId": "9d5a1775-38a7-41ff-e2d1-fb0720a84359"
      },
      "source": [
        "plt.figure(figsize=(15, 5))\n",
        "plt.scatter(pred_rf,y_test, c =\"green\" , s = 3) \n",
        "plt.xlabel(\"prediction\") \n",
        "plt.ylabel(\"true value\") \n",
        "\n",
        "plt.title('True value vs Predicted value plot')\n",
        "ax = plt.axes()\n",
        "#ax.set_facecolor(\"black\")\n",
        "\n",
        "plt.show()"
      ],
      "execution_count": null,
      "outputs": [
        {
          "output_type": "display_data",
          "data": {
            "image/png": "[encoded data removed]",
            "text/plain": [
              "<Figure size 1080x360 with 1 Axes>"
            ]
          },
          "metadata": {}
        }
      ]
    },
    {
      "cell_type": "markdown",
      "metadata": {
        "id": "wDLsy7CfAjxu"
      },
      "source": [
        "### 3.2 Feature Interpretation"
      ]
    },
    {
      "cell_type": "code",
      "metadata": {
        "colab": {
          "base_uri": "https://localhost:8080/"
        },
        "id": "FusCDHJDcaL_",
        "outputId": "ab74328b-7cc6-487d-d815-2cdf9dc8f8d0"
      },
      "source": [
        "rf_imp = clf.feature_importances_\n",
        "print(rf_imp)"
      ],
      "execution_count": null,
      "outputs": [
        {
          "output_type": "stream",
          "name": "stdout",
          "text": [
            "[1.00752903e-04 3.35085775e-04 6.26565903e-02 3.46562200e-05\n",
            " 9.00451113e-05 1.40393857e-01 1.06073310e-01 1.01425019e-01\n",
            " 3.74735829e-01 2.13134885e-01 1.14848695e-04 1.38638581e-04\n",
            " 2.56644290e-04 1.26144754e-04 1.34716378e-04 2.48977117e-04]\n"
          ]
        }
      ]
    },
    {
      "cell_type": "code",
      "metadata": {
        "id": "kFmt6V1fhVRk"
      },
      "source": [
        "col = x_train.columns"
      ],
      "execution_count": null,
      "outputs": []
    },
    {
      "cell_type": "code",
      "metadata": {
        "colab": {
          "base_uri": "https://localhost:8080/"
        },
        "id": "EWYNNpHMiJ57",
        "outputId": "b075134f-059a-4d88-f0ad-f60355b86e4a"
      },
      "source": [
        "i = list(range(0,16))\n",
        "i"
      ],
      "execution_count": null,
      "outputs": [
        {
          "output_type": "execute_result",
          "data": {
            "text/plain": [
              "[0, 1, 2, 3, 4, 5, 6, 7, 8, 9, 10, 11, 12, 13, 14, 15]"
            ]
          },
          "metadata": {},
          "execution_count": 45
        }
      ]
    },
    {
      "cell_type": "code",
      "metadata": {
        "colab": {
          "base_uri": "https://localhost:8080/",
          "height": 345
        },
        "id": "fwna8tmwclOr",
        "outputId": "240f45b5-98fa-4363-df3b-cd0ee033efaa"
      },
      "source": [
        "plt.figure(figsize=(23, 5))\n",
        "plt.plot(rf_imp, 'r-o')\n",
        "\n",
        "default_x_ticks = range(len(rf_imp))\n",
        "plt.xticks(default_x_ticks,col)\n",
        "plt.title('Feature importance by Random Forest')\n",
        "plt.xlabel(\"Features\")\n",
        "plt.ylabel(\"Importance Score\")\n",
        "\n",
        "ax = plt.axes()\n",
        "#ax.set_facecolor(\"black\")\n",
        "ax.grid(False)\n",
        "plt.show()"
      ],
      "execution_count": null,
      "outputs": [
        {
          "output_type": "display_data",
          "data": {
            "image/png": "[encoded data removed]",
            "text/plain": [
              "<Figure size 1656x360 with 1 Axes>"
            ]
          },
          "metadata": {}
        }
      ]
    },
    {
      "cell_type": "markdown",
      "metadata": {
        "id": "m7M0IhzyuS_n"
      },
      "source": [
        "##4. Gradient Boosting Regression"
      ]
    },
    {
      "cell_type": "markdown",
      "metadata": {
        "id": "6Apzu_l1aMSL"
      },
      "source": [
        "Boosting is an ensemble learning method that combines a set of weak learners into a strong learner to minimize training errors. In boosting, a random sample of data is selected, fitted with a model and then trained sequentially—that is, each model tries to compensate for the weaknesses of its predecessor."
      ]
    },
    {
      "cell_type": "markdown",
      "metadata": {
        "id": "VqeWFU0XApvo"
      },
      "source": [
        "### 4.1 Hyperparameter Tuning"
      ]
    },
    {
      "cell_type": "markdown",
      "metadata": {
        "id": "goejcsUla62s"
      },
      "source": [
        "1. **learning_rate**\n",
        "\n",
        "  float, default=0.1.\n",
        "  \n",
        "  Learning rate shrinks the contribution of each tree by learning_rate.\n",
        "\n",
        "2. **n_estimators**\n",
        "  \n",
        "  no of estimators that are needed\n",
        "\n",
        "3. **max_features**\n",
        "  \n",
        "   The number of features to consider when looking for the best split:\n",
        "\n"
      ]
    },
    {
      "cell_type": "code",
      "metadata": {
        "id": "aw2Py4UomL7n"
      },
      "source": [
        "#what value of learning rate we choose\n",
        "learning_rate = [float(x) for x in np.linspace(0.1, 1, 5)]\n",
        "\n",
        "#no of estimators that are needed\n",
        "n_estimators = [100, 90, 150, 200]\n",
        "\n",
        "#how man features should be used in total\n",
        "max_features = ['sqrt', 'log2']\n",
        "\n",
        "# Create the grid\n",
        "dt_grid = {\n",
        "           'learning_rate' : learning_rate,\n",
        "           'max_features' : max_features,\n",
        "           'n_estimators': n_estimators}"
      ],
      "execution_count": null,
      "outputs": []
    },
    {
      "cell_type": "code",
      "metadata": {
        "colab": {
          "base_uri": "https://localhost:8080/"
        },
        "id": "Eryr-gx0mL-l",
        "outputId": "1ca9e134-5da1-4a65-c2d5-f670745c7a1b"
      },
      "source": [
        "dt_grid"
      ],
      "execution_count": null,
      "outputs": [
        {
          "output_type": "execute_result",
          "data": {
            "text/plain": [
              "{'learning_rate': [0.1, 0.325, 0.55, 0.775, 1.0],\n",
              " 'max_features': ['sqrt', 'log2'],\n",
              " 'n_estimators': [100, 90, 150, 200]}"
            ]
          },
          "metadata": {},
          "execution_count": 48
        }
      ]
    },
    {
      "cell_type": "code",
      "metadata": {
        "colab": {
          "base_uri": "https://localhost:8080/"
        },
        "id": "x_yVrI8YmMCb",
        "outputId": "719c3c39-4822-4521-bae8-1b0788529b93"
      },
      "source": [
        "from sklearn.model_selection import RandomizedSearchCV\n",
        "from sklearn.ensemble import GradientBoostingRegressor\n",
        "\n",
        "# Create the model to be tuned\n",
        "dt_base = GradientBoostingRegressor(verbose=1)\n",
        "\n",
        "# Create the random search SVR\n",
        "dt_random = RandomizedSearchCV(estimator = dt_base, param_distributions = dt_grid, \n",
        "                               n_iter = 5, cv = 10,n_jobs = -1)\n",
        "\n",
        "\n",
        "# Fit the random search model\n",
        "dt_random.fit(x_train, y_train)\n",
        "\n",
        "# View the best parameters from the random search\n",
        "dt_random.best_params_"
      ],
      "execution_count": null,
      "outputs": [
        {
          "output_type": "stream",
          "name": "stdout",
          "text": [
            "      Iter       Train Loss   Remaining Time \n",
            "         1 46274803077.6780            2.67s\n",
            "         2 19058874919.1667            2.54s\n",
            "         3  8531233061.2082            2.85s\n",
            "         4  6533782954.1094            2.82s\n",
            "         5  3753555273.0587            2.90s\n",
            "         6  3014983596.7858            2.89s\n",
            "         7  2786754580.2492            2.87s\n",
            "         8  2385912593.2736            2.77s\n",
            "         9  2181540373.0580            2.78s\n",
            "        10  2002084741.9101            2.74s\n",
            "        20  1182209239.9578            2.53s\n",
            "        30   879246246.5554            2.31s\n",
            "        40   652683087.5174            2.21s\n",
            "        50   586258005.1062            2.00s\n",
            "        60   503724598.7602            1.84s\n",
            "        70   437898313.1469            1.62s\n",
            "        80   364595817.3595            1.41s\n",
            "        90   333095478.9242            1.22s\n",
            "       100   292535220.8963            1.01s\n"
          ]
        },
        {
          "output_type": "execute_result",
          "data": {
            "text/plain": [
              "{'learning_rate': 0.55, 'max_features': 'sqrt', 'n_estimators': 150}"
            ]
          },
          "metadata": {},
          "execution_count": 49
        }
      ]
    },
    {
      "cell_type": "code",
      "metadata": {
        "colab": {
          "base_uri": "https://localhost:8080/"
        },
        "id": "2uD9QvSotG-Y",
        "outputId": "386848e9-3db8-41e3-833f-573e8c7bb714"
      },
      "source": [
        "print(dt_random.best_score_)"
      ],
      "execution_count": null,
      "outputs": [
        {
          "output_type": "stream",
          "name": "stdout",
          "text": [
            "0.9983457973888032\n"
          ]
        }
      ]
    },
    {
      "cell_type": "code",
      "metadata": {
        "colab": {
          "base_uri": "https://localhost:8080/"
        },
        "id": "5VwMUuU6tM_K",
        "outputId": "c61d1d1a-3048-40fd-b765-a4156258a773"
      },
      "source": [
        "clf = GradientBoostingRegressor(verbose=1,learning_rate = 0.325, max_features = 'log2', n_estimators = 200)\n",
        "clf.fit(x_train,y_train)"
      ],
      "execution_count": null,
      "outputs": [
        {
          "output_type": "stream",
          "name": "stdout",
          "text": [
            "      Iter       Train Loss   Remaining Time \n",
            "         1 37381691335.8117            4.66s\n",
            "         2 24196906387.3406            4.27s\n",
            "         3 15694167557.2390            4.15s\n",
            "         4 11740343516.9603            4.04s\n",
            "         5  8711368358.8329            4.05s\n",
            "         6  7040364566.1963            4.20s\n",
            "         7  5387256755.1976            4.02s\n",
            "         8  4695656554.8463            3.87s\n",
            "         9  3773194809.1071            3.92s\n",
            "        10  3049764831.8674            3.98s\n",
            "        20  1199194765.4614            3.55s\n",
            "        30   596548071.5202            3.37s\n",
            "        40   431276026.8816            3.11s\n",
            "        50   364545435.6834            2.92s\n",
            "        60   312729091.2112            2.75s\n",
            "        70   264403452.8922            2.54s\n",
            "        80   228277223.2220            2.33s\n",
            "        90   195985115.3489            2.15s\n",
            "       100   164771024.8725            1.95s\n",
            "       200    73736702.5351            0.00s\n"
          ]
        },
        {
          "output_type": "execute_result",
          "data": {
            "text/plain": [
              "GradientBoostingRegressor(learning_rate=0.325, max_features='log2',\n",
              "                          n_estimators=200, verbose=1)"
            ]
          },
          "metadata": {},
          "execution_count": 51
        }
      ]
    },
    {
      "cell_type": "code",
      "metadata": {
        "colab": {
          "base_uri": "https://localhost:8080/"
        },
        "id": "XLW2aCxVukwC",
        "outputId": "ef92ab01-6a80-4518-ecf5-8d06f560508f"
      },
      "source": [
        "acc = clf.score(x_train,y_train)\n",
        "\n",
        "print(\"r2 score on train data\", acc)"
      ],
      "execution_count": null,
      "outputs": [
        {
          "output_type": "stream",
          "name": "stdout",
          "text": [
            "r2 score on train data 0.9989116896743137\n"
          ]
        }
      ]
    },
    {
      "cell_type": "code",
      "metadata": {
        "colab": {
          "base_uri": "https://localhost:8080/"
        },
        "id": "IDvC25isukzb",
        "outputId": "3d4aa2ed-85ef-416b-e6dd-a55728e0c736"
      },
      "source": [
        "pred_gb = clf.predict(x_test)\n",
        "r2_score(y_test, pred_gb)"
      ],
      "execution_count": null,
      "outputs": [
        {
          "output_type": "execute_result",
          "data": {
            "text/plain": [
              "0.9986927131733399"
            ]
          },
          "metadata": {},
          "execution_count": 53
        }
      ]
    },
    {
      "cell_type": "code",
      "metadata": {
        "colab": {
          "base_uri": "https://localhost:8080/",
          "height": 345
        },
        "id": "H2Q23vhcuk2k",
        "outputId": "720bf1db-b4aa-4420-e975-9a5d003fb44d"
      },
      "source": [
        "plt.figure(figsize=(15, 5))\n",
        "plt.scatter(pred_gb,y_test, c =\"green\" , s = 1) \n",
        "plt.xlabel(\"prediction\") \n",
        "plt.ylabel(\"true value\") \n",
        "\n",
        "plt.title('True value vs Predicted value plot')\n",
        "ax = plt.axes()\n",
        "#ax.set_facecolor(\"black\")\n",
        "\n",
        "plt.show()"
      ],
      "execution_count": null,
      "outputs": [
        {
          "output_type": "display_data",
          "data": {
            "image/png": "[encoded data removed]",
            "text/plain": [
              "<Figure size 1080x360 with 1 Axes>"
            ]
          },
          "metadata": {}
        }
      ]
    },
    {
      "cell_type": "markdown",
      "metadata": {
        "id": "_14QY41db3yn"
      },
      "source": [
        "From the above graph we can see a distorted straight line."
      ]
    },
    {
      "cell_type": "markdown",
      "metadata": {
        "id": "e4xC27FkAyDE"
      },
      "source": [
        "### 4.2 Feature Importance"
      ]
    },
    {
      "cell_type": "code",
      "metadata": {
        "id": "bDrQMKexuk5e",
        "colab": {
          "base_uri": "https://localhost:8080/"
        },
        "outputId": "db08f02b-ac20-4636-9731-096dd74af791"
      },
      "source": [
        "gb_imp = clf.feature_importances_\n",
        "print(gb_imp)"
      ],
      "execution_count": null,
      "outputs": [
        {
          "output_type": "stream",
          "name": "stdout",
          "text": [
            "[3.32972390e-05 2.23569650e-04 4.78810821e-02 9.68313156e-08\n",
            " 5.89101817e-06 7.04758569e-02 9.65814394e-02 5.67050566e-02\n",
            " 6.30883048e-01 9.70311599e-02 1.24935649e-06 1.20590282e-05\n",
            " 5.50047808e-05 2.73798918e-06 9.04060840e-05 1.80450119e-05]\n"
          ]
        }
      ]
    },
    {
      "cell_type": "code",
      "metadata": {
        "id": "OJWrZ-Nfuk8h",
        "colab": {
          "base_uri": "https://localhost:8080/",
          "height": 345
        },
        "outputId": "e5d68046-8f4f-4bea-be7a-bfc93ed34d89"
      },
      "source": [
        "plt.figure(figsize=(23, 5))\n",
        "plt.plot(gb_imp, 'r-o')\n",
        "\n",
        "default_x_ticks = range(len(gb_imp))\n",
        "plt.xticks(default_x_ticks,col)\n",
        "plt.title('Feature importance by Gradient Boosting')\n",
        "plt.xlabel(\"Features\")\n",
        "plt.ylabel(\"Importance Score\")\n",
        "\n",
        "ax = plt.axes()\n",
        "#ax.set_facecolor(\"black\")\n",
        "ax.grid(False)\n",
        "plt.show()"
      ],
      "execution_count": null,
      "outputs": [
        {
          "output_type": "display_data",
          "data": {
            "image/png": "[encoded data removed]",
            "text/plain": [
              "<Figure size 1656x360 with 1 Axes>"
            ]
          },
          "metadata": {}
        }
      ]
    },
    {
      "cell_type": "markdown",
      "metadata": {
        "id": "lMB3mE_B1V-Q"
      },
      "source": [
        "##5. Ridge Regression\n"
      ]
    },
    {
      "cell_type": "markdown",
      "metadata": {
        "id": "jKGkbxpqeCwA"
      },
      "source": [
        "This model solves a regression model where the loss function is the linear least squares function and regularization is given by the l2-norm. "
      ]
    },
    {
      "cell_type": "markdown",
      "metadata": {
        "id": "0fj-YjgiA7AJ"
      },
      "source": [
        "### 5.1 Hyperparameter Tuning "
      ]
    },
    {
      "cell_type": "code",
      "metadata": {
        "id": "4ePjSR8b1Yp-",
        "colab": {
          "base_uri": "https://localhost:8080/"
        },
        "outputId": "60514df7-bc7f-4feb-a534-9593e53172ef"
      },
      "source": [
        "from sklearn.linear_model import Ridge\n",
        "alpha = [float(x) for x in np.linspace(1.5, 2, 5)] \n",
        "\n",
        "r2_score_array=[]\n",
        "for i in alpha:\n",
        "    clf = Ridge(alpha=i)\n",
        "    clf.fit(x_train, y_train)\n",
        "    r2_score_array.append(clf.score(x_train,y_train))\n",
        "    predict_y = clf.predict(x_test)\n",
        "    print('For values of alpha = ', i, \"The r2score on test data is:\",r2_score(y_test, predict_y))"
      ],
      "execution_count": null,
      "outputs": [
        {
          "output_type": "stream",
          "name": "stdout",
          "text": [
            "For values of alpha =  1.5 The r2score on test data is: 0.9987896280760963\n",
            "For values of alpha =  1.625 The r2score on test data is: 0.998621786635691\n",
            "For values of alpha =  1.75 The r2score on test data is: 0.9984483023497439\n",
            "For values of alpha =  1.875 The r2score on test data is: 0.9982698064281301\n",
            "For values of alpha =  2.0 The r2score on test data is: 0.998086865426048\n"
          ]
        }
      ]
    },
    {
      "cell_type": "code",
      "metadata": {
        "colab": {
          "base_uri": "https://localhost:8080/"
        },
        "id": "wegHhuNq4Rlo",
        "outputId": "b87fa29c-a402-4f95-d587-0ea17134cf4a"
      },
      "source": [
        "best_alpha = np.argmax(r2_score_array)\n",
        "print(alpha[best_alpha])"
      ],
      "execution_count": null,
      "outputs": [
        {
          "output_type": "stream",
          "name": "stdout",
          "text": [
            "1.5\n"
          ]
        }
      ]
    },
    {
      "cell_type": "code",
      "metadata": {
        "id": "icH0jyfQJMHD",
        "colab": {
          "base_uri": "https://localhost:8080/"
        },
        "outputId": "1af1610f-b6f0-4234-bc7f-48915b1b9d6d"
      },
      "source": [
        "clf = Ridge(alpha = 0.5)\n",
        "reg = clf.fit(x_train, y_train)\n",
        "pred = reg.predict(x_test)\n",
        "acc = reg.score(x_train,y_train)\n",
        "print(\"r2_score on train data\",acc)"
      ],
      "execution_count": null,
      "outputs": [
        {
          "output_type": "stream",
          "name": "stdout",
          "text": [
            "r2_score on train data 0.999825050679509\n"
          ]
        }
      ]
    },
    {
      "cell_type": "code",
      "metadata": {
        "id": "1zOMDuEwr4j4",
        "colab": {
          "base_uri": "https://localhost:8080/"
        },
        "outputId": "1a9fde5f-1644-4b0c-9045-8f71945ba22f"
      },
      "source": [
        "print(\"r2_score on test data\", r2_score(y_test, pred))"
      ],
      "execution_count": null,
      "outputs": [
        {
          "output_type": "stream",
          "name": "stdout",
          "text": [
            "r2_score on test data 0.9998247233920747\n"
          ]
        }
      ]
    },
    {
      "cell_type": "code",
      "metadata": {
        "id": "bHpWGtk8rRec",
        "colab": {
          "base_uri": "https://localhost:8080/",
          "height": 345
        },
        "outputId": "a0009623-3ae5-4a7e-9adf-e5a997700977"
      },
      "source": [
        "plt.figure(figsize=(15, 5))\n",
        "plt.scatter(pred,y_test, c =\"green\" , s = 1) \n",
        "plt.xlabel(\"prediction\") \n",
        "plt.ylabel(\"true value\") \n",
        "\n",
        "plt.title('True value vs Predicted value plot')\n",
        "ax = plt.axes()\n",
        "#ax.set_facecolor(\"black\")\n",
        "\n",
        "plt.show()"
      ],
      "execution_count": null,
      "outputs": [
        {
          "output_type": "display_data",
          "data": {
            "image/png": "[encoded data removed]",
            "text/plain": [
              "<Figure size 1080x360 with 1 Axes>"
            ]
          },
          "metadata": {}
        }
      ]
    },
    {
      "cell_type": "markdown",
      "metadata": {
        "id": "lPxWskHPeRBh"
      },
      "source": [
        "We can see a straight line but its distorted at the ends of line "
      ]
    },
    {
      "cell_type": "markdown",
      "metadata": {
        "id": "GrLuGoKkA_sN"
      },
      "source": [
        "### 5.2 Feature Importance"
      ]
    },
    {
      "cell_type": "code",
      "metadata": {
        "id": "OEIgBhZ3o8VS"
      },
      "source": [
        "importance = reg.coef_"
      ],
      "execution_count": null,
      "outputs": []
    },
    {
      "cell_type": "code",
      "metadata": {
        "colab": {
          "base_uri": "https://localhost:8080/",
          "height": 345
        },
        "id": "93DLEXhbGNBv",
        "outputId": "d3b688ba-59c1-4164-c3da-c1335f81ee9a"
      },
      "source": [
        "plt.figure(figsize=(23, 5))\n",
        "plt.plot(importance, 'r-o')\n",
        "\n",
        "default_x_ticks = range(len(importance))\n",
        "plt.xticks(default_x_ticks,col)\n",
        "plt.title('Feature importance by Ridge Regression')\n",
        "plt.xlabel(\"Features\")\n",
        "plt.ylabel(\"Importance Score\")\n",
        "\n",
        "ax = plt.axes()\n",
        "#ax.set_facecolor(\"black\")\n",
        "ax.grid(False)\n",
        "plt.show()"
      ],
      "execution_count": null,
      "outputs": [
        {
          "output_type": "display_data",
          "data": {
            "image/png": "[encoded data removed]",
            "text/plain": [
              "<Figure size 1656x360 with 1 Axes>"
            ]
          },
          "metadata": {}
        }
      ]
    },
    {
      "cell_type": "markdown",
      "metadata": {
        "id": "KO5J0or84pvu"
      },
      "source": [
        "## 6. Decision Trees"
      ]
    },
    {
      "cell_type": "markdown",
      "metadata": {
        "id": "5wb7QfkHfIdV"
      },
      "source": [
        "Decision tree builds regression or classification models in the form of a tree structure. It breaks down a dataset into smaller and smaller subsets while at the same time an associated decision tree is incrementally developed. The final result is a tree with decision nodes and leaf nodes."
      ]
    },
    {
      "cell_type": "markdown",
      "metadata": {
        "id": "KfaH25owBGdB"
      },
      "source": [
        "### 6.1 Hyperparameter Tuning "
      ]
    },
    {
      "cell_type": "markdown",
      "metadata": {
        "id": "XZjhHY15fzkx"
      },
      "source": [
        "1. **max_depth** - \n",
        "   int, default=None. \n",
        "   The maximum depth of the tree.\n",
        "\n",
        "2. **max_features** - \n",
        "   The number of features to consider when looking for the best split.\n",
        "\n",
        "3. **min_samples_split** - \n",
        "   The minimum number of samples required to split an internal node\n",
        "  \n",
        "4. **min_impurity_decrease** - float, default=0.0 . \n",
        "A node will be split if this split induces a decrease of the impurity greater than or equal to this value.\n"
      ]
    },
    {
      "cell_type": "code",
      "metadata": {
        "id": "wHGbp5_PGNEl"
      },
      "source": [
        "#depth of treeS\n",
        "max_depth = [int(x) for x in np.linspace(5,55,11)]\n",
        "max_depth.append(None)\n",
        "\n",
        "#maximum features to consider at every split\n",
        "max_features = ['auto', 'sqrt', 'log2', None]\n",
        "                 \n",
        "\n",
        "# Minimum number of samples required to split a node\n",
        "min_samples_split = [int(x) for x in np.linspace(50, 100, 10)]\n",
        "\n",
        "# Minimum decrease in impurity required for split to happen\n",
        "min_impurity_decrease = [0.0, 0.05, 0.1]\n",
        "\n",
        "\n",
        "# Create the grid\n",
        "dt_grid = {'max_depth': max_depth,\n",
        "           'max_features': max_features,\n",
        "           'min_samples_split': min_samples_split,\n",
        "           'min_impurity_decrease': min_impurity_decrease,\n",
        "          }"
      ],
      "execution_count": null,
      "outputs": []
    },
    {
      "cell_type": "code",
      "metadata": {
        "colab": {
          "base_uri": "https://localhost:8080/"
        },
        "id": "9wxg1MbzGNIA",
        "outputId": "3087a91f-6e24-43ca-d24d-0f211e9f6502"
      },
      "source": [
        "dt_grid"
      ],
      "execution_count": null,
      "outputs": [
        {
          "output_type": "execute_result",
          "data": {
            "text/plain": [
              "{'max_depth': [5, 10, 15, 20, 25, 30, 35, 40, 45, 50, 55, None],\n",
              " 'max_features': ['auto', 'sqrt', 'log2', None],\n",
              " 'min_impurity_decrease': [0.0, 0.05, 0.1],\n",
              " 'min_samples_split': [50, 55, 61, 66, 72, 77, 83, 88, 94, 100]}"
            ]
          },
          "metadata": {},
          "execution_count": 66
        }
      ]
    },
    {
      "cell_type": "code",
      "metadata": {
        "colab": {
          "base_uri": "https://localhost:8080/"
        },
        "id": "OJdYCg1p5PLd",
        "outputId": "042e874e-fd42-408e-d2c7-4ae29943d097"
      },
      "source": [
        "from sklearn.tree import DecisionTreeRegressor\n",
        "from sklearn.model_selection import RandomizedSearchCV\n",
        "\n",
        "# Create the model to be tuned\n",
        "dt_base = DecisionTreeRegressor()\n",
        "\n",
        "# Create the random search Random Forest\n",
        "dt_random = RandomizedSearchCV(estimator = dt_base, param_distributions = dt_grid, \n",
        "                               n_iter = 200, cv = 3, verbose = 2, random_state = 42, \n",
        "                               n_jobs = -1)\n",
        "\n",
        "# Fit the random search model\n",
        "dt_random.fit(x_train, y_train)\n",
        "\n",
        "# View the best parameters from the random search\n",
        "dt_random.best_params_"
      ],
      "execution_count": null,
      "outputs": [
        {
          "output_type": "stream",
          "name": "stdout",
          "text": [
            "Fitting 3 folds for each of 200 candidates, totalling 600 fits\n"
          ]
        },
        {
          "output_type": "execute_result",
          "data": {
            "text/plain": [
              "{'max_depth': 20,\n",
              " 'max_features': 'auto',\n",
              " 'min_impurity_decrease': 0.05,\n",
              " 'min_samples_split': 50}"
            ]
          },
          "metadata": {},
          "execution_count": 67
        }
      ]
    },
    {
      "cell_type": "code",
      "metadata": {
        "colab": {
          "base_uri": "https://localhost:8080/"
        },
        "id": "9_QQsOXX5PTJ",
        "outputId": "1a21a9f3-c6df-40ce-e883-989da5b013fc"
      },
      "source": [
        "dt = DecisionTreeRegressor(max_depth =  15,max_features = 'auto', min_impurity_decrease = 0.0, min_samples_split = 50)\n",
        "dt.fit(x_train,y_train)"
      ],
      "execution_count": null,
      "outputs": [
        {
          "output_type": "execute_result",
          "data": {
            "text/plain": [
              "DecisionTreeRegressor(max_depth=15, max_features='auto', min_samples_split=50)"
            ]
          },
          "metadata": {},
          "execution_count": 68
        }
      ]
    },
    {
      "cell_type": "code",
      "metadata": {
        "colab": {
          "base_uri": "https://localhost:8080/"
        },
        "id": "7Tzohm6M5Pf4",
        "outputId": "ee48f96b-1f81-4c01-92e9-ca42e7c772d0"
      },
      "source": [
        "print('r2 score on train data', dt.score(x_train,y_train))"
      ],
      "execution_count": null,
      "outputs": [
        {
          "output_type": "stream",
          "name": "stdout",
          "text": [
            "r2 score on train data 0.9998877435990924\n"
          ]
        }
      ]
    },
    {
      "cell_type": "code",
      "metadata": {
        "colab": {
          "base_uri": "https://localhost:8080/"
        },
        "id": "UVsXeOj75Pp4",
        "outputId": "a1c2c1f8-c092-4838-c306-58163af56bc9"
      },
      "source": [
        "pred_dt = dt.predict(x_test)\n",
        "print('r2 score on test data', r2_score(pred_dt,y_test))"
      ],
      "execution_count": null,
      "outputs": [
        {
          "output_type": "stream",
          "name": "stdout",
          "text": [
            "r2 score on test data 0.9998731512723882\n"
          ]
        }
      ]
    },
    {
      "cell_type": "code",
      "metadata": {
        "colab": {
          "base_uri": "https://localhost:8080/",
          "height": 345
        },
        "id": "Qb_GT8P47orb",
        "outputId": "6846a8f5-4cce-4b4f-8108-08fa042ef447"
      },
      "source": [
        "plt.figure(figsize=(15, 5))\n",
        "plt.scatter(pred_dt,y_test, c =\"green\" , s = 1) \n",
        "plt.xlabel(\"prediction\") \n",
        "plt.ylabel(\"true value\") \n",
        "\n",
        "plt.title('True value vs Predicted value plot')\n",
        "ax = plt.axes()\n",
        "#ax.set_facecolor(\"black\")\n",
        "\n",
        "plt.show()"
      ],
      "execution_count": null,
      "outputs": [
        {
          "output_type": "display_data",
          "data": {
            "image/png": "[encoded data removed]",
            "text/plain": [
              "<Figure size 1080x360 with 1 Axes>"
            ]
          },
          "metadata": {}
        }
      ]
    },
    {
      "cell_type": "markdown",
      "metadata": {
        "id": "zaIEEG36hdPO"
      },
      "source": [
        "We can see almost perfect straight line between true_value and predicted_values.\n",
        "\n",
        "Decision Trees are performing very well"
      ]
    },
    {
      "cell_type": "markdown",
      "metadata": {
        "id": "dy-x5K0zBNyV"
      },
      "source": [
        "### 6.2 Feature Importance"
      ]
    },
    {
      "cell_type": "code",
      "metadata": {
        "colab": {
          "base_uri": "https://localhost:8080/"
        },
        "id": "kPpHA_O576wL",
        "outputId": "a5eabf30-b2e0-4ede-8a85-10500ab43d9c"
      },
      "source": [
        "dt_imp = dt.feature_importances_\n",
        "print(dt_imp)"
      ],
      "execution_count": null,
      "outputs": [
        {
          "output_type": "stream",
          "name": "stdout",
          "text": [
            "[0.         0.         0.01242987 0.         0.         0.02178319\n",
            " 0.00482541 0.08589696 0.8590346  0.01602997 0.         0.\n",
            " 0.         0.         0.         0.        ]\n"
          ]
        }
      ]
    },
    {
      "cell_type": "code",
      "metadata": {
        "id": "-aBxEKHwMh-T"
      },
      "source": [
        "col = x_train.columns"
      ],
      "execution_count": null,
      "outputs": []
    },
    {
      "cell_type": "code",
      "metadata": {
        "colab": {
          "base_uri": "https://localhost:8080/",
          "height": 345
        },
        "id": "Aphp4bWz7u7w",
        "outputId": "90b6a524-d9dd-4eb1-f1da-031242fda219"
      },
      "source": [
        "plt.figure(figsize=(23, 5))\n",
        "plt.plot(dt_imp, 'r-o')\n",
        "\n",
        "default_x_ticks = range(len(dt_imp))\n",
        "plt.xticks(default_x_ticks,col)\n",
        "plt.title('Feature importance by Decision Trees')\n",
        "plt.xlabel(\"Features\")\n",
        "plt.ylabel(\"Importance Score\")\n",
        "\n",
        "ax = plt.axes()\n",
        "#ax.set_facecolor(\"black\")\n",
        "ax.grid(False)\n",
        "plt.show()"
      ],
      "execution_count": null,
      "outputs": [
        {
          "output_type": "display_data",
          "data": {
            "image/png": "[encoded data removed]",
            "text/plain": [
              "<Figure size 1656x360 with 1 Axes>"
            ]
          },
          "metadata": {}
        }
      ]
    },
    {
      "cell_type": "markdown",
      "metadata": {
        "id": "4Kf1Fi73_cxi"
      },
      "source": [
        "## Stacking Regression Models"
      ]
    },
    {
      "cell_type": "markdown",
      "metadata": {
        "id": "GSY3SoiDh7kf"
      },
      "source": [
        "Stacking or Stacked Generalization is an ensemble machine learning algorithm.\n",
        "\n",
        "It uses a meta-learning algorithm to learn how to best combine the predictions from two or more base machine learning algorithms.\n",
        "\n",
        "The benefit of stacking is that it can harness the capabilities of a range of well-performing models on a classification or regression task and make predictions that have better performance than any single model in the ensemble."
      ]
    },
    {
      "cell_type": "code",
      "metadata": {
        "id": "HxYJXY5l_fTh"
      },
      "source": [
        "from sklearn.ensemble import StackingRegressor\n",
        "estimators = [('svr',svr),('knr', knr),('dt',dt)]\n",
        "\n",
        "stack = StackingRegressor(estimators = estimators, final_estimator = clf)"
      ],
      "execution_count": null,
      "outputs": []
    },
    {
      "cell_type": "code",
      "metadata": {
        "colab": {
          "base_uri": "https://localhost:8080/"
        },
        "id": "i0XKNK56_f3v",
        "outputId": "eafbef5a-74b1-49f1-aa8d-752288bca9e3"
      },
      "source": [
        "stack.fit(x_train,y_train)"
      ],
      "execution_count": null,
      "outputs": [
        {
          "output_type": "execute_result",
          "data": {
            "text/plain": [
              "StackingRegressor(estimators=[('svr',\n",
              "                               SVR(C=3.0, degree=6, epsilon=0.5,\n",
              "                                   kernel='poly')),\n",
              "                              ('knr',\n",
              "                               KNeighborsRegressor(leaf_size=40, n_neighbors=7,\n",
              "                                                   p=1, weights='distance')),\n",
              "                              ('dt',\n",
              "                               DecisionTreeRegressor(max_depth=15,\n",
              "                                                     max_features='auto',\n",
              "                                                     min_samples_split=50))],\n",
              "                  final_estimator=Ridge(alpha=0.5))"
            ]
          },
          "metadata": {},
          "execution_count": 76
        }
      ]
    },
    {
      "cell_type": "code",
      "metadata": {
        "colab": {
          "base_uri": "https://localhost:8080/"
        },
        "id": "C038ZcMJbGh3",
        "outputId": "dfc5a18f-ea99-4514-be92-9a1e734d4322"
      },
      "source": [
        "pred_stack = stack.predict(x_test)\n",
        "r2_score(pred_stack,y_test)"
      ],
      "execution_count": null,
      "outputs": [
        {
          "output_type": "execute_result",
          "data": {
            "text/plain": [
              "0.999872984611879"
            ]
          },
          "metadata": {},
          "execution_count": 77
        }
      ]
    },
    {
      "cell_type": "code",
      "metadata": {
        "colab": {
          "base_uri": "https://localhost:8080/"
        },
        "id": "gfYRaoxidxpr",
        "outputId": "2e14070d-f623-4ab9-f9b5-8e0ce46002d3"
      },
      "source": [
        "stack.score(x_train,y_train)"
      ],
      "execution_count": null,
      "outputs": [
        {
          "output_type": "execute_result",
          "data": {
            "text/plain": [
              "0.9998883867825368"
            ]
          },
          "metadata": {},
          "execution_count": 78
        }
      ]
    },
    {
      "cell_type": "code",
      "metadata": {
        "colab": {
          "base_uri": "https://localhost:8080/",
          "height": 345
        },
        "id": "SkKnsRjseDhX",
        "outputId": "d501a239-763f-4dde-be8d-ebf79e104dc8"
      },
      "source": [
        "plt.figure(figsize=(15, 5))\n",
        "plt.scatter(pred_stack,y_test, c =\"green\" , s = 1) \n",
        "plt.xlabel(\"prediction\") \n",
        "plt.ylabel(\"true value\") \n",
        "\n",
        "plt.title('True value vs Predicted value plot')\n",
        "ax = plt.axes()\n",
        "#ax.set_facecolor(\"black\")\n",
        "\n",
        "plt.show()"
      ],
      "execution_count": null,
      "outputs": [
        {
          "output_type": "display_data",
          "data": {
            "image/png": "[encoded data removed]",
            "text/plain": [
              "<Figure size 1080x360 with 1 Axes>"
            ]
          },
          "metadata": {}
        }
      ]
    },
    {
      "cell_type": "markdown",
      "metadata": {
        "id": "dcuTcxHaim1Y"
      },
      "source": [
        "We can see almost straight line in the above graph. Therefore, stacking also performs good. "
      ]
    },
    {
      "cell_type": "markdown",
      "metadata": {
        "id": "shRBI6VDwiEE"
      },
      "source": [
        "## Voting Ensemble"
      ]
    },
    {
      "cell_type": "markdown",
      "metadata": {
        "id": "dYWEh4lXjBf_"
      },
      "source": [
        "A voting ensemble works by combining the predictions from multiple models. It can be used for classification or regression.\n",
        "\n",
        "In the case of regression, this involves calculating the average of the predictions from the models. \n",
        "\n",
        "In the case of classification, the predictions for each label are summed and the label with the majority vote is predicted."
      ]
    },
    {
      "cell_type": "code",
      "metadata": {
        "id": "Mcf3SuXVeiMF"
      },
      "source": [
        "from sklearn.ensemble import VotingRegressor\n",
        "VR = VotingRegressor([('lr', clf), ('svr', svr),('knn',knr),('dt',dt)], n_jobs = -1)"
      ],
      "execution_count": null,
      "outputs": []
    },
    {
      "cell_type": "code",
      "metadata": {
        "colab": {
          "base_uri": "https://localhost:8080/"
        },
        "id": "fQ6yAhhTzBEk",
        "outputId": "09bccace-9762-4cca-96f0-947729785ca2"
      },
      "source": [
        "VR.fit(x_train,y_train)\n",
        "VR.score(x_train,y_train)"
      ],
      "execution_count": null,
      "outputs": [
        {
          "output_type": "execute_result",
          "data": {
            "text/plain": [
              "0.9732322944647609"
            ]
          },
          "metadata": {},
          "execution_count": 81
        }
      ]
    },
    {
      "cell_type": "code",
      "metadata": {
        "colab": {
          "base_uri": "https://localhost:8080/"
        },
        "id": "mhMC_vhSzH4N",
        "outputId": "b9d3059c-75e6-42b8-9913-53de8dafdd00"
      },
      "source": [
        "pred_vr = VR.predict(x_test)\n",
        "r2_score(pred_vr,y_test)"
      ],
      "execution_count": null,
      "outputs": [
        {
          "output_type": "execute_result",
          "data": {
            "text/plain": [
              "0.9508427235081537"
            ]
          },
          "metadata": {},
          "execution_count": 82
        }
      ]
    },
    {
      "cell_type": "code",
      "metadata": {
        "colab": {
          "base_uri": "https://localhost:8080/",
          "height": 345
        },
        "id": "0w-Un_uaz23g",
        "outputId": "69ff57b7-4280-4496-9c42-cf1b3d417a16"
      },
      "source": [
        "plt.figure(figsize=(15, 5))\n",
        "plt.scatter(pred_vr,y_test, c =\"green\" , s = 1) \n",
        "plt.xlabel(\"prediction\") \n",
        "plt.ylabel(\"true value\") \n",
        "\n",
        "plt.title('True value vs Predicted value plot')\n",
        "ax = plt.axes()\n",
        "#ax.set_facecolor(\"black\")\n",
        "\n",
        "\n",
        "plt.show()"
      ],
      "execution_count": null,
      "outputs": [
        {
          "output_type": "display_data",
          "data": {
            "image/png": "[encoded data removed]",
            "text/plain": [
              "<Figure size 1080x360 with 1 Axes>"
            ]
          },
          "metadata": {}
        }
      ]
    },
    {
      "cell_type": "markdown",
      "metadata": {
        "id": "pPWsfQ88jdml"
      },
      "source": [
        "Voting Ensemble model doesn't perform that well on unseen data as evident from the above graph"
      ]
    },
    {
      "cell_type": "code",
      "metadata": {
        "id": "j52_gcHJ0wBo"
      },
      "source": [
        ""
      ],
      "execution_count": null,
      "outputs": []
    },
    {
      "cell_type": "markdown",
      "metadata": {
        "id": "U5LY1XkvNbBm"
      },
      "source": [
        "### Save the best model for Deployment"
      ]
    },
    {
      "cell_type": "markdown",
      "metadata": {
        "id": "6-id5-YKjpUN"
      },
      "source": [
        "The two best models which we got are \n",
        "1. Decision Trees Regressor\n",
        "2. Stacking Regressor \n",
        "\n",
        "We choose to deploy Decision Tree Regressor model over Stacking Regressor because they are interpretable and less complex when compared with Stacking Regressor"
      ]
    },
    {
      "cell_type": "code",
      "metadata": {
        "id": "KMEqqjK0ODBE"
      },
      "source": [
        "import pickle"
      ],
      "execution_count": null,
      "outputs": []
    },
    {
      "cell_type": "code",
      "metadata": {
        "id": "4i630euOM1BI"
      },
      "source": [
        "pickle.dump(dt,open('/content/drive/MyDrive/salesprofit_predictionmodel.pkl' , 'wb'))"
      ],
      "execution_count": null,
      "outputs": []
    },
    {
      "cell_type": "code",
      "metadata": {
        "colab": {
          "base_uri": "https://localhost:8080/",
          "height": 130
        },
        "id": "3vV5WSFZO2by",
        "outputId": "07e551a4-81a2-4130-bd06-98e8c81a32fc"
      },
      "source": [
        "df.head(2)"
      ],
      "execution_count": null,
      "outputs": [
        {
          "output_type": "execute_result",
          "data": {
            "text/html": [
              "<div>\n",
              "<style scoped>\n",
              "    .dataframe tbody tr th:only-of-type {\n",
              "        vertical-align: middle;\n",
              "    }\n",
              "\n",
              "    .dataframe tbody tr th {\n",
              "        vertical-align: top;\n",
              "    }\n",
              "\n",
              "    .dataframe thead th {\n",
              "        text-align: right;\n",
              "    }\n",
              "</style>\n",
              "<table border=\"1\" class=\"dataframe\">\n",
              "  <thead>\n",
              "    <tr style=\"text-align: right;\">\n",
              "      <th></th>\n",
              "      <th>Region</th>\n",
              "      <th>Country</th>\n",
              "      <th>Item Type</th>\n",
              "      <th>Sales Channel</th>\n",
              "      <th>Order Priority</th>\n",
              "      <th>Units Sold</th>\n",
              "      <th>Unit Price</th>\n",
              "      <th>Unit Cost</th>\n",
              "      <th>Total Revenue</th>\n",
              "      <th>Total Cost</th>\n",
              "      <th>Total Profit</th>\n",
              "      <th>Order Date_year</th>\n",
              "      <th>Order Date_month</th>\n",
              "      <th>Order Date_day</th>\n",
              "      <th>Ship Date_year</th>\n",
              "      <th>Ship Date_month</th>\n",
              "      <th>Ship Date_day</th>\n",
              "    </tr>\n",
              "  </thead>\n",
              "  <tbody>\n",
              "    <tr>\n",
              "      <th>0</th>\n",
              "      <td>0</td>\n",
              "      <td>Namibia</td>\n",
              "      <td>0</td>\n",
              "      <td>0</td>\n",
              "      <td>2</td>\n",
              "      <td>3604</td>\n",
              "      <td>668.27</td>\n",
              "      <td>502.54</td>\n",
              "      <td>2408445.08</td>\n",
              "      <td>1811154.16</td>\n",
              "      <td>597290.92</td>\n",
              "      <td>2015</td>\n",
              "      <td>8</td>\n",
              "      <td>31</td>\n",
              "      <td>2015</td>\n",
              "      <td>10</td>\n",
              "      <td>12</td>\n",
              "    </tr>\n",
              "    <tr>\n",
              "      <th>1</th>\n",
              "      <td>1</td>\n",
              "      <td>Iceland</td>\n",
              "      <td>11</td>\n",
              "      <td>1</td>\n",
              "      <td>3</td>\n",
              "      <td>8435</td>\n",
              "      <td>255.28</td>\n",
              "      <td>159.42</td>\n",
              "      <td>2153286.80</td>\n",
              "      <td>1344707.70</td>\n",
              "      <td>808579.10</td>\n",
              "      <td>2010</td>\n",
              "      <td>11</td>\n",
              "      <td>20</td>\n",
              "      <td>2011</td>\n",
              "      <td>1</td>\n",
              "      <td>9</td>\n",
              "    </tr>\n",
              "  </tbody>\n",
              "</table>\n",
              "</div>"
            ],
            "text/plain": [
              "   Region  Country  Item Type  ...  Ship Date_year  Ship Date_month  Ship Date_day\n",
              "0       0  Namibia          0  ...            2015               10             12\n",
              "1       1  Iceland         11  ...            2011                1              9\n",
              "\n",
              "[2 rows x 17 columns]"
            ]
          },
          "metadata": {},
          "execution_count": 38
        }
      ]
    },
    {
      "cell_type": "markdown",
      "metadata": {
        "id": "vQJYpWybkspx"
      },
      "source": [
        "We can see our saved model giving prediction when given feature values"
      ]
    },
    {
      "cell_type": "code",
      "metadata": {
        "id": "KXm-_iO7MP8r"
      },
      "source": [
        "model = pickle.load(open('/content/drive/MyDrive/salesprofit_predictionmodel.pkl','rb'))"
      ],
      "execution_count": null,
      "outputs": []
    },
    {
      "cell_type": "code",
      "metadata": {
        "id": "DXVCf3EAPY9h",
        "colab": {
          "base_uri": "https://localhost:8080/"
        },
        "outputId": "b8c139e4-ee65-4056-c4c1-0e023c4542b7"
      },
      "source": [
        "print(model.predict([[0.166667,0.489130,0.363636,1.0,0.000000,0.594559,0.219641,0.162169,0.292737,0.199879,0.428571,0.181818,0.333333,0.428571,0.272727,0.066667]]))"
      ],
      "execution_count": null,
      "outputs": [
        {
          "output_type": "stream",
          "name": "stdout",
          "text": [
            "[377723.88770833]\n"
          ]
        }
      ]
    },
    {
      "cell_type": "code",
      "source": [
        "print(model.predict([[0,0,0,0,0,0,0,0,0,10,0,0,0,0,0,0]]))"
      ],
      "metadata": {
        "id": "dgyQzmtbi4Ut",
        "colab": {
          "base_uri": "https://localhost:8080/"
        },
        "outputId": "11dc719f-d9ad-4b07-f172-590b018c6c01"
      },
      "execution_count": null,
      "outputs": [
        {
          "output_type": "stream",
          "name": "stdout",
          "text": [
            "[231.10731707]\n"
          ]
        }
      ]
    },
    {
      "cell_type": "code",
      "source": [
        ""
      ],
      "metadata": {
        "id": "Xc8Sr7djsupP"
      },
      "execution_count": null,
      "outputs": []
    }
  ]
}